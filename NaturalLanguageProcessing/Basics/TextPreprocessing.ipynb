{
  "nbformat": 4,
  "nbformat_minor": 0,
  "metadata": {
    "colab": {
      "name": "TextPreprocessing.ipynb",
      "provenance": [],
      "collapsed_sections": [],
      "authorship_tag": "ABX9TyOe7KuZcxwX3gWBNZRFucbg",
      "include_colab_link": true
    },
    "kernelspec": {
      "name": "python3",
      "display_name": "Python 3"
    },
    "language_info": {
      "name": "python"
    }
  },
  "cells": [
    {
      "cell_type": "markdown",
      "metadata": {
        "id": "view-in-github",
        "colab_type": "text"
      },
      "source": [
        "<a href=\"https://colab.research.google.com/github/astrovishalthakur/MachineLearning/blob/main/NaturalLanguageProcessing/Basics/TextPreprocessing.ipynb\" target=\"_parent\"><img src=\"https://colab.research.google.com/assets/colab-badge.svg\" alt=\"Open In Colab\"/></a>"
      ]
    },
    {
      "cell_type": "markdown",
      "source": [
        "### NLP PIPELINE\n",
        "\n",
        "We will se how to do basic text processing as a nlp pipeline"
      ],
      "metadata": {
        "id": "zhdfweauWlmv"
      }
    },
    {
      "cell_type": "code",
      "execution_count": 1,
      "metadata": {
        "id": "NRPtgz7bWMLe"
      },
      "outputs": [],
      "source": [
        "import requests"
      ]
    },
    {
      "cell_type": "code",
      "source": [
        "url1 = \"https://api.themoviedb.org/3/movie/top_rated?api_key=73326928ce817d080bf46bdc0bc675b2&language=en-US&page=\""
      ],
      "metadata": {
        "id": "iwQckou-XCHs"
      },
      "execution_count": 2,
      "outputs": []
    },
    {
      "cell_type": "code",
      "source": [
        "url2 = \"https://api.themoviedb.org/3/genre/movie/list?api_key=73326928ce817d080bf46bdc0bc675b2&language=en-US\""
      ],
      "metadata": {
        "id": "RFBAthYfXLXr"
      },
      "execution_count": 3,
      "outputs": []
    },
    {
      "cell_type": "code",
      "source": [
        "details = []"
      ],
      "metadata": {
        "id": "YH0YNIKbXW-H"
      },
      "execution_count": 4,
      "outputs": []
    },
    {
      "cell_type": "code",
      "source": [
        "data = requests.get(f'{url1}1')"
      ],
      "metadata": {
        "id": "mhbgpttSXhtB"
      },
      "execution_count": 5,
      "outputs": []
    },
    {
      "cell_type": "code",
      "source": [
        "pages = data.json()[\"total_pages\"]"
      ],
      "metadata": {
        "id": "Y4Q7GXEmY31v"
      },
      "execution_count": 6,
      "outputs": []
    },
    {
      "cell_type": "code",
      "source": [
        "type(data.json()[\"total_pages\"])"
      ],
      "metadata": {
        "colab": {
          "base_uri": "https://localhost:8080/"
        },
        "id": "GJly7JGiY-bQ",
        "outputId": "2356b123-aa13-4da4-da31-e39f8b8deca0"
      },
      "execution_count": 7,
      "outputs": [
        {
          "output_type": "execute_result",
          "data": {
            "text/plain": [
              "int"
            ]
          },
          "metadata": {},
          "execution_count": 7
        }
      ]
    },
    {
      "cell_type": "code",
      "source": [
        "type(data.json()[\"results\"])"
      ],
      "metadata": {
        "colab": {
          "base_uri": "https://localhost:8080/"
        },
        "id": "IZzQ8otwXo-s",
        "outputId": "bda235c3-4279-43ed-f0d7-fa65af0067c1"
      },
      "execution_count": 8,
      "outputs": [
        {
          "output_type": "execute_result",
          "data": {
            "text/plain": [
              "list"
            ]
          },
          "metadata": {},
          "execution_count": 8
        }
      ]
    },
    {
      "cell_type": "code",
      "source": [
        "for i in range(1, pages+1):\n",
        "  data = requests.get(f\"{url1}{i}\")\n",
        "  details.extend(data.json()[\"results\"])"
      ],
      "metadata": {
        "id": "QTnTh7J5W0rz"
      },
      "execution_count": 9,
      "outputs": []
    },
    {
      "cell_type": "code",
      "source": [
        "len(details)"
      ],
      "metadata": {
        "colab": {
          "base_uri": "https://localhost:8080/"
        },
        "id": "LE9xG4C8YuFu",
        "outputId": "9a4b531a-4fd0-422b-bd76-48922fe344ee"
      },
      "execution_count": 10,
      "outputs": [
        {
          "output_type": "execute_result",
          "data": {
            "text/plain": [
              "9736"
            ]
          },
          "metadata": {},
          "execution_count": 10
        }
      ]
    },
    {
      "cell_type": "code",
      "source": [
        "details[1]"
      ],
      "metadata": {
        "colab": {
          "base_uri": "https://localhost:8080/"
        },
        "id": "lpt65fg1ZJng",
        "outputId": "41178f38-0d39-4f4d-9d93-5027d3b62cc7"
      },
      "execution_count": 11,
      "outputs": [
        {
          "output_type": "execute_result",
          "data": {
            "text/plain": [
              "{'adult': False,\n",
              " 'backdrop_path': '/5hNcsnMkwU2LknLoru73c76el3z.jpg',\n",
              " 'genre_ids': [35, 18, 10749],\n",
              " 'id': 19404,\n",
              " 'original_language': 'hi',\n",
              " 'original_title': 'दिलवाले दुल्हनिया ले जायेंगे',\n",
              " 'overview': 'Raj is a rich, carefree, happy-go-lucky second generation NRI. Simran is the daughter of Chaudhary Baldev Singh, who in spite of being an NRI is very strict about adherence to Indian values. Simran has left for India to be married to her childhood fiancé. Raj leaves for India with a mission at his hands, to claim his lady love under the noses of her whole family. Thus begins a saga.',\n",
              " 'popularity': 30.063,\n",
              " 'poster_path': '/2CAL2433ZeIihfX1Hb2139CX0pW.jpg',\n",
              " 'release_date': '1995-10-20',\n",
              " 'title': 'Dilwale Dulhania Le Jayenge',\n",
              " 'video': False,\n",
              " 'vote_average': 8.7,\n",
              " 'vote_count': 3475}"
            ]
          },
          "metadata": {},
          "execution_count": 11
        }
      ]
    },
    {
      "cell_type": "code",
      "source": [
        "genres = requests.get(url2)\n",
        "ids = genres.json()"
      ],
      "metadata": {
        "id": "J4MltdMAmAJT"
      },
      "execution_count": 12,
      "outputs": []
    },
    {
      "cell_type": "code",
      "source": [
        "ids"
      ],
      "metadata": {
        "colab": {
          "base_uri": "https://localhost:8080/"
        },
        "id": "1RIvwVZVmMcD",
        "outputId": "5fa5e00c-309c-4351-f82f-525049a4c170"
      },
      "execution_count": 13,
      "outputs": [
        {
          "output_type": "execute_result",
          "data": {
            "text/plain": [
              "{'genres': [{'id': 28, 'name': 'Action'},\n",
              "  {'id': 12, 'name': 'Adventure'},\n",
              "  {'id': 16, 'name': 'Animation'},\n",
              "  {'id': 35, 'name': 'Comedy'},\n",
              "  {'id': 80, 'name': 'Crime'},\n",
              "  {'id': 99, 'name': 'Documentary'},\n",
              "  {'id': 18, 'name': 'Drama'},\n",
              "  {'id': 10751, 'name': 'Family'},\n",
              "  {'id': 14, 'name': 'Fantasy'},\n",
              "  {'id': 36, 'name': 'History'},\n",
              "  {'id': 27, 'name': 'Horror'},\n",
              "  {'id': 10402, 'name': 'Music'},\n",
              "  {'id': 9648, 'name': 'Mystery'},\n",
              "  {'id': 10749, 'name': 'Romance'},\n",
              "  {'id': 878, 'name': 'Science Fiction'},\n",
              "  {'id': 10770, 'name': 'TV Movie'},\n",
              "  {'id': 53, 'name': 'Thriller'},\n",
              "  {'id': 10752, 'name': 'War'},\n",
              "  {'id': 37, 'name': 'Western'}]}"
            ]
          },
          "metadata": {},
          "execution_count": 13
        }
      ]
    },
    {
      "cell_type": "code",
      "source": [
        "new_ids = {}\n",
        "for items in ids[\"genres\"]:\n",
        "  new_ids[items[\"id\"]]= items[\"name\"]"
      ],
      "metadata": {
        "id": "zWeASaZvmYvK"
      },
      "execution_count": 14,
      "outputs": []
    },
    {
      "cell_type": "code",
      "source": [
        "new_ids"
      ],
      "metadata": {
        "colab": {
          "base_uri": "https://localhost:8080/"
        },
        "id": "K_lAwi1JnAvE",
        "outputId": "3f6040f5-3fc3-4ff0-a4a5-7c9072ae9ddb"
      },
      "execution_count": 15,
      "outputs": [
        {
          "output_type": "execute_result",
          "data": {
            "text/plain": [
              "{12: 'Adventure',\n",
              " 14: 'Fantasy',\n",
              " 16: 'Animation',\n",
              " 18: 'Drama',\n",
              " 27: 'Horror',\n",
              " 28: 'Action',\n",
              " 35: 'Comedy',\n",
              " 36: 'History',\n",
              " 37: 'Western',\n",
              " 53: 'Thriller',\n",
              " 80: 'Crime',\n",
              " 99: 'Documentary',\n",
              " 878: 'Science Fiction',\n",
              " 9648: 'Mystery',\n",
              " 10402: 'Music',\n",
              " 10749: 'Romance',\n",
              " 10751: 'Family',\n",
              " 10752: 'War',\n",
              " 10770: 'TV Movie'}"
            ]
          },
          "metadata": {},
          "execution_count": 15
        }
      ]
    },
    {
      "cell_type": "code",
      "source": [
        "finalLis = []\n",
        "dic = {}\n",
        "for item in details:\n",
        "  dic = {\"title\":item[\"title\"],\n",
        "         \"genres\": [new_ids[i] for i in item[\"genre_ids\"]],\n",
        "         \"description\":item[\"overview\"]}\n",
        "  finalLis.append(dic)\n",
        "  dic = {}"
      ],
      "metadata": {
        "id": "yRiSC84zZPTi"
      },
      "execution_count": 16,
      "outputs": []
    },
    {
      "cell_type": "code",
      "source": [
        "finalLis[:5]"
      ],
      "metadata": {
        "colab": {
          "base_uri": "https://localhost:8080/"
        },
        "id": "XciaR9O-k6cD",
        "outputId": "5c629faf-fa84-4e69-bb0f-d00a28c87492"
      },
      "execution_count": 17,
      "outputs": [
        {
          "output_type": "execute_result",
          "data": {
            "text/plain": [
              "[{'description': 'Framed in the 1940s for the double murder of his wife and her lover, upstanding banker Andy Dufresne begins a new life at the Shawshank prison, where he puts his accounting skills to work for an amoral warden. During his long stretch in prison, Dufresne comes to be admired by the other inmates -- including an older prisoner named Red -- for his integrity and unquenchable sense of hope.',\n",
              "  'genres': ['Drama', 'Crime'],\n",
              "  'title': 'The Shawshank Redemption'},\n",
              " {'description': 'Raj is a rich, carefree, happy-go-lucky second generation NRI. Simran is the daughter of Chaudhary Baldev Singh, who in spite of being an NRI is very strict about adherence to Indian values. Simran has left for India to be married to her childhood fiancé. Raj leaves for India with a mission at his hands, to claim his lady love under the noses of her whole family. Thus begins a saga.',\n",
              "  'genres': ['Comedy', 'Drama', 'Romance'],\n",
              "  'title': 'Dilwale Dulhania Le Jayenge'},\n",
              " {'description': 'Spanning the years 1945 to 1955, a chronicle of the fictional Italian-American Corleone crime family. When organized crime family patriarch, Vito Corleone barely survives an attempt on his life, his youngest son, Michael steps in to take care of the would-be killers, launching a campaign of bloody revenge.',\n",
              "  'genres': ['Drama', 'Crime'],\n",
              "  'title': 'The Godfather'},\n",
              " {'description': \"A tragic accident lead to Kaori's blindness, but she clings to life and the smaller pleasures it can still afford her. She meets Rui and begins to talk to him. Rui was once a promising kickboxer, but something happened in his past. Kaori's smile brings out a change in Rui. However, the two are connected in more than one way. Rui attempts to do what is right.\",\n",
              "  'genres': ['Romance', 'Drama'],\n",
              "  'title': 'Your Eyes Tell'},\n",
              " {'description': 'The true story of how businessman Oskar Schindler saved over a thousand Jewish lives from the Nazis while they worked as slaves in his factory during World War II.',\n",
              "  'genres': ['Drama', 'History', 'War'],\n",
              "  'title': \"Schindler's List\"}]"
            ]
          },
          "metadata": {},
          "execution_count": 17
        }
      ]
    },
    {
      "cell_type": "code",
      "source": [
        "import pandas as pd"
      ],
      "metadata": {
        "id": "KHR9XLtvnWlE"
      },
      "execution_count": 18,
      "outputs": []
    },
    {
      "cell_type": "code",
      "source": [
        "df = pd.DataFrame(finalLis, columns=[\"description\", \"genres\", \"title\"])"
      ],
      "metadata": {
        "id": "KabhBYNAnn0Y"
      },
      "execution_count": 19,
      "outputs": []
    },
    {
      "cell_type": "code",
      "source": [
        "df.head()"
      ],
      "metadata": {
        "colab": {
          "base_uri": "https://localhost:8080/",
          "height": 206
        },
        "id": "pwmAxVz9n6Q9",
        "outputId": "1c09c9d4-88bd-42f5-adda-a98b71dc5921"
      },
      "execution_count": 20,
      "outputs": [
        {
          "output_type": "execute_result",
          "data": {
            "text/html": [
              "\n",
              "  <div id=\"df-1c357a89-1807-4de2-9add-ab21e4657d91\">\n",
              "    <div class=\"colab-df-container\">\n",
              "      <div>\n",
              "<style scoped>\n",
              "    .dataframe tbody tr th:only-of-type {\n",
              "        vertical-align: middle;\n",
              "    }\n",
              "\n",
              "    .dataframe tbody tr th {\n",
              "        vertical-align: top;\n",
              "    }\n",
              "\n",
              "    .dataframe thead th {\n",
              "        text-align: right;\n",
              "    }\n",
              "</style>\n",
              "<table border=\"1\" class=\"dataframe\">\n",
              "  <thead>\n",
              "    <tr style=\"text-align: right;\">\n",
              "      <th></th>\n",
              "      <th>description</th>\n",
              "      <th>genres</th>\n",
              "      <th>title</th>\n",
              "    </tr>\n",
              "  </thead>\n",
              "  <tbody>\n",
              "    <tr>\n",
              "      <th>0</th>\n",
              "      <td>Framed in the 1940s for the double murder of h...</td>\n",
              "      <td>[Drama, Crime]</td>\n",
              "      <td>The Shawshank Redemption</td>\n",
              "    </tr>\n",
              "    <tr>\n",
              "      <th>1</th>\n",
              "      <td>Raj is a rich, carefree, happy-go-lucky second...</td>\n",
              "      <td>[Comedy, Drama, Romance]</td>\n",
              "      <td>Dilwale Dulhania Le Jayenge</td>\n",
              "    </tr>\n",
              "    <tr>\n",
              "      <th>2</th>\n",
              "      <td>Spanning the years 1945 to 1955, a chronicle o...</td>\n",
              "      <td>[Drama, Crime]</td>\n",
              "      <td>The Godfather</td>\n",
              "    </tr>\n",
              "    <tr>\n",
              "      <th>3</th>\n",
              "      <td>A tragic accident lead to Kaori's blindness, b...</td>\n",
              "      <td>[Romance, Drama]</td>\n",
              "      <td>Your Eyes Tell</td>\n",
              "    </tr>\n",
              "    <tr>\n",
              "      <th>4</th>\n",
              "      <td>The true story of how businessman Oskar Schind...</td>\n",
              "      <td>[Drama, History, War]</td>\n",
              "      <td>Schindler's List</td>\n",
              "    </tr>\n",
              "  </tbody>\n",
              "</table>\n",
              "</div>\n",
              "      <button class=\"colab-df-convert\" onclick=\"convertToInteractive('df-1c357a89-1807-4de2-9add-ab21e4657d91')\"\n",
              "              title=\"Convert this dataframe to an interactive table.\"\n",
              "              style=\"display:none;\">\n",
              "        \n",
              "  <svg xmlns=\"http://www.w3.org/2000/svg\" height=\"24px\"viewBox=\"0 0 24 24\"\n",
              "       width=\"24px\">\n",
              "    <path d=\"M0 0h24v24H0V0z\" fill=\"none\"/>\n",
              "    <path d=\"M18.56 5.44l.94 2.06.94-2.06 2.06-.94-2.06-.94-.94-2.06-.94 2.06-2.06.94zm-11 1L8.5 8.5l.94-2.06 2.06-.94-2.06-.94L8.5 2.5l-.94 2.06-2.06.94zm10 10l.94 2.06.94-2.06 2.06-.94-2.06-.94-.94-2.06-.94 2.06-2.06.94z\"/><path d=\"M17.41 7.96l-1.37-1.37c-.4-.4-.92-.59-1.43-.59-.52 0-1.04.2-1.43.59L10.3 9.45l-7.72 7.72c-.78.78-.78 2.05 0 2.83L4 21.41c.39.39.9.59 1.41.59.51 0 1.02-.2 1.41-.59l7.78-7.78 2.81-2.81c.8-.78.8-2.07 0-2.86zM5.41 20L4 18.59l7.72-7.72 1.47 1.35L5.41 20z\"/>\n",
              "  </svg>\n",
              "      </button>\n",
              "      \n",
              "  <style>\n",
              "    .colab-df-container {\n",
              "      display:flex;\n",
              "      flex-wrap:wrap;\n",
              "      gap: 12px;\n",
              "    }\n",
              "\n",
              "    .colab-df-convert {\n",
              "      background-color: #E8F0FE;\n",
              "      border: none;\n",
              "      border-radius: 50%;\n",
              "      cursor: pointer;\n",
              "      display: none;\n",
              "      fill: #1967D2;\n",
              "      height: 32px;\n",
              "      padding: 0 0 0 0;\n",
              "      width: 32px;\n",
              "    }\n",
              "\n",
              "    .colab-df-convert:hover {\n",
              "      background-color: #E2EBFA;\n",
              "      box-shadow: 0px 1px 2px rgba(60, 64, 67, 0.3), 0px 1px 3px 1px rgba(60, 64, 67, 0.15);\n",
              "      fill: #174EA6;\n",
              "    }\n",
              "\n",
              "    [theme=dark] .colab-df-convert {\n",
              "      background-color: #3B4455;\n",
              "      fill: #D2E3FC;\n",
              "    }\n",
              "\n",
              "    [theme=dark] .colab-df-convert:hover {\n",
              "      background-color: #434B5C;\n",
              "      box-shadow: 0px 1px 3px 1px rgba(0, 0, 0, 0.15);\n",
              "      filter: drop-shadow(0px 1px 2px rgba(0, 0, 0, 0.3));\n",
              "      fill: #FFFFFF;\n",
              "    }\n",
              "  </style>\n",
              "\n",
              "      <script>\n",
              "        const buttonEl =\n",
              "          document.querySelector('#df-1c357a89-1807-4de2-9add-ab21e4657d91 button.colab-df-convert');\n",
              "        buttonEl.style.display =\n",
              "          google.colab.kernel.accessAllowed ? 'block' : 'none';\n",
              "\n",
              "        async function convertToInteractive(key) {\n",
              "          const element = document.querySelector('#df-1c357a89-1807-4de2-9add-ab21e4657d91');\n",
              "          const dataTable =\n",
              "            await google.colab.kernel.invokeFunction('convertToInteractive',\n",
              "                                                     [key], {});\n",
              "          if (!dataTable) return;\n",
              "\n",
              "          const docLinkHtml = 'Like what you see? Visit the ' +\n",
              "            '<a target=\"_blank\" href=https://colab.research.google.com/notebooks/data_table.ipynb>data table notebook</a>'\n",
              "            + ' to learn more about interactive tables.';\n",
              "          element.innerHTML = '';\n",
              "          dataTable['output_type'] = 'display_data';\n",
              "          await google.colab.output.renderOutput(dataTable, element);\n",
              "          const docLink = document.createElement('div');\n",
              "          docLink.innerHTML = docLinkHtml;\n",
              "          element.appendChild(docLink);\n",
              "        }\n",
              "      </script>\n",
              "    </div>\n",
              "  </div>\n",
              "  "
            ],
            "text/plain": [
              "                                         description  \\\n",
              "0  Framed in the 1940s for the double murder of h...   \n",
              "1  Raj is a rich, carefree, happy-go-lucky second...   \n",
              "2  Spanning the years 1945 to 1955, a chronicle o...   \n",
              "3  A tragic accident lead to Kaori's blindness, b...   \n",
              "4  The true story of how businessman Oskar Schind...   \n",
              "\n",
              "                     genres                        title  \n",
              "0            [Drama, Crime]     The Shawshank Redemption  \n",
              "1  [Comedy, Drama, Romance]  Dilwale Dulhania Le Jayenge  \n",
              "2            [Drama, Crime]                The Godfather  \n",
              "3          [Romance, Drama]               Your Eyes Tell  \n",
              "4     [Drama, History, War]             Schindler's List  "
            ]
          },
          "metadata": {},
          "execution_count": 20
        }
      ]
    },
    {
      "cell_type": "code",
      "source": [
        "df = df[[\"title\", \"genres\", \"description\"]]"
      ],
      "metadata": {
        "id": "-Tzy9l_Zn7b5"
      },
      "execution_count": 21,
      "outputs": []
    },
    {
      "cell_type": "code",
      "source": [
        "df"
      ],
      "metadata": {
        "colab": {
          "base_uri": "https://localhost:8080/",
          "height": 423
        },
        "id": "azF9MVtooLjs",
        "outputId": "5081ab4f-600e-441c-9e8d-7f0a1062ae3c"
      },
      "execution_count": 22,
      "outputs": [
        {
          "output_type": "execute_result",
          "data": {
            "text/html": [
              "\n",
              "  <div id=\"df-9ed12f7c-7d88-42e6-9cd0-42c398983304\">\n",
              "    <div class=\"colab-df-container\">\n",
              "      <div>\n",
              "<style scoped>\n",
              "    .dataframe tbody tr th:only-of-type {\n",
              "        vertical-align: middle;\n",
              "    }\n",
              "\n",
              "    .dataframe tbody tr th {\n",
              "        vertical-align: top;\n",
              "    }\n",
              "\n",
              "    .dataframe thead th {\n",
              "        text-align: right;\n",
              "    }\n",
              "</style>\n",
              "<table border=\"1\" class=\"dataframe\">\n",
              "  <thead>\n",
              "    <tr style=\"text-align: right;\">\n",
              "      <th></th>\n",
              "      <th>title</th>\n",
              "      <th>genres</th>\n",
              "      <th>description</th>\n",
              "    </tr>\n",
              "  </thead>\n",
              "  <tbody>\n",
              "    <tr>\n",
              "      <th>0</th>\n",
              "      <td>The Shawshank Redemption</td>\n",
              "      <td>[Drama, Crime]</td>\n",
              "      <td>Framed in the 1940s for the double murder of h...</td>\n",
              "    </tr>\n",
              "    <tr>\n",
              "      <th>1</th>\n",
              "      <td>Dilwale Dulhania Le Jayenge</td>\n",
              "      <td>[Comedy, Drama, Romance]</td>\n",
              "      <td>Raj is a rich, carefree, happy-go-lucky second...</td>\n",
              "    </tr>\n",
              "    <tr>\n",
              "      <th>2</th>\n",
              "      <td>The Godfather</td>\n",
              "      <td>[Drama, Crime]</td>\n",
              "      <td>Spanning the years 1945 to 1955, a chronicle o...</td>\n",
              "    </tr>\n",
              "    <tr>\n",
              "      <th>3</th>\n",
              "      <td>Your Eyes Tell</td>\n",
              "      <td>[Romance, Drama]</td>\n",
              "      <td>A tragic accident lead to Kaori's blindness, b...</td>\n",
              "    </tr>\n",
              "    <tr>\n",
              "      <th>4</th>\n",
              "      <td>Schindler's List</td>\n",
              "      <td>[Drama, History, War]</td>\n",
              "      <td>The true story of how businessman Oskar Schind...</td>\n",
              "    </tr>\n",
              "    <tr>\n",
              "      <th>...</th>\n",
              "      <td>...</td>\n",
              "      <td>...</td>\n",
              "      <td>...</td>\n",
              "    </tr>\n",
              "    <tr>\n",
              "      <th>9731</th>\n",
              "      <td>Alone in the Dark</td>\n",
              "      <td>[Action, Fantasy, Horror]</td>\n",
              "      <td>Edward Carnby is a private investigator specia...</td>\n",
              "    </tr>\n",
              "    <tr>\n",
              "      <th>9732</th>\n",
              "      <td>House of the Dead</td>\n",
              "      <td>[Horror, Action, Thriller]</td>\n",
              "      <td>Set on an island off the coast, a techno rave ...</td>\n",
              "    </tr>\n",
              "    <tr>\n",
              "      <th>9733</th>\n",
              "      <td>Dragonball Evolution</td>\n",
              "      <td>[Action, Adventure, Fantasy, Science Fiction, ...</td>\n",
              "      <td>The young warrior Son Goku sets out on a quest...</td>\n",
              "    </tr>\n",
              "    <tr>\n",
              "      <th>9734</th>\n",
              "      <td>Box Office 3D - Il film dei film</td>\n",
              "      <td>[Comedy]</td>\n",
              "      <td>An Italian parody of the biggest U.S. blockbus...</td>\n",
              "    </tr>\n",
              "    <tr>\n",
              "      <th>9735</th>\n",
              "      <td>Birdemic: Shock and Terror</td>\n",
              "      <td>[Science Fiction, Horror, Romance, Thriller]</td>\n",
              "      <td>A platoon of eagles and vultures attacks the r...</td>\n",
              "    </tr>\n",
              "  </tbody>\n",
              "</table>\n",
              "<p>9736 rows × 3 columns</p>\n",
              "</div>\n",
              "      <button class=\"colab-df-convert\" onclick=\"convertToInteractive('df-9ed12f7c-7d88-42e6-9cd0-42c398983304')\"\n",
              "              title=\"Convert this dataframe to an interactive table.\"\n",
              "              style=\"display:none;\">\n",
              "        \n",
              "  <svg xmlns=\"http://www.w3.org/2000/svg\" height=\"24px\"viewBox=\"0 0 24 24\"\n",
              "       width=\"24px\">\n",
              "    <path d=\"M0 0h24v24H0V0z\" fill=\"none\"/>\n",
              "    <path d=\"M18.56 5.44l.94 2.06.94-2.06 2.06-.94-2.06-.94-.94-2.06-.94 2.06-2.06.94zm-11 1L8.5 8.5l.94-2.06 2.06-.94-2.06-.94L8.5 2.5l-.94 2.06-2.06.94zm10 10l.94 2.06.94-2.06 2.06-.94-2.06-.94-.94-2.06-.94 2.06-2.06.94z\"/><path d=\"M17.41 7.96l-1.37-1.37c-.4-.4-.92-.59-1.43-.59-.52 0-1.04.2-1.43.59L10.3 9.45l-7.72 7.72c-.78.78-.78 2.05 0 2.83L4 21.41c.39.39.9.59 1.41.59.51 0 1.02-.2 1.41-.59l7.78-7.78 2.81-2.81c.8-.78.8-2.07 0-2.86zM5.41 20L4 18.59l7.72-7.72 1.47 1.35L5.41 20z\"/>\n",
              "  </svg>\n",
              "      </button>\n",
              "      \n",
              "  <style>\n",
              "    .colab-df-container {\n",
              "      display:flex;\n",
              "      flex-wrap:wrap;\n",
              "      gap: 12px;\n",
              "    }\n",
              "\n",
              "    .colab-df-convert {\n",
              "      background-color: #E8F0FE;\n",
              "      border: none;\n",
              "      border-radius: 50%;\n",
              "      cursor: pointer;\n",
              "      display: none;\n",
              "      fill: #1967D2;\n",
              "      height: 32px;\n",
              "      padding: 0 0 0 0;\n",
              "      width: 32px;\n",
              "    }\n",
              "\n",
              "    .colab-df-convert:hover {\n",
              "      background-color: #E2EBFA;\n",
              "      box-shadow: 0px 1px 2px rgba(60, 64, 67, 0.3), 0px 1px 3px 1px rgba(60, 64, 67, 0.15);\n",
              "      fill: #174EA6;\n",
              "    }\n",
              "\n",
              "    [theme=dark] .colab-df-convert {\n",
              "      background-color: #3B4455;\n",
              "      fill: #D2E3FC;\n",
              "    }\n",
              "\n",
              "    [theme=dark] .colab-df-convert:hover {\n",
              "      background-color: #434B5C;\n",
              "      box-shadow: 0px 1px 3px 1px rgba(0, 0, 0, 0.15);\n",
              "      filter: drop-shadow(0px 1px 2px rgba(0, 0, 0, 0.3));\n",
              "      fill: #FFFFFF;\n",
              "    }\n",
              "  </style>\n",
              "\n",
              "      <script>\n",
              "        const buttonEl =\n",
              "          document.querySelector('#df-9ed12f7c-7d88-42e6-9cd0-42c398983304 button.colab-df-convert');\n",
              "        buttonEl.style.display =\n",
              "          google.colab.kernel.accessAllowed ? 'block' : 'none';\n",
              "\n",
              "        async function convertToInteractive(key) {\n",
              "          const element = document.querySelector('#df-9ed12f7c-7d88-42e6-9cd0-42c398983304');\n",
              "          const dataTable =\n",
              "            await google.colab.kernel.invokeFunction('convertToInteractive',\n",
              "                                                     [key], {});\n",
              "          if (!dataTable) return;\n",
              "\n",
              "          const docLinkHtml = 'Like what you see? Visit the ' +\n",
              "            '<a target=\"_blank\" href=https://colab.research.google.com/notebooks/data_table.ipynb>data table notebook</a>'\n",
              "            + ' to learn more about interactive tables.';\n",
              "          element.innerHTML = '';\n",
              "          dataTable['output_type'] = 'display_data';\n",
              "          await google.colab.output.renderOutput(dataTable, element);\n",
              "          const docLink = document.createElement('div');\n",
              "          docLink.innerHTML = docLinkHtml;\n",
              "          element.appendChild(docLink);\n",
              "        }\n",
              "      </script>\n",
              "    </div>\n",
              "  </div>\n",
              "  "
            ],
            "text/plain": [
              "                                 title  \\\n",
              "0             The Shawshank Redemption   \n",
              "1          Dilwale Dulhania Le Jayenge   \n",
              "2                        The Godfather   \n",
              "3                       Your Eyes Tell   \n",
              "4                     Schindler's List   \n",
              "...                                ...   \n",
              "9731                 Alone in the Dark   \n",
              "9732                 House of the Dead   \n",
              "9733              Dragonball Evolution   \n",
              "9734  Box Office 3D - Il film dei film   \n",
              "9735        Birdemic: Shock and Terror   \n",
              "\n",
              "                                                 genres  \\\n",
              "0                                        [Drama, Crime]   \n",
              "1                              [Comedy, Drama, Romance]   \n",
              "2                                        [Drama, Crime]   \n",
              "3                                      [Romance, Drama]   \n",
              "4                                 [Drama, History, War]   \n",
              "...                                                 ...   \n",
              "9731                          [Action, Fantasy, Horror]   \n",
              "9732                         [Horror, Action, Thriller]   \n",
              "9733  [Action, Adventure, Fantasy, Science Fiction, ...   \n",
              "9734                                           [Comedy]   \n",
              "9735       [Science Fiction, Horror, Romance, Thriller]   \n",
              "\n",
              "                                            description  \n",
              "0     Framed in the 1940s for the double murder of h...  \n",
              "1     Raj is a rich, carefree, happy-go-lucky second...  \n",
              "2     Spanning the years 1945 to 1955, a chronicle o...  \n",
              "3     A tragic accident lead to Kaori's blindness, b...  \n",
              "4     The true story of how businessman Oskar Schind...  \n",
              "...                                                 ...  \n",
              "9731  Edward Carnby is a private investigator specia...  \n",
              "9732  Set on an island off the coast, a techno rave ...  \n",
              "9733  The young warrior Son Goku sets out on a quest...  \n",
              "9734  An Italian parody of the biggest U.S. blockbus...  \n",
              "9735  A platoon of eagles and vultures attacks the r...  \n",
              "\n",
              "[9736 rows x 3 columns]"
            ]
          },
          "metadata": {},
          "execution_count": 22
        }
      ]
    },
    {
      "cell_type": "markdown",
      "source": [
        "# Making everything Lower Case"
      ],
      "metadata": {
        "id": "DivfD-GUBUmD"
      }
    },
    {
      "cell_type": "code",
      "source": [
        "df.description = df.description.str.lower()"
      ],
      "metadata": {
        "id": "3R_mZKo9oMJE"
      },
      "execution_count": 23,
      "outputs": []
    },
    {
      "cell_type": "code",
      "source": [
        "df.description"
      ],
      "metadata": {
        "colab": {
          "base_uri": "https://localhost:8080/"
        },
        "id": "mFdSzJPKoalh",
        "outputId": "dafda23d-8c08-4cbd-f831-2802ca865a70"
      },
      "execution_count": 24,
      "outputs": [
        {
          "output_type": "execute_result",
          "data": {
            "text/plain": [
              "0       framed in the 1940s for the double murder of h...\n",
              "1       raj is a rich, carefree, happy-go-lucky second...\n",
              "2       spanning the years 1945 to 1955, a chronicle o...\n",
              "3       a tragic accident lead to kaori's blindness, b...\n",
              "4       the true story of how businessman oskar schind...\n",
              "                              ...                        \n",
              "9731    edward carnby is a private investigator specia...\n",
              "9732    set on an island off the coast, a techno rave ...\n",
              "9733    the young warrior son goku sets out on a quest...\n",
              "9734    an italian parody of the biggest u.s. blockbus...\n",
              "9735    a platoon of eagles and vultures attacks the r...\n",
              "Name: description, Length: 9736, dtype: object"
            ]
          },
          "metadata": {},
          "execution_count": 24
        }
      ]
    },
    {
      "cell_type": "markdown",
      "source": [
        "# Removing HTML Tags"
      ],
      "metadata": {
        "id": "ZfJy3LgCBPz2"
      }
    },
    {
      "cell_type": "markdown",
      "source": [
        "example"
      ],
      "metadata": {
        "id": "b05GhJS2rNf-"
      }
    },
    {
      "cell_type": "code",
      "source": [
        "import re\n",
        "def striphtml(data):\n",
        "    p = re.compile(r'<.*?>')\n",
        "    return p.sub('', data)\n",
        "\n",
        "striphtml('<a href=\"foo.com\" class=\"bar\">I Want This <b>text!</b></a>')\n"
      ],
      "metadata": {
        "colab": {
          "base_uri": "https://localhost:8080/",
          "height": 35
        },
        "id": "Nq2trEeEpRvz",
        "outputId": "dbafb894-7e3e-4c62-da3d-086e13bc2524"
      },
      "execution_count": 25,
      "outputs": [
        {
          "output_type": "execute_result",
          "data": {
            "application/vnd.google.colaboratory.intrinsic+json": {
              "type": "string"
            },
            "text/plain": [
              "'I Want This text!'"
            ]
          },
          "metadata": {},
          "execution_count": 25
        }
      ]
    },
    {
      "cell_type": "code",
      "source": [
        "k = df.description.apply(lambda x:striphtml(x))"
      ],
      "metadata": {
        "id": "fvujaF3Eppzf"
      },
      "execution_count": 26,
      "outputs": []
    },
    {
      "cell_type": "code",
      "source": [
        "for item1, item2 in zip(k, df.description):\n",
        "  if item1 != item2:\n",
        "    print(item2)"
      ],
      "metadata": {
        "id": "KEnqxpIkq71C"
      },
      "execution_count": 27,
      "outputs": []
    },
    {
      "cell_type": "code",
      "source": [
        "dic = dict(k == df.description)"
      ],
      "metadata": {
        "id": "YAfbEW3Lpysp"
      },
      "execution_count": 28,
      "outputs": []
    },
    {
      "cell_type": "code",
      "source": [
        "type(dic)"
      ],
      "metadata": {
        "colab": {
          "base_uri": "https://localhost:8080/"
        },
        "id": "8oZs8vyNsMt6",
        "outputId": "ddd5f8aa-d8b3-40d7-c42b-b04f37e063d4"
      },
      "execution_count": 29,
      "outputs": [
        {
          "output_type": "execute_result",
          "data": {
            "text/plain": [
              "dict"
            ]
          },
          "metadata": {},
          "execution_count": 29
        }
      ]
    },
    {
      "cell_type": "code",
      "source": [
        "for i in dic:\n",
        "  if dic[i] == False:\n",
        "    print(dic[i])"
      ],
      "metadata": {
        "id": "UODr21Eir_KK"
      },
      "execution_count": 30,
      "outputs": []
    },
    {
      "cell_type": "markdown",
      "source": [
        "since above code gave no output, there were no html tags in our description"
      ],
      "metadata": {
        "id": "y50_j12Mrew1"
      }
    },
    {
      "cell_type": "markdown",
      "source": [
        "Looks like we don't need to remove html tags"
      ],
      "metadata": {
        "id": "A63eWSqlp-5z"
      }
    },
    {
      "cell_type": "markdown",
      "source": [
        "let's make sure with this example that above approach is right to determine whether we want to remove html tags."
      ],
      "metadata": {
        "id": "Jc9c_JTg_wGD"
      }
    },
    {
      "cell_type": "code",
      "source": [
        "sr = pd.Series([\"hello\", \"my name is <p>vishal</p>thakur\", \"Who <html>are</html>you\"])"
      ],
      "metadata": {
        "id": "fX7cBEG0p4bu"
      },
      "execution_count": 31,
      "outputs": []
    },
    {
      "cell_type": "code",
      "source": [
        "sr"
      ],
      "metadata": {
        "colab": {
          "base_uri": "https://localhost:8080/"
        },
        "id": "nw0SK0mg_0l7",
        "outputId": "71228260-285c-4f96-d17f-e9c71f2534d8"
      },
      "execution_count": 32,
      "outputs": [
        {
          "output_type": "execute_result",
          "data": {
            "text/plain": [
              "0                             hello\n",
              "1    my name is <p>vishal</p>thakur\n",
              "2           Who <html>are</html>you\n",
              "dtype: object"
            ]
          },
          "metadata": {},
          "execution_count": 32
        }
      ]
    },
    {
      "cell_type": "code",
      "source": [
        "kk = sr.apply(lambda x: striphtml(x))"
      ],
      "metadata": {
        "id": "AoAoHjg3qS5e"
      },
      "execution_count": 33,
      "outputs": []
    },
    {
      "cell_type": "code",
      "source": [
        "kk"
      ],
      "metadata": {
        "colab": {
          "base_uri": "https://localhost:8080/"
        },
        "id": "W6ymUYu4_4l7",
        "outputId": "36b209a0-79a0-4b2d-e8aa-c9c4fc721204"
      },
      "execution_count": 34,
      "outputs": [
        {
          "output_type": "execute_result",
          "data": {
            "text/plain": [
              "0                      hello\n",
              "1    my name is vishalthakur\n",
              "2                 Who areyou\n",
              "dtype: object"
            ]
          },
          "metadata": {},
          "execution_count": 34
        }
      ]
    },
    {
      "cell_type": "code",
      "source": [
        "dic2 = dict(kk == sr)"
      ],
      "metadata": {
        "id": "JWGYCxPkqZzM"
      },
      "execution_count": 35,
      "outputs": []
    },
    {
      "cell_type": "code",
      "source": [
        "dic2"
      ],
      "metadata": {
        "colab": {
          "base_uri": "https://localhost:8080/"
        },
        "id": "cA1oRIN-_rv1",
        "outputId": "3a568b20-1f3f-4eb6-9814-47bdd23f73fb"
      },
      "execution_count": 36,
      "outputs": [
        {
          "output_type": "execute_result",
          "data": {
            "text/plain": [
              "{0: True, 1: False, 2: False}"
            ]
          },
          "metadata": {},
          "execution_count": 36
        }
      ]
    },
    {
      "cell_type": "code",
      "source": [
        "for i in dic2:\n",
        "  if dic2[i] == False:\n",
        "    print(i)"
      ],
      "metadata": {
        "colab": {
          "base_uri": "https://localhost:8080/"
        },
        "id": "eK7zj4meqbof",
        "outputId": "cadc41cc-0fc4-4b38-ff56-8dc88078bb3f"
      },
      "execution_count": 37,
      "outputs": [
        {
          "output_type": "stream",
          "name": "stdout",
          "text": [
            "1\n",
            "2\n"
          ]
        }
      ]
    },
    {
      "cell_type": "markdown",
      "source": [
        "as you can see, above code gave output of 1 and 2, but same code didn't gave any output on our description."
      ],
      "metadata": {
        "id": "YZ-qMuJrroi2"
      }
    },
    {
      "cell_type": "markdown",
      "source": [
        "# Removing Puntuations"
      ],
      "metadata": {
        "id": "riih_exjBKRi"
      }
    },
    {
      "cell_type": "code",
      "source": [
        "pattern = re.compile(r'[^\\w\\s]')"
      ],
      "metadata": {
        "id": "c1C2jZq7AUTM"
      },
      "execution_count": 38,
      "outputs": []
    },
    {
      "cell_type": "code",
      "source": [
        "re.sub(pattern,\"\", \"hello! my name is ? vishal\")"
      ],
      "metadata": {
        "colab": {
          "base_uri": "https://localhost:8080/",
          "height": 35
        },
        "id": "k_dG5_DyAcSC",
        "outputId": "bdda06d5-04b8-492e-804e-3cca790b2c25"
      },
      "execution_count": 39,
      "outputs": [
        {
          "output_type": "execute_result",
          "data": {
            "application/vnd.google.colaboratory.intrinsic+json": {
              "type": "string"
            },
            "text/plain": [
              "'hello my name is  vishal'"
            ]
          },
          "metadata": {},
          "execution_count": 39
        }
      ]
    },
    {
      "cell_type": "code",
      "source": [
        "df.description = df.description.apply(lambda x: re.sub(pattern, \"\", x))"
      ],
      "metadata": {
        "id": "Y1ocaawaAjkl"
      },
      "execution_count": 40,
      "outputs": []
    },
    {
      "cell_type": "code",
      "source": [
        "df.description"
      ],
      "metadata": {
        "colab": {
          "base_uri": "https://localhost:8080/"
        },
        "id": "V_NI75TwA87Z",
        "outputId": "b0d2e5b0-a499-4ca1-b4cb-d3f42fa1bd82"
      },
      "execution_count": 41,
      "outputs": [
        {
          "output_type": "execute_result",
          "data": {
            "text/plain": [
              "0       framed in the 1940s for the double murder of h...\n",
              "1       raj is a rich carefree happygolucky second gen...\n",
              "2       spanning the years 1945 to 1955 a chronicle of...\n",
              "3       a tragic accident lead to kaoris blindness but...\n",
              "4       the true story of how businessman oskar schind...\n",
              "                              ...                        \n",
              "9731    edward carnby is a private investigator specia...\n",
              "9732    set on an island off the coast a techno rave p...\n",
              "9733    the young warrior son goku sets out on a quest...\n",
              "9734    an italian parody of the biggest us blockbuste...\n",
              "9735    a platoon of eagles and vultures attacks the r...\n",
              "Name: description, Length: 9736, dtype: object"
            ]
          },
          "metadata": {},
          "execution_count": 41
        }
      ]
    },
    {
      "cell_type": "code",
      "source": [
        "df"
      ],
      "metadata": {
        "colab": {
          "base_uri": "https://localhost:8080/",
          "height": 423
        },
        "id": "3dGVjPeJA-N9",
        "outputId": "1eb16b61-c998-4a72-bc4e-cdeae464895b"
      },
      "execution_count": 42,
      "outputs": [
        {
          "output_type": "execute_result",
          "data": {
            "text/html": [
              "\n",
              "  <div id=\"df-88018dec-818a-4579-aad9-06027897c1a4\">\n",
              "    <div class=\"colab-df-container\">\n",
              "      <div>\n",
              "<style scoped>\n",
              "    .dataframe tbody tr th:only-of-type {\n",
              "        vertical-align: middle;\n",
              "    }\n",
              "\n",
              "    .dataframe tbody tr th {\n",
              "        vertical-align: top;\n",
              "    }\n",
              "\n",
              "    .dataframe thead th {\n",
              "        text-align: right;\n",
              "    }\n",
              "</style>\n",
              "<table border=\"1\" class=\"dataframe\">\n",
              "  <thead>\n",
              "    <tr style=\"text-align: right;\">\n",
              "      <th></th>\n",
              "      <th>title</th>\n",
              "      <th>genres</th>\n",
              "      <th>description</th>\n",
              "    </tr>\n",
              "  </thead>\n",
              "  <tbody>\n",
              "    <tr>\n",
              "      <th>0</th>\n",
              "      <td>The Shawshank Redemption</td>\n",
              "      <td>[Drama, Crime]</td>\n",
              "      <td>framed in the 1940s for the double murder of h...</td>\n",
              "    </tr>\n",
              "    <tr>\n",
              "      <th>1</th>\n",
              "      <td>Dilwale Dulhania Le Jayenge</td>\n",
              "      <td>[Comedy, Drama, Romance]</td>\n",
              "      <td>raj is a rich carefree happygolucky second gen...</td>\n",
              "    </tr>\n",
              "    <tr>\n",
              "      <th>2</th>\n",
              "      <td>The Godfather</td>\n",
              "      <td>[Drama, Crime]</td>\n",
              "      <td>spanning the years 1945 to 1955 a chronicle of...</td>\n",
              "    </tr>\n",
              "    <tr>\n",
              "      <th>3</th>\n",
              "      <td>Your Eyes Tell</td>\n",
              "      <td>[Romance, Drama]</td>\n",
              "      <td>a tragic accident lead to kaoris blindness but...</td>\n",
              "    </tr>\n",
              "    <tr>\n",
              "      <th>4</th>\n",
              "      <td>Schindler's List</td>\n",
              "      <td>[Drama, History, War]</td>\n",
              "      <td>the true story of how businessman oskar schind...</td>\n",
              "    </tr>\n",
              "    <tr>\n",
              "      <th>...</th>\n",
              "      <td>...</td>\n",
              "      <td>...</td>\n",
              "      <td>...</td>\n",
              "    </tr>\n",
              "    <tr>\n",
              "      <th>9731</th>\n",
              "      <td>Alone in the Dark</td>\n",
              "      <td>[Action, Fantasy, Horror]</td>\n",
              "      <td>edward carnby is a private investigator specia...</td>\n",
              "    </tr>\n",
              "    <tr>\n",
              "      <th>9732</th>\n",
              "      <td>House of the Dead</td>\n",
              "      <td>[Horror, Action, Thriller]</td>\n",
              "      <td>set on an island off the coast a techno rave p...</td>\n",
              "    </tr>\n",
              "    <tr>\n",
              "      <th>9733</th>\n",
              "      <td>Dragonball Evolution</td>\n",
              "      <td>[Action, Adventure, Fantasy, Science Fiction, ...</td>\n",
              "      <td>the young warrior son goku sets out on a quest...</td>\n",
              "    </tr>\n",
              "    <tr>\n",
              "      <th>9734</th>\n",
              "      <td>Box Office 3D - Il film dei film</td>\n",
              "      <td>[Comedy]</td>\n",
              "      <td>an italian parody of the biggest us blockbuste...</td>\n",
              "    </tr>\n",
              "    <tr>\n",
              "      <th>9735</th>\n",
              "      <td>Birdemic: Shock and Terror</td>\n",
              "      <td>[Science Fiction, Horror, Romance, Thriller]</td>\n",
              "      <td>a platoon of eagles and vultures attacks the r...</td>\n",
              "    </tr>\n",
              "  </tbody>\n",
              "</table>\n",
              "<p>9736 rows × 3 columns</p>\n",
              "</div>\n",
              "      <button class=\"colab-df-convert\" onclick=\"convertToInteractive('df-88018dec-818a-4579-aad9-06027897c1a4')\"\n",
              "              title=\"Convert this dataframe to an interactive table.\"\n",
              "              style=\"display:none;\">\n",
              "        \n",
              "  <svg xmlns=\"http://www.w3.org/2000/svg\" height=\"24px\"viewBox=\"0 0 24 24\"\n",
              "       width=\"24px\">\n",
              "    <path d=\"M0 0h24v24H0V0z\" fill=\"none\"/>\n",
              "    <path d=\"M18.56 5.44l.94 2.06.94-2.06 2.06-.94-2.06-.94-.94-2.06-.94 2.06-2.06.94zm-11 1L8.5 8.5l.94-2.06 2.06-.94-2.06-.94L8.5 2.5l-.94 2.06-2.06.94zm10 10l.94 2.06.94-2.06 2.06-.94-2.06-.94-.94-2.06-.94 2.06-2.06.94z\"/><path d=\"M17.41 7.96l-1.37-1.37c-.4-.4-.92-.59-1.43-.59-.52 0-1.04.2-1.43.59L10.3 9.45l-7.72 7.72c-.78.78-.78 2.05 0 2.83L4 21.41c.39.39.9.59 1.41.59.51 0 1.02-.2 1.41-.59l7.78-7.78 2.81-2.81c.8-.78.8-2.07 0-2.86zM5.41 20L4 18.59l7.72-7.72 1.47 1.35L5.41 20z\"/>\n",
              "  </svg>\n",
              "      </button>\n",
              "      \n",
              "  <style>\n",
              "    .colab-df-container {\n",
              "      display:flex;\n",
              "      flex-wrap:wrap;\n",
              "      gap: 12px;\n",
              "    }\n",
              "\n",
              "    .colab-df-convert {\n",
              "      background-color: #E8F0FE;\n",
              "      border: none;\n",
              "      border-radius: 50%;\n",
              "      cursor: pointer;\n",
              "      display: none;\n",
              "      fill: #1967D2;\n",
              "      height: 32px;\n",
              "      padding: 0 0 0 0;\n",
              "      width: 32px;\n",
              "    }\n",
              "\n",
              "    .colab-df-convert:hover {\n",
              "      background-color: #E2EBFA;\n",
              "      box-shadow: 0px 1px 2px rgba(60, 64, 67, 0.3), 0px 1px 3px 1px rgba(60, 64, 67, 0.15);\n",
              "      fill: #174EA6;\n",
              "    }\n",
              "\n",
              "    [theme=dark] .colab-df-convert {\n",
              "      background-color: #3B4455;\n",
              "      fill: #D2E3FC;\n",
              "    }\n",
              "\n",
              "    [theme=dark] .colab-df-convert:hover {\n",
              "      background-color: #434B5C;\n",
              "      box-shadow: 0px 1px 3px 1px rgba(0, 0, 0, 0.15);\n",
              "      filter: drop-shadow(0px 1px 2px rgba(0, 0, 0, 0.3));\n",
              "      fill: #FFFFFF;\n",
              "    }\n",
              "  </style>\n",
              "\n",
              "      <script>\n",
              "        const buttonEl =\n",
              "          document.querySelector('#df-88018dec-818a-4579-aad9-06027897c1a4 button.colab-df-convert');\n",
              "        buttonEl.style.display =\n",
              "          google.colab.kernel.accessAllowed ? 'block' : 'none';\n",
              "\n",
              "        async function convertToInteractive(key) {\n",
              "          const element = document.querySelector('#df-88018dec-818a-4579-aad9-06027897c1a4');\n",
              "          const dataTable =\n",
              "            await google.colab.kernel.invokeFunction('convertToInteractive',\n",
              "                                                     [key], {});\n",
              "          if (!dataTable) return;\n",
              "\n",
              "          const docLinkHtml = 'Like what you see? Visit the ' +\n",
              "            '<a target=\"_blank\" href=https://colab.research.google.com/notebooks/data_table.ipynb>data table notebook</a>'\n",
              "            + ' to learn more about interactive tables.';\n",
              "          element.innerHTML = '';\n",
              "          dataTable['output_type'] = 'display_data';\n",
              "          await google.colab.output.renderOutput(dataTable, element);\n",
              "          const docLink = document.createElement('div');\n",
              "          docLink.innerHTML = docLinkHtml;\n",
              "          element.appendChild(docLink);\n",
              "        }\n",
              "      </script>\n",
              "    </div>\n",
              "  </div>\n",
              "  "
            ],
            "text/plain": [
              "                                 title  \\\n",
              "0             The Shawshank Redemption   \n",
              "1          Dilwale Dulhania Le Jayenge   \n",
              "2                        The Godfather   \n",
              "3                       Your Eyes Tell   \n",
              "4                     Schindler's List   \n",
              "...                                ...   \n",
              "9731                 Alone in the Dark   \n",
              "9732                 House of the Dead   \n",
              "9733              Dragonball Evolution   \n",
              "9734  Box Office 3D - Il film dei film   \n",
              "9735        Birdemic: Shock and Terror   \n",
              "\n",
              "                                                 genres  \\\n",
              "0                                        [Drama, Crime]   \n",
              "1                              [Comedy, Drama, Romance]   \n",
              "2                                        [Drama, Crime]   \n",
              "3                                      [Romance, Drama]   \n",
              "4                                 [Drama, History, War]   \n",
              "...                                                 ...   \n",
              "9731                          [Action, Fantasy, Horror]   \n",
              "9732                         [Horror, Action, Thriller]   \n",
              "9733  [Action, Adventure, Fantasy, Science Fiction, ...   \n",
              "9734                                           [Comedy]   \n",
              "9735       [Science Fiction, Horror, Romance, Thriller]   \n",
              "\n",
              "                                            description  \n",
              "0     framed in the 1940s for the double murder of h...  \n",
              "1     raj is a rich carefree happygolucky second gen...  \n",
              "2     spanning the years 1945 to 1955 a chronicle of...  \n",
              "3     a tragic accident lead to kaoris blindness but...  \n",
              "4     the true story of how businessman oskar schind...  \n",
              "...                                                 ...  \n",
              "9731  edward carnby is a private investigator specia...  \n",
              "9732  set on an island off the coast a techno rave p...  \n",
              "9733  the young warrior son goku sets out on a quest...  \n",
              "9734  an italian parody of the biggest us blockbuste...  \n",
              "9735  a platoon of eagles and vultures attacks the r...  \n",
              "\n",
              "[9736 rows x 3 columns]"
            ]
          },
          "metadata": {},
          "execution_count": 42
        }
      ]
    },
    {
      "cell_type": "markdown",
      "source": [
        "# Spelling correction"
      ],
      "metadata": {
        "id": "jberPwMIBpXs"
      }
    },
    {
      "cell_type": "code",
      "source": [
        "! pip install textblob"
      ],
      "metadata": {
        "colab": {
          "base_uri": "https://localhost:8080/"
        },
        "id": "blMNT1EGBGZV",
        "outputId": "0a9292b4-572f-4a4f-f8f0-35ec3b6a33c0"
      },
      "execution_count": 43,
      "outputs": [
        {
          "output_type": "stream",
          "name": "stdout",
          "text": [
            "Requirement already satisfied: textblob in /usr/local/lib/python3.7/dist-packages (0.15.3)\n",
            "Requirement already satisfied: nltk>=3.1 in /usr/local/lib/python3.7/dist-packages (from textblob) (3.2.5)\n",
            "Requirement already satisfied: six in /usr/local/lib/python3.7/dist-packages (from nltk>=3.1->textblob) (1.15.0)\n"
          ]
        }
      ]
    },
    {
      "cell_type": "code",
      "source": [
        "from textblob import TextBlob"
      ],
      "metadata": {
        "id": "b_QkOhkzBvmA"
      },
      "execution_count": 44,
      "outputs": []
    },
    {
      "cell_type": "code",
      "source": [
        "str1 = \"helo, my nami is vishal Thakur. Who are you\""
      ],
      "metadata": {
        "id": "ec9b-TktB2U3"
      },
      "execution_count": 45,
      "outputs": []
    },
    {
      "cell_type": "code",
      "source": [
        "blb = TextBlob(str1)"
      ],
      "metadata": {
        "id": "xcIand_VCMd4"
      },
      "execution_count": 46,
      "outputs": []
    },
    {
      "cell_type": "code",
      "source": [
        "blb.correct().string"
      ],
      "metadata": {
        "colab": {
          "base_uri": "https://localhost:8080/",
          "height": 35
        },
        "id": "oOUtFHsGCO-x",
        "outputId": "84674dbc-2699-4329-8ffe-33fdf9e308d3"
      },
      "execution_count": 47,
      "outputs": [
        {
          "output_type": "execute_result",
          "data": {
            "application/vnd.google.colaboratory.intrinsic+json": {
              "type": "string"
            },
            "text/plain": [
              "'held, my name is visual Thakur. Who are you'"
            ]
          },
          "metadata": {},
          "execution_count": 47
        }
      ]
    },
    {
      "cell_type": "markdown",
      "source": [
        "looks like it is making some mistakes on non english words. Also, since this is movied descriptions, it will not have many spelling mistakes. So let's not do any spell corrections"
      ],
      "metadata": {
        "id": "Mswl6XEQCVef"
      }
    },
    {
      "cell_type": "markdown",
      "source": [
        "# Stop words treatment"
      ],
      "metadata": {
        "id": "1cHRTBDxCrwh"
      }
    },
    {
      "cell_type": "code",
      "source": [
        "! pip install nltk"
      ],
      "metadata": {
        "colab": {
          "base_uri": "https://localhost:8080/"
        },
        "id": "7ab3MkW-CQIB",
        "outputId": "141d8ff1-48eb-46a9-c99d-603a885ef759"
      },
      "execution_count": 48,
      "outputs": [
        {
          "output_type": "stream",
          "name": "stdout",
          "text": [
            "Requirement already satisfied: nltk in /usr/local/lib/python3.7/dist-packages (3.2.5)\n",
            "Requirement already satisfied: six in /usr/local/lib/python3.7/dist-packages (from nltk) (1.15.0)\n"
          ]
        }
      ]
    },
    {
      "cell_type": "code",
      "source": [
        "import nltk"
      ],
      "metadata": {
        "id": "vayRyTH8DUJh"
      },
      "execution_count": 49,
      "outputs": []
    },
    {
      "cell_type": "code",
      "source": [
        "nltk.download(\"stopwords\")\n",
        "from nltk.corpus import stopwords"
      ],
      "metadata": {
        "colab": {
          "base_uri": "https://localhost:8080/"
        },
        "id": "ul2H3hxzCxC1",
        "outputId": "2240e1e3-1b8a-4d5c-b487-edfa54ff14b2"
      },
      "execution_count": 50,
      "outputs": [
        {
          "output_type": "stream",
          "name": "stdout",
          "text": [
            "[nltk_data] Downloading package stopwords to /root/nltk_data...\n",
            "[nltk_data]   Unzipping corpora/stopwords.zip.\n"
          ]
        }
      ]
    },
    {
      "cell_type": "code",
      "source": [
        "stopwords.words(\"english\")[:10]"
      ],
      "metadata": {
        "colab": {
          "base_uri": "https://localhost:8080/"
        },
        "id": "oslas3OqC4Ju",
        "outputId": "fbc3ca19-3adf-4f59-a07b-3285e8f7422f"
      },
      "execution_count": 51,
      "outputs": [
        {
          "output_type": "execute_result",
          "data": {
            "text/plain": [
              "['i', 'me', 'my', 'myself', 'we', 'our', 'ours', 'ourselves', 'you', \"you're\"]"
            ]
          },
          "metadata": {},
          "execution_count": 51
        }
      ]
    },
    {
      "cell_type": "code",
      "source": [
        "len(stopwords.words(\"english\"))"
      ],
      "metadata": {
        "colab": {
          "base_uri": "https://localhost:8080/"
        },
        "id": "q4hpVuNrdAvR",
        "outputId": "124a8962-27cd-47da-da3a-bec7ed8c37c6"
      },
      "execution_count": 52,
      "outputs": [
        {
          "output_type": "execute_result",
          "data": {
            "text/plain": [
              "179"
            ]
          },
          "metadata": {},
          "execution_count": 52
        }
      ]
    },
    {
      "cell_type": "markdown",
      "source": [
        "looks like we have 179 stop words"
      ],
      "metadata": {
        "id": "nayWHf7ydD5u"
      }
    },
    {
      "cell_type": "markdown",
      "source": [
        "We will split the text, then remove stop words."
      ],
      "metadata": {
        "id": "eT2ilmIxdKu9"
      }
    },
    {
      "cell_type": "code",
      "source": [
        "# let's see how join works\n",
        "a = [\"a\", \"b\", \"c\", \"d\"]\n",
        "\" \".join(a)"
      ],
      "metadata": {
        "colab": {
          "base_uri": "https://localhost:8080/",
          "height": 35
        },
        "id": "zGXWp406dq8V",
        "outputId": "c7cbc062-69bf-44c8-c6a8-f47777224399"
      },
      "execution_count": 53,
      "outputs": [
        {
          "output_type": "execute_result",
          "data": {
            "application/vnd.google.colaboratory.intrinsic+json": {
              "type": "string"
            },
            "text/plain": [
              "'a b c d'"
            ]
          },
          "metadata": {},
          "execution_count": 53
        }
      ]
    },
    {
      "cell_type": "code",
      "source": [
        "def remove_stop(text):\n",
        "  lis = []\n",
        "  for word in text.split():\n",
        "    if word not in stopwords.words(\"english\"):\n",
        "      lis.append(word)\n",
        "  return \" \".join(lis)\n"
      ],
      "metadata": {
        "id": "qPmXhSU0D7Wh"
      },
      "execution_count": 54,
      "outputs": []
    },
    {
      "cell_type": "markdown",
      "source": [
        "as you can see, we are joining every thing back. We will be tokenizing everything again, so we don't need to join it back. We can just return the list.\n",
        "\n",
        "`return lis`"
      ],
      "metadata": {
        "id": "B0VvvuPvr28V"
      }
    },
    {
      "cell_type": "code",
      "source": [
        "series = df.description.apply(lambda x: remove_stop(x))"
      ],
      "metadata": {
        "id": "Iel9yyFYDAGM"
      },
      "execution_count": 55,
      "outputs": []
    },
    {
      "cell_type": "code",
      "source": [
        "df.description = series"
      ],
      "metadata": {
        "id": "FOQGxlCAd-2k"
      },
      "execution_count": 56,
      "outputs": []
    },
    {
      "cell_type": "code",
      "source": [
        "df"
      ],
      "metadata": {
        "colab": {
          "base_uri": "https://localhost:8080/",
          "height": 423
        },
        "id": "Bpg7hsD7fcOi",
        "outputId": "036ba441-6185-4fc9-cd03-59a42daa94df"
      },
      "execution_count": 57,
      "outputs": [
        {
          "output_type": "execute_result",
          "data": {
            "text/html": [
              "\n",
              "  <div id=\"df-6da04d87-4314-4051-bd56-e402d7d85dbd\">\n",
              "    <div class=\"colab-df-container\">\n",
              "      <div>\n",
              "<style scoped>\n",
              "    .dataframe tbody tr th:only-of-type {\n",
              "        vertical-align: middle;\n",
              "    }\n",
              "\n",
              "    .dataframe tbody tr th {\n",
              "        vertical-align: top;\n",
              "    }\n",
              "\n",
              "    .dataframe thead th {\n",
              "        text-align: right;\n",
              "    }\n",
              "</style>\n",
              "<table border=\"1\" class=\"dataframe\">\n",
              "  <thead>\n",
              "    <tr style=\"text-align: right;\">\n",
              "      <th></th>\n",
              "      <th>title</th>\n",
              "      <th>genres</th>\n",
              "      <th>description</th>\n",
              "    </tr>\n",
              "  </thead>\n",
              "  <tbody>\n",
              "    <tr>\n",
              "      <th>0</th>\n",
              "      <td>The Shawshank Redemption</td>\n",
              "      <td>[Drama, Crime]</td>\n",
              "      <td>framed 1940s double murder wife lover upstandi...</td>\n",
              "    </tr>\n",
              "    <tr>\n",
              "      <th>1</th>\n",
              "      <td>Dilwale Dulhania Le Jayenge</td>\n",
              "      <td>[Comedy, Drama, Romance]</td>\n",
              "      <td>raj rich carefree happygolucky second generati...</td>\n",
              "    </tr>\n",
              "    <tr>\n",
              "      <th>2</th>\n",
              "      <td>The Godfather</td>\n",
              "      <td>[Drama, Crime]</td>\n",
              "      <td>spanning years 1945 1955 chronicle fictional i...</td>\n",
              "    </tr>\n",
              "    <tr>\n",
              "      <th>3</th>\n",
              "      <td>Your Eyes Tell</td>\n",
              "      <td>[Romance, Drama]</td>\n",
              "      <td>tragic accident lead kaoris blindness clings l...</td>\n",
              "    </tr>\n",
              "    <tr>\n",
              "      <th>4</th>\n",
              "      <td>Schindler's List</td>\n",
              "      <td>[Drama, History, War]</td>\n",
              "      <td>true story businessman oskar schindler saved t...</td>\n",
              "    </tr>\n",
              "    <tr>\n",
              "      <th>...</th>\n",
              "      <td>...</td>\n",
              "      <td>...</td>\n",
              "      <td>...</td>\n",
              "    </tr>\n",
              "    <tr>\n",
              "      <th>9731</th>\n",
              "      <td>Alone in the Dark</td>\n",
              "      <td>[Action, Fantasy, Horror]</td>\n",
              "      <td>edward carnby private investigator specializin...</td>\n",
              "    </tr>\n",
              "    <tr>\n",
              "      <th>9732</th>\n",
              "      <td>House of the Dead</td>\n",
              "      <td>[Horror, Action, Thriller]</td>\n",
              "      <td>set island coast techno rave party attracts di...</td>\n",
              "    </tr>\n",
              "    <tr>\n",
              "      <th>9733</th>\n",
              "      <td>Dragonball Evolution</td>\n",
              "      <td>[Action, Adventure, Fantasy, Science Fiction, ...</td>\n",
              "      <td>young warrior son goku sets quest racing time ...</td>\n",
              "    </tr>\n",
              "    <tr>\n",
              "      <th>9734</th>\n",
              "      <td>Box Office 3D - Il film dei film</td>\n",
              "      <td>[Comedy]</td>\n",
              "      <td>italian parody biggest us blockbusters gladiat...</td>\n",
              "    </tr>\n",
              "    <tr>\n",
              "      <th>9735</th>\n",
              "      <td>Birdemic: Shock and Terror</td>\n",
              "      <td>[Science Fiction, Horror, Romance, Thriller]</td>\n",
              "      <td>platoon eagles vultures attacks residents smal...</td>\n",
              "    </tr>\n",
              "  </tbody>\n",
              "</table>\n",
              "<p>9736 rows × 3 columns</p>\n",
              "</div>\n",
              "      <button class=\"colab-df-convert\" onclick=\"convertToInteractive('df-6da04d87-4314-4051-bd56-e402d7d85dbd')\"\n",
              "              title=\"Convert this dataframe to an interactive table.\"\n",
              "              style=\"display:none;\">\n",
              "        \n",
              "  <svg xmlns=\"http://www.w3.org/2000/svg\" height=\"24px\"viewBox=\"0 0 24 24\"\n",
              "       width=\"24px\">\n",
              "    <path d=\"M0 0h24v24H0V0z\" fill=\"none\"/>\n",
              "    <path d=\"M18.56 5.44l.94 2.06.94-2.06 2.06-.94-2.06-.94-.94-2.06-.94 2.06-2.06.94zm-11 1L8.5 8.5l.94-2.06 2.06-.94-2.06-.94L8.5 2.5l-.94 2.06-2.06.94zm10 10l.94 2.06.94-2.06 2.06-.94-2.06-.94-.94-2.06-.94 2.06-2.06.94z\"/><path d=\"M17.41 7.96l-1.37-1.37c-.4-.4-.92-.59-1.43-.59-.52 0-1.04.2-1.43.59L10.3 9.45l-7.72 7.72c-.78.78-.78 2.05 0 2.83L4 21.41c.39.39.9.59 1.41.59.51 0 1.02-.2 1.41-.59l7.78-7.78 2.81-2.81c.8-.78.8-2.07 0-2.86zM5.41 20L4 18.59l7.72-7.72 1.47 1.35L5.41 20z\"/>\n",
              "  </svg>\n",
              "      </button>\n",
              "      \n",
              "  <style>\n",
              "    .colab-df-container {\n",
              "      display:flex;\n",
              "      flex-wrap:wrap;\n",
              "      gap: 12px;\n",
              "    }\n",
              "\n",
              "    .colab-df-convert {\n",
              "      background-color: #E8F0FE;\n",
              "      border: none;\n",
              "      border-radius: 50%;\n",
              "      cursor: pointer;\n",
              "      display: none;\n",
              "      fill: #1967D2;\n",
              "      height: 32px;\n",
              "      padding: 0 0 0 0;\n",
              "      width: 32px;\n",
              "    }\n",
              "\n",
              "    .colab-df-convert:hover {\n",
              "      background-color: #E2EBFA;\n",
              "      box-shadow: 0px 1px 2px rgba(60, 64, 67, 0.3), 0px 1px 3px 1px rgba(60, 64, 67, 0.15);\n",
              "      fill: #174EA6;\n",
              "    }\n",
              "\n",
              "    [theme=dark] .colab-df-convert {\n",
              "      background-color: #3B4455;\n",
              "      fill: #D2E3FC;\n",
              "    }\n",
              "\n",
              "    [theme=dark] .colab-df-convert:hover {\n",
              "      background-color: #434B5C;\n",
              "      box-shadow: 0px 1px 3px 1px rgba(0, 0, 0, 0.15);\n",
              "      filter: drop-shadow(0px 1px 2px rgba(0, 0, 0, 0.3));\n",
              "      fill: #FFFFFF;\n",
              "    }\n",
              "  </style>\n",
              "\n",
              "      <script>\n",
              "        const buttonEl =\n",
              "          document.querySelector('#df-6da04d87-4314-4051-bd56-e402d7d85dbd button.colab-df-convert');\n",
              "        buttonEl.style.display =\n",
              "          google.colab.kernel.accessAllowed ? 'block' : 'none';\n",
              "\n",
              "        async function convertToInteractive(key) {\n",
              "          const element = document.querySelector('#df-6da04d87-4314-4051-bd56-e402d7d85dbd');\n",
              "          const dataTable =\n",
              "            await google.colab.kernel.invokeFunction('convertToInteractive',\n",
              "                                                     [key], {});\n",
              "          if (!dataTable) return;\n",
              "\n",
              "          const docLinkHtml = 'Like what you see? Visit the ' +\n",
              "            '<a target=\"_blank\" href=https://colab.research.google.com/notebooks/data_table.ipynb>data table notebook</a>'\n",
              "            + ' to learn more about interactive tables.';\n",
              "          element.innerHTML = '';\n",
              "          dataTable['output_type'] = 'display_data';\n",
              "          await google.colab.output.renderOutput(dataTable, element);\n",
              "          const docLink = document.createElement('div');\n",
              "          docLink.innerHTML = docLinkHtml;\n",
              "          element.appendChild(docLink);\n",
              "        }\n",
              "      </script>\n",
              "    </div>\n",
              "  </div>\n",
              "  "
            ],
            "text/plain": [
              "                                 title  \\\n",
              "0             The Shawshank Redemption   \n",
              "1          Dilwale Dulhania Le Jayenge   \n",
              "2                        The Godfather   \n",
              "3                       Your Eyes Tell   \n",
              "4                     Schindler's List   \n",
              "...                                ...   \n",
              "9731                 Alone in the Dark   \n",
              "9732                 House of the Dead   \n",
              "9733              Dragonball Evolution   \n",
              "9734  Box Office 3D - Il film dei film   \n",
              "9735        Birdemic: Shock and Terror   \n",
              "\n",
              "                                                 genres  \\\n",
              "0                                        [Drama, Crime]   \n",
              "1                              [Comedy, Drama, Romance]   \n",
              "2                                        [Drama, Crime]   \n",
              "3                                      [Romance, Drama]   \n",
              "4                                 [Drama, History, War]   \n",
              "...                                                 ...   \n",
              "9731                          [Action, Fantasy, Horror]   \n",
              "9732                         [Horror, Action, Thriller]   \n",
              "9733  [Action, Adventure, Fantasy, Science Fiction, ...   \n",
              "9734                                           [Comedy]   \n",
              "9735       [Science Fiction, Horror, Romance, Thriller]   \n",
              "\n",
              "                                            description  \n",
              "0     framed 1940s double murder wife lover upstandi...  \n",
              "1     raj rich carefree happygolucky second generati...  \n",
              "2     spanning years 1945 1955 chronicle fictional i...  \n",
              "3     tragic accident lead kaoris blindness clings l...  \n",
              "4     true story businessman oskar schindler saved t...  \n",
              "...                                                 ...  \n",
              "9731  edward carnby private investigator specializin...  \n",
              "9732  set island coast techno rave party attracts di...  \n",
              "9733  young warrior son goku sets quest racing time ...  \n",
              "9734  italian parody biggest us blockbusters gladiat...  \n",
              "9735  platoon eagles vultures attacks residents smal...  \n",
              "\n",
              "[9736 rows x 3 columns]"
            ]
          },
          "metadata": {},
          "execution_count": 57
        }
      ]
    },
    {
      "cell_type": "markdown",
      "source": [
        "# Tokenization\n",
        "It's time to tokenize"
      ],
      "metadata": {
        "id": "eZYcoBL6hMMX"
      }
    },
    {
      "cell_type": "code",
      "source": [
        "from nltk.tokenize import word_tokenize\n",
        "nltk.download(\"punkt\")"
      ],
      "metadata": {
        "colab": {
          "base_uri": "https://localhost:8080/"
        },
        "id": "X-d4EXWgfkuy",
        "outputId": "db9f7110-f104-414b-92a9-0ecfd85b1c3d"
      },
      "execution_count": 58,
      "outputs": [
        {
          "output_type": "stream",
          "name": "stdout",
          "text": [
            "[nltk_data] Downloading package punkt to /root/nltk_data...\n",
            "[nltk_data]   Unzipping tokenizers/punkt.zip.\n"
          ]
        },
        {
          "output_type": "execute_result",
          "data": {
            "text/plain": [
              "True"
            ]
          },
          "metadata": {},
          "execution_count": 58
        }
      ]
    },
    {
      "cell_type": "code",
      "source": [
        "word_tokenize(\"Hello my name is vishal thakur.\")"
      ],
      "metadata": {
        "colab": {
          "base_uri": "https://localhost:8080/"
        },
        "id": "CLx9e9S9hWOo",
        "outputId": "d85b7899-473c-42f2-beaf-edc2cac52e39"
      },
      "execution_count": 59,
      "outputs": [
        {
          "output_type": "execute_result",
          "data": {
            "text/plain": [
              "['Hello', 'my', 'name', 'is', 'vishal', 'thakur', '.']"
            ]
          },
          "metadata": {},
          "execution_count": 59
        }
      ]
    },
    {
      "cell_type": "code",
      "source": [
        "df.description.iloc[0]"
      ],
      "metadata": {
        "colab": {
          "base_uri": "https://localhost:8080/",
          "height": 53
        },
        "id": "0bNdqnMtjwIQ",
        "outputId": "14390cae-37a6-4fd5-9236-11d9f10ebe9a"
      },
      "execution_count": 60,
      "outputs": [
        {
          "output_type": "execute_result",
          "data": {
            "application/vnd.google.colaboratory.intrinsic+json": {
              "type": "string"
            },
            "text/plain": [
              "'framed 1940s double murder wife lover upstanding banker andy dufresne begins new life shawshank prison puts accounting skills work amoral warden long stretch prison dufresne comes admired inmates including older prisoner named red integrity unquenchable sense hope'"
            ]
          },
          "metadata": {},
          "execution_count": 60
        }
      ]
    },
    {
      "cell_type": "markdown",
      "source": [
        "Checking on one example"
      ],
      "metadata": {
        "id": "bnhATDqasM1Z"
      }
    },
    {
      "cell_type": "code",
      "source": [
        "word_tokenize(df.description.iloc[0])"
      ],
      "metadata": {
        "colab": {
          "base_uri": "https://localhost:8080/"
        },
        "id": "kPLMeE2Bhbfo",
        "outputId": "a1a8094f-0d66-44ec-c843-6207ddd50c87"
      },
      "execution_count": 61,
      "outputs": [
        {
          "output_type": "execute_result",
          "data": {
            "text/plain": [
              "['framed',\n",
              " '1940s',\n",
              " 'double',\n",
              " 'murder',\n",
              " 'wife',\n",
              " 'lover',\n",
              " 'upstanding',\n",
              " 'banker',\n",
              " 'andy',\n",
              " 'dufresne',\n",
              " 'begins',\n",
              " 'new',\n",
              " 'life',\n",
              " 'shawshank',\n",
              " 'prison',\n",
              " 'puts',\n",
              " 'accounting',\n",
              " 'skills',\n",
              " 'work',\n",
              " 'amoral',\n",
              " 'warden',\n",
              " 'long',\n",
              " 'stretch',\n",
              " 'prison',\n",
              " 'dufresne',\n",
              " 'comes',\n",
              " 'admired',\n",
              " 'inmates',\n",
              " 'including',\n",
              " 'older',\n",
              " 'prisoner',\n",
              " 'named',\n",
              " 'red',\n",
              " 'integrity',\n",
              " 'unquenchable',\n",
              " 'sense',\n",
              " 'hope']"
            ]
          },
          "metadata": {},
          "execution_count": 61
        }
      ]
    },
    {
      "cell_type": "markdown",
      "source": [
        "Applying to whole description column of dataset"
      ],
      "metadata": {
        "id": "9YJ4XpM1sP2y"
      }
    },
    {
      "cell_type": "code",
      "source": [
        "df.description = df.description.apply(lambda x: word_tokenize(x))\n",
        "df.description"
      ],
      "metadata": {
        "colab": {
          "base_uri": "https://localhost:8080/"
        },
        "id": "Y2zIIHH6kRra",
        "outputId": "715ca8fd-fb23-4edf-f4c1-4f29f19b25cb"
      },
      "execution_count": 62,
      "outputs": [
        {
          "output_type": "execute_result",
          "data": {
            "text/plain": [
              "0       [framed, 1940s, double, murder, wife, lover, u...\n",
              "1       [raj, rich, carefree, happygolucky, second, ge...\n",
              "2       [spanning, years, 1945, 1955, chronicle, ficti...\n",
              "3       [tragic, accident, lead, kaoris, blindness, cl...\n",
              "4       [true, story, businessman, oskar, schindler, s...\n",
              "                              ...                        \n",
              "9731    [edward, carnby, private, investigator, specia...\n",
              "9732    [set, island, coast, techno, rave, party, attr...\n",
              "9733    [young, warrior, son, goku, sets, quest, racin...\n",
              "9734    [italian, parody, biggest, us, blockbusters, g...\n",
              "9735    [platoon, eagles, vultures, attacks, residents...\n",
              "Name: description, Length: 9736, dtype: object"
            ]
          },
          "metadata": {},
          "execution_count": 62
        }
      ]
    },
    {
      "cell_type": "markdown",
      "source": [
        "# Stemming"
      ],
      "metadata": {
        "id": "M734ziyCkGwi"
      }
    },
    {
      "cell_type": "code",
      "source": [
        "# import these modules\n",
        "from nltk.stem import PorterStemmer\n",
        "from nltk.tokenize import word_tokenize\n",
        "\n",
        "ps = PorterStemmer()\n",
        "\n",
        "# choose some words to be stemmed\n",
        "words = [\"program\", \"programs\", \"programmer\", \"programming\", \"programmers\"]\n",
        "\n",
        "for w in words:\n",
        "\tprint(w, \" : \", ps.stem(w))\n"
      ],
      "metadata": {
        "colab": {
          "base_uri": "https://localhost:8080/"
        },
        "id": "OuePzn6Khz_Z",
        "outputId": "35ee2943-ff15-40ae-e5ac-43831f8fbf77"
      },
      "execution_count": 63,
      "outputs": [
        {
          "output_type": "stream",
          "name": "stdout",
          "text": [
            "program  :  program\n",
            "programs  :  program\n",
            "programmer  :  programm\n",
            "programming  :  program\n",
            "programmers  :  programm\n"
          ]
        }
      ]
    },
    {
      "cell_type": "code",
      "source": [
        "from nltk.stem import WordNetLemmatizer\n",
        "wordnet = WordNetLemmatizer()"
      ],
      "metadata": {
        "id": "IF2uI8Qvkgci"
      },
      "execution_count": 64,
      "outputs": []
    },
    {
      "cell_type": "code",
      "source": [
        "nltk.download(\"wordnet\")"
      ],
      "metadata": {
        "colab": {
          "base_uri": "https://localhost:8080/"
        },
        "id": "_Qvse974lKbe",
        "outputId": "b5085f36-4b2c-4f37-f8fb-a060183f20b8"
      },
      "execution_count": 65,
      "outputs": [
        {
          "output_type": "stream",
          "name": "stdout",
          "text": [
            "[nltk_data] Downloading package wordnet to /root/nltk_data...\n",
            "[nltk_data]   Unzipping corpora/wordnet.zip.\n"
          ]
        },
        {
          "output_type": "execute_result",
          "data": {
            "text/plain": [
              "True"
            ]
          },
          "metadata": {},
          "execution_count": 65
        }
      ]
    },
    {
      "cell_type": "markdown",
      "source": [
        "# Learning Formatted Output"
      ],
      "metadata": {
        "id": "4JxA8hLtsY-L"
      }
    },
    {
      "cell_type": "markdown",
      "source": [
        "That's how we align things."
      ],
      "metadata": {
        "id": "3OPPm4sdmde3"
      }
    },
    {
      "cell_type": "code",
      "source": [
        "\n",
        "# here 20 spaces are reserved for the \n",
        "# particular output string. And the string\n",
        "# is printed on the left side\n",
        "print(f\"{'Left Aligned Text' : <20}\")"
      ],
      "metadata": {
        "colab": {
          "base_uri": "https://localhost:8080/"
        },
        "id": "jRJCyIDmmtUv",
        "outputId": "328ff945-a7ee-4aef-c621-5bbbc581d5c2"
      },
      "execution_count": 66,
      "outputs": [
        {
          "output_type": "stream",
          "name": "stdout",
          "text": [
            "Left Aligned Text   \n"
          ]
        }
      ]
    },
    {
      "cell_type": "code",
      "source": [
        "\n",
        "# here 20 spaces are reserved for the \n",
        "# particular output string. And the string\n",
        "# is printed on the right side\n",
        "print(f\"{'Right Aligned Text' : >20}\")"
      ],
      "metadata": {
        "colab": {
          "base_uri": "https://localhost:8080/"
        },
        "id": "xBsKJK9pmyX7",
        "outputId": "53663c41-eff0-4123-a957-f4b26a8b590b"
      },
      "execution_count": 67,
      "outputs": [
        {
          "output_type": "stream",
          "name": "stdout",
          "text": [
            "  Right Aligned Text\n"
          ]
        }
      ]
    },
    {
      "cell_type": "code",
      "source": [
        "# here 20 spaces are reserved for the \n",
        "# particular output string. And the string\n",
        "# is printed in the middle\n",
        "print(f\"{'Centered' : ^10}\")"
      ],
      "metadata": {
        "colab": {
          "base_uri": "https://localhost:8080/"
        },
        "id": "0O-6eczDm2u4",
        "outputId": "3cfc366c-104d-4ab3-fe1f-bcec50c512d4"
      },
      "execution_count": 68,
      "outputs": [
        {
          "output_type": "stream",
          "name": "stdout",
          "text": [
            " Centered \n"
          ]
        }
      ]
    },
    {
      "cell_type": "code",
      "source": [
        "# assigning strings to the variables\n",
        "left_alignment = \"Left Text\"\n",
        "center_alignment = \"Centered Text\"\n",
        "right_alignment = \"Right Text\"\n",
        "\n",
        "# printing out aligned text\n",
        "print(f\"{left_alignment : <20}{center_alignment : ^15}{right_alignment : >20}\")\n"
      ],
      "metadata": {
        "colab": {
          "base_uri": "https://localhost:8080/"
        },
        "id": "pzjrARnqm_p4",
        "outputId": "7589fe90-2811-4efa-fa66-35f78605f87a"
      },
      "execution_count": 69,
      "outputs": [
        {
          "output_type": "stream",
          "name": "stdout",
          "text": [
            "Left Text            Centered Text           Right Text\n"
          ]
        }
      ]
    },
    {
      "cell_type": "code",
      "source": [
        "\n",
        "# assigning list values to the variables\n",
        "names = ['Raj', 'Shivam', 'Shreeya', 'Kartik']\n",
        "marks = [7, 9, 8, 5]\n",
        "div = ['A', 'A', 'C', 'B']\n",
        "id = [21, 52, 27, 38]\n",
        "\n",
        "\n",
        "print(f\"{'Name' : <10}{'Marks' : ^10}{'Division' : ^10}{'ID' : >5}\")\n",
        "  \n",
        "# printing values of variables in Aligned manner\n",
        "for i in range(0, 4):\n",
        "    print(f\"{names[i] : <10}{marks[i] : ^10}{div[i] : ^10}{id[i] : >5}\")"
      ],
      "metadata": {
        "colab": {
          "base_uri": "https://localhost:8080/"
        },
        "id": "fLCmUj5YlH4E",
        "outputId": "d22f4d21-56e1-498e-a1ed-3f4ef3fec914"
      },
      "execution_count": 70,
      "outputs": [
        {
          "output_type": "stream",
          "name": "stdout",
          "text": [
            "Name        Marks    Division    ID\n",
            "Raj           7         A        21\n",
            "Shivam        9         A        52\n",
            "Shreeya       8         C        27\n",
            "Kartik        5         B        38\n"
          ]
        }
      ]
    },
    {
      "cell_type": "code",
      "source": [
        ""
      ],
      "metadata": {
        "id": "PK28wBznmXF4"
      },
      "execution_count": 70,
      "outputs": []
    },
    {
      "cell_type": "code",
      "source": [
        "print(f\"{'Original':<20}{'Stemmed':^20}{'Lemmatized':^20}\")\n",
        "for w in df.description[6]:\n",
        "  print(f\"{w:<20}{ps.stem(w):^20}{wordnet.lemmatize(w):^20}\")"
      ],
      "metadata": {
        "colab": {
          "base_uri": "https://localhost:8080/"
        },
        "id": "4onFqFYykI6S",
        "outputId": "6eebeafb-ccbd-4d2e-c152-53b8049178a3"
      },
      "execution_count": 115,
      "outputs": [
        {
          "output_type": "stream",
          "name": "stdout",
          "text": [
            "Original                  Stemmed            Lemmatized     \n",
            "continu                   continu             continu       \n",
            "saga                        saga                saga        \n",
            "corleon                   corleon             corleon       \n",
            "crime                      crime               crime        \n",
            "famili                     famili              famili       \n",
            "young                      young               young        \n",
            "vito                        vito                vito        \n",
            "corleon                   corleon             corleon       \n",
            "grow                        grow                grow        \n",
            "sicili                     sicili              sicili       \n",
            "1910                        1910                1910        \n",
            "new                         new                 new         \n",
            "york                        york                york        \n",
            "1950                        1950                1950        \n",
            "michael                   michael             michael       \n",
            "corleon                   corleon             corleon       \n",
            "attempt                   attempt             attempt       \n",
            "expand                     expand              expand       \n",
            "famili                     famili              famili       \n",
            "busi                        busi                busi        \n",
            "la                           la                  la         \n",
            "vega                        vega                vega        \n",
            "hollywood                hollywood           hollywood      \n",
            "cuba                        cuba                cuba        \n"
          ]
        }
      ]
    },
    {
      "cell_type": "markdown",
      "source": [
        "looks like both are giving good results, but we will manually check for some words"
      ],
      "metadata": {
        "id": "dQQE15gkonL5"
      }
    },
    {
      "cell_type": "code",
      "source": [
        "a = [\"continue\", \"continued\", \"countinuing\", \"countinous\", \"continuing\"]\n",
        "\n",
        "for w in a:\n",
        "  print(w, \"  :  \", ps.stem(w), \"  :  \", wordnet.lemmatize(w))"
      ],
      "metadata": {
        "colab": {
          "base_uri": "https://localhost:8080/"
        },
        "id": "mViYN7hBn8WM",
        "outputId": "723d1c9f-9fb8-43bc-fb81-487796b263ad"
      },
      "execution_count": 72,
      "outputs": [
        {
          "output_type": "stream",
          "name": "stdout",
          "text": [
            "continue   :   continu   :   continue\n",
            "continued   :   continu   :   continued\n",
            "countinuing   :   countinu   :   countinuing\n",
            "countinous   :   countin   :   countinous\n",
            "continuing   :   continu   :   continuing\n"
          ]
        }
      ]
    },
    {
      "cell_type": "markdown",
      "source": [
        "since lemmatization gives so many version above words, we will go with stemming"
      ],
      "metadata": {
        "id": "JNk5NeLnpx7s"
      }
    },
    {
      "cell_type": "code",
      "source": [
        "des_stemmed = df.description.apply(lambda x: [ps.stem(i) for i in x])"
      ],
      "metadata": {
        "id": "Pk5WvlA8pSZr"
      },
      "execution_count": 73,
      "outputs": []
    },
    {
      "cell_type": "code",
      "source": [
        "des_stemmed"
      ],
      "metadata": {
        "colab": {
          "base_uri": "https://localhost:8080/"
        },
        "id": "Zp5zByISqYQQ",
        "outputId": "d0667b68-2a2e-46e6-b830-7ea3c643ebf0"
      },
      "execution_count": 74,
      "outputs": [
        {
          "output_type": "execute_result",
          "data": {
            "text/plain": [
              "0       [frame, 1940, doubl, murder, wife, lover, upst...\n",
              "1       [raj, rich, carefre, happygolucki, second, gen...\n",
              "2       [span, year, 1945, 1955, chronicl, fiction, it...\n",
              "3       [tragic, accid, lead, kaori, blind, cling, lif...\n",
              "4       [true, stori, businessman, oskar, schindler, s...\n",
              "                              ...                        \n",
              "9731    [edward, carnbi, privat, investig, special, un...\n",
              "9732    [set, island, coast, techno, rave, parti, attr...\n",
              "9733    [young, warrior, son, goku, set, quest, race, ...\n",
              "9734    [italian, parodi, biggest, us, blockbust, glad...\n",
              "9735    [platoon, eagl, vultur, attack, resid, small, ...\n",
              "Name: description, Length: 9736, dtype: object"
            ]
          },
          "metadata": {},
          "execution_count": 74
        }
      ]
    },
    {
      "cell_type": "code",
      "source": [
        "df.description = des_stemmed"
      ],
      "metadata": {
        "id": "V2s5g8cjqjWN"
      },
      "execution_count": 75,
      "outputs": []
    },
    {
      "cell_type": "markdown",
      "source": [
        "# And here we have our dataset, ready to be modelled upon."
      ],
      "metadata": {
        "id": "ovPrXDgkq3MO"
      }
    },
    {
      "cell_type": "code",
      "source": [
        "df"
      ],
      "metadata": {
        "colab": {
          "base_uri": "https://localhost:8080/",
          "height": 423
        },
        "id": "KEJkHN82qoAl",
        "outputId": "cdd96243-d453-46a8-db96-cc2c3ebc4630"
      },
      "execution_count": 76,
      "outputs": [
        {
          "output_type": "execute_result",
          "data": {
            "text/html": [
              "\n",
              "  <div id=\"df-2c8cb53a-b1b5-469c-8e93-8224fa953e65\">\n",
              "    <div class=\"colab-df-container\">\n",
              "      <div>\n",
              "<style scoped>\n",
              "    .dataframe tbody tr th:only-of-type {\n",
              "        vertical-align: middle;\n",
              "    }\n",
              "\n",
              "    .dataframe tbody tr th {\n",
              "        vertical-align: top;\n",
              "    }\n",
              "\n",
              "    .dataframe thead th {\n",
              "        text-align: right;\n",
              "    }\n",
              "</style>\n",
              "<table border=\"1\" class=\"dataframe\">\n",
              "  <thead>\n",
              "    <tr style=\"text-align: right;\">\n",
              "      <th></th>\n",
              "      <th>title</th>\n",
              "      <th>genres</th>\n",
              "      <th>description</th>\n",
              "    </tr>\n",
              "  </thead>\n",
              "  <tbody>\n",
              "    <tr>\n",
              "      <th>0</th>\n",
              "      <td>The Shawshank Redemption</td>\n",
              "      <td>[Drama, Crime]</td>\n",
              "      <td>[frame, 1940, doubl, murder, wife, lover, upst...</td>\n",
              "    </tr>\n",
              "    <tr>\n",
              "      <th>1</th>\n",
              "      <td>Dilwale Dulhania Le Jayenge</td>\n",
              "      <td>[Comedy, Drama, Romance]</td>\n",
              "      <td>[raj, rich, carefre, happygolucki, second, gen...</td>\n",
              "    </tr>\n",
              "    <tr>\n",
              "      <th>2</th>\n",
              "      <td>The Godfather</td>\n",
              "      <td>[Drama, Crime]</td>\n",
              "      <td>[span, year, 1945, 1955, chronicl, fiction, it...</td>\n",
              "    </tr>\n",
              "    <tr>\n",
              "      <th>3</th>\n",
              "      <td>Your Eyes Tell</td>\n",
              "      <td>[Romance, Drama]</td>\n",
              "      <td>[tragic, accid, lead, kaori, blind, cling, lif...</td>\n",
              "    </tr>\n",
              "    <tr>\n",
              "      <th>4</th>\n",
              "      <td>Schindler's List</td>\n",
              "      <td>[Drama, History, War]</td>\n",
              "      <td>[true, stori, businessman, oskar, schindler, s...</td>\n",
              "    </tr>\n",
              "    <tr>\n",
              "      <th>...</th>\n",
              "      <td>...</td>\n",
              "      <td>...</td>\n",
              "      <td>...</td>\n",
              "    </tr>\n",
              "    <tr>\n",
              "      <th>9731</th>\n",
              "      <td>Alone in the Dark</td>\n",
              "      <td>[Action, Fantasy, Horror]</td>\n",
              "      <td>[edward, carnbi, privat, investig, special, un...</td>\n",
              "    </tr>\n",
              "    <tr>\n",
              "      <th>9732</th>\n",
              "      <td>House of the Dead</td>\n",
              "      <td>[Horror, Action, Thriller]</td>\n",
              "      <td>[set, island, coast, techno, rave, parti, attr...</td>\n",
              "    </tr>\n",
              "    <tr>\n",
              "      <th>9733</th>\n",
              "      <td>Dragonball Evolution</td>\n",
              "      <td>[Action, Adventure, Fantasy, Science Fiction, ...</td>\n",
              "      <td>[young, warrior, son, goku, set, quest, race, ...</td>\n",
              "    </tr>\n",
              "    <tr>\n",
              "      <th>9734</th>\n",
              "      <td>Box Office 3D - Il film dei film</td>\n",
              "      <td>[Comedy]</td>\n",
              "      <td>[italian, parodi, biggest, us, blockbust, glad...</td>\n",
              "    </tr>\n",
              "    <tr>\n",
              "      <th>9735</th>\n",
              "      <td>Birdemic: Shock and Terror</td>\n",
              "      <td>[Science Fiction, Horror, Romance, Thriller]</td>\n",
              "      <td>[platoon, eagl, vultur, attack, resid, small, ...</td>\n",
              "    </tr>\n",
              "  </tbody>\n",
              "</table>\n",
              "<p>9736 rows × 3 columns</p>\n",
              "</div>\n",
              "      <button class=\"colab-df-convert\" onclick=\"convertToInteractive('df-2c8cb53a-b1b5-469c-8e93-8224fa953e65')\"\n",
              "              title=\"Convert this dataframe to an interactive table.\"\n",
              "              style=\"display:none;\">\n",
              "        \n",
              "  <svg xmlns=\"http://www.w3.org/2000/svg\" height=\"24px\"viewBox=\"0 0 24 24\"\n",
              "       width=\"24px\">\n",
              "    <path d=\"M0 0h24v24H0V0z\" fill=\"none\"/>\n",
              "    <path d=\"M18.56 5.44l.94 2.06.94-2.06 2.06-.94-2.06-.94-.94-2.06-.94 2.06-2.06.94zm-11 1L8.5 8.5l.94-2.06 2.06-.94-2.06-.94L8.5 2.5l-.94 2.06-2.06.94zm10 10l.94 2.06.94-2.06 2.06-.94-2.06-.94-.94-2.06-.94 2.06-2.06.94z\"/><path d=\"M17.41 7.96l-1.37-1.37c-.4-.4-.92-.59-1.43-.59-.52 0-1.04.2-1.43.59L10.3 9.45l-7.72 7.72c-.78.78-.78 2.05 0 2.83L4 21.41c.39.39.9.59 1.41.59.51 0 1.02-.2 1.41-.59l7.78-7.78 2.81-2.81c.8-.78.8-2.07 0-2.86zM5.41 20L4 18.59l7.72-7.72 1.47 1.35L5.41 20z\"/>\n",
              "  </svg>\n",
              "      </button>\n",
              "      \n",
              "  <style>\n",
              "    .colab-df-container {\n",
              "      display:flex;\n",
              "      flex-wrap:wrap;\n",
              "      gap: 12px;\n",
              "    }\n",
              "\n",
              "    .colab-df-convert {\n",
              "      background-color: #E8F0FE;\n",
              "      border: none;\n",
              "      border-radius: 50%;\n",
              "      cursor: pointer;\n",
              "      display: none;\n",
              "      fill: #1967D2;\n",
              "      height: 32px;\n",
              "      padding: 0 0 0 0;\n",
              "      width: 32px;\n",
              "    }\n",
              "\n",
              "    .colab-df-convert:hover {\n",
              "      background-color: #E2EBFA;\n",
              "      box-shadow: 0px 1px 2px rgba(60, 64, 67, 0.3), 0px 1px 3px 1px rgba(60, 64, 67, 0.15);\n",
              "      fill: #174EA6;\n",
              "    }\n",
              "\n",
              "    [theme=dark] .colab-df-convert {\n",
              "      background-color: #3B4455;\n",
              "      fill: #D2E3FC;\n",
              "    }\n",
              "\n",
              "    [theme=dark] .colab-df-convert:hover {\n",
              "      background-color: #434B5C;\n",
              "      box-shadow: 0px 1px 3px 1px rgba(0, 0, 0, 0.15);\n",
              "      filter: drop-shadow(0px 1px 2px rgba(0, 0, 0, 0.3));\n",
              "      fill: #FFFFFF;\n",
              "    }\n",
              "  </style>\n",
              "\n",
              "      <script>\n",
              "        const buttonEl =\n",
              "          document.querySelector('#df-2c8cb53a-b1b5-469c-8e93-8224fa953e65 button.colab-df-convert');\n",
              "        buttonEl.style.display =\n",
              "          google.colab.kernel.accessAllowed ? 'block' : 'none';\n",
              "\n",
              "        async function convertToInteractive(key) {\n",
              "          const element = document.querySelector('#df-2c8cb53a-b1b5-469c-8e93-8224fa953e65');\n",
              "          const dataTable =\n",
              "            await google.colab.kernel.invokeFunction('convertToInteractive',\n",
              "                                                     [key], {});\n",
              "          if (!dataTable) return;\n",
              "\n",
              "          const docLinkHtml = 'Like what you see? Visit the ' +\n",
              "            '<a target=\"_blank\" href=https://colab.research.google.com/notebooks/data_table.ipynb>data table notebook</a>'\n",
              "            + ' to learn more about interactive tables.';\n",
              "          element.innerHTML = '';\n",
              "          dataTable['output_type'] = 'display_data';\n",
              "          await google.colab.output.renderOutput(dataTable, element);\n",
              "          const docLink = document.createElement('div');\n",
              "          docLink.innerHTML = docLinkHtml;\n",
              "          element.appendChild(docLink);\n",
              "        }\n",
              "      </script>\n",
              "    </div>\n",
              "  </div>\n",
              "  "
            ],
            "text/plain": [
              "                                 title  \\\n",
              "0             The Shawshank Redemption   \n",
              "1          Dilwale Dulhania Le Jayenge   \n",
              "2                        The Godfather   \n",
              "3                       Your Eyes Tell   \n",
              "4                     Schindler's List   \n",
              "...                                ...   \n",
              "9731                 Alone in the Dark   \n",
              "9732                 House of the Dead   \n",
              "9733              Dragonball Evolution   \n",
              "9734  Box Office 3D - Il film dei film   \n",
              "9735        Birdemic: Shock and Terror   \n",
              "\n",
              "                                                 genres  \\\n",
              "0                                        [Drama, Crime]   \n",
              "1                              [Comedy, Drama, Romance]   \n",
              "2                                        [Drama, Crime]   \n",
              "3                                      [Romance, Drama]   \n",
              "4                                 [Drama, History, War]   \n",
              "...                                                 ...   \n",
              "9731                          [Action, Fantasy, Horror]   \n",
              "9732                         [Horror, Action, Thriller]   \n",
              "9733  [Action, Adventure, Fantasy, Science Fiction, ...   \n",
              "9734                                           [Comedy]   \n",
              "9735       [Science Fiction, Horror, Romance, Thriller]   \n",
              "\n",
              "                                            description  \n",
              "0     [frame, 1940, doubl, murder, wife, lover, upst...  \n",
              "1     [raj, rich, carefre, happygolucki, second, gen...  \n",
              "2     [span, year, 1945, 1955, chronicl, fiction, it...  \n",
              "3     [tragic, accid, lead, kaori, blind, cling, lif...  \n",
              "4     [true, stori, businessman, oskar, schindler, s...  \n",
              "...                                                 ...  \n",
              "9731  [edward, carnbi, privat, investig, special, un...  \n",
              "9732  [set, island, coast, techno, rave, parti, attr...  \n",
              "9733  [young, warrior, son, goku, set, quest, race, ...  \n",
              "9734  [italian, parodi, biggest, us, blockbust, glad...  \n",
              "9735  [platoon, eagl, vultur, attack, resid, small, ...  \n",
              "\n",
              "[9736 rows x 3 columns]"
            ]
          },
          "metadata": {},
          "execution_count": 76
        }
      ]
    },
    {
      "cell_type": "markdown",
      "source": [
        "# Featrue Extraction"
      ],
      "metadata": {
        "id": "GMsUckXBHAVH"
      }
    },
    {
      "cell_type": "markdown",
      "source": [
        "## TF-IDF"
      ],
      "metadata": {
        "id": "7PRSFNJOHCSW"
      }
    },
    {
      "cell_type": "code",
      "source": [
        "from sklearn.feature_extraction.text import TfidfVectorizer\n",
        "tfidf = TfidfVectorizer()"
      ],
      "metadata": {
        "id": "hA-kPCfaquhL"
      },
      "execution_count": 77,
      "outputs": []
    },
    {
      "cell_type": "code",
      "source": [
        "TFDF = tfidf.fit_transform(df.description.apply(lambda x: \" \".join(x))).toarray()"
      ],
      "metadata": {
        "id": "MV7rlP5vBXOu"
      },
      "execution_count": 79,
      "outputs": []
    },
    {
      "cell_type": "code",
      "source": [
        "TFDF"
      ],
      "metadata": {
        "colab": {
          "base_uri": "https://localhost:8080/"
        },
        "id": "_Etg-sjwBfgW",
        "outputId": "43bed42f-15ff-4f58-a94e-6247ef72794c"
      },
      "execution_count": 80,
      "outputs": [
        {
          "output_type": "execute_result",
          "data": {
            "text/plain": [
              "array([[0., 0., 0., ..., 0., 0., 0.],\n",
              "       [0., 0., 0., ..., 0., 0., 0.],\n",
              "       [0., 0., 0., ..., 0., 0., 0.],\n",
              "       ...,\n",
              "       [0., 0., 0., ..., 0., 0., 0.],\n",
              "       [0., 0., 0., ..., 0., 0., 0.],\n",
              "       [0., 0., 0., ..., 0., 0., 0.]])"
            ]
          },
          "metadata": {},
          "execution_count": 80
        }
      ]
    },
    {
      "cell_type": "code",
      "source": [
        "print(tfidf.idf_)\n",
        "print(tfidf.get_feature_names_out())"
      ],
      "metadata": {
        "colab": {
          "base_uri": "https://localhost:8080/"
        },
        "id": "lD_TfiSCBsyI",
        "outputId": "56576c7b-3025-4d89-c059-a5e436f09ac4"
      },
      "execution_count": 81,
      "outputs": [
        {
          "output_type": "stream",
          "name": "stdout",
          "text": [
            "[9.08507605 9.08507605 8.23777819 ... 9.49054116 9.49054116 9.49054116]\n",
            "['00' '000' '007' ... 'öztürk' 'ﬁght' 'ﬁrst']\n"
          ]
        }
      ]
    },
    {
      "cell_type": "code",
      "source": [
        "from sklearn.feature_extraction.text import CountVectorizer\n",
        "cv = CountVectorizer()"
      ],
      "metadata": {
        "id": "0udfnJEiBvam"
      },
      "execution_count": 82,
      "outputs": []
    },
    {
      "cell_type": "code",
      "source": [
        "bow = cv.fit_transform(df.description.apply(lambda x: \" \".join(x)))"
      ],
      "metadata": {
        "id": "AS7-G2_uB6-Q"
      },
      "execution_count": 84,
      "outputs": []
    },
    {
      "cell_type": "code",
      "source": [
        "type(cv.vocabulary_)"
      ],
      "metadata": {
        "colab": {
          "base_uri": "https://localhost:8080/"
        },
        "id": "57PHGyhuGKHT",
        "outputId": "37431fb9-04af-4b3d-c3d9-595eb482140c"
      },
      "execution_count": 106,
      "outputs": [
        {
          "output_type": "execute_result",
          "data": {
            "text/plain": [
              "dict"
            ]
          },
          "metadata": {},
          "execution_count": 106
        }
      ]
    },
    {
      "cell_type": "code",
      "source": [
        "n = 1\n",
        "for i, j in cv.vocabulary_.items():\n",
        "  print(f\"{i} : {j}\")\n",
        "  n += 1\n",
        "  if n > 20:\n",
        "    break"
      ],
      "metadata": {
        "colab": {
          "base_uri": "https://localhost:8080/"
        },
        "id": "hPTpPerICBis",
        "outputId": "8de777ff-e78c-47f7-e7dc-03c4fa21645f"
      },
      "execution_count": 111,
      "outputs": [
        {
          "output_type": "stream",
          "name": "stdout",
          "text": [
            "frame : 7817\n",
            "1940 : 193\n",
            "doubl : 6016\n",
            "murder : 13615\n",
            "wife : 22102\n",
            "lover : 12079\n",
            "upstand : 21296\n",
            "banker : 1992\n",
            "andi : 1209\n",
            "dufresn : 6209\n",
            "begin : 2236\n",
            "new : 13933\n",
            "life : 11752\n",
            "shawshank : 18076\n",
            "prison : 15835\n",
            "put : 16070\n",
            "account : 626\n",
            "skill : 18426\n",
            "work : 22280\n",
            "amor : 1156\n"
          ]
        }
      ]
    },
    {
      "cell_type": "code",
      "source": [
        "bow.shape"
      ],
      "metadata": {
        "colab": {
          "base_uri": "https://localhost:8080/"
        },
        "id": "TRPugDO7CJRT",
        "outputId": "59ba2d12-869e-456b-8efb-84b020d7bad1"
      },
      "execution_count": 87,
      "outputs": [
        {
          "output_type": "execute_result",
          "data": {
            "text/plain": [
              "(9736, 22649)"
            ]
          },
          "metadata": {},
          "execution_count": 87
        }
      ]
    },
    {
      "cell_type": "markdown",
      "source": [
        "## CountVectorizer----BAG OF WORDS"
      ],
      "metadata": {
        "id": "-IfsFFL2HGJI"
      }
    },
    {
      "cell_type": "code",
      "source": [
        "cv2 = CountVectorizer(ngram_range=(2, 3))"
      ],
      "metadata": {
        "id": "bBX7SYvhCK3F"
      },
      "execution_count": 88,
      "outputs": []
    },
    {
      "cell_type": "code",
      "source": [
        "bow2 = cv2.fit_transform(df.description.apply(lambda x:\" \".join(x)))"
      ],
      "metadata": {
        "id": "Jul9t_z6Ccx7"
      },
      "execution_count": 90,
      "outputs": []
    },
    {
      "cell_type": "code",
      "source": [
        "print(len(cv2.vocabulary_))"
      ],
      "metadata": {
        "colab": {
          "base_uri": "https://localhost:8080/"
        },
        "id": "95S27ObaCl_t",
        "outputId": "81d74958-c0d6-41ae-eaf2-0a69b283d5bc"
      },
      "execution_count": 99,
      "outputs": [
        {
          "output_type": "stream",
          "name": "stdout",
          "text": [
            "439270\n"
          ]
        }
      ]
    },
    {
      "cell_type": "code",
      "source": [
        "import time"
      ],
      "metadata": {
        "id": "OcA0fr5lD-xc"
      },
      "execution_count": 101,
      "outputs": []
    },
    {
      "cell_type": "code",
      "source": [
        "for i in cv2.vocabulary_:\n",
        "  time.sleep(1)\n",
        "  print(i)"
      ],
      "metadata": {
        "colab": {
          "base_uri": "https://localhost:8080/",
          "height": 1000
        },
        "id": "KE1_bXtUCqTn",
        "outputId": "c250074f-c202-4668-fa30-e54117e79f67"
      },
      "execution_count": 102,
      "outputs": [
        {
          "output_type": "stream",
          "name": "stdout",
          "text": [
            "frame 1940\n",
            "1940 doubl\n",
            "doubl murder\n",
            "murder wife\n",
            "wife lover\n",
            "lover upstand\n",
            "upstand banker\n",
            "banker andi\n",
            "andi dufresn\n",
            "dufresn begin\n",
            "begin new\n",
            "new life\n",
            "life shawshank\n",
            "shawshank prison\n",
            "prison put\n",
            "put account\n",
            "account skill\n",
            "skill work\n",
            "work amor\n",
            "amor warden\n",
            "warden long\n",
            "long stretch\n",
            "stretch prison\n",
            "prison dufresn\n",
            "dufresn come\n",
            "come admir\n",
            "admir inmat\n",
            "inmat includ\n",
            "includ older\n",
            "older prison\n",
            "prison name\n",
            "name red\n",
            "red integr\n",
            "integr unquench\n",
            "unquench sens\n",
            "sens hope\n",
            "frame 1940 doubl\n",
            "1940 doubl murder\n",
            "doubl murder wife\n",
            "murder wife lover\n",
            "wife lover upstand\n",
            "lover upstand banker\n",
            "upstand banker andi\n",
            "banker andi dufresn\n",
            "andi dufresn begin\n",
            "dufresn begin new\n",
            "begin new life\n",
            "new life shawshank\n",
            "life shawshank prison\n",
            "shawshank prison put\n",
            "prison put account\n",
            "put account skill\n",
            "account skill work\n",
            "skill work amor\n",
            "work amor warden\n",
            "amor warden long\n",
            "warden long stretch\n",
            "long stretch prison\n",
            "stretch prison dufresn\n",
            "prison dufresn come\n",
            "dufresn come admir\n",
            "come admir inmat\n",
            "admir inmat includ\n",
            "inmat includ older\n",
            "includ older prison\n",
            "older prison name\n",
            "prison name red\n",
            "name red integr\n",
            "red integr unquench\n",
            "integr unquench sens\n",
            "unquench sens hope\n",
            "raj rich\n",
            "rich carefre\n",
            "carefre happygolucki\n",
            "happygolucki second\n",
            "second gener\n",
            "gener nri\n",
            "nri simran\n",
            "simran daughter\n",
            "daughter chaudhari\n",
            "chaudhari baldev\n",
            "baldev singh\n"
          ]
        },
        {
          "output_type": "error",
          "ename": "KeyboardInterrupt",
          "evalue": "ignored",
          "traceback": [
            "\u001b[0;31m---------------------------------------------------------------------------\u001b[0m",
            "\u001b[0;31mKeyboardInterrupt\u001b[0m                         Traceback (most recent call last)",
            "\u001b[0;32m<ipython-input-102-145e191c1526>\u001b[0m in \u001b[0;36m<module>\u001b[0;34m()\u001b[0m\n\u001b[1;32m      1\u001b[0m \u001b[0;32mfor\u001b[0m \u001b[0mi\u001b[0m \u001b[0;32min\u001b[0m \u001b[0mcv2\u001b[0m\u001b[0;34m.\u001b[0m\u001b[0mvocabulary_\u001b[0m\u001b[0;34m:\u001b[0m\u001b[0;34m\u001b[0m\u001b[0;34m\u001b[0m\u001b[0m\n\u001b[0;32m----> 2\u001b[0;31m   \u001b[0mtime\u001b[0m\u001b[0;34m.\u001b[0m\u001b[0msleep\u001b[0m\u001b[0;34m(\u001b[0m\u001b[0;36m1\u001b[0m\u001b[0;34m)\u001b[0m\u001b[0;34m\u001b[0m\u001b[0;34m\u001b[0m\u001b[0m\n\u001b[0m\u001b[1;32m      3\u001b[0m   \u001b[0mprint\u001b[0m\u001b[0;34m(\u001b[0m\u001b[0mi\u001b[0m\u001b[0;34m)\u001b[0m\u001b[0;34m\u001b[0m\u001b[0;34m\u001b[0m\u001b[0m\n",
            "\u001b[0;31mKeyboardInterrupt\u001b[0m: "
          ]
        }
      ]
    },
    {
      "cell_type": "code",
      "source": [
        ""
      ],
      "metadata": {
        "id": "sKA-drd4D5eA"
      },
      "execution_count": null,
      "outputs": []
    }
  ]
}
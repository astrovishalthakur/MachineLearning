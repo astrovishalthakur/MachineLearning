{
  "nbformat": 4,
  "nbformat_minor": 0,
  "metadata": {
    "colab": {
      "name": "TextPreprocessing.ipynb",
      "provenance": [],
      "collapsed_sections": [],
      "authorship_tag": "ABX9TyPJzgN0Eix6icaKeChGam7U",
      "include_colab_link": true
    },
    "kernelspec": {
      "name": "python3",
      "display_name": "Python 3"
    },
    "language_info": {
      "name": "python"
    }
  },
  "cells": [
    {
      "cell_type": "markdown",
      "metadata": {
        "id": "view-in-github",
        "colab_type": "text"
      },
      "source": [
        "<a href=\"https://colab.research.google.com/github/astrovishalthakur/MachineLearning/blob/main/NaturalLanguageProcessing/Basics/TextPreprocessing.ipynb\" target=\"_parent\"><img src=\"https://colab.research.google.com/assets/colab-badge.svg\" alt=\"Open In Colab\"/></a>"
      ]
    },
    {
      "cell_type": "markdown",
      "source": [
        "### NLP PIPELINE\n",
        "\n",
        "We will se how to do basic text processing as a nlp pipeline"
      ],
      "metadata": {
        "id": "zhdfweauWlmv"
      }
    },
    {
      "cell_type": "code",
      "execution_count": 1,
      "metadata": {
        "id": "NRPtgz7bWMLe"
      },
      "outputs": [],
      "source": [
        "import requests"
      ]
    },
    {
      "cell_type": "code",
      "source": [
        "url1 = \"https://api.themoviedb.org/3/movie/top_rated?api_key=73326928ce817d080bf46bdc0bc675b2&language=en-US&page=\""
      ],
      "metadata": {
        "id": "iwQckou-XCHs"
      },
      "execution_count": 2,
      "outputs": []
    },
    {
      "cell_type": "code",
      "source": [
        "url2 = \"https://api.themoviedb.org/3/genre/movie/list?api_key=73326928ce817d080bf46bdc0bc675b2&language=en-US\""
      ],
      "metadata": {
        "id": "RFBAthYfXLXr"
      },
      "execution_count": 3,
      "outputs": []
    },
    {
      "cell_type": "code",
      "source": [
        "details = []"
      ],
      "metadata": {
        "id": "YH0YNIKbXW-H"
      },
      "execution_count": 4,
      "outputs": []
    },
    {
      "cell_type": "code",
      "source": [
        "data = requests.get(f'{url1}1')"
      ],
      "metadata": {
        "id": "mhbgpttSXhtB"
      },
      "execution_count": 5,
      "outputs": []
    },
    {
      "cell_type": "code",
      "source": [
        "pages = data.json()[\"total_pages\"]"
      ],
      "metadata": {
        "id": "Y4Q7GXEmY31v"
      },
      "execution_count": 6,
      "outputs": []
    },
    {
      "cell_type": "code",
      "source": [
        "type(data.json()[\"total_pages\"])"
      ],
      "metadata": {
        "colab": {
          "base_uri": "https://localhost:8080/"
        },
        "id": "GJly7JGiY-bQ",
        "outputId": "2356b123-aa13-4da4-da31-e39f8b8deca0"
      },
      "execution_count": 7,
      "outputs": [
        {
          "output_type": "execute_result",
          "data": {
            "text/plain": [
              "int"
            ]
          },
          "metadata": {},
          "execution_count": 7
        }
      ]
    },
    {
      "cell_type": "code",
      "source": [
        "type(data.json()[\"results\"])"
      ],
      "metadata": {
        "colab": {
          "base_uri": "https://localhost:8080/"
        },
        "id": "IZzQ8otwXo-s",
        "outputId": "bda235c3-4279-43ed-f0d7-fa65af0067c1"
      },
      "execution_count": 8,
      "outputs": [
        {
          "output_type": "execute_result",
          "data": {
            "text/plain": [
              "list"
            ]
          },
          "metadata": {},
          "execution_count": 8
        }
      ]
    },
    {
      "cell_type": "code",
      "source": [
        "for i in range(1, pages+1):\n",
        "  data = requests.get(f\"{url1}{i}\")\n",
        "  details.extend(data.json()[\"results\"])"
      ],
      "metadata": {
        "id": "QTnTh7J5W0rz"
      },
      "execution_count": 9,
      "outputs": []
    },
    {
      "cell_type": "code",
      "source": [
        "len(details)"
      ],
      "metadata": {
        "colab": {
          "base_uri": "https://localhost:8080/"
        },
        "id": "LE9xG4C8YuFu",
        "outputId": "9a4b531a-4fd0-422b-bd76-48922fe344ee"
      },
      "execution_count": 10,
      "outputs": [
        {
          "output_type": "execute_result",
          "data": {
            "text/plain": [
              "9736"
            ]
          },
          "metadata": {},
          "execution_count": 10
        }
      ]
    },
    {
      "cell_type": "code",
      "source": [
        "details[1]"
      ],
      "metadata": {
        "colab": {
          "base_uri": "https://localhost:8080/"
        },
        "id": "lpt65fg1ZJng",
        "outputId": "41178f38-0d39-4f4d-9d93-5027d3b62cc7"
      },
      "execution_count": 11,
      "outputs": [
        {
          "output_type": "execute_result",
          "data": {
            "text/plain": [
              "{'adult': False,\n",
              " 'backdrop_path': '/5hNcsnMkwU2LknLoru73c76el3z.jpg',\n",
              " 'genre_ids': [35, 18, 10749],\n",
              " 'id': 19404,\n",
              " 'original_language': 'hi',\n",
              " 'original_title': 'दिलवाले दुल्हनिया ले जायेंगे',\n",
              " 'overview': 'Raj is a rich, carefree, happy-go-lucky second generation NRI. Simran is the daughter of Chaudhary Baldev Singh, who in spite of being an NRI is very strict about adherence to Indian values. Simran has left for India to be married to her childhood fiancé. Raj leaves for India with a mission at his hands, to claim his lady love under the noses of her whole family. Thus begins a saga.',\n",
              " 'popularity': 30.063,\n",
              " 'poster_path': '/2CAL2433ZeIihfX1Hb2139CX0pW.jpg',\n",
              " 'release_date': '1995-10-20',\n",
              " 'title': 'Dilwale Dulhania Le Jayenge',\n",
              " 'video': False,\n",
              " 'vote_average': 8.7,\n",
              " 'vote_count': 3475}"
            ]
          },
          "metadata": {},
          "execution_count": 11
        }
      ]
    },
    {
      "cell_type": "code",
      "source": [
        "genres = requests.get(url2)\n",
        "ids = genres.json()"
      ],
      "metadata": {
        "id": "J4MltdMAmAJT"
      },
      "execution_count": 12,
      "outputs": []
    },
    {
      "cell_type": "code",
      "source": [
        "ids"
      ],
      "metadata": {
        "colab": {
          "base_uri": "https://localhost:8080/"
        },
        "id": "1RIvwVZVmMcD",
        "outputId": "5fa5e00c-309c-4351-f82f-525049a4c170"
      },
      "execution_count": 13,
      "outputs": [
        {
          "output_type": "execute_result",
          "data": {
            "text/plain": [
              "{'genres': [{'id': 28, 'name': 'Action'},\n",
              "  {'id': 12, 'name': 'Adventure'},\n",
              "  {'id': 16, 'name': 'Animation'},\n",
              "  {'id': 35, 'name': 'Comedy'},\n",
              "  {'id': 80, 'name': 'Crime'},\n",
              "  {'id': 99, 'name': 'Documentary'},\n",
              "  {'id': 18, 'name': 'Drama'},\n",
              "  {'id': 10751, 'name': 'Family'},\n",
              "  {'id': 14, 'name': 'Fantasy'},\n",
              "  {'id': 36, 'name': 'History'},\n",
              "  {'id': 27, 'name': 'Horror'},\n",
              "  {'id': 10402, 'name': 'Music'},\n",
              "  {'id': 9648, 'name': 'Mystery'},\n",
              "  {'id': 10749, 'name': 'Romance'},\n",
              "  {'id': 878, 'name': 'Science Fiction'},\n",
              "  {'id': 10770, 'name': 'TV Movie'},\n",
              "  {'id': 53, 'name': 'Thriller'},\n",
              "  {'id': 10752, 'name': 'War'},\n",
              "  {'id': 37, 'name': 'Western'}]}"
            ]
          },
          "metadata": {},
          "execution_count": 13
        }
      ]
    },
    {
      "cell_type": "code",
      "source": [
        "new_ids = {}\n",
        "for items in ids[\"genres\"]:\n",
        "  new_ids[items[\"id\"]]= items[\"name\"]"
      ],
      "metadata": {
        "id": "zWeASaZvmYvK"
      },
      "execution_count": 14,
      "outputs": []
    },
    {
      "cell_type": "code",
      "source": [
        "new_ids"
      ],
      "metadata": {
        "colab": {
          "base_uri": "https://localhost:8080/"
        },
        "id": "K_lAwi1JnAvE",
        "outputId": "3f6040f5-3fc3-4ff0-a4a5-7c9072ae9ddb"
      },
      "execution_count": 15,
      "outputs": [
        {
          "output_type": "execute_result",
          "data": {
            "text/plain": [
              "{12: 'Adventure',\n",
              " 14: 'Fantasy',\n",
              " 16: 'Animation',\n",
              " 18: 'Drama',\n",
              " 27: 'Horror',\n",
              " 28: 'Action',\n",
              " 35: 'Comedy',\n",
              " 36: 'History',\n",
              " 37: 'Western',\n",
              " 53: 'Thriller',\n",
              " 80: 'Crime',\n",
              " 99: 'Documentary',\n",
              " 878: 'Science Fiction',\n",
              " 9648: 'Mystery',\n",
              " 10402: 'Music',\n",
              " 10749: 'Romance',\n",
              " 10751: 'Family',\n",
              " 10752: 'War',\n",
              " 10770: 'TV Movie'}"
            ]
          },
          "metadata": {},
          "execution_count": 15
        }
      ]
    },
    {
      "cell_type": "code",
      "source": [
        "finalLis = []\n",
        "dic = {}\n",
        "for item in details:\n",
        "  dic = {\"title\":item[\"title\"],\n",
        "         \"genres\": [new_ids[i] for i in item[\"genre_ids\"]],\n",
        "         \"description\":item[\"overview\"]}\n",
        "  finalLis.append(dic)\n",
        "  dic = {}"
      ],
      "metadata": {
        "id": "yRiSC84zZPTi"
      },
      "execution_count": 16,
      "outputs": []
    },
    {
      "cell_type": "code",
      "source": [
        "finalLis[:5]"
      ],
      "metadata": {
        "colab": {
          "base_uri": "https://localhost:8080/"
        },
        "id": "XciaR9O-k6cD",
        "outputId": "5c629faf-fa84-4e69-bb0f-d00a28c87492"
      },
      "execution_count": 17,
      "outputs": [
        {
          "output_type": "execute_result",
          "data": {
            "text/plain": [
              "[{'description': 'Framed in the 1940s for the double murder of his wife and her lover, upstanding banker Andy Dufresne begins a new life at the Shawshank prison, where he puts his accounting skills to work for an amoral warden. During his long stretch in prison, Dufresne comes to be admired by the other inmates -- including an older prisoner named Red -- for his integrity and unquenchable sense of hope.',\n",
              "  'genres': ['Drama', 'Crime'],\n",
              "  'title': 'The Shawshank Redemption'},\n",
              " {'description': 'Raj is a rich, carefree, happy-go-lucky second generation NRI. Simran is the daughter of Chaudhary Baldev Singh, who in spite of being an NRI is very strict about adherence to Indian values. Simran has left for India to be married to her childhood fiancé. Raj leaves for India with a mission at his hands, to claim his lady love under the noses of her whole family. Thus begins a saga.',\n",
              "  'genres': ['Comedy', 'Drama', 'Romance'],\n",
              "  'title': 'Dilwale Dulhania Le Jayenge'},\n",
              " {'description': 'Spanning the years 1945 to 1955, a chronicle of the fictional Italian-American Corleone crime family. When organized crime family patriarch, Vito Corleone barely survives an attempt on his life, his youngest son, Michael steps in to take care of the would-be killers, launching a campaign of bloody revenge.',\n",
              "  'genres': ['Drama', 'Crime'],\n",
              "  'title': 'The Godfather'},\n",
              " {'description': \"A tragic accident lead to Kaori's blindness, but she clings to life and the smaller pleasures it can still afford her. She meets Rui and begins to talk to him. Rui was once a promising kickboxer, but something happened in his past. Kaori's smile brings out a change in Rui. However, the two are connected in more than one way. Rui attempts to do what is right.\",\n",
              "  'genres': ['Romance', 'Drama'],\n",
              "  'title': 'Your Eyes Tell'},\n",
              " {'description': 'The true story of how businessman Oskar Schindler saved over a thousand Jewish lives from the Nazis while they worked as slaves in his factory during World War II.',\n",
              "  'genres': ['Drama', 'History', 'War'],\n",
              "  'title': \"Schindler's List\"}]"
            ]
          },
          "metadata": {},
          "execution_count": 17
        }
      ]
    },
    {
      "cell_type": "code",
      "source": [
        "import pandas as pd"
      ],
      "metadata": {
        "id": "KHR9XLtvnWlE"
      },
      "execution_count": 18,
      "outputs": []
    },
    {
      "cell_type": "code",
      "source": [
        "df = pd.DataFrame(finalLis, columns=[\"description\", \"genres\", \"title\"])"
      ],
      "metadata": {
        "id": "KabhBYNAnn0Y"
      },
      "execution_count": 19,
      "outputs": []
    },
    {
      "cell_type": "code",
      "source": [
        "df.head()"
      ],
      "metadata": {
        "colab": {
          "base_uri": "https://localhost:8080/",
          "height": 206
        },
        "id": "pwmAxVz9n6Q9",
        "outputId": "1c09c9d4-88bd-42f5-adda-a98b71dc5921"
      },
      "execution_count": 20,
      "outputs": [
        {
          "output_type": "execute_result",
          "data": {
            "text/html": [
              "\n",
              "  <div id=\"df-1c357a89-1807-4de2-9add-ab21e4657d91\">\n",
              "    <div class=\"colab-df-container\">\n",
              "      <div>\n",
              "<style scoped>\n",
              "    .dataframe tbody tr th:only-of-type {\n",
              "        vertical-align: middle;\n",
              "    }\n",
              "\n",
              "    .dataframe tbody tr th {\n",
              "        vertical-align: top;\n",
              "    }\n",
              "\n",
              "    .dataframe thead th {\n",
              "        text-align: right;\n",
              "    }\n",
              "</style>\n",
              "<table border=\"1\" class=\"dataframe\">\n",
              "  <thead>\n",
              "    <tr style=\"text-align: right;\">\n",
              "      <th></th>\n",
              "      <th>description</th>\n",
              "      <th>genres</th>\n",
              "      <th>title</th>\n",
              "    </tr>\n",
              "  </thead>\n",
              "  <tbody>\n",
              "    <tr>\n",
              "      <th>0</th>\n",
              "      <td>Framed in the 1940s for the double murder of h...</td>\n",
              "      <td>[Drama, Crime]</td>\n",
              "      <td>The Shawshank Redemption</td>\n",
              "    </tr>\n",
              "    <tr>\n",
              "      <th>1</th>\n",
              "      <td>Raj is a rich, carefree, happy-go-lucky second...</td>\n",
              "      <td>[Comedy, Drama, Romance]</td>\n",
              "      <td>Dilwale Dulhania Le Jayenge</td>\n",
              "    </tr>\n",
              "    <tr>\n",
              "      <th>2</th>\n",
              "      <td>Spanning the years 1945 to 1955, a chronicle o...</td>\n",
              "      <td>[Drama, Crime]</td>\n",
              "      <td>The Godfather</td>\n",
              "    </tr>\n",
              "    <tr>\n",
              "      <th>3</th>\n",
              "      <td>A tragic accident lead to Kaori's blindness, b...</td>\n",
              "      <td>[Romance, Drama]</td>\n",
              "      <td>Your Eyes Tell</td>\n",
              "    </tr>\n",
              "    <tr>\n",
              "      <th>4</th>\n",
              "      <td>The true story of how businessman Oskar Schind...</td>\n",
              "      <td>[Drama, History, War]</td>\n",
              "      <td>Schindler's List</td>\n",
              "    </tr>\n",
              "  </tbody>\n",
              "</table>\n",
              "</div>\n",
              "      <button class=\"colab-df-convert\" onclick=\"convertToInteractive('df-1c357a89-1807-4de2-9add-ab21e4657d91')\"\n",
              "              title=\"Convert this dataframe to an interactive table.\"\n",
              "              style=\"display:none;\">\n",
              "        \n",
              "  <svg xmlns=\"http://www.w3.org/2000/svg\" height=\"24px\"viewBox=\"0 0 24 24\"\n",
              "       width=\"24px\">\n",
              "    <path d=\"M0 0h24v24H0V0z\" fill=\"none\"/>\n",
              "    <path d=\"M18.56 5.44l.94 2.06.94-2.06 2.06-.94-2.06-.94-.94-2.06-.94 2.06-2.06.94zm-11 1L8.5 8.5l.94-2.06 2.06-.94-2.06-.94L8.5 2.5l-.94 2.06-2.06.94zm10 10l.94 2.06.94-2.06 2.06-.94-2.06-.94-.94-2.06-.94 2.06-2.06.94z\"/><path d=\"M17.41 7.96l-1.37-1.37c-.4-.4-.92-.59-1.43-.59-.52 0-1.04.2-1.43.59L10.3 9.45l-7.72 7.72c-.78.78-.78 2.05 0 2.83L4 21.41c.39.39.9.59 1.41.59.51 0 1.02-.2 1.41-.59l7.78-7.78 2.81-2.81c.8-.78.8-2.07 0-2.86zM5.41 20L4 18.59l7.72-7.72 1.47 1.35L5.41 20z\"/>\n",
              "  </svg>\n",
              "      </button>\n",
              "      \n",
              "  <style>\n",
              "    .colab-df-container {\n",
              "      display:flex;\n",
              "      flex-wrap:wrap;\n",
              "      gap: 12px;\n",
              "    }\n",
              "\n",
              "    .colab-df-convert {\n",
              "      background-color: #E8F0FE;\n",
              "      border: none;\n",
              "      border-radius: 50%;\n",
              "      cursor: pointer;\n",
              "      display: none;\n",
              "      fill: #1967D2;\n",
              "      height: 32px;\n",
              "      padding: 0 0 0 0;\n",
              "      width: 32px;\n",
              "    }\n",
              "\n",
              "    .colab-df-convert:hover {\n",
              "      background-color: #E2EBFA;\n",
              "      box-shadow: 0px 1px 2px rgba(60, 64, 67, 0.3), 0px 1px 3px 1px rgba(60, 64, 67, 0.15);\n",
              "      fill: #174EA6;\n",
              "    }\n",
              "\n",
              "    [theme=dark] .colab-df-convert {\n",
              "      background-color: #3B4455;\n",
              "      fill: #D2E3FC;\n",
              "    }\n",
              "\n",
              "    [theme=dark] .colab-df-convert:hover {\n",
              "      background-color: #434B5C;\n",
              "      box-shadow: 0px 1px 3px 1px rgba(0, 0, 0, 0.15);\n",
              "      filter: drop-shadow(0px 1px 2px rgba(0, 0, 0, 0.3));\n",
              "      fill: #FFFFFF;\n",
              "    }\n",
              "  </style>\n",
              "\n",
              "      <script>\n",
              "        const buttonEl =\n",
              "          document.querySelector('#df-1c357a89-1807-4de2-9add-ab21e4657d91 button.colab-df-convert');\n",
              "        buttonEl.style.display =\n",
              "          google.colab.kernel.accessAllowed ? 'block' : 'none';\n",
              "\n",
              "        async function convertToInteractive(key) {\n",
              "          const element = document.querySelector('#df-1c357a89-1807-4de2-9add-ab21e4657d91');\n",
              "          const dataTable =\n",
              "            await google.colab.kernel.invokeFunction('convertToInteractive',\n",
              "                                                     [key], {});\n",
              "          if (!dataTable) return;\n",
              "\n",
              "          const docLinkHtml = 'Like what you see? Visit the ' +\n",
              "            '<a target=\"_blank\" href=https://colab.research.google.com/notebooks/data_table.ipynb>data table notebook</a>'\n",
              "            + ' to learn more about interactive tables.';\n",
              "          element.innerHTML = '';\n",
              "          dataTable['output_type'] = 'display_data';\n",
              "          await google.colab.output.renderOutput(dataTable, element);\n",
              "          const docLink = document.createElement('div');\n",
              "          docLink.innerHTML = docLinkHtml;\n",
              "          element.appendChild(docLink);\n",
              "        }\n",
              "      </script>\n",
              "    </div>\n",
              "  </div>\n",
              "  "
            ],
            "text/plain": [
              "                                         description  \\\n",
              "0  Framed in the 1940s for the double murder of h...   \n",
              "1  Raj is a rich, carefree, happy-go-lucky second...   \n",
              "2  Spanning the years 1945 to 1955, a chronicle o...   \n",
              "3  A tragic accident lead to Kaori's blindness, b...   \n",
              "4  The true story of how businessman Oskar Schind...   \n",
              "\n",
              "                     genres                        title  \n",
              "0            [Drama, Crime]     The Shawshank Redemption  \n",
              "1  [Comedy, Drama, Romance]  Dilwale Dulhania Le Jayenge  \n",
              "2            [Drama, Crime]                The Godfather  \n",
              "3          [Romance, Drama]               Your Eyes Tell  \n",
              "4     [Drama, History, War]             Schindler's List  "
            ]
          },
          "metadata": {},
          "execution_count": 20
        }
      ]
    },
    {
      "cell_type": "code",
      "source": [
        "df = df[[\"title\", \"genres\", \"description\"]]"
      ],
      "metadata": {
        "id": "-Tzy9l_Zn7b5"
      },
      "execution_count": 21,
      "outputs": []
    },
    {
      "cell_type": "code",
      "source": [
        "df"
      ],
      "metadata": {
        "colab": {
          "base_uri": "https://localhost:8080/",
          "height": 423
        },
        "id": "azF9MVtooLjs",
        "outputId": "5081ab4f-600e-441c-9e8d-7f0a1062ae3c"
      },
      "execution_count": 22,
      "outputs": [
        {
          "output_type": "execute_result",
          "data": {
            "text/html": [
              "\n",
              "  <div id=\"df-9ed12f7c-7d88-42e6-9cd0-42c398983304\">\n",
              "    <div class=\"colab-df-container\">\n",
              "      <div>\n",
              "<style scoped>\n",
              "    .dataframe tbody tr th:only-of-type {\n",
              "        vertical-align: middle;\n",
              "    }\n",
              "\n",
              "    .dataframe tbody tr th {\n",
              "        vertical-align: top;\n",
              "    }\n",
              "\n",
              "    .dataframe thead th {\n",
              "        text-align: right;\n",
              "    }\n",
              "</style>\n",
              "<table border=\"1\" class=\"dataframe\">\n",
              "  <thead>\n",
              "    <tr style=\"text-align: right;\">\n",
              "      <th></th>\n",
              "      <th>title</th>\n",
              "      <th>genres</th>\n",
              "      <th>description</th>\n",
              "    </tr>\n",
              "  </thead>\n",
              "  <tbody>\n",
              "    <tr>\n",
              "      <th>0</th>\n",
              "      <td>The Shawshank Redemption</td>\n",
              "      <td>[Drama, Crime]</td>\n",
              "      <td>Framed in the 1940s for the double murder of h...</td>\n",
              "    </tr>\n",
              "    <tr>\n",
              "      <th>1</th>\n",
              "      <td>Dilwale Dulhania Le Jayenge</td>\n",
              "      <td>[Comedy, Drama, Romance]</td>\n",
              "      <td>Raj is a rich, carefree, happy-go-lucky second...</td>\n",
              "    </tr>\n",
              "    <tr>\n",
              "      <th>2</th>\n",
              "      <td>The Godfather</td>\n",
              "      <td>[Drama, Crime]</td>\n",
              "      <td>Spanning the years 1945 to 1955, a chronicle o...</td>\n",
              "    </tr>\n",
              "    <tr>\n",
              "      <th>3</th>\n",
              "      <td>Your Eyes Tell</td>\n",
              "      <td>[Romance, Drama]</td>\n",
              "      <td>A tragic accident lead to Kaori's blindness, b...</td>\n",
              "    </tr>\n",
              "    <tr>\n",
              "      <th>4</th>\n",
              "      <td>Schindler's List</td>\n",
              "      <td>[Drama, History, War]</td>\n",
              "      <td>The true story of how businessman Oskar Schind...</td>\n",
              "    </tr>\n",
              "    <tr>\n",
              "      <th>...</th>\n",
              "      <td>...</td>\n",
              "      <td>...</td>\n",
              "      <td>...</td>\n",
              "    </tr>\n",
              "    <tr>\n",
              "      <th>9731</th>\n",
              "      <td>Alone in the Dark</td>\n",
              "      <td>[Action, Fantasy, Horror]</td>\n",
              "      <td>Edward Carnby is a private investigator specia...</td>\n",
              "    </tr>\n",
              "    <tr>\n",
              "      <th>9732</th>\n",
              "      <td>House of the Dead</td>\n",
              "      <td>[Horror, Action, Thriller]</td>\n",
              "      <td>Set on an island off the coast, a techno rave ...</td>\n",
              "    </tr>\n",
              "    <tr>\n",
              "      <th>9733</th>\n",
              "      <td>Dragonball Evolution</td>\n",
              "      <td>[Action, Adventure, Fantasy, Science Fiction, ...</td>\n",
              "      <td>The young warrior Son Goku sets out on a quest...</td>\n",
              "    </tr>\n",
              "    <tr>\n",
              "      <th>9734</th>\n",
              "      <td>Box Office 3D - Il film dei film</td>\n",
              "      <td>[Comedy]</td>\n",
              "      <td>An Italian parody of the biggest U.S. blockbus...</td>\n",
              "    </tr>\n",
              "    <tr>\n",
              "      <th>9735</th>\n",
              "      <td>Birdemic: Shock and Terror</td>\n",
              "      <td>[Science Fiction, Horror, Romance, Thriller]</td>\n",
              "      <td>A platoon of eagles and vultures attacks the r...</td>\n",
              "    </tr>\n",
              "  </tbody>\n",
              "</table>\n",
              "<p>9736 rows × 3 columns</p>\n",
              "</div>\n",
              "      <button class=\"colab-df-convert\" onclick=\"convertToInteractive('df-9ed12f7c-7d88-42e6-9cd0-42c398983304')\"\n",
              "              title=\"Convert this dataframe to an interactive table.\"\n",
              "              style=\"display:none;\">\n",
              "        \n",
              "  <svg xmlns=\"http://www.w3.org/2000/svg\" height=\"24px\"viewBox=\"0 0 24 24\"\n",
              "       width=\"24px\">\n",
              "    <path d=\"M0 0h24v24H0V0z\" fill=\"none\"/>\n",
              "    <path d=\"M18.56 5.44l.94 2.06.94-2.06 2.06-.94-2.06-.94-.94-2.06-.94 2.06-2.06.94zm-11 1L8.5 8.5l.94-2.06 2.06-.94-2.06-.94L8.5 2.5l-.94 2.06-2.06.94zm10 10l.94 2.06.94-2.06 2.06-.94-2.06-.94-.94-2.06-.94 2.06-2.06.94z\"/><path d=\"M17.41 7.96l-1.37-1.37c-.4-.4-.92-.59-1.43-.59-.52 0-1.04.2-1.43.59L10.3 9.45l-7.72 7.72c-.78.78-.78 2.05 0 2.83L4 21.41c.39.39.9.59 1.41.59.51 0 1.02-.2 1.41-.59l7.78-7.78 2.81-2.81c.8-.78.8-2.07 0-2.86zM5.41 20L4 18.59l7.72-7.72 1.47 1.35L5.41 20z\"/>\n",
              "  </svg>\n",
              "      </button>\n",
              "      \n",
              "  <style>\n",
              "    .colab-df-container {\n",
              "      display:flex;\n",
              "      flex-wrap:wrap;\n",
              "      gap: 12px;\n",
              "    }\n",
              "\n",
              "    .colab-df-convert {\n",
              "      background-color: #E8F0FE;\n",
              "      border: none;\n",
              "      border-radius: 50%;\n",
              "      cursor: pointer;\n",
              "      display: none;\n",
              "      fill: #1967D2;\n",
              "      height: 32px;\n",
              "      padding: 0 0 0 0;\n",
              "      width: 32px;\n",
              "    }\n",
              "\n",
              "    .colab-df-convert:hover {\n",
              "      background-color: #E2EBFA;\n",
              "      box-shadow: 0px 1px 2px rgba(60, 64, 67, 0.3), 0px 1px 3px 1px rgba(60, 64, 67, 0.15);\n",
              "      fill: #174EA6;\n",
              "    }\n",
              "\n",
              "    [theme=dark] .colab-df-convert {\n",
              "      background-color: #3B4455;\n",
              "      fill: #D2E3FC;\n",
              "    }\n",
              "\n",
              "    [theme=dark] .colab-df-convert:hover {\n",
              "      background-color: #434B5C;\n",
              "      box-shadow: 0px 1px 3px 1px rgba(0, 0, 0, 0.15);\n",
              "      filter: drop-shadow(0px 1px 2px rgba(0, 0, 0, 0.3));\n",
              "      fill: #FFFFFF;\n",
              "    }\n",
              "  </style>\n",
              "\n",
              "      <script>\n",
              "        const buttonEl =\n",
              "          document.querySelector('#df-9ed12f7c-7d88-42e6-9cd0-42c398983304 button.colab-df-convert');\n",
              "        buttonEl.style.display =\n",
              "          google.colab.kernel.accessAllowed ? 'block' : 'none';\n",
              "\n",
              "        async function convertToInteractive(key) {\n",
              "          const element = document.querySelector('#df-9ed12f7c-7d88-42e6-9cd0-42c398983304');\n",
              "          const dataTable =\n",
              "            await google.colab.kernel.invokeFunction('convertToInteractive',\n",
              "                                                     [key], {});\n",
              "          if (!dataTable) return;\n",
              "\n",
              "          const docLinkHtml = 'Like what you see? Visit the ' +\n",
              "            '<a target=\"_blank\" href=https://colab.research.google.com/notebooks/data_table.ipynb>data table notebook</a>'\n",
              "            + ' to learn more about interactive tables.';\n",
              "          element.innerHTML = '';\n",
              "          dataTable['output_type'] = 'display_data';\n",
              "          await google.colab.output.renderOutput(dataTable, element);\n",
              "          const docLink = document.createElement('div');\n",
              "          docLink.innerHTML = docLinkHtml;\n",
              "          element.appendChild(docLink);\n",
              "        }\n",
              "      </script>\n",
              "    </div>\n",
              "  </div>\n",
              "  "
            ],
            "text/plain": [
              "                                 title  \\\n",
              "0             The Shawshank Redemption   \n",
              "1          Dilwale Dulhania Le Jayenge   \n",
              "2                        The Godfather   \n",
              "3                       Your Eyes Tell   \n",
              "4                     Schindler's List   \n",
              "...                                ...   \n",
              "9731                 Alone in the Dark   \n",
              "9732                 House of the Dead   \n",
              "9733              Dragonball Evolution   \n",
              "9734  Box Office 3D - Il film dei film   \n",
              "9735        Birdemic: Shock and Terror   \n",
              "\n",
              "                                                 genres  \\\n",
              "0                                        [Drama, Crime]   \n",
              "1                              [Comedy, Drama, Romance]   \n",
              "2                                        [Drama, Crime]   \n",
              "3                                      [Romance, Drama]   \n",
              "4                                 [Drama, History, War]   \n",
              "...                                                 ...   \n",
              "9731                          [Action, Fantasy, Horror]   \n",
              "9732                         [Horror, Action, Thriller]   \n",
              "9733  [Action, Adventure, Fantasy, Science Fiction, ...   \n",
              "9734                                           [Comedy]   \n",
              "9735       [Science Fiction, Horror, Romance, Thriller]   \n",
              "\n",
              "                                            description  \n",
              "0     Framed in the 1940s for the double murder of h...  \n",
              "1     Raj is a rich, carefree, happy-go-lucky second...  \n",
              "2     Spanning the years 1945 to 1955, a chronicle o...  \n",
              "3     A tragic accident lead to Kaori's blindness, b...  \n",
              "4     The true story of how businessman Oskar Schind...  \n",
              "...                                                 ...  \n",
              "9731  Edward Carnby is a private investigator specia...  \n",
              "9732  Set on an island off the coast, a techno rave ...  \n",
              "9733  The young warrior Son Goku sets out on a quest...  \n",
              "9734  An Italian parody of the biggest U.S. blockbus...  \n",
              "9735  A platoon of eagles and vultures attacks the r...  \n",
              "\n",
              "[9736 rows x 3 columns]"
            ]
          },
          "metadata": {},
          "execution_count": 22
        }
      ]
    },
    {
      "cell_type": "markdown",
      "source": [
        "# Making everything Lower Case"
      ],
      "metadata": {
        "id": "DivfD-GUBUmD"
      }
    },
    {
      "cell_type": "code",
      "source": [
        "df.description = df.description.str.lower()"
      ],
      "metadata": {
        "id": "3R_mZKo9oMJE"
      },
      "execution_count": 23,
      "outputs": []
    },
    {
      "cell_type": "code",
      "source": [
        "df.description"
      ],
      "metadata": {
        "colab": {
          "base_uri": "https://localhost:8080/"
        },
        "id": "mFdSzJPKoalh",
        "outputId": "dafda23d-8c08-4cbd-f831-2802ca865a70"
      },
      "execution_count": 24,
      "outputs": [
        {
          "output_type": "execute_result",
          "data": {
            "text/plain": [
              "0       framed in the 1940s for the double murder of h...\n",
              "1       raj is a rich, carefree, happy-go-lucky second...\n",
              "2       spanning the years 1945 to 1955, a chronicle o...\n",
              "3       a tragic accident lead to kaori's blindness, b...\n",
              "4       the true story of how businessman oskar schind...\n",
              "                              ...                        \n",
              "9731    edward carnby is a private investigator specia...\n",
              "9732    set on an island off the coast, a techno rave ...\n",
              "9733    the young warrior son goku sets out on a quest...\n",
              "9734    an italian parody of the biggest u.s. blockbus...\n",
              "9735    a platoon of eagles and vultures attacks the r...\n",
              "Name: description, Length: 9736, dtype: object"
            ]
          },
          "metadata": {},
          "execution_count": 24
        }
      ]
    },
    {
      "cell_type": "markdown",
      "source": [
        "# Removing HTML Tags"
      ],
      "metadata": {
        "id": "ZfJy3LgCBPz2"
      }
    },
    {
      "cell_type": "markdown",
      "source": [
        "example"
      ],
      "metadata": {
        "id": "b05GhJS2rNf-"
      }
    },
    {
      "cell_type": "code",
      "source": [
        "import re\n",
        "def striphtml(data):\n",
        "    p = re.compile(r'<.*?>')\n",
        "    return p.sub('', data)\n",
        "\n",
        "striphtml('<a href=\"foo.com\" class=\"bar\">I Want This <b>text!</b></a>')\n"
      ],
      "metadata": {
        "colab": {
          "base_uri": "https://localhost:8080/",
          "height": 35
        },
        "id": "Nq2trEeEpRvz",
        "outputId": "dbafb894-7e3e-4c62-da3d-086e13bc2524"
      },
      "execution_count": 25,
      "outputs": [
        {
          "output_type": "execute_result",
          "data": {
            "application/vnd.google.colaboratory.intrinsic+json": {
              "type": "string"
            },
            "text/plain": [
              "'I Want This text!'"
            ]
          },
          "metadata": {},
          "execution_count": 25
        }
      ]
    },
    {
      "cell_type": "code",
      "source": [
        "k = df.description.apply(lambda x:striphtml(x))"
      ],
      "metadata": {
        "id": "fvujaF3Eppzf"
      },
      "execution_count": 26,
      "outputs": []
    },
    {
      "cell_type": "code",
      "source": [
        "for item1, item2 in zip(k, df.description):\n",
        "  if item1 != item2:\n",
        "    print(item2)"
      ],
      "metadata": {
        "id": "KEnqxpIkq71C"
      },
      "execution_count": 27,
      "outputs": []
    },
    {
      "cell_type": "code",
      "source": [
        "dic = dict(k == df.description)"
      ],
      "metadata": {
        "id": "YAfbEW3Lpysp"
      },
      "execution_count": 28,
      "outputs": []
    },
    {
      "cell_type": "code",
      "source": [
        "type(dic)"
      ],
      "metadata": {
        "colab": {
          "base_uri": "https://localhost:8080/"
        },
        "id": "8oZs8vyNsMt6",
        "outputId": "ddd5f8aa-d8b3-40d7-c42b-b04f37e063d4"
      },
      "execution_count": 29,
      "outputs": [
        {
          "output_type": "execute_result",
          "data": {
            "text/plain": [
              "dict"
            ]
          },
          "metadata": {},
          "execution_count": 29
        }
      ]
    },
    {
      "cell_type": "code",
      "source": [
        "for i in dic:\n",
        "  if dic[i] == False:\n",
        "    print(dic[i])"
      ],
      "metadata": {
        "id": "UODr21Eir_KK"
      },
      "execution_count": 30,
      "outputs": []
    },
    {
      "cell_type": "markdown",
      "source": [
        "since above code gave no output, there were no html tags in our description"
      ],
      "metadata": {
        "id": "y50_j12Mrew1"
      }
    },
    {
      "cell_type": "markdown",
      "source": [
        "Looks like we don't need to remove html tags"
      ],
      "metadata": {
        "id": "A63eWSqlp-5z"
      }
    },
    {
      "cell_type": "markdown",
      "source": [
        "let's make sure with this example that above approach is right to determine whether we want to remove html tags."
      ],
      "metadata": {
        "id": "Jc9c_JTg_wGD"
      }
    },
    {
      "cell_type": "code",
      "source": [
        "sr = pd.Series([\"hello\", \"my name is <p>vishal</p>thakur\", \"Who <html>are</html>you\"])"
      ],
      "metadata": {
        "id": "fX7cBEG0p4bu"
      },
      "execution_count": 31,
      "outputs": []
    },
    {
      "cell_type": "code",
      "source": [
        "sr"
      ],
      "metadata": {
        "colab": {
          "base_uri": "https://localhost:8080/"
        },
        "id": "nw0SK0mg_0l7",
        "outputId": "71228260-285c-4f96-d17f-e9c71f2534d8"
      },
      "execution_count": 32,
      "outputs": [
        {
          "output_type": "execute_result",
          "data": {
            "text/plain": [
              "0                             hello\n",
              "1    my name is <p>vishal</p>thakur\n",
              "2           Who <html>are</html>you\n",
              "dtype: object"
            ]
          },
          "metadata": {},
          "execution_count": 32
        }
      ]
    },
    {
      "cell_type": "code",
      "source": [
        "kk = sr.apply(lambda x: striphtml(x))"
      ],
      "metadata": {
        "id": "AoAoHjg3qS5e"
      },
      "execution_count": 33,
      "outputs": []
    },
    {
      "cell_type": "code",
      "source": [
        "kk"
      ],
      "metadata": {
        "colab": {
          "base_uri": "https://localhost:8080/"
        },
        "id": "W6ymUYu4_4l7",
        "outputId": "36b209a0-79a0-4b2d-e8aa-c9c4fc721204"
      },
      "execution_count": 34,
      "outputs": [
        {
          "output_type": "execute_result",
          "data": {
            "text/plain": [
              "0                      hello\n",
              "1    my name is vishalthakur\n",
              "2                 Who areyou\n",
              "dtype: object"
            ]
          },
          "metadata": {},
          "execution_count": 34
        }
      ]
    },
    {
      "cell_type": "code",
      "source": [
        "dic2 = dict(kk == sr)"
      ],
      "metadata": {
        "id": "JWGYCxPkqZzM"
      },
      "execution_count": 35,
      "outputs": []
    },
    {
      "cell_type": "code",
      "source": [
        "dic2"
      ],
      "metadata": {
        "colab": {
          "base_uri": "https://localhost:8080/"
        },
        "id": "cA1oRIN-_rv1",
        "outputId": "3a568b20-1f3f-4eb6-9814-47bdd23f73fb"
      },
      "execution_count": 36,
      "outputs": [
        {
          "output_type": "execute_result",
          "data": {
            "text/plain": [
              "{0: True, 1: False, 2: False}"
            ]
          },
          "metadata": {},
          "execution_count": 36
        }
      ]
    },
    {
      "cell_type": "code",
      "source": [
        "for i in dic2:\n",
        "  if dic2[i] == False:\n",
        "    print(i)"
      ],
      "metadata": {
        "colab": {
          "base_uri": "https://localhost:8080/"
        },
        "id": "eK7zj4meqbof",
        "outputId": "cadc41cc-0fc4-4b38-ff56-8dc88078bb3f"
      },
      "execution_count": 37,
      "outputs": [
        {
          "output_type": "stream",
          "name": "stdout",
          "text": [
            "1\n",
            "2\n"
          ]
        }
      ]
    },
    {
      "cell_type": "markdown",
      "source": [
        "as you can see, above code gave output of 1 and 2, but same code didn't gave any output on our description."
      ],
      "metadata": {
        "id": "YZ-qMuJrroi2"
      }
    },
    {
      "cell_type": "markdown",
      "source": [
        "# Removing Puntuations"
      ],
      "metadata": {
        "id": "riih_exjBKRi"
      }
    },
    {
      "cell_type": "code",
      "source": [
        "pattern = re.compile(r'[^\\w\\s]')"
      ],
      "metadata": {
        "id": "c1C2jZq7AUTM"
      },
      "execution_count": 38,
      "outputs": []
    },
    {
      "cell_type": "code",
      "source": [
        "re.sub(pattern,\"\", \"hello! my name is ? vishal\")"
      ],
      "metadata": {
        "colab": {
          "base_uri": "https://localhost:8080/",
          "height": 35
        },
        "id": "k_dG5_DyAcSC",
        "outputId": "bdda06d5-04b8-492e-804e-3cca790b2c25"
      },
      "execution_count": 39,
      "outputs": [
        {
          "output_type": "execute_result",
          "data": {
            "application/vnd.google.colaboratory.intrinsic+json": {
              "type": "string"
            },
            "text/plain": [
              "'hello my name is  vishal'"
            ]
          },
          "metadata": {},
          "execution_count": 39
        }
      ]
    },
    {
      "cell_type": "code",
      "source": [
        "df.description = df.description.apply(lambda x: re.sub(pattern, \"\", x))"
      ],
      "metadata": {
        "id": "Y1ocaawaAjkl"
      },
      "execution_count": 40,
      "outputs": []
    },
    {
      "cell_type": "code",
      "source": [
        "df.description"
      ],
      "metadata": {
        "colab": {
          "base_uri": "https://localhost:8080/"
        },
        "id": "V_NI75TwA87Z",
        "outputId": "b0d2e5b0-a499-4ca1-b4cb-d3f42fa1bd82"
      },
      "execution_count": 41,
      "outputs": [
        {
          "output_type": "execute_result",
          "data": {
            "text/plain": [
              "0       framed in the 1940s for the double murder of h...\n",
              "1       raj is a rich carefree happygolucky second gen...\n",
              "2       spanning the years 1945 to 1955 a chronicle of...\n",
              "3       a tragic accident lead to kaoris blindness but...\n",
              "4       the true story of how businessman oskar schind...\n",
              "                              ...                        \n",
              "9731    edward carnby is a private investigator specia...\n",
              "9732    set on an island off the coast a techno rave p...\n",
              "9733    the young warrior son goku sets out on a quest...\n",
              "9734    an italian parody of the biggest us blockbuste...\n",
              "9735    a platoon of eagles and vultures attacks the r...\n",
              "Name: description, Length: 9736, dtype: object"
            ]
          },
          "metadata": {},
          "execution_count": 41
        }
      ]
    },
    {
      "cell_type": "code",
      "source": [
        "df"
      ],
      "metadata": {
        "colab": {
          "base_uri": "https://localhost:8080/",
          "height": 423
        },
        "id": "3dGVjPeJA-N9",
        "outputId": "1eb16b61-c998-4a72-bc4e-cdeae464895b"
      },
      "execution_count": 42,
      "outputs": [
        {
          "output_type": "execute_result",
          "data": {
            "text/html": [
              "\n",
              "  <div id=\"df-88018dec-818a-4579-aad9-06027897c1a4\">\n",
              "    <div class=\"colab-df-container\">\n",
              "      <div>\n",
              "<style scoped>\n",
              "    .dataframe tbody tr th:only-of-type {\n",
              "        vertical-align: middle;\n",
              "    }\n",
              "\n",
              "    .dataframe tbody tr th {\n",
              "        vertical-align: top;\n",
              "    }\n",
              "\n",
              "    .dataframe thead th {\n",
              "        text-align: right;\n",
              "    }\n",
              "</style>\n",
              "<table border=\"1\" class=\"dataframe\">\n",
              "  <thead>\n",
              "    <tr style=\"text-align: right;\">\n",
              "      <th></th>\n",
              "      <th>title</th>\n",
              "      <th>genres</th>\n",
              "      <th>description</th>\n",
              "    </tr>\n",
              "  </thead>\n",
              "  <tbody>\n",
              "    <tr>\n",
              "      <th>0</th>\n",
              "      <td>The Shawshank Redemption</td>\n",
              "      <td>[Drama, Crime]</td>\n",
              "      <td>framed in the 1940s for the double murder of h...</td>\n",
              "    </tr>\n",
              "    <tr>\n",
              "      <th>1</th>\n",
              "      <td>Dilwale Dulhania Le Jayenge</td>\n",
              "      <td>[Comedy, Drama, Romance]</td>\n",
              "      <td>raj is a rich carefree happygolucky second gen...</td>\n",
              "    </tr>\n",
              "    <tr>\n",
              "      <th>2</th>\n",
              "      <td>The Godfather</td>\n",
              "      <td>[Drama, Crime]</td>\n",
              "      <td>spanning the years 1945 to 1955 a chronicle of...</td>\n",
              "    </tr>\n",
              "    <tr>\n",
              "      <th>3</th>\n",
              "      <td>Your Eyes Tell</td>\n",
              "      <td>[Romance, Drama]</td>\n",
              "      <td>a tragic accident lead to kaoris blindness but...</td>\n",
              "    </tr>\n",
              "    <tr>\n",
              "      <th>4</th>\n",
              "      <td>Schindler's List</td>\n",
              "      <td>[Drama, History, War]</td>\n",
              "      <td>the true story of how businessman oskar schind...</td>\n",
              "    </tr>\n",
              "    <tr>\n",
              "      <th>...</th>\n",
              "      <td>...</td>\n",
              "      <td>...</td>\n",
              "      <td>...</td>\n",
              "    </tr>\n",
              "    <tr>\n",
              "      <th>9731</th>\n",
              "      <td>Alone in the Dark</td>\n",
              "      <td>[Action, Fantasy, Horror]</td>\n",
              "      <td>edward carnby is a private investigator specia...</td>\n",
              "    </tr>\n",
              "    <tr>\n",
              "      <th>9732</th>\n",
              "      <td>House of the Dead</td>\n",
              "      <td>[Horror, Action, Thriller]</td>\n",
              "      <td>set on an island off the coast a techno rave p...</td>\n",
              "    </tr>\n",
              "    <tr>\n",
              "      <th>9733</th>\n",
              "      <td>Dragonball Evolution</td>\n",
              "      <td>[Action, Adventure, Fantasy, Science Fiction, ...</td>\n",
              "      <td>the young warrior son goku sets out on a quest...</td>\n",
              "    </tr>\n",
              "    <tr>\n",
              "      <th>9734</th>\n",
              "      <td>Box Office 3D - Il film dei film</td>\n",
              "      <td>[Comedy]</td>\n",
              "      <td>an italian parody of the biggest us blockbuste...</td>\n",
              "    </tr>\n",
              "    <tr>\n",
              "      <th>9735</th>\n",
              "      <td>Birdemic: Shock and Terror</td>\n",
              "      <td>[Science Fiction, Horror, Romance, Thriller]</td>\n",
              "      <td>a platoon of eagles and vultures attacks the r...</td>\n",
              "    </tr>\n",
              "  </tbody>\n",
              "</table>\n",
              "<p>9736 rows × 3 columns</p>\n",
              "</div>\n",
              "      <button class=\"colab-df-convert\" onclick=\"convertToInteractive('df-88018dec-818a-4579-aad9-06027897c1a4')\"\n",
              "              title=\"Convert this dataframe to an interactive table.\"\n",
              "              style=\"display:none;\">\n",
              "        \n",
              "  <svg xmlns=\"http://www.w3.org/2000/svg\" height=\"24px\"viewBox=\"0 0 24 24\"\n",
              "       width=\"24px\">\n",
              "    <path d=\"M0 0h24v24H0V0z\" fill=\"none\"/>\n",
              "    <path d=\"M18.56 5.44l.94 2.06.94-2.06 2.06-.94-2.06-.94-.94-2.06-.94 2.06-2.06.94zm-11 1L8.5 8.5l.94-2.06 2.06-.94-2.06-.94L8.5 2.5l-.94 2.06-2.06.94zm10 10l.94 2.06.94-2.06 2.06-.94-2.06-.94-.94-2.06-.94 2.06-2.06.94z\"/><path d=\"M17.41 7.96l-1.37-1.37c-.4-.4-.92-.59-1.43-.59-.52 0-1.04.2-1.43.59L10.3 9.45l-7.72 7.72c-.78.78-.78 2.05 0 2.83L4 21.41c.39.39.9.59 1.41.59.51 0 1.02-.2 1.41-.59l7.78-7.78 2.81-2.81c.8-.78.8-2.07 0-2.86zM5.41 20L4 18.59l7.72-7.72 1.47 1.35L5.41 20z\"/>\n",
              "  </svg>\n",
              "      </button>\n",
              "      \n",
              "  <style>\n",
              "    .colab-df-container {\n",
              "      display:flex;\n",
              "      flex-wrap:wrap;\n",
              "      gap: 12px;\n",
              "    }\n",
              "\n",
              "    .colab-df-convert {\n",
              "      background-color: #E8F0FE;\n",
              "      border: none;\n",
              "      border-radius: 50%;\n",
              "      cursor: pointer;\n",
              "      display: none;\n",
              "      fill: #1967D2;\n",
              "      height: 32px;\n",
              "      padding: 0 0 0 0;\n",
              "      width: 32px;\n",
              "    }\n",
              "\n",
              "    .colab-df-convert:hover {\n",
              "      background-color: #E2EBFA;\n",
              "      box-shadow: 0px 1px 2px rgba(60, 64, 67, 0.3), 0px 1px 3px 1px rgba(60, 64, 67, 0.15);\n",
              "      fill: #174EA6;\n",
              "    }\n",
              "\n",
              "    [theme=dark] .colab-df-convert {\n",
              "      background-color: #3B4455;\n",
              "      fill: #D2E3FC;\n",
              "    }\n",
              "\n",
              "    [theme=dark] .colab-df-convert:hover {\n",
              "      background-color: #434B5C;\n",
              "      box-shadow: 0px 1px 3px 1px rgba(0, 0, 0, 0.15);\n",
              "      filter: drop-shadow(0px 1px 2px rgba(0, 0, 0, 0.3));\n",
              "      fill: #FFFFFF;\n",
              "    }\n",
              "  </style>\n",
              "\n",
              "      <script>\n",
              "        const buttonEl =\n",
              "          document.querySelector('#df-88018dec-818a-4579-aad9-06027897c1a4 button.colab-df-convert');\n",
              "        buttonEl.style.display =\n",
              "          google.colab.kernel.accessAllowed ? 'block' : 'none';\n",
              "\n",
              "        async function convertToInteractive(key) {\n",
              "          const element = document.querySelector('#df-88018dec-818a-4579-aad9-06027897c1a4');\n",
              "          const dataTable =\n",
              "            await google.colab.kernel.invokeFunction('convertToInteractive',\n",
              "                                                     [key], {});\n",
              "          if (!dataTable) return;\n",
              "\n",
              "          const docLinkHtml = 'Like what you see? Visit the ' +\n",
              "            '<a target=\"_blank\" href=https://colab.research.google.com/notebooks/data_table.ipynb>data table notebook</a>'\n",
              "            + ' to learn more about interactive tables.';\n",
              "          element.innerHTML = '';\n",
              "          dataTable['output_type'] = 'display_data';\n",
              "          await google.colab.output.renderOutput(dataTable, element);\n",
              "          const docLink = document.createElement('div');\n",
              "          docLink.innerHTML = docLinkHtml;\n",
              "          element.appendChild(docLink);\n",
              "        }\n",
              "      </script>\n",
              "    </div>\n",
              "  </div>\n",
              "  "
            ],
            "text/plain": [
              "                                 title  \\\n",
              "0             The Shawshank Redemption   \n",
              "1          Dilwale Dulhania Le Jayenge   \n",
              "2                        The Godfather   \n",
              "3                       Your Eyes Tell   \n",
              "4                     Schindler's List   \n",
              "...                                ...   \n",
              "9731                 Alone in the Dark   \n",
              "9732                 House of the Dead   \n",
              "9733              Dragonball Evolution   \n",
              "9734  Box Office 3D - Il film dei film   \n",
              "9735        Birdemic: Shock and Terror   \n",
              "\n",
              "                                                 genres  \\\n",
              "0                                        [Drama, Crime]   \n",
              "1                              [Comedy, Drama, Romance]   \n",
              "2                                        [Drama, Crime]   \n",
              "3                                      [Romance, Drama]   \n",
              "4                                 [Drama, History, War]   \n",
              "...                                                 ...   \n",
              "9731                          [Action, Fantasy, Horror]   \n",
              "9732                         [Horror, Action, Thriller]   \n",
              "9733  [Action, Adventure, Fantasy, Science Fiction, ...   \n",
              "9734                                           [Comedy]   \n",
              "9735       [Science Fiction, Horror, Romance, Thriller]   \n",
              "\n",
              "                                            description  \n",
              "0     framed in the 1940s for the double murder of h...  \n",
              "1     raj is a rich carefree happygolucky second gen...  \n",
              "2     spanning the years 1945 to 1955 a chronicle of...  \n",
              "3     a tragic accident lead to kaoris blindness but...  \n",
              "4     the true story of how businessman oskar schind...  \n",
              "...                                                 ...  \n",
              "9731  edward carnby is a private investigator specia...  \n",
              "9732  set on an island off the coast a techno rave p...  \n",
              "9733  the young warrior son goku sets out on a quest...  \n",
              "9734  an italian parody of the biggest us blockbuste...  \n",
              "9735  a platoon of eagles and vultures attacks the r...  \n",
              "\n",
              "[9736 rows x 3 columns]"
            ]
          },
          "metadata": {},
          "execution_count": 42
        }
      ]
    },
    {
      "cell_type": "markdown",
      "source": [
        "# Spelling correction"
      ],
      "metadata": {
        "id": "jberPwMIBpXs"
      }
    },
    {
      "cell_type": "code",
      "source": [
        "! pip install textblob"
      ],
      "metadata": {
        "colab": {
          "base_uri": "https://localhost:8080/"
        },
        "id": "blMNT1EGBGZV",
        "outputId": "0a9292b4-572f-4a4f-f8f0-35ec3b6a33c0"
      },
      "execution_count": 43,
      "outputs": [
        {
          "output_type": "stream",
          "name": "stdout",
          "text": [
            "Requirement already satisfied: textblob in /usr/local/lib/python3.7/dist-packages (0.15.3)\n",
            "Requirement already satisfied: nltk>=3.1 in /usr/local/lib/python3.7/dist-packages (from textblob) (3.2.5)\n",
            "Requirement already satisfied: six in /usr/local/lib/python3.7/dist-packages (from nltk>=3.1->textblob) (1.15.0)\n"
          ]
        }
      ]
    },
    {
      "cell_type": "code",
      "source": [
        "from textblob import TextBlob"
      ],
      "metadata": {
        "id": "b_QkOhkzBvmA"
      },
      "execution_count": 44,
      "outputs": []
    },
    {
      "cell_type": "code",
      "source": [
        "str1 = \"helo, my nami is vishal Thakur. Who are you\""
      ],
      "metadata": {
        "id": "ec9b-TktB2U3"
      },
      "execution_count": 45,
      "outputs": []
    },
    {
      "cell_type": "code",
      "source": [
        "blb = TextBlob(str1)"
      ],
      "metadata": {
        "id": "xcIand_VCMd4"
      },
      "execution_count": 46,
      "outputs": []
    },
    {
      "cell_type": "code",
      "source": [
        "blb.correct().string"
      ],
      "metadata": {
        "colab": {
          "base_uri": "https://localhost:8080/",
          "height": 35
        },
        "id": "oOUtFHsGCO-x",
        "outputId": "84674dbc-2699-4329-8ffe-33fdf9e308d3"
      },
      "execution_count": 47,
      "outputs": [
        {
          "output_type": "execute_result",
          "data": {
            "application/vnd.google.colaboratory.intrinsic+json": {
              "type": "string"
            },
            "text/plain": [
              "'held, my name is visual Thakur. Who are you'"
            ]
          },
          "metadata": {},
          "execution_count": 47
        }
      ]
    },
    {
      "cell_type": "markdown",
      "source": [
        "looks like it is making some mistakes on non english words. Also, since this is movied descriptions, it will not have many spelling mistakes. So let's not do any spell corrections"
      ],
      "metadata": {
        "id": "Mswl6XEQCVef"
      }
    },
    {
      "cell_type": "markdown",
      "source": [
        "# Stop words treatment"
      ],
      "metadata": {
        "id": "1cHRTBDxCrwh"
      }
    },
    {
      "cell_type": "code",
      "source": [
        "! pip install nltk"
      ],
      "metadata": {
        "colab": {
          "base_uri": "https://localhost:8080/"
        },
        "id": "7ab3MkW-CQIB",
        "outputId": "141d8ff1-48eb-46a9-c99d-603a885ef759"
      },
      "execution_count": 48,
      "outputs": [
        {
          "output_type": "stream",
          "name": "stdout",
          "text": [
            "Requirement already satisfied: nltk in /usr/local/lib/python3.7/dist-packages (3.2.5)\n",
            "Requirement already satisfied: six in /usr/local/lib/python3.7/dist-packages (from nltk) (1.15.0)\n"
          ]
        }
      ]
    },
    {
      "cell_type": "code",
      "source": [
        "import nltk"
      ],
      "metadata": {
        "id": "vayRyTH8DUJh"
      },
      "execution_count": 49,
      "outputs": []
    },
    {
      "cell_type": "code",
      "source": [
        "nltk.download(\"stopwords\")\n",
        "from nltk.corpus import stopwords"
      ],
      "metadata": {
        "colab": {
          "base_uri": "https://localhost:8080/"
        },
        "id": "ul2H3hxzCxC1",
        "outputId": "2240e1e3-1b8a-4d5c-b487-edfa54ff14b2"
      },
      "execution_count": 50,
      "outputs": [
        {
          "output_type": "stream",
          "name": "stdout",
          "text": [
            "[nltk_data] Downloading package stopwords to /root/nltk_data...\n",
            "[nltk_data]   Unzipping corpora/stopwords.zip.\n"
          ]
        }
      ]
    },
    {
      "cell_type": "code",
      "source": [
        "stopwords.words(\"english\")[:10]"
      ],
      "metadata": {
        "colab": {
          "base_uri": "https://localhost:8080/"
        },
        "id": "oslas3OqC4Ju",
        "outputId": "fbc3ca19-3adf-4f59-a07b-3285e8f7422f"
      },
      "execution_count": 51,
      "outputs": [
        {
          "output_type": "execute_result",
          "data": {
            "text/plain": [
              "['i', 'me', 'my', 'myself', 'we', 'our', 'ours', 'ourselves', 'you', \"you're\"]"
            ]
          },
          "metadata": {},
          "execution_count": 51
        }
      ]
    },
    {
      "cell_type": "code",
      "source": [
        "len(stopwords.words(\"english\"))"
      ],
      "metadata": {
        "colab": {
          "base_uri": "https://localhost:8080/"
        },
        "id": "q4hpVuNrdAvR",
        "outputId": "124a8962-27cd-47da-da3a-bec7ed8c37c6"
      },
      "execution_count": 52,
      "outputs": [
        {
          "output_type": "execute_result",
          "data": {
            "text/plain": [
              "179"
            ]
          },
          "metadata": {},
          "execution_count": 52
        }
      ]
    },
    {
      "cell_type": "markdown",
      "source": [
        "looks like we have 179 stop words"
      ],
      "metadata": {
        "id": "nayWHf7ydD5u"
      }
    },
    {
      "cell_type": "markdown",
      "source": [
        "We will split the text, then remove stop words."
      ],
      "metadata": {
        "id": "eT2ilmIxdKu9"
      }
    },
    {
      "cell_type": "code",
      "source": [
        "# let's see how join works\n",
        "a = [\"a\", \"b\", \"c\", \"d\"]\n",
        "\" \".join(a)"
      ],
      "metadata": {
        "colab": {
          "base_uri": "https://localhost:8080/",
          "height": 35
        },
        "id": "zGXWp406dq8V",
        "outputId": "c7cbc062-69bf-44c8-c6a8-f47777224399"
      },
      "execution_count": 53,
      "outputs": [
        {
          "output_type": "execute_result",
          "data": {
            "application/vnd.google.colaboratory.intrinsic+json": {
              "type": "string"
            },
            "text/plain": [
              "'a b c d'"
            ]
          },
          "metadata": {},
          "execution_count": 53
        }
      ]
    },
    {
      "cell_type": "code",
      "source": [
        "def remove_stop(text):\n",
        "  lis = []\n",
        "  for word in text.split():\n",
        "    if word not in stopwords.words(\"english\"):\n",
        "      lis.append(word)\n",
        "  return \" \".join(lis)\n"
      ],
      "metadata": {
        "id": "qPmXhSU0D7Wh"
      },
      "execution_count": 54,
      "outputs": []
    },
    {
      "cell_type": "markdown",
      "source": [
        "as you can see, we are joining every thing back. We will be tokenizing everything again, so we don't need to join it back. We can just return the list.\n",
        "\n",
        "`return lis`"
      ],
      "metadata": {
        "id": "B0VvvuPvr28V"
      }
    },
    {
      "cell_type": "code",
      "source": [
        "series = df.description.apply(lambda x: remove_stop(x))"
      ],
      "metadata": {
        "id": "Iel9yyFYDAGM"
      },
      "execution_count": 55,
      "outputs": []
    },
    {
      "cell_type": "code",
      "source": [
        "df.description = series"
      ],
      "metadata": {
        "id": "FOQGxlCAd-2k"
      },
      "execution_count": 56,
      "outputs": []
    },
    {
      "cell_type": "code",
      "source": [
        "df"
      ],
      "metadata": {
        "colab": {
          "base_uri": "https://localhost:8080/",
          "height": 423
        },
        "id": "Bpg7hsD7fcOi",
        "outputId": "036ba441-6185-4fc9-cd03-59a42daa94df"
      },
      "execution_count": 57,
      "outputs": [
        {
          "output_type": "execute_result",
          "data": {
            "text/html": [
              "\n",
              "  <div id=\"df-6da04d87-4314-4051-bd56-e402d7d85dbd\">\n",
              "    <div class=\"colab-df-container\">\n",
              "      <div>\n",
              "<style scoped>\n",
              "    .dataframe tbody tr th:only-of-type {\n",
              "        vertical-align: middle;\n",
              "    }\n",
              "\n",
              "    .dataframe tbody tr th {\n",
              "        vertical-align: top;\n",
              "    }\n",
              "\n",
              "    .dataframe thead th {\n",
              "        text-align: right;\n",
              "    }\n",
              "</style>\n",
              "<table border=\"1\" class=\"dataframe\">\n",
              "  <thead>\n",
              "    <tr style=\"text-align: right;\">\n",
              "      <th></th>\n",
              "      <th>title</th>\n",
              "      <th>genres</th>\n",
              "      <th>description</th>\n",
              "    </tr>\n",
              "  </thead>\n",
              "  <tbody>\n",
              "    <tr>\n",
              "      <th>0</th>\n",
              "      <td>The Shawshank Redemption</td>\n",
              "      <td>[Drama, Crime]</td>\n",
              "      <td>framed 1940s double murder wife lover upstandi...</td>\n",
              "    </tr>\n",
              "    <tr>\n",
              "      <th>1</th>\n",
              "      <td>Dilwale Dulhania Le Jayenge</td>\n",
              "      <td>[Comedy, Drama, Romance]</td>\n",
              "      <td>raj rich carefree happygolucky second generati...</td>\n",
              "    </tr>\n",
              "    <tr>\n",
              "      <th>2</th>\n",
              "      <td>The Godfather</td>\n",
              "      <td>[Drama, Crime]</td>\n",
              "      <td>spanning years 1945 1955 chronicle fictional i...</td>\n",
              "    </tr>\n",
              "    <tr>\n",
              "      <th>3</th>\n",
              "      <td>Your Eyes Tell</td>\n",
              "      <td>[Romance, Drama]</td>\n",
              "      <td>tragic accident lead kaoris blindness clings l...</td>\n",
              "    </tr>\n",
              "    <tr>\n",
              "      <th>4</th>\n",
              "      <td>Schindler's List</td>\n",
              "      <td>[Drama, History, War]</td>\n",
              "      <td>true story businessman oskar schindler saved t...</td>\n",
              "    </tr>\n",
              "    <tr>\n",
              "      <th>...</th>\n",
              "      <td>...</td>\n",
              "      <td>...</td>\n",
              "      <td>...</td>\n",
              "    </tr>\n",
              "    <tr>\n",
              "      <th>9731</th>\n",
              "      <td>Alone in the Dark</td>\n",
              "      <td>[Action, Fantasy, Horror]</td>\n",
              "      <td>edward carnby private investigator specializin...</td>\n",
              "    </tr>\n",
              "    <tr>\n",
              "      <th>9732</th>\n",
              "      <td>House of the Dead</td>\n",
              "      <td>[Horror, Action, Thriller]</td>\n",
              "      <td>set island coast techno rave party attracts di...</td>\n",
              "    </tr>\n",
              "    <tr>\n",
              "      <th>9733</th>\n",
              "      <td>Dragonball Evolution</td>\n",
              "      <td>[Action, Adventure, Fantasy, Science Fiction, ...</td>\n",
              "      <td>young warrior son goku sets quest racing time ...</td>\n",
              "    </tr>\n",
              "    <tr>\n",
              "      <th>9734</th>\n",
              "      <td>Box Office 3D - Il film dei film</td>\n",
              "      <td>[Comedy]</td>\n",
              "      <td>italian parody biggest us blockbusters gladiat...</td>\n",
              "    </tr>\n",
              "    <tr>\n",
              "      <th>9735</th>\n",
              "      <td>Birdemic: Shock and Terror</td>\n",
              "      <td>[Science Fiction, Horror, Romance, Thriller]</td>\n",
              "      <td>platoon eagles vultures attacks residents smal...</td>\n",
              "    </tr>\n",
              "  </tbody>\n",
              "</table>\n",
              "<p>9736 rows × 3 columns</p>\n",
              "</div>\n",
              "      <button class=\"colab-df-convert\" onclick=\"convertToInteractive('df-6da04d87-4314-4051-bd56-e402d7d85dbd')\"\n",
              "              title=\"Convert this dataframe to an interactive table.\"\n",
              "              style=\"display:none;\">\n",
              "        \n",
              "  <svg xmlns=\"http://www.w3.org/2000/svg\" height=\"24px\"viewBox=\"0 0 24 24\"\n",
              "       width=\"24px\">\n",
              "    <path d=\"M0 0h24v24H0V0z\" fill=\"none\"/>\n",
              "    <path d=\"M18.56 5.44l.94 2.06.94-2.06 2.06-.94-2.06-.94-.94-2.06-.94 2.06-2.06.94zm-11 1L8.5 8.5l.94-2.06 2.06-.94-2.06-.94L8.5 2.5l-.94 2.06-2.06.94zm10 10l.94 2.06.94-2.06 2.06-.94-2.06-.94-.94-2.06-.94 2.06-2.06.94z\"/><path d=\"M17.41 7.96l-1.37-1.37c-.4-.4-.92-.59-1.43-.59-.52 0-1.04.2-1.43.59L10.3 9.45l-7.72 7.72c-.78.78-.78 2.05 0 2.83L4 21.41c.39.39.9.59 1.41.59.51 0 1.02-.2 1.41-.59l7.78-7.78 2.81-2.81c.8-.78.8-2.07 0-2.86zM5.41 20L4 18.59l7.72-7.72 1.47 1.35L5.41 20z\"/>\n",
              "  </svg>\n",
              "      </button>\n",
              "      \n",
              "  <style>\n",
              "    .colab-df-container {\n",
              "      display:flex;\n",
              "      flex-wrap:wrap;\n",
              "      gap: 12px;\n",
              "    }\n",
              "\n",
              "    .colab-df-convert {\n",
              "      background-color: #E8F0FE;\n",
              "      border: none;\n",
              "      border-radius: 50%;\n",
              "      cursor: pointer;\n",
              "      display: none;\n",
              "      fill: #1967D2;\n",
              "      height: 32px;\n",
              "      padding: 0 0 0 0;\n",
              "      width: 32px;\n",
              "    }\n",
              "\n",
              "    .colab-df-convert:hover {\n",
              "      background-color: #E2EBFA;\n",
              "      box-shadow: 0px 1px 2px rgba(60, 64, 67, 0.3), 0px 1px 3px 1px rgba(60, 64, 67, 0.15);\n",
              "      fill: #174EA6;\n",
              "    }\n",
              "\n",
              "    [theme=dark] .colab-df-convert {\n",
              "      background-color: #3B4455;\n",
              "      fill: #D2E3FC;\n",
              "    }\n",
              "\n",
              "    [theme=dark] .colab-df-convert:hover {\n",
              "      background-color: #434B5C;\n",
              "      box-shadow: 0px 1px 3px 1px rgba(0, 0, 0, 0.15);\n",
              "      filter: drop-shadow(0px 1px 2px rgba(0, 0, 0, 0.3));\n",
              "      fill: #FFFFFF;\n",
              "    }\n",
              "  </style>\n",
              "\n",
              "      <script>\n",
              "        const buttonEl =\n",
              "          document.querySelector('#df-6da04d87-4314-4051-bd56-e402d7d85dbd button.colab-df-convert');\n",
              "        buttonEl.style.display =\n",
              "          google.colab.kernel.accessAllowed ? 'block' : 'none';\n",
              "\n",
              "        async function convertToInteractive(key) {\n",
              "          const element = document.querySelector('#df-6da04d87-4314-4051-bd56-e402d7d85dbd');\n",
              "          const dataTable =\n",
              "            await google.colab.kernel.invokeFunction('convertToInteractive',\n",
              "                                                     [key], {});\n",
              "          if (!dataTable) return;\n",
              "\n",
              "          const docLinkHtml = 'Like what you see? Visit the ' +\n",
              "            '<a target=\"_blank\" href=https://colab.research.google.com/notebooks/data_table.ipynb>data table notebook</a>'\n",
              "            + ' to learn more about interactive tables.';\n",
              "          element.innerHTML = '';\n",
              "          dataTable['output_type'] = 'display_data';\n",
              "          await google.colab.output.renderOutput(dataTable, element);\n",
              "          const docLink = document.createElement('div');\n",
              "          docLink.innerHTML = docLinkHtml;\n",
              "          element.appendChild(docLink);\n",
              "        }\n",
              "      </script>\n",
              "    </div>\n",
              "  </div>\n",
              "  "
            ],
            "text/plain": [
              "                                 title  \\\n",
              "0             The Shawshank Redemption   \n",
              "1          Dilwale Dulhania Le Jayenge   \n",
              "2                        The Godfather   \n",
              "3                       Your Eyes Tell   \n",
              "4                     Schindler's List   \n",
              "...                                ...   \n",
              "9731                 Alone in the Dark   \n",
              "9732                 House of the Dead   \n",
              "9733              Dragonball Evolution   \n",
              "9734  Box Office 3D - Il film dei film   \n",
              "9735        Birdemic: Shock and Terror   \n",
              "\n",
              "                                                 genres  \\\n",
              "0                                        [Drama, Crime]   \n",
              "1                              [Comedy, Drama, Romance]   \n",
              "2                                        [Drama, Crime]   \n",
              "3                                      [Romance, Drama]   \n",
              "4                                 [Drama, History, War]   \n",
              "...                                                 ...   \n",
              "9731                          [Action, Fantasy, Horror]   \n",
              "9732                         [Horror, Action, Thriller]   \n",
              "9733  [Action, Adventure, Fantasy, Science Fiction, ...   \n",
              "9734                                           [Comedy]   \n",
              "9735       [Science Fiction, Horror, Romance, Thriller]   \n",
              "\n",
              "                                            description  \n",
              "0     framed 1940s double murder wife lover upstandi...  \n",
              "1     raj rich carefree happygolucky second generati...  \n",
              "2     spanning years 1945 1955 chronicle fictional i...  \n",
              "3     tragic accident lead kaoris blindness clings l...  \n",
              "4     true story businessman oskar schindler saved t...  \n",
              "...                                                 ...  \n",
              "9731  edward carnby private investigator specializin...  \n",
              "9732  set island coast techno rave party attracts di...  \n",
              "9733  young warrior son goku sets quest racing time ...  \n",
              "9734  italian parody biggest us blockbusters gladiat...  \n",
              "9735  platoon eagles vultures attacks residents smal...  \n",
              "\n",
              "[9736 rows x 3 columns]"
            ]
          },
          "metadata": {},
          "execution_count": 57
        }
      ]
    },
    {
      "cell_type": "markdown",
      "source": [
        "# Tokenization\n",
        "It's time to tokenize"
      ],
      "metadata": {
        "id": "eZYcoBL6hMMX"
      }
    },
    {
      "cell_type": "code",
      "source": [
        "from nltk.tokenize import word_tokenize\n",
        "nltk.download(\"punkt\")"
      ],
      "metadata": {
        "colab": {
          "base_uri": "https://localhost:8080/"
        },
        "id": "X-d4EXWgfkuy",
        "outputId": "db9f7110-f104-414b-92a9-0ecfd85b1c3d"
      },
      "execution_count": 58,
      "outputs": [
        {
          "output_type": "stream",
          "name": "stdout",
          "text": [
            "[nltk_data] Downloading package punkt to /root/nltk_data...\n",
            "[nltk_data]   Unzipping tokenizers/punkt.zip.\n"
          ]
        },
        {
          "output_type": "execute_result",
          "data": {
            "text/plain": [
              "True"
            ]
          },
          "metadata": {},
          "execution_count": 58
        }
      ]
    },
    {
      "cell_type": "code",
      "source": [
        "word_tokenize(\"Hello my name is vishal thakur.\")"
      ],
      "metadata": {
        "colab": {
          "base_uri": "https://localhost:8080/"
        },
        "id": "CLx9e9S9hWOo",
        "outputId": "d85b7899-473c-42f2-beaf-edc2cac52e39"
      },
      "execution_count": 59,
      "outputs": [
        {
          "output_type": "execute_result",
          "data": {
            "text/plain": [
              "['Hello', 'my', 'name', 'is', 'vishal', 'thakur', '.']"
            ]
          },
          "metadata": {},
          "execution_count": 59
        }
      ]
    },
    {
      "cell_type": "code",
      "source": [
        "df.description.iloc[0]"
      ],
      "metadata": {
        "colab": {
          "base_uri": "https://localhost:8080/",
          "height": 53
        },
        "id": "0bNdqnMtjwIQ",
        "outputId": "14390cae-37a6-4fd5-9236-11d9f10ebe9a"
      },
      "execution_count": 60,
      "outputs": [
        {
          "output_type": "execute_result",
          "data": {
            "application/vnd.google.colaboratory.intrinsic+json": {
              "type": "string"
            },
            "text/plain": [
              "'framed 1940s double murder wife lover upstanding banker andy dufresne begins new life shawshank prison puts accounting skills work amoral warden long stretch prison dufresne comes admired inmates including older prisoner named red integrity unquenchable sense hope'"
            ]
          },
          "metadata": {},
          "execution_count": 60
        }
      ]
    },
    {
      "cell_type": "markdown",
      "source": [
        "Checking on one example"
      ],
      "metadata": {
        "id": "bnhATDqasM1Z"
      }
    },
    {
      "cell_type": "code",
      "source": [
        "word_tokenize(df.description.iloc[0])"
      ],
      "metadata": {
        "colab": {
          "base_uri": "https://localhost:8080/"
        },
        "id": "kPLMeE2Bhbfo",
        "outputId": "a1a8094f-0d66-44ec-c843-6207ddd50c87"
      },
      "execution_count": 61,
      "outputs": [
        {
          "output_type": "execute_result",
          "data": {
            "text/plain": [
              "['framed',\n",
              " '1940s',\n",
              " 'double',\n",
              " 'murder',\n",
              " 'wife',\n",
              " 'lover',\n",
              " 'upstanding',\n",
              " 'banker',\n",
              " 'andy',\n",
              " 'dufresne',\n",
              " 'begins',\n",
              " 'new',\n",
              " 'life',\n",
              " 'shawshank',\n",
              " 'prison',\n",
              " 'puts',\n",
              " 'accounting',\n",
              " 'skills',\n",
              " 'work',\n",
              " 'amoral',\n",
              " 'warden',\n",
              " 'long',\n",
              " 'stretch',\n",
              " 'prison',\n",
              " 'dufresne',\n",
              " 'comes',\n",
              " 'admired',\n",
              " 'inmates',\n",
              " 'including',\n",
              " 'older',\n",
              " 'prisoner',\n",
              " 'named',\n",
              " 'red',\n",
              " 'integrity',\n",
              " 'unquenchable',\n",
              " 'sense',\n",
              " 'hope']"
            ]
          },
          "metadata": {},
          "execution_count": 61
        }
      ]
    },
    {
      "cell_type": "markdown",
      "source": [
        "Applying to whole description column of dataset"
      ],
      "metadata": {
        "id": "9YJ4XpM1sP2y"
      }
    },
    {
      "cell_type": "code",
      "source": [
        "df.description = df.description.apply(lambda x: word_tokenize(x))\n",
        "df.description"
      ],
      "metadata": {
        "colab": {
          "base_uri": "https://localhost:8080/"
        },
        "id": "Y2zIIHH6kRra",
        "outputId": "715ca8fd-fb23-4edf-f4c1-4f29f19b25cb"
      },
      "execution_count": 62,
      "outputs": [
        {
          "output_type": "execute_result",
          "data": {
            "text/plain": [
              "0       [framed, 1940s, double, murder, wife, lover, u...\n",
              "1       [raj, rich, carefree, happygolucky, second, ge...\n",
              "2       [spanning, years, 1945, 1955, chronicle, ficti...\n",
              "3       [tragic, accident, lead, kaoris, blindness, cl...\n",
              "4       [true, story, businessman, oskar, schindler, s...\n",
              "                              ...                        \n",
              "9731    [edward, carnby, private, investigator, specia...\n",
              "9732    [set, island, coast, techno, rave, party, attr...\n",
              "9733    [young, warrior, son, goku, sets, quest, racin...\n",
              "9734    [italian, parody, biggest, us, blockbusters, g...\n",
              "9735    [platoon, eagles, vultures, attacks, residents...\n",
              "Name: description, Length: 9736, dtype: object"
            ]
          },
          "metadata": {},
          "execution_count": 62
        }
      ]
    },
    {
      "cell_type": "markdown",
      "source": [
        "# Stemming"
      ],
      "metadata": {
        "id": "M734ziyCkGwi"
      }
    },
    {
      "cell_type": "code",
      "source": [
        "# import these modules\n",
        "from nltk.stem import PorterStemmer\n",
        "from nltk.tokenize import word_tokenize\n",
        "\n",
        "ps = PorterStemmer()\n",
        "\n",
        "# choose some words to be stemmed\n",
        "words = [\"program\", \"programs\", \"programmer\", \"programming\", \"programmers\"]\n",
        "\n",
        "for w in words:\n",
        "\tprint(w, \" : \", ps.stem(w))\n"
      ],
      "metadata": {
        "colab": {
          "base_uri": "https://localhost:8080/"
        },
        "id": "OuePzn6Khz_Z",
        "outputId": "35ee2943-ff15-40ae-e5ac-43831f8fbf77"
      },
      "execution_count": 63,
      "outputs": [
        {
          "output_type": "stream",
          "name": "stdout",
          "text": [
            "program  :  program\n",
            "programs  :  program\n",
            "programmer  :  programm\n",
            "programming  :  program\n",
            "programmers  :  programm\n"
          ]
        }
      ]
    },
    {
      "cell_type": "code",
      "source": [
        "from nltk.stem import WordNetLemmatizer\n",
        "wordnet = WordNetLemmatizer()"
      ],
      "metadata": {
        "id": "IF2uI8Qvkgci"
      },
      "execution_count": 64,
      "outputs": []
    },
    {
      "cell_type": "code",
      "source": [
        "nltk.download(\"wordnet\")"
      ],
      "metadata": {
        "colab": {
          "base_uri": "https://localhost:8080/"
        },
        "id": "_Qvse974lKbe",
        "outputId": "b5085f36-4b2c-4f37-f8fb-a060183f20b8"
      },
      "execution_count": 65,
      "outputs": [
        {
          "output_type": "stream",
          "name": "stdout",
          "text": [
            "[nltk_data] Downloading package wordnet to /root/nltk_data...\n",
            "[nltk_data]   Unzipping corpora/wordnet.zip.\n"
          ]
        },
        {
          "output_type": "execute_result",
          "data": {
            "text/plain": [
              "True"
            ]
          },
          "metadata": {},
          "execution_count": 65
        }
      ]
    },
    {
      "cell_type": "markdown",
      "source": [
        "# Learning Formatted Output"
      ],
      "metadata": {
        "id": "4JxA8hLtsY-L"
      }
    },
    {
      "cell_type": "markdown",
      "source": [
        "That's how we align things."
      ],
      "metadata": {
        "id": "3OPPm4sdmde3"
      }
    },
    {
      "cell_type": "code",
      "source": [
        "\n",
        "# here 20 spaces are reserved for the \n",
        "# particular output string. And the string\n",
        "# is printed on the left side\n",
        "print(f\"{'Left Aligned Text' : <20}\")"
      ],
      "metadata": {
        "colab": {
          "base_uri": "https://localhost:8080/"
        },
        "id": "jRJCyIDmmtUv",
        "outputId": "328ff945-a7ee-4aef-c621-5bbbc581d5c2"
      },
      "execution_count": 66,
      "outputs": [
        {
          "output_type": "stream",
          "name": "stdout",
          "text": [
            "Left Aligned Text   \n"
          ]
        }
      ]
    },
    {
      "cell_type": "code",
      "source": [
        "\n",
        "# here 20 spaces are reserved for the \n",
        "# particular output string. And the string\n",
        "# is printed on the right side\n",
        "print(f\"{'Right Aligned Text' : >20}\")"
      ],
      "metadata": {
        "colab": {
          "base_uri": "https://localhost:8080/"
        },
        "id": "xBsKJK9pmyX7",
        "outputId": "53663c41-eff0-4123-a957-f4b26a8b590b"
      },
      "execution_count": 67,
      "outputs": [
        {
          "output_type": "stream",
          "name": "stdout",
          "text": [
            "  Right Aligned Text\n"
          ]
        }
      ]
    },
    {
      "cell_type": "code",
      "source": [
        "# here 20 spaces are reserved for the \n",
        "# particular output string. And the string\n",
        "# is printed in the middle\n",
        "print(f\"{'Centered' : ^10}\")"
      ],
      "metadata": {
        "colab": {
          "base_uri": "https://localhost:8080/"
        },
        "id": "0O-6eczDm2u4",
        "outputId": "3cfc366c-104d-4ab3-fe1f-bcec50c512d4"
      },
      "execution_count": 68,
      "outputs": [
        {
          "output_type": "stream",
          "name": "stdout",
          "text": [
            " Centered \n"
          ]
        }
      ]
    },
    {
      "cell_type": "code",
      "source": [
        "# assigning strings to the variables\n",
        "left_alignment = \"Left Text\"\n",
        "center_alignment = \"Centered Text\"\n",
        "right_alignment = \"Right Text\"\n",
        "\n",
        "# printing out aligned text\n",
        "print(f\"{left_alignment : <20}{center_alignment : ^15}{right_alignment : >20}\")\n"
      ],
      "metadata": {
        "colab": {
          "base_uri": "https://localhost:8080/"
        },
        "id": "pzjrARnqm_p4",
        "outputId": "7589fe90-2811-4efa-fa66-35f78605f87a"
      },
      "execution_count": 69,
      "outputs": [
        {
          "output_type": "stream",
          "name": "stdout",
          "text": [
            "Left Text            Centered Text           Right Text\n"
          ]
        }
      ]
    },
    {
      "cell_type": "code",
      "source": [
        "\n",
        "# assigning list values to the variables\n",
        "names = ['Raj', 'Shivam', 'Shreeya', 'Kartik']\n",
        "marks = [7, 9, 8, 5]\n",
        "div = ['A', 'A', 'C', 'B']\n",
        "id = [21, 52, 27, 38]\n",
        "\n",
        "\n",
        "print(f\"{'Name' : <10}{'Marks' : ^10}{'Division' : ^10}{'ID' : >5}\")\n",
        "  \n",
        "# printing values of variables in Aligned manner\n",
        "for i in range(0, 4):\n",
        "    print(f\"{names[i] : <10}{marks[i] : ^10}{div[i] : ^10}{id[i] : >5}\")"
      ],
      "metadata": {
        "colab": {
          "base_uri": "https://localhost:8080/"
        },
        "id": "fLCmUj5YlH4E",
        "outputId": "d22f4d21-56e1-498e-a1ed-3f4ef3fec914"
      },
      "execution_count": 70,
      "outputs": [
        {
          "output_type": "stream",
          "name": "stdout",
          "text": [
            "Name        Marks    Division    ID\n",
            "Raj           7         A        21\n",
            "Shivam        9         A        52\n",
            "Shreeya       8         C        27\n",
            "Kartik        5         B        38\n"
          ]
        }
      ]
    },
    {
      "cell_type": "code",
      "source": [
        ""
      ],
      "metadata": {
        "id": "PK28wBznmXF4"
      },
      "execution_count": 70,
      "outputs": []
    },
    {
      "cell_type": "code",
      "source": [
        "print(f\"{'Original < 20'}{'Stemmed':^20}{'Lemmatized':^20}\")\n",
        "for w in df.description[6]:\n",
        "  print(f\"{w:<20}{ps.stem(w):<20}{wordnet.lemmatize(w):<20}\")"
      ],
      "metadata": {
        "colab": {
          "base_uri": "https://localhost:8080/"
        },
        "id": "4onFqFYykI6S",
        "outputId": "dc08fed6-53e2-4e62-c6aa-dfceb6033d4f"
      },
      "execution_count": 71,
      "outputs": [
        {
          "output_type": "stream",
          "name": "stdout",
          "text": [
            "Original < 20      Stemmed            Lemmatized     \n",
            "continuing          continu             continuing          \n",
            "saga                saga                saga                \n",
            "corleone            corleon             corleone            \n",
            "crime               crime               crime               \n",
            "family              famili              family              \n",
            "young               young               young               \n",
            "vito                vito                vito                \n",
            "corleone            corleon             corleone            \n",
            "grows               grow                grows               \n",
            "sicily              sicili              sicily              \n",
            "1910s               1910                1910s               \n",
            "new                 new                 new                 \n",
            "york                york                york                \n",
            "1950s               1950                1950s               \n",
            "michael             michael             michael             \n",
            "corleone            corleon             corleone            \n",
            "attempts            attempt             attempt             \n",
            "expand              expand              expand              \n",
            "family              famili              family              \n",
            "business            busi                business            \n",
            "las                 la                  la                  \n",
            "vegas               vega                vega                \n",
            "hollywood           hollywood           hollywood           \n",
            "cuba                cuba                cuba                \n"
          ]
        }
      ]
    },
    {
      "cell_type": "markdown",
      "source": [
        "looks like both are giving good results, but we will manually check for some words"
      ],
      "metadata": {
        "id": "dQQE15gkonL5"
      }
    },
    {
      "cell_type": "code",
      "source": [
        "a = [\"continue\", \"continued\", \"countinuing\", \"countinous\", \"continuing\"]\n",
        "\n",
        "for w in a:\n",
        "  print(w, \"  :  \", ps.stem(w), \"  :  \", wordnet.lemmatize(w))"
      ],
      "metadata": {
        "colab": {
          "base_uri": "https://localhost:8080/"
        },
        "id": "mViYN7hBn8WM",
        "outputId": "723d1c9f-9fb8-43bc-fb81-487796b263ad"
      },
      "execution_count": 72,
      "outputs": [
        {
          "output_type": "stream",
          "name": "stdout",
          "text": [
            "continue   :   continu   :   continue\n",
            "continued   :   continu   :   continued\n",
            "countinuing   :   countinu   :   countinuing\n",
            "countinous   :   countin   :   countinous\n",
            "continuing   :   continu   :   continuing\n"
          ]
        }
      ]
    },
    {
      "cell_type": "markdown",
      "source": [
        "since lemmatization gives so many version above words, we will go with stemming"
      ],
      "metadata": {
        "id": "JNk5NeLnpx7s"
      }
    },
    {
      "cell_type": "code",
      "source": [
        "des_stemmed = df.description.apply(lambda x: [ps.stem(i) for i in x])"
      ],
      "metadata": {
        "id": "Pk5WvlA8pSZr"
      },
      "execution_count": 73,
      "outputs": []
    },
    {
      "cell_type": "code",
      "source": [
        "des_stemmed"
      ],
      "metadata": {
        "colab": {
          "base_uri": "https://localhost:8080/"
        },
        "id": "Zp5zByISqYQQ",
        "outputId": "d0667b68-2a2e-46e6-b830-7ea3c643ebf0"
      },
      "execution_count": 74,
      "outputs": [
        {
          "output_type": "execute_result",
          "data": {
            "text/plain": [
              "0       [frame, 1940, doubl, murder, wife, lover, upst...\n",
              "1       [raj, rich, carefre, happygolucki, second, gen...\n",
              "2       [span, year, 1945, 1955, chronicl, fiction, it...\n",
              "3       [tragic, accid, lead, kaori, blind, cling, lif...\n",
              "4       [true, stori, businessman, oskar, schindler, s...\n",
              "                              ...                        \n",
              "9731    [edward, carnbi, privat, investig, special, un...\n",
              "9732    [set, island, coast, techno, rave, parti, attr...\n",
              "9733    [young, warrior, son, goku, set, quest, race, ...\n",
              "9734    [italian, parodi, biggest, us, blockbust, glad...\n",
              "9735    [platoon, eagl, vultur, attack, resid, small, ...\n",
              "Name: description, Length: 9736, dtype: object"
            ]
          },
          "metadata": {},
          "execution_count": 74
        }
      ]
    },
    {
      "cell_type": "code",
      "source": [
        "df.description = des_stemmed"
      ],
      "metadata": {
        "id": "V2s5g8cjqjWN"
      },
      "execution_count": 75,
      "outputs": []
    },
    {
      "cell_type": "markdown",
      "source": [
        "# And here we have our dataset, ready to be modelled upon."
      ],
      "metadata": {
        "id": "ovPrXDgkq3MO"
      }
    },
    {
      "cell_type": "code",
      "source": [
        "df"
      ],
      "metadata": {
        "colab": {
          "base_uri": "https://localhost:8080/",
          "height": 423
        },
        "id": "KEJkHN82qoAl",
        "outputId": "cdd96243-d453-46a8-db96-cc2c3ebc4630"
      },
      "execution_count": 76,
      "outputs": [
        {
          "output_type": "execute_result",
          "data": {
            "text/html": [
              "\n",
              "  <div id=\"df-2c8cb53a-b1b5-469c-8e93-8224fa953e65\">\n",
              "    <div class=\"colab-df-container\">\n",
              "      <div>\n",
              "<style scoped>\n",
              "    .dataframe tbody tr th:only-of-type {\n",
              "        vertical-align: middle;\n",
              "    }\n",
              "\n",
              "    .dataframe tbody tr th {\n",
              "        vertical-align: top;\n",
              "    }\n",
              "\n",
              "    .dataframe thead th {\n",
              "        text-align: right;\n",
              "    }\n",
              "</style>\n",
              "<table border=\"1\" class=\"dataframe\">\n",
              "  <thead>\n",
              "    <tr style=\"text-align: right;\">\n",
              "      <th></th>\n",
              "      <th>title</th>\n",
              "      <th>genres</th>\n",
              "      <th>description</th>\n",
              "    </tr>\n",
              "  </thead>\n",
              "  <tbody>\n",
              "    <tr>\n",
              "      <th>0</th>\n",
              "      <td>The Shawshank Redemption</td>\n",
              "      <td>[Drama, Crime]</td>\n",
              "      <td>[frame, 1940, doubl, murder, wife, lover, upst...</td>\n",
              "    </tr>\n",
              "    <tr>\n",
              "      <th>1</th>\n",
              "      <td>Dilwale Dulhania Le Jayenge</td>\n",
              "      <td>[Comedy, Drama, Romance]</td>\n",
              "      <td>[raj, rich, carefre, happygolucki, second, gen...</td>\n",
              "    </tr>\n",
              "    <tr>\n",
              "      <th>2</th>\n",
              "      <td>The Godfather</td>\n",
              "      <td>[Drama, Crime]</td>\n",
              "      <td>[span, year, 1945, 1955, chronicl, fiction, it...</td>\n",
              "    </tr>\n",
              "    <tr>\n",
              "      <th>3</th>\n",
              "      <td>Your Eyes Tell</td>\n",
              "      <td>[Romance, Drama]</td>\n",
              "      <td>[tragic, accid, lead, kaori, blind, cling, lif...</td>\n",
              "    </tr>\n",
              "    <tr>\n",
              "      <th>4</th>\n",
              "      <td>Schindler's List</td>\n",
              "      <td>[Drama, History, War]</td>\n",
              "      <td>[true, stori, businessman, oskar, schindler, s...</td>\n",
              "    </tr>\n",
              "    <tr>\n",
              "      <th>...</th>\n",
              "      <td>...</td>\n",
              "      <td>...</td>\n",
              "      <td>...</td>\n",
              "    </tr>\n",
              "    <tr>\n",
              "      <th>9731</th>\n",
              "      <td>Alone in the Dark</td>\n",
              "      <td>[Action, Fantasy, Horror]</td>\n",
              "      <td>[edward, carnbi, privat, investig, special, un...</td>\n",
              "    </tr>\n",
              "    <tr>\n",
              "      <th>9732</th>\n",
              "      <td>House of the Dead</td>\n",
              "      <td>[Horror, Action, Thriller]</td>\n",
              "      <td>[set, island, coast, techno, rave, parti, attr...</td>\n",
              "    </tr>\n",
              "    <tr>\n",
              "      <th>9733</th>\n",
              "      <td>Dragonball Evolution</td>\n",
              "      <td>[Action, Adventure, Fantasy, Science Fiction, ...</td>\n",
              "      <td>[young, warrior, son, goku, set, quest, race, ...</td>\n",
              "    </tr>\n",
              "    <tr>\n",
              "      <th>9734</th>\n",
              "      <td>Box Office 3D - Il film dei film</td>\n",
              "      <td>[Comedy]</td>\n",
              "      <td>[italian, parodi, biggest, us, blockbust, glad...</td>\n",
              "    </tr>\n",
              "    <tr>\n",
              "      <th>9735</th>\n",
              "      <td>Birdemic: Shock and Terror</td>\n",
              "      <td>[Science Fiction, Horror, Romance, Thriller]</td>\n",
              "      <td>[platoon, eagl, vultur, attack, resid, small, ...</td>\n",
              "    </tr>\n",
              "  </tbody>\n",
              "</table>\n",
              "<p>9736 rows × 3 columns</p>\n",
              "</div>\n",
              "      <button class=\"colab-df-convert\" onclick=\"convertToInteractive('df-2c8cb53a-b1b5-469c-8e93-8224fa953e65')\"\n",
              "              title=\"Convert this dataframe to an interactive table.\"\n",
              "              style=\"display:none;\">\n",
              "        \n",
              "  <svg xmlns=\"http://www.w3.org/2000/svg\" height=\"24px\"viewBox=\"0 0 24 24\"\n",
              "       width=\"24px\">\n",
              "    <path d=\"M0 0h24v24H0V0z\" fill=\"none\"/>\n",
              "    <path d=\"M18.56 5.44l.94 2.06.94-2.06 2.06-.94-2.06-.94-.94-2.06-.94 2.06-2.06.94zm-11 1L8.5 8.5l.94-2.06 2.06-.94-2.06-.94L8.5 2.5l-.94 2.06-2.06.94zm10 10l.94 2.06.94-2.06 2.06-.94-2.06-.94-.94-2.06-.94 2.06-2.06.94z\"/><path d=\"M17.41 7.96l-1.37-1.37c-.4-.4-.92-.59-1.43-.59-.52 0-1.04.2-1.43.59L10.3 9.45l-7.72 7.72c-.78.78-.78 2.05 0 2.83L4 21.41c.39.39.9.59 1.41.59.51 0 1.02-.2 1.41-.59l7.78-7.78 2.81-2.81c.8-.78.8-2.07 0-2.86zM5.41 20L4 18.59l7.72-7.72 1.47 1.35L5.41 20z\"/>\n",
              "  </svg>\n",
              "      </button>\n",
              "      \n",
              "  <style>\n",
              "    .colab-df-container {\n",
              "      display:flex;\n",
              "      flex-wrap:wrap;\n",
              "      gap: 12px;\n",
              "    }\n",
              "\n",
              "    .colab-df-convert {\n",
              "      background-color: #E8F0FE;\n",
              "      border: none;\n",
              "      border-radius: 50%;\n",
              "      cursor: pointer;\n",
              "      display: none;\n",
              "      fill: #1967D2;\n",
              "      height: 32px;\n",
              "      padding: 0 0 0 0;\n",
              "      width: 32px;\n",
              "    }\n",
              "\n",
              "    .colab-df-convert:hover {\n",
              "      background-color: #E2EBFA;\n",
              "      box-shadow: 0px 1px 2px rgba(60, 64, 67, 0.3), 0px 1px 3px 1px rgba(60, 64, 67, 0.15);\n",
              "      fill: #174EA6;\n",
              "    }\n",
              "\n",
              "    [theme=dark] .colab-df-convert {\n",
              "      background-color: #3B4455;\n",
              "      fill: #D2E3FC;\n",
              "    }\n",
              "\n",
              "    [theme=dark] .colab-df-convert:hover {\n",
              "      background-color: #434B5C;\n",
              "      box-shadow: 0px 1px 3px 1px rgba(0, 0, 0, 0.15);\n",
              "      filter: drop-shadow(0px 1px 2px rgba(0, 0, 0, 0.3));\n",
              "      fill: #FFFFFF;\n",
              "    }\n",
              "  </style>\n",
              "\n",
              "      <script>\n",
              "        const buttonEl =\n",
              "          document.querySelector('#df-2c8cb53a-b1b5-469c-8e93-8224fa953e65 button.colab-df-convert');\n",
              "        buttonEl.style.display =\n",
              "          google.colab.kernel.accessAllowed ? 'block' : 'none';\n",
              "\n",
              "        async function convertToInteractive(key) {\n",
              "          const element = document.querySelector('#df-2c8cb53a-b1b5-469c-8e93-8224fa953e65');\n",
              "          const dataTable =\n",
              "            await google.colab.kernel.invokeFunction('convertToInteractive',\n",
              "                                                     [key], {});\n",
              "          if (!dataTable) return;\n",
              "\n",
              "          const docLinkHtml = 'Like what you see? Visit the ' +\n",
              "            '<a target=\"_blank\" href=https://colab.research.google.com/notebooks/data_table.ipynb>data table notebook</a>'\n",
              "            + ' to learn more about interactive tables.';\n",
              "          element.innerHTML = '';\n",
              "          dataTable['output_type'] = 'display_data';\n",
              "          await google.colab.output.renderOutput(dataTable, element);\n",
              "          const docLink = document.createElement('div');\n",
              "          docLink.innerHTML = docLinkHtml;\n",
              "          element.appendChild(docLink);\n",
              "        }\n",
              "      </script>\n",
              "    </div>\n",
              "  </div>\n",
              "  "
            ],
            "text/plain": [
              "                                 title  \\\n",
              "0             The Shawshank Redemption   \n",
              "1          Dilwale Dulhania Le Jayenge   \n",
              "2                        The Godfather   \n",
              "3                       Your Eyes Tell   \n",
              "4                     Schindler's List   \n",
              "...                                ...   \n",
              "9731                 Alone in the Dark   \n",
              "9732                 House of the Dead   \n",
              "9733              Dragonball Evolution   \n",
              "9734  Box Office 3D - Il film dei film   \n",
              "9735        Birdemic: Shock and Terror   \n",
              "\n",
              "                                                 genres  \\\n",
              "0                                        [Drama, Crime]   \n",
              "1                              [Comedy, Drama, Romance]   \n",
              "2                                        [Drama, Crime]   \n",
              "3                                      [Romance, Drama]   \n",
              "4                                 [Drama, History, War]   \n",
              "...                                                 ...   \n",
              "9731                          [Action, Fantasy, Horror]   \n",
              "9732                         [Horror, Action, Thriller]   \n",
              "9733  [Action, Adventure, Fantasy, Science Fiction, ...   \n",
              "9734                                           [Comedy]   \n",
              "9735       [Science Fiction, Horror, Romance, Thriller]   \n",
              "\n",
              "                                            description  \n",
              "0     [frame, 1940, doubl, murder, wife, lover, upst...  \n",
              "1     [raj, rich, carefre, happygolucki, second, gen...  \n",
              "2     [span, year, 1945, 1955, chronicl, fiction, it...  \n",
              "3     [tragic, accid, lead, kaori, blind, cling, lif...  \n",
              "4     [true, stori, businessman, oskar, schindler, s...  \n",
              "...                                                 ...  \n",
              "9731  [edward, carnbi, privat, investig, special, un...  \n",
              "9732  [set, island, coast, techno, rave, parti, attr...  \n",
              "9733  [young, warrior, son, goku, set, quest, race, ...  \n",
              "9734  [italian, parodi, biggest, us, blockbust, glad...  \n",
              "9735  [platoon, eagl, vultur, attack, resid, small, ...  \n",
              "\n",
              "[9736 rows x 3 columns]"
            ]
          },
          "metadata": {},
          "execution_count": 76
        }
      ]
    },
    {
      "cell_type": "code",
      "source": [
        "from sklearn.feature_extraction.text import TfidfVectorizer\n",
        "tfidf = TfidfVectorizer()"
      ],
      "metadata": {
        "id": "hA-kPCfaquhL"
      },
      "execution_count": 77,
      "outputs": []
    },
    {
      "cell_type": "code",
      "source": [
        "TFDF = tfidf.fit_transform(df.description.apply(lambda x: \" \".join(x))).toarray()"
      ],
      "metadata": {
        "id": "MV7rlP5vBXOu"
      },
      "execution_count": 79,
      "outputs": []
    },
    {
      "cell_type": "code",
      "source": [
        "TFDF"
      ],
      "metadata": {
        "colab": {
          "base_uri": "https://localhost:8080/"
        },
        "id": "_Etg-sjwBfgW",
        "outputId": "43bed42f-15ff-4f58-a94e-6247ef72794c"
      },
      "execution_count": 80,
      "outputs": [
        {
          "output_type": "execute_result",
          "data": {
            "text/plain": [
              "array([[0., 0., 0., ..., 0., 0., 0.],\n",
              "       [0., 0., 0., ..., 0., 0., 0.],\n",
              "       [0., 0., 0., ..., 0., 0., 0.],\n",
              "       ...,\n",
              "       [0., 0., 0., ..., 0., 0., 0.],\n",
              "       [0., 0., 0., ..., 0., 0., 0.],\n",
              "       [0., 0., 0., ..., 0., 0., 0.]])"
            ]
          },
          "metadata": {},
          "execution_count": 80
        }
      ]
    },
    {
      "cell_type": "code",
      "source": [
        "print(tfidf.idf_)\n",
        "print(tfidf.get_feature_names_out())"
      ],
      "metadata": {
        "colab": {
          "base_uri": "https://localhost:8080/"
        },
        "id": "lD_TfiSCBsyI",
        "outputId": "56576c7b-3025-4d89-c059-a5e436f09ac4"
      },
      "execution_count": 81,
      "outputs": [
        {
          "output_type": "stream",
          "name": "stdout",
          "text": [
            "[9.08507605 9.08507605 8.23777819 ... 9.49054116 9.49054116 9.49054116]\n",
            "['00' '000' '007' ... 'öztürk' 'ﬁght' 'ﬁrst']\n"
          ]
        }
      ]
    },
    {
      "cell_type": "code",
      "source": [
        "from sklearn.feature_extraction.text import CountVectorizer\n",
        "cv = CountVectorizer()"
      ],
      "metadata": {
        "id": "0udfnJEiBvam"
      },
      "execution_count": 82,
      "outputs": []
    },
    {
      "cell_type": "code",
      "source": [
        "bow = cv.fit_transform(df.description.apply(lambda x: \" \".join(x)))"
      ],
      "metadata": {
        "id": "AS7-G2_uB6-Q"
      },
      "execution_count": 84,
      "outputs": []
    },
    {
      "cell_type": "code",
      "source": [
        "print(cv.vocabulary_)"
      ],
      "metadata": {
        "colab": {
          "base_uri": "https://localhost:8080/"
        },
        "id": "hPTpPerICBis",
        "outputId": "a5798d1d-3353-423f-c4d8-1a02a3c2073e"
      },
      "execution_count": 85,
      "outputs": [
        {
          "output_type": "stream",
          "name": "stdout",
          "text": [
            "{'frame': 7817, '1940': 193, 'doubl': 6016, 'murder': 13615, 'wife': 22102, 'lover': 12079, 'upstand': 21296, 'banker': 1992, 'andi': 1209, 'dufresn': 6209, 'begin': 2236, 'new': 13933, 'life': 11752, 'shawshank': 18076, 'prison': 15835, 'put': 16070, 'account': 626, 'skill': 18426, 'work': 22280, 'amor': 1156, 'warden': 21820, 'long': 11958, 'stretch': 19334, 'come': 4344, 'admir': 709, 'inmat': 10206, 'includ': 10072, 'older': 14404, 'name': 13714, 'red': 16484, 'integr': 10273, 'unquench': 21180, 'sens': 17879, 'hope': 9634, 'raj': 16249, 'rich': 16882, 'carefre': 3491, 'happygolucki': 9070, 'second': 17731, 'gener': 8227, 'nri': 14211, 'simran': 18334, 'daughter': 5220, 'chaudhari': 3829, 'baldev': 1946, 'singh': 18349, 'spite': 18938, 'strict': 19336, 'adher': 698, 'indian': 10112, 'valu': 21394, 'left': 11606, 'india': 10111, 'marri': 12563, 'childhood': 3913, 'fiancé': 7400, 'leav': 11583, 'mission': 13227, 'hand': 9020, 'claim': 4057, 'ladi': 11364, 'love': 12063, 'nose': 14161, 'whole': 22077, 'famili': 7185, 'thu': 20245, 'saga': 17332, 'span': 18847, 'year': 22426, '1945': 199, '1955': 208, 'chronicl': 3988, 'fiction': 7406, 'italianamerican': 10448, 'corleon': 4658, 'crime': 4871, 'organ': 14563, 'patriarch': 14989, 'vito': 21656, 'bare': 2028, 'surviv': 19621, 'attempt': 1693, 'youngest': 22482, 'son': 18735, 'michael': 12999, 'step': 19168, 'take': 19823, 'care': 3483, 'wouldb': 22315, 'killer': 11089, 'launch': 11507, 'campaign': 3390, 'bloodi': 2609, 'reveng': 16822, 'tragic': 20526, 'accid': 611, 'lead': 11560, 'kaori': 10923, 'blind': 2581, 'cling': 4142, 'smaller': 18548, 'pleasur': 15453, 'still': 19213, 'afford': 774, 'meet': 12838, 'rui': 17223, 'talk': 19845, 'promis': 15902, 'kickbox': 11071, 'someth': 18724, 'happen': 9064, 'past': 14966, 'smile': 18571, 'bring': 3010, 'chang': 3769, 'howev': 9724, 'two': 20837, 'connect': 4500, 'one': 14460, 'way': 21891, 'right': 16916, 'true': 20701, 'stori': 19264, 'businessman': 3222, 'oskar': 14604, 'schindler': 17588, 'save': 17512, 'thousand': 20203, 'jewish': 10655, 'live': 11880, 'nazi': 13801, 'slave': 18473, 'factori': 7140, 'world': 22287, 'war': 21816, 'ii': 9928, 'professor': 15874, 'gabriel': 8043, 'emerson': 6562, 'final': 7451, 'learn': 11576, 'truth': 20721, 'julia': 10817, 'mitchel': 13248, 'ident': 9903, 'realiz': 16393, 'moment': 13317, 'late': 11477, 'done': 5961, 'wait': 21766, 'wellrespect': 21984, 'dant': 5165, 'specialist': 18873, 'rememb': 16643, 'want': 21814, 'noth': 14176, 'win': 22148, 'back': 1872, 'heart': 9228, 'find': 7456, 'anoth': 1286, 'arm': 1510, 'continu': 4576, 'young': 22478, 'grow': 8790, 'sicili': 18257, '1910': 165, 'york': 22467, '1950': 203, 'expand': 7010, 'busi': 3217, 'la': 11342, 'vega': 21451, 'hollywood': 9570, 'cuba': 4973, 'rihito': 16925, 'sajo': 17348, 'honor': 9618, 'student': 19376, 'perfect': 15137, 'score': 17642, 'entranc': 6707, 'exam': 6920, 'hikaru': 9456, 'kusakab': 11322, 'band': 1977, 'popular': 15581, 'among': 1154, 'girl': 8404, 'would': 22314, 'never': 13924, 'cross': 4908, 'path': 14983, 'day': 5236, 'start': 19108, 'practic': 15683, 'school': 17605, 'upcom': 21264, 'choru': 3964, 'festiv': 7388, 'regularli': 16569, 'help': 9321, 'improv': 10033, 'sing': 18343, 'listen': 11865, 'other': 14617, 'voic': 21687, 'harmon': 9117, 'beat': 2177, 'togeth': 20376, 'intrigu': 10331, 'sin': 18337, 'explor': 7037, 'seduct': 17755, 'forbidden': 7705, 'redempt': 16489, 'inferno': 10160, 'captiv': 3464, 'wildli': 22121, 'passion': 14960, 'tale': 19838, 'man': 12388, 'escap': 6785, 'person': 15174, 'hell': 9308, 'tri': 20620, 'earn': 6313, 'impossibleforg': 10019, 'part': 14931, 'film': 7444, 'adapt': 684, 'erot': 6768, 'romanc': 17080, 'novel': 14198, 'written': 22349, 'anonym': 1284, 'canadian': 3404, 'author': 1752, 'pen': 15084, 'sylvain': 19737, 'reynard': 16856, 'high': 9413, 'schooler': 17609, 'mitsuha': 13250, 'taki': 19831, 'complet': 4413, 'stranger': 19294, 'separ': 17898, 'night': 14002, 'suddenli': 19459, 'switch': 19710, 'place': 15394, 'wake': 21774, 'bodi': 2670, 'bizarr': 2514, 'occurr': 14305, 'randomli': 16293, 'must': 13651, 'adjust': 703, 'around': 1544, 'chihiro': 3906, 'becom': 2206, 'trap': 20566, 'strang': 19293, 'spirit': 18935, 'parent': 14903, 'undergo': 21009, 'mysteri': 13670, 'transform': 20547, 'call': 3349, 'upon': 21276, 'courag': 4755, 'knew': 11181, 'free': 7860, '8yearold': 507, 'sowon': 18825, 'narrowli': 13753, 'brutal': 3088, 'sexual': 17995, 'assault': 1626, 'labor': 11347, 'heal': 9216, 'cope': 4624, 'rage': 16215, 'grief': 8730, 'unemploy': 21057, 'kitaek': 11150, 'peculiar': 15057, 'interest': 10290, 'wealthi': 21915, 'glamor': 8442, 'park': 14913, 'livelihood': 11885, 'get': 8313, 'entangl': 6689, 'unexpect': 21061, 'incid': 10067, 'aftermath': 793, 'fourth': 7798, 'impact': 9990, 'strand': 19292, 'without': 22204, 'evangelion': 6853, 'shinji': 18142, 'asuka': 1659, 'rei': 16573, 'refug': 16536, 'rare': 16323, 'pocket': 15486, 'human': 9755, 'exist': 6985, 'ruin': 17224, 'planet': 15406, 'earth': 6317, 'far': 7215, 'differ': 5664, 'pilot': 15334, 'danger': 5151, 'loom': 12001, 'horizonon': 9647, 'prove': 15951, 'end': 6626, 'center': 3708, 'relationship': 16606, 'bassist': 2098, 'haruki': 9138, 'nakayama': 13709, 'drummer': 6172, 'akihiko': 885, 'kaji': 10893, 'roommat': 17113, 'exboyfriend': 6928, 'ugetsu': 20884, 'murata': 13614, 'defens': 5379, 'prosecut': 15928, 'rest': 16768, 'juri': 10853, 'file': 7439, 'room': 17112, 'decid': 5324, 'spanishamerican': 18851, 'guilti': 8844, 'innoc': 10217, 'father': 7265, 'open': 14505, 'shut': 18244, 'case': 3567, 'soon': 18754, 'minidrama': 13149, 'juror': 10855, 'prejudic': 15729, 'preconcept': 15710, 'trial': 20622, 'accus': 633, 'supernatur': 19554, 'set': 17949, 'death': 5283, 'row': 17179, 'southern': 18812, 'gentl': 8259, 'giant': 8346, 'john': 10720, 'coffey': 4250, 'possess': 15618, 'power': 15670, 'peopl': 15114, 'ailment': 850, 'cell': 3690, 'block': 2596, 'head': 9201, 'guard': 8817, 'paul': 15008, 'edgecomb': 6367, 'recogn': 16455, 'miracul': 13177, 'gift': 8357, 'desper': 5544, 'stave': 19136, 'condemn': 4456, 'execut': 6952, 'jack': 10478, 'cricket': 4870, 'sli': 18504, 'chicó': 3899, 'poor': 15565, 'guy': 8892, 'hinterland': 9487, 'cheat': 3838, 'bunch': 3162, 'small': 18547, 'northeastern': 14150, 'brazil': 2926, 'die': 5659, 'judg': 10803, 'christ': 3973, 'devil': 5600, 'virgin': 21629, 'mari': 12504, 'admit': 712, 'paradis': 14871, 'batman': 2115, 'rais': 16246, 'stake': 19045, 'lt': 12108, 'jim': 10673, 'gordon': 8582, 'district': 5849, 'attorney': 1704, 'harvey': 9144, 'dent': 5489, 'dismantl': 5794, 'remain': 16634, 'crimin': 4877, 'plagu': 15397, 'street': 19318, 'partnership': 14945, 'effect': 6392, 'prey': 15795, 'reign': 16576, 'chao': 3779, 'unleash': 21136, 'rise': 16954, 'mastermind': 12625, 'known': 11199, 'terrifi': 20071, 'citizen': 4044, 'gotham': 8597, 'joker': 10733, 'burgerlov': 3178, 'hit': 9507, 'philosoph': 15252, 'partner': 14943, 'drugaddl': 6157, 'gangster': 8118, 'moll': 13311, 'washedup': 21856, 'boxer': 2853, 'converg': 4595, 'sprawl': 18969, 'comed': 4346, 'caper': 3448, 'adventur': 745, 'unfurl': 21088, 'three': 20214, 'ingeni': 10181, 'trip': 20656, 'forth': 7753, 'time': 20308, 'aragorn': 1431, 'reveal': 16818, 'heir': 9294, 'ancient': 1199, 'king': 11113, 'gandalf': 8107, 'member': 12884, 'broken': 3042, 'fellowship': 7345, 'struggl': 19366, 'gondor': 8548, 'sauron': 17503, 'forc': 7706, 'meanwhil': 12801, 'frodo': 7937, 'sam': 17396, 'ring': 16933, 'closer': 4158, 'mordor': 13420, 'dark': 5182, 'lord': 12016, 'realm': 16396, 'civil': 4051, 'union': 21120, 'confederaci': 4467, 'men': 12892, 'quiet': 16135, 'loner': 11954, 'ruthless': 17264, 'mexican': 12981, 'bandit': 1981, 'comb': 4340, 'american': 1121, 'southwest': 18815, 'search': 17718, 'strongbox': 19356, 'contain': 4559, '200000': 268, 'stolen': 19245, 'gold': 8529, 'low': 12086, 'iq': 10376, 'accomplish': 621, 'great': 8682, 'thing': 20167, 'present': 15757, 'signific': 18292, 'histor': 9502, 'eventsin': 6862, 'exceed': 6932, 'anyon': 1358, 'imagin': 9969, 'could': 4723, 'despit': 5549, 'achiev': 641, 'elud': 6523, 'filmmak': 7445, 'recal': 16430, 'fell': 7343, 'movi': 13531, 'villag': 21595, 'theater': 20124, 'form': 7740, 'deep': 5356, 'friendship': 7923, 'projectionist': 15893, 'superstit': 19569, 'magic': 12280, 'wolv': 22230, 'seen': 17766, 'demon': 5465, 'natur': 13783, 'evil': 6900, 'tame': 19855, 'apprentic': 1411, 'hunter': 9804, 'ireland': 10389, 'wipe': 22175, 'last': 11473, 'pack': 14773, 'wild': 22114, 'nativ': 13778, 'discov': 5761, 'wolfwalk': 22228, 'task': 19906, 'destroy': 5558, 'samurai': 17411, 'answer': 1289, 'request': 16732, 'protect': 15939, 'fall': 7171, 'hard': 9077, 'town': 20499, 'need': 13843, 'gather': 8164, 'six': 18384, 'teach': 19939, 'defend': 5377, 'provid': 15956, 'soldier': 18693, 'food': 7685, 'touch': 20477, 'italian': 10447, 'book': 2742, 'seller': 17846, 'ancestri': 1194, 'littl': 11876, 'fairi': 7157, 'creativ': 4843, 'happi': 9066, 'abrupt': 582, 'halt': 8999, 'entir': 6701, 'deport': 5504, 'concentr': 4441, 'camp': 3389, 'lock': 11916, 'convinc': 4600, 'game': 8099, 'henri': 9341, 'hill': 9463, 'halfirish': 8968, 'halfsicilian': 8971, 'brooklyn': 3058, 'kid': 11072, 'adopt': 720, 'neighbourhood': 13858, 'earli': 6308, 'age': 804, 'climb': 4139, 'rank': 16300, 'mafia': 12272, 'guidanc': 8835, 'jimmi': 10677, 'conway': 4604, 'hot': 9686, 'summer': 19492, 'lost': 12032, 'enchant': 6613, 'forest': 7722, 'mountain': 13514, 'god': 8500, 'resid': 16750, 'boy': 2857, 'appear': 1393, 'can': 3402, 'not': 14169, 'fear': 7305, 'make': 12326, 'disappear': 5732, 'wondrou': 22245, 'await': 1800, 'former': 7743, 'prohibitionera': 15889, 'return': 16808, 'lower': 12090, 'east': 6329, 'side': 18265, 'manhattan': 12416, 'thirti': 20179, 'later': 11481, 'confront': 4486, 'ghost': 8328, 'regret': 16563, 'old': 14402, 'fujisawa': 7976, 'sakuta': 17355, 'azusagawa': 1840, 'bliss': 2586, 'girlfriend': 8405, 'upperclassman': 21279, 'mai': 12300, 'sakurajima': 17354, 'interrupt': 10313, 'first': 7497, 'crush': 4951, 'shoko': 18177, 'makinohara': 12335, 'larcen': 11448, 'real': 16386, 'estat': 6810, 'clerk': 4122, 'marion': 12524, 'crane': 4817, 'goe': 8516, 'lam': 11387, 'wad': 21752, 'cash': 3572, 'notori': 14181, 'bate': 2107, 'motel': 13480, 'manag': 12391, 'norman': 14140, 'housebound': 9707, 'mother': 13482, 'tell': 20003, 'ariel': 1488, '21yearold': 327, 'rock': 17027, 'compet': 4403, 'prize': 15844, 'ten': 20022, 'dollar': 5930, 'music': 13642, 'contest': 4569, 'option': 14535, 'money': 13331, 'reunit': 16814, 'exgirlfriend': 6969, 'break': 2935, 'due': 6204, 'finland': 7468, 'internship': 10305, 'friend': 7917, 'ortega': 14586, 'cast': 3589, 'although': 1062, 'know': 11194, 'divers': 5863, 'opposit': 14524, 'month': 13379, '14yearold': 72, 'seita': 17782, 'sister': 18372, 'setsuko': 17952, 'orphan': 14582, 'kill': 11087, 'air': 856, 'raid': 16227, 'kobe': 11203, 'japan': 10542, 'aunt': 1732, 'move': 13528, 'abandon': 541, 'bomb': 2703, 'shelter': 18103, 'rel': 16602, 'emerg': 6560, 'ration': 16344, 'deplet': 5501, 'genndi': 8251, 'tartakovski': 19902, 'primal': 15809, 'savageri': 17507, 'featur': 7315, 'caveman': 3655, 'dinosaur': 5708, 'brink': 3011, 'extinct': 7074, 'bond': 2714, 'tragedi': 20525, 'unlik': 21139, 'shouya': 18209, 'ishida': 10427, 'bulli': 3150, 'class': 4082, 'shouko': 18205, 'nishimiya': 14053, 'deaf': 5269, 'teas': 19953, 'turn': 20780, 'lack': 11355, 'compass': 4397, 'elementari': 6469, 'speak': 18867, 'wiser': 22187, 'torment': 20444, 'behaviour': 2245, 'see': 17757, 'aton': 1681, 'alreadi': 1054, 'serv': 17941, 'insan': 10228, 'state': 19116, 'mental': 12902, 'hospit': 9679, 'implac': 10008, 'rabblerous': 16166, 'randl': 16290, 'patrick': 14993, 'mcmurphi': 12772, 'inspir': 10249, 'fellow': 7344, 'patient': 14988, 'rebel': 16418, 'authoritarian': 1753, 'rule': 17228, 'nurs': 14234, 'mildr': 13084, 'ratch': 16335, 'tickingtimebomb': 20277, 'insomniac': 10246, 'slipperi': 18519, 'soap': 18650, 'salesman': 17366, 'channel': 3773, 'male': 12352, 'aggress': 815, 'shock': 18166, 'therapi': 20141, 'concept': 4443, 'catch': 3616, 'underground': 21013, 'fight': 7432, 'club': 4174, 'everi': 6877, 'eccentr': 6346, 'ignit': 9923, 'outofcontrol': 14660, 'spiral': 18934, 'toward': 20496, 'oblivion': 14279, 'downonhisluck': 6044, 'veteran': 21529, 'tsugumo': 20729, 'hanshirō': 9057, 'enter': 6692, 'courtyard': 4771, 'prosper': 15933, 'hous': 9706, 'iyi': 10470, 'commit': 4379, 'seppukuand': 17904, 'worthi': 22311, 'deliv': 5426, 'coup': 4751, 'de': 5252, 'grâce': 8809, 'suicid': 19469, 'ritual': 16966, 'senior': 17876, 'counselor': 4729, 'clan': 4065, 'question': 16124, 'ronin': 17105, 'resolv': 16758, 'suspect': 19631, 'seek': 17761, 'chariti': 3801, 'rather': 16340, 'follow': 7680, 'pair': 14800, 'interlock': 10297, 'lay': 11546, 'respect': 16763, 'examin': 6922, 'legendari': 11618, 'foundat': 7781, 'code': 4237, 'buscapé': 3207, 'violent': 21620, 'environ': 6720, 'feel': 7328, 'odd': 14327, 'eye': 7098, 'mile': 13085, 'moral': 13413, 'juggl': 10811, 'spiderman': 18913, 'wilson': 22145, 'kingpin': 11116, 'fisk': 7519, 'use': 21317, 'super': 19526, 'collid': 4300, 'across': 660, 'spidervers': 18914, 'transport': 20560, 'dimens': 5691, 'crimson': 4879, 'megumin': 12851, 'yunyun': 22511, 'origin': 14571, 'even': 6860, 'attack': 1690, 'easili': 6328, 'brush': 3084, 'suprem': 19590, 'masteri': 12623, 'advanc': 742, 'overpow': 14720, 'receiv': 16433, 'seemingli': 17764, 'seriou': 17931, 'letter': 11698, 'regard': 16544, 'potenti': 15650, 'disast': 5739, 'hometown': 9594, 'immedi': 9981, 'inform': 10175, 'kazuma': 10986, 'satou': 17494, 'parti': 14934, 'seri': 17928, 'wacki': 21751, 'misunderstand': 13244, 'mere': 12922, 'prank': 15690, 'worri': 22303, 'gang': 8110, 'sightse': 18286, 'wonder': 22242, 'birthplac': 2498, 'nonsens': 14118, 'threat': 20210, 'might': 13058, 'joke': 10732, 'sophi': 18760, 'shi': 18119, 'woman': 22233, 'curs': 5025, 'witch': 22193, 'chanc': 3765, 'spell': 18896, 'lie': 11744, 'selfindulg': 17822, 'yet': 22439, 'insecur': 10233, 'wizard': 22214, 'companion': 4392, 'leg': 11611, 'walk': 21785, 'castl': 3595, '1a': 260, 'visit': 21646, 'nabu': 13693, 'island': 10434, 'hero': 9370, 'peac': 15036, 'like': 11796, 'vacat': 21353, 'theyr': 20156, 'villain': 21598, 'unfathom': 21071, 'quirk': 16148, 'eerili': 6390, 'familiar': 7187, 'look': 11998, 'shigaraki': 18127, 'plan': 15403, 'retir': 16796, 'line': 11834, 'there': 20143, 'deku': 5408, 'next': 13967, 'theatric': 20126, 'releas': 16612, 'followup': 7681, 'neon': 13870, 'genesi': 8232, 'compris': 4423, 'altern': 1061, 'episod': 6735, 'intend': 10278, '25': 347, '26': 357, 'mani': 12420, 'surround': 19617, 'also': 1055, 'possibl': 15620, 'found': 7780, 'alexand': 946, 'hamilton': 9004, 'version': 21514, 'broadway': 3034, 'smash': 18562, 'america': 1120, 'told': 20389, 'epic': 6729, 'luke': 12149, 'skywalk': 18452, 'defeat': 5372, 'galact': 8066, 'empir': 6590, 'jedi': 10592, 'master': 12621, 'yoda': 22449, 'darth': 5203, 'vader': 21358, 'determin': 5574, 'ever': 6864, 'captur': 3466, 'leader': 11561, 'princess': 15821, 'leia': 11629, 'cocki': 4222, 'han': 9015, 'solo': 18707, 'chewbacca': 3888, 'droid': 6140, 'c3po': 3274, 'r2d2': 16158, 'thrown': 20243, 'variou': 21430, 'stage': 19039, 'betray': 2386, 'despair': 5543, 'hack': 8916, 'screenwrit': 17671, 'write': 22346, 'screenplay': 17670, 'silent': 18300, 'star': 19085, 'fade': 7143, 'obscur': 14284, 'tanjirō': 19872, 'kamado': 10902, 'join': 10727, 'inosuk': 10223, 'hashibira': 9147, 'boar': 2650, 'wear': 21920, 'zenitsu': 22560, 'agatsuma': 803, 'scare': 17560, 'sleep': 18488, 'board': 2651, 'infin': 10167, 'train': 20532, 'fire': 7481, 'hashira': 9148, 'kyōjurō': 11339, 'rengoku': 16677, 'slayer': 18481, 'oppos': 14523, 'teenag': 19976, 'assail': 1621, 'pressur': 15769, 'pianist': 15281, 'władysław': 22375, 'szpilman': 19763, 'experi': 7024, 'warsaw': 21846, 'occup': 14301, 'jew': 10649, 'citi': 4043, 'ghetto': 8326, 'play': 15431, 'café': 3310, '1942': 196, 'stay': 19137, 'behind': 2248, 'eventu': 6863, 'hide': 9407, 'wartorn': 21851, 'hobbit': 9534, 'baggin': 1918, 'inherit': 10189, 'uncl': 20976, 'bilbo': 2450, 'home': 9578, 'order': 14555, 'keep': 10997, 'creator': 4844, 'along': 1041, 'ringbear': 16934, 'sure': 19594, 'arriv': 1553, 'destin': 5554, 'mt': 13545, 'doom': 5975, 'suzu': 19650, '17yearold': 115, 'highschool': 9444, 'rural': 17244, 'wound': 22317, 'loss': 12031, 'massiv': 12618, 'onlin': 14493, 'dive': 5859, 'realiti': 16390, 'avatar': 1780, 'bell': 2277, 'us': 21315, 'fix': 7539, 'dragonlik': 6076, 'figur': 7437, 'direct': 5717, 'instructor': 10263, 'talent': 19839, 'pursu': 16058, 'cost': 4708, 'derek': 5520, 'vineyard': 21611, 'parol': 14924, 'africanamerican': 788, 'brother': 3063, 'danni': 5163, 'narrat': 13751, 'go': 8491, 'skinhead': 18429, 'white': 22062, 'supremacist': 19592, 'act': 661, 'racial': 16179, 'throughout': 20241, 'action': 662, 'greatli': 8688, 'influenc': 10172, 'reform': 16531, 'fresh': 7900, 'sever': 17972, 'contact': 4557, 'decim': 5326, 'intergalact': 10293, 'tyrant': 20863, 'darkseid': 5190, 'devast': 5588, 'justic': 10858, 'leagu': 11567, 'poorli': 15567, 'dc': 5250, 'bastion': 2104, 'good': 8556, 'teen': 19975, 'titan': 20351, 'squad': 19000, 'assort': 1638, 'regroup': 16565, 'strateg': 19306, 'inhabit': 10188, 'musician': 13643, 'zach': 22523, 'sobiech': 18656, 'cancer': 3407, 'spread': 18971, 'limit': 11817, 'dream': 6096, 'album': 918, 'unawar': 20955, 'viral': 21627, 'phenomenon': 15233, 'galaxi': 8070, 'steven': 19194, 'univers': 21126, 'haunt': 9167, 'derang': 5518, 'gem': 8215, 'group': 8786, 'newli': 13945, 'wormhol': 22302, 'surpass': 19607, 'space': 18830, 'travel': 20579, 'conquer': 4511, 'vast': 21436, 'distanc': 5833, 'involv': 10362, 'interstellar': 10316, 'voyag': 21725, 'trek': 20603, 'gimli': 8380, 'legola': 11627, 'orccaptur': 14550, 'merri': 12934, 'pippin': 15364, 'nefari': 13849, 'saruman': 17477, 'orthanc': 14587, 'tower': 20497, 'isengard': 10424, 'kanji': 10916, 'watanab': 21865, 'middleag': 13033, 'monoton': 13355, 'bureaucrat': 3174, 'posit': 15616, 'decad': 5311, 'mean': 12793, 'dictat': 5652, 'adenoid': 695, 'hynkel': 9846, 'barber': 2019, 'avoid': 1795, 'persecut': 15167, 'regim': 16554, 'soundera': 18799, 'tramp': 20540, 'beauti': 2190, 'flower': 7638, 'wheelchairbound': 22033, 'photograph': 15267, 'spi': 18908, 'neighbor': 13855, 'apart': 1366, 'window': 22154, 'cobb': 4208, 'thief': 20161, 'corpor': 4673, 'espionag': 6801, 'infiltr': 10166, 'subconsci': 19408, 'target': 19898, 'offer': 14354, 'regain': 16541, 'payment': 15028, 'consid': 4526, 'imposs': 10018, 'incept': 10064, 'implant': 10009, 'idea': 9900, 'ashitaka': 1597, 'princ': 15820, 'emishi': 6572, 'journey': 10779, 'west': 22004, 'cure': 5010, 'encount': 6621, 'san': 17413, 'eboshi': 6344, 'balanc': 1939, 'conflict': 4480, 'invas': 10343, 'byelorussia': 3260, 'german': 8295, 'send': 17872, 'florya': 7632, 'weari': 21922, 'resist': 16756, 'fighter': 7433, 'wish': 22188, 'glasha': 8449, 'accompani': 619, 'peasant': 15050, 'massacr': 12612, 'amidst': 1136, 'debri': 5303, 'increasingli': 10090, 'nightmarish': 14011, 'battl': 2123, 'homicid': 9599, 'detect': 5569, 'hunt': 9803, 'serial': 17929, 'whose': 22085, 'base': 2079, 'seven': 17959, 'deadli': 5260, 'viewer': 21579, 'tortur': 20461, 'victim': 21557, 'season': 17720, 'det': 5562, 'sommerset': 18732, 'research': 16742, 'effort': 6396, 'insid': 10239, 'mind': 13127, 'novic': 14203, 'mill': 13101, 'scoff': 17631, 'unravel': 21181, 'shoe': 18172, 'compani': 4391, 'extort': 7075, 'chauffeur': 3830, 'kidnap': 11076, 'held': 9303, 'ransom': 16303, 'seventeenyearold': 17966, 'stella': 19165, 'spend': 18900, 'cystic': 5072, 'fibrosi': 7404, 'full': 7980, 'routin': 17177, 'boundari': 2822, 'selfcontrol': 17802, 'test': 20085, 'charm': 3808, 'ill': 9939, 'instant': 10252, 'flirtat': 7612, 'though': 20200, 'restrict': 16778, 'maintain': 12313, 'safe': 17322, 'intensifi': 10280, 'temptat': 20020, 'throw': 20242, 'embrac': 6555, 'attract': 1705, '17': 106, 'give': 8425, 'modern': 13282, 'industri': 10137, 'societi': 18668, 'homeless': 9583, 'claric': 4075, 'starl': 19100, 'top': 20426, 'fbi': 7301, 'academi': 602, 'crawford': 4829, 'interview': 10320, 'dr': 6062, 'hannib': 9050, 'lecter': 11591, 'brilliant': 3005, 'psychiatrist': 15978, 'psychopath': 15988, 'bar': 2010, 'cannib': 3425, 'believ': 2271, 'may': 12699, 'insight': 10241, 'bait': 1932, 'draw': 6090, 'ordinari': 14558, 'deliveryman': 5429, 'motor': 13496, 'race': 16171, 'fan': 7200, 'nezha': 13971, 'nemes': 13865, 'rediscov': 16495, 'coupl': 4753, 'youtub': 22491, 'video': 21564, 'children': 3917, 'award': 1804, 'stand': 19068, 'success': 19449, 'maquia': 12470, 'special': 18872, 'iorph': 10369, 'hundr': 9790, 'alway': 1076, 'felt': 7350, 'lone': 11952, 'daydream': 5240, 'outsid': 14673, 'dare': 5175, 'warn': 21836, 'chief': 3901, 'kingdom': 11114, 'mezart': 12986, 'invad': 10340, 'homeland': 9582, 'dragon': 6074, 'renato': 16664, 'control': 4587, 'add': 685, 'immort': 9987, 'bloodlin': 2611, 'ravag': 16355, 'caught': 3638, 'midst': 13048, 'carri': 3541, 'desert': 5533, 'truli': 20710, 'alon': 1038, 'cri': 4867, 'singl': 18351, 'babi': 1853, 'child': 3909, 'much': 13548, 'faster': 7251, 'dog': 5909, 'nearhuman': 13824, 'soul': 18789, 'evalu': 6850, 'lesson': 11683, 'owner': 14753, 'racecar': 16172, 'driver': 6137, 'léon': 12202, 'rep': 16694, 'cleaner': 4106, 'nextdoor': 13968, 'loosecannon': 12010, 'dea': 5253, 'agent': 809, 'unwil': 21250, 'custodian': 5035, '12yearold': 52, 'mathilda': 12653, 'thought': 20201, 'footstep': 7700, 'elit': 6495, 'oldfashion': 14406, 'england': 6654, 'english': 6655, 'teacher': 19940, 'convent': 4594, 'seiz': 17784, 'court': 4760, 'disdain': 5769, 'stern': 19190, 'headmast': 9209, 'ensur': 6688, 'superman': 19549, 'ultim': 20902, 'sacrific': 17306, 'vain': 21364, 'bruce': 3076, 'wayn': 21898, 'align': 974, 'diana': 5639, 'recruit': 16478, 'team': 19942, 'metahuman': 12955, 'approach': 1413, 'catastroph': 3614, 'proport': 15923, 'railroad': 16234, 'builder': 3135, 'unstopp': 21220, 'arizona': 1496, 'sea': 17700, 'jill': 10670, 'flagston': 7548, 'intent': 10281, '2013': 282, 'terribl': 20068, 'awaken': 1802, 'london': 11950, 'nation': 13775, 'galleri': 8078, '1562': 82, 'plot': 15458, 'afoot': 782, 'elizabethan': 6500, 'somewher': 18729, 'reach': 16374, 'conclus': 4452, 'doctor': 5897, 'born': 2787, 'black': 2518, 'hors': 9667, 'round': 17168, 'brought': 3071, 'birtwick': 2500, 'stabl': 19030, 'jo': 10691, 'green': 8695, 'forg': 7727, 'chapter': 3788, 'challeng': 3751, 'partisan': 14940, 'bound': 2821, 'strong': 19354, 'clash': 4080, 'everyday': 6889, 'strain': 19289, 'command': 4366, 'offic': 14356, 'scapegoat': 17554, 'fail': 7149, 'offens': 14353, 'occur': 14304, 'within': 22201, 'french': 7885, 'armi': 1523, '1916': 169, 'eighti': 6422, 'marti': 12576, 'mcfli': 12751, 'accident': 612, 'sent': 17889, 'inadvert': 10043, 'disrupt': 5827, 'romant': 17086, 'repair': 16695, 'damag': 5124, 'histori': 9503, 'rekindl': 16601, 'inventor': 10346, 'doc': 5892, 'brown': 3073, '1985': 241, 'elderli': 6450, 'shukishi': 18241, 'tomi': 20404, 'seasid': 17719, 'adult': 737, 'tokyo': 20386, 'elder': 6449, 'koichi': 11214, 'shige': 18128, 'hairdress': 8943, 'dont': 5970, 'noriko': 14134, 'widow': 22098, 'younger': 22481, 'inlaw': 10204, 'entomologist': 6705, 'suffer': 19461, 'extrem': 7090, 'psycholog': 15986, 'taken': 19826, 'field': 7411, 'ladybug': 11365, 'cat': 3602, 'noir': 14083, 'superhero': 19543, 'akumatis': 890, 'supervillain': 19576, 'unit': 21123, 'virtuoso': 21637, 'piano': 15282, 'player': 15435, 'aboard': 568, 'ocean': 14307, 'liner': 11837, 'ship': 18147, '1900': 160, 'tim': 20304, 'roth': 17155, 'interact': 10284, 'passeng': 14958, 'foot': 7692, 'land': 11404, 'will': 22132, 'recent': 16434, 'unpredict': 21171, 'sometim': 18726, 'viciou': 21552, 'slaughter': 18472, 'stonecold': 19249, 'mercenari': 12915, 'subzero': 19444, 'hanzo': 9060, 'hasashi': 9145, 'exil': 6983, 'netherrealm': 13906, 'exchang': 6939, 'servitud': 17946, 'sinist': 18357, 'quan': 16096, 'chi': 3891, 'he': 9200, 'given': 8427, 'aveng': 1781, 'resurrect': 16786, 'scorpion': 17646, 'bent': 2329, 'earthrealm': 6323, 'raiden': 16228, 'warrior': 21843, 'shaolin': 18048, 'monk': 13344, 'liu': 11879, 'kang': 10913, 'sonya': 18752, 'blade': 2540, 'johnni': 10722, 'cage': 3311, 'shang': 18037, 'tsung': 20733, 'hord': 9643, 'outworld': 14682, 'gladiat': 8434, 'mortal': 13456, 'kombat': 11221, 'tournament': 20492, 'dona': 5953, 'hermínia': 9369, 'reinvent': 16593, 'supermom': 19553, 'deal': 5275, 'scenario': 17573, 'marcelina': 12486, 'pregnant': 15726, 'juliano': 10820, 'jesper': 10631, 'distinguish': 5841, 'postal': 15624, 'worst': 22309, 'smeerensburg': 18567, 'locat': 11914, 'ici': 9894, 'arctic': 1469, 'circl': 4032, 'grumpi': 8804, 'word': 22276, 'let': 11691, 'duti': 6269, 'postman': 15633, 'local': 11912, 'alva': 1072, 'klau': 11164, 'carpent': 3537, 'cabin': 3286, 'handmad': 9028, 'toy': 20507, 'pop': 15568, 'singer': 18345, 'actress': 674, 'shaken': 18021, 'stalk': 19054, 'obsess': 14286, 'height': 9286, 'vietnam': 21576, 'captain': 3463, 'benjamin': 2317, 'willard': 22133, 'offici': 14358, 'goal': 8492, 'elimin': 6485, 'beret': 2339, 'colonel': 4313, 'walter': 21804, 'kurtz': 11319, 'illeg': 9942, 'guerrilla': 8826, 'enemi': 6641, 'territori': 20074, 'intellectu': 10276, 'disabl': 5728, 'jail': 10509, 'classmat': 4089, 'diagnos': 5630, 'pancreat': 14838, 'diseas': 5770, 'averag': 1783, '1930': 182, 'korea': 11235, 'period': 15147, 'japanes': 10543, 'hire': 9496, 'handmaiden': 9029, 'heiress': 9295, 'seclud': 17729, 'larg': 11450, 'countrysid': 4749, 'domin': 5944, 'she': 18079, 'greater': 8684, 'event': 6861, 'mad': 12242, 'thano': 20110, 'alli': 1008, 'assembl': 1629, 'undo': 21048, 'restor': 16774, 'matter': 12665, 'consequ': 4522, 'store': 19262, 'werewolf': 21997, 'unexpectedli': 21062, 'trait': 20536, 'alma': 1029, 'charg': 3795, 'elisabeth': 6494, 'vogler': 21685, 'healthi': 9222, 'constantli': 4539, 'strengthen': 19329, 'peter': 15199, 'parker': 14915, 'unmask': 21148, 'longer': 11968, 'abl': 565, 'normal': 14137, 'highstak': 9449, 'ask': 1608, 'threaten': 20212, 'someon': 18722, 'steal': 19145, 'bicycl': 2419, 'near': 13814, 'gray': 8678, 'unnam': 21153, 'zone': 22606, 'barb': 2013, 'wire': 22176, 'law': 11533, 'physic': 15274, 'frequent': 7897, 'anomali': 1283, 'stalker': 19055, 'guid': 8833, 'specif': 18875, 'area': 1472, 'deepseat': 5364, 'desir': 5538, 'grant': 8658, 'lisa': 11859, 'mcvey': 12784, 'aliv': 980, 'rape': 16309, 'except': 6936, 'abduct': 551, 'horrifi': 9661, 'handl': 9026, 'cosmic': 4703, 'shadow': 18010, 'despot': 5551, 'infami': 10151, 'collect': 4292, 'stone': 19247, 'artifact': 1571, 'unimagin': 21107, 'inflict': 10171, 'twist': 20833, 'everyth': 6892, 'fought': 7777, 'led': 11593, 'fate': 7264, 'uncertain': 20968, 'roberto': 17006, 'rome': 17091, 'bruno': 3083, 'fortyyearold': 7767, 'exuber': 7094, 'caprici': 3459, 'drive': 6134, 'roman': 17078, 'tuscani': 20788, 'countri': 4743, 'blend': 2573, 'daili': 5107, 'newfound': 13943, 'clue': 4178, 'came': 3373, 'imprison': 10030, 'drug': 6155, '15': 73, 'captor': 3465, 'isabella': 10421, 'nobl': 14068, 'enrol': 6680, 'allgirl': 1007, 'groom': 8770, 'dame': 5126, 'nobil': 14066, 'futur': 8028, 'prestigi': 15770, 'notic': 14178, 'violet': 21621, 'evergarden': 6873, 'tutor': 20792, 'guis': 8848, 'treat': 20596, 'coldli': 4280, 'seem': 17763, 'perfectli': 15138, 'assum': 1639, 'silver': 18308, 'spoon': 18959, 'belov': 2289, 'yearn': 22429, 'experienc': 7025, 'clientel': 4132, 'taylor': 19932, 'convey': 4598, 'longlost': 11982, 'met': 12954, 'quadripleg': 16086, 'aristocrat': 1494, 'injur': 10198, 'paraglid': 14874, 'project': 15892, 'povertystricken': 15666, 'slum': 18540, '16yearold': 104, 'starr': 19103, 'attend': 1694, 'suburban': 19437, 'prep': 15743, 'wit': 22192, 'polic': 15521, 'shoot': 18178, 'unarm': 20944, 'best': 2372, 'torn': 20448, 'lion': 11848, 'pride': 15803, 'cruel': 4939, 'iron': 10399, 'paw': 15019, 'beyond': 2400, 'savannah': 17510, 'philosophi': 15253, 'outcast': 14637, 'face': 7125, 'holiday': 9561, 'favourit': 7295, 'georg': 8275, 'bailey': 1928, 'spent': 18903, 'bedford': 2211, 'prevent': 15789, 'skinflint': 18428, 'mr': 13543, 'potter': 15660, 'modest': 13285, 'build': 3134, 'loan': 11906, 'christma': 3981, 'eve': 6857, 'businesss': 3225, '8000': 496, 'troubl': 20685, 'itali': 10445, 'heinou': 9292, 'expos': 7044, 'evid': 6898, 'incrimin': 10094, 'circumv': 4038, 'social': 18661, 'afterlif': 792, 'guardian': 8818, 'colleagu': 4290, 'mediev': 12824, 'compassion': 4398, 'governor': 8610, 'amid': 1134, 'oppress': 14526, 'guido': 8836, 'anselmi': 1288, 'director': 5721, 'barren': 2057, 'peak': 15044, 'career': 3485, 'urg': 21307, 'luxuri': 12183, 'resort': 16760, 'sorri': 18782, 'gathershi': 8165, 'produc': 15868, 'staff': 19036, 'actor': 673, 'mistress': 13242, 'relativeseach': 16607, 'beg': 2231, 'show': 18212, 'retreat': 16803, 'depend': 5499, 'fantas': 7206, 'women': 22238, 'leonard': 11660, 'vole': 21700, 'arrest': 1550, 'sensat': 17880, 'famou': 7198, 'sir': 18366, 'wilfrid': 22126, 'robart': 16997, 'agre': 829, 'behalf': 2242, 'recov': 16474, 'nearfat': 13822, 'suppos': 19587, 'diet': 5662, 'bland': 2552, 'suitsbut': 19476, 'lure': 12171, 'especi': 6797, 'difficult': 5665, 'toni': 20415, 'lip': 11853, 'bouncer': 2819, '1962': 215, 'shirley': 18153, 'tour': 20488, 'south': 18809, 'african': 787, 'accommod': 618, 'servic': 17944, 'segreg': 17773, 'masondixon': 12607, 'reli': 16618, 'negro': 13854, 'motorist': 13504, 'four': 7787, 'hatch': 9156, 'liter': 11869, 'dig': 5667, 'claud': 4094, 'gaspard': 8157, 'risk': 16958, 'share': 18052, 'newcom': 13939, 'cours': 4758, 'concret': 4454, 'floor': 7620, 'bed': 2208, 'post': 15623, 'sewer': 17977, 'system': 19760, 'anyth': 1359, 'assur': 1643, 'isol': 10438, 'brittani': 3025, 'eighteenth': 6419, 'centuri': 3714, 'femal': 7351, 'painter': 14799, 'oblig': 14276, 'paint': 14797, 'wed': 21934, 'portrait': 15607, 'bird': 2486, 'process': 15859, 'traumat': 20576, 'overcom': 14694, 'bud': 3115, 'baxter': 2142, 'minor': 13163, 'huge': 9748, 'insur': 10269, 'quick': 16127, 'ladder': 11362, 'lend': 11645, 'often': 14371, 'major': 12321, 'problem': 15852, 'solv': 18713, 'newborn': 13936, 'ach': 638, 'baffl': 1914, 'generationsold': 8230, 'ban': 1974, 'miguel': 13067, 'idol': 9916, 'ernesto': 6763, 'cruz': 4955, 'stun': 19386, 'color': 4319, 'dead': 5255, 'chain': 3744, 'trickster': 20641, 'hector': 9265, 'extraordinari': 7083, 'unlock': 21142, '1980': 235, 'elio': 6489, 'assist': 1635, 'nearfutur': 13823, 'britain': 3016, 'delarg': 5412, 'pal': 14807, 'kick': 11069, 'pleas': 15449, 'alex': 944, 'swoon': 19717, 'beethoven': 2223, 'eager': 6300, 'crack': 4805, 'juvenil': 10863, 'incarcer': 10059, 'procedur': 15857, 'thatll': 20118, 'rob': 16995, 'agenc': 806, 'conscienc': 4514, 'commod': 4382, 'tune': 20762, 'torranc': 20454, 'accept': 608, 'caretak': 3497, 'job': 10698, 'overlook': 14715, 'hotel': 9689, 'wendi': 21992, 'winter': 22172, 'arent': 1475, 'prepar': 15744, 'lurk': 12173, 'disillus': 5786, 'swedish': 19678, 'knight': 11185, 'antoniu': 1348, 'crusad': 4950, 'grip': 8754, 'chess': 3877, 'match': 12635, 'belief': 2270, 'jof': 10712, 'mia': 12993, 'evad': 6849, 'enough': 6673, 'zain': 22527, 'scrambl': 17659, 'beirut': 2256, 'sue': 19460, 'unjust': 21128, 'refuge': 16537, 'document': 5898, 'deni': 5477, 'mileston': 13087, 'courtesan': 4763, 'vote': 21722, '1990': 246, 'hutch': 9831, 'mansel': 12447, 'dad': 5089, 'husband': 9817, 'nobodi': 14073, 'thiev': 20164, 'unknown': 21134, 'longsimm': 11992, 'propel': 15914, 'uncov': 20991, 'secret': 17742, 'nazioccupi': 13803, 'franc': 7820, 'jewishamerican': 10656, 'basterd': 2101, 'chosen': 3966, 'third': 20171, 'reich': 16574, 'scalp': 17542, 'aldo': 929, 'rain': 16238, 'frenchjewish': 7887, 'run': 17236, 'pari': 14909, 'francisco': 7827, 'acrophobia': 659, 'investig': 10350, 'activ': 671, 'hostag': 9681, 'imperi': 10002, 'venturesom': 21480, 'dash': 5209, 'loveabl': 12064, 'robot': 17015, 'duo': 6243, 'rescu': 16739, 'interrog': 10312, 'verbal': 21486, 'kint': 11132, 'fed': 7318, 'mythic': 13677, 'keyser': 11057, 'soze': 18827, 'respons': 16766, 'multimillion': 13583, 'heist': 9299, 'explos': 7038, 'pedro': 15064, 'harbor': 9075, 'survivor': 19623, 'incred': 10092, 'almost': 1034, 'prowess': 15963, 'joe': 10707, 'gardner': 8130, 'middl': 13032, 'jazz': 10567, 'audit': 1719, 'half': 8955, 'note': 14173, 'seminar': 17860, 'develop': 5593, 'gain': 8061, 'enlist': 6668, 'soulsintrain': 18796, '22': 328, 'eon': 6727, 'untold': 21236, '1925': 178, 'treacher': 20588, 'terrain': 20062, 'alaskan': 907, 'tundra': 20761, 'exhilar': 6976, 'uplift': 21273, 'strength': 19328, 'leonhard': 11662, 'seppala': 17903, 'sled': 18486, 'togo': 20379, 'shelbi': 18096, 'track': 20515, 'difficulti': 5666, 'compound': 4421, 'fact': 7137, 'untreat': 21241, 'shortterm': 18198, 'memori': 12890, 'detail': 5564, 'fifteen': 7423, 'minut': 13170, 'ago': 823, 'sinc': 18339, 'hidden': 9404, 'toothless': 20425, 'doesnt': 5908, 'berk': 2347, 'anymor': 1357, 'hiccup': 9398, 'tradit': 20522, 'vike': 21588, 'forget': 7730, 'astrid': 1650, 'gobber': 8495, '180': 117, 'emperor': 6589, 'marcu': 12493, 'aureliu': 1737, 'maximu': 12695, 'capabl': 3444, 'trust': 20718, 'key': 11054, 'advisor': 757, 'deviou': 5604, 'commodu': 4384, 'ascend': 1584, 'throne': 20238, 'trader': 20521, 'renam': 16661, 'spaniard': 18848, 'amus': 1167, 'pay': 15023, 'audienc': 1718, 'august': 1727, 'pullman': 16020, 'facial': 7134, 'fifth': 7426, 'grade': 8623, 'mainstream': 12312, 'magician': 12281, 'intens': 10279, 'rivalri': 16970, 'lifelong': 11770, 'supremaci': 19591, 'deceit': 5318, 'jealousi': 10574, 'troop': 20679, 'storm': 19266, 'beach': 2161, 'normandi': 14141, 'battlefield': 2124, 'ranger': 16295, 'miller': 13106, 'penetr': 15095, 'germanheld': 8298, 'refus': 16539, 'circumst': 4037, 'doubt': 6021, 'fabric': 7121, 'florenc': 7624, 'idl': 9912, 'zingar': 22588, 'gypsi': 8904, 'shenanigan': 18106, 'prolong': 15898, 'meagr': 12791, 'rival': 16969, 'pocketwatch': 15488, 'istanbul': 10442, 'ail': 849, 'wast': 21862, 'warehous': 21823, 'worker': 22282, 'mehmet': 12852, 'wing': 22160, 'soldierturnedu': 18695, 'marshal': 12571, 'teddi': 19972, 'daniel': 5157, 'compromis': 4424, 'vision': 21644, '1970': 225, 'punk': 16035, 'revolut': 16842, 'grifter': 8737, 'estella': 6813, 'design': 5537, 'befriend': 2230, 'appreci': 1408, 'appetit': 1396, 'mischief': 13197, 'flair': 7549, 'fashion': 7247, 'baro': 2050, 'von': 21714, 'hellman': 9315, 'legend': 11616, 'devastatingli': 5589, 'chic': 3893, 'terrifyingli': 20072, 'haut': 9170, 'motion': 13493, 'revel': 16819, 'caus': 3643, 'wick': 22090, 'raucou': 16351, 'revengeb': 16823, 'cruella': 4941, 'johan': 10715, 'mariann': 12509, 'façad': 7300, 'rockier': 17035, 'affair': 767, 'spous': 18967, 'divorc': 5870, 'reconcil': 16462, 'issu': 10441, 'hinder': 9480, 'futurist': 8030, 'sharpli': 18067, 'divid': 5867, 'planner': 15412, 'prophet': 15922, 'predict': 15719, 'savior': 17519, 'mediat': 12821, 'unstabl': 21219, 'nighttim': 14013, 'taxi': 19930, 'perceiv': 15127, 'sleaz': 18484, 'feed': 7327, 'preadolesc': 15697, 'prostitut': 15934, 'inc': 10055, 'tail': 19807, 'object': 14274, 'nowher': 14208, 'kansa': 10919, 'eustic': 6846, 'muriel': 13623, 'contend': 4565, 'cicada': 4009, 'monster': 13360, 'yu': 22495, 'yoko': 22456, 'upskirt': 21294, 'offshoot': 14364, 'porn': 15587, 'woo': 22251, 'complic': 4416, 'spot': 18963, 'crossdress': 4914, 'lesbian': 11678, 'dallianc': 5120, 'kungfu': 11309, 'constant': 4537, 'guilt': 8843, 'that': 20113, 'legaci': 11612, 'cathol': 3631, 'upbring': 21263, 'nearli': 13826, '1966': 220, '2003': 272, 'middleclass': 13034, 'expans': 7011, 'russian': 17252, 'drama': 6083, 'focus': 7665, 'rever': 16828, 'religi': 16625, 'icon': 9895, 'andrei': 1214, 'rublev': 17207, 'drift': 6124, 'tumultu': 20759, 'era': 6748, 'peaceseek': 15041, 'reput': 16730, 'art': 1560, 'unintent': 21115, 'vow': 21724, 'silenc': 18299, 'away': 1807, 'eas': 6324, '22nd': 331, 'matrix': 12660, 'comput': 4427, 'hacker': 8917, 'insurg': 10270, 'wwii': 22366, 'medic': 12822, 'desmond': 5541, 'doss': 6011, 'okinawa': 14393, 'conscienti': 4515, 'objector': 14275, 'congression': 4493, 'medal': 12810, 'glimps': 8460, 'door': 5978, 'harrington': 9129, 'rein': 16580, 'margo': 12501, 'chan': 3764, 'maneuv': 12410, 'role': 17067, 'turmoil': 20779, 'boyfriend': 2862, 'playwright': 15445, 'cynic': 5065, 'critic': 4887, 'audac': 1716, 'pattern': 15002, 'standup': 19074, 'comedian': 4348, 'driven': 6136, 'infam': 10150, 'aibileen': 844, 'clark': 4079, 'maid': 12301, 'minni': 13162, 'jackson': 10487, 'offend': 14352, 'employ': 6592, 'eugenia': 6836, 'skeeter': 18412, 'phelan': 15228, 'graduat': 8629, 'colleg': 4295, 'intertwin': 10317, 'explain': 7031, 'mississippi': 13230, 'revolv': 16846, 'kept': 11035, 'certain': 3726, 'wrong': 22350, 'lovingli': 12085, 'ador': 721, 'card': 3478, 'shark': 18056, 'unwillinglyenlist': 21253, 'lot': 12034, 'lose': 12029, 'sketchi': 18419, 'poker': 15508, 'pull': 16019, 'smalltim': 18553, 'oper': 14509, 'flat': 7568, 'buster': 3231, 'sight': 18283, 'debut': 5308, 'crystal': 4964, 'redshor': 16504, 'sneak': 18612, 'entertain': 6694, 'wolf': 22223, 'mogul': 13293, 'pitch': 15375, 'ridicul': 16905, 'clay': 4103, 'calloway': 3359, 'embark': 6542, 'quest': 16123, 'nowisol': 14209, 'persuad': 15181, '1927': 180, 'product': 15869, 'transit': 20552, 'sound': 18798, 'journalist': 10778, 'manabouttown': 12390, 'marcello': 12488, 'allur': 1027, 'scene': 17574, 'stifl': 19209, 'domest': 5942, 'writer': 22347, 'nameless': 13717, 'feudal': 7394, 'businessmen': 3223, 'gambl': 8096, 'trade': 20519, 'sanjuro': 17439, 'kuwabatak': 11324, 'silk': 18302, 'merchant': 12917, 'tazaemon': 19933, 'sake': 17351, 'tokuemon': 20384, 'bodyguard': 2672, 'fullscal': 7988, 'ambiti': 1109, 'unscrupul': 21204, 'brim': 3007, 'incis': 10070, 'rashomon': 16331, 'perhap': 15145, 'finest': 7461, 'camera': 3377, 'flashback': 7565, 'kurosawa': 11315, 'complex': 4414, 'recount': 16473, 'casablanca': 3564, 'morocco': 13443, 'decemb': 5320, '1941': 194, 'expatri': 7016, 'unforeseen': 21080, 'combin': 4342, 'trademark': 20520, 'selfdeprec': 17804, 'humor': 9779, 'bo': 2648, 'burnham': 3193, 'uniqu': 21121, 'hypocrisi': 9863, 'pringl': 15827, 'korean': 11236, 'sergeant': 17924, 'süleyman': 19770, 'stumbl': 19385, 'halffrozen': 8965, 'frantic': 7840, 'verg': 21493, 'smuggl': 18591, 'harm': 9114, 'unabl': 20933, 'commun': 4388, 'ayla': 1826, 'reminisc': 16649, 'moon': 13396, 'instantan': 10253, 'insepar': 10237, 'effortlessli': 6398, 'uncanni': 20964, 'joy': 10782, 'turkish': 20778, 'brigad': 2995, 'close': 4156, 'bear': 2169, 'repeat': 16701, 'failur': 7150, 'orphanag': 14583, 'boston': 2800, 'irish': 10395, 'underworld': 21036, 'syndic': 19752, 'likewis': 11798, 'undercov': 21004, 'cop': 4623, 'curri': 5023, 'favor': 7292, 'mob': 13270, 'mole': 13305, 'assassin': 1624, 'cuban': 4974, 'govern': 8606, 'montana': 13370, 'miami': 12994, 'vicious': 21553, 'biggest': 2436, 'cocain': 4214, 'increas': 10089, 'colombian': 4310, 'cartel': 3553, 'drugfuel': 6160, 'paranoia': 14888, 'fuel': 7968, 'flame': 7554, 'downfal': 6040, 'waiter': 21767, 'pretend': 15777, 'import': 10014, 'upper': 21277, 'entrepreneuri': 6712, 'actual': 676, 'took': 20419, 'gwangju': 8896, 'inhwa': 10193, 'hearingimpair': 9226, 'faculti': 7141, 'five': 7529, '2000': 266, 'orest': 14562, 'jacovacci': 10491, 'giovanni': 8400, 'busacca': 3204, 'youth': 22490, 'wwi': 22365, 'calcul': 3330, 'unsuspect': 21228, 'sign': 18289, 'indemn': 10103, 'polici': 15526, 'backdrop': 1876, 'distinctli': 5840, 'californian': 3345, 'emot': 6583, 'illiter': 9950, 'opportun': 14521, 'getaway': 8315, 'disguis': 5779, 'bandmat': 1983, 'suitor': 19475, 'barcelona': 2025, 'spain': 18845, 'adrián': 735, 'doria': 5997, 'virginia': 21630, 'goodman': 8564, 'expert': 7027, 'lawyer': 11544, 'devis': 5606, 'strategi': 19307, 'botch': 2805, 'robberi': 16999, 'indic': 10115, 'mount': 13513, 'beget': 2234, 'violenc': 21618, 'orang': 14542, 'parole': 14925, 'blond': 2603, 'bicker': 2418, 'weasel': 21923, 'pink': 15347, 'nice': 13981, 'eddi': 6363, 'crotcheti': 4924, 'isak': 10422, 'borg': 2782, 'stockholm': 19239, 'lund': 12167, 'sweden': 19677, 'unhappi': 21093, 'daughterinlaw': 5222, 'honorari': 9619, 'degre': 5398, 'mater': 12640, 'hitchhik': 9513, 'muse': 13636, 'vivaci': 21663, 'sara': 17457, 'ringer': 16935, 'sol': 18687, 'chat': 3825, 'jennif': 10615, 'enjoy': 6665, 'jen': 10609, 'silli': 18304, 'cook': 4607, 'athletic': 1669, 'fun': 7992, 'bloom': 2622, 'got': 8594, 'invest': 10349, 'push': 16064, 'well': 21962, 'propos': 15924, 'liver': 11886, 'tumor': 20756, 'grew': 8722, 'fullon': 7987, 'diagnosi': 5631, 'regina': 16558, 'protagonist': 15937, 'less': 11681, 'funni': 8006, 'divorce': 5871, 'australian': 1748, 'hannah': 9047, 'gadsbi': 8051, 'anticomedi': 1311, 'stanc': 19067, 'newest': 13941, 'digit': 5673, 'bot': 2802, '11yearold': 39, 'buddi': 3118, 'quit': 16150, 'manseob': 12448, 'seoul': 17897, 'mouth': 13526, 'hear': 9224, 'foreign': 7716, 'big': 2427, 'agenda': 808, 'bounti': 2824, 'freed': 7862, 'plantat': 15414, 'impoverish': 10023, 'priest': 15805, 'harihar': 9107, 'ray': 16362, 'better': 2389, 'bengal': 2308, 'ripper': 16951, 'initi': 10196, 'nuclear': 14216, 'strike': 19342, 'soviet': 18819, 'politician': 15534, 'diplomat': 5715, 'stop': 19258, 'firefight': 7485, 'jahong': 10507, 'pass': 14955, '49': 424, 'reincarn': 16582, 'pragmat': 15687, 'marin': 12518, 'observ': 14285, 'dehuman': 5399, 'usvietnam': 21333, 'boot': 2759, 'hue': 9743, 'geniuslevel': 8247, 'choos': 3957, 'janitor': 10536, 'mit': 13245, 'graduatelevel': 8630, 'math': 12645, 'gerald': 8287, 'lambeau': 11391, 'misguid': 13210, 'lenienc': 11649, 'treatment': 20598, 'therapist': 20142, 'sean': 17713, 'maguir': 12293, 'pepp': 15117, 'mario': 12523, 'think': 20168, 'tunnel': 20765, 'rent': 16684, 'pawnshop': 15021, 'foolproof': 7691, 'least': 11579, 'imit': 9976, 'artist': 1574, 'infant': 10153, 'victor': 21558, 'william': 22135, 'levi': 11708, 'handsom': 9032, 'cold': 4275, 'blood': 2605, 'smooth': 18584, 'sarai': 17460, 'alicia': 970, 'sanz': 17451, 'commerci': 4375, 'spaceship': 18839, 'nostromo': 14168, 'intercept': 10285, 'distress': 5846, 'signal': 18290, 'distant': 5834, 'threememb': 20219, 'crew': 4865, 'chamber': 3756, 'egg': 6402, 'creatur': 4845, 'impend': 9998, 'nightmar': 14008, 'descend': 5526, 'alien': 971, 'parasit': 14897, 'plant': 15413, 'unfortun': 21084, 'host': 9680, 'birth': 2495, 'coda': 4235, 'rubi': 17205, 'fish': 7510, 'readi': 16383, 'scoobydoo': 17634, 'kiss': 11146, 'allnew': 1014, 'outofthisworld': 14663, 'allthingskiss': 1024, 'theme': 20130, 'summon': 19498, 'kissteria': 11148, 'ghastli': 8325, 'cun': 4999, 'kisss': 11147, 'wander': 21809, 'earlier': 6309, 'date': 5217, 'hoard': 9530, 'bloodythirsti': 2621, 'zombi': 22602, 'militari': 13094, 'goldi': 8536, 'russia': 17251, 'unmap': 21145, 'abid': 561, 'evolv': 6909, 'usual': 21330, 'glacial': 8429, 'siberian': 18253, 'wood': 22252, '16th': 102, 'genjuro': 8249, 'tobei': 20364, 'sell': 17845, 'earthenwar': 6319, 'pot': 15646, 'nearbi': 13816, 'defianc': 5382, 'sage': 17334, 'profit': 15878, 'warfar': 21825, 'pursuit': 16061, 'wakasa': 21773, 'wive': 22212, 'miyagi': 13260, 'ohama': 14379, 'classic': 4086, 'thriller': 20232, 'beckert': 2202, 'focu': 7664, 'berlin': 2349, 'manhunt': 12419, 'repel': 16703, 'seedi': 17760, 'network': 13909, 'trail': 20529, 'tens': 20039, 'panick': 14848, 'occas': 14297, 'mussolini': 13650, 'hitler': 9517, 'tenement': 20031, 'fascist': 7246, 'antonietta': 1344, 'segu': 17774, 'radic': 16192, 'alter': 1059, 'outlook': 14656, 'harri': 9126, 'ron': 17099, 'hermion': 9366, 'vanquish': 21420, 'voldemort': 21699, 'hopeless': 9635, 'trio': 20654, 'endow': 6638, 'formid': 7746, 'aspir': 1618, 'easi': 6325, 'physician': 15276, 'noboru': 14074, 'yasumoto': 22421, 'disappoint': 5734, 'clinic': 4143, 'gruff': 8801, 'beard': 2170, 'numer': 14226, 'wise': 22181, 'gradual': 8628, 'introduc': 10332, 'unglamor': 21089, 'profess': 15872, 'assign': 1633, 'brothel': 3062, 'freshman': 7903, 'hodaka': 9540, 'remot': 16655, 'quickli': 16132, 'financi': 7453, 'weather': 21924, 'unusu': 21242, 'gloomi': 8473, 'raini': 16243, 'cue': 4980, 'solitud': 18706, 'freelanc': 7869, 'occult': 14299, 'magazin': 12273, 'hina': 9478, 'corner': 4664, 'bright': 2999, 'strongwil': 19362, 'abil': 563, 'clear': 4110, 'sky': 18441, 'shine': 18137, 'bamboo': 1973, 'cutter': 5043, 'tini': 20331, 'rapidli': 16312, 'exquisit': 7054, 'enthral': 6697, 'punish': 16034, 'postapocalypt': 15625, 'built': 3136, 'everyon': 6891, 'deserv': 5535, 'seventeenyear': 17965, 'simon': 18324, 'spier': 18919, 'gay': 8187, 'fallen': 7172, 'bobbi': 2660, 'griffith': 8735, 'favorit': 7293, 'allamerican': 984, 'deepli': 5360, 'walnut': 21800, 'creek': 4852, 'california': 3343, 'understood': 21028, 'germani': 8299, '1944': 198, 'leyna': 11717, '15year': 88, 'lutz': 12181, 'promin': 15901, 'antonio': 1346, 'peppino': 15122, 'lucia': 12118, 'napl': 13734, 'gianni': 8345, 'studi': 19379, 'medicin': 12823, 'ballet': 1957, 'dancer': 5143, 'milan': 13080, 'afraid': 784, 'nephew': 13877, 'caponi': 3455, 'malafemmina': 12343, 'bad': 1895, 'hong': 9615, 'kong': 11227, 'chow': 3969, 'mowan': 13535, 'su': 19403, 'lizhen': 11895, 'formal': 7741, 'politeuntil': 15533, 'discoveri': 5762, 'creat': 4840, 'intim': 10323, 'corti': 4690, 'short': 18188, 'giacomo': 8342, 'comedi': 4347, 'particip': 14936, 'marina': 12519, 'massironi': 12617, 'record': 16470, 'teatro': 19955, 'nuovo': 14231, 'ferrara': 7376, '28': 364, '29': 367, 'march': 12489, '1996': 252, 'agidi': 817, 'theatr': 20125, 'arturo': 1577, 'brachetti': 2875, 'culprit': 4989, 'hay': 9186, 'bold': 2689, 'controversi': 4588, 'messag': 12946, 'bill': 2452, 'willoughbi': 22138, 'secondincommand': 17737, 'jason': 10559, 'dixon': 5875, 'immatur': 9979, 'penchant': 15088, 'eb': 6340, 'enforc': 6649, 'exacerb': 6915, 'fiveyearold': 7538, 'calcutta': 3332, 'kilomet': 11098, 'australia': 1747, 'custodi': 5034, 'slowli': 18536, 'news': 13960, 'luck': 12128, 'shatter': 18071, 'truman': 20711, 'burbank': 3170, '24houraday': 345, 'tv': 20802, 'broadcast': 3032, 'aspect': 1614, 'knowledg': 11198, 'unend': 21058, 'opera': 14510, 'consumpt': 4555, 'realli': 16394, 'paid': 14792, 'forti': 7756, 'juxtapos': 10866, 'pivot': 15386, 'din': 5698, 'reconnect': 16465, 'wishgrant': 22190, 'closet': 4160, 'out': 14632, 'chest': 3879, 'chase': 3819, '1943': 197, 'hiroshima': 9498, 'kure': 11310, 'depriv': 5511, 'indispens': 10125, 'ancestr': 1193, 'wisdom': 22180, 'impregn': 10024, 'simpl': 18328, 'gestur': 8312, 'poetri': 15496, 'hardship': 9099, 'enthusiasm': 6698, 'twin': 20830, 'jeann': 10585, 'tangl': 19870, 'root': 17117, 'wajdi': 21770, 'mouawad': 13508, 'acclaim': 615, 'incendi': 10061, 'core': 4647, 'deeproot': 5362, 'hatr': 9161, 'neverend': 13929, 'endur': 6640, 'benelux': 2306, 'tough': 20480, 'prime': 15814, 'akki': 889, 'soccer': 18660, 'leukemia': 11701, 'allow': 1017, 'inevit': 10143, 'miner': 13141, 'oil': 14384, 'prospector': 15932, 'plainview': 15401, 'oilrich': 14388, 'trustworthi': 20720, 'familyman': 7194, 'imag': 9967, 'con': 4433, 'landown': 11417, 'valuabl': 21395, 'properti': 15918, 'pittanc': 15381, 'preacher': 15696, 'eli': 6480, 'sunday': 19506, 'motiv': 13494, 'slowburn': 18534, 'feud': 7393, 'chaotic': 3780, 'riot': 16944, 'margin': 12500, 'suburb': 19436, 'vinz': 21615, 'hubert': 9737, 'saïd': 17537, 'unoccupi': 21159, 'health': 9220, 'mutual': 13662, 'serious': 17932, 'joel': 10708, 'barish': 2036, 'heartbroken': 9232, 'underw': 21032, 'eras': 6750, 'watch': 21866, 'realis': 16388, 'correct': 4680, 'mistak': 13235, 'satir': 17489, 'view': 21578, 'upsid': 21292, 'attic': 1698, 'aid': 845, 'idiot': 9910, 'imaginari': 9970, 'adolf': 718, 'jojo': 10731, 'parisian': 14912, 'antoin': 1339, 'doinel': 5921, 'situat': 18381, 'inconsider': 10084, 'neglect': 13852, 'rene': 16670, 'scheme': 17583, 'awri': 1818, 'unsympathet': 21229, 'gentri': 8263, 'georgian': 8281, 'bennet': 2321, 'gentleman': 8261, 'hertfordshir': 9380, 'overbear': 14688, 'cousin': 4772, 'secur': 17750, 'marriag': 12564, 'excon': 6945, 'zequi': 22564, 'canon': 3431, '15thcenturi': 87, 'shed': 18081, 'spoken': 18948, 'darc': 5172, 'subject': 19412, 'inhuman': 10192, 'tactic': 19790, 'church': 4000, 'opt': 14531, 'famous': 7199, 'perpetu': 15161, 'martyrdom': 12586, 'vincent': 21606, 'van': 21401, 'gogh': 8523, 'shukichi': 18240, 'masa': 12600, 'unless': 21137, '27yearold': 363, 'matchmak': 12636, 'deceiv': 5319, 'ran': 16280, 'akira': 887, 'reimagin': 16579, 'shakespear': 18022, 'lear': 11575, 'singular': 18356, 'sixteenthcenturi': 18393, 'majest': 12318, 'scope': 17638, 'latelif': 11479, 'masterpiec': 12627, 'profound': 15880, 'folli': 7679, 'crumbl': 4947, 'weight': 21951, 'greed': 8691, 'insati': 10229, 'thirst': 20174, '1986': 242, 'gyunggi': 8905, 'provinc': 15957, 'commenc': 4371, 'similar': 18316, 'whisper': 22057, 'louder': 12042, 'dooman': 5976, 'younggoo': 22483, 'tree': 20599, 'totoro': 20474, 'buri': 3182, 'beneath': 2300, 'lunar': 12163, 'surfac': 19597, 'hal': 8951, '9000': 510, 'stefano': 19161, 'cucchi': 4977, 'detent': 5571, 'week': 21941, 'forev': 7724, 'victorian': 21561, 'surgeon': 19600, 'heavili': 9251, 'disfigur': 5776, 'mistreat': 13241, 'sideshow': 18271, 'freak': 7852, 'monstrou': 13366, 'intellig': 10277, 'sensit': 17885, 'joseph': 10763, 'merrick': 12936, 'deform': 5389, '19th': 256, 'spark': 18855, 'fierc': 7417, 'independ': 10104, 'stray': 19312, 'kitten': 11155, 'pit': 15374, 'bull': 3145, '1957': 210, 'cabiria': 3288, 'drown': 6152, 'giorgio': 8395, 'resum': 16782, 'content': 4566, 'submarin': 19416, 'boat': 2658, 'forward': 7768, '18th': 154, 'birthday': 2496, 'blow': 2625, 'candl': 3415, 'basement': 2083, 'orbit': 14546, 'backwat': 1888, 'mass': 12609, 'deadliest': 5262, 'speci': 18871, 'drawn': 6091, 'echo': 6347, 'amongst': 1155, 'clara': 4071, 'dinner': 5705, 'enigmat': 6663, '1947': 200, 'bench': 2297, 'tribun': 20630, 'haywood': 9193, 'testimoni': 20089, 'ernst': 6765, 'jan': 10527, 'rolf': 17069, 'idealist': 9902, 'reluct': 16631, 'iren': 10390, 'wallner': 21797, '12': 40, 'footbal': 7694, 'palmer': 14821, 'togetherand': 20377, 'jessica': 10635, 'pernambuco': 15158, 'val': 21365, '13': 53, 'nanni': 13726, 'fabinho': 7118, 'são': 19765, 'paulo': 15014, 'stabil': 19029, 'reappear': 16404, 'servant': 17942, 'precis': 15705, 'humour': 9782, 'subtl': 19434, 'rigid': 16921, 'structur': 19365, 'shake': 18020, 'vicki': 21555, 'page': 14787, 'ballerina': 1956, 'dedic': 5348, 'danc': 5142, 'bori': 2784, 'lermontov': 11676, 'compos': 4418, 'julian': 10818, 'craster': 4824, 'stress': 19331, 'either': 6433, 'decis': 5328, 'toto': 20473, 'gourmet': 8604, 'africa': 786, 'poet': 15495, 'santiago': 17447, 'baca': 1861, 'halfbroth': 8962, 'paco': 14777, 'biraci': 2484, 'miklo': 13076, '1972': 227, 'vato': 21440, 'loco': 11926, 'narcot': 13745, 'quentin': 16122, 'heroin': 9372, 'addict': 688, 'result': 16781, 'carnal': 3523, 'stasi': 19115, 'cultur': 4993, 'wieler': 22101, 'dreyman': 6122, 'plung': 15472, 'deeper': 5358, 'threshold': 20228, 'engin': 6652, 'locomot': 11927, 'generalwith': 8228, 'attach': 1688, 'boxcarand': 2852, 'singlehandedli': 18352, 'annabel': 1270, '10': 4, 'sarah': 17459, 'connor': 4508, 'termin': 20057, 'cyborg': 5058, 'newer': 13940, 'protector': 15941, 'corrupt': 4686, 'riddler': 16900, '1997': 253, 'pope': 15569, 'rio': 16943, 'janeiro': 10529, 'nascimento': 13758, 'bope': 2771, 'battalion': 2118, 'dealer': 5276, 'lodg': 11930, 'enclos': 6617, 'freedom': 7863, 'twelveyearold': 20814, 'sibl': 18254, 'delinqu': 5424, 'fester': 7387, 'mexico': 12984, 'wall': 21789, 'overrun': 14725, 'garbag': 8126, 'fled': 7582, 'outer': 14644, '700': 477, 'clean': 4105, 'mess': 12945, 'humanlik': 9765, 'qualiti': 16093, 'sleek': 18487, 'type': 20855, 'stow': 19277, 'rizwan': 16979, 'khan': 11062, 'muslim': 13648, 'borivali': 2785, 'section': 17748, 'mumbai': 13595, 'asperg': 1616, 'syndrom': 19753, 'hindu': 9482, 'mandira': 12405, '911': 515, 'detain': 5565, 'lax': 11545, 'terrorist': 20078, 'condit': 4458, 'daunt': 5223, 'frank': 7831, 'prodigi': 15867, 'niec': 13994, 'grand': 8639, 'budapest': 3116, 'concierg': 4448, 'european': 6842, 'employe': 6593, 'protégé': 15948, 'theft': 20127, 'recoveri': 16475, 'priceless': 15801, 'renaiss': 16660, 'enorm': 6672, 'fortun': 7761, 'slow': 18533, 'sudden': 19458, 'upheav': 21268, 'europ': 6841, '20th': 318, 'brazilian': 2927, 'televis': 20001, 'explod': 7035, 'auditorium': 1721, 'program': 15885, 'polit': 15532, 'fervor': 7385, 'augusto': 1729, 'mend': 12896, 'sun': 19501, 'studio': 19380, 'fame': 7181, 'bingo': 2465, 'clown': 4170, 'rice': 16881, 'powder': 15668, 'el': 6438, 'salvador': 17389, 'dramat': 6084, 'jungl': 10839, 'suppli': 19584, 'nitroglycerin': 14055, 'truck': 20697, 'rough': 17162, 'road': 16984, 'slightest': 18512, 'jolt': 10736, 'eugen': 6835, 'nobleman': 14069, 'penniless': 15104, 'idler': 9913, 'imperson': 10004, 'gemma': 8217, 'enrich': 6676, 'katherin': 10964, 'johnson': 10723, 'dorothi': 6006, 'vaughan': 21444, 'nasa': 13756, 'brain': 2884, 'greatest': 8685, 'astronaut': 1653, 'glenn': 8453, 'visionari': 21645, 'gender': 8222, 'seal': 17708, 'ben': 2295, 'saoirs': 17453, 'granni': 8657, 'folktal': 7678, 'bedtim': 2216, 'folk': 7675, 'miyo': 13261, 'muge': 13562, 'sasaki': 17478, 'secondyear': 17740, 'junior': 10841, 'kento': 11028, 'hinod': 9484, 'resolut': 16757, 'nevertheless': 13931, 'mask': 12604, 'tarō': 19905, 'keller': 11005, 'dover': 6033, '6yearold': 475, 'anna': 1269, 'miss': 13220, 'motorhom': 13503, 'loki': 11943, 'choic': 3952, 'kyuta': 11337, 'shibuya': 18121, 'kumatetsu': 11303, 'lonesom': 11955, 'beast': 2174, 'jutengai': 10862, 'foray': 7702, 'intric': 10329, 'crook': 4903, 'realist': 16389, 'portray': 15608, 'imageri': 9968, 'mix': 13255, 'neoreal': 13874, 'scout': 17656, 'finch': 7454, 'jem': 10607, 'sleepi': 18491, 'maycomb': 12703, 'alabama': 894, 'dill': 5685, 'reclus': 16454, 'boo': 2733, 'radley': 16202, 'atticu': 1700, 'tom': 20396, 'robinson': 17011, 'tangent': 19866, 'racism': 16182, 'stereotyp': 19187, 'veronika': 21509, 'moscow': 13469, 'shortli': 18195, 'river': 16972, 'fli': 7597, 'overhead': 14708, 'rendezv': 16668, 'front': 7943, 'faith': 7163, 'lester': 11690, 'depress': 5509, 'midlif': 13045, 'crisi': 4882, 'hectic': 9264, 'infatu': 10155, 'extenni': 7067, 'pro': 15847, 'anyway': 1361, 'improvis': 10034, 'planto': 15416, 'instead': 10255, 'fred': 7854, 'dobb': 5889, 'bob': 2659, 'curtin': 5029, 'tampico': 19861, 'grizzl': 8763, 'howard': 9723, 'central': 3713, 'succeed': 19447, 'element': 6468, 'scientist': 17627, 'machin': 12223, 'petti': 15211, 'burglar': 3179, 'tsar': 20724, 'ivan': 10459, '1973': 228, 'indio': 10121, 'fugit': 7972, 'western': 22005, 'newspap': 13962, 'magnat': 12286, 'charl': 3802, 'foster': 7774, 'kane': 10911, 'made': 12248, 'ward': 21818, 'industrialist': 10138, 'wellmean': 21981, 'tyrann': 20860, 'selfdestruct': 17806, 'reaction': 16378, 'charli': 3806, 'circu': 4033, 'handyman': 9037, 'stepdaught': 19172, 'fantasi': 7207, 'kumandra': 11301, 'harmoni': 9118, 'sacrif': 17305, '500': 429, 'raya': 16363, 'fractur': 7809, 'quirki': 16149, 'dysfunct': 6287, 'upend': 21266, 'apocalyps': 1374, 'unlikeliest': 21140, 'scoobi': 17633, 'outdoor': 14642, 'melanchol': 12862, 'policemen': 15523, 'ether': 6828, 'server': 17943, 'latenight': 11480, 'restaur': 16770, 'withdraw': 22198, 'ghoul': 8336, 'unfinish': 21074, 'daphn': 5170, 'shaggi': 18015, 'spring': 18974, 'finish': 7466, '13th': 57, 'matashichi': 12634, 'tahei': 19803, 'tribal': 20625, 'tribe': 20626, 'fortress': 7759, 'rokurota': 17064, 'yuki': 22504, 'safeti': 17330, 'expertis': 7028, 'wolfgang': 22225, 'amadeu': 1081, 'mozart': 13540, 'remark': 16638, 'viennes': 21575, 'unwittingli': 21256, 'disciplin': 5751, 'salieri': 17371, 'resent': 16744, 'hedonist': 9271, 'lifestyl': 11778, 'undeni': 20998, 'highli': 9427, 'consum': 4553, 'dire': 5716, 'stockbrok': 19237, 'cooper': 4618, 'fraud': 7848, 'bank': 1990, 'jordan': 10754, 'belfort': 2264, 'autobiographi': 1760, 'ventur': 21478, 'alaska': 906, 'burli': 3187, 'charact': 3789, 'georgia': 8280, 'freddi': 7855, 'mercuri': 12921, 'guitarist': 8850, 'brian': 2974, 'roger': 17058, 'bass': 2095, 'deacon': 5254, 'roll': 17070, 'queen': 16117, 'song': 18738, 'excess': 6937, 'cryptanalyst': 4959, 'alan': 903, 'ture': 20774, 'nailbit': 13703, 'codebreak': 4238, 'topsecret': 20436, 'cypher': 5067, 'bletchley': 2576, 'darkest': 5185, 'terri': 20066, 'malloy': 12370, 'tend': 20026, 'pigeon': 15317, 'errand': 6770, 'dock': 5894, 'friendli': 7920, 'boss': 2798, 'docker': 5895, 'thug': 20246, 'barri': 2060, 'racket': 16184, 'hogwart': 9550, 'delic': 5420, 'hippogriff': 9493, 'shapeshift': 18050, 'boggart': 2678, 'hilar': 9459, 'term': 20056, 'soulsuck': 18797, 'dementor': 5455, 'hover': 9722, 'accurs': 632, 'hewhocannotbenam': 9387, 'fearsom': 7310, 'siriu': 18368, 'azkaban': 1834, 'rémi': 17282, 'snatch': 18610, 'entrust': 6714, 'signor': 18294, 'vitali': 21654, 'itiner': 10455, 'harsh': 9132, 'acrobat': 656, 'bread': 2932, 'capi': 3449, 'monkey': 13345, 'jolicoeur': 10734, 'leonardo': 11661, 'overprotect': 14722, 'giovana': 8397, 'abroad': 581, 'classroom': 4091, 'blossom': 2624, 'richard': 16883, 'coach': 4192, 'venu': 21481, 'serena': 17917, 'tenni': 20036, 'workingclass': 22284, 'hellish': 9313, 'nick': 13985, 'mous': 13521, 'midnight': 13046, 'cliqu': 4146, 'baltimor': 1968, 'dirt': 5726, 'bike': 2446, 'rider': 16903, 'summertim': 19496, 'blax': 2562, 'straightandnarrow': 19283, 'fill': 7443, 'fast': 7249, 'dangal': 5150, 'mahavir': 12295, 'geeta': 8203, 'babita': 1856, 'phogat': 15261, 'trace': 20512, 'wrestler': 22337, 'warlord': 21830, 'shao': 18047, 'kahn': 10883, 'toshiro': 20465, 'mifun': 13056, 'swagger': 19656, 'snarl': 18609, 'comic': 4355, 'tightli': 20296, 'pace': 14767, 'piec': 15302, 'sequel': 17908, 'yojimbo': 22455, 'jade': 10500, 'weed': 21940, 'proper': 15916, 'ear': 6304, 'scientif': 17626, 'outpost': 14666, 'antarctica': 1294, 'harder': 9088, 'assimil': 1634, 'tear': 19952, 'riskiest': 16960, 'shield': 18123, '2051': 308, 'urgent': 21309, 'mankind': 12432, 'global': 8467, 'civilian': 4052, 'dan': 5139, 'estrang': 6819, 'rewrit': 16852, 'spoil': 18946, 'welltodo': 21985, 'dispos': 5818, 'claw': 4102, 'poverti': 15665, 'maj': 12317, 'gen': 8219, 'sherman': 18118, 'destruct': 5559, 'urban': 21305, 'paper': 14860, 'airplan': 864, 'instrument': 10264, 'expect': 7017, 'early1970': 6311, 'lowlevel': 12094, 'mobster': 13274, 'ace': 635, 'rothstein': 17156, 'tap': 19887, 'tangier': 19868, 'casino': 3577, 'nicki': 13986, 'santoro': 17450, 'exhustl': 6982, 'ginger': 8384, 'conartist': 4436, 'ex': 6914, 'diamond': 5637, 'everincreas': 6879, 'vibrant': 21543, 'pulsat': 16023, 'rhythm': 16870, 'movement': 13529, 'youngatheart': 22479, 'intern': 10301, 'braina': 2885, 'hearta': 9229, 'freespirit': 7876, 'loos': 12009, 'adolesc': 717, 'mansion': 12451, 'disgruntl': 5778, 'walt': 21803, 'kowalski': 11249, 'thao': 20111, 'lor': 12014, 'hmong': 9528, 'gran': 8637, 'torino': 20443, 'anxiou': 1354, 'jinseok': 10682, 'yooseok': 22465, 'frighten': 7930, 'unexplain': 21064, 'understand': 21027, 'legal': 11613, 'closur': 4161, 'unresolv': 21194, 'unreciproc': 21185, 'superior': 19548, 'sevenyear': 17970, 'absenc': 586, 'charlott': 3807, 'andergast': 1205, 'eva': 6847, 'motherhood': 13484, 'reopen': 16692, 'impair': 9991, 'helena': 9305, 'asylum': 1662, 'invit': 10355, 'float': 7615, 'mobil': 13273, 'manmad': 12434, 'iisland': 9931, 'supplement': 19583, 'item': 10453, 'iexpo': 9920, 'current': 5022, 'breach': 2930, 'rogu': 17059, 'humbl': 9771, 'redmond': 16499, 'lyndon': 12193, 'strangl': 19297, 'text': 20097, 'vale': 21367, 'theyv': 20157, 'lavish': 11528, 'guest': 8828, 'advertis': 754, 'thornhil': 20193, 'mistaken': 13236, 'trigger': 20644, 'crosscountri': 4911, 'unfaith': 21069, 'steadili': 19143, 'deterior': 5573, 'ishaan': 10426, 'awasthi': 1806, 'eightyearold': 6425, 'els': 6517, 'colour': 4323, 'kite': 11154, 'homework': 9597, 'mark': 12535, 'neat': 13830, 'car': 3468, 'carrol': 3546, 'britishborn': 3021, 'ken': 11010, 'interfer': 10292, 'revolutionari': 16844, 'ford': 7710, 'enzo': 6726, 'ferrari': 7377, '24': 337, 'hour': 9703, 'le': 11557, 'postwar': 15642, 'vienna': 21574, 'austria': 1749, 'holli': 9566, 'martin': 12580, 'pulp': 16022, 'chum': 3995, 'lime': 11813, 'conspiraci': 4533, 'theori': 20137, 'british': 3019, 'headoverheel': 9211, 'griefstricken': 8731, 'junshik': 10849, 'tatsuo': 19917, 'grandfath': 8645, 'farm': 7227, 'colon': 4312, 'olymp': 14423, 'marathon': 12479, 'runner': 17240, 'aim': 851, 'shore': 18187, 'hall': 8980, 'despond': 5550, 'confid': 4473, 'valentin': 21372, 'model': 13280, 'geneva': 8235, 'wiretap': 22178, 'eavesdrop': 6339, 'phone': 15262, 'outrag': 14667, 'kim': 11099, 'jobless': 10700, 'debt': 5304, 'dump': 6227, 'jump': 10831, 'wash': 21855, 'midriv': 13047, 'castaway': 3591, 'antic': 1305, 'attent': 1695, 'jake': 10514, 'lamotta': 11396, 'temper': 20008, 'halfway': 8976, 'witti': 22209, 'introspect': 10334, 'defin': 5386, 'exactli': 6918, 'confus': 4487, 'vs': 21732, 'modernday': 13283, 'quintet': 16145, 'counterpart': 4736, 'theyll': 20155, 'asid': 1606, 'combat': 4341, 'trigon': 20646, 'hexagon': 9391, 'santa': 17442, 'clau': 4093, 'multivers': 13593, 'algerian': 961, 'liber': 11730, 'national': 13776, 'coloni': 4315, 'ali': 964, 'organis': 14564, 'measur': 12802, 'quell': 16120, 'revolt': 16841, 'ferri': 7380, 'bueller': 3122, 'refresh': 16534, 'rebelli': 16419, 'prankster': 15691, 'crafti': 4811, 'rascal': 16328, 'dreamer': 6100, 'geniu': 8245, 'youv': 22492, 'rancho': 16285, 'outlandish': 14652, 'campu': 3399, 'downalong': 6037, 'miser': 13203, 'viru': 21639, 'uptight': 21300, 'heartless': 9235, 'dean': 5279, 'sexi': 17984, 'flunk': 7649, 'lynn': 12195, 'bigger': 2435, 'examch': 6921, 'newsreel': 13963, 'impress': 10026, 'secretari': 17743, 'north': 14146, 'preciou': 15702, 'bride': 2983, 'fatherinlaw': 7269, 'wooden': 22255, 'renton': 16688, 'sobrieti': 18657, 'unreli': 21190, 'sick': 18259, 'begbi': 2233, 'spud': 18986, 'tommi': 20406, 'underag': 21000, 'dian': 5638, 'ride': 16902, 'edinburgh': 6370, 'cant': 3433, 'te': 19937, 'lawrenc': 11541, 'arab': 1427, 'ottoman': 14625, 'flamboy': 7552, 'messian': 12951, 'uniti': 21125, 'instabl': 10250, 'undermin': 21016, 'terror': 20076, 'mutant': 13655, 'foe': 7667, 'reunion': 16813, 'steel': 19154, 'pirat': 15367, 'agn': 821, 'immers': 9983, 'psychic': 15981, 'pain': 14795, 'support': 19586, 'maria': 12505, 'wrack': 22322, 'extramarit': 7081, 'selfloath': 17827, 'karin': 10939, 'revuls': 16849, 'solac': 18688, 'empathi': 6588, 'shot': 18201, 'vengeanc': 21472, 'edit': 6372, 'twopart': 20842, 'martial': 12577, 'vol': 21693, 'schedul': 17582, 'split': 18943, 'luca': 12112, 'alberto': 914, 'unforgett': 21081, 'riviera': 16977, 'deeplyheld': 5361, 'water': 21873, 'maison': 12316, 'en': 6605, 'petit': 15203, 'cube': 4975, 'stem': 19166, 'flood': 7618, 'ferdinando': 7365, 'cefalù': 3679, 'angela': 1231, 'rosalia': 17128, 'trick': 20635, 'light': 11785, 'sentenc': 17891, 'adulter': 738, 'gelsomina': 8214, 'naïv': 13806, 'purchas': 16044, 'brutish': 3090, 'strongman': 19361, 'zampanò': 22532, 'loyal': 12103, 'abus': 598, 'perform': 15141, 'kindr': 11112, 'il': 9937, 'matto': 12670, 'fool': 7688, 'contempl': 4561, 'primu': 15819, 'extract': 7078, 'yuan': 22496, 'bead': 2163, 'seed': 17759, 'pill': 15331, 'zhou': 22575, 'establish': 6809, 'dynasti': 6285, 'wherea': 22038, 'ne': 13810, 'zha': 22572, 'incarn': 10060, 'harvardeduc': 9142, 'bryan': 3093, 'stevenson': 19195, 'disenfranchis': 5775, 'wrongli': 22352, 'mcmillian': 12771, 'tirelessli': 20346, 'stack': 19032, 'titta': 20356, 'engag': 6650, 'absurd': 594, 'behavior': 2244, 'dote': 6013, 'wide': 22091, 'rang': 16294, 'extend': 7066, 'loyalist': 12104, 'sensual': 17887, 'shift': 18125, 'fantast': 7209, 'trainer': 20534, 'franki': 7835, 'dunn': 6240, 'isnt': 10437, 'maggi': 12277, 'fitzgerald': 7527, 'cohort': 4262, 'barbenfouilli': 2018, 'astronomi': 1655, 'rocket': 17032, 'cannon': 3428, 'peril': 15146, 'cave': 3654, 'philipp': 15244, 'gerbier': 8290, 'rejoin': 16598, 'occupi': 14303, 'marseil': 12569, 'exact': 6916, 'endless': 6634, 'atmospher': 1679, 'tension': 20040, 'distrust': 5850, 'virtual': 21636, 'jane': 10528, 'hudson': 9742, 'crippl': 4880, 'blanch': 2548, 'eclips': 6352, 'affect': 768, 'simmer': 18321, 'envi': 6718, 'hate': 9160, 'mail': 12304, 'beatric': 2181, 'china': 3931, '1920': 173, '19': 159, 'songlian': 18741, 'competit': 4404, 'privileg': 15842, 'devout': 5615, 'danish': 5160, 'farmer': 7228, 'morten': 13460, 'dispar': 5808, 'ander': 1204, 'religion': 16626, 'eldest': 6451, 'mikkel': 13075, 'johann': 10717, 'delusion': 5445, 'proclaim': 15862, 'jesu': 10639, 'inger': 10183, 'childbirth': 3910, 'naiv': 13705, 'jefferson': 10598, 'smith': 18573, 'appoint': 1405, 'senat': 17869, 'puppet': 16041, 'washington': 21858, 'shortcom': 18191, 'earnest': 6314, 'woodi': 22257, 'happili': 9068, 'buzz': 3254, 'lightyear': 11793, 'onto': 14500, 'endang': 6627, 'neotokyo': 13875, 'biker': 2447, 'rampag': 16272, 'exasper': 6925, 'number': 14225, 'reloc': 16630, 'highsecur': 9445, 'escapeproof': 6788, 'sit': 18376, 'remaind': 16635, 'undaunt': 20995, 'franci': 7825, 'horribl': 9658, 'went': 21994, 'cabinet': 3287, 'caligari': 3347, 'exhibit': 6975, 'somnambulist': 18734, 'cesar': 3731, 'deathlik': 5287, 'abagnal': 539, 'jr': 10791, 'million': 13108, 'worth': 22310, 'check': 3842, 'pan': 14833, 'prosecutor': 15929, 'jess': 10632, 'céline': 5079, 'convers': 4596, 'surpris': 19608, 'celin': 3689, 'flight': 7600, 'depart': 5496, 'morn': 13441, 'showman': 18220, 'pt': 15994, 'barnum': 2049, 'founder': 7782, 'becam': 2198, 'ringl': 16936, 'bro': 3030, 'wrath': 22325, 'melioda': 12870, 'holi': 9560, 'goddess': 8506, 'escanor': 6784, 'washizu': 21859, 'miki': 13074, 'waylaid': 21895, 'propheci': 15920, 'asaji': 1581, 'press': 15767, 'speed': 18890, 'usurp': 21332, 'reset': 16747, 'macbeth': 12215, 'flash': 7564, 'timelin': 20313, 'truelif': 20704, 'woodroof': 22261, 'drugtak': 6166, 'womenlov': 22239, 'homophob': 9601, 'hivaid': 9524, 'precivil': 15706, 'solomon': 18711, 'northup': 14154, 'upstat': 21298, 'sold': 18692, 'slaveri': 18476, 'cruelti': 4943, 'kind': 11106, 'retain': 16788, 'digniti': 5679, 'twelfth': 20812, 'odyssey': 14342, 'abolitionist': 571, 'zohr': 22601, 'gone': 8549, 'solut': 18712, 'ww3': 22363, 'recreat': 16476, 'airport': 865, 'pier': 15304, 'conserv': 4523, 'gusmão': 8881, 'eurídic': 6844, 'guida': 8834, 'encourag': 6622, 'profession': 15873, 'psychologist': 15987, 'malcolm': 12350, 'crow': 4927, 'nine': 14034, 'cole': 4281, 'sear': 17717, '1879': 143, 'kenshin': 11025, 'strongest': 19358, 'brotherinlaw': 3067, 'enishi': 6664, 'yukishiro': 22507, 'minion': 13155, 'whove': 22086, 'iran': 10380, 'marjan': 12532, 'marji': 12533, 'statrapi': 19129, 'fulfil': 7978, 'shah': 18017, 'iranian': 10382, '1979': 234, 'islam': 10433, 'fundamentalist': 7996, 'repress': 16718, 'tyranni': 20861, 'marinett': 12521, 'shanghai': 18040, 'adrien': 732, 'stuff': 19383, 'ad': 678, 'exec': 6951, 'flee': 7584, 'duel': 6205, 'reinterpret': 16591, 'carl': 3505, 'fredricksen': 7859, 'globe': 8469, 'fullest': 7983, '78': 490, 'persist': 15173, '8year': 506, 'wilder': 22117, 'russel': 17250, 'leas': 11577, 'price': 15798, 'macabr': 12211, 'annoy': 1278, 'feroci': 7375, '18': 116, 'min': 13123, '2029': 297, 'barrier': 2062, 'net': 13903, 'cybernet': 5054, 'vulner': 21737, 'brainhack': 2888, 'highlyw': 9432, 'puppetmast': 16042, 'enhanc': 6661, 'bumpi': 3160, 'riley': 16929, 'uproot': 21289, 'midwest': 13053, 'anger': 1240, 'disgust': 5781, 'sadnessl': 17319, 'headquart': 9212, 'centr': 3712, 'advis': 756, 'navig': 13796, 'neurosurgeon': 13917, 'frankenstein': 7833, 'hunchback': 9788, 'pretti': 15783, 'lab': 11343, 'housekeep': 9714, 'describ': 5529, 'reanim': 16401, 'thirteen': 20176, 'malawi': 12346, 'invent': 10345, 'unconvent': 20988, 'famin': 7197, 'pacif': 14770, 'northwest': 14155, 'munni': 13608, 'onceruthless': 14458, 'hog': 9543, 'motherless': 13488, 'bountyhunt': 2825, 'greenhorn': 8696, 'sheriff': 18115, 'arrog': 1555, 'report': 16714, 'exploit': 7036, 'revit': 16838, 'fascin': 7244, 'rebecca': 16417, 'max': 12690, 'jealou': 10572, 'danver': 5169, 'smogchok': 18576, 'dystopian': 6291, 'lo': 11903, 'angel': 1230, '2019': 288, 'rick': 16890, 'deckard': 5330, 'quartet': 16108, 'replic': 16710, 'enrag': 6675, 'murron': 13629, 'scottish': 17652, 'wallac': 21790, 'slay': 18480, 'platoon': 15426, 'satan': 17484, 'settl': 17955, 'wager': 21759, 'faust': 7286, 'prayer': 15695, 'alchemist': 923, 'tomboyish': 20400, 'chines': 3934, 'hun': 9786, 'wisecrack': 22185, 'mushu': 13641, 'mulan': 13568, 'li': 11721, 'llewelyn': 11900, 'moss': 13472, 'texa': 20095, 'method': 12969, 'anton': 1341, 'chigurh': 3905, 'ed': 6362, 'predat': 15713, 'blur': 2641, 'atrisk': 1685, 'toler': 20391, 'appli': 1402, 'educ': 6380, 'valley': 21388, 'wind': 22151, 'stronghold': 19359, 'untouch': 21237, 'poison': 15504, 'insect': 10232, 'nausicaä': 13789, 'alzheim': 1079, 'dynam': 6283, 'concert': 4445, 'loui': 12047, 'ck': 4054, '40': 402, 'hadbut': 8919, 'headstrong': 9213, 'afghanistan': 777, 'taliban': 19842, 'down': 6036, 'bomber': 2706, 'demarc': 5449, 'northern': 14151, 'blunder': 2638, 'finger': 7463, 'cut': 5037, 'lourd': 12058, 'hold': 9555, 'biblic': 2415, 'keyboard': 11055, 'charit': 3800, 'rockwel': 17042, 'main': 12308, 'octob': 14322, 'metal': 12956, 'nineyearold': 14041, 'unselfishli': 21208, 'privat': 15840, 'gitt': 8417, 'murki': 13624, 'climat': 4136, 'sunbak': 19502, 'preworld': 15794, 'socialit': 18664, 'swept': 19691, 'maelstrom': 12270, 'web': 21928, 'scandal': 17549, 'crash': 4821, 'indiana': 10113, 'jone': 10744, 'tweedsuit': 20810, 'celebr': 3682, 'archaeologist': 1448, 'ark': 1497, 'coven': 4775, 'twenti': 20815, 'malik': 12363, 'worldth': 22294, 'autist': 1756, 'nonprofit': 14117, 'underprivileg': 21022, 'caregiv': 3493, 'institut': 10259, 'mulholland': 13573, 'david': 5229, 'lynch': 12191, 'retool': 16800, 'script': 17678, '94minut': 522, 'cowritten': 4795, 'joyc': 10783, 'eliason': 6482, 'abc': 548, 'approv': 1414, 'chose': 3965, '1999': 255, 'labour': 11349, 'limbo': 11810, 'canal': 3405, 'plu': 15462, 'straight': 19281, 'budget': 3121, 'twohour': 20841, '27minut': 362, '14': 61, 'reconstruct': 16468, 'verdoux': 21490, 'sociopath': 18670, 'attain': 1691, 'incom': 10075, 'laidoff': 11377, 'spree': 18972, 'particular': 14937, 'stair': 19043, '11th': 37, 'wizardwith': 22217, 'witchcraft': 22194, 'wizardri': 22216, 'har': 9071, 'kindli': 11111, 'deathsand': 5291, 'who': 22072, 'blame': 2545, 'serialkil': 17930, 'whereabout': 22039, 'stash': 19114, 'entrepreneur': 6711, 'secretli': 17744, 'prehistor': 15727, 'dna': 5886, 'grandchildren': 8642, 'calm': 3361, 'investor': 10351, 'offlin': 14361, 'clutch': 4184, 'jabba': 10476, 'hutt': 9835, 'rebellion': 16420, 'dread': 6095, 'slatternli': 18471, 'quill': 16140, 'orb': 14544, 'ronan': 17102, 'améli': 1169, 'ameli': 1116, 'allaround': 986, 'dogood': 5915, 'bump': 3159, 'jame': 10520, 'bowen': 2842, 'busker': 3228, 'dublin': 6189, 'currenc': 5021, 'kozodoyev': 11250, 'exemplari': 6956, 'semyon': 17867, 'semyonovich': 17868, 'gorbunkov': 8579, 'cruis': 4944, 'sail': 17339, 'pick': 15289, 'eastern': 6331, 'plaster': 15418, 'swindler': 19701, 'impos': 10017, 'belfast': 2263, 'gerri': 8305, 'conlon': 4497, 'fals': 7177, 'implic': 10012, 'ira': 10379, 'pub': 15999, 'coerc': 4245, 'confess': 4469, 'ripley': 16950, 'lifepod': 11774, 'salvag': 17390, '50': 428, 'terraform': 20061, 'colonist': 4318, 'storyal': 19270, 'rancher': 16283, 'muster': 13654, 'deputi': 5515, 'disgrac': 5777, 'drunk': 6175, 'cantanker': 3435, 'gun': 8860, 'meantim': 12800, 'presenc': 15756, 'gunsling': 8874, 'stagecoach': 19040, 'atreid': 1683, 'destini': 5555, 'malevol': 12357, 'exclus': 6943, 'resourc': 16762, 'existencea': 6988, 'potentialonli': 15651, 'renegad': 16672, 'crazi': 4834, 'bu': 3099, 'stuck': 19374, 'pois': 15503, 'lifechang': 11758, 'ww2': 22362, 'twelv': 20813, 'bondarev': 2716, 'sympathet': 19744, 'overwhelm': 14744, 'suffoc': 19463, 'ann': 1268, 'sed': 17751, 'asleep': 1610, 'bradley': 2880, 'regal': 16542, 'bet': 2377, 'editor': 6374, 'poland': 15513, 'troup': 20690, 'embroil': 6556, 'polish': 15530, 'unsatisfactori': 21198, 'importantli': 10015, 'alongsid': 1042, 'daigo': 5105, 'cellist': 3693, 'laid': 11375, 'orchestra': 14552, 'cheaper': 3836, 'departur': 5498, 'perman': 15154, 'undertak': 21029, 'shopkeep': 18182, 'cesira': 3732, '13yearold': 60, 'rosetta': 17137, 'onward': 14501, 'michel': 13001, 'mamma': 12385, 'roma': 17076, 'buy': 3250, 'fruit': 7957, 'reestablish': 16521, 'pimp': 15335, 'sordid': 18774, 'shizuku': 18164, 'librari': 11736, 'previous': 15791, 'seiji': 17778, 'amasawa': 1094, 'alcohol': 924, 'gin': 8381, 'drag': 6069, 'hana': 9016, 'runaway': 17237, 'miyuki': 13262, 'misfit': 13207, 'sherlock': 18117, 'holm': 9572, 'watson': 21882, '1890': 147, 'tonight': 20416, 'papa': 14856, 'grandpa': 8653, 'exampl': 6923, 'opinion': 14516, 'timeworn': 20319, 'whatev': 22028, 'vigilant': 21582, 'conduct': 4461, 'selma': 17847, 'czech': 5075, 'immigr': 9984, 'genet': 8233, 'disord': 5803, 'expens': 7023, 'rhythmic': 16871, 'erad': 6749, 'humankind': 9764, 'un': 20930, 'nerv': 13888, 'tokyo3': 20387, 'makinami': 12334, 'illustr': 9959, 'langley': 11428, 'shikinami': 18134, 'gendo': 8224, 'ikari': 9932, 'seel': 17762, 'proceed': 15858, 'interpret': 10309, '18thcenturi': 155, 'arcadia': 1442, 'arcan': 1443, 'reawaken': 16414, 'primordi': 15818, 'cindi': 4020, 'fernanda': 7370, 'perk': 15151, 'unmarri': 21147, 'media': 12817, 'spotlight': 18965, 'mindbend': 13130, 'deadend': 5258, 'highprofil': 9438, 'wheelchair': 22032, 'rocki': 17034, 'neither': 13861, 'neil': 13859, 'mccauley': 12733, 'topnotch': 20430, 'hanna': 9046, 'awar': 1803, 'catandmous': 3610, 'delassal': 5413, 'meek': 12833, 'brazenli': 2925, 'flaunt': 7573, 'unhing': 21099, 'corps': 4675, 'renown': 16683, 'astrophysicist': 1657, 'stephen': 19179, 'hawk': 9181, 'cambridg': 3371, 'novemb': 14202, '1918': 170, 'armistic': 1525, 'lieuten': 11750, 'pradel': 15686, 'senseless': 17883, 'useless': 21318, 'bind': 2462, 'common': 4385, 'édouard': 22639, 'albert': 913, 'misfortun': 13208, 'juli': 10816, 'bryce': 3095, 'reconsid': 16467, 'skewer': 18420, 'greek': 8694, '1960': 213, 'leftist': 11608, 'rabbl': 16164, 'rouser': 17174, 'traffic': 20523, 'activist': 672, 'zs': 22619, 'postmortem': 15635, 'suggest': 19468, 'leak': 11570, 'honesti': 9610, 'jerri': 10628, 'smalltown': 18554, 'minnesota': 13161, 'burst': 3200, 'seam': 17710, 'hefti': 9281, 'snap': 18605, 'hurt': 9815, 'marg': 12496, 'coffeedrink': 4249, 'parkawear': 14914, 'wholl': 22080, 'betcha': 2381, 'disboard': 5746, 'riku': 16928, 'angri': 1249, 'sixteen': 18391, 'sentient': 17892, 'deu': 5584, 'lawless': 11536, 'weak': 21908, 'exmachina': 6994, 'schwi': 17623, 'cluster': 4183, 'individu': 10127, 'tow': 20494, 'station': 19126, 'solari': 18691, 'cosmonaut': 4705, 'rojo': 17063, 'regiment': 16556, 'weapon': 21917, 'insert': 10238, 'benefit': 2305, 'read': 16381, 'aloud': 1045, 'notebook': 14174, 'myriad': 13668, 'crise': 4881, 'mauric': 12681, 'devic': 5599, 'demonstr': 5469, 'amount': 1158, 'clever': 4126, 'ingenu': 10182, 'documentari': 5899, 'genya': 8267, 'tachibana': 19785, 'chiyoko': 3946, 'fujiwara': 7977, 'vanish': 21415, 'longheld': 11977, 'pastor': 14971, 'fisherman': 7514, 'twentieth': 20816, 'pension': 15109, 'umberto': 20924, 'domenico': 5941, 'protest': 15943, 'hike': 9457, 'oldag': 14403, 'landladi': 11410, 'demand': 5448, '15000lire': 77, 'fake': 7165, 'temporari': 20017, 'safekeep': 17326, 'saddl': 17312, 'girlwho': 8412, 'daughterand': 5221, 'latt': 11494, 'sebastian': 17727, 'scrape': 17662, 'cocktail': 4227, 'gig': 8358, 'dingi': 5702, 'fray': 7851, 'fragil': 7811, 'rip': 16947, 'unwaveringli': 21248, 'roar': 16992, 'unborn': 20961, 'associ': 1637, 'onebyon': 14466, 'list': 11864, 'grizz': 8762, 'panda': 14839, 'ice': 9883, 'canada': 3403, 'architect': 1460, 'basi': 2085, 'vanguard': 21413, 'wave': 21885, 'previou': 15790, 'ponder': 15547, 'wrought': 22354, 'atom': 1680, 'drop': 6144, 'hungarian': 9793, 'plain': 15400, 'provinci': 15958, 'frost': 7951, 'bitterli': 2512, 'snow': 18625, 'bewild': 2396, 'tent': 20041, 'squar': 19008, 'outcom': 14639, 'stuf': 19382, 'carcass': 3476, 'whale': 22023, 'everywher': 6895, 'clumsi': 4181, 'dumb': 6221, 'faceless': 7129, 'ragwear': 16220, 'crowd': 4928, 'disturb': 5851, 'personag': 15176, 'advantag': 743, 'unbear': 20957, 'gordi': 8581, 'chri': 3970, 'vern': 21502, 'brower': 3072, 'pluck': 15463, 'blueberri': 2632, 'mute': 13657, 'pakistan': 14804, 'devot': 5613, 'magnanim': 12285, 'motherland': 13487, '101yearold': 17, 'rose': 17131, 'dewitt': 5619, 'bukat': 3138, '84': 501, 'dawson': 5235, 'fabrizio': 7122, 'rossi': 17145, 'thirdclass': 20172, 'ticket': 20275, 'deathon': 5289, 'voyageon': 21726, 'april': 1415, '1912': 166, 'shep': 18107, 'reprogram': 16722, 'crescendol': 4860, 'soulless': 18792, 'shoplift': 18183, 'session': 17948, 'osamu': 14593, 'freez': 7881, 'ninja': 14042, 'hagoromo': 8933, 'otsutsuki': 14623, 'gedo': 8198, 'statu': 19130, 'meteor': 12962, 'kaguya': 10881, 'toneri': 20411, 'hinata': 9479, 'hyuga': 9869, 'hanabi': 9017, 'naruto': 13755, 'theodor': 20136, 'user': 21319, 'scienc': 17625, 'sweet': 19683, 'technolog': 19964, 'anchorman': 1197, 'beal': 2165, '25year': 355, 'announc': 1277, 'farewel': 7222, 'rethink': 16794, 'fanat': 7201, 'tirad': 20342, 'spike': 18920, 'rate': 16338, '2006': 275, 'smart': 18555, 'argentina': 1478, 'afterward': 796, 'cha': 3738, 'constantin': 4538, 'chass': 3822, 'trish': 20663, 'coma': 4337, 'influenti': 10173, 'aztec': 1836, 'mictlantecuhtli': 13022, 'outsmart': 14675, 'beroul': 2360, 'underbelli': 21002, 'outwit': 14681, 'spawn': 18866, 'archnemesi': 1466, 'nergal': 13884, 'inner': 10211, 'drunkard': 6176, 'evok': 6906, 'sinner': 18363, 'phantom': 15221, 'chariot': 3797, 'oscarwin': 14598, 'anim': 1256, 'winston': 22171, 'bite': 2507, 'meal': 12792, 'outbreak': 14635, 'canin': 3420, 'flu': 7641, 'mayor': 12709, 'banish': 1988, 'pet': 15197, 'cusp': 5032, '30th': 377, 'jonathon': 10742, 'larson': 11462, 'taipei': 19814, 'quandari': 16098, 'laud': 11500, 'shingen': 18138, 'reluctantli': 16632, 'impostor': 10021, 'ruler': 17229, 'douzi': 6030, 'shitou': 18157, 'entitl': 6703, 'concubin': 4455, 'juxian': 10865, 'breakup': 2944, 'onset': 14497, 'unflinch': 21077, 'burgeon': 3176, 'epidem': 6731, 'denial': 5479, 'stork': 19265, 'stratospher': 19309, 'cloud': 4163, 'sculpt': 17691, 'gu': 8812, 'grey': 8723, 'crocodil': 4893, 'porcupin': 15585, 'ram': 16256, 'guss': 8882, 'creation': 4841, 'deliveri': 5428, 'peck': 15054, 'rambuncti': 16263, 'hazard': 9194, 'cargo': 3500, 'fieri': 7419, 'tempera': 20009, 'familyfriendli': 7191, 'elizabeth': 6499, 'collater': 4289, 'energ': 6645, 'bpm': 2871, 'sort': 18785, 'weakest': 21911, 'scrutini': 17686, 'melissa': 12871, 'commiss': 4376, 'graphic': 8661, 'novelist': 14199, 'harlan': 9110, 'thrombey': 20237, '85th': 502, 'inquisit': 10227, 'debonair': 5300, 'benoit': 2326, 'blanc': 2546, 'sift': 18282, 'her': 9344, 'selfserv': 17840, 'untim': 21235, 'melbourn': 12866, 'fortyfouryear': 7765, 'obes': 14269, 'mid1970': 13025, 'friendless': 7919, 'chocol': 3950, '20year': 320, 'correspond': 4682, 'tall': 19847, 'erik': 6758, 'dexter': 5621, 'elevenyearold': 6475, 'northsouth': 14152, 'borderdmz': 2775, 'neutral': 13919, 'swissswedish': 19709, 'cheolmin': 3868, 'parttim': 14948, 'booth': 2760, 'stare': 19090, 'junghwa': 10838, 'shmuel': 18165, 'fenc': 7358, 'stripe': 19348, 'pajama': 14803, 'nemo': 13868, 'centenarian': 3706, '2092': 315, 'shop': 18181, 'disney': 5799, 'isl': 10431, 'batch': 2106, 'offspr': 14366, 'auradon': 1734, '90': 509, 'outskirt': 14674, 'ostia': 14612, 'synthet': 19757, 'vittorio': 21661, 'joad': 10692, 'foreclosur': 7714, 'careerdefin': 3487, 'alain': 900, 'delon': 5436, 'jef': 10595, 'costello': 4712, 'contract': 4580, 'instinct': 10258, 'flawlessli': 7579, 'armor': 1527, 'fedora': 7323, 'trench': 20609, 'coat': 4205, 'elegantli': 6466, 'styliz': 19399, 'cool': 4610, 'maverick': 12686, 'jeanpierr': 10587, 'melvil': 12882, 'samouraï': 17407, 'razorsharp': 16372, 'cinema': 4021, 'culturewith': 4995, 'dose': 6010, 'lonewarrior': 11957, 'mytholog': 13678, 'fiveyear': 7537, 'jewel': 10650, 'mado': 12260, 'pierr': 15307, 'grutter': 8807, 'smashandgrab': 18563, 'dunbar': 6232, 'suicideand': 19470, 'reward': 16850, 'junction': 10835, 'frontier': 7944, 'sioux': 18365, 'decrepit': 5346, 'roadsid': 16988, 'ramen': 16264, 'noodl': 14124, 'tampopo': 19862, 'paragon': 14875, 'soup': 18805, 'gil': 8365, 'carter': 3554, 'croft': 4894, 'nevada': 13923, 'cattl': 3635, 'rustler': 17259, 'poss': 15617, 'hang': 9039, 'nash': 13759, 'asoci': 1613, 'mathematician': 12648, 'schizophrenia': 17591, 'cryptographi': 4961, 'jeffrey': 10599, 'dude': 6202, 'lebowski': 11587, 'slacker': 18455, 'bowl': 2847, 'drink': 6129, 'millionair': 13109, 'nihilist': 14016, 'ferret': 7379, 'errant': 6771, 'toe': 20375, 'sum': 19488, 'virgil': 21628, 'oldman': 14408, 'antiqu': 1330, 'auction': 1714, 'solitari': 18704, 'length': 11647, 'messi': 12949, 'clair': 4058, 'overse': 14727, 'valuat': 21396, 'sale': 17362, 'engulf': 6660, 'semiretir': 17864, 'michigan': 13007, 'biegler': 2423, 'manion': 12428, 'innkeep': 10216, 'extens': 7068, 'parri': 14927, 'lodwick': 11932, 'outoftown': 14664, 'client': 4131, 'rag': 16212, 'upperclass': 21278, 'twentysometh': 20822, 'checkbook': 3843, 'havent': 9174, 'penitentiari': 15099, 'bangu': 1986, 'lieutenantcolonel': 11751, 'andré': 1224, 'matia': 12654, 'diogo': 5709, 'fraga': 7810, 'transfer': 20545, 'exoner': 7003, '7yearold': 493, 'helen': 9304, 'infanc': 10152, 'heard': 9225, 'express': 7050, 'innermost': 10215, 'anni': 1273, 'sullivan': 19483, '20yearold': 321, 'nononsens': 14115, 'tool': 20421, 'pupil': 16039, 'rosi': 17141, 'fleet': 7586, 'cottag': 4716, 'frustrat': 7960, 'minu': 13169, 'haughti': 9165, 'beset': 2366, 'marquess': 12559, 'grillo': 8739, 'goodnatur': 8565, 'unlucki': 21143, 'mood': 13394, 'damiel': 5129, 'cassiel': 3587, 'glide': 8455, 'bustl': 3232, 'popul': 15579, 'invis': 10354, 'trapez': 20567, 'falk': 7169, 'puertorican': 16011, 'pledg': 15455, 'nyc': 14244, 'collis': 4305, 'fernand': 7369, 'naudin': 13786, 'supremo': 19593, 'ambival': 1110, 'wealth': 21914, 'nonpluss': 14116, 'benefactor': 2304, 'patricia': 14991, 'thoroughli': 20198, 'nauseat': 13788, 'triggerhappi': 20645, 'tire': 20344, '31': 381, 'bag': 1915, 'skellington': 18416, 'spindli': 18926, 'halloween': 8989, 'shrunken': 18237, 'ghoulish': 8337, 'ragdol': 16214, 'salli': 17375, 'foil': 7672, 'mandatori': 12400, 'fit': 7522, 'courier': 4756, 'descent': 5528, '19yearold': 259, 'tomek': 20403, 'while': 22046, 'neighbour': 13857, 'magda': 12274, 'binocular': 2467, 'midthirti': 13050, 'stream': 19314, 'beck': 2201, 'patrician': 14992, 'boeldieu': 2674, 'maréchal': 12598, 'grappl': 8662, 'concoct': 4453, 'rauffenstein': 16352, 'adjudah': 702, 'benhur': 2310, 'judea': 10801, 'friendturnedoverlord': 7927, 'grate': 8667, 'galley': 8081, 'background': 1878, 'bacurau': 1894, 'sertão': 17939, 'mourn': 13519, 'matriarch': 12658, 'carmelita': 3517, '94': 521, 'map': 12468, 'blanca': 2547, 'xuan': 22396, 'snake': 18602, 'catcher': 3617, 'darker': 5184, 'vy': 21741, 'betti': 2392, 'elm': 6509, 'brunett': 3082, 'amnesia': 1149, 'adam': 681, 'kesher': 11049, 'omin': 14439, 'latest': 11482, 'christian': 3977, 'töre': 20869, 'märeta': 13682, 'unrepent': 21192, 'ingeri': 10184, 'savag': 17506, 'goat': 8494, 'herder': 9355, 'farmhous': 7230, 'rahul': 16222, 'yash': 22419, 'raichand': 16225, 'etern': 6823, 'gratitud': 8670, 'forbid': 7704, 'anjali': 1265, 'sisterinlaw': 18374, 'broker': 3044, 'expeditionari': 7020, 'capit': 3450, 'victori': 21559, 'surrend': 19614, 'incognito': 10074, 'merit': 12926, 'teto': 20091, 'paula': 15009, 'spin': 18922, 'mordecai': 13418, 'rigbi': 16913, 'volleybal': 21702, 'subsequ': 19425, 'coast': 4199, 'remov': 16656, 'mine': 13139, 'sand': 17420, 'crawl': 4830, 'leadership': 11563, 'carson': 3549, 'worldrenown': 22293, '1961': 214, '1987': 243, 'bitter': 2510, 'anguish': 1253, 'ell': 6502, 'longdist': 11966, 'noah': 14063, 'besti': 2373, 'lee': 11597, 'tilford': 20301, 'lake': 11382, 'templ': 20013, 'robber': 16998, 'dizzi': 5877, 'accomplic': 620, 'gymnasium': 8901, 'site': 18378, 'loot': 12012, 'substitut': 19430, 'unruli': 21196, 'easier': 6326, 'clownfish': 4171, 'reef': 16508, 'dentist': 5492, 'aquarium': 1422, 'worrisom': 22304, 'marlin': 12549, 'dori': 5996, 'vegetarian': 21455, 'surfer': 19598, 'turtl': 20786, 'hypnot': 9859, 'jellyfish': 10605, 'hungri': 9796, 'seagul': 17707, 'shishio': 18156, 'ironclad': 10400, 'techniqu': 19962, 'emori': 6582, '1992': 248, 'athlet': 1668, 'christoph': 3984, 'mccandless': 12729, '24000': 338, 'molest': 13308, 'coverup': 4781, 'archdioces': 1451, 'goblet': 8498, 'competitor': 4405, 'gruel': 8799, 'glori': 8475, 'schoolsth': 17614, 'triwizard': 20671, 'submit': 19420, 'maze': 12713, 'grasp': 8664, 'cowboy': 4790, 'shepherd': 18109, '63': 459, 'raw': 16360, 'ricki': 16892, 'gervai': 8310, 'sling': 18516, 'snark': 18607, 'wrote': 22353, 'yan': 22408, 'lau': 11499, 'kin': 11104, 'ming': 13145, 'chen': 3863, 'inspector': 10248, 'schoolteach': 17615, 'bertram': 2364, 'cate': 3618, 'darwin': 5207, 'evolut': 6907, 'ek': 6435, 'hornbeck': 9652, 'arrang': 1547, 'atheist': 1665, 'drummond': 6174, 'matthew': 12666, 'bradi': 2879, 'presidenti': 15765, 'candid': 3413, 'evangelist': 6854, 'adversari': 752, 'pow': 15667, 'burma': 3188, 'bridg': 2988, 'conspir': 4532, 'col': 4273, 'nicholson': 13984, 'supervis': 19577, 'construct': 4546, 'acquir': 652, 'sustain': 19639, 'gi': 8339, 'mike': 13072, 'wazowski': 21903, 'fiesti': 7420, 'unseen': 21207, 'motorcycl': 13500, 'empti': 6601, 'eat': 6334, 'laundri': 11509, 'ostens': 14610, 'wojtowicz': 22221, 'salvator': 17392, 'natural': 13784, 'sonni': 18749, 'sal': 17356, 'sour': 18806, 'escal': 6782, 'standoff': 19072, 'rosemari': 17134, 'purpos': 16056, 'goku': 8528, 'vegeta': 21454, 'saiyan': 17347, 'broli': 3045, 'what': 22027, 'stupend': 19391, 'frieza': 7928, 'kati': 10968, 'confin': 4477, 'smallest': 18549, 'sunlight': 19516, 'interven': 10318, 'godzilla': 8515, 'spectacular': 18880, 'turnofthecenturi': 20785, 'presto': 15771, 'rabbit': 16161, 'sleev': 18496, 'technic': 19958, 'defect': 5374, 'mistakenli': 13237, 'presid': 15762, 'sr': 19022, 'grail': 8635, 'emin': 6570, 'brodi': 3038, 'sallah': 17374, 'elsa': 6518, 'schneider': 17599, 'kurt': 11318, 'elli': 6505, 'seeband': 17758, 'dismay': 5795, 'surf': 19596, 'gabe': 8042, 'didnt': 5657, 'paulett': 15011, 'burial': 3183, 'ground': 8782, 'deceas': 5317, 'wartim': 21850, 'thanksgiv': 20109, 'streetsmart': 19324, 'grace': 8617, 'supervisor': 19578, 'facil': 7135, 'dredg': 6111, 'exterior': 7070, 'erod': 6767, 'kwon': 11327, 'yoo': 22462, 'yeowool': 22436, 'hood': 9622, 'effici': 6395, 'ethic': 6829, 'logan': 11937, 'hideout': 9411, 'border': 2774, 'sunjin': 19512, 'fragion': 7812, 'pizzeria': 15390, 'neighborhood': 13856, 'buggin': 3132, 'upset': 21291, 'showcas': 18215, 'disagre': 5731, 'symbol': 19742, 'mabel': 12207, 'longhetti': 11978, 'municip': 13606, 'crave': 4827, 'volatil': 21694, 'pose': 15612, 'arthur': 1565, 'squir': 19018, 'tabl': 19776, 'bedever': 2210, 'lancelot': 11403, 'brave': 2916, 'robin': 17010, 'notquitesobraveassirlancelot': 14183, 'galahad': 8068, 'pure': 16045, 'limb': 11809, 'chop': 3958, 'insist': 10244, 'camelot': 3375, 'zucchini': 22620, 'raymond': 16367, 'michelangelo': 13003, 'antonioni': 1347, 'vittoria': 21660, 'literari': 11870, 'translat': 20553, 'riccardo': 16879, 'piero': 15306, 'stock': 19236, 'yorkshir': 22470, 'numb': 14224, 'bing': 2463, 'casual': 3600, 'sex': 17978, 'romanian': 17083, 'migrant': 13065, 'battosai': 2131, 'tomo': 20407, 'burden': 3171, 'maud': 12676, 'lewi': 11711, 'fishmong': 7517, 'livein': 11883, 'wael': 21756, 'scam': 17544, 'partnerincrim': 14944, 'moniqu': 13342, 'swindl': 19700, 'acquaint': 651, 'interim': 10294, 'redeem': 16487, 'tr': 20510, 'devlin': 5607, 'huberman': 9736, 'convict': 4599, 'instruct': 10262, 'higher': 9417, 'slip': 18517, 'traffick': 20524, 'rub': 17199, 'shoulder': 18206, 'dounia': 6028, 'lust': 12175, 'maimouna': 12307, 'djigui': 5882, 'disturbingli': 5852, 'public': 16002, 'raquel': 16322, 'ceci': 3674, 'instantli': 10254, 'bore': 2779, 'housewif': 9720, 'laura': 11512, 'jesson': 10636, 'happenst': 9065, 'virtuou': 21638, 'alec': 932, 'weekli': 21944, 'wrestl': 22335, 'havoc': 9176, 'deepen': 5357, 'bunni': 3168, 'manipul': 12429, 'filumena': 7448, 'usmexico': 21325, 'varga': 21425, 'hank': 9044, 'quinlan': 16142, 'shadi': 18009, 'menzi': 12912, 'susi': 19630, 'jeopardi': 10619, 'rupert': 17243, 'pupkin': 16040, 'talkshow': 19846, 'privaci': 15839, 'ekdahl': 6436, 'fanni': 7205, 'joyless': 10784, 'emili': 6566, 'bishop': 2502, 'bleak': 2567, 'wors': 22306, 'valiant': 21381, 'honest': 9609, 'rhyme': 16869, 'hardcor': 9081, 'began': 2232, 'outta': 14679, 'compton': 4425, 'rebelsarm': 16421, 'lyric': 12199, 'bravado': 2915, 'talentstood': 19841, 'meant': 12799, 'nwa': 14241, 'spoke': 18947, 'reverber': 16829, 'today': 20371, 'box': 2850, 'promot': 15905, 'bookmak': 2748, 'incompet': 10077, 'amateur': 1096, 'supposedli': 19588, 'monument': 13390, 'windstorm': 22157, 'manhood': 12418, 'horrend': 9657, 'haddock': 8920, 'iii': 9929, 'rite': 16965, 'passag': 14956, 'mettl': 12978, 'chagrin': 3742, 'dwarf': 6271, 'celestin': 3686, 'dental': 5490, 'ernest': 6762, 'outlet': 14654, 'enmiti': 6670, 'doorman': 5980, 'scorn': 17644, 'aviat': 1791, 'jiro': 10684, 'horikoshi': 9645, 'a6m': 532, 'plane': 15404, 'lisbela': 11860, 'leléu': 11638, 'ceremoni': 3725, 'cheesi': 3854, 'gorilla': 8587, 'linaura': 11826, 'hitman': 9518, 'hurri': 9813, 'dougla': 6027, 'hillbilli': 9466, 'cosmopolitan': 4706, 'dweller': 6277, 'saverio': 17515, 'schoolkeep': 17611, '15th': 86, 'da': 5082, 'vinci': 21608, 'columbu': 4332, 'beatless': 2180, 'etc': 6822, 'disillusion': 5787, 'souldestroy': 18791, 'horror': 9664, 'conceiv': 4440, 'sad': 17307, '1984': 240, 'margaret': 12497, 'thatcher': 20116, 'minework': 13144, 'num': 14223, 'lgsm': 11719, 'embarrass': 6543, 'soundstag': 18802, 'stylishli': 19397, 'util': 21336, 'minimalist': 13152, 'twofac': 20840, 'townspeopl': 20503, 'flare': 7562, 'helpless': 9323, 'provok': 15961, 'contempt': 4564, 'dogvil': 5919, 'elf': 6476, 'tie': 20282, 'lethal': 11693, 'pharmaceut': 15223, 'multipli': 13590, 'seibei': 17776, 'iguchi': 9927, 'nineteenth': 14038, 'meager': 12790, 'senil': 17875, 'prospect': 15931, 'preced': 15699, 'celi': 3687, 'bigotri': 2441, 'equal': 6739, 'debas': 5293, 'mister': 13238, 'companionship': 4393, 'anywher': 1362, 'persever': 15170, 'titl': 20354, 'archaic': 1449, 'antholog': 1298, 'blizzard': 2593, 'maiden': 12302, 'hoichi': 9551, 'relat': 16605, 'reflect': 16529, 'teacup': 19941, 'joongho': 10752, 'dirti': 5727, 'utopia': 21338, 'untam': 21230, 'elus': 6524, 'mate': 12638, 'furi': 8014, 'pittsburgh': 15383, 'pennsylvania': 15106, '1991': 247, 'wallflow': 21795, 'sidelin': 18268, 'stepbroth': 19169, 'mentor': 12907, 'belong': 2288, 'improb': 10031, 'uppermiddl': 21280, 'hach': 8913, 'impuls': 10036, 'unconsci': 20985, 'embodi': 6553, 'motorbik': 13497, 'impastato': 9994, 'openli': 14506, 'cinisi': 4026, 'tano': 19880, 'badalamenti': 1897, 'biplan': 2482, 'adriat': 731, 'scourg': 17655, 'porco': 15584, 'rosso': 17146, 'somehow': 18721, 'pig': 15316, 'spunki': 18990, 'mechan': 12808, 'fio': 7474, 'piccolo': 15288, 'longtim': 11996, 'madam': 12244, 'gina': 8382, 'horcrux': 9642, 'bid': 2420, 'dumbledor': 6223, 'eater': 6336, 'paprika': 14864, 'makoto': 12337, 'konno': 11228, 'leap': 11574, 'backward': 1887, 'mishap': 13212, 'shape': 18049, 'coasttocoast': 4204, 'alvi': 1074, 'ditsi': 5855, 'loi': 11942, 'lane': 11422, 'freedomfight': 7864, 'piou': 15357, 'sawmil': 17527, 'dress': 6115, 'parish': 14911, 'charismat': 3799, 'prior': 15830, 'edward': 6383, 'pictur': 15298, 'amaz': 1099, 'kyungchul': 11336, 'infern': 10159, 'diabol': 5629, 'jooyeon': 10753, 'horrif': 9660, 'fianc': 7398, 'soohyun': 18753, 'emce': 6557, '1500': 75, 'sailor': 17341, 'takicardi': 19832, 'quak': 16091, 'vetiiifontviiietviiifontxvi': 21533, 'pastim': 14970, 'archenemi': 1453, 'cheeki': 3847, 'mockingbird': 13277, 'thwart': 20259, 'shepherdess': 18110, 'ala': 893, 'chimneysweep': 3927, 'elop': 6512, 'palac': 14808, 'guil': 8837, 'shotgun': 18203, 'patron': 14998, 'allnight': 1015, 'diner': 5701, 'ruben': 17203, 'worsen': 22307, 'lou': 12039, 'rehab': 16570, 'relaps': 16604, 'welcom': 21958, 'biograph': 2471, 'selena': 17788, 'quintanilla': 16144, 'mexicanamerican': 12982, 'abraham': 578, 'perez': 15136, 'ire': 10388, 'stardom': 19089, 'englishlanguag': 6656, 'saturday': 17495, 'powerhungri': 15675, 'princip': 15825, 'allison': 1012, 'braini': 2889, 'andrew': 1216, 'jock': 10704, 'whether': 22044, 'liar': 11726, 'statuett': 19132, 'griev': 8732, 'void': 21692, 'biopic': 2478, 'grandin': 8647, 'livestock': 11888, 'cohen': 4259, 'messiah': 12950, 'dodg': 5903, 'scold': 17632, 'shrill': 18230, 'hapless': 9062, 'pompou': 15545, 'pontiu': 15554, 'pilat': 15325, 'acronymobsess': 658, 'separatist': 17899, 'rife': 16907, 'monti': 13381, 'python': 16082, 'signatur': 18291, 'parallel': 14879, 'lore': 12017, 'albeit': 912, 'laugh': 11502, 'coolest': 4613, 'brushogun': 3085, 'coralin': 4644, 'brick': 2981, 'everybodi': 6888, 'button': 3246, 'treasuri': 20595, 'elliot': 6506, 'ness': 13898, 'chicago': 3894, 'al': 892, 'capon': 3454, 'malon': 12372, 'patrolman': 14997, 'probabl': 15848, 'codger': 4241, 'geri': 8293, 'daylong': 5242, 'liveli': 11884, 'oppon': 14520, 'remi': 16646, 'sophist': 18762, 'palat': 14810, 'chef': 3856, 'culinari': 4985, 'delight': 5423, 'rat': 16332, 'rodent': 17048, 'ideal': 9901, 'outlaw': 14653, 'funer': 7999, 'deed': 5352, 'cultiv': 4992, 'stroke': 19352, 'monsieur': 13358, 'hulot': 9754, 'perplex': 15163, 'intimid': 10325, 'gadgetfil': 8050, 'roundabout': 17169, 'tourist': 20491, 'weav': 21926, 'intermitt': 10299, 'heavyweight': 9260, 'champion': 3761, 'apollo': 1381, 'creed': 4851, 'stunt': 19388, 'handler': 9027, 'palooka': 14825, 'balboa': 1940, 'uneduc': 21056, 'collector': 4294, 'philadelphia': 15237, 'mickey': 13012, 'goldmil': 8538, 'lifetim': 11780, 'brochant': 3035, 'wednesday': 21938, 'ecstat': 6360, 'pignon': 15322, 'jinx': 10683, 'declar': 5334, 'busan': 3205, 'fend': 7359, 'zed': 22551, 'addison': 689, 'seabrook': 17703, 'groundbreak': 8783, 'semest': 17853, 'steer': 19158, 'werewolv': 21999, 'rift': 16910, 'eight': 6416, 'selina': 17844, 'kyle': 11329, 'bane': 1984, 'resurfac': 16784, 'brand': 2897, 'airman': 862, 'bail': 1927, 'aeroplan': 763, 'parachut': 14868, 'radio': 16194, 'dispatch': 5810, 'kichi': 11067, 'swamp': 19659, 'hachi': 8914, 'disapprov': 5735, 'dreari': 6108, 'stalag': 19047, 'barrack': 2053, 'grave': 8672, 'problemther': 15855, 'stamp': 19062, 'sheet': 18090, 'counterfeit': 4735, 'bronx': 3053, 'youngster': 22486, 'requir': 16733, 'welfar': 21960, 'vivid': 21667, 'repetit': 16706, 'mismatch': 13216, 'onscreen': 14496, 'lavishli': 11529, 'screen': 17669, 'lifeaffirm': 11753, 'tevy': 20093, 'topol': 20432, 'milkman': 13100, 'czarist': 5074, 'nomin': 14092, 'selfish': 17824, 'yuppi': 22512, 'babbitt': 1848, 'savant': 17511, 'sparrow': 18859, 'freewheel': 7879, 'quarrel': 16103, 'pillag': 15332, 'port': 15594, 'royal': 17192, 'desol': 5542, 'otherworldli': 14621, 'landscap': 11419, 'fox': 7804, 'chicken': 3897, 'palermo': 14814, 'tommaso': 20405, 'buscetta': 3209, 'cosa': 4696, 'nostra': 14167, 'florida': 7629, 'sadist': 17317, 'yard': 22416, 'heavi': 9249, 'draglin': 6070, 'unbreak': 20962, 'stint': 19231, 'thorn': 20190, 'gloria': 8476, 'breed': 2952, '55yearold': 449, 'cape': 3447, 'cowl': 4792, 'quietli': 16137, 'felson': 7349, 'pool': 15564, 'hustler': 9828, 'attitud': 1703, 'fat': 7260, 'sleepaway': 18489, 'underneath': 21017, 'grandios': 8648, 'luckili': 12131, 'unapologet': 20943, 'stick': 19201, 'belliger': 2285, 'sayer': 17534, 'experiment': 7026, 'cataton': 3615, 'awe': 1809, 'rebirth': 16422, 'unutter': 21243, 'introvert': 10335, 'monterrey': 13376, 'sloweddown': 18535, 'cumbia': 4998, 'mixup': 13259, 'migrat': 13066, 'plussiz': 15476, 'inflat': 10169, 'baymax': 2146, 'hiro': 9497, 'hamada': 9001, 'hightech': 9451, '1913': 167, 'greedi': 8692, 'juan': 10794, 'miranda': 13178, 'mallori': 12368, 'republican': 16727, 'blast': 2559, 'shangchi': 18039, 'cowork': 4793, 'marksman': 12542, 'irrevoc': 10414, 'restless': 16773, 'landon': 11416, 'jami': 10524, 'minist': 13157, 'todo': 20374, 'firm': 7494, 'discrimin': 5767, 'stepfath': 19174, '10yearold': 27, 'ofelia': 14346, 'decay': 5316, 'labyrinth': 11351, 'faun': 7282, 'blue': 2631, 'togther': 20380, 'elwood': 6529, 'allboy': 989, 'rugbi': 17219, 'romeo': 17092, 'juliet': 10822, 'threw': 20229, 'judi': 10807, 'hopp': 9639, 'zootopia': 22614, 'scamartist': 17546, 'jubei': 10797, 'masterless': 12624, 'goldor': 8539, 'overthrow': 14739, 'waysand': 21900, 'polar': 15515, 'nypd': 14248, 'mcclane': 12736, 'loop': 12005, 'overtaken': 14735, 'lapd': 11440, 'sixtieth': 18398, 'conceal': 4437, 'showdown': 18216, 'pater': 14979, 'familia': 7186, 'provoc': 15960, 'afterdinn': 791, 'speech': 18888, 'dislodg': 5792, 'fatherson': 7272, 'perozzi': 15159, 'cemeteri': 3698, 'sheldon': 18097, 'snowi': 18636, 'colorado': 4320, 'wilk': 22131, 'miseri': 13204, 'chastain': 3823, 'merci': 12918, 'dualiti': 6183, 'randolph': 16291, 'duchess': 6194, 'rowena': 17183, 'geneviev': 8236, '11': 28, 'dancingthink': 5145, 'passageway': 14957, 'verdict': 21488, 'market': 12537, 'marko': 12540, 'blacki': 2529, 'manufactur': 12461, 'communist': 4389, 'belgrad': 2268, 'surreal': 19612, 'duplic': 6245, 'lengthi': 11648, 'belowground': 2291, 'reemerg': 16513, 'yugoslavian': 22502, 'ripe': 16948, '70': 476, 'alvin': 1075, 'lyle': 12188, 'wisconsin': 22179, 'iowa': 10371, 'licens': 11739, 'lawnmow': 11540, 'picturesqu': 15300, 'spiritu': 18936, 'lara': 11445, 'jean': 10575, 'uphold': 21272, 'level': 11704, 'intox': 10327, 'vi': 21540, 'abdic': 549, 'berti': 2363, 'stutter': 19394, 'unfit': 21075, 'unorthodox': 21162, 'lionel': 11850, 'logu': 11941, 'boldli': 2692, 'balloon': 1959, 'sunni': 19517, 'suspici': 19635, 'qualitiesand': 16094, 'perspect': 15180, 'spanish': 18850, 'ana': 1172, 'sevenyearold': 17971, 'hamlet': 9005, 'print': 15828, '1931': 183, 'profoundli': 15881, 'profund': 15882, 'barn': 2043, 'franco': 7829, 'gromit': 8769, 'bedroom': 2214, 'penguin': 15096, 'techno': 19963, 'pant': 14851, 'blockbust': 2598, 'timetravel': 20317, '2015': 284, 'nip': 14050, 'woe': 22220, 'thank': 20108, 'biff': 2425, 'tannen': 19877, 'peski': 15193, 'sport': 18960, 'almanac': 1030, 'lastditch': 11474, 'semibiograph': 17857, 'yip': 22446, 'chun': 3996, 'ip': 10372, 'foshan': 7771, 'sinojapanes': 18364, 'donni': 5967, 'yen': 22435, 'choreographi': 3963, 'sammo': 17406, 'hung': 9791, 'simm': 18320, 'preparatori': 15745, 'gresham': 8717, 'oregon': 14559, 'slade': 18456, 'hebrew': 9262, 'household': 9713, 'heritag': 9361, 'mose': 13470, 'reclaim': 16452, 'seduc': 17754, 'spat': 18864, 'lumin': 12157, 'yugoslavia': 22501, 'perhan': 15144, 'romani': 17081, 'telekinet': 19993, 'quickcash': 16129, 'jamal': 10519, 'hindi': 9481, 'bueno': 3123, 'economi': 6356, 'corralito': 4679, 'implement': 10010, 'nato': 13779, 'yugoslav': 22500, 'kosovo': 11242, 'region': 16560, 'serbian': 17915, 'albanian': 910, 'uck': 20877, 'slatina': 18469, 'peacekeep': 15038, 'decept': 5322, 'ygam': 22442, 'draag': 6063, 'humanoid': 9766, 'om': 14428, 'be': 2159, 'terra': 20059, 'ignor': 9924, 'hostil': 9685, 'ruthlessli': 17265, 'vermin': 21500, 'rossellini': 17144, 'trilog': 20648, 'paisà': 14801, 'zero': 22565, 'germanoccupi': 8300, 'edmund': 6376, 'kohler': 11212, 'mainli': 12311, 'houseelf': 9710, 'garcia': 8128, 'benni': 2323, '2026': 294, 'sword': 19719, 'augma': 1725, 'augment': 1726, 'nervegear': 13890, 'amuspher': 1168, 'consciou': 4516, 'applic': 1404, 'ordin': 14557, 'scale': 17540, 'roleplay': 17068, 'craze': 4833, 'kirito': 11141, 'reserv': 16745, '5yearold': 452, 'sosuk': 18786, 'oceansid': 14312, 'cliff': 4133, 'goldfish': 8534, 'bottl': 2810, 'ponyo': 15557, 'accost': 625, 'suspicion': 19636, '9yearold': 530, 'energi': 6647, 'garibaldi': 8139, 'unif': 21105, '1860': 137, 'sicilian': 18258, 'grudgingli': 8797, 'sweep': 19681, 'proud': 15949, 'salina': 17372, 'tancredi': 19864, 'angelica': 1233, 'gauch': 8170, 'bourgeoi': 2829, 'calogero': 3362, 'accustom': 634, 'comfort': 4354, 'clout': 4167, 'geronimo': 8304, 'junpei': 10848, 'kyohei': 11333, 'toshiko': 20463, 'ryota': 17277, 'yukari': 22503, 'awkwardli': 1813, 'chinami': 3932, 'uncomfort': 20978, 'paus': 15016, 'cheer': 3848, 'tape': 19888, 'constitut': 4541, '1983': 239, 'murphi': 13627, 'deliri': 5425, 'eighteen': 6418, 'standingroomonli': 19071, 'razor': 16370, 'sharp': 18061, 'definit': 5387, 'funnyeddi': 8008, 'pontif': 15553, 'vulgarli': 21736, 'hilari': 9460, 'reliv': 16629, 'barbecu': 2017, 'pepper': 15118, 'oneofakind': 14478, 'cream': 4838, 'intermix': 10300, 'vocal': 21681, 'parodi': 14923, 'entertainersexperi': 6695, 'uncensor': 20966, 'uncut': 20992, 'dave': 5224, 'bannion': 2000, 'rwanda': 17269, 'tutsi': 20794, 'genocid': 8253, 'mostli': 13476, 'unnot': 21158, 'rusesabagina': 17246, 'particularli': 14938, 'agit': 819, 'chick': 3896, 'duck': 6196, 'agnè': 822, 'varda': 21422, 'eloqu': 6513, 'sixti': 18397, 'realtim': 16398, 'adrift': 734, 'biopsi': 2479, 'cléo': 4187, 'vérité': 21743, 'melodrama': 12877, 'legrand': 11628, 'cameo': 3376, 'jeanluc': 10584, 'godard': 8502, 'karina': 10940, 'madrig': 12267, 'colombia': 4309, 'encanto': 6611, 'bless': 2574, 'healeveri': 9218, 'mirabel': 13173, 'fri': 7909, 'noisi': 14085, 'willi': 22134, 'bacon': 1892, 'obstacl': 14290, 'duboi': 6190, 'orlean': 14574, 'vampir': 21398, 'count': 4730, 'orlok': 14575, 'murnau': 13626, 'unauthor': 20951, 'bram': 2893, 'stoker': 19243, 'dracula': 6067, 'mosaic': 13468, 'interrel': 10311, 'forgiv': 7732, 'fernando': 7372, 'dowd': 6035, 'humans': 9768, 'error': 6774, 'ensu': 6687, 'catalyst': 3609, 'inconspicu': 10086, 'tenant': 20025, 'landlord': 11411, 'subtli': 19435, 'emmi': 6580, 'kurowski': 11316, 'grown': 8792, 'spontan': 18954, 'jj': 10686, 'hunseck': 9802, 'consider': 4527, 'sway': 19673, 'column': 4333, 'susan': 19624, 'steve': 19193, 'dalla': 5119, 'strongli': 19360, 'publicist': 16003, 'sidney': 18276, 'falco': 7167, 'mom': 13316, 'ghostbust': 8329, 'tina': 20327, 'weekend': 21943, 'marqui': 12560, 'château': 4004, 'ugli': 20886, 'golightli': 8544, 'playgirl': 15438, 'varjak': 21432, 'zuri': 22626, 'hair': 8938, 'defiant': 5383, 'zealand': 22547, 'bush': 3211, 'jang': 10532, 'dongsu': 5962, 'jung': 10837, 'taeseok': 19797, 'simpli': 18332, 'lifetranscend': 11782, 'karamak': 10929, 'amazonian': 1103, 'shaman': 18029, 'amazon': 1101, 'sacr': 17303, 'journal': 10777, 'kochgrunberg': 11205, 'evan': 6851, 'schult': 17620, 'postul': 15641, 'austrian': 1750, 'abbey': 544, 'gover': 8605, 'naval': 13792, 'regan': 16543, 'macneil': 12238, 'explicit': 7034, 'befal': 2226, 'georgetown': 8276, 'damien': 5130, 'karra': 10946, 'lampert': 11399, 'joshua': 10767, 'ski': 18421, 'alp': 1046, 'croni': 4898, 'tex': 20094, 'scobi': 17630, 'gideon': 8355, 'quarter': 16105, 'stole': 19244, 'scroll': 17681, 'bearer': 2172, 'aurocastro': 1738, 'apulia': 1417, 'elect': 6453, 'brancaleon': 2895, 'norcia': 14130, 'complain': 4409, 'materi': 12642, 'luci': 12117, 'pageant': 14788, 'forlorn': 7739, 'fir': 7480, 'linu': 11847, 'transgend': 20549, 'laurenc': 11517, 'self': 17790, 'formula': 7748, 'niki': 14019, 'lauda': 11501, '1976': 231, 'motorrac': 13506, 'lazili': 11552, 'fausto': 7288, 'moraldo': 13414, 'leopoldo': 11671, 'string': 19345, 'unev': 21060, 'tighten': 20293, 'muggl': 13564, 'horac': 9641, 'slughorn': 18539, 'crucial': 4935, 'ahead': 838, 'exfootbal': 6966, 'ambigu': 1107, 'crucifi': 4937, 'fatherwho': 7274, 'cancerjog': 3408, 'badli': 1911, 'lowbudget': 12087, 'say': 17532, 'tin': 20326, 'santet': 17445, 'sprung': 18984, 'manales': 12392, 'cach': 3297, 'nicosia': 13993, 'hijack': 9454, 'rout': 17175, 'goff': 8521, 'avail': 1774, 'fling': 7606, 'jeff': 10596, 'mundan': 13601, 'ga': 8039, 'bridgeport': 2989, 'ca': 3276, 'cathart': 3626, '2071': 311, 'populac': 15580, 'mar': 12473, 'largest': 11456, 'whoever': 22076, 'bebop': 2196, 'fay': 7299, 'jet': 10642, 'bifurc': 2426, 'narr': 13750, 'repeatedli': 16702, 'djinn': 5883, 'azur': 1839, 'frenchman': 7888, 'sprite': 18981, 'asmar': 1612, 'geni': 8239, 'auto': 1757, 'wreck': 22328, 'suppress': 19589, 'olivi': 14419, 'teller': 20004, 'childlik': 3916, 'curios': 5014, 'laughter': 11505, 'inscrut': 10231, 'giulio': 8423, 'andreotti': 1215, 'synonym': 19754, 'elector': 6454, 'slander': 18462, 'repent': 16704, 'waterg': 21877, 'compel': 4400, 'nixon': 14057, 'resign': 16753, 'harley': 9112, 'quinn': 16143, 'bloodsport': 2616, 'peacemak': 15040, 'nutti': 14239, 'reve': 16817, 'supersecret': 19561, 'supershadi': 19563, 'enemyinfus': 6643, 'corto': 4692, 'maltes': 12380, 'racist': 16183, 'stallion': 19057, 'mare': 12494, 'matko': 12657, 'danub': 5168, 'zare': 22541, 'owe': 14747, 'dadan': 5090, 'afrodita': 790, 'abkhazia': 564, 'estonian': 6817, 'ivo': 10462, 'harvest': 9143, 'crop': 4905, 'tangerin': 19867, 'kaoru': 10924, 'meiji': 12855, 'kyoto': 11335, 'parr': 14926, 'log': 11936, 'formerli': 7744, 'heroic': 9371, 'suburbia': 19439, 'costum': 4714, 'awkward': 1812, 'heartbreak': 9231, 'diego': 5660, 'maradona': 12475, 'viridiana': 21633, 'nun': 14228, 'somewhat': 18728, 'unwillingli': 21252, 'jaim': 10512, 'resembl': 16743, 'despis': 5548, 'proven': 15952, 'undon': 21049, 'mecha': 12806, 'remak': 16636, 'gainax': 8062, 'retitl': 16798, '101': 15, '111': 29, 'addit': 690, 'ministri': 13158, 'dolor': 5933, 'umbridg': 20927, 'defenc': 5376, 'select': 17786, 'jk': 10687, 'rowl': 17185, 'falcon': 7168, 'begun': 2241, 'pierc': 15305, 'witcher': 22195, 'vesemir': 21519, 'coin': 4264, 'menac': 12893, 'lanc': 11401, 'sterl': 19189, 'beckett': 2203, 'suav': 19405, 'awesom': 1811, 'gadget': 8049, 'acapulco': 604, 'playboy': 15433, 'doorstep': 5982, 'aint': 855, 'bein': 2254, 'your': 22487, 'likabl': 11795, 'smelli': 18569, 'ogr': 14377, 'shrek': 18227, 'retriev': 16805, 'gorgeou': 8584, 'firebreath': 7483, 'compatriot': 4399, 'donkey': 5963, 'billionair': 2456, '1965': 219, 'moonris': 13403, 'pact': 14778, 'brew': 2969, 'offshor': 14365, 'muscl': 13633, 'nina': 14033, 'tvnew': 20806, 'muir': 13566, 'gull': 8853, 'crusti': 4954, 'greggand': 8707, 'po': 15482, 'miserli': 13205, 'garden': 8129, 'divis': 5869, 'richest': 16887, 'poorest': 15566, 'bottom': 2811, 'nightclub': 14003, 'chanteus': 3777, 'jenni': 10614, 'crossfir': 4917, 'unintend': 21114, 'sightrestor': 18284, 'doublecross': 6017, 'policeman': 15522, 'sharpshoot': 18068, 'bartend': 2071, 'racetrack': 16175, 'cashier': 3575, 'starv': 19112, 'absolut': 592, 'smitten': 18575, 'kitti': 11156, 'twobit': 20838, 'chriss': 3971, 'credit': 4847, 'lowri': 12101, 'monotoni': 13356, 'daytoday': 5244, 'recur': 16481, 'damsel': 5138, 'tuttl': 20796, 'mindless': 13136, 'bureaucraci': 3173, 'anglican': 1246, 'clodagh': 4151, 'himalaya': 9472, 'ruth': 17262, 'celibaci': 3688, 'weakwil': 21913, 'flunki': 7650, 'dissid': 5831, 'geisha': 8205, 'evelyn': 6859, 'couch': 4719, 'ninni': 14046, 'outgo': 14649, 'idgi': 9907, 'threadgood': 20209, 'jamison': 10526, 'whistl': 22058, '60': 453, 'whiz': 22071, 'subvers': 19441, 'nishi': 14052, 'reliev': 16623, 'stakeout': 19046, 'horib': 9644, 'paralyz': 14881, 'yakuza': 22404, 'exhusband': 6981, 'tabloidtyp': 19781, 'remarriag': 16640, 'philip': 15243, 'marlow': 12552, 'sternwood': 19191, 'carmen': 3518, 'blackmail': 2532, 'mutini': 13660, 'montag': 13368, 'kubo': 11295, 'mesmer': 12943, 'origami': 14570, 'mystic': 13672, 'weaponri': 21919, 'cataclysm': 3603, 'aka': 877, 'everwiden': 6887, 'enemyth': 6644, 'taesik': 19798, 'custom': 5036, 'somi': 18730, 'marc': 12482, 'kay': 10977, 'regular': 16568, 'jog': 10714, 'neverbeforefelt': 13927, 'effortless': 6397, 'reptil': 16724, 'gawk': 8185, 'ragtag': 16219, 'zoo': 22607, 'outback': 14634, 'robert': 17004, 'kincaid': 11105, 'francesca': 7822, 'noon': 14125, 'chappel': 3786, 'opioid': 14517, 'tidal': 20278, 'chart': 3817, 'valka': 21385, 'drago': 6073, 'cyru': 5070, 'turf': 20775, 'coney': 4465, 'gangbang': 8111, 'gilbert': 8366, 'grape': 8659, 'concern': 4444, 'overweight': 14743, 'arni': 1540, 'knack': 11178, 'groceri': 8766, 'ongo': 14490, 'carver': 3562, 'becki': 2204, 'boruto': 2792, 'uzumaki': 21348, 'seventh': 17967, 'hokag': 9553, 'brash': 2905, 'damper': 5136, 'sasuk': 17482, 'curtain': 5027, 'delphin': 5440, 'solang': 18689, 'rochefort': 17024, 'maxenc': 12691, 'own': 14752, 'cyrano': 5069, 'bergerac': 2342, 'triangl': 20624, 'chemic': 3859, 'payrol': 15032, 'jeremi': 10622, 'watney': 21881, 'presum': 15773, 'subsist': 19426, 'aydin': 1825, 'anatolia': 1189, 'nihal': 14015, 'necla': 13839, 'cover': 4777, 'boredom': 2780, 'expat': 7015, 'pearson': 15049, 'marijuana': 12516, 'briberi': 2979, 'domain': 5939, 'paranorm': 14891, 'lorrain': 12027, 'warren': 21842, 'theyd': 20154, 'madrid': 12266, 'autograph': 1764, 'besid': 2367, 'birnam': 2493, 'sober': 18654, 'insidi': 10240, 'fourday': 7789, 'bender': 2299, 'escalant': 6783, 'mathemat': 12647, 'hispan': 9500, 'nohop': 14082, 'algebra': 959, 'calculu': 3331, 'ebenez': 6342, 'scroog': 17682, 'generos': 8231, 'retel': 16793, 'dicken': 5648, 'repres': 16717, 'solar': 18690, 'adept': 696, 'divest': 5866, 'worldli': 22292, 'baggag': 1916, 'lotu': 12038, 'displac': 5814, 'jacek': 10477, 'waldemar': 21780, 'highpow': 9436, 'altar': 1058, 'grisli': 8755, 'percept': 15129, '2005': 274, 'stéphane': 19401, 'transplant': 20559, 'montfermeil': 13377, 'anticrim': 1313, 'gwada': 8895, 'reckon': 16451, 'coldblood': 4276, 'twisti': 20835, 'gaetano': 8053, 'giovan': 8396, 'napoletano': 13737, 'di': 5626, 'lasciar': 11466, 'casa': 3563, 'lavoro': 11531, 'amici': 1132, 'per': 15124, 'cercar': 3722, 'altri': 1069, 'momenti': 13319, 'vita': 21652, 'conoscer': 4510, 'altr': 1068, 'arriva': 1554, 'firenz': 7490, 'della': 5431, 'zia': 22576, 'ambulatorio': 1114, 'dove': 6032, 'capita': 3451, 'caso': 3579, 'conosc': 4509, 'marta': 12574, 'se': 17699, 'innammora': 10208, 'dopo': 5988, 'una': 20931, 'divertenti': 5865, 'situazioni': 18382, 'vecchio': 21447, 'amico': 1133, 'parlantina': 14918, 'inarrestabil': 10047, 'napoli': 13738, 'matura': 12674, 'suo': 19525, 'attempato': 1692, 'amant': 1088, 'prete': 15775, 'americano': 1127, 'che': 3834, 'vuol': 21739, 'coinvolgerlo': 4270, 'forza': 7769, 'nell': 13863, 'evangelich': 6852, 'lincontro': 11829, 'riccardino': 16878, 'frustrato': 7961, 'madr': 12263, 'oppressiva': 14528, 'padr': 14782, 'aspetta': 1617, 'miracolo': 13176, 'ricrescita': 16895, 'mano': 12440, 'amputata': 1162, 'restar': 16769, 'fare': 7221, 'figlio': 7435, 'anch': 1195, 'ragazza': 16213, 'non': 14094, 'rivelar': 16971, 'esattezza': 6779, 'nome': 14090, 'del': 5409, 'frozen': 7955, 'underwat': 21033, 'rush': 17247, 'bedsid': 2215, 'pray': 15694, 'miracl': 13174, 'jule': 10815, 'catherin': 3629, 'unchang': 20972, 'reciproc': 16447, 'brainwash': 2892, 'shaw': 18074, 'bennett': 2322, 'marco': 12492, 'connelli': 4502, 'reformatori': 16532, '100000': 8, 'deposit': 5506, 'solicitor': 18699, 'visitor': 21648, 'lúcia': 12204, 'tide': 20279, 'sink': 18359, 'petrol': 15207, 'inland': 10203, 'moribund': 13436, 'load': 11905, 'pile': 15326, 'oliv': 14417, 'onenight': 14475, 'pregnanc': 15725, 'fathertob': 7273, 'oher': 14382, 'nfl': 13973, 'draft': 6068, 'chuck': 3992, 'nolan': 14087, 'fedex': 7322, 'kelli': 11006, 'phd': 15226, 'malaysia': 12347, 'maroon': 12557, 'pike': 15324, 'dutch': 6267, 'engstrom': 6659, 'tector': 19970, 'gorch': 8580, 'setup': 17958, 'orchestr': 14551, 'deke': 5406, 'thornton': 20195, 'themresult': 20132, 'gunfight': 8862, 'plenti': 15456, 'casualti': 3601, 'balthazar': 1967, 'keeper': 10998, 'powerless': 15676, 'nobli': 14072, 'skip': 18432, 'sloan': 18522, 'cameron': 3379, 'wili': 22130, 'fedup': 7324, 'enchantingli': 6614, 'buttercup': 3242, 'westley': 22009, 'stagger': 19041, 'sixfing': 18386, 'swordsmen': 19726, 'size': 18407, 'lovebird': 12068, 'triumph': 20666, 'harold': 9119, 'suicideattempt': 19471, '80yearold': 499, 'vignett': 21584, 'venic': 21474, 'effet': 6393, 'steamboat': 19150, 'bloodthirsti': 2620, 'fledgl': 7583, 'brioni': 3012, 'talli': 19850, 'kotaro': 11243, 'erupt': 6776, 'rudi': 17209, 'tequila': 20049, 'fanci': 7202, 'merced': 12914, 'convert': 4597, 'pistol': 15371, 'glove': 8480, 'homer': 9588, 'hickam': 9400, 'coal': 4194, 'sputnik': 18994, 'rocketri': 17033, 'covet': 4782, 'adjoin': 700, 'vacant': 21352, 'afield': 779, 'relay': 16610, 'ape': 1371, 'primit': 15816, 'benevol': 2307, 'chimpanze': 3929, 'cr': 4802, 'macnamara': 12237, 'cocacola': 4213, 'wp': 22321, 'hazeltin': 9197, 'scarlett': 17567, 'otto': 14624, 'piffl': 15315, 'antiestablish': 1316, 'bosss': 2799, 'jeopard': 10618, 'psych': 15975, 'duplicit': 6246, 'swan': 19662, 'frighteningli': 7931, 'fulli': 7986, 'sizabl': 18406, 'kennedi': 11018, 'garrison': 8147, 'duan': 6184, 'impromptu': 10032, 'goodby': 8558, 'scholar': 17602, '14000': 63, 'mazzini': 12718, 'mausoleum': 12684, 'edmond': 6375, 'dantéss': 5167, 'danté': 5166, 'cleverli': 4127, 'insinu': 10243, 'lifes': 11775, 'replica': 16711, 'fitzcarraldo': 7526, 'iquito': 10377, 'peruvian': 15186, 'financ': 7452, 'rubber': 17200, 'unexplor': 21065, 'rainforest': 16242, '1956': 209, 'sheeran': 18089, 'bufalino': 3124, 'hoffa': 9541, 'unrefin': 21187, 'ultracompetit': 20907, 'tech': 19956, 'nonomiya': 14114, 'biolog': 2474, 'relax': 16609, 'claudia': 4095, 'sandro': 17430, 'volcan': 21695, 'heartach': 9230, 'diaper': 5641, 'lilja': 11804, 'natasha': 13771, 'volodya': 21703, 'downward': 6056, 'jasmin': 10558, 'marketplac': 12538, 'streeturchin': 19326, 'aladdin': 895, 'lamp': 11398, 'jafar': 10503, 'amiti': 1144, 'oceanograph': 14311, 'danila': 5159, 'petersburg': 15200, 'chechen': 3841, 'exposur': 7046, 'moonscar': 13404, 'simplemind': 18329, '1977': 232, 'boom': 2752, 'horner': 9654, 'elev': 6473, 'craft': 4810, 'busboy': 3206, 'moviemak': 13532, 'hangerson': 9040, 'ego': 6406, 'dirk': 5725, 'diggler': 5670, 'disco': 5754, 'vogu': 21686, 'flux': 7655, 'jayoon': 10566, 'trauma': 20575, '2007': 276, 'londonbas': 11951, 'jordanian': 10756, 'palestinian': 14816, 'tala': 19836, 'elabor': 6439, 'leyla': 11715, 'selfassur': 17794, 'illfat': 9945, 'nathan': 13774, '16': 91, 'stephan': 19177, 'photo': 15265, 'publish': 16006, 'facebook': 7127, 'overtak': 14734, 'reject': 16596, 'parentag': 14904, 'doll': 5929, 'overrid': 14724, 'motif': 13492, 'themat': 20129, 'matsumoto': 12661, 'sawako': 17526, 'tehranian': 19985, 'badii': 1909, 'demis': 5457, 'swat': 19671, 'rama': 16257, 'indonesian': 10132, 'burt': 3201, 'munro': 13609, 'motorcyclea': 13501, 'landspe': 11421, 'utah': 21334, 'bonnevil': 2728, 'salt': 17384, '1967': 221, 'himura': 9477, 'kamiya': 10907, 'emi': 6563, 'takei': 19825, 'kasshinryu': 10954, 'kendo': 11013, 'dojo': 5922, 'wellguard': 21974, 'varieti': 21429, 'commut': 4390, '20': 264, 'génessier': 8906, 'riddl': 16899, 'laboratori': 11348, 'louis': 12050, 'render': 16666, 'graft': 8633, 'pine': 15343, 'afar': 765, 'sonja': 18748, 'napoleon': 13736, 'cowardli': 4789, 'patriot': 14994, 'debat': 5294, 'abbott': 547, 'gari': 8138, 'spongebob': 18952, 'madcap': 12245, 'bikini': 2448, 'pinkshel': 15350, 'gut': 8885, 'popelka': 15570, 'stepmoth': 19180, 'closest': 4159, 'owl': 14749, 'acorn': 649, 'cinephil': 4025, 'franz': 7841, 'mimick': 13120, 'antihero': 1321, 'odil': 14335, 'choreograph': 3962, 'frolicsom': 7940, 'romp': 17096, 'louvr': 12061, 'inexperi': 10145, 'blaze': 2564, 'supercomput': 19536, 'teleport': 19997, '21st': 325, 'hegemoni': 9282, 'humanresist': 9767, 'safeguard': 17325, 'indestruct': 10107, 'matthieu': 12668, 'analyst': 1180, 'reason': 16408, 'aircraft': 859, 'modifi': 13288, 'obsession': 14287, 'threatan': 20211, 'narus': 13754, 'anthem': 1296, 'gerda': 8291, 'wegen': 21948, 'einar': 6428, 'lili': 11801, 'elb': 6446, 'pioneer': 15356, 'mckay': 12761, 'pat': 14973, 'terril': 20073, 'ranch': 16282, 'foreman': 7717, 'leech': 11598, 'dislik': 5791, 'hewn': 9389, 'rufu': 17217, 'hannassey': 9048, 'maragon': 12476, 'schloss': 17594, 'adler': 705, 'bavarian': 2139, 'afghan': 775, 'stark': 19095, 'suit': 19472, 'lugano': 12141, 'switzerland': 19713, 'girolamo': 8413, 'discreet': 5765, 'sullen': 19479, 'atroci': 1687, 'appar': 1388, 'indiscreet': 10122, 'evas': 6856, 'optimist': 14533, 'longmythic': 11983, 'czar': 5073, 'sorcer': 18771, 'romanov': 17085, 'anastasia': 1186, 'rowdi': 17181, 'anya': 1355, 'dowag': 6034, 'empress': 6600, 'granddaught': 8643, 'gambler': 8097, 'pixar': 15387, 'lostandfound': 12033, 'grandeur': 8644, 'landrich': 11418, 'texan': 20096, 'conniv': 4506, 'strife': 19340, 'baron': 2051, 'tycoon': 20851, 'oneupmanship': 14486, 'nemesi': 13867, 'pu': 15998, 'yi': 22443, 'lofti': 11935, 'brief': 2991, 'worship': 22308, 'billion': 2455, 'declin': 5335, 'dissolut': 5832, 'republ': 16726, 'headmistress': 9210, 'minchin': 13126, 'neurot': 13918, 'oneroom': 14479, 'mariana': 12508, 'wyom': 22373, 'butch': 3236, 'cassidi': 3586, 'affabl': 766, 'hole': 9558, 'lacon': 11358, 'deadshot': 5267, 'sundanc': 19505, 'doggedli': 5911, 'pursuer': 16060, 'denham': 5476, 'darrow': 5199, 'driscol': 6133, 'said': 17337, 'display': 5815, 'eighth': 6421, 'afir': 780, 'nichola': 13983, 'mortim': 13464, 'brewster': 2972, 'diatrib': 5643, 'hobbi': 9533, 'cellar': 3691, 'devda': 5591, 'paro': 14921, 'stuntman': 19389, '37': 395, 'laptop': 11443, 'bestsel': 2376, 'dogma': 5912, 'arrietti': 1552, 'clock': 4150, 'borrow': 2791, 'corey': 4650, 'vogel': 21684, 'jansen': 10540, 'commission': 4378, 'mattei': 12664, 'fatalist': 7263, 'supermodel': 19552, 'catapult': 3612, 'instig': 10256, 'inconsequenti': 10083, 'depos': 5505, 'condominium': 4460, '59yearold': 450, 'ove': 14684, 'fist': 7521, 'parvaneh': 14952, 'terrac': 20060, 'mailbox': 12305, 'manserv': 12449, 'tumorshrink': 20757, 'bought': 2814, 'hazel': 9196, 'inscrib': 10230, 'augustu': 1730, 'rewritten': 16853, 'shootout': 18180, 'smuggler': 18592, 'christin': 3978, 'collin': 4303, 'overjoy': 14711, 'detest': 5575, 'templeton': 20015, 'ted': 19971, 'cuttingedg': 5046, 'cando': 3416, 'pitsenbarg': 15379, 'pararescuemen': 14896, 'thirtytwo': 20184, 'pentagon': 15111, 'staffer': 19037, 'scott': 17650, 'huffman': 9746, 'highlevel': 9426, 'decadeslong': 5313, 'prompt': 15906, 'drip': 6132, 'pipe': 15360, 'awn': 1814, 'gurgl': 8877, 'gutter': 8889, 'gaudi': 8171, 'headi': 9205, 'moulin': 13511, 'roug': 17161, 'ir': 10378, '2027': 295, 'procreat': 15864, 'sanctuari': 17418, 'huxley': 9837, 'bone': 2719, 'museum': 13637, 'vanc': 21402, 'misadventur': 13191, 'leopard': 11668, 'troublemak': 20687, 'slate': 18467, 'plato': 15424, 'djebena': 5880, 'brittl': 3026, 'corsican': 4688, 'toughen': 20482, 'onoff': 14495, 'disori': 5806, 'startl': 19110, 'nest': 13900, 'dumpl': 6229, 'giggli': 8360, 'molecular': 13306, 'biologist': 2475, 'permeat': 15155, 'exot': 7008, 'valid': 21382, 'deadpool': 5266, 'wade': 21754, 'acceler': 606, 'thor': 20189, 'asgard': 1590, 'ragnarok': 16218, 'homeworld': 9598, 'asgardian': 1591, 'hela': 9302, 'avenu': 1782, 'bullock': 3153, 'forgotten': 7736, 'scaveng': 17572, 'godfrey': 8510, 'riotous': 16946, 'cornelia': 4662, 'butler': 3238, 'frivol': 7936, 'mimic': 13119, 'moocher': 13393, 'forger': 7728, 'guess': 8827, 'woojin': 22269, 'yisoo': 22447, 'drifter': 6125, 'repercuss': 16705, 'vile': 21591, 'atroc': 1686, 'ramón': 16279, 'sampedro': 17408, '30year': 379, 'rosa': 17124, 'cal': 3326, 'trask': 20574, 'acoust': 650, 'strive': 19350, 'seemor': 17765, 'soundus': 18804, 'hedwig': 9272, 'emigr': 6564, 'divin': 5868, 'diva': 5857, 'crabb': 4804, 'custer': 5033, '1949': 202, 'dissatisfi': 5828, 'infidel': 10163, 'starkweatherfug': 19098, 'dakota': 5112, 'badland': 1910, 'panic': 14847, 'sunk': 19513, 'odo': 14338, 'expedit': 7019, 'yemani': 22434, 'meter': 12966, 'gojira': 8527, 'fluffi': 7644, 'infal': 10149, 'monica': 13339, 'smudg': 18589, 'snobbish': 18618, 'phonet': 15263, 'overli': 14714, 'nervou': 13895, 'interraci': 10310, 'progress': 15887, 'mania': 12421, 'meaningless': 12797, 'disastr': 5740, 'bianca': 2409, 'uncertainti': 20969, 'contradict': 4582, 'alibi': 967, 'yoast': 22448, 'demot': 5473, 'replac': 16707, 'herman': 9362, 'boon': 2753, 'takao': 19822, 'shoemak': 18174, 'sketch': 18418, 'japanesestyl': 10546, 'yukino': 22506, 'surveil': 19619, 'caul': 3639, 'brusqu': 3086, 'stan': 19065, 'cryptic': 4960, 'wyatt': 22367, 'earp': 6316, 'morgan': 13430, 'thrive': 20234, 'tombston': 20401, 'badg': 1906, 'holliday': 9567, 'brigand': 2996, '2035': 300, 'volunt': 21710, 'kathryn': 10967, 'railli': 16233, 'goin': 8525, 'musiclov': 13644, 'kinkaj': 11125, 'vivo': 21670, 'unceremoni': 20967, 'alpha': 1047, 'moonbas': 13398, 'gerti': 8308, 'waken': 21776, 'billi': 2454, 'snowman': 18637, 'pole': 15518, 'narcissist': 13741, 'weatherman': 21925, 'attractivebutdist': 1706, 'mawkish': 12689, 'cameraman': 3378, 'groundhog': 8784, 'punxsutawney': 16037, 'council': 4726, 'june': 10836, 'erwin': 6777, 'rommel': 17095, 'atlant': 1674, 'longest': 11969, 'vel': 21460, 'dhiv': 5624, 'roundup': 17172, 'momentari': 13318, 'respit': 16764, 'bath': 2109, 'véroniqu': 21744, 'weronika': 22000, 'up': 21259, 'alexandr': 948, 'fabbri': 7113, 'existenti': 6989, 'injuri': 10199, 'pretoriu': 15782, 'nowchasten': 14206, 'multipl': 13587, 'burn': 3190, 'endeavor': 6629, 'rachel': 16176, 'luce': 12115, 'heck': 9263, 'orient': 14569, 'doppelgang': 5989, 'simpson': 18333, 'playground': 15439, 'whisk': 22054, 'groomer': 8771, 'subjug': 19413, 'reaffirm': 16384, 'automobil': 1769, 'buck': 3106, 'bigheart': 2438, 'yukon': 22508, 'rooki': 17111, 'teamand': 19943, 'leaderbuck': 11562, 'giacinto': 8341, 'shack': 18005, 'consist': 4529, 'temperament': 20010, 'skydiv': 18442, 'outrun': 14669, 'abomin': 572, 'snowmonst': 18639, 'christi': 3976, 'cerebr': 3724, 'palsi': 14827, 'guttur': 8891, 'houghton': 9701, 'skipper': 18433, 'wolff': 22224, 'dilapid': 5682, 'morgu': 13432, 'peña': 15215, 'álex': 22631, 'ulloa': 20899, 'wantedand': 21815, 'charmingbandit': 3812, 'flynn': 7659, 'rapunzel': 16321, 'feisti': 7336, 'towerbound': 20498, 'feet': 7331, 'golden': 8531, 'curiou': 5015, 'actionpack': 669, 'escapad': 6786, 'supercop': 19537, 'chameleon': 3757, 'shawn': 18075, 'andr': 1211, 'gregori': 8709, 'scarecrow': 17561, 'yellow': 22432, 'yusuk': 22514, 'kafuku': 10879, 'vanja': 21418, 'misaki': 13192, 'heartfelt': 9233, 'unveil': 21244, 'ayatollah': 1824, 'juliett': 10824, 'barg': 2034, 'whirlwind': 22053, 'courtship': 4769, 'latalant': 11476, 'sein': 17779, 'allmal': 1013, 'excit': 6941, 'hypochondriac': 9862, 'safer': 17328, 'habitat': 8910, 'crood': 4902, 'idyl': 9918, 'walledin': 21791, 'betterman': 2390, 'evolutionari': 6908, '2008': 277, 'taj': 19816, 'mahal': 12294, 'unthink': 21234, '1897': 152, 'rostand': 17147, 'coquelin': 4640, 'premier': 15735, 'pete': 15198, 'overnight': 14718, 'agu': 833, 'rintar': 16942, 'kurisu': 11311, 'dwarv': 6273, 'misti': 13239, 'smaug': 18564, 'felix': 7342, 'broke': 3041, 'oscar': 14595, 'irrit': 10415, 'peacelov': 15039, 'mormon': 13440, 'landhungri': 11407, 'harriman': 9128, 'harass': 9074, 'fertil': 7383, 'triniti': 20651, 'bambino': 1972, 'slapstick': 18464, 'lucid': 12121, 'dreamlik': 6103, 'discuss': 5768, 'jeandominiqu': 10579, 'baubi': 2133, '1995': 251, '43': 414, 'blink': 2585, 'memoir': 12888, 'interior': 10295, 'hed': 9266, 'sayra': 17536, 'honduran': 9606, 'hunger': 9794, 'longestrang': 11970, 'gangmemb': 8115, 'americanbound': 1124, 'harlem': 9111, 'directli': 5720, 'sourc': 18807, 'asia': 1604, 'partli': 14941, 'polynesia': 15542, 'incur': 10095, 'maui': 12677, 'impetu': 10006, 'chieftain': 3902, 'demigod': 5456, 'boyz': 2870, 'singleton': 18355, 'ingredi': 10185, '3000': 372, 'blacka': 2519, 'armyremov': 1535, 'giulia': 8419, 'martino': 12583, 'seventeen': 17963, 'gt': 8810, 'championship': 3763, 'gear': 8193, 'mcwhiggen': 12785, 'yeti': 22441, 'everest': 6869, 'namesak': 13718, 'caleb': 3336, 'coder': 4240, 'internet': 10303, 'ceo': 3717, 'artifici': 1573, '1963': 217, 'myer': 13666, 'haddonfield': 8921, 'illinoi': 9949, 'newton': 13966, 'oakley': 14260, 'fincher': 7455, 'brad': 2876, 'pitt': 15380, 'blanchett': 2550, 'taraji': 19893, 'henson': 9343, 'tilda': 20300, 'swinton': 19706, 'flemyng': 7589, 'elia': 6481, 'kotea': 11244, 'ormond': 14578, 'notsoordinari': 14186, 'florett': 7627, 'manon': 12444, 'beart': 2173, 'provenc': 15953, 'greedili': 8693, 'reenter': 16518, 'prioriti': 15831, 'bonni': 2729, 'forki': 7738, 'housem': 9715, 'hipster': 9495, 'undead': 20996, 'inca': 10056, 'aguirr': 834, 'peru': 15185, 'dorado': 5992, 'aris': 1490, 'kerner': 11040, 'avid': 1792, 'kevin': 11053, 'toddler': 20373, 'moonlight': 13400, 'warm': 21831, 'benicio': 2311, 'milliondollar': 13110, 'veng': 21471, 'serpico': 17938, 'bribe': 2978, 'shun': 18242, 'alleg': 991, 'knapp': 11179, 'nikola': 14023, 'fabl': 7120, 'elv': 6525, 'elfhelm': 6477, 'reindeer': 16583, 'blitzen': 2591, 'endear': 6628, 'humding': 9772, 'divert': 5864, 'bay': 2143, 'patrol': 14996, 'superpow': 19557, 'mighti': 13060, 'pup': 16038, 'supersav': 19560, 'basketbal': 2091, 'amigo': 1138, 'kramer': 11254, 'joanna': 10696, 'dufourquet': 6208, 'eightday': 6417, 'furlough': 8018, 'curat': 5008, 'catalan': 3605, 'tribesmen': 20628, 'kidnapp': 11077, 'treasur': 20593, 'linguist': 11842, 'lui': 12146, 'buñuel': 3257, 'delici': 5422, 'sextet': 17992, 'vaudevillian': 21443, 'mixtur': 13258, 'leo': 11658, 'borlock': 2786, 'mica': 12997, 'decent': 5321, 'radar': 16188, 'stargirl': 19094, 'caraway': 3475, 'ukulel': 20898, 'simplest': 18330, 'infecti': 10157, 'prais': 15689, 'rollercoast': 17073, 'ian': 9876, 'curti': 5028, 'schoolboy': 17606, 'naoufel': 13730, 'dissect': 5829, 'armada': 1513, 'apokoliptian': 1378, 'lantern': 11436, 'shazam': 18078, 'ninetail': 14035, 'leaf': 11565, 'konoha': 11229, 'minato': 13125, 'namikaz': 13720, 'kushina': 11323, 'jinchūriki': 10679, 'akatsuki': 881, 'tobi': 20366, 'shroud': 18235, 'illus': 9957, 'karl': 10941, 'childer': 3912, 'institution': 10260, 'deem': 5355, 'neurodiverg': 13914, 'highpric': 9437, 'rita': 16963, 'bono': 2730, 'administr': 708, 'barth': 2072, 'roam': 16990, 'impart': 9992, 'mode': 13279, 'semblanc': 17852, 'optometrist': 14536, 'orton': 14589, 'coldheart': 4279, 'conrad': 4513, 'certif': 3729, 'nari': 13747, 'nanosecond': 13727, 'everchang': 6866, 'charad': 3792, 'miriam': 13182, 'besson': 2371, 'judgeincharg': 10804, 'julien': 10821, 'phillip': 15247, '2009': 278, 'somali': 18714, 'usflag': 21320, 'mv': 13664, 'maersk': 12271, 'turkey': 20777, '30': 370, 'appeal': 1392, 'carroug': 3547, 'disput': 5823, 'jacqu': 10493, 'gri': 8726, 'greg': 8704, 'earl': 6307, 'anatolian': 1190, 'keskin': 11050, 'commissar': 4377, 'kenan': 11012, 'fuzzi': 8031, 'trivia': 20669, 'deepest': 5359, 'chateau': 3826, 'susanna': 19627, 'kaysen': 10982, 'prescrib': 15753, 'alic': 969, 'wonderland': 22244, 'thin': 20166, 'thracian': 20206, 'spartacu': 18861, 'batiatu': 2113, 'arena': 1473, 'swell': 19689, 'hulk': 9753, 'monstros': 13365, 'android': 1219, 'gohan': 8524, 'bulma': 3155, 'trunk': 20716, 'trunkss': 20717, 'apocalypt': 1375, 'leftw': 11610, 'whilst': 22047, 'thelma': 20128, 'selfstrength': 17841, 'churchil': 4001, 'abigail': 562, 'yokohama': 22457, 'clubhous': 4177, 'ball': 1953, '1964': 218, 'umi': 20928, 'wont': 22249, 'don': 5952, 'hobo': 9538, 'firsthand': 7501, 'redoubl': 16502, 'bargain': 2035, 'meier': 12854, 'link': 11843, 'elbourn': 6448, 'ds': 6180, 'marku': 12543, 'illtemp': 9953, 'undat': 20994, 'kat': 10956, 'nasti': 13763, 'riedenschneid': 16906, 'fund': 7994, 'alonzo': 1043, 'emmerich': 6577, '12year': 51, 'ceasefir': 3668, 'jackal': 10479, 'gaull': 8175, 'gendarm': 8220, 'butcher': 3237, 'mentallyhandicap': 12905, 'lill': 11805, 'stallworth': 19059, 'flip': 7609, 'zimmerman': 22585, 'ku': 11292, 'klux': 11177, 'klan': 11161, 'popey': 15571, 'doyl': 6060, 'heroinsmuggl': 9374, 'indefinit': 10100, 'freeman': 7873, 'gattaca': 8169, 'larrabe': 11460, 'busili': 3219, 'sabrina': 17297, 'fairchild': 7154, 'loveh': 12072, 'ordeal': 14554, 'saint': 17342, 'abort': 574, 'chien': 3903, 'andal': 1202, 'avantgard': 1778, 'surrealist': 19613, 'collabor': 4285, 'dali': 5117, 'cardin': 3481, 'bergoglio': 2345, 'permiss': 15156, '2012': 281, 'benedict': 2303, 'selfdoubt': 17809, 'harshest': 9133, 'successor': 19451, 'ophthalmologist': 14514, 'ash': 1593, 'linda': 11830, 'archeologist': 1454, 'recit': 16448, 'chant': 3774, 'algren': 963, 'principl': 15826, 'hurrican': 9814, 'compar': 4395, 'largo': 11457, 'rocco': 17023, 'gunpoint': 8870, 'nora': 14128, 'exgi': 6968, 'mccloud': 12738, 'forgeri': 7729, 'access': 609, 'sublim': 19414, 'cab': 3277, 'sheff': 18091, 'methamphetamin': 12968, 'kuzco': 11326, 'selfcent': 17797, 'pacha': 14768, 'yzma': 22519, 'llama': 11898, 'mild': 13082, 'manner': 12437, 'persona': 15175, 'humphrey': 9783, 'bogart': 2676, 'apparit': 1390, 'advic': 755, 'satisfactori': 17491, 'furthest': 8022, 'necess': 13833, 'impel': 9997, 'shiki': 18133, 'seclus': 17730, 'knee': 11180, 'straw': 19311, 'hat': 9154, 'nami': 13719, 'meteorolog': 12964, 'forcedli': 7708, 'luffi': 12138, 'irv': 10416, 'ichabod': 9891, 'headless': 9206, 'horseman': 9669, 'crosbi': 4907, 'clarenc': 4073, 'hooker': 9626, 'coke': 4272, 'portorosso': 15606, 'massimo': 12616, 'tattoo': 19919, 'onearm': 14463, 'braddock': 2877, 'comeback': 4345, 'franck': 7828, 'threeweeklong': 20226, 'bachelor': 1865, 'thrill': 20231, 'longfellow': 11972, 'babe': 1851, 'bigciti': 2431, 'constabl': 4535, 'sandford': 17423, 'oaf': 14253, 'smell': 18568, 'rotten': 17157, 'waitress': 21768, 'implor': 10013, 'pierrot': 15310, 'mediterranean': 12828, 'hitmen': 9520, 'algeria': 960, '13year': 59, 'guemja': 8822, 'relief': 16622, 'lucki': 12129, 'prescott': 15752, 'mustang': 13653, 'bart': 2069, 'millard': 13102, 'shannon': 18044, 'mover': 13530, 'angrili': 1250, 'ankl': 1267, 'munich': 13605, 'visual': 21651, 'grandmoth': 8652, 'mi': 12989, 'ja': 10475, 'grandson': 8655, 'softli': 18676, 'vers': 21511, 'poem': 15494, 'stall': 19056, 'wrongdo': 22351, 'stieg': 19206, 'larsson': 11463, 'mikael': 13070, 'blomkvist': 2602, 'millennium': 13105, 'libel': 11729, 'hanserik': 9056, 'wennerström': 21993, 'henrik': 9342, 'vanger': 21412, 'cranley': 4820, 'griffin': 8734, 'latitud': 11492, 'flora': 7623, 'inn': 10207, 'revers': 16832, 'warp': 21838, 'newlyw': 13958, 'cautionari': 3646, '18yearold': 158, 'tribut': 20631, 'selfdetermin': 17807, 'mayan': 12701, 'harrow': 9131, 'spur': 18991, 'edwardian': 6384, 'infilitr': 10165, 'identifi': 9905, 'loudmouth': 12045, 'opportunist': 14522, 'kikujiro': 11085, 'masao': 12601, 'whimsic': 22049, 'array': 1548, 'proprietor': 15927, 'wool': 22271, 'sheeprustl': 18086, 'fiendish': 7414, 'integrationand': 10274, 'entiti': 6702, '45': 418, 'ambit': 1108, 'bucket': 3108, 'plastic': 15419, 'skin': 18427, 'withstand': 22205, 'guinea': 8846, '1982': 238, 'blackeberg': 2527, 'snowcov': 18630, 'januari': 10541, 'morri': 13449, 'alcatraz': 920, 'maximum': 12696, 'shaun': 18072, 'strenuou': 19330, 'snack': 18598, 'sweetheart': 19685, 'janet': 10531, 'eeri': 6389, 'franknfurt': 7838, 'transvestit': 20563, 'creepi': 4856, 'muscular': 13635, 'zac': 22522, 'beaulieu': 2185, '25th': 354, 'mohanda': 13298, 'gandhi': 8108, 'britishtrain': 3022, 'forsak': 7750, 'passiv': 14962, 'endeavour': 6631, 'bloodsh': 2614, 'hardnos': 9096, 'saloon': 17382, 'undesir': 21038, 'dancin': 5144, 'guitar': 8849, 'emma': 6574, 'ralli': 16253, 'townsfolk': 20502, 'proof': 15911, 'misshapen': 13222, 'fritz': 7935, 'succe': 19445, 'wreak': 22327, 'jep': 10621, 'gambardella': 8092, 'nightlif': 14006, '65th': 463, 'timeless': 20312, 'skater': 18411, 'tonya': 20418, 'skate': 18409, 'dialogueless': 5635, 'tropic': 20683, 'crab': 4803, 'cute': 5038, 'shrewd': 18229, 'naughti': 13787, 'scream': 17667, 'co': 4191, 'barfii': 2032, 'chalu': 3754, 'chaplin': 3784, 'boyka': 2866, 'hobbl': 9535, 'undisput': 21046, 'toilet': 20382, 'entic': 6700, 'winner': 22164, 'fullfil': 7984, 'sunwoo': 19524, 'heesoo': 9277, 'mandat': 12399, 'mikey': 13073, 'walsh': 21802, 'demolit': 5463, 'data': 5214, 'wang': 21810, 'chunk': 3997, 'devereaux': 5596, 'oneey': 14468, 'machinist': 12226, 'trevor': 20618, 'reznik': 16858, 'latheoper': 11484, 'insomnia': 10245, 'fatigu': 7276, 'madman': 12259, 'dub': 6186, 'scorpio': 17645, 'callahan': 3350, 'takenoprison': 19827, 'collar': 4287, 'nail': 13702, 'maniac': 12422, 'xmen': 22390, 'ensembl': 6683, 'selv': 17848, 'murakami': 13612, 'pickpocket': 15293, 'swelter': 19690, 'lupin': 12170, 'jigen': 10665, 'expertli': 7029, 'responsibleand': 16767, 'cagliostro': 3313, 'chandler': 3767, 'crete': 4863, 'gregari': 8705, 'alexi': 951, 'zorba': 22615, 'markham': 12539, 'schoolyard': 17616, 'scuffl': 17689, 'surgeri': 19601, 'hive': 9525, 'bee': 2217, 'lydia': 12186, 'kenji': 11017, 'typic': 20859, 'allpow': 1018, 'oz': 14759, 'natsuki': 13781, 'email': 6536, 'ai': 842, 'armageddon': 1515, 'horizon': 9646, 'nearperfect': 13828, 'dweebi': 6275, 'mildmann': 13083, 'subway': 19443, 'platform': 15423, 'widescreen': 22096, 'technicolor': 19961, 'hitchcock': 9510, '1934': 186, 'lighthous': 11789, 'saniti': 17438, 'manolo': 12443, 'sought': 18787, 'preunifi': 15786, 'mötley': 13686, 'crüe': 4968, 'sunset': 19520, 'strip': 19347, 'superstardom': 19568, 'galleon': 8077, 'hawkin': 9183, 'supernova': 19556, 'dictatorship': 5654, 'richmond': 16889, 'headlin': 9207, 'undef': 20997, 'academ': 601, 'reallif': 16395, 'cambodian': 3370, 'khmer': 11063, 'takeov': 19828, 'cambodia': 3369, '1975': 230, '23': 333, 'pol': 15512, 'toppl': 20434, 'vietnames': 21577, 'melani': 12865, 'elig': 6483, 'amok': 1153, 'avian': 1790, 'onslaught': 14498, 'feather': 7313, 'fiend': 7413, 'inexplic': 10147, 'bodega': 2668, 'leningrad': 11651, 'lp': 12106, 'reed': 16507, 'bowi': 2845, 'boil': 2684, 'perestroika': 15135, 'viktor': 21589, 'tsoï': 20728, 'rocknrol': 17037, 'elastigirl': 6444, 'shivudu': 18162, 'foundl': 7785, 'avanthika': 1779, 'shividu': 18161, 'gretchen': 8718, 'engineertraine': 6653, 'delay': 5414, 'avalanch': 1776, 'iri': 10392, 'froy': 7954, 'bout': 2833, 'sleuth': 18501, 'panhandl': 14846, 'wheat': 22030, 'stoic': 19242, 'latin': 11487, 'detenção': 5572, 'carandiru': 3472, 'excus': 6949, 'dráuzio': 6179, 'varella': 21424, 'mathieu': 12651, 'flamenco': 7555, 'conchita': 4447, 'deprav': 5507, 'phinea': 15254, 'ferb': 7363, 'candac': 3410, 'faroff': 7235, 'coax': 4206, 'ha': 8908, 'yoonju': 22464, 'profil': 15876, 'hwang': 9838, 'sangjun': 17436, 'yugi': 22498, 'kaiba': 10887, 'transcend': 20544, 'shane': 18036, 'meadow': 12789, 'exmercenari': 6997, 'sierra': 18281, 'leon': 11659, 'immens': 9982, 'conscript': 4518, 'swath': 19672, 'countrywid': 4750, 'tara': 19892, 'markov': 12541, 'deathstrok': 5292, 'daredevil': 5176, 'gdr': 8192, 'homemad': 9584, 'heel': 9274, 'nervewrack': 13894, 'stevi': 19196, 'forthcom': 7754, 'taciturn': 19786, 'barbarian': 2016, 'stead': 19140, 'dear': 5281, 'secondclass': 17733, 'shown': 18221, 'cann': 3422, 'hammer': 9006, 'sickl': 18260, 'vastli': 21437, 'fatal': 7261, 'chu': 3989, 'taiwan': 19815, 'unattach': 20947, 'banquet': 2003, 'dish': 5782, 'surrog': 19616, 'randi': 16289, 'rarin': 16326, 'prowrestl': 15965, 'circuit': 4034, 'tight': 20292, 'longinthetooth': 11981, 'stripper': 19349, 'unassum': 20945, 'chees': 3852, 'excel': 6934, 'ampl': 1161, 'morph': 13446, 'pandem': 14840, 'toll': 20393, 'clip': 4145, 'precursor': 15712, 'rework': 16851, 'elliott': 6507, 'extraterrestri': 7087, 'et': 6821, 'intervent': 10319, 'hardli': 9093, 'contin': 4571, 'howland': 9727, 'zephyr': 22563, 'utterli': 21342, 'seaston': 17722, 'chopper': 3959, 'patton': 15005, 'tank': 19873, 'fault': 7280, 'habit': 8909, 'insubordin': 10265, 'paralyt': 14880, 'intercours': 10289, 'drac': 6065, 'tinkl': 20335, 'playtim': 15444, 'romanoff': 17084, 'ledger': 11596, 'lebanes': 11585, 'graham': 8634, 'beacon': 2162, '2257': 330, 'moresh': 13427, 'dolphin': 5936, 'vortex': 21719, 'spare': 18854, 'shell': 18099, 'marx': 12593, 'humili': 9775, 'stuffi': 19384, 'collier': 4301, 'mystifi': 13673, 'selfhypnosi': 17816, 'timewher': 20318, 'bestow': 2375, 'superhuman': 19544, 'hercul': 9352, 'zeu': 22570, 'pegasu': 15074, 'phil': 15236, 'hothead': 9691, 'hade': 8922, 'olympu': 14427, 'countless': 4742, 'bmovi': 2647, '1820': 123, 'frontiersman': 7945, 'hugh': 9750, 'glass': 8450, 'maul': 12678, 'gonzo': 8553, 'threeprong': 20223, 'actresss': 675, 'beth': 2382, 'calvin': 3365, 'misplac': 13219, 'extent': 7069, 'prefer': 15724, '12th': 49, '1718': 108, 'barbi': 2021, 'twain': 20808, 'flock': 7616, 'perch': 15130, 'telephon': 19996, 'dopey': 5987, 'cabl': 3289, 'swim': 19696, 'incomplet': 10078, 'rehabilit': 16571, 'handicap': 9024, 'tetrapleg': 20092, 'parapleg': 14893, 'crania': 4818, 'impot': 10022, 'fork': 7737, 'kingston': 11123, 'jamaica': 10517, 'bigg': 2433, 'shotta': 18204, 'loyalti': 12105, 'jamaican': 10518, 'scrappi': 17663, 'doo': 5971, 'grimwood': 8747, 'gym': 8900, 'toughest': 20483, 'springfield': 18976, 'mightiest': 13061, 'crossov': 4920, 'marvel': 12588, 'cinemat': 4022, 'chiffr': 3904, 'montenegro': 13374, 'bondon': 2717, '00': 0, 'agentto': 810, 'vesper': 21521, 'lynd': 12192, 'leiter': 11633, '1929': 181, 'flow': 7637, 'tress': 20616, 'highris': 9441, 'variat': 21428, 'deiti': 5403, 'netherland': 13905, 'gestapo': 8311, 'pandora': 14843, 'rebuilt': 16428, 'au': 1710, 'revoir': 16840, 'enfant': 6648, 'precoci': 15707, 'camaraderieuntil': 3367, 'writerdirector': 22348, 'mall': 12366, 'cowardic': 4788, 'dazzl': 5248, 'wannab': 21811, 'earthquak': 6322, 'rundown': 17238, 'immin': 9985, 'sickli': 18261, 'ester': 6814, 'nearempti': 13819, 'basic': 2086, 'inabl': 10040, 'heighten': 9287, 'raci': 16178, 'vagu': 21363, 'wideey': 22092, 'enrico': 6677, 'ratso': 16348, 'rizzo': 16980, 'bum': 3156, 'quixot': 16152, 'mug': 13560, 'agil': 818, 'sallust': 17376, 'funè': 8010, 'disingenu': 5788, 'hypocrit': 9864, 'tax': 19928, 'oppresseaccusé': 14527, 'illegitim': 9943, 'monasteri': 13328, 'caesar': 3306, 'battleharden': 2126, 'wardaddi': 21819, 'fiveman': 7532, 'outnumb': 14658, 'outgun': 14650, 'stitch': 19234, 'faraway': 7219, 'hawaiian': 9180, 'mischiev': 13198, 'puppi': 16043, 'lilo': 11808, 'ohana': 14380, 'naina': 13704, 'aman': 1085, 'rohit': 17062, 'starcross': 19088, 'goblin': 8499, 'emotionless': 6586, 'eric': 6755, 'draven': 6088, 'dravenwatch': 6089, 'crowreturn': 4932, 'zodiac': 22597, 'taunt': 19923, 'cipher': 4030, 'evergrow': 6876, 'risen': 16956, 'televisionexecut': 20002, 'mauritanian': 12682, 'mohamed': 13296, 'ould': 14629, 'slahi': 18457, 'guantanamo': 8814, 'unearth': 21052, 'longburi': 11962, 'ks': 11291, 'lookalik': 11999, 'windi': 22153, 'dawn': 5234, 'zelig': 22558, 'footag': 7693, 'woodrow': 22262, 'tenaci': 20024, 'spinal': 18924, 'selfcontain': 17801, 'undersold': 21026, 'requisit': 16734, 'groupi': 8787, 'historian': 9504, 'behindthescen': 2249, 'toon': 20422, 'pattycak': 15006, 'snoop': 18619, 'marvin': 12589, 'acm': 647, 'hopelessli': 9636, 'théo': 20261, 'limbolik': 11811, 'latter': 11496, 'tranquil': 20541, 'shortliv': 18196, 'cia': 4007, 'antich': 1307, 'ho': 9529, 'kuanghan': 11293, 'canton': 3437, 'manchu': 12394, 'clyde': 4185, 'barrow': 2065, 'slevin': 18502, 'dilemma': 5683, 'elisa': 6492, 'growth': 8794, 'thunderstorm': 20254, 'vera': 21483, 'ashton': 1602, 'guernsey': 8825, 'potato': 15648, 'peel': 15067, 'pie': 15301, 'overconfid': 14695, 'slumber': 18541, 'misstep': 13233, 'arkansa': 1498, 'cotton': 4718, 'memphi': 12891, 'elvi': 6527, 'presley': 15766, 'perkin': 15152, 'cherri': 3874, 'dropout': 6147, 'iraq': 10384, 'anchor': 1196, 'ptsd': 15997, 'paddington': 14779, 'cyclist': 5060, 'jeep': 10594, 'deckhand': 5332, 'robust': 17018, 'kafiristan': 10878, 'godlik': 8511, 'rudyard': 17213, 'kipl': 11135, 'ryder': 17275, 'metropoli': 12974, 'singersongwrit': 18348, 'winslow': 22168, 'leach': 11559, 'phoenix': 15260, 'trespass': 20615, 'quinci': 16141, 'mccall': 12727, 'wright': 22340, 'adulthood': 740, 'allconsum': 990, 'bigleagu': 2439, 'tenenbaum': 20032, 'ethelin': 6827, 'genius': 8246, 'brillianc': 3004, 'kaffe': 10877, 'cocounsel': 4232, 'cmdr': 4189, 'joann': 10695, 'galloway': 8087, 'haze': 9195, 'highrank': 9440, 'jessep': 10633, 'candi': 3412, 'wonka': 22248, 'wale': 21783, 'unprotect': 21175, 'liesel': 11749, 'frenchamerican': 7886, 'greec': 8690, 'huo': 9808, 'jia': 10662, 'stroud': 19363, 'loneli': 11953, 'exercis': 6958, 'ornithologist': 14580, 'mo': 13268, 'zeke': 22556, 'unmotivatedyetcharismat': 21152, 'genuin': 8265, 'nontradit': 14121, 'punch': 16031, 'raimunda': 16237, 'sole': 18697, 'fantasyadventur': 7210, 'diver': 5860, 'bewilder': 2397, 'breath': 2945, 'vital': 21653, 'scuba': 17687, 'johana': 10716, 'none': 14101, 'tackl': 19787, 'fatherhood': 7268, 'urgenc': 21308, 'spencer': 18899, 'sycamor': 19733, 'kirbi': 11138, 'denmark': 5485, 'natascha': 13770, 'kampusch': 10909, 'kaspar': 10951, 'hauser': 9168, 'devoid': 5608, 'overcoat': 14692, 'lobbyist': 11909, 'lobbi': 11908, 'legisl': 11622, 'departmentstor': 5497, 'herd': 9354, 'brood': 3056, 'cough': 4721, 'harddrink': 9083, 'clanton': 4068, 'trinket': 20653, 'longawait': 11961, 'commando': 4368, 'backfir': 1877, 'careerend': 3488, 'kung': 11308, 'fu': 7964, 'führer': 8036, 'mastro': 12631, 'geppetto': 8286, 'ciliegia': 4014, 'carey': 3498, 'radioact': 16195, 'amiss': 1142, 'shrunk': 18236, 'inch': 10066, 'shrink': 18234, 'decreas': 5345, 'lash': 11468, '19thcenturi': 257, 'stopmot': 19259, 'victoria': 21560, 'bereft': 2337, 'karol': 10945, 'dominiqu': 5949, 'jointli': 10729, 'mikolah': 13077, 'aimless': 853, 'alessandro': 940, 'squander': 19007, 'begrudgingli': 2239, 'banter': 2005, 'comingofag': 4362, 'waldheim': 21782, 'labich': 11346, 'smoothli': 18585, 'dwindl': 6279, 'ruse': 17245, 'freeliv': 7871, 'bellevil': 2282, 'limelight': 11814, 'edith': 6373, 'piaf': 15280, '1935': 187, 'leple': 11673, 'nervous': 13896, 'indel': 10101, 'gentleheart': 8260, 'fidel': 7409, 'processor': 15860, 'soho': 18681, 'coffe': 4248, 'lackey': 11357, 'pawn': 15020, 'neonazi': 13871, 'blindli': 2582, 'gees': 8202, 'ultralight': 20909, 'accordingli': 623, 'manicurist': 12425, 'carol': 3529, 'androphobia': 1222, 'patholog': 14986, 'fright': 7929, 'hallucin': 8991, 'mutat': 13656, 'haskin': 9149, 'allblack': 988, 'lineup': 11838, 'ncaa': 13808, 'ka': 10873, 'kui': 11298, 'testifi': 20088, 'bruge': 3077, 'belgium': 2267, 'magdalen': 12275, 'sisterhood': 18373, 'crispina': 4883, 'premarit': 15732, 'bernadett': 2353, 'flirt': 7611, 'auster': 1745, 'célestin': 5078, 'borel': 2781, 'stiff': 19207, 'gamekeep': 8101, 'sologn': 18709, 'recalcitr': 16431, 'stubborn': 19372, 'sovereign': 18818, 'pond': 15546, 'heath': 9243, 'fresnay': 7906, 'manor': 12445, 'wasteland': 21863, 'toxic': 20506, 'giuliana': 8420, 'tenuou': 20045, 'ugo': 20889, 'corrado': 4677, 'anxieti': 1353, '1st': 263, 'dune': 6236, 'buggi': 3131, 'mortar': 13458, 'quadrupl': 16087, 'ampute': 1163, 'unbeknown': 20958, 'therebi': 20144, 'gould': 8602, 'confeder': 4466, '15yearold': 89, 'unabash': 20932, 'upandcom': 21261, 'stillwat': 19221, 'inanim': 10044, 'memor': 12889, 'zhen': 22573, 'insult': 10268, 'japans': 10547, 'mitsuko': 13251, 'yamada': 22406, '1937': 190, 'shangai': 18038, 'hou': 9699, 'tingan': 20329, 'ryuichi': 17279, 'akutagawa': 891, 'corridor': 4683, 'ballroom': 1961, 'recept': 16441, 'persian': 15172, 'ambassador': 1104, 'ryu': 17278, 'kidney': 11078, 'cycl': 5059, 'biographi': 2472, 'frida': 7912, 'kahlo': 10882, 'tempestu': 20012, 'altruist': 1070, 'rebuild': 16427, 'moretti': 13429, 'diari': 5642, 'slice': 18505, 'character': 3790, 'martiniqu': 12582, 'charter': 3818, 'dashwood': 5211, 'titular': 20358, '34': 386, 'badger': 1907, 'bachelorhood': 1868, 'unattract': 20950, 'exposé': 7047, 'tobacco': 20363, 'wigand': 22107, 'runin': 17239, 'nank': 13725, 'cleans': 4108, 'overflow': 14704, 'janemba': 10530, 'fusion': 8026, 'underdog': 21006, 'ceccotti': 3672, 'misanthrop': 13193, 'brute': 3089, 'alessia': 941, 'jeeg': 10593, 'worldwid': 22298, '23rd': 334, 'feder': 7319, 'starship': 19106, 'uss': 21328, 'enterpris': 6693, 'kirk': 11142, 'inspect': 10247, 'supermen': 19551, 'regula': 16567, 'wrest': 22334, 'sexagenarian': 17980, 'artific': 1572, 'evacu': 6848, 'harbour': 9076, 'dunkirk': 6239, '26th': 359, '4th': 426, 'kindergarten': 11107, 'picnic': 15295, 'tomboy': 20399, 'rooster': 17116, 'cogburn': 4255, 'grit': 8759, 'nebraska': 13831, 'mallo': 12367, 'twilight': 20828, 'valencia': 21370, 'immeasur': 9980, 'incap': 10058, 'salvat': 17391, 'sentaro': 17890, 'bakeri': 1937, 'dorayaki': 5994, 'pastri': 14972, 'bean': 2167, 'toku': 20383, 'kitchen': 11152, 'gisbourn': 8414, 'marian': 12507, 'waid': 21763, 'babel': 1852, 'jla': 10688, 'vandal': 21404, 'confidenti': 4475, 'compil': 4407, 'bardock': 2027, 'lowrank': 12098, 'anthoni': 1299, 'vermont': 21501, 'constanc': 4536, 'peterson': 15202, 'psychoanalyst': 15985, 'psychoanalysi': 15984, 'iwo': 10467, 'jima': 10674, 'songwrit': 18743, 'reproduc': 16720, 'overhaul': 14707, '3d': 400, 'soundtrack': 18803, 'rerecord': 16735, '61': 457, 'harford': 9105, 'chineseamerican': 3935, 'grandma': 8650, '29yearold': 368, 'adalin': 680, 'grinch': 8748, 'morrow': 13452, 'manuscript': 12462, 'hast': 9152, 'plow': 15460, 'superintellig': 19546, 'firmer': 7495, 'zamperini': 22533, 'promiscu': 15903, 'egypt': 6411, 'garrigan': 8146, 'uganda': 20883, 'obot': 14281, 'idi': 9908, 'amin': 1139, 'parapsychologist': 14895, 'protonpacktot': 15946, 'extermin': 7071, 'hobgoblin': 9537, 'pest': 15195, 'knockout': 11192, 'purg': 16047, 'swanki': 19664, 'refriger': 16535, 'xiv': 22387, 'mermaid': 12931, 'sloppi': 18527, 'coverag': 4778, 'allan': 985, 'courtempierr': 4762, 'bitten': 2509, 'gisel': 8415, 'vehicl': 21457, 'jp': 10790, 'sonoshe': 18750, 'podium': 15492, 'equip': 6745, 'redlin': 16497, 'preemin': 15720, 'gar': 8122, 'bowden': 2840, 'cadi': 3303, 'violat': 21617, 'gambini': 8093, 'sixth': 18395, 'leatherclad': 11581, 'rifl': 16908, 'cforcharli': 3737, 'essenti': 6805, 'guadalcan': 8813, 'unoppos': 21161, 'exhaust': 6973, 'apostl': 1383, 'nero': 13885, 'bleakest': 2568, 'misde': 13200, 'boozeaddl': 2766, 'sweepstak': 19682, 'garagerock': 8125, 'pilgrim': 15329, 'rid': 16896, 'ramona': 16270, 'troublesom': 20688, 'format': 7742, 'grissom': 8756, 'benight': 2312, 'straightarrow': 19284, 'slayton': 18483, 'walli': 21796, 'schirra': 17589, 'freshmen': 7904, 'cheerlead': 3850, 'olivia': 14420, 'wen': 21990, 'booti': 2761, 'thesi': 20152, 'ángela': 22634, 'snuff': 18647, 'rambo': 16262, 'vagranc': 21361, 'vet': 21528, 'ratatattat': 16333, 'actionmovi': 667, 'hound': 9702, 'relentless': 16615, 'heavyhand': 9258, 'guerilla': 8823, 'dwarfism': 6272, 'jersey': 10629, 'chatti': 3828, 'vendor': 21467, 'odett': 14333, '8yrold': 508, '17thcenturi': 114, 'urbain': 21304, 'grandier': 8646, 'loudun': 12046, 'richelieu': 16885, 'hysteria': 9868, 'bledso': 2569, 'creekvil': 4853, 'carolina': 3531, 'walid': 21784, 'coastal': 4200, 'kolya': 11219, 'demolish': 5462, 'gymnast': 8902, 'instal': 10251, 'trusti': 20719, 'delorean': 5437, 'mineshaft': 13143, '1885': 145, 'clayton': 4104, 'buford': 3129, '14thcenturi': 70, 'franciscan': 7826, 'baskervil': 2089, 'confer': 4468, 'shadowi': 18012, 'annual': 1279, 'hasnt': 9150, 'pietro': 15314, 'zinni': 22589, 'sopox': 18765, 'coeli': 4244, 'syntet': 19755, 'postworld': 15643, 'barbar': 2014, 'hierarchi': 9412, 'unrel': 21188, 'simultan': 18336, 'sudanes': 19457, 'lotteri': 12035, 'navi': 13795, 'missionprotect': 13229, 'comradesto': 4432, 'sniper': 18617, 'pinpoint': 15354, 'accuraci': 631, 'megacorpor': 12845, 'peanut': 15045, 'thumbsuck': 20249, 'blankethold': 2556, 'pumpkin': 16029, 'mythbi': 13676, 'patch': 14976, 'lomax': 11947, '1969': 224, 'dalton': 5122, 'sharon': 18060, 'tate': 19912, 'polanski': 15514, 'polio': 15528, 'esclorosi': 6791, 'ironman': 10402, '38km': 398, '180km': 120, '42': 413, '100': 5, 'dominik': 5946, 'hottest': 9697, 'brandnam': 2900, 'cloth': 4162, 'woven': 22318, 'cherish': 3871, 'galvin': 8091, 'reduc': 16505, 'ambul': 1112, 'remind': 16647, 'malpractic': 12376, 'platteral': 15428, 'preliminari': 15731, 'courtto': 4770, 'settlement': 17956, 'exgangst': 6967, '16yearsold': 105, 'scoot': 17636, 'breakneck': 2941, 'till': 20302, 'hara': 9072, 'homestead': 9593, 'smoulder': 18588, 'settler': 17957, 'lennon': 11654, 'mccartney': 12732, 'harrison': 9130, 'ringo': 16939, 'electrifi': 6458, 'irrever': 10412, 'pastich': 14969, 'beatl': 2179, 'bourn': 2832, 'swiss': 19708, 'worldclass': 22289, 'spybut': 18996, 'séverin': 19768, 'serizi': 17933, 'masochist': 12605, 'lovestruck': 12083, 'mention': 12906, 'highclass': 9414, 'anai': 1174, 'jour': 10776, 'scuttl': 17698, 'lovel': 12074, 'heroism': 9375, 'furious': 8017, 'avert': 1788, 'superassassin': 19530, 'tag': 19800, 'guild': 8838, 'excommunicado': 6944, 'predestin': 15717, 'tempor': 20016, 'excia': 6940, 'creasi': 4839, 'firsttim': 7506, 'convoy': 4603, 'uboat': 20876, 'mal': 12338, 'uma': 20923, 'ursula': 21312, 'selfproclaim': 17833, 'prof': 15870, 'melodi': 12876, 'mac': 12210, 'holt': 9575, 'smoke': 18577, 'fireman': 7488, 'poppi': 15574, 'branch': 2896, 'troll': 20675, 'distinct': 5839, 'lago': 11373, 'gunmen': 8866, 'paramilitari': 14883, 'counterterror': 4738, 'retrain': 16802, 'unbeknownst': 20959, 'saw': 17524, 'uphil': 21271, 'shini': 18140, 'franchis': 7824, 'selfemploy': 17811, 'carer': 3495, 'point': 15501, 'statement': 19118, 'brit': 3015, 'vent': 21476, 'nocturn': 14077, 'traver': 20581, 'hardwick': 9101, 'dale': 5115, 'tremont': 20607, 'upstair': 21295, 'maori': 12466, 'auckland': 1713, 'tamahori': 19853, 'heke': 9301, 'ultron': 20921, 'regul': 16566, 'faction': 7138, 'eleven': 6474, 'sublimin': 19415, 'kit': 11149, 'starryey': 19104, 'impish': 10007, 'clarion': 4078, 'zine': 22587, 'sexism': 17985, 'mack': 12230, 'covert': 4779, 'ambush': 1115, 'resili': 16754, 'vessel': 21522, 'magnet': 12287, 'tablet': 19777, 'stink': 19230, 'fodder': 7666, '1183': 34, 'various': 21431, 'primari': 15810, 'chinon': 3938, 'anjou': 1266, 'angevin': 1242, 'eleanor': 6452, 'aquitain': 1426, 'alai': 899, 'lionheart': 11852, 'geoffrey': 8270, 'berg': 2340, 'mod': 13278, 'unknowingli': 21133, 'advoc': 759, 'unfold': 21078, 'midland': 13044, 'doldrey': 5925, 'thrillseek': 20233, 'spock': 18945, 'vulcan': 21734, 'logicbas': 11940, 'pepa': 15116, 'sleepingpilllac': 18492, 'gazpacho': 8191, '1971': 226, 'carlo': 3512, 'robledo': 17012, 'puch': 16008, 'vocat': 21683, 'remors': 16653, 'bader': 1905, 'ginsburg': 8390, 'overturn': 14741, 'firstgrad': 7500, 'schoolmat': 17613, 'rubin': 17206, 'blabbermouth': 2517, 'socal': 18659, 'countess': 4740, 'intimaci': 10324, 'donatella': 5958, 'peppi': 15121, 'brendan': 2959, 'serpent': 17936, 'kell': 11004, 'aiden': 847, '300': 371, 'bussotti': 3229, 'cecchi': 3670, '1681': 100, 'violin': 21623, 'montreal': 13387, 'samuel': 17410, 'apprais': 1407, 'hildi': 9462, 'remarri': 16639, 'baldwin': 1947, 'temporarili': 20018, 'somalian': 18716, 'nomad': 14089, '38': 396, 'spokeswoman': 18951, 'genit': 8242, 'mutil': 13659, 'jonathan': 10741, 'harker': 9109, 'transylvania': 20564, 'mina': 13124, 'longdead': 11963, 'elisabeta': 6493, 'hels': 9326, 'owen': 14748, 'yearold': 22430, 'rosaleen': 17127, 'oneal': 14461, 'panther': 14852, 'edgar': 6366, 'hoover': 9632, 'chairman': 3748, 'hampton': 9011, 'ascendsfal': 1585, 'routea': 17176, 'wage': 21758, 'kimbl': 11102, 'foucher': 7775, 'genevièv': 8237, 'emeri': 6561, 'embattl': 6546, 'umbrella': 20925, 'twoyear': 20846, 'koreanamerican': 11237, 'foulmouth': 7779, 'rug': 17218, 'ozark': 14760, 'tracker': 20516, 'parabl': 14867, 'galile': 8074, 'psycho': 15983, 'stanford': 19076, 'prematur': 15733, 'tragicomedi': 20528, 'romain': 17077, 'goncourt': 8547, 'literatur': 11871, 'katniss': 10970, 'everdeen': 6867, '74th': 484, 'peeta': 15071, 'mellark': 12872, 'capitol': 3453, '75th': 488, 'panem': 14844, 'guevara': 8830, 'granado': 8638, 'monsterpocalyps': 13364, 'aime': 852, 'pureheart': 16046, 'lazzaro': 11554, 'sharecropp': 18054, 'marquis': 12561, 'mija': 13068, 'multin': 13586, 'okja': 14394, 'jakarta': 10513, 'impenetr': 9999, 'bravest': 2918, 'cloak': 4148, 'predawn': 15715, 'spotter': 18966, 'exit': 6990, 'iko': 9935, 'uwai': 21345, 'beckon': 2205, 'brokenheart': 3043, 'hardboil': 9079, 'hotlin': 9692, 'firefli': 7486, 'presidentdict': 15763, 'bankrupt': 1997, 'freedonia': 7865, 'sylvania': 19738, 'teasdal': 19954, 'wheelerdeal': 22035, 'vivian': 21665, 'grinchi': 8749, 'jorg': 10759, '364': 393, 'baran': 2012, '35': 387, 'sharecrop': 18053, 'gospel': 8591, 'probat': 15849, 'rapidlygentrifi': 16313, 'lego': 11626, 'minifigur': 13150, 'masterbuild': 12622, 'glu': 8483, 'mcginni': 12756, 'wong': 22247, 'feihong': 7333, 'export': 7043, 'drunken': 6177, 'style': 19395, 'antagon': 1292, 'awol': 1817, 'legitim': 11623, 'proteg': 15942, 'jongsu': 10749, 'haemi': 8925, 'nazareth': 13800, 'uruguay': 21313, 'tupamaro': 20768, 'oslo': 14606, 'heiresss': 9296, 'cecilia': 3676, 'purpl': 16054, 'cairo': 3319, 'conveni': 4592, 'randal': 16288, 'sharpwit': 18070, 'pottymouth': 15661, 'needl': 13845, 'counter': 4732, 'jockey': 10705, 'hockey': 9539, 'roof': 17109, 'asterix': 1645, 'obelix': 14268, 'youll': 22476, 'handpick': 9031, '150': 74, 'exwif': 7097, 'tess': 20082, 'wismar': 22191, 'vacuum': 21356, 'repairman': 16696, 'scotland': 17649, 'ada': 679, 'mcgrath': 12758, 'alisdair': 976, 'stewart': 19198, 'maorifriendli': 12467, 'bain': 1931, 'lifealt': 11754, 'voluptu': 21712, 'unsuccess': 21222, 'craig': 4812, 'portal': 15596, 'malkovich': 12365, 'anybodi': 1356, 'reviv': 16839, 'salesmen': 17368, 'heat': 9242, 'shelley': 18100, 'leven': 11706, 'williamson': 22136, 'toughtalk': 20486, 'jesuit': 10640, 'portug': 15610, 'portugues': 15611, 'aggressor': 816, 'fourteen': 7795, 'kaworu': 10976, 'nagisa': 13701, 'tang': 19865, 'lung': 12169, 'negoti': 13853, 'preoccupi': 15742, 'deepthink': 5366, 'welsh': 21986, 'jordana': 10755, 'devilish': 5601, 'darkhair': 5186, 'swansea': 19667, 'oldschool': 14411, 'embitt': 6551, 'prejudici': 15730, 'brashear': 2906, 'heap': 9223, 'collaps': 4286, 'swede': 19676, 'hunch': 9787, 'overseen': 14729, 'sandi': 17425, 'greaser': 8681, 'outofwork': 14665, 'luckless': 12132, 'marwood': 12592, 'acerb': 636, 'withnail': 22203, 'squalid': 19004, 'flamboyantli': 7553, 'unpleas': 21166, 'tedium': 19973, 'torrenti': 20456, 'usa': 21316, 'stingo': 19228, 'holocaust': 9573, 'prewar': 15792, 'auschwitz': 1741, 'sumatran': 19489, 'ratmonkey': 16345, 'cosgrov': 4698, 'outburst': 14636, 'enviou': 6719, 'tarzan': 19904, 'kala': 10897, 'porter': 15597, 'mann': 12435, 'rusti': 17257, 'tanker': 19874, 'melvin': 12883, 'udal': 20879, 'cranki': 4819, 'bigot': 2440, 'obsessivecompuls': 14288, 'breakfast': 2938, 'huesca': 9744, 'equatori': 6740, 'jacobo': 10489, 'kilian': 11086, 'poo': 15560, 'turner': 20784, 'tender': 20028, 'ecstasi': 6359, 'amanda': 1086, 'waller': 21792, 'newlyform': 13954, 'arkham': 1500, 'hibern': 9397, 'specimen': 18876, 'twicedivorc': 20827, 'injustic': 10200, 'pushup': 16066, 'bra': 2872, 'erin': 6760, 'blum': 2637, 'créteil': 4966, '10th': 25, 'waihau': 21765, 'alamein': 901, 'versionan': 21515, 'hoodlum': 9623, '1914': 168, 'scot': 17648, 'rockatanski': 17029, 'dusti': 6264, 'gasolin': 8156, 'scraggli': 17658, 'fueldepot': 7969, 'encamp': 6610, 'humungu': 9785, 'scrupl': 17685, 'ross': 17143, 'blackbriar': 2525, 'upgrad': 21267, 'treadston': 20591, 'stir': 19233, 'tchalla': 19936, 'wakanda': 21771, 'wakandan': 21772, 'mantl': 12456, 'nakia': 13711, 'queenmoth': 16119, 'princesskid': 15822, 'dora': 5991, 'milaj': 13079, 'psychedel': 15976, 'bust': 3230, 'autopsi': 1771, 'technologicallysuperior': 19965, 'sub': 19406, 'ramiu': 16269, 'decorum': 5341, 'postwwi': 15644, 'veneer': 21469, 'videogam': 21566, 'sega': 17771, 'sonic': 18745, 'hedgehog': 9269, 'speediest': 18893, 'liveact': 11881, 'robotnik': 17017, 'nicola': 13991, 'kaufman': 10974, 'inadequaci': 10042, 'freeload': 7872, 'donald': 5956, 'orchid': 14553, 'pathet': 14984, 'thoma': 20187, 'anderson': 1206, 'thom': 20186, 'radiohead': 16197, 'loud': 12041, 'app': 1384, 'updat': 21265, 'patema': 14977, 'prohibit': 15888, 'flighti': 7601, 'fairweath': 7158, 'diminish': 5693, 'setback': 17950, 'unconcern': 20981, 'astronom': 1654, 'deciph': 5327, 'elsewher': 6520, 'pasqual': 14954, 'matera': 12641, 'basilicata': 2088, 'furio': 8015, 'niggler': 14001, 'mimmo': 13122, 'verona': 21507, '1felco': 262, 'dunson': 6241, 'groot': 8773, 'garth': 8151, 'matt': 12662, 'missouri': 13232, 'butt': 3240, 'oldest': 14405, 'pont': 15551, 'neuf': 13910, 'vagrant': 21362, 'afflict': 772, 'blair': 2542, 'willow': 22139, 'kindheart': 11109, 'tea': 19938, 'hadley': 8923, 'isla': 10432, 'devin': 5603, 'delanc': 5411, 'crown': 4931, 'oakhaven': 14257, 'massachusett': 12611, 'ancestor': 1192, 'rumor': 17231, 'lifeboat': 11756, 'jacob': 10488, 'jezzi': 10660, 'chiropractor': 3943, 'antonina': 1345, 'zabinski': 22521, 'mesrin': 12944, 'glamour': 8443, 'lawabid': 11534, 'swiftli': 19694, 'genial': 8240, 'bumbl': 3157, 'topfloor': 20427, 'grimi': 8743, 'fathom': 7275, 'ultramodern': 20911, 'dynamit': 6284, 'ignacio': 9922, 'enriqu': 6679, 'rani': 16298, '24yearold': 346, 'honeymoon': 9614, 'islandset': 10435, 'midwestern': 13054, 'carraway': 3539, 'jay': 10565, 'gatsbi': 8168, 'nouveau': 14194, 'penni': 15103, 'cheneri': 3864, 'virginiabas': 21631, 'horserac': 9671, 'lucien': 12122, 'laurin': 11523, 'maledomin': 12354, 'tripl': 20657, 'mindnumb': 13137, 'initech': 10195, 'cubicl': 4976, 'gibbon': 8351, 'odonovan': 14341, 'tan': 19863, 'physicallyskil': 15275, 'crossroad': 4921, 'imf': 9974, 'ethan': 6825, 'depict': 5500, 'viii': 21587, 'chancellor': 3766, 'swear': 19674, 'oath': 14263, 'stalingrad': 19052, 'extravaganza': 7089, 'fantasia': 7208, 'wayward': 21902, 'pensiv': 15110, 'sylvest': 19739, 'proce': 15856, 'vice': 21548, 'rear': 16405, 'adoni': 719, 'leopold': 11670, 'kessler': 11051, 'conductor': 4462, 'zentropa': 22562, 'railway': 16235, 'katharina': 10963, 'hartmann': 9136, 'intersect': 10314, 'atwat': 1707, 'outspoken': 14677, 'cp': 4800, 'cochair': 4218, 'summit': 19497, 'desegreg': 5532, 'durham': 6256, 'raciallycharg': 16180, 'juilliard': 10813, 'singerguitarist': 18347, 'suspend': 19633, '1988': 244, 'lex': 11713, 'luthor': 12180, 'versu': 21517, 'owlman': 14751, 'seren': 17916, 'totalitarian': 20469, 'unchart': 20974, 'souza': 18817, 'pooch': 15561, 'sistersan': 18375, 'songandd': 18739, 'astaireto': 1644, 'cancel': 3406, 'hideou': 9410, 'scammer': 17547, 'tendenc': 20027, 'helfgott': 9306, 'breakdown': 2936, 'oneday': 14467, 'bertrand': 2365, 'barnier': 2048, 'fune': 7998, 'storylin': 19273, 'mime': 13117, 'hanney': 9049, 'rude': 17208, 'knife': 11183, 'bit': 2505, '39': 399, 'pi': 15279, 'zookeep': 22609, 'hyena': 9843, 'zebra': 22550, 'orangutan': 14543, 'tiger': 20289, 'shipwreck': 18151, 'monika': 13341, 'cramp': 4815, 'lin': 11824, 'mcadam': 12722, 'oneinathousand': 14471, 'winchest': 22150, 'floyd': 7640, 'stoner': 19252, 'geek': 8200, 'conundrum': 4589, 'cora': 4642, 'huron': 9812, 'mohican': 13300, 'trapper': 20568, 'hawkey': 9182, 'nag': 13699, 'tuna': 20760, 'englishman': 6657, 'chloe': 3947, 'homeschool': 9590, 'cedric': 3678, 'errol': 6773, 'genteel': 8258, '1880': 144, 'dorincourt': 5999, 'disown': 5807, 'zhenya': 22574, 'recrimin': 16477, 'impati': 9995, 'alyosha': 1077, 'mohan': 13297, 'bhargav': 2405, 'miscarriag': 13196, 'continentspan': 4573, 'bresson': 2966, 'cabal': 3278, 'giulietta': 8422, 'seanc': 17714, 'slightli': 18513, 'skeptic': 18417, 'nudg': 14219, 'inde': 10097, 'philander': 15239, 'kri': 11263, 'kringl': 11267, 'jolli': 10735, 'maci': 12228, 'parad': 14869, 'félix': 8034, 'leaflet': 11566, 'caravan': 3474, 'josett': 10765, 'so': 18648, 'thérèse': 20263, 'pivert': 15385, 'bluster': 2644, 'sliman': 18515, 'rabbi': 16160, 'assasin': 1623, 'dentistwif': 5494, 'overcuri': 14697, 'eleg': 6465, 'zeffirelli': 22555, 'wellknown': 21978, 'languag': 11430, 'montagu': 13369, 'capulet': 3467, 'defi': 5381, 'via': 21541, 'poltergeist': 15541, 'insuffer': 10266, 'drastic': 6087, 'frightmeist': 7932, 'remedi': 16642, 'sidekick': 18267, 'wrestlemania': 22336, 'wwe': 22364, 'spooki': 18957, 'superstar': 19567, 'cena': 3699, 'cara': 3469, 'brodu': 3039, 'aj': 873, 'miz': 13263, 'hendrix': 9338, 'roat': 16994, 'lifethreaten': 11779, 'humbert': 9770, 'appal': 1385, 'vulgar': 21735, 'lolita': 11945, 'micki': 13013, 'welterweight': 21989, 'rockylik': 17043, 'dicki': 5650, 'boxerturnedtrain': 2855, 'rebound': 16425, 'kod': 11207, 'vada': 21357, 'sultenfuss': 19486, 'parlor': 14920, 'allerg': 998, 'hangup': 9043, 'shelli': 18101, 'pastamak': 14968, 'zen': 22559, 'zin': 22586, 'helsinki': 9327, 'beaten': 2178, 'bronz': 3054, '1978': 233, 'bernard': 2355, 'nathali': 13773, 'gigi': 8361, 'jerom': 10627, 'jeanclaud': 10578, 'midwif': 13055, 'sissi': 18371, 'néné': 14251, 'bonanza': 2712, 'rapayet': 16308, 'indigen': 10119, 'vultur': 21738, 'malèna': 12382, 'nico': 13989, 'promptli': 15907, 'tongu': 20414, 'sidiou': 18275, 'enact': 6607, 'unlimit': 21141, 'anakin': 1175, 'brogan': 3040, 'mccallist': 12728, 'bungl': 3165, 'plucki': 15464, 'boobi': 2735, 'galor': 8088, 'papillon': 14863, 'charrièr': 3816, 'safecrack': 17323, 'penal': 15085, 'guiana': 8832, 'dega': 5394, 'frencoitalian': 7891, 'total': 20468, 'compens': 4402, 'napel': 13733, 'bordeaux': 2773, 'contraband': 4579, 'jewelri': 10653, 'involuntari': 10360, 'unwit': 21255, 'milieu': 13091, 'saboteur': 17296, 'naziheld': 13802, 'longrang': 11988, 'altmann': 1064, 'octogenarian': 14323, 'plunder': 15471, 'obtain': 14292, 'perpetr': 15160, 'menageri': 12894, 'deck': 5329, 'exspi': 7061, 'rooney': 17114, 'ufo': 20881, 'pakistanborn': 14805, 'kumail': 11300, 'nanjiani': 13724, 'grad': 8622, 'gruesom': 8800, 'carv': 3561, 'neck': 13836, 'takab': 19817, 'sakuma': 17352, 'anglozulu': 1248, 'manofthepeopl': 12442, 'chard': 3793, 'snooti': 18622, 'bromhead': 3048, 'natal': 13766, 'rork': 17123, 'wordlywis': 22278, 'knock': 11189, 'enamour': 6609, 'sumptuou': 19500, 'villa': 21594, 'stoolpigeon': 19257, 'palestin': 14815, 'freefal': 7866, 'madelein': 12251, 'tyler': 20854, 'rake': 16252, 'fearless': 7307, '1901': 161, 'marcela': 12485, 'gracia': 8621, 'ibea': 9878, 'sánchez': 19764, 'sanchez': 17416, 'loriga': 12024, 'extraordinair': 7082, 'dastardli': 5213, 'dramatis': 6085, 'allen': 997, 'soak': 18649, 'riverboat': 16973, 'missionari': 13228, 'faceoff': 7131, 'warship': 21847, 'exhitman': 6977, 'amberson': 1106, 'intrepid': 10328, 'enola': 6671, 'pele': 15079, 'illog': 9951, 'gratuit': 8671, '30ish': 375, 'lenni': 11653, 'fearlessli': 7308, 'ariana': 1485, 'debilit': 5299, 'hip': 9489, 'hop': 9633, 'ucla': 20878, 'valori': 21393, 'kondo': 11226, 'pl': 15392, 'poppin': 15575, 'paranoid': 14890, 'virginian': 21632, 'porto': 15604, 'alegr': 934, 'photocopi': 15266, 'sílvia': 19769, 'nearer': 13820, 'envisag': 6724, 'fishi': 7516, 'interpol': 10307, 'illusionist': 9958, 'java': 10560, 'cellier': 3692, 'yonoi': 22461, 'simpleton': 18331, 'worldweari': 22296, 'kkk': 11159, 'howi': 9725, 'axe': 1820, 'catskil': 3633, 'houseman': 9717, 'hooferand': 9624, 'elton': 6522, 'berni': 2356, 'taupin': 19924, 'gauntlet': 8179, 'delta': 5441, 'underl': 21014, 'helicopt': 9307, 'militia': 13096, 'oakland': 14259, 'afroamerican': 789, 'fruitval': 7959, 'cecil': 3675, '1952': 205, 'frontrow': 7948, 'seat': 17724, 'fletcher': 7594, 'bligh': 2579, 'hm': 9526, 'jacki': 10483, 'asian': 1605, 'entourag': 6706, 'sahara': 17336, 'egyptian': 6412, 'cleopatra': 4121, 'juliu': 10825, 'pharaoh': 15222, 'logic': 11939, 'otherwis': 14620, 'edifi': 6369, 'eaten': 6335, 'fabul': 7123, 'druid': 6168, 'getafix': 8314, 'gaul': 8173, 'potion': 15654, 'surgic': 19602, 'notr': 14184, 'folsom': 7682, 'streetgang': 19320, 'santana': 17443, 'drugandmurd': 6158, 'crimefre': 4875, 'seth': 17951, 'brundl': 3080, 'breakthrough': 2943, 'housefli': 9711, 'exthief': 7072, 'mentalinstitut': 12903, 'lectur': 11592, 'forgot': 7735, 'twentyfour': 20820, 'charactersfrom': 3791, 'nashvil': 13761, 'tennesse': 20035, 'adrian': 728, 'cronauer': 4897, 'dickerson': 5649, 'censor': 3701, 'trinh': 20649, 'turbul': 20773, 'treati': 20597, 'liberti': 11732, 'unprepar': 21172, 'michelucci': 13006, 'nineteenseventi': 14037, 'stunningli': 19387, 'valeria': 21377, 'livorno': 11891, 'macreedi': 12241, 'secreci': 17741, 'cantal': 3434, 'tast': 19909, 'harmless': 9115, '1993': 249, '2010': 279, 'intrud': 10336, 'babysitt': 1860, 'lola': 11944, 'liana': 11725, 'alexa': 945, 'teresa': 20052, 'beggar': 2235, 'mirror': 13187, 'highland': 9425, 'loch': 11915, 'carley': 3508, 'sarcoma': 17467, 'granit': 8656, 'hotshot': 9693, 'wildfir': 22119, 'middleweight': 13039, 'tick': 20273, 'lisbeth': 11861, 'saland': 17359, 'disc': 5747, '007': 2, 'fort': 7752, 'knox': 11200, 'obliter': 14277, 'lovelessli': 12077, 'émigré': 22640, 'christina': 3979, 'uppermiddleclass': 21281, 'exconvict': 6946, 'irretrievablyforev': 10411, '1926': 179, 'newt': 13965, 'scamand': 17545, 'congress': 4492, 'briefcas': 2992, 'nonmag': 14112, '2004': 273, 'closeknit': 4157, 'thailand': 20105, 'incomprehens': 10079, 'depth': 5513, 'devour': 5614, 'amelior': 1118, 'malefic': 12355, 'goddaught': 8504, 'aurora': 1740, 'nuptial': 14232, 'hugo': 9751, 'valjean': 21384, 'claireec': 4059, 'absent': 587, 'ninth': 14048, 'hrundi': 9731, 'bakshi': 1938, 'accidentpron': 613, 'halfheartedli': 8966, 'burnout': 3194, 'volcano': 21696, 'lava': 11524, 'swordforhir': 19723, 'casca': 3566, 'swordswoman': 19727, 'prophesi': 15921, 'dfen': 5622, 'jam': 10516, 'tip': 20340, 'edg': 6365, 'flaw': 7577, 'psychot': 15992, 'erica': 6756, 'exfiancé': 6963, 'meltdown': 12881, 'acr': 655, 'winni': 22167, 'pooh': 15563, 'tigger': 20291, 'piglet': 15321, 'makebeliev': 12327, 'françoi': 7842, 'truffaut': 20707, 'alterego': 1060, 'discharg': 5749, 'fabienn': 7117, 'cristina': 4885, 'veracruz': 21485, 'sorceri': 18773, 'maureen': 12679, 'trant': 20565, 'dani': 5156, 'flirtati': 7613, 'rapport': 16318, 'disavow': 5741, 'feat': 7312, 'gunrunn': 8872, 'bondsman': 2718, 'lucil': 12124, 'angelli': 1237, 'motherinlaw': 13485, 'pour': 15664, 'refin': 16527, 'marcel': 12484, 'pagnol': 14790, 'lark': 11458, 'gertrud': 8309, 'baniszewski': 1989, 'prim': 15807, 'immanuel': 9978, 'rath': 16339, 'ogl': 14375, 'cabaret': 3279, 'coquett': 4641, 'palm': 14820, 'sweat': 19675, 'testament': 20086, 'remembr': 16644, 'brittain': 3024, 'futil': 8027, 'hermit': 9367, 'vendetta': 21466, 'onetoon': 14484, 'frenchwoman': 7890, 'mathild': 12652, 'manni': 12439, 'dm': 5884, 'hawaii': 9179, 'cruelli': 4942, 'recordist': 16471, 'gradeb': 8624, 'ophelia': 14513, 'ladyinwait': 11366, 'occasion': 14298, 'delicaci': 5421, 'meat': 12803, 'businessrel': 3224, 'handwritten': 9036, 'dementia': 5454, 'quot': 16156, 'more': 13422, 'appl': 1397, 'hud': 9740, 'bannon': 2002, 'tarnish': 19901, 'callou': 3357, 'lon': 11949, 'reckless': 16449, 'taker': 19829, 'lenient': 11650, 'antonia': 1343, 'samesex': 17401, 'wholesal': 22079, 'malcontentedli': 12351, 'shuffl': 18239, 'maladapt': 12340, 'ghostfac': 8330, 'barbara': 2015, 'dorothea': 6005, 'mid50': 13029, 'abbi': 545, 'boarder': 2654, 'savvi': 17523, '43yearold': 416, 'suze': 19648, 'trappet': 20569, 'jb': 10570, '50yearold': 442, 'blin': 2580, 'archivist': 1465, 'prone': 15909, 'overenthusiasm': 14702, 'poignant': 15499, 'helterskelt': 9329, 'anatol': 1187, 'bruxel': 3092, 'plea': 15446, '1666': 99, 'hyster': 9867, 'witchhunt': 22196, '1994': 250, 'norway': 14159, 'utøya': 21344, 'cub': 4972, 'hideo': 9409, 'suzuki': 19651, '35yearold': 390, 'mangaka': 12414, 'lowpay': 12097, 'unfulfil': 21086, 'unsatisfi': 21199, 'selfesteem': 17812, 'nearest': 13821, 'ralph': 16254, 'bb': 2154, 'hush': 9822, 'crimefight': 4874, 'kylecatwoman': 11330, 'alejo': 936, 'otero': 14616, 'chupacabra': 3999, 'jarmusch': 10554, 'innerc': 10212, 'whitak': 22061, 'rooftop': 17110, 'strictest': 19337, 'primarili': 15811, 'carrier': 3543, 'tormey': 20447, 'deer': 5369, 'apprehend': 1409, 'chillingli': 3924, 'cozi': 4799, 'lowlif': 12096, 'persuas': 15182, 'austen': 1744, '1818': 122, 'frederick': 7858, 'wentworth': 21995, 'nineteen': 14036, 'amir': 1140, 'hassan': 9151, 'peshwa': 15192, 'bajirao': 1934, 'kashibai': 10950, 'mastani': 12620, 'clouseau': 4166, 'ballon': 1958, 'sequenc': 17909, 'cult': 4990, 'blake': 2543, 'lidiot': 11742, 'achard': 639, 'kurnitz': 11312, 'pretens': 15778, 'geologist': 8272, 'citybr': 4045, 'aborigin': 573, 'underscor': 21024, 'disharmoni': 5783, 'poetsoldi': 15497, 'proxi': 15966, 'plaid': 15399, 'anderton': 1207, 'precrim': 15711, 'late21st': 11478, 'quarri': 16104, 'econom': 6355, 'kylo': 11332, 'ren': 16659, 'stormtroop': 19269, 'rig': 16912, '25000': 348, 'lorelei': 12018, 'showgirl': 18218, 'esmond': 6795, 'erni': 6764, 'disqualifi': 5824, 'critter': 4889, 'woolli': 22273, 'mammoth': 12386, 'sabertooth': 17292, 'sid': 18263, 'sloth': 18529, 'nobler': 14070, 'michelinstar': 13005, 'bookish': 2745, 'cahulawasse': 3316, 'medlock': 12830, 'riverraft': 16974, 'backcountri': 1875, 'kent': 11027, 'wield': 22099, 'superstrength': 19572, 'xray': 22394, 'evidenc': 6899, 'submerg': 19417, 'casey': 3571, 'compart': 4396, 'fullthrottl': 7989, 'illstar': 9952, 'sieg': 18279, 'sarajevo': 17461, 'bosnian': 2796, 'deton': 5577, 'warzon': 21854, 'themyscira': 20134, 'crashland': 4822, 'jeanbaptist': 10576, 'grenouil': 8715, 'stench': 19167, 'olfactori': 14415, 'perfum': 15143, 'preserv': 15761, 'scent': 17578, 'potent': 15649, 'meaning': 12796, 'recognit': 16457, 'harriet': 9127, 'tubman': 20736, 'tenac': 20023, 'usnavi': 21326, 'dominican': 5945, 'detroit': 5581, 'upris': 21284, 'allianc': 1009, 'xu': 22395, 'wu': 22355, 'cao': 3441, '1021': 18, 'besieg': 2368, 'isfahan': 10425, 'persia': 15171, 'ibn': 9881, 'sina': 18338, 'healer': 9217, '1800': 118, 'bonapart': 2713, 'armand': 1517, 'larger': 11452, '1812': 121, 'mamoru': 12387, 'oshii': 14602, 'cyber': 5049, 'batou': 2116, '2032': 299, 'bend': 2298, '9th': 528, 'dagger': 5099, 'staid': 19042, 'stillliv': 19217, 'donor': 5968, 'voraci': 21717, 'glutton': 8485, 'vomit': 21713, 'beca': 2197, 'thrust': 20244, 'gal': 8064, 'weird': 21953, 'confisc': 4479, 'firearm': 7482, 'erika': 6759, 'kohut': 11213, 'franklin': 7836, 'detour': 5578, 'chainsawwield': 3746, 'leatherfac': 11582, 'horman': 9648, 'chile': 3920, 'thamesmead': 20106, 'southeast': 18811, 'navorski': 13798, 'detat': 5568, 'shambl': 18030, 'passport': 14965, 'quarantin': 16102, 'loung': 12057, 'cari': 3501, 'downtoearth': 6052, 'allegor': 994, 'stroll': 19353, 'spout': 18968, 'harshli': 9134, 'champan': 3760, 'wreckit': 22330, '9foottal': 527, '643pound': 461, 'arcad': 1441, 'fixit': 7542, 'firstperson': 7502, 'shooter': 18179, 'sugar': 19465, 'kart': 10947, 'cooki': 4609, 'vanellop': 21410, 'schweetz': 17622, 'lazi': 11551, 'batson': 2117, 'reel': 16512, 'consol': 4530, 'charley': 3805, 'sydney': 19735, 'lavend': 11526, 'priscilla': 15833, 'forefront': 7715, 'homophobia': 9602, 'widen': 22093, 'clifford': 4134, 'spurt': 18993, 'gigant': 8359, 'uncondit': 20982, 'fioretti': 7478, 'mandrak': 12406, 'inveter': 10352, 'doubli': 6020, 'cuckold': 4978, 'fold': 7673, 'quaint': 16090, 'connecticut': 4501, '1863': 139, 'amsterdam': 1164, 'vallon': 21390, 'gangland': 8114, 'slump': 18542, 'jm': 10689, 'childrenwho': 3919, 'glen': 8452, 'steeli': 19155, 'commanderinchief': 4367, 'allinclus': 1011, 'confessor': 4472, 'outfox': 14648, 'breezi': 2954, 'polishamerican': 15531, 'puerto': 16010, 'rican': 16876, 'laugheven': 11503, 'bryant': 3094, 'sewashi': 17976, 'nobita': 14067, 'doraemon': 5993, 'cattyp': 3636, 'uncar': 20965, 'lawman': 11537, 'bea': 2160, 'makeshift': 12331, 'waterfront': 21876, 'dystrophi': 6292, 'geremia': 8292, 'tailormoney': 19811, 'lender': 11646, 'repuls': 16729, 'stingi': 19227, 'shabbi': 18004, 'bedridden': 2213, 'morbid': 13417, 'rosalba': 17126, 'bewitch': 2398, 'indulg': 10136, 'rednos': 16501, 'oust': 14631, 'glow': 8482, 'hermey': 9365, 'corneliu': 4663, 'rudoph': 17212, 'sleigh': 18497, 'fog': 7669, 'rudolph': 17211, 'multistorey': 13591, 'detlef': 5576, 'nightw': 14014, 'carolin': 3530, 'dispirit': 5813, 'toughlov': 20484, 'toretto': 20441, 'highperform': 9435, 'forsaken': 7751, 'takaki': 19820, 'akari': 879, 'kana': 10910, 'hone': 9607, 'prefam': 15721, 'irishman': 10397, 'kristoff': 11272, 'olaf': 14399, 'ethel': 6826, 'thayer': 20121, 'chelsea': 3858, 'renew': 16675, 'friction': 7911, 'taeko': 19796, '27': 360, 'arc': 1439, 'unfound': 21085, 'whereupon': 22042, 'rabbitt': 16163, 'barrytown': 2067, 'click': 4130, 'finevo': 7462, 'deco': 5336, 'respond': 16765, 'trumpet': 20715, 'joey': 10711, 'fagan': 7146, 'foul': 7778, 'nada': 13695, 'sunglass': 19510, 'subdu': 19411, 'skullfac': 18439, 'mindcontrol': 13132, 'nonconform': 14098, 'laur': 11511, 'mikäel': 13078, 'chaplain': 3783, 'meg': 12841, 'ami': 1129, 'squabbl': 18999, 'jenkin': 10610, 'apartheid': 1367, 'pretoria': 15781, 'velodrom': 21463, 'dhiver': 5625, 'jarmond': 10553, 'articl': 1569, 'archiv': 1464, 'gritti': 8761, 'crackdown': 4806, 'accord': 622, 'bibl': 2413, 'exodu': 7002, 'scriptur': 17679, 'cavalri': 3653, 'fifti': 7428, 'ponti': 15552, 'expel': 7021, 'thrash': 20207, 'boardingschool': 2655, 'mccreadi': 12744, 'headway': 9215, 'kenzi': 11032, 'angi': 1244, 'gennaro': 8250, 'freeli': 7870, 'reasonstheyr': 16409, 'ninthgrad': 14049, 'pamper': 14830, 'cocker': 4221, 'spaniel': 18849, 'streetwis': 19327, 'mongrel': 13338, 'footloos': 7698, 'collarfre': 4288, 'eili': 6427, 'lacey': 11354, 'kirik': 11140, 'karaba': 10928, 'salomon': 17379, 'sorowitsch': 18781, 'sachsenhausen': 17301, 'unspecifi': 21217, 'ghostli': 8331, 'davi': 5227, 'damnat': 5133, 'colonia': 4316, 'dignidad': 5676, 'sect': 17747, 'digger': 5669, 'fixat': 7540, 'payback': 15025, 'reintroduc': 16592, 'sidwich': 18278, 'erebor': 6752, 'laketown': 11384, 'mirkwood': 13184, 'orc': 14547, 'azog': 1835, 'defil': 5385, 'middleearth': 13035, 'handsomelymount': 9033, 'moham': 13295, 'jackjack': 10484, 'conquest': 4512, 'lunchbox': 12166, 'dabbawallah': 5085, 'dusk': 6261, 'cadillac': 3304, 'redneck': 16500, 'nanci': 13722, 'thompson': 20188, 'krueger': 11280, 'bachelorparti': 1869, 'revelri': 16821, 'bathroom': 2110, 'doug': 6023, 'knot': 11193, 'hangov': 9042, 'goodwin': 8570, 'twentyon': 20821, 'quiz': 16153, 'townwher': 20505, 'johnsonstand': 10724, 'grab': 8615, 'hedley': 9270, 'lemar': 11640, 'henchmen': 9335, '90yearold': 514, 'offthemap': 14368, 'precipic': 15703, 'selfexplor': 17813, 'sphere': 18907, 'oblivi': 14278, 'gantz': 8120, 'staci': 19031, 'andre': 1212, 'laurel': 11514, 'hester': 9384, 'publicli': 16005, 'c57d': 3275, 'altair': 1057, 'bellerophon': 2281, 'unwelcom': 21249, 'antinazi': 1329, 'sabotag': 17295, 'comrad': 4431, 'norwegian': 14160, 'snowbound': 18628, 'scandinavia': 17550, 'dressmak': 6117, 'reynold': 16857, 'woodcock': 22254, 'classifi': 4088, 'blown': 2628, 'retali': 16790, 'trombonist': 20677, 'symphoni': 19747, 'prenat': 15740, 'soontob': 18756, 'resurg': 16785, 'grudg': 8796, 'unavoid': 20954, 'jumpstart': 10833, 'dormant': 6004, 'uneasi': 21055, 'pave': 15017, 'hamper': 9009, 'viewpoint': 21580, 'thick': 20159, 'ussr': 21329, 'stalin': 19050, 'oss': 14608, '117': 32, 'piazza': 15283, 'fountain': 7786, 'whod': 22074, 'jar': 10549, 'tippi': 20341, 'onemanband': 14474, 'eisenheim': 6431, 'betroth': 2387, 'tumult': 20758, 'monarchi': 13327, 'recess': 16442, 'vandwel': 21408, 'xavier': 22377, 'lensherr': 11656, 'magneto': 12288, 'finda': 7457, 'gritreuben': 8760, 'nyle': 14245, 'mahendra': 12297, 'bāhubali': 3272, 'mahishmati': 12298, 'misogynist': 13218, 'halfwolf': 8978, '1923': 176, 'elric': 6515, 'alphons': 1050, 'alchem': 921, 'heiderich': 9284, 'fruitless': 7958, 'gipsi': 8401, 'alchemi': 922, 'oklahoma': 14395, 'longhair': 11976, 'hippi': 9491, 'mckinney': 12765, 'indiscrimin': 10124, 'willingli': 22137, 'complicit': 4417, 'commentari': 4373, 'arbitrari': 1436, 'topic': 20429, 'lowincom': 12092, 'ambulancechas': 1113, 'ahmad': 841, 'lift': 11784, 'lid': 11740, 'adelaid': 694, 'bonfamil': 2723, 'childrenbonfamil': 3918, 'catsth': 3634, 'legate': 11614, 'omalley': 14431, 'jazzplay': 10569, 'alley': 1004, 'aristocat': 1493, '1939': 192, 'lucía': 12134, 'merteuil': 12940, 'exlov': 6993, 'vicomt': 21556, 'valmont': 21391, 'knockemstiff': 11191, 'ohio': 14383, 'backwood': 1889, 'arvin': 1579, 'kolkata': 11218, 'fellowstud': 7346, 'exmen': 6996, 'shame': 18031, 'unjustli': 21130, 'mojav': 13301, 'asger': 1592, 'desk': 5539, 'alarm': 905, 'babysit': 1859, 'jareth': 10551, 'josselin': 10769, 'beaumont': 2186, 'njala': 14061, 'mock': 13275, 'kate': 10960, 'feminist': 7355, 'lyudmila': 12200, 'pavlichenko': 15018, 'wannse': 21813, 'ss': 19025, 'ssgener': 19026, 'reinhard': 16585, 'heydrich': 9393, 'outdo': 14640, 'decor': 5340, 'colter': 4327, 'gravitydefi': 8677, 'matur': 12673, 'bahia': 1926, 'benmahmoud': 2319, 'hesit': 9382, 'rightlean': 16918, 'fortysometh': 7766, 'shallow': 18028, 'cher': 3869, 'beverli': 2394, 'embolden': 6554, 'klutzi': 11176, 'tai': 19806, 'makeov': 12329, 'exstepbroth': 7063, 'trashi': 20572, 'renn': 16679, 'videodrom': 21565, 'wanda': 21808, 'caval': 3650, 'photostrip': 15271, 'sheik': 18094, 'disconsol': 5756, 'hardest': 9089, 'coalesc': 4195, 'beauregard': 2188, 'gunman': 8865, '150man': 78, 'mcpherson': 12779, 'sacramento': 17304, 'mowgli': 13536, 'manvillag': 12463, 'bagheera': 1921, 'jazzi': 10568, 'louie': 12048, 'kaa': 10874, 'lovabl': 12062, 'baloo': 1963, 'openshut': 14508, 'suspens': 19634, 'whangara': 22025, 'paikea': 14794, 'cano': 3430, 'capsiz': 3460, 'firstborn': 7498, 'pai': 14791, 'koro': 11239, 'ponyboy': 15556, 'soc': 18658, 'picard': 15285, 'newlycommiss': 13949, 'mune': 13602, 'necross': 13841, 'waxchild': 21889, 'glim': 8457, 'sohon': 18682, 'milk': 13098, '1850': 135, 'backwoodsman': 1890, 'basqu': 2093, 'angulo': 1254, 'carabanchel': 3470, 'segura': 17775, 'razza': 16373, 'christmastim': 3983, 'antichrist': 1308, 'catacomb': 3604, 'linger': 11840, 'brotherhood': 3066, 'marston': 12572, 'harvard': 9141, 'detector': 5570, 'malici': 12361, 'climber': 4140, 'kurz': 11321, 'andrea': 1213, 'hinterstoiss': 9488, 'eiger': 6415, 'slither': 18520, 'hiss': 9501, 'nottingham': 14187, 'staunch': 19135, '1981': 237, 'caeser': 3307, 'primat': 15812, 'downtrodden': 6055, 'eagl': 6302, 'noviti': 14204, 'chainsaw': 3745, 'tome': 20402, 'zatoichi': 22544, 'swordsman': 19725, 'masseur': 12614, 'fond': 7683, 'dice': 5645, 'sixteenyearold': 18394, 'essay': 6803, 'intrus': 10337, 'uncontrol': 20987, '7th': 492, 'fictiti': 7407, 'offthewal': 14369, 'exfight': 6964, 'airlin': 861, 'succumb': 19453, 'hagerti': 8930, 'girlfriendstewardesscopilot': 8406, 'allstar': 1022, 'lloyd': 11902, 'lesli': 11680, 'nielsen': 13995, 'kareem': 10934, 'abduljabbar': 554, 'jink': 10681, 'spoof': 18955, 'flick': 7598, 'zealot': 22548, 'whirl': 22051, 'rapid': 16310, 'zani': 22538, 'tessa': 20083, 'hardin': 9092, 'maraud': 12480, 'daybreak': 5237, 'headhunt': 9204, 'megan': 12849, 'leavey': 11584, 'rex': 16854, 'deploy': 5503, 'thurgood': 20256, 'raoul': 16305, 'nearapocalypt': 13815, 'omni': 14440, 'crimeerad': 4873, 'boddick': 2666, 'untest': 21232, 'robocop': 17013, 'prototyp': 15947, 'yuri': 22513, 'orlov': 14576, 'globetrot': 8470, 'quaid': 16089, 'paloma': 14822, 'articul': 1570, 'trenchant': 20610, 'pessimist': 15194, 'lelievr': 11637, 'energet': 6646, 'uncompromis': 20980, 'postmast': 15634, 'cobol': 4210, 'fourteenminut': 7796, 'prequel': 15749, 'awardwin': 1805, 'kaneda': 10912, 'tallahasse': 19848, 'everliv': 6881, 'ass': 1619, 'cholera': 3955, 'loveless': 12076, 'aaron': 536, 'fastest': 7253, 'burk': 3184, 'terabithia': 20050, 'endeavorswith': 6630, 'relativesto': 16608, 'iiin': 9930, 'ukrainian': 20895, 'raze': 16369, 'anecdot': 1225, 'lunch': 12165, 'carnegi': 3525, 'deli': 5417, 'oneman': 14473, 'oneleg': 14472, 'canova': 3432, 'plotless': 15459, 'impressionist': 10028, 'skit': 18436, 'bushmen': 3215, 'utensil': 21335, '4year': 427, 'backyard': 1891, 'gateway': 8163, 'greatgrandfath': 8686, 'fantasyfil': 7211, 'leed': 11599, 'clough': 4165, 'abras': 580, 'revi': 16834, 'righthand': 16917, 'yuddi': 22497, 'godmoth': 8512, 'arendel': 1474, 'coron': 4670, 'sven': 19654, 'comedienn': 4349, 'brice': 2980, 'ziegfeld': 22578, 'arnstein': 1542, 'conner': 4503, 'zealou': 22549, 'smecker': 18566, 'bloodsoak': 2615, 'geeki': 8201, 'suck': 19454, 'blackandwhit': 2520, 'sitcom': 18377, 'pleasantvil': 15452, 'peachi': 15043, 'keen': 10994, 'ângela': 22635, 'tsunad': 20731, 'kakashi': 10894, 'bootlegg': 2763, 'notorieti': 14182, 'reversechronolog': 16833, 'underpass': 21020, 'frailti': 7815, 'memento': 12885, 'dj': 5878, 'offenc': 14351, 'buttoneddown': 3247, 'murtaugh': 13631, 'rigg': 16914, 'distraught': 5845, 'unnecessari': 21155, 'mule': 13572, '1936': 188, 'aryan': 1580, 'exfiltr': 6965, 'riski': 16959, 'whistleblow': 22059, 'katharin': 10962, 'whoprior': 22083, 'invasionleak': 10344, 'nsa': 14212, 'memo': 12887, 'joint': 10728, 'usuk': 21331, 'emad': 6535, 'rana': 16281, 'tehran': 19984, 'deadon': 5264, '80': 494, 'hamburg': 9002, 'pip': 15358, 'jagger': 10505, 'havisham': 9175, 'spinster': 18933, 'unfeel': 21073, 'peer': 15069, 'telekinesi': 19992, '1968': 223, 'demo': 5458, 'catharsi': 3625, 'wadjda': 21755, 'riyadh': 16978, 'saudi': 17500, 'arabia': 1428, 'abdullah': 555, 'shouldnt': 18207, 'virtu': 21635, 'fujikaz': 7975, 'gale': 8071, 'forebod': 7712, 'daisi': 5110, 'werthan': 22002, 'hoke': 9554, 'electr': 6455, '2049': 307, 'blackout': 2535, 'bioengin': 2470, '2002': 271, 'champ': 3758, 'iceman': 9889, 'trumpedup': 20714, 'jailhous': 10510, 'uri': 21310, 'adkin': 704, 'hungari': 9792, 'madeira': 12250, 'loro': 12026, 'glimp': 8459, 'composit': 4419, 'constel': 4540, 'summari': 19490, 'extraordinarili': 7084, 'purgatori': 16048, 'heterogen': 9385, 'silvio': 18313, 'berlusconi': 2351, 'jun': 10834, 'greetingcard': 8703, 'offguard': 14355, 'lackadais': 11356, 'crick': 4869, 'bella': 2278, '400mile': 407, 'damian': 5128, 'dollmak': 5932, 'rodeo': 17050, 'skull': 18438, 'heartland': 9234, 'gustav': 8883, 'aschenbach': 1589, 'tadzio': 19793, 'hôtel': 9872, 'lido': 11743, 'boddi': 2665, 'suss': 19637, 'neverbefor': 13926, 'velma': 21462, 'cerberu': 3720, 'dogpocalyps': 5916, 'gretta': 8720, 'ditch': 5853, 'label': 11344, 'comatos': 4339, 'oncom': 14459, 'steadfast': 19141, 'hardearn': 9085, 'credo': 4849, 'weaver': 21927, 'fickl': 7405, 'selfstyl': 17842, 'peep': 15068, 'sheep': 18084, 'circa': 4031, 'amphibi': 1160, 'gild': 8368, 'tesoro': 20081, 'pusher': 16065, 'milo': 13113, 'shipment': 18149, '10000': 7, 'exhenchman': 6974, 'radovan': 16204, 'oddbal': 14328, 'culdesac': 4984, 'pretext': 15780, 'thacker': 20099, 'bookstor': 2751, 'humdrum': 9773, 'spill': 18921, 'juic': 10812, 'fullblown': 7981, 'bloke': 2601, '48': 422, 'groan': 8765, 'uxbal': 21346, 'taint': 19813, 'postsept': 15638, 'brentwood': 2963, 'carjack': 3504, '36hour': 394, 'clueless': 4179, 'bellboy': 2280, 'charlatan': 3803, 'buckner': 3114, 'dunham': 6238, 'hooligan': 9628, 'southport': 18813, 'césar': 5080, 'vallejo': 21387, 'confirm': 4478, 'regenc': 16548, 'belgian': 2265, 'monarch': 13326, 'cigarsmok': 4013, 'biblequot': 2414, 'rapist': 16314, 'hid': 9402, 'gotten': 8600, 'acquit': 654, 'cagey': 3312, 'eyr': 7106, 'thornfield': 20192, 'rochest': 17026, 'claiborn': 4056, 'inconclus': 10082, 'donovan': 5969, 'wart': 21848, 'merlin': 12929, 'amnesiac': 1150, 'squiredom': 19019, 'needless': 13846, 'sanderson': 17422, 'noninterfer': 14110, 'sera': 17912, 'oconn': 14316, 'dom': 5938, 'tenet': 20033, 'ferdinand': 7364, 'cork': 4656, 'snort': 18623, 'but': 3233, 'mellow': 12874, 'roughest': 17164, 'bullfight': 3149, 'kanga': 10914, 'roo': 17108, 'wildest': 22118, 'dysphoria': 6288, 'scar': 17555, 'highway': 9452, 'loenowen': 11933, 'mongkut': 13335, 'siam': 18251, 'etiquett': 6833, 'scenic': 17577, 'comet': 4353, 'unpopular': 21169, 'kyoko': 11334, 'shingo': 18139, 'yoshiko': 22474, 'typhoon': 20858, 'disadvantag': 5729, 'rosella': 17132, 'furri': 8020, 'anorexia': 1285, 'maloni': 12374, 'sixyearold': 18405, 'casework': 3570, 'neal': 13811, 'shower': 18217, 'duchemin': 6193, 'catel': 3620, 'wine': 22159, 'tester': 20087, 'mma': 13267, '1572': 83, 'marguerit': 12503, 'valoi': 21392, 'feebl': 7326, 'ix': 10468, 'huguenot': 9752, 'navarr': 13794, 'griswold': 8758, 'ellen': 6504, 'obnoxi': 14280, 'bonu': 2731, 'duke': 6215, 'suitcas': 19474, 'trash': 20571, 'libya': 11738, 'mona': 13324, 'bergeron': 2343, 'whomev': 22082, 'kamesennin': 10904, 'ribbon': 16874, 'nurseri': 14235, 'neverland': 13930, 'hook': 9625, 'ndr114': 13809, 'bicentenni': 2416, 'applianc': 1403, 'menial': 12901, 'adri': 727, 'voluntarili': 21711, 'psychiatr': 15977, 'carla': 3506, 'netizen': 13908, 'yesss': 22437, 'algorithm': 962, 'trendmak': 20613, 'buzzztub': 3256, 'takahata': 19819, 'daruma': 5206, 'sharpclaw': 18063, 'mccourt': 12742, 'endem': 6632, 'limerick': 11815, 'kenai': 11011, 'wildlif': 22122, 'koda': 11208, 'moos': 13409, 'rutt': 17267, 'tuke': 20748, 'todd': 20372, 'afoul': 783, 'undi': 21041, 'copenhagen': 4626, '2018': 287, 'loser': 12030, 'pennywis': 15108, 'fresco': 7899, 'st': 19027, 'sebastiano': 17728, 'ouimet': 14628, 'golf': 8541, 'vardon': 21423, 'conmen': 4499, 'metropolitan': 12976, 'goldfinch': 8533, 'contemporari': 4563, 'cinderella': 4018, 'raikag': 16231, 'kumogakur': 11306, 'jōnin': 10870, 'kirigakur': 11139, 'iwagakur': 10465, 'hōzukij': 9873, 'mui': 13565, 'basebal': 2080, 'computergener': 4429, 'analysi': 1179, 'rhinoceros': 16866, 'indetermin': 10108, 'climax': 4138, 'frothi': 7953, 'confession': 4471, 'monologu': 13354, 'thirteenyearold': 20178, 'kayla': 10979, 'innuit': 10221, 'freshcaught': 7901, 'halibut': 8979, 'pervad': 15187, 'axel': 1821, 'naturalist': 13785, 'gofer': 8520, 'messeng': 12947, 'needi': 13844, 'neuros': 13916, 'discord': 5757, 'accordion': 624, 'gaggl': 8057, 'trucker': 20699, 'burton': 3202, 'fiance': 7399, 'emerald': 6558, 'invinc': 10353, 'illumin': 9955, 'everyman': 6890, 'pekar': 15077, 'spider': 18912, 'oscorp': 14600, 'nerdi': 13880, 'ruka': 17226, 'sora': 18768, 'dugong': 6212, 'abnorm': 567, 'salon': 17380, 'u2': 20870, 'rudolf': 17210, 'abel': 557, 'pm': 15480, 'paragu': 14876, 'kai': 10885, 'alert': 937, 'auggi': 1724, 'wren': 22331, 'rashid': 16330, 'wouldnt': 22316, 'germanturkish': 8301, 'awak': 1801, 'beautician': 2191, 'louisiana': 12052, 'hansel': 9054, 'gretel': 8719, 'gingerbread': 8385, 'irena': 10391, 'thea': 20123, 'brisebard': 3013, 'sylvia': 19740, 'merliah': 12928, 'undersea': 21025, 'oceana': 14308, 'yowi': 22493, 'yahoo': 22403, 'gru': 8795, 'despic': 5547, 'deplor': 5502, 'downright': 6047, 'teri': 20054, 'ultraviol': 20918, 'idli': 9914, 'selfimpos': 17820, 'drebin': 6109, 'chico': 3898, 'lena': 11644, '16year': 103, 'rhiannon': 16863, 'unmatch': 21149, 'liverpool': 11887, 'muddi': 13554, 'howlin': 9728, 'etta': 6834, 'berri': 2361, 'abortionist': 575, 'drake': 6081, 'grim': 8740, 'reaper': 16403, 'megamogul': 12848, 'parrish': 14928, 'proposit': 15925, 'pseudonym': 15974, 'longuevern': 11997, 'velran': 21464, 'lebrac': 11588, 'feihung': 7334, 'deafmut': 5272, 'badguy': 1908, 'delhi': 5416, 'listlessli': 11867, 'apolit': 1380, 'paig': 14793, 'exfianc': 6961, 'soprano': 18767, 'barbossa': 2023, 'swann': 19666, 'fiver': 7533, 'bigwig': 2445, 'blackberri': 2523, 'karen': 10935, 'blixen': 2592, 'autobiograph': 1759, 'cockney': 4223, 'shand': 18035, 'bankrol': 1996, 'derelict': 5521, 'traitor': 20537, 'puzzl': 16075, 'incredul': 10093, 'hesitantli': 9383, 'coincid': 4265, 'broad': 3031, 'daylight': 5241, 'powerhous': 15674, 'afternoon': 794, 'andrzej': 1223, 'krystyna': 11289, 'overtur': 14740, 'overboard': 14689, 'embezzl': 6550, 'garrett': 8145, 'rematch': 16641, 'climact': 4135, 'marni': 12556, 'rutland': 17266, 'kleptomania': 11168, 'fairytal': 7159, 'sequin': 17911, 'flairi': 7550, 'sparklemag': 18858, 'runway': 17242, 'pickup': 15294, 'bennel': 2320, 'lame': 11393, 'twentyeight': 20817, 'infect': 10156, 'hijink': 9455, 'coffindrag': 4252, 'halfbre': 8961, 'merciless': 12919, 'singeractress': 18346, 'interwoven': 10322, 'intoler': 10326, 'olympian': 14425, 'pin': 15336, 'septemb': 17905, 'alfr': 958, 'batwoman': 2132, 'ti': 20265, 'junkjard': 10845, 'naylor': 13799, 'spindoctor': 18927, 'snuf': 18646, 'cigarett': 4012, 'filter': 7446, 'acced': 605, 'quickfir': 16131, 'dialogu': 5634, 'coolerthanev': 4612, 'chilean': 3921, 'pinochet': 15353, 'plebiscit': 15454, 'ye': 22425, 'rené': 16691, 'saavedra': 17287, 'spearhead': 18870, 'scant': 17553, 'audaci': 1717, 'raheem': 16221, 'dabbl': 5086, 'conni': 4505, 'nika': 14017, 'giusepp': 8424, 'tornator': 20450, 'bagheria': 1922, 'baarìa': 1846, 'dialect': 5633, 'delus': 5444, 'dorsey': 6009, 'daytim': 5243, 'pickl': 15292, 'burlesqu': 3186, 'distract': 5843, 'altogeth': 1065, 'hollow': 9569, 'lunat': 12164, 'waylay': 21896, 'semiconsci': 17858, 'coalmin': 4197, 'tita': 20350, 'murray': 13628, 'oxford': 14755, 'dictionari': 5655, 'mid': 13023, 'entri': 6713, 'broadmoor': 3033, 'alita': 979, 'ido': 9915, 'greenwich': 8701, 'llewyn': 11901, 'troublelov': 20686, 'marley': 12548, 'lighten': 11786, 'len': 11643, 'autobot': 1761, 'coloss': 4321, 'planetconsum': 15408, 'allout': 1016, 'decepticon': 5323, 'prot': 15936, 'explan': 7032, 'romi': 17094, 'nori': 14133, 'malucia': 12381, '70yearold': 480, 'whittak': 22069, 'ostin': 14613, 'mi6': 12991, 'gareth': 8132, 'committe': 4381, 'silva': 18306, 'konohagakur': 11230, 'shinobi': 18143, 'nin': 14032, 'itachi': 10444, 'judean': 10802, 'juda': 10798, 'rrate': 17196, 'terranc': 20063, 'pronounc': 15910, 'cain': 3317, 'mateo': 12639, 'blanco': 2551, 'miroslava': 13186, 'mira': 13172, 'arman': 1516, 'scari': 17563, 'carpet': 3538, 'arif': 1489, 'gora': 8577, 'worldfam': 22291, 'bolshoï': 2699, 'maëstro': 12719, 'andreï': 1218, 'filipov': 7440, 'leonid': 11664, 'brezhnev': 2973, 'théâtre': 20264, 'du': 6181, 'châtelet': 4005, 'tchaikovski': 19935, 'concerto': 4446, 'soloist': 18710, 'shrine': 18233, 'shion': 18146, 'unguard': 21092, 'eastsid': 6332, 'graffiticov': 8631, 'padlock': 14780, 'autocrat': 1762, 'asuna': 1660, 'eman': 6537, 'agartha': 802, 'morisaki': 13437, 'atreyu': 1684, 'falkor': 7170, 'feelgood': 7329, 'skijump': 18424, 'himselfeven': 9475, 'calgari': 3339, 'ammo': 1147, 'armando': 1518, 'arma': 1511, 'corinn': 4653, 'musket': 13647, 'darl': 5192, 'swordplay': 19724, 'swashbuckl': 19670, 'moonlit': 13401, 'lush': 12174, 'rootless': 17118, 'aimlessli': 854, 'travers': 20582, 'drab': 6064, 'cleveland': 4125, 'postwwii': 15645, 'unwant': 21246, 'visa': 21642, 'reassign': 16412, 'aloof': 1044, 'macray': 12240, 'smarter': 18558, 'monitor': 13343, 'haru': 9137, 'felin': 7340, 'raider': 16229, 'dido': 5658, 'greatuncl': 8689, 'mansfield': 12450, 'lineag': 11835, 'vicar': 21546, 'thun': 20250, 'louisvil': 12054, 'kentucki': 11030, 'klutz': 11175, 'flesheat': 7591, 'satisfi': 17492, 'gori': 8585, 'mortician': 13463, 'consult': 4552, 'matricul': 12659, 'berkeley': 2348, 'bff': 2401, 'reignit': 16577, 'mou': 13507, 'gaan': 8040, 'dou': 6015, 'triad': 20621, 'unsleek': 21212, 'shifu': 18126, 'furiou': 8016, 'tigress': 20298, 'manti': 12455, 'viper': 21626, 'shelv': 18104, 'carnag': 3521, 'ock': 14315, 'osborn': 14594, 'walcheren': 21779, 'zeeland': 22554, 'inextric': 10148, 'glider': 8456, 'molli': 13312, 'jensen': 10616, 'madli': 12258, 'bruner': 3081, 'oda': 14325, 'mae': 12269, 'goon': 8573, 'deviant': 5597, 'georgio': 8283, 'nelson': 13864, 'mandela': 12401, 'cup': 5004, 'freddo': 7856, 'libano': 11727, 'dandi': 5146, 'fleshli': 7592, 'extravag': 7088, 'evapor': 6855, 'pizza': 15389, 'exactchang': 6917, 'buse': 3210, 'straightlac': 19288, 'halla': 8981, 'onewomanwar': 14488, 'aluminium': 1071, 'pristin': 15838, 'iceland': 9888, 'ritchi': 16964, 'valen': 21369, '1958': 211, 'ballad': 1954, 'donna': 5964, 'tumbl': 20753, 'burrow': 3199, 'topsyturvi': 20437, 'highlight': 9428, 'culmin': 4988, 'nevil': 13932, 'immun': 9989, 'straighta': 19282, 'inarticul': 10048, 'tricki': 20638, 'barker': 2039, 'sweeney': 19680, 'lovett': 12084, 'markway': 12544, 'lurid': 12172, 'actioncomedi': 664, 'foley': 7674, 'reinhold': 16588, 'highspe': 9447, 'reiser': 16595, 'bronson': 3050, 'pinchot': 15341, 'damon': 5134, 'wayan': 21892, 'sidesplit': 18272, 'overpopul': 14719, 'septuplet': 17907, 'infight': 10164, 'random': 16292, 'rams': 16275, 'ponyvil': 15558, 'mane': 12407, 'sparkl': 18857, 'applejack': 1400, 'rainbow': 16239, 'pinki': 15348, 'fluttershi': 7654, 'rariti': 16327, 'equestria': 6741, 'travi': 20583, 'gabbi': 8041, 'zachari': 22524, 'cowan': 4786, 'argument': 1482, '600': 454, 'bialystock': 2408, 'surefir': 19595, 'flop': 7621, 'tasteless': 19910, 'oilrig': 14389, 'heisman': 9298, 'trophi': 20682, 'dimwit': 5697, 'somebodi': 18719, 'shipbuild': 18148, 'worm': 22300, 'fowl': 7801, 'swine': 19702, '1874': 142, 'coldest': 4278, 'neapolitan': 13813, 'fratello': 7846, 'antib': 1304, 'stephani': 19178, 'heavydrink': 9257, 'posttraumat': 15640, 'lancast': 11402, 'dodd': 5902, '1989': 245, 'villaini': 21599, 'codepend': 4239, 'boozesoak': 2770, 'secondr': 17738, 'salyut': 17395, 'vladimir': 21675, 'dzhanibekov': 6293, 'savinykh': 17518, 'sutton': 19643, 'unw': 21245, 'portland': 15601, 'diann': 5640, 'nadin': 13697, 'drugstor': 6165, 'appeas': 1394, 'addam': 686, 'garriti': 8148, 'planetkil': 15409, 'hurtl': 9816, 'countdown': 4731, 'lastminut': 11475, 'highlytrain': 9431, 'mentorship': 12909, 'haymitch': 9189, 'abernathi': 558, 'weigh': 21950, 'jenson': 10617, 'eveleth': 6858, 'landmark': 11412, 'lawsuit': 11543, 'paramo': 14884, 'rebeca': 16416, 'manuel': 12459, 'almási': 1035, 'maker': 12330, 'geograph': 8271, 'daddi': 5091, 'shiva': 18159, 'whitesuit': 22065, 'westward': 22011, 'bere': 2336, 'archriv': 1467, 'mustach': 13652, 'blackattir': 2521, 'irrespons': 10410, 'hillard': 9464, 'veer': 21450, 'offcours': 14349, 'overthecount': 14736, 'syrup': 19759, 'spray': 18970, 'chalmer': 3753, 'bullitt': 3152, 'cavali': 3652, 'rosenblum': 17135, 'officergentleman': 14357, 'roller': 17071, 'coasterstyl': 4202, 'sade': 17313, 'madhous': 12256, 'printer': 15829, 'titil': 20353, 'whip': 22050, 'frenzi': 7895, 'dockwork': 5896, 'jude': 10800, 'reshap': 16749, 'antiwar': 1337, 'fuse': 8025, 'osiri': 14603, 'fiona': 7475, 'archduchess': 1452, 'lincoln': 11828, 'cabret': 3292, 'automaton': 1768, 'lass': 11470, 'braden': 2878, 'batgirl': 2108, 'sworn': 19731, 'shredder': 18226, 'ra': 16159, 'ghul': 8338, 'doomsday': 5977, 'sooner': 18755, 'krypton': 11285, 'superboy': 19533, 'trumbo': 20712, 'anticommunist': 1312, 'huac': 9733, 'blacklist': 2531, 'hayn': 9190, 'sandstorm': 17431, 'dozen': 6061, 'undamag': 20993, 'encroach': 6623, 'behrani': 2251, 'bungalow': 3164, 'kathi': 10965, 'unfair': 21067, 'counti': 4741, 'archibald': 1459, 'enlarg': 6666, 'hmo': 9527, 'therefor': 20145, 'droughtplagu': 6149, '310': 382, 'yuma': 22510, 'madra': 12264, 'srinivasa': 19024, 'ramanujan': 16260, 'iyengar': 10469, 'admitt': 713, 'gh': 8323, 'hardi': 9091, 'paranoiafuel': 14889, 'darkli': 5187, 'mont': 13367, 'woodland': 22258, 'nut': 14237, 'illgotten': 9947, 'heinrich': 9293, 'harrer': 9125, 'detaine': 5566, 'llaso': 11899, 'tibet': 20269, 'dalai': 5114, 'lama': 11388, 'philistin': 15246, 'prokosch': 15895, 'lang': 11424, 'unconnect': 20983, 'telepath': 19995, 'moroccan': 13442, 'crawley': 4831, 'downton': 6053, 'arceu': 1445, 'judgement': 10805, 'prepubesc': 15748, 'harden': 9087, 'fischer': 7509, 'escort': 6793, 'slight': 18511, 'framer': 7818, 'minot': 13166, 'firemen': 7489, 'necessari': 13834, 'renfield': 16676, 'enslav': 6684, 'supernaturalist': 19555, 'sandringham': 17429, 'norfolk': 14132, 'sheridan': 18114, 'sg1': 18002, 'ori': 14568, 'milki': 13099, 'oversight': 14731, 'kimberli': 11101, '2011': 280, 'behr': 2250, 'breivik': 2956, '77': 489, 'utöya': 21343, 'threepart': 20220, 'yeterad': 22440, 'highlyskil': 9430, 'ryan': 17271, 'shuttl': 18246, 'spacewalk': 18843, 'aloneteth': 1039, 'deafen': 5271, 'gulp': 8855, 'oxygen': 14757, 'snafu': 18599, 'tullio': 20751, 'sperelli': 18904, 'portli': 15603, 'starkwel': 19099, 'notsobud': 14185, 'forgett': 7731, 'infract': 10176, 'topo': 20431, 'totem': 20471, 'selfdefens': 17803, 'lyon': 12196, 'emmanuel': 6575, 'abra': 577, 'extrasensori': 7086, 'recognis': 16456, 'embassi': 6545, 'gwen': 8897, 'pump': 16027, 'malt': 12377, 'liquor': 11858, 'hallow': 8988, 'honki': 9617, 'neilson': 13860, 'heaven': 9247, 'heron': 9377, 'alist': 978, 'riddlespeak': 16901, 'butterfli': 3243, 'unicorn': 21102, 'schmendrick': 17596, 'grue': 8798, 'haggard': 8931, 'missil': 13224, 'unreal': 21183, 'poirot': 15502, 'larusso': 11464, 'karat': 10932, 'grotesqu': 8779, 'daae': 5083, 'lair': 11379, 'chagni': 3741, 'revisit': 16837, 'starkli': 19096, 'pardon': 14902, 'mislead': 13215, 'expressli': 7051, 'monolith': 13353, 'scholl': 17604, 'distribut': 5847, 'pamphlet': 14831, 'unwav': 21247, 'crossexamin': 4916, 'unglu': 21090, 'brigsbi': 3003, 'abruptli': 583, 'jamess': 10522, 'congo': 4491, 'ascens': 1586, 'dudley': 6203, 'doreen': 5995, 'piggot': 15319, 'laps': 11442, 'baker': 1936, 'cake': 3324, '480': 423, 'bc': 2158, 'thermopyla': 20150, 'sparta': 18860, 'usher': 21322, 'democraci': 5459, 'junk': 10843, 'natali': 13767, 'royalti': 17193, 'keith': 11003, '208': 313, 'minster': 13167, 'unpreced': 21170, 'javert': 10561, 'unopen': 21160, 'tapion': 19889, 'hildegarn': 9461, 'bonisseur': 2725, 'microfilm': 13017, 'mossad': 13473, 'sumner': 19499, 'englishwoman': 6658, 'statesid': 19122, 'cornwal': 4669, 'ostrac': 14614, 'shockingli': 18168, 'zissou': 22595, 'ned': 13842, 'shahid': 18018, 'sultana': 19485, 'daku': 5113, 'ramadhir': 16258, 'collieri': 4302, 'philand': 15238, 'sardar': 17468, 'wasseypur': 21861, 'raccoon': 16170, 'tama': 19852, 'gelfl': 8211, 'shard': 18051, 'skeksi': 18413, 'hoax': 9531, 'sorrow': 18784, 'litter': 11875, 'dalmatian': 5121, 'vil': 21590, 'pongo': 15549, 'bachelordog': 1866, 'perdita': 15132, 'anita': 1264, 'badun': 1912, 'fur': 8012, 'allfemal': 1006, 'publicityhungri': 16004, 'dotti': 6014, 'hinson': 9485, 'spar': 18853, 'capadino': 3446, 'hasbeen': 9146, 'dugan': 6211, 'bonner': 2727, '50000': 431, 'pearc': 15047, 'songster': 18742, 'motley': 13495, 'carriag': 3542, 'overlord': 14716, 'apokolip': 1377, 'decidedli': 5325, 'manchuria': 12395, 'gynecologist': 8903, 'meeker': 12834, 'lawbreak': 11535, 'alcoholabus': 925, 'shia': 18120, 'labeouf': 11345, 'skier': 18423, 'melinda': 12869, 'ledbett': 11594, 'kermit': 11037, 'frog': 7938, 'muppet': 13611, 'frogleg': 7939, 'lar': 11444, 'simba': 18315, 'mufasa': 13558, 'brotherand': 3065, 'throneha': 20239, 'jägerstätter': 10867, 'sulli': 19482, 'sullenberg': 19480, 'frigid': 7933, '155': 80, 'herald': 9345, 'pulitzerwin': 16018, 'limburg': 11812, 'vanmarsenil': 21419, 'veterinarian': 21532, 'westflemish': 22006, 'beef': 2218, 'farreach': 7239, 'camino': 3385, 'pilgrimag': 15330, 'pyrene': 16081, '500mile': 433, 'kahuna': 10884, 'hanahuna': 9018, 'wiki': 22109, 'tiki': 20299, 'meani': 12795, 'pepperland': 15120, 'drain': 6080, 'antimus': 1327, 'bonk': 2726, 'murderess': 13618, 'roxi': 17190, 'hart': 9135, 'gallow': 8086, 'schill': 17586, 'freel': 7868, 'dana': 5140, 'robbi': 17002, 'furnitur': 8019, 'lesh': 11679, 'crimedrama': 4872, 'avers': 1787, 'rocker': 17031, 'moreafflu': 13423, 'unqualifi': 21179, 'childcar': 3911, 'tod': 20370, 'copper': 4629, '93': 519, 'shanksvil': 18041, 'banana': 1976, 'larri': 11461, 'talbot': 19837, 'eden': 6364, 'selfcentr': 17798, 'chuzzlewit': 4003, 'neckti': 13838, 'suspectbut': 19632, 'romulu': 17098, 'remu': 16658, 'conman': 4498, 'gravit': 8675, 'bohemian': 2682, 'freight': 7883, 'brook': 3057, 'hostetl': 9684, 'possum': 15622, '1825': 124, 'clare': 4072, 'tasmanian': 19907, 'violencefil': 21619, 'anthropologist': 1302, 'nineti': 14039, 'herold': 9376, 'uniform': 21106, 'timid': 20320, 'vicari': 21547, 'neg': 13850, 'salamanca': 17358, '193639': 189, 'unamuno': 20939, 'prevail': 15788, 'midway': 13052, 'fortitud': 7758, 'braveri': 2917, 'urchin': 21306, 'vizier': 21671, 'vie': 21571, 'virul': 21640, '1840': 130, 'palaeontologist': 14809, 'an': 1171, 'convalesc': 4590, 'chasm': 3821, 'prescript': 15754, 'wurdalak': 22358, 'medium': 12829, 'gloir': 8472, 'mon': 13323, 'pere': 15133, 'recollect': 16459, 'predecessor': 15716, 'embargo': 6541, 'diplomaci': 5714, 'tora': 20438, 'pearl': 15048, 'isra': 10439, '2001': 270, 'genoa': 8252, 'g8': 8038, 'antiglob': 1318, '23yearold': 336, 'giuliani': 8421, 'twice': 20826, 'diaz': 5644, 'amnesti': 1151, 'democrat': 5460, 'impression': 10027, 'shayn': 18077, 'valenti': 21371, 'psychiatristbut': 15979, 'bimbo': 2460, 'psychiatristsh': 15980, 'compuls': 4426, 'interf': 10291, 'hitmanbodyguardbut': 9519, 'carniv': 3526, 'bigh': 2437, 'unfamiliar': 21070, 'grownup': 8793, 'unkind': 21131, 'misogyn': 13217, 'felon': 7348, 'younggoon': 22484, 'electrocharg': 6460, 'transistor': 20551, 'firmli': 7496, 'ilsoon': 9964, 'myth': 13675, 'tinker': 20333, 'fawn': 7297, 'pixi': 15388, 'neverbeast': 13925, 'verdon': 21489, 'biro': 2494, 'archi': 1458, 'frankboth': 7832, 'runnersbecom': 17241, 'corp': 4672, 'dardanel': 5174, 'gallipoli': 8084, 'peninsula': 15098, 'eightmonth': 6424, '500000': 432, 'grader': 8625, 'inattent': 10049, 'halli': 8985, 'dillo': 5688, 'armadillo': 1514, 'vaca': 21350, 'goofi': 8572, 'overs': 14726, 'tapir': 19890, 'vocabulari': 21680, 'abod': 569, 'henc': 9333, 'refer': 16525, 'armchair': 1519, 'disobedi': 5801, 'ubercontrol': 20874, 'submiss': 19419, 'behead': 2246, 'javier': 10562, 'husbandinlaw': 9821, 'ecolog': 6353, 'downonherluck': 6043, 'mayb': 12702, 'absentmind': 589, 'aneurysm': 1227, 'anew': 1228, 'raichi': 16226, 'tuffl': 20743, 'capsul': 3461, 'pascal': 14953, 'underway': 21034, 'barrel': 2056, 'barricad': 2061, 'sticki': 19203, 'burridg': 3197, 'garfield': 8134, 'lookout': 12000, 'windfal': 22152, 'precari': 15698, 'highwir': 9453, 'darryl': 5200, 'cap': 3442, 'laundromat': 11510, '1953': 206, 'balestrero': 1949, 'wiseau': 22182, 'nonconformist': 14099, 'golddigg': 8530, 'nois': 14084, 'bankrobb': 1995, 'seventeenth': 17964, 'tokugawa': 20385, 'shogun': 18176, 'catholic': 3632, 'workahol': 22281, 'wasnt': 21860, 'jodi': 10706, 'forcedkick': 7707, 'womenyvett': 22241, 'susannah': 19628, 'cahalan': 3314, 'seizur': 17785, 'friedrich': 7915, 'weimer': 21952, 'napola': 13735, 'columnfriedrich': 4334, 'albrecht': 915, 'ascet': 1588, 'tinkerbel': 20334, 'periwinkl': 15150, 'unscath': 21202, 'elijah': 6484, 'nobel': 14065, 'fiveday': 7531, 'lipski': 11855, 'infinit': 10168, 'jest': 10637, 'bubber': 3101, 'reev': 16522, '1798': 112, 'feral': 7362, 'aveyron': 1789, 'releg': 16613, 'itard': 10450, 'capac': 3445, 'arduou': 1471, 'duncan': 6234, 'wizz': 22218, 'courtmarti': 4766, '1200': 42, '1250': 44, 'trojan': 20674, 'menelau': 12899, 'troy': 20694, 'agamemnom': 800, 'agamemnon': 801, '1000': 6, 'achil': 642, 'penthous': 15112, 'dell': 5430, 'shortwav': 18199, 'ludwig': 12137, '1827': 125, 'sephiroth': 17902, 'midgar': 13040, 'mako': 12336, 'geostigma': 8284, 'moriarti': 13435, 'novale': 14197, 'transient': 20550, 'aisl': 870, 'walmart': 21799, 'isabel': 10420, 'cobbl': 4209, 'smokey': 18579, 'porch': 15583, 'friday': 7913, 'speaker': 18869, 'reinvigor': 16594, 'indescrib': 10106, 'kervorkian': 11047, 'vilif': 21592, 'walley': 21794, 'lipread': 11854, 'kinsella': 11128, 'cornfield': 4666, 'ballplay': 1960, 'sant': 17441, 'forrest': 7749, 'scholarship': 17603, 'downandout': 6038, 'cyphr': 5068, 'sore': 18776, 'armless': 1526, 'pluto': 15477, 'wonderfil': 22243, 'pg13': 15217, 'rendit': 16669, 'brideesqu': 2985, 'fs': 7963, 'glader': 8432, 'wckdcontrol': 21905, 'greataunt': 8683, 'broom': 3060, 'mørck': 13687, 'hafez': 8928, 'elassad': 6442, 'meret': 12923, 'lynggaard': 12194, 'thessali': 20153, 'fleec': 7585, 'fraught': 7850, 'belat': 2260, '50someth': 439, 'amend': 1119, 'corki': 4657, 'renov': 16682, 'whitesheet': 22064, 'spectral': 18885, 'unstuck': 21221, 'sat': 17483, 'dope': 5986, 'casper': 3580, 'zest': 22567, 'reno': 16680, 'mayhem': 12705, '12thcenturi': 50, 'herb': 9346, 'helm': 9317, 'heavilyfavor': 9254, 'antidepress': 1314, 'maladi': 12341, 'indict': 10116, 'filippo': 7442, 'baddi': 1903, 'felic': 7339, 'unsur': 21226, '1830': 126, 'rehears': 16572, 'wintri': 22174, 'hallucinatori': 8992, 'sangria': 17437, 'lace': 11353, 'lsd': 12107, 'battlestar': 2129, 'galactica': 8067, 'lizewski': 11894, 'cori': 4652, 'bratter': 2912, 'sixthfloor': 18396, 'inappropri': 10045, 'hiphop': 9490, 'underachiev': 20999, 'valedictorian': 21368, 'recaptur': 16432, 'roster': 17149, 'dodger': 5905, 'innov': 10220, 'rickey': 16891, 'mlb': 13266, 'roy': 17191, 'swing': 19703, 'swimmer': 19697, 'selfsacrific': 17838, 'fairest': 7156, 'baal': 1845, 'stargat': 19093, 'lebron': 11589, 'bug': 3130, 'undisciplin': 21043, 'looney': 12003, 'higheststak': 9420, 'koala': 11202, 'drum': 6169, 'straitlac': 19291, 'expresid': 7049, 'reagan': 16385, 'goliath': 8543, 'omalu': 14432, 'forens': 7719, 'neuropathologist': 13915, 'cte': 4970, 'footballrel': 7695, 'luxo': 12182, 'obvious': 14295, 'whoami': 22073, 'turncoat': 20783, 'northamerican': 14147, 'liz': 11892, 'arabian': 1429, 'dailey': 5106, 'eeyor': 6391, 'kgb': 11059, 'illya': 9961, 'kuryakin': 11320, 'evildo': 6901, 'joão': 10789, 'guilherm': 8840, 'estrella': 6820, 'bon': 2709, 'vivant': 21664, 'bigtim': 2444, 'ineffectu': 10140, 'callous': 3358, 'prefect': 15722, 'mick': 13011, 'redress': 16503, 'saucer': 17497, 'unearthli': 21053, 'delambr': 5410, 'apparatu': 1389, 'morrison': 13450, 'murrow': 13630, 'mccarthi': 12731, 'mulligan': 13575, 'baurel': 2137, 'distort': 5842, 'costar': 4710, 'yearlong': 22428, 'reexamin': 16524, 'ginsberg': 8389, 'kerouac': 11041, 'burrough': 3198, 'lina': 11825, 'mclaidlaw': 12766, 'neerdowel': 13848, 'aysgarth': 1831, 'disreput': 5826, 'cahil': 3315, 'homecom': 9580, 'wardrob': 21821, 'narnia': 13748, 'jadi': 10501, 'magnific': 12289, 'aslan': 1609, 'unbeliev': 20960, 'overwork': 14745, 'kroc': 11275, 'dick': 5647, 'mcdonald': 12747, 'burger': 3177, 'speedi': 18892, 'billiondollar': 2457, 'åmål': 22636, 'insignific': 10242, 'trend': 20611, 'elin': 6486, 'homosexu': 9603, 'magistr': 12282, 'rapidfir': 16311, 'tutori': 20793, 'in': 10039, 'reputedli': 16731, 'gaetan': 8052, 'zampa': 22531, 'skateboard': 18410, 'peralta': 15125, 'zboy': 22545, 'shred': 18225, 'brock': 3036, 'symbiot': 19741, 'cletu': 4124, 'kasadi': 10949, 'presentday': 15759, 'evi': 6896, 'psychotherapist': 15993, 'glimmer': 8458, 'nymphet': 14246, 'jozef': 10788, 'gabčík': 8046, 'kubiš': 11294, 'fallout': 7176, 'clearwat': 4115, 'gunsmith': 8875, 'phase': 15225, 'wellchosen': 21966, 'picaresqu': 15286, 'incorrect': 10088, 'irasc': 10386, 'blunt': 2639, 'barney': 2046, 'panofski': 14849, 'conservatori': 4525, 'arian': 1484, 'flannagan': 7561, 'lamour': 11397, 'gia': 8340, 'carangi': 3473, 'wilhelmina': 22128, 'unnecessarili': 21156, '192': 172, 'nile': 14026, 'justin': 10860, 'gargoyl': 8137, 'quasimodo': 16111, 'frollo': 7941, 'esmeralda': 6794, 'quasi': 16110, 'paterson': 14982, 'snowden': 18631, 'uk': 20892, 'butbehind': 3235, 'scenesgovern': 17576, 'wherein': 22041, 'finicki': 7465, 'marit': 12529, 'testpilot': 20090, 'beforeand': 2228, 'astonish': 1647, 'innerhero': 10213, 'pym': 16078, 'antman': 1338, 'insurmount': 10271, 'ragnar': 16217, 'campana': 3391, 'hopkin': 9638, 'allegedli': 992, 'stanley': 19081, 'bangkok': 1985, 'kham': 11060, 'eleph': 6472, 'kern': 11038, 'thai': 20104, 'videotap': 21568, 'angelino': 1236, 'deadbeat': 5257, 'unremark': 21191, 'scooter': 17637, 'prowl': 15964, 'lorenzo': 12021, 'odon': 14339, 'phenomena': 15232, 'aldan': 926, 'degen': 5395, 'disordershi': 5804, 'unothadox': 21163, 'americanborn': 1123, 'singapor': 18344, 'swampdwel': 19660, 'bog': 2675, 'rowboat': 17180, 'oscarnomin': 14596, 'crucifixion': 4938, 'jewison': 10658, 'neeley': 13847, '1974': 229, 'peltzer': 15080, 'gizmo': 8428, 'mogwai': 13294, 'gremlin': 8713, 'aa': 533, 'miln': 13112, '1894': 151, 'dreyfu': 6120, 'treason': 20592, 'heidi': 9285, 'mountaindwel': 13515, 'sesemann': 17947, 'frankfurt': 7834, 'klara': 11162, 'vee': 21449, 'delmonico': 5434, 'adrenalinefuel': 726, 'bawdi': 2141, 'phenomen': 15231, 'flesh': 7590, 'flabbergast': 7545, 'peaceabl': 15037, 'fiercest': 7418, 'castleburi': 3596, 'kenni': 11023, 'pore': 15586, 'meticul': 12971, 'retrac': 16801, 'musicmad': 13645, 'rugbymad': 17220, 'violinist': 21624, 'busk': 3227, 'tenyearold': 20047, 'telesco': 19998, 'shigeharu': 18129, 'asami': 1582, 'catfish': 3624, 'dupe': 6244, 'toymak': 20508, 'pinocchio': 15352, 'jimini': 10676, 'anthropolog': 1301, 'daria': 5178, 'traven': 20580, 'payn': 15030, 'busif': 3218, 'transatlant': 20543, 'cassiu': 3588, 'liston': 11868, 'angeliki': 1234, 'balconi': 1943, 'brontosauru': 3051, 'littlefoot': 11877, 'veget': 21453, 'platon': 15425, 'alana': 904, 'toc': 20369, 'ocd': 14306, 'manta': 12454, 'apokoliptiantyr': 1379, 'planetari': 15407, 'atlanna': 1673, 'halfhuman': 8967, 'aquat': 1423, 'atlantean': 1676, 'teammat': 19947, 'caruso': 3560, 'gresco': 8716, 'amoruso': 1157, 'genoves': 8254, 'mud': 13552, 'sown': 18824, 'ditzi': 5856, 'togethermayb': 20378, 'shelf': 18098, 'snowglob': 18635, 'knickknack': 11182, 'sunnier': 19518, 'greider': 8712, 'lumber': 12154, 'maisi': 12315, 'evoc': 6905, 'putupon': 16074, 'paxton': 15022, 'seattl': 17725, 'gag': 8054, '1954': 207, 'hickori': 9401, 'husker': 9824, 'incit': 10071, 'chip': 3939, 'plissken': 15457, 'léna': 12201, '2014': 283, 'assad': 1620, 'tori': 20442, 'popstar': 15578, 'keira': 11002, 'toma': 20397, 'pragu': 15688, 'tereza': 20053, 'sabina': 17294, 'czechoslovakia': 5076, 'epiphani': 6734, 'grevil': 8721, 'wynn': 22370, 'cruchot': 4934, 'tropez': 20681, 'nude': 14218, 'yacht': 22400, 'lovelorn': 12078, 'regist': 16561, 'expolic': 7040, 'adèl': 760, 'assert': 1630, 'adel': 692, 'layla': 11548, 'microsoft': 13021, 'lightman': 11790, 'unreleas': 21189, 'wizardli': 22215, 'halfdestroy': 8963, 't34': 19772, 'duguay': 6214, 'olympicsbound': 14426, 'equin': 6744, 'jappeloup': 10548, 'equestrian': 6742, 'annika': 1275, 'brietta': 2994, 'bree': 2951, 'pluson': 15475, 'bullet': 3147, 'leela': 11600, 'ecologicallymind': 6354, 'asteroid': 1646, 'tissu': 20349, 'rydel': 17273, '80000': 497, 'vividli': 21668, 'inquir': 10226, '1904': 162, 'fair': 7152, 'spectr': 18884, 'klebb': 11166, 'kronsteen': 11279, 'decod': 5337, 'lektor': 11635, 'ravish': 16359, 'tatiana': 19914, 'glorifi': 8477, 'gill': 8373, 'suzuran': 19652, 'exgradu': 6971, 'isan': 10423, 'goodspe': 8568, 'mason': 12606, 'hummel': 9778, 'repar': 16698, 'slain': 18458, 'servicemen': 17945, 'rimini': 16931, 'esperanto': 6799, 'micron': 13019, 'expedi': 7018, 'revenu': 16827, 'noumouké': 14190, 'soulaymaan': 18790, 'demba': 5451, 'meddl': 12812, 'vocalist': 21682, 'dewey': 5618, 'finn': 7469, 'finagl': 7450, 'fifthgrad': 7427, 'finer': 7460, 'rightli': 16919, 'gio': 8392, 'asham': 1594, 'arianna': 1486, 'amish': 1141, 'restroom': 16779, 'sundrench': 19508, 'jeanpaul': 10586, 'gratifi': 8669, 'lovegam': 12071, 'keaton': 10990, 'welleduc': 21970, 'nautilu': 13790, 'montréal': 13388, 'elementaryschool': 6470, 'bachir': 1870, 'lazhar': 11550, 'tuck': 20739, 'québec': 16157, 'redirect': 16494, 'antoni': 1342, 'powerbut': 15672, 'swap': 19668, 'viniciu': 21612, 'lygia': 12187, 'moralist': 13415, 'deviat': 5598, 'jouv': 10780, 'arlett': 1504, 'bauchard': 2134, 'somber': 18717, 'jare': 10550, 'baptist': 2009, 'ultimatum': 20904, 'iv': 10458, 'narcolepsi': 13743, 'idaho': 9899, 'preteen': 15776, 'coulson': 4725, 'coincident': 4266, 'withdrawn': 22199, 'rynn': 17276, 'whenev': 22037, 'pri': 15797, 'rampant': 16273, 'disbar': 5743, 'norton': 14157, 'melquiad': 12879, 'estrada': 6818, 'exhum': 6980, 'horseback': 9668, 'nsea': 14213, 'taggart': 19801, 'tawni': 19927, 'madison': 12257, 'sigourney': 18295, 'drlazaru': 6139, 'rickman': 16893, 'spaceand': 18831, 'transmiss': 20554, 'beam': 2166, 'cheney': 3865, 'halliburton': 8986, 'résumé': 17283, 'narrow': 13752, 'disconnect': 5755, 'interweav': 10321, 'negat': 13851, 'tati': 19913, 'wellchoreograph': 21965, 'firecrack': 7484, 'hatak': 9155, 'sakura': 17353, 'haruno': 9139, 'michiru': 13008, 'materialist': 12644, 'worldview': 22295, 'aron': 1543, 'ralston': 16255, 'boulder': 2816, 'canyon': 3439, 'sadomasochist': 17320, 'kakihara': 10895, 'ichi': 9892, 'jed': 10591, 'cavalcanti': 3651, 'molt': 13314, 'miglia': 13062, 'thibault': 20158, 'alivea': 981, 'familyrun': 7196, 'kennel': 11019, 'mistrust': 13243, 'kenichi': 11016, 'shunsaku': 18243, 'laughton': 11506, 'seper': 17900, 'tima': 20305, 'cinematograph': 4023, 'maclean': 12234, 'vari': 21426, 'fishoutofwat': 7518, 'neïla': 13972, 'salah': 17357, 'mazard': 12712, 'courtroom': 4768, 'cram': 4814, 'bethani': 2383, 'overcam': 14691, 'sheer': 18088, 'sanghyun': 17435, 'transfus': 20548, 'bloodlust': 2612, 'taeju': 19795, 'unpublish': 21177, 'hillari': 9465, 'flammond': 7558, 'flatbrok': 7569, 'enthusiast': 6699, 'oncamera': 14448, 'smolder': 18582, 'hillsid': 9468, 'capt': 3462, 'wile': 22124, 'seaman': 17711, 'vernon': 21504, 'wormer': 22301, 'tau': 19921, 'fratern': 7847, 'ukbas': 20893, 'drone': 6141, 'kenya': 11031, 'watt': 21883, 'nineyear': 14040, 'highest': 9419, 'hundert': 9789, 'tightlycontrol': 20297, 'inexor': 10144, 'sedgewick': 17753, 'studentteach': 19377, 'armstrong': 1531, 'orel': 14561, 'gring': 8753, 'rap': 16306, 'booz': 2765, '24h': 343, 'mid20': 13028, 'er': 6747, 'igor': 9925, 'richi': 16888, 'kelsey': 11007, 'tailspin': 19812, '98': 525, 'ratigan': 16342, 'basil': 2087, 'mara': 12474, 'dylan': 6282, 'unplan': 21165, 'offbeat': 14347, 'blankfac': 2557, 'deadey': 5259, 'joan': 10694, 'benway': 2331, 'centiped': 3711, 'typewriterturnedcockroach': 20857, 'lula': 12151, 'marietta': 12514, 'individualist': 10128, 'proletarian': 15896, '20thcenturi': 319, 'allegi': 993, 'biaggio': 2407, 'stud': 19375, 'etienn': 6832, 'isabeau': 10419, 'gaston': 8159, 'allexpens': 1002, 'wrap': 22324, 'ideolog': 9906, 'disregard': 5825, 'depressionera': 5510, 'bootleg': 2762, 'radiofreccia': 16196, 'freccia': 7853, 'uninhabit': 21111, 'unavail': 20953, 'perci': 15131, 'wollstonecraft': 22229, 'godwin': 8514, 'prometheu': 15900, 'skeleton': 18414, 'retrospect': 16807, 'moor': 13407, 'dolemit': 5927, 'cutthroat': 5045, 'radiant': 16190, 'gothel': 8598, 'paintbrush': 14798, 'penelopetm': 15094, 'soulshak': 18795, 'environment': 6721, 'overburden': 14690, 'giovanna': 8399, 'colossalbut': 4322, 'constructedoffic': 4547, '6foot5': 470, '261pound': 358, 'piledriv': 15327, 'irresist': 10408, 'fuller': 7982, 'bathsheba': 2111, 'everden': 6868, 'oak': 14256, 'fetch': 7389, 'boldwood': 2693, 'dug': 6210, 'foolish': 7689, 'beta': 2378, 'gamma': 8105, '1839': 129, 'amistad': 1143, 'cinqu': 4027, 'joadson': 10693, 'trendi': 20612, 'overdos': 14698, 'deliber': 5419, 'dismemb': 5796, 'bundi': 3163, 'kloepfer': 11173, 'architectur': 1462, 'jin': 10678, 'modernist': 13284, 'hendrick': 9337, 'kremlin': 11262, 'socialist': 18663, 'gibson': 8353, 'bassett': 2097, 'fishburn': 7511, 'ike': 9933, 'lanier': 11432, 'loder': 11929, 'wan': 21806, 'na': 13690, 'dandrig': 5148, 'mice': 12998, 'wand': 21807, 'gloriou': 8478, 'gown': 8611, 'slipper': 18518, 'evict': 6897, 'moriar': 13434, 'salmon': 17378, 'heyday': 9392, 'semireclus': 17863, 'dour': 6029, 'stupid': 19392, 'repugn': 16728, 'immor': 9986, 'ineffect': 10139, 'unspeak': 21216, 'saunder': 17502, 'discourag': 5759, 'newcastl': 13938, 'hardwork': 9102, 'vintag': 21614, 'fatherdaught': 7267, 'breakout': 2942, 'excop': 6947, 'datadisc': 5216, 'timoteo': 20324, 'torrid': 20458, 'italia': 10446, 'peripheri': 15149, 'childless': 3915, 'quintuplet': 16147, 'anticip': 1309, 'uncook': 20989, 'capot': 3456, 'yorker': 22468, 'nonfict': 14106, 'whiski': 22056, 'distilleri': 5838, '1962the': 216, 'aubrey': 1712, 'holland': 9564, 'opu': 14537, 'unwritten': 21258, 'redefin': 16488, 'terroristbattl': 20079, 'baylor': 2145, 'chaser': 3820, 'paraleg': 14877, 'foremost': 7718, 'smallmind': 18551, 'highsocieti': 9446, 'execution': 6953, 'exnazi': 7001, 'malori': 12375, 'mort': 13455, 'darthur': 5204, 'pendragon': 15092, 'piedmont': 15303, 'satellit': 17486, 'scoop': 17635, 'sixmonthold': 18390, 'schlegel': 17592, 'wilcox': 22113, 'downwardli': 6057, 'bast': 2099, 'fortyf': 7764, 'inprison': 10225, 'tomb': 20398, 'xilien': 22385, 'der': 5516, 'baader': 1844, 'meinhof': 12857, 'komplex': 11223, 'deutschen': 5587, 'herbst': 9351, 'stefan': 19160, 'aust': 1743, 'standard': 19069, 'rote': 17154, 'arme': 1520, 'fraktion': 7816, 'raf': 16206, 'antifascist': 1317, 'ulrik': 20900, 'gudrun': 8821, 'ensslin': 6686, 'longev': 11971, 'reliant': 16620, 'clandestin': 4067, 'cow': 4785, 'sulley': 19481, 'werent': 21996, 'necessarili': 13835, 'desi': 5536, 'octagon': 14319, 'gave': 8181, 'triumphant': 20667, 'silverado': 18309, 'foursom': 7794, 'boyth': 2868, 'lovei': 12073, 'cybertron': 5057, 'esquir': 6802, 'whitman': 22068, 'darjeel': 5181, 'bavmorda': 2140, 'elora': 6514, 'danan': 5141, 'funniest': 8007, 'iannucci': 9877, 'buscemi': 3208, 'riseborough': 16955, 'palin': 14818, 'classact': 4083, 'sheffield': 18092, 'gaz': 8188, 'steelwork': 19156, 'onenightonli': 14476, 'neo': 13869, 'omen': 14438, 'zion': 22591, 'precognit': 15708, '250000': 349, 'sentinel': 17896, '72': 481, 'morpheu': 13447, 'oracl': 14539, 'keymak': 11056, 'recurr': 16482, 'delet': 5415, 'mirko': 13183, 'hitandrun': 9508, 'walker': 21788, 'palpabl': 14826, 'undoubtedli': 21050, 'mayflow': 12704, 'wondrous': 22246, 'bred': 2950, '350000': 388, 'terrier': 20069, 'canineintoler': 3421, 'crest': 4862, 'salem': 17364, 'slew': 18503, 'unsavori': 21200, 'mentallychalleng': 12904, 'tl': 20360, 'supermarket': 19550, 'mini': 13147, 'jaguar': 10506, 'standstil': 19073, 'benji': 2318, 'scruffi': 17684, 'quayl': 16114, 'paulin': 15013, 'unhealthi': 21097, 'ketchum': 11052, 'starter': 19109, 'pokémon': 15511, 'bulbasaur': 3141, 'squirtl': 19021, 'charmand': 3810, 'electrictyp': 6457, 'pikachu': 15323, 'poké': 15510, 'jonesstyl': 10747, 'satanworship': 17485, 'armour': 1528, 'outfit': 14646, 'sexologist': 17990, 'dartmouth': 5205, 'workhous': 22283, 'fagin': 7147, 'honeychurch': 9613, 'chaperon': 3782, 'bartlett': 2074, 'phobic': 15256, 'lucr': 12133, 'antimut': 1328, 'sentiment': 17894, 'stryker': 19369, 'wolverin': 22231, 'nemesesmagneto': 13866, 'mystiqueto': 13674, 'dolli': 5931, 'yonker': 22460, 'halfamillionair': 8957, 'vandergeld': 21405, 'ultraluxuri': 20910, 'highend': 9416, 'vip': 21625, 'daeho': 5095, 'yoonhe': 22463, 'youngki': 22485, 'yoido': 22454, 'partygo': 14949, '1841': 131, 'ishmael': 10428, 'pequod': 15123, 'whaler': 22024, 'ahab': 837, 'disciplinarian': 5752, 'exhort': 6979, 'mobi': 13272, 'satisfact': 17490, 'heejin': 9273, 'hyunshik': 9871, 'chair': 3747, 'morticia': 13462, 'hanson': 9058, 'claudio': 4097, 'downontheir': 6045, 'mariposa': 12526, 'flutterfield': 7653, 'shimmerval': 18136, 'catania': 3611, 'zee': 22553, 'gazel': 8190, 'drywal': 6178, 'toss': 20466, 'oleg': 14413, 'marceau': 12483, 'silo': 18305, 'unders': 21023, 'racehors': 16173, 'relic': 16621, 'pembrok': 15083, '2016': 285, 'kerstin': 11046, 'gier': 8356, 'sapphir': 17456, 'julieta': 10823, 'nostalg': 14165, 'klingon': 11172, 'brace': 2873, 'dealiest': 5277, 'debbi': 5297, 'gala': 8065, 'lecktor': 11590, 'bojack': 2688, 'henchman': 9334, 'decoy': 5343, 'acerola': 637, 'laranjinha': 11447, 'solid': 18700, 'favela': 7291, 'kovic': 11247, 'prohuman': 15890, 'bauer': 2135, 'juma': 10827, 'adriano': 730, 'wichita': 22089, 'snarki': 18608, 'sombr': 18718, 'thursday': 20258, 'apach': 1365, 'honour': 9620, 'cochis': 4219, 'subordin': 19421, 'singlemindedli': 18354, 'supplant': 19582, 'postchristma': 15627, 'trixi': 20672, 'triceratop': 20632, 'kean': 10987, 'trajectori': 20538, 'kryptonit': 11287, 'alik': 975, 'uniteand': 21124, 'helpto': 9325, 'thane': 20107, 'glami': 8441, 'mérida': 13684, 'fergu': 7366, 'elinor': 6488, 'archer': 1455, 'macguffin': 12220, 'surli': 19604, 'macintosh': 12229, 'dingwal': 5704, 'eglantin': 6405, 'traine': 20533, 'bambi': 1971, 'larch': 11449, 'unlicens': 21138, 'selfchosen': 17799, 'cider': 4010, 'sprinter': 18980, 'dishonor': 5785, 'bobsl': 2663, 'cheeselov': 3853, 'veggiegrow': 21456, 'springsteen': 18977, 'harddriv': 9084, 'monsterf': 13362, 'haywir': 9192, 'unplug': 21167, 'unwind': 21254, 'uninvit': 21118, 'gummi': 8858, 'kiddi': 11075, 'sheepstock': 18087, 'cull': 4986, 'orderli': 14556, 'bedraggl': 2212, 'faraday': 7217, 'vex': 21536, 'backseat': 1881, 'solidar': 18701, 'pockets': 15487, 'tilli': 20303, 'dumbo': 6224, 'diminut': 5694, 'timothi': 20325, 'pintsiz': 15355, 'pachyderm': 14769, 'surmount': 19606, 'gecko': 8195, 'homefre': 9581, 'harper': 9123, 'gnaw': 8488, 'manifest': 12426, 'steril': 19188, 'shave': 18073, 'contrast': 4584, 'spotless': 18964, 'georgiana': 8282, 'devonshir': 5612, 'revil': 16836, 'castor': 3597, 'pollux': 15540, 'conscious': 4517, 'honey': 9612, 'megalomaniac': 12846, 'steep': 19157, 'grass': 8665, 'ok': 14392, 'corral': 4678, 'portsmouth': 15609, '1787': 111, 'tahiti': 19804, 'breadfruit': 2933, 'grimley': 8744, 'brass': 2908, 'flugelhorn': 7645, 'tomá': 20410, 'julián': 10826, 'akeelah': 882, 'forthright': 7755, 'larabe': 11446, 'welch': 21957, 'aptitud': 1416, 'scripp': 17677, 'monro': 13357, 'clarinetplay': 4077, 'cryostasi': 4957, '200': 265, 'stormi': 19268, 'unmedit': 21150, 'zack': 22525, 'mayo': 12708, '13week': 58, 'drill': 6127, 'emil': 6565, 'cadet': 3302, 'mercilessli': 12920, 'selfinvolv': 17823, 'unwilling': 21251, 'krugerrand': 11284, 'luka': 12148, 'swordfight': 19721, 'dariu': 5179, 'cardiovascular': 3482, 'fatherless': 7271, 'unsettl': 21209, 'ouyang': 14683, 'feng': 7361, 'unrequit': 21193, 'courtney': 4767, 'yanke': 22413, 'gratif': 8668, 'compli': 4415, 'noonan': 14126, 'kathleen': 10966, 'spacetim': 18841, 'inconceivabletentacular': 10081, 'annett': 1272, 'ida': 9898, 'shopwindow': 18186, 'outfitt': 14647, 'lori': 12023, 'policewoman': 15525, 'taccon': 19784, 'ronald': 17101, 'mancini': 12396, 'bosquier': 2797, 'distil': 5837, 'farrel': 7240, 'michonnet': 13009, 'pollut': 15539, 'encas': 6612, 'dome': 5940, 'epa': 6728, 'ajatashatru': 874, 'oghash': 14374, 'rathod': 16341, 'fakir': 7166, 'rajasthan': 16251, 'ikea': 9934, 'reassembl': 16410, 'sparki': 18856, 'boltneck': 2702, 'supersoldi': 19564, 'birdi': 2489, 'kingsman': 11121, 'eggsi': 6403, 'statesman': 19123, 'posh': 15614, 'overt': 14733, 'viguier': 21586, 'steam': 19149, 'avril': 1797, 'fetishist': 7391, 'maggot': 12278, 'wriggl': 22339, 'emb': 6539, 'shakespearean': 18023, 'farc': 7220, 'groomtob': 8772, 'benedick': 2302, 'distast': 5835, 'hogan': 9544, 'reconnaiss': 16464, 'samantha': 17397, 'gwendolyn': 8898, 'gene': 8225, 'someday': 18720, 'seaquel': 17716, 'splash': 18939, 'eri': 6754, 'whirlpool': 22052, 'queue': 16125, 'atm': 1678, 'seismic': 17780, 'halfwash': 8975, 'paradox': 14873, 'munchausen': 13599, 'gersteina': 8306, 'hygien': 9844, 'waffenssi': 21757, 'purifi': 16049, 'zyklonb': 22629, 'mukad': 13567, 'missingnin': 13226, 'ouran': 14630, 'leylin': 11716, 'envelop': 6717, 'antarct': 1293, 'mcclaren': 12737, 'proxim': 15967, 'calledoff': 3352, 'sponsor': 18953, 'francesc': 7821, 'boix': 2687, 'mauthausengusen': 12685, 'nuremberg': 14233, 'dyne': 6286, 'quantum': 16101, 'jihad': 10667, 'inept': 10141, 'omar': 14433, 'waj': 21769, 'faisal': 7161, 'illuminati': 9956, 'malfunct': 12359, 'sakaar': 17349, 'strikingli': 19344, 'of': 14344, 'livin': 11890, 'escape': 6787, 'unforese': 21079, 'milian': 13090, 'dempsey': 5474, 'shantipriya': 18046, 'reborn': 16424, 'rico': 16894, 'infantri': 10154, 'noncommiss': 14097, 'arachnoid': 1430, 'tinseltown': 20338, 'sinde': 18342, 'alexandra': 949, 'riproar': 16953, 'subcultur': 19409, 'armenian': 1522, '14year': 71, 'misconduct': 13199, 'fari': 7225, 'silkwood': 18303, 'metallurgi': 12959, 'plutonium': 15478, 'contamin': 4560, 'blatant': 2561, 'flynt': 7660, 'indomit': 10130, 'girli': 8408, 'gemsteal': 8218, 'glam': 8440, 'robopet': 17014, 'havr': 9178, 'arletti': 1505, 'shoeshin': 18175, 'warmer': 21832, 'americanjewish': 1126, 'jewishborn': 10657, 'sooth': 18759, 'pau': 15007, 'gulagto': 8851, 'symptom': 19748, 'headach': 9202, 'congest': 4489, 'dri': 6123, 'noseble': 14162, 'dismiss': 5798, 'allergist': 1000, 'hatti': 9163, 'bellocq': 2286, 'soror': 18780, 'philologist': 15251, 'reuel': 16811, 'tolkien': 20392, '18921973': 149, 'allshard': 1019, 'dandridg': 5147, 'flint': 7607, 'cohil': 4261, '2nd': 369, 'pennel': 15102, 'beau': 2183, '1600': 92, 'orlando': 14573, 'battleground': 2125, 'senay': 17871, 'nigerian': 14000, 'okw': 14397, 'plumb': 15467, 'clog': 4152, 'gallon': 8085, 'squidlik': 19015, 'gangdu': 8113, 'hyunseo': 9870, 'jumanji': 10828, 'curmudgeonli': 5019, 'twinkl': 20831, 'librarian': 11737, 'wellb': 21964, 'nutriti': 14238, 'unlaw': 21135, 'zang': 22537, 'wukong': 22357, 'brandon': 2901, 'thirtysometh': 20183, 'fossey': 7772, 'manchest': 12393, 'clamor': 4063, 'hacienda': 8915, 'decre': 5344, 'hua': 9732, 'bigbudget': 2430, 'olson': 14422, 'neverdowel': 13928, 'fong': 7684, 'debtor': 5305, 'goos': 8574, 'phobia': 15255, 'cloy': 4172, 'lullabi': 12152, 'anterograd': 1295, 'baumbach': 2136, 'squid': 19014, 'isi': 10429, 'ossi': 14609, 'couldnt': 4724, 'heidelberg': 9283, 'mannheim': 12438, 'longdesir': 11965, 'horrigan': 9663, '1924': 177, 'intellect': 10275, 'decadelong': 5312, 'alqaeda': 1053, 'osama': 14592, 'bin': 2461, 'laden': 11363, 'hardparti': 9097, 'stool': 19256, 'companyand': 4394, 'barfli': 2033, 'giddi': 8354, 'ginsoak': 8391, 'skid': 18422, 'smear': 18565, 'vitriol': 21658, 'commonli': 4386, 'sidoniegabriel': 18277, 'colett': 4283, 'splendor': 18940, 'ghostwrit': 8335, 'semiautobiograph': 17856, 'brazen': 2924, 'claudin': 4096, 'widespread': 22097, 'underpaid': 21019, 'unansw': 20941, 'missiv': 13231, 'referenc': 16526, '40someth': 410, 'certainti': 3728, 'nerval': 13889, 'scoundrel': 17653, 'deathb': 5284, 'dux': 6270, 'kumit': 11304, 'janic': 10535, 'crass': 4823, 'drugtraffick': 6167, 'congressman': 4494, 'surreptiti': 19615, 'videograph': 21567, 'overambiti': 14686, 'benno': 2325, 'hypatia': 9848, 'alexandria': 950, 'davu': 5232, 'pound': 15663, 'onetwo': 14485, 'quid': 16134, 'druggi': 6161, 'rockstar': 17040, 'discard': 5748, 'tophat': 20428, 'schoolchildren': 17608, 'newlyliv': 13955, 'frosti': 7952, 'melt': 12880, 'colder': 4277, 'nala': 13712, 'kiara': 11066, 'kovu': 11248, 'lioness': 11851, 'zira': 22593, 'björn': 2515, 'mcenro': 12749, 'wimbledon': 22146, '9yearsold': 531, 'maddi': 12247, 'meth': 12967, 'fivestak': 7534, 'maviss': 12688, '118th': 35, 'cater': 3621, 'heartpound': 9237, 'aerial': 762, 'photographi': 15268, 'superb': 19531, 'flyer': 7656, 'mcgilli': 12755, 'sizzl': 18408, 'abdul': 553, 'karim': 10938, 'gigolo': 8363, 'exstripp': 7064, 'roslyn': 17142, 'taber': 19774, 'cowboyturnedgambl': 4791, 'langland': 11427, 'racanelli': 16169, 'whim': 22048, 'halffinish': 8964, 'exrodeo': 7056, 'perc': 15126, 'ant': 1291, 'flik': 7603, 'grasshopp': 8666, 'evilmind': 6903, 'hopper': 9640, 'mossi': 13474, 'lucignano': 12123, 'straightforward': 19287, 'xxxx': 22399, 'diehard': 5661, 'restaurateur': 16771, 'syrian': 19758, 'radiat': 16191, 'grossest': 8777, 'tân': 20868, 'throe': 20236, 'infertil': 10161, 'insular': 10267, 'reproduct': 16721, 'lumina': 12158, 'hairstyl': 8946, 'adorn': 722, 'stylist': 19398, 'dubrovna': 6191, 'consumm': 4554, 'pursuant': 16059, 'pocahonta': 15485, '17th': 113, 'vault': 21445, 'probe': 15851, 'hyperrepress': 9857, 'schlubbi': 17595, 'jona': 10739, 'chernick': 3872, 'disorgan': 5805, 'hampshir': 9010, 'rapper': 16316, 'agreement': 830, 'strictli': 19338, 'snowstorm': 18642, 'tatter': 19918, 'exsafecrack': 7057, 'navin': 13797, 'slaphappi': 18463, 'jerk': 10625, 'mid1950': 13024, 'yate': 22422, 'shortcut': 18193, 'russo': 17253, 'conjur': 4496, 'rope': 17119, 'atop': 1682, 'pisa': 15368, 'veterinari': 21531, 'jankowski': 10537, 'wrench': 22332, 'transfix': 20546, 'marlena': 12547, 'rous': 17173, 'suitabl': 19473, 'wyss': 22374, 'mcguir': 12760, 'yagami': 22402, 'kira': 11137, 'misa': 13190, 'shinigami': 18141, 'rem': 16633, 'teru': 20080, 'mikami': 13071, 'kiyomi': 11157, 'takada': 19818, 'ryuk': 17280, 'blank': 2554, 'tenyear': 20046, 'gross': 8776, 'temperatur': 20011, 'xixo': 22388, 'fastmov': 7256, 'poacher': 15484, 'destitut': 5556, 'orthodox': 14588, 'drowsi': 6153, 'oversea': 14728, 'storywhich': 19275, 'fascism': 7245, 'andnot': 1210, 'coincidentallyfal': 4267, 'touchi': 20479, 'wilberforc': 22111, 'beer': 2219, 'atlanta': 1675, 'bridetob': 2987, 'nottoodist': 14189, 'nouri': 14192, 'gallagh': 8076, 'maclachlan': 12233, 'scifi': 17628, 'neptun': 13878, 'krab': 11251, 'rosco': 17129, 'qualifi': 16092, 'thatch': 20115, '1000foot': 11, 'ulyss': 20922, 'atlanti': 1677, 'retire': 16797, 'marigold': 12515, 'organist': 14565, 'phibe': 15235, 'undisclos': 21044, 'liaison': 11723, 'thorni': 20194, 'timbuktu': 20307, 'jihadist': 10669, 'milit': 13092, 'outset': 14670, 'selfabsorpt': 17792, 'irrevers': 10413, '9year': 529, 'esther': 6816, 'pacifist': 14772, 'mugger': 13563, 'lao': 11438, 'butwhil': 3248, 'comahi': 4338, 'freethink': 7877, 'detambl': 5567, 'involuntarili': 10361, 'zip': 22592, 'abshir': 590, 'copturnedpolitician': 4637, 'vinc': 21605, 'papal': 14857, 'tryout': 20722, 'consensu': 4520, 'serg': 17923, 'gainsbourg': 8063, '62': 458, 'crouch': 4925, 'airstrip': 867, 'cameroon': 3380, 'fangless': 7204, 'poach': 15483, 'melilla': 12868, 'subsaharan': 19424, 'marsh': 12570, 'reverend': 16830, 'tyrolean': 20866, 'lugashi': 12142, '1938': 191, 'inworld': 10366, '2036': 301, 'leto': 11697, 'niander': 13976, 'nexu': 13970, 'repeal': 16700, 'ramif': 16267, 'mama': 12383, 'spaceredneck': 18838, 'derbi': 5519, 'gaug': 8172, 'stranglehold': 19298, 'ringsinspir': 16940, 'fantasyland': 7212, 'candidli': 3414, 'panahi': 14835, 'dashboard': 5210, 'blith': 2588, 'babcock': 1850, 'bégaudeau': 3268, 'mandarin': 12398, 'retribut': 16804, 'mavi': 12687, 'ericka': 6757, 'tailback': 19808, 'instil': 10257, 'selfrespect': 17837, 'dil': 5681, 'atwel': 1708, 'midget': 13041, 'reggi': 16550, 'kray': 11259, 'ronni': 17107, 'nipper': 14051, 'tabloid': 19778, 'condo': 4459, 'rafe': 16209, 'mccawley': 12734, 'friendsturnedfo': 7926, 'dec': 5310, 'saxophonist': 17531, 'privateey': 15841, 'alphavil': 1049, 'braun': 2914, 'selfexpress': 17814, 'fetish': 7390, 'unskil': 21211, 'luftwaff': 12140, 'horst': 9672, 'schopi': 17617, 'heinkel': 9291, 'grotli': 8780, 'blackburn': 2526, 'skua': 18437, 'l2940': 11341, 'huddl': 9741, 'desecr': 5531, 'craddock': 4808, 'blakean': 2544, 'seenbetterday': 17767, 'legendthey': 11619, 'hardliv': 9094, 'crooner': 4904, 'prick': 15802, 'spindl': 18925, 'wheel': 22031, 'princesss': 15823, 'batter': 2119, 'hobb': 9532, 'armyravag': 1534, 'demoralisedi': 5472, 'hastili': 9153, 'pusillanim': 16067, 'stranski': 19302, 'steiner': 19163, 'quiver': 16151, 'coward': 4787, 'defiantli': 5384, 'lakesid': 11383, '40yearold': 412, 'curious': 5016, 'synchronis': 19751, 'angelina': 1235, 'minorleagu': 13165, 'hardcharg': 9080, 'ashor': 1599, 'feast': 7311, 'ping': 15345, 'cromwel': 4896, 'halloweentown': 8990, 'kalabar': 10898, 'denizen': 5483, 'monts': 13389, 'agoraphobia': 827, 'stairwel': 19044, 'shrew': 18228, 'farmyard': 7232, 'orwel': 14590, 'critiqu': 4888, 'stalinist': 19053, 'vilifi': 21593, 'jexian': 10659, 'noni': 14109, 'kaz': 10983, 'nicol': 13990, 'diverg': 5861, 'obrien': 14282, 'piqu': 15365, 'cheryl': 3875, 'levant': 11702, 'tuscan': 20787, 'serendipit': 17919, 'louann': 12040, 'rod': 17044, 'tidwel': 20281, 'egomaniac': 6408, 'cenobit': 3700, 'kindl': 11110, 'klein': 11167, 'invulner': 10364, 'perlman': 15153, 'rodrigo': 17054, 'murderandmayhemlov': 13616, 'beij': 2253, 'battleweari': 2130, 'weddingplan': 21935, 'fête': 8035, 'hyper': 9850, 'gallic': 8083, 'moros': 13445, 'micromanag': 13018, 'joisett': 10730, 'coolli': 4615, 'serenad': 17918, 'variant': 21427, 'forcibl': 7709, 'heyerdahl': 9394, 'balsa': 1965, 'raft': 16211, 'precolumbian': 15709, 'kenton': 11029, 'amiabl': 1130, 'pratfal': 15692, 'lightheart': 11788, 'roxann': 17186, 'kink': 11124, 'induct': 10135, 'inman': 10205, 'intact': 10272, 'auraguid': 1735, 'lucario': 12113, 'oldoran': 14410, 'kanto': 10921, 'arlon': 1509, 'hellgar': 9311, 'aura': 1733, 'rota': 17152, 'rin': 16932, 'homesick': 9592, 'girlish': 8409, 'commonplac': 4387, 'technophob': 19967, '1933': 185, 'manderlay': 12402, 'cajun': 3323, 'ammunit': 1148, 'grug': 8803, 'ugga': 20885, 'eep': 6388, 'thunk': 20255, 'bourbel': 2827, 'guyhubert': 8893, 'bourdel': 2828, 'superrésist': 19558, 'megamind': 12847, 'metro': 12973, 'dispens': 5812, 'mainland': 12310, 'protocol': 15945, 'tibetan': 20270, 'kundun': 11307, '1959': 212, 'dharamsala': 5623, 'grid': 8727, 'daycar': 5239, 'ayn': 1828, 'rand': 16287, 'tot': 20467, 'glueguzzl': 8484, 'caterpillar': 3623, 'antivillain': 1336, 'racer': 16174, 'bigrig': 2442, 'iconoclast': 9896, 'paedophil': 14785, 'ronna': 17106, 'summerlov': 19495, 'recipi': 16446, 'newlyreleas': 13957, 'sculptor': 17692, 'wax': 21888, 'excav': 6930, 'mound': 13512, 'reson': 16759, 'wyndham': 22369, 'orm': 14577, 'halfatlantean': 8959, 'mu': 13546, 'martian': 12579, 'bittersweet': 2513, 'puberti': 16001, 'teeni': 19979, 'chrissi': 3972, 'roberta': 17005, 'dieter': 5663, 'katchadorian': 10959, 'spacecraft': 18833, 'freighter': 7884, 'burnsid': 3195, 'argu': 1480, 'longabs': 11959, 'genovia': 8255, 'devoutli': 5616, 'johnston': 10725, 'katja': 10969, 'mandibl': 12404, 'anthil': 1297, 'butor': 3239, 'shamoto': 18032, 'copeland': 4625, 'hamptonsbut': 9012, 'chanel': 3768, 'seamstress': 17712, 'nicknam': 13988, 'coco': 4228, 'nightli': 14005, 'balsan': 1966, 'entre': 6709, '1536': 79, 'macleod': 12235, 'payton': 15033, 'warner': 21837, 'toprank': 20435, 'sixwheeldr': 18403, 'newcar': 13937, 'buyer': 3251, 'fraudul': 7849, 'mariachi': 12506, 'headfirst': 9203, 'bucho': 3105, 'bulletriddl': 3148, 'desperado': 5545, 'jérémie': 10868, 'tourett': 20489, 'recentlydeceas': 16435, 'cochabamba': 4217, 'bolivia': 2695, 'distastr': 5836, 'messer': 12948, 'calendar': 3338, 'wellesley': 21972, 'unconquer': 20984, 'rigor': 16924, 'gluttoni': 8486, 'heresi': 9358, 'treacheri': 20589, 'celesti': 3685, 'exminor': 6999, 'leaguer': 11568, 'arl': 1502, 'masterwork': 12629, 'adela': 693, 'heaslop': 9241, 'aziz': 1833, 'ahm': 840, 'ipkiss': 10374, 'nors': 14144, 'exud': 7095, 'carlyl': 3516, 'dorian': 5998, 'tyrel': 20865, 'keat': 10989, 'coordin': 4619, 'kamdesh': 10903, 'bloodiest': 2610, 'bravo': 2919, '361': 392, 'cav': 3649, '19year': 258, 'pleasantli': 15451, 'plump': 15470, 'traci': 20514, 'turnblad': 20781, 'corni': 4667, 'amber': 1105, 'tussl': 20790, 'prosegreg': 15930, 'calam': 3329, 'moobi': 13391, 'disneymcdonaldsstyl': 5800, 'fastfood': 7254, 'bannist': 2001, 'delv': 5446, 'americanh': 1125, '1892': 148, 'cheyenn': 3889, 'mccain': 12726, 'strategist': 19308, 'offduti': 14350, 'déjà': 6294, 'vu': 21733, 'conting': 4574, 'smartmouth': 18560, 'gellert': 8213, 'grindelwald': 8751, 'causeelev': 3644, 'albu': 917, 'truest': 20706, 'allspark': 1021, 'megatron': 12850, 'mclaughlin': 12768, 'mountainsid': 13516, 'foodstuff': 7686, 'bsaa': 3098, 'redfield': 16491, 'biotechnolog': 2481, 'shortord': 18197, 'clairvoy': 4060, 'misinterpret': 13214, 'backson': 1882, 'rarelyseen': 16324, 'nixona': 14058, 'withinspan': 22202, 'boyhood': 2864, 'pinkman': 15349, 'smoothtalk': 18586, 'sting': 19225, 'fab': 7112, 'sudan': 19456, 'ethiopian': 6830, 'israel': 10440, 'bélier': 3269, 'kaiser': 10890, 'wilhelm': 22127, 'camel': 3374, 'proteu': 15944, 'childish': 3914, 'camorra': 3387, 'caserta': 3568, 'saviano': 17516, 'obey': 14270, 'derri': 5523, 'phelp': 15229, 'climatebut': 4137, 'underestim': 21008, 'pugsley': 16015, 'pubert': 16000, 'gomez': 8545, 'jellinski': 10604, 'brenda': 2958, 'ingelheim': 10180, 'vatican': 21439, 'mistleto': 13240, 'transmit': 20555, 'montgomeri': 13378, 'lean': 11571, 'drumlin': 6171, 'flounder': 7635, 'cale': 3335, 'leash': 11578, 'tuner': 20763, 'pretenti': 15779, 'valdez': 21366, 'bastian': 2102, 'mewtwo': 12980, 'mew': 12979, 'rarest': 16325, 'satoshi': 17493, 'superclon': 19535, 'emmett': 6579, 'freespend': 7875, 'arguabl': 1481, 'winsom': 22169, 'martinson': 12584, 'smack': 18545, 'cybergenet': 5053, 'anarchist': 1185, 'brixton': 3028, 'seligman': 17843, 'faint': 7151, 'nymphomaniac': 14247, 'fibonacci': 7403, 'ec': 6345, 'romero': 17093, 'ashtray': 1603, 'reefer': 16509, 'loc': 11911, 'marlon': 12551, 'uzi': 21347, 'thermonuclear': 20148, 'warhead': 21827, 'gage': 8056, 'ultraelit': 20908, 'maryland': 12597, 'forese': 7720, 'sovietfund': 18820, 'sneaker': 18613, '500page': 434, '44': 417, '75': 485, 'damato': 5125, 'elaps': 6441, 'bowiesqu': 2846, 'glamrock': 8444, 'stuart': 19371, 'largerthanlif': 11453, 'vaneggiano': 21409, 'presumptu': 15774, 'discipl': 5750, 'femm': 7356, 'acacircuit': 600, 'acamag': 603, 'finnick': 7472, 'mourner': 13520, 'stauffenberg': 19134, 'noblewoman': 14071, 'simper': 18327, 'humiliatesor': 9776, 'aboutfac': 576, 'outshon': 14672, 'barnard': 2045, 'medina': 12825, 'wilbur': 22112, 'relentlessli': 16616, 'globalwarm': 8468, 'snowpierc': 18640, 'perpetualmot': 15162, 'notion': 14180, 'multiaward': 13577, 'tsotsi': 20727, 'breathtak': 2948, 'elser': 6519, 'disparag': 5809, 'krillin': 11265, 'cooler': 4611, 'dulan': 6216, 'classobsess': 4090, 'liddel': 11741, 'sabbath': 17290, 'antisemit': 1331, 'bia': 2406, 'singlemind': 18353, '2048': 306, 'sapper': 17455, 'daybyday': 5238, 'starbuck': 19086, 'wozniak': 22320, 'sperm': 18905, '533': 446, 'donat': 5957, 'valéri': 21397, 'holstein': 9574, 'progeni': 15883, 'insemin': 10235, 'kolyma': 11220, 'gagarin': 8055, 'nowfam': 14207, 'slatteri': 18470, 'sandra': 17428, 'bonus': 2732, 'intersex': 10315, 'seymour': 17999, 'krelborn': 11261, 'mushnik': 13639, 'audrey': 1722, 'fulquard': 7990, 'berat': 2335, 'unidentifi': 21104, 'supper': 19581, 'gettysburg': 8319, 'potomac': 15656, 'mead': 12788, 'yanbian': 22409, 'chew': 3886, 'subplot': 19423, 'stewi': 19199, 'neardeath': 13818, 'lifeguard': 11765, 'stu': 19370, 'bluecollar': 2633, 'citytyp': 4047, 'vanessa': 21411, 'sexchang': 17981, 'pepperann210': 15119, 'unspoken': 21218, 'rey': 16855, 'mckenzi': 12764, 'wet': 22013, 'dreami': 6102, 'ak47': 876, 'streak': 19313, 'spectacl': 18879, 'pageantri': 14789, 'imhotep': 9975, 'archaeolog': 1447, 'mummi': 13597, 'lifegiv': 11764, 'afterschool': 795, 'graver': 8673, 'alejandro': 935, 'gillick': 8376, 'gentlemen': 8262, 'fine': 7459, 'packouz': 14776, 'efraim': 6399, 'diveroli': 5862, 'depred': 5508, 'shortag': 18189, 'trooper': 20680, 'starmak': 19102, 'machineri': 12225, 'sergey': 17926, 'deafanddumb': 5270, 'schmidt': 17597, 'dork': 6002, 'jenko': 10611, 'weston': 22010, 'uruguayan': 21314, 'and': 1200, 'friendsmarti': 7925, 'melman': 12875, 'giraff': 8402, 'hippohav': 9494, 'escapewith': 6789, 'penguinsto': 15097, 'lightn': 11791, 'mcqueen': 12782, '66': 464, 'piston': 15373, 'warlock': 21829, 'neophyt': 13873, 'ownership': 14754, 'downstair': 6051, 'catwoman': 3637, 'jani': 10534, 'kayley': 10981, 'ruber': 17204, 'gradi': 8627, '50ish': 438, 'yearsnot': 22431, 'programm': 15886, 'natalya': 13769, 'simonova': 18326, 'classwhich': 4092, 'schoolbut': 17607, 'tutelag': 20791, 'rodney': 17051, 'charnier': 3815, 'andromeda': 1220, 'perseu': 15169, 'medusa': 12831, 'kraken': 11253, 'packag': 14774, 'mid19th': 13027, 'nerdluck': 13881, 'hardcourt': 9082, 'offramp': 14362, 'moron': 13444, 'nba': 13807, 'barkley': 2040, 'ewe': 6912, 'monstar': 13359, 'sri': 19023, 'lanka': 11433, 'junki': 10844, 'bipolar': 2483, 'doofenshmirtz': 5973, 'tristat': 20664, 'platypu': 15429, 'perri': 15165, 'germangreek': 8297, 'zino': 22590, 'localsonli': 11913, 'exorcist': 7007, 'bolster': 2700, 'facad': 7124, 'tharok': 20112, 'validu': 21383, 'hutcherson': 9833, 'tinder': 20328, 'nil': 14024, 'playbook': 15432, 'telli': 20005, 'hiv': 9523, 'fowler': 7802, 'mancub': 12397, 'shere': 18113, 'snowcap': 18629, 'snowboard': 18627, 'eyesight': 7102, 'lobel': 11910, 'playerturnedscout': 15437, 'phantasmagor': 15220, 'raven': 16357, 'mortuari': 13466, 'zimbardo': 22581, 'anniversari': 1276, 'celtic': 3695, 'feb': 7316, 'declan': 5333, 'loft': 11934, 'fozzi': 7806, 'necklac': 13837, 'piggi': 15318, 'slavic': 18478, 'verifi': 21496, 'bioorgan': 2477, 'bow': 2839, 'atla': 1672, 'rippl': 16952, 'tykwer': 20853, 'wachowski': 21748, '1630': 95, 'impass': 9993, 'inaugur': 10050, 'saxophon': 17530, 'godfear': 8509, 'bluesman': 2635, 'phoni': 15264, 'abolish': 570, 'looper': 12006, 'mop': 13410, '1844': 133, 'engel': 6651, 'censorship': 3702, 'venom': 21475, 'glasgow': 8448, 'epidemiologist': 6732, 'spielberg': 18917, 'tintin': 20339, 'sunken': 19514, 'garag': 8124, 'enabl': 6606, 'dartagnan': 5202, 'atho': 1670, 'portho': 15598, 'arami': 1433, 'bonancieux': 2711, 'tyre': 20864, 'purs': 16057, 'abahachi': 540, 'shoshon': 18200, 'warpath': 21839, 'absurdist': 595, 'pitchblack': 15376, 'deadpan': 5265, 'midtourna': 13051, 'championassum': 3762, 'legionnair': 11621, 'oconnel': 14317, 'hamunaptra': 9014, 'lovealong': 12065, 'guarante': 8815, 'awoken': 1816, 'sander': 17421, 'doordi': 5979, 'beleagu': 2262, 'tormentor': 20446, 'tween': 20811, 'terroris': 20077, 'dmv': 5885, 'dens': 5488, 'mist': 13234, 'drayton': 6093, 'blindsid': 2583, 'blazingfast': 2565, 'technician': 19960, 'hornet': 9655, '95': 523, 'legion': 11620, 'peyton': 15214, 'flander': 7560, 'bartel': 2070, 'chill': 3923, 'chemistri': 3861, 'roughneck': 17167, 'threator': 20213, 'bombshel': 2707, 'aung': 1731, 'suu': 19644, 'kyi': 11328, 'ari': 1483, '2025': 293, 'defenseless': 5380, 'vicissitud': 21554, 'willowdean': 22140, 'dumplin': 6230, 'dickson': 5651, 'exbeauti': 6926, 'overgrown': 14705, 'gothic': 8599, 'corpsman': 4676, 'flag': 7546, 'suribachi': 19603, 'rosenth': 17136, 'februari': 7317, 'pvt': 16076, 'gagnon': 8058, 'powerbrok': 15671, 'wiley': 22125, 'exemplar': 6955, 'compendium': 4401, 'composur': 4420, 'looni': 12004, 'autism': 1755, 'scarlit': 17568, 'daryl': 5208, 'hayley': 9188, 'meetup': 12840, 'fournier': 7793, 'greenland': 8698, '1905': 163, 'behav': 2243, 'blacksmith': 2536, 'balian': 1951, 'sprint': 18979, 'bourgeoisi': 2830, 'marieang': 12511, 'unattain': 20948, 'mothership': 13490, 'saucershap': 17498, 'counterattack': 4733, '1843': 132, 'uppet': 21282, 'pando': 14842, 'camouflag': 3388, 'sadism': 17316, 'indiffer': 10118, 'tightknit': 20295, 'zak': 22528, 'onceinalifetim': 14453, 'glitter': 8463, 'josé': 10771, 'ribeiro': 16875, 'haussmann': 9169, 'twentyf': 20819, 'woodsboro': 22265, 'zarina': 22542, 'dustkeep': 6266, 'dust': 6263, 'swordtosword': 19728, 'truecrim': 20702, 'belaru': 2259, 'roughli': 17166, 'employeremploye': 6594, 'dual': 6182, 'pott': 15659, 'rhodey': 16868, 'rhode': 16867, 'snub': 18645, 'ghosttown': 8333, 'reek': 16510, 'woonan': 22274, 'onethird': 14482, 'tobio': 20368, 'riddick': 16898, 'utter': 21341, 'dariuss': 5180, 'sonia': 18744, 'protecte': 15940, 'notch': 14172, 'disintegr': 5789, '1851': 136, 'hermann': 9363, 'chemist': 3860, 'commodor': 4383, 'sergio': 17927, 'benvenuti': 2330, 'nadia': 13696, 'interlink': 10296, 'loretta': 12022, 'doltish': 5937, 'maría': 12599, 'susana': 19625, 'medellin': 12814, 'adul': 736, 'horsemen': 9670, 'vidal': 21562, 'momon': 13322, 'unfail': 21066, 'suttel': 19641, 'ganf': 8109, 'lyonnai': 12197, 'janou': 10539, 'clearhead': 4113, 'stayton': 19139, 'proffitt': 15875, 'yachtand': 22401, 'checco': 3840, 'cpt': 4801, 'artemi': 1562, 'feroc': 7374, 'telemarket': 19994, 'snoopi': 18620, 'illyria': 9962, 'disinterest': 5790, 'alltim': 1025, 'secondborn': 17732, 'schaudel': 17581, 'leftov': 11609, 'deskbound': 5540, 'illicit': 9948, 'saigon': 17338, 'deftli': 5391, 'besot': 2369, 'unpolish': 21168, 'ultrapragmat': 20913, 'jeanjacqu': 10582, 'castella': 3592, 'racin': 16181, 'berenic': 2338, 'familiarlook': 7188, 'devaux': 5590, 'azumi': 1838, '1862': 138, 'amelia': 1117, 'meteorologist': 12965, 'glaisher': 8439, 'ascent': 1587, 'seyolo': 18000, 'zantoko': 22539, 'prejud': 15728, 'nanotechnolog': 13728, 'biotech': 2480, 'machinebloodshot': 12224, 'slick': 18507, 'laser': 11467, 'caller': 3353, 'taho': 19805, 'staf': 19035, 'nyu': 14250, 'lauria': 11522, 'showboat': 18214, 'fallingout': 7173, 'reevalu': 16523, 'scath': 17569, 'mankiewicz': 12431, 'roselynn': 17133, 'hushpuppi': 9823, 'wink': 22163, 'bathtub': 2112, 'universefor': 21127, 'whacktemperatur': 22022, 'auroch': 1739, 'hesher': 9381, 'renata': 16663, 'flyn': 7658, 'indecis': 10099, 'reservoir': 16746, 'revengefuel': 16824, 'gaulish': 8174, 'absorb': 593, 'kristyn': 11274, 'hailey': 8936, 'enmesh': 6669, 'doubled': 6018, 'averil': 1786, 'wyo': 22372, 'ella': 6503, 'winnertakesal': 22166, 'accent': 607, 'unfairli': 21068, 'campmat': 3397, 'niflheim': 13997, 'regi': 16553, 'kingsglaiv': 11118, 'nocti': 14076, 'lunafreya': 12162, 'tenebra': 20030, 'conced': 4438, 'loren': 12019, 'hears': 9227, 'richer': 16886, 'shaddock': 18007, 'soldierforhir': 18694, 'codi': 4242, 'cityscap': 4046, 'mulder': 13570, 'sculli': 17690, 'unforgiv': 21082, 'everlast': 6880, 'warmth': 21835, 'flavor': 7576, 'utilis': 21337, 'pendleton': 15091, 'miniatur': 13148, 'inject': 10197, 'putter': 16073, 'maxwel': 12697, 'reenlarg': 16517, 'youngblood': 22480, 'ramp': 16271, 'rhino': 16864, 'mamba': 12384, 'myle': 13667, 'displeas': 5816, 'deadlin': 5263, 'quarterback': 16106, 'stringer': 19346, 'coownerpresid': 4621, 'clubber': 4175, 'fe': 7304, 'jordán': 10758, 'jeli': 10602, 'reátegui': 16860, 'rustbelt': 17256, 'strangler': 19299, 'bookkeep': 2747, 'liabil': 11722, 'reentri': 16519, 'bramasol': 2894, 'carlin': 3510, 'timeshift': 20316, 'nunneri': 14229, 'choir': 3953, 'tvand': 20803, 'identif': 9904, 'helmet': 9319, 'vespa': 21520, 'spacebumforhir': 18832, 'yogurt': 22452, 'schwartz': 17621, 'austin': 1746, 'shanna': 18042, 'arlen': 1503, 'covertli': 4780, 'leer': 11602, 'rev': 16816, 'deborah': 5301, 'lipstadt': 11856, 'denier': 5480, 'downsiz': 6049, 'bingham': 2464, 'hick': 9399, 'handymen': 9038, 'mckee': 12763, 'eke': 6437, 'admonit': 714, 'seismolog': 17781, '30footlong': 374, 'carnivor': 3527, 'procliv': 15863, 'lowli': 12095, 'stomp': 19246, 'avow': 1796, 'wellhon': 21976, 'disprov': 5822, 'leopardi': 11669, 'trickeri': 20637, 'lubric': 12110, 'colvin': 4336, 'frontlin': 7946, 'voiceless': 21689, 'oahu': 14255, 'kauai': 10973, 'gunneri': 8868, 'recon': 16461, 'honcho': 9604, 'driller': 6128, 'stamper': 19064, 'cocksur': 4226, 'constraint': 4543, 'guinever': 8847, 'pettigrew': 15212, 'delysia': 5447, 'lafoss': 11370, 'drugaddict': 6156, 'safedeposit': 17324, 'againand': 797, 'bulldoz': 3146, 'streetpeopl': 19322, 'armybas': 1533, 'jian': 10663, 'convolut': 4602, 'letti': 11699, 'marchal': 12490, 'yale': 22405, 'longhidden': 11979, 'eliot': 6490, 'loudermilk': 12043, 'jacquelin': 10495, 'agricultur': 831, 'fivestar': 7535, 'spinoff': 18932, 'duff': 6207, 'aweinspir': 1810, 'belowtheradar': 2292, 'gossip': 8592, 'grapevin': 8660, 'idiosyncrat': 9909, 'ratner': 16346, 'barrett': 2059, 'spicoli': 18911, 'facesoff': 7132, 'handa': 9021, '1596': 84, 'bassanio': 2096, 'portia': 15599, 'shylock': 18249, 'moneylend': 13333, '66yearold': 465, 'postpon': 15636, '1919': 171, 'ree': 16506, 'argentin': 1477, 'castro': 3598, 'usfriendli': 21321, 'fulgencio': 7979, 'batista': 2114, 'exista': 6986, 'smallfoot': 18550, 'uproar': 21287, 'détat': 6296, 'deepwat': 5367, 'hint': 9486, 'zune': 22624, 'curfew': 5012, 'conservationist': 4524, 'jacquesyv': 10497, 'cousteau': 4773, 'inargu': 10046, 'smurf': 18594, 'vestali': 21524, 'feminin': 7353, 'vivien': 21669, 'roadi': 16987, 'metallica': 12958, 'elina': 6487, 'laverna': 11527, 'cylind': 5063, 'whovil': 22087, 'remnant': 16651, 'sorbet': 18770, 'tagoma': 19802, 'shih': 18130, 'tzu': 20867, 'countriesin': 4744, 'regen': 16547, 'soft': 18673, 'extra': 7077, 'sabich': 17293, 'agoraphob': 826, 'exponenti': 7042, 'colin': 4284, 'crisscross': 4884, 'flea': 7581, 'brigitt': 3002, 'mcallist': 12723, 'welllik': 21979, 'listless': 11866, 'roca': 17021, 'burnedout': 3191, 'lifesav': 11776, 'corvatch': 4693, 'mazelik': 12714, 'disappearonli': 5733, 'arrow': 1556, 'fairytopia': 7160, 'nalu': 13713, 'merman': 12932, 'spiritualist': 18937, 'lumley': 12159, 'heartstop': 9238, '24hour': 344, 'unflapp': 21076, 'appointe': 1406, 'assistantmistress': 1636, 'exchamp': 6938, 'chubbuck': 3991, 'baz': 2149, 'luhrmann': 12145, 'bard': 2026, 'ophéli': 14515, 'tunisian': 20764, 'siren': 18367, 'dionysiac': 5710, 'euphoria': 6838, 'mektoub': 12859, 'plata': 15420, 'salud': 17386, 'seasonsth': 17721, 'frontman': 7947, 'valli': 21389, 'falsetto': 7178, 'fuell': 7970, 'hao': 9061, 'jie': 10664, 'sneer': 18615, 'unrest': 21195, 'vallanzasca': 21386, 'bel': 2257, 'renè': 16690, 'gurum': 8879, 'pansi': 14850, 'muten': 13658, 'rōshi': 17285, 'cunningham': 5000, 'plymouth': 15479, 'leigh': 11630, 'denni': 5486, 'paolo': 14854, 'vinni': 21613, 'pazienza': 15034, 'coogan': 4606, 'envis': 6723, 'aggrav': 814, 'brydon': 3096, 'funfil': 8000, 'oozma': 14503, 'kappa': 10926, 'poni': 15550, 'hidalgo': 9403, 'titlehold': 20355, '10round': 24, 'stronger': 19357, 'arashikag': 1434, 'taught': 19922, 'benedetta': 2301, 'heartthrob': 9239, 'ducki': 6198, 'blane': 2553, 'mors': 13453, 'kodiak': 11210, 'fantôma': 7214, 'maquillag': 12472, 'nikki': 14021, 'adultsbut': 741, 'overlyconfid': 14717, 'boov': 2764, 'reorgan': 16693, 'oh': 14378, 'oldoldoldfashion': 14409, 'vlad': 21673, 'gettogeth': 8318, 'assaya': 1627, 'we': 21907, 'craven': 4828, 'alfonso': 957, 'cuaron': 4971, 'contribut': 4585, 'judgment': 10806, 'rattl': 16349, 'welson': 21988, 'marlo': 12550, 'tulli': 20750, 'recordproduc': 16472, 'stipul': 19232, '150000': 76, '30yearold': 380, 'prostituteturneddrug': 15935, 'swift': 19693, 'dredd': 6110, 'dangl': 5154, 'grom': 8768, 'analyt': 1181, 'aam': 534, 'warmheart': 21833, 'sofia': 18672, 'starsand': 19105, 'backup': 1885, 'thunder': 20251, 'showbiz': 18213, 'garland': 8140, 'fiveweek': 7536, 'soldout': 18696, 'weaken': 21909, 'undim': 21042, 'tybalt': 20850, 'greet': 8702, 'exserviceman': 7058, 'dole': 5926, 'gopnik': 8576, 'judith': 10809, 'sy': 19732, 'ableman': 566, 'enamor': 6608, 'chime': 3925, 'selen': 17787, 'werewolfhunt': 21998, 'notif': 14179, 'pitterson': 15382, 'muay': 13547, 'vampirehunt': 21399, 'saya': 17533, 'yokota': 22458, 'katana': 10957, 'makiho': 12333, 'amano': 1087, 'giton': 8416, 'encolpio': 6619, 'conan': 4435, 'thulsa': 20247, 'subotai': 19422, 'osric': 14607, 'slovenli': 18532, 'tia': 20266, 'chanic': 3771, 'interpolissu': 10308, 'elena': 6471, 'bernstein': 2359, 'pitcher': 15377, 'fastbal': 7250, 'teamwork': 19950, 'majin': 12320, 'buu': 3249, 'beeru': 2222, 'whi': 22045, 'quadrant': 16085, 'grappler': 8663, 'spungen': 18988, 'meyer': 12985, 'paperboy': 14861, 'cardiff': 3480, 'viola': 21616, 'superintend': 19547, 'suv': 19645, 'southwestern': 18816, 'hitch': 9509, 'johnathan': 10721, 'mostow': 13477, 'selfconfid': 17800, 'izzi': 10474, 'kodachrom': 11209, 'zooey': 22608, 'analogu': 1177, 'heffalump': 9278, 'deduct': 5349, 'bypass': 3262, 'streetstyl': 19325, 'cartograph': 3556, 'smithsonian': 18574, 'keong': 11033, 'burnett': 3192, 'henpeck': 9340, 'consign': 4528, 'patrizia': 14995, 'reggiani': 16551, 'gucci': 8820, 'unbridl': 20963, 'ultimatelymurd': 20903, 'selfmed': 17829, 'pauli': 15012, 'parrot': 14929, 'correctli': 4681, 'troubadour': 20684, 'manfr': 12411, 'croupier': 4926, 'hazi': 9198, 'fifteenyearold': 7425, 'adjourn': 701, 'wolfman': 22226, 'gillman': 8378, 'amulet': 1165, '1114pm': 30, 'slake': 18459, 'deflow': 5388, 'bb8': 2155, 'crosstimelin': 4922, 'chappi': 3787, 'surroundingssom': 19618, 'badand': 1899, '1951': 204, 'boyd': 2860, 'wagon': 21761, 'haley': 8954, 'cylon': 5064, 'cavil': 3660, 'embed': 6547, 'caprica': 3458, 'copi': 4627, 'odin': 14336, 'recklessli': 16450, 'ak': 875, 'squadron': 19003, 'nigeria': 13999, 'donaghi': 5954, 'tantal': 19881, 'flax': 7580, 'holden': 9556, 'banki': 1993, 'alyssa': 1078, 'heflin': 9280, 'madremanag': 12265, 'giovanissima': 8398, 'modella': 13281, 'americana': 1122, 'cerca': 3721, 'precettor': 15700, 'figlia': 7434, 'deve': 5592, 'lavorar': 11530, 'tre': 20587, 'mesi': 12942, 'vien': 21573, 'suggerito': 19467, 'spinetti': 18931, 'sacerdot': 17299, 'insegna': 10234, 'istituto': 10443, 'femminil': 7357, 'telefonata': 19990, 'lincarico': 11827, 'intercetta': 10286, 'rolando': 17066, 'bidello': 2422, 'laureato': 11513, 'fortuna': 7762, 'si': 18250, 'presenta': 15758, 'alla': 983, 'vestito': 21526, 'assunto': 1641, 'però': 15190, 'tarda': 19897, 'rendersi': 16667, 'conto': 4577, 'limpacciato': 11823, 'vero': 21505, 'innamora': 10209, 'commedia': 4369, 'comicosentimental': 4357, 'irresistibil': 10409, 'citywid': 4048, 'sami': 17402, 'courneuv': 4757, 'jeanloui': 10583, 'joubert': 10774, 'suzann': 19647, 'starchi': 19087, 'classconsci': 4084, 'affluent': 773, 'steadi': 19142, 'fortuit': 7760, 'droughtstricken': 6150, 'decadesold': 5314, 'unsolv': 21215, 'wholeheartedli': 22078, 'toughasnail': 20481, 'cassandra': 3583, 'gviru': 8894, 'mcduck': 12748, 'duckburg': 6197, 'colli': 4299, 'baba': 1847, 'quack': 16084, 'backstag': 1883, '1998': 254, 'imac': 9966, 'epicent': 6730, 'immacul': 9977, 'horrorthril': 9666, 'outing': 14651, 'basketcas': 2092, 'grunnick': 8806, 'altman': 1063, 'torch': 20439, 'substanc': 19427, 'homecar': 9579, 'rika': 16926, 'kayako': 10978, 'toshio': 20464, 'damm': 5131, 'alexio': 953, 'tong': 20412, 'irwin': 10417, 'fletch': 7593, 'stanwyk': 19083, 'sarcast': 17465, 'rango': 16296, 'lessthancourag': 11684, 'lizard': 11893, 'hilt': 9470, 'extraordinaryand': 7085, 'destructivetelepath': 5560, 'nab': 13691, 'possessor': 15619, 'scanner': 17552, 'septim': 17906, 'manga': 12413, 'kannasan': 10917, 'daiseik': 5109, 'desu': 5561, 'ammi': 1146, 'sync': 19749, 'humilit': 9777, 'ungrat': 21091, 'jenna': 10613, 'unhappili': 21094, 'cavilleri': 3661, 'attilio': 1702, 'tshirt': 20726, 'fuad': 7965, 'gulf': 8852, 'selfeffac': 17810, 'plush': 15474, 'frail': 7814, 'chronic': 3987, 'thirtysix': 20182, '6th': 471, 'thirtyon': 20181, 'dominion': 5948, 'suzi': 19649, 'ypsilanti': 22494, 'preston': 15772, 'tucker': 20740, 'unrealist': 21184, 'bridget': 2990, 'imperfect': 10001, 'karlsson': 10943, '100th': 14, 'bodeen': 2667, 'indierock': 10117, 'switcher': 19712, 'dresser': 6116, 'mannequin': 12436, 'eyecatch': 7100, 'lauri': 11521, 'strode': 19351, 'bloodbath': 2606, 'camryn': 3400, 'twitch': 20836, 'lowkey': 12093, 'deunan': 5586, 'briareo': 2977, 'squadmat': 19001, 'charmingli': 3813, 'storybook': 19272, 'wydel': 22368, 'oti': 14622, 'barrag': 2054, 'unharm': 21095, 'spauld': 18865, 'pictureperfect': 15299, 'shorter': 18194, 'prom': 15899, 'loomi': 12002, 'gloomier': 8474, 'niagara': 13975, 'ny': 14242, 'polli': 15537, 'cutler': 5041, 'overreact': 14723, 'hallenback': 8982, 'oscil': 14599, '1609': 93, 'rostegui': 17148, 'leticia': 11695, 'soren': 18777, 'aggi': 813, 'owlet': 14750, 'gahool': 8059, '10year': 26, 'deadwood': 5268, 'statehood': 19117, 'cod': 4234, 'utopian': 21339, 'bolkovac': 2697, 'bosnia': 2795, 'microscop': 13020, 'bloodstream': 2617, 'ciro': 4040, 'puccio': 16007, 'wellestablish': 21973, 'isidro': 10430, 'super8': 19527, 'derail': 5517, 'lamb': 11390, 'ensnar': 6685, 'swale': 19657, 'uproari': 21288, 'essrog': 6807, 'cleo': 4120, 'saginowski': 17335, 'entwin': 6716, 'oneself': 14480, 'mouserun': 13523, 'garp': 8143, 'manifesto': 12427, 'accio': 614, 'manrico': 12446, 'moodi': 13395, 'flimsi': 7604, 'similarlymind': 18318, 'noell': 14079, 'moonston': 13406, '1700': 107, 'potsmok': 15658, 'paca': 14766, 'drugingest': 6163, 'earach': 6305, 'croker': 4895, 'dropdead': 6145, 'resteal': 16772, 'pulsepound': 16024, 'pedaltothemet': 15058, 'careen': 3484, 'nearpenniless': 13827, 'errat': 6772, 'mcgregor': 12759, 'abi': 560, 'matchup': 12637, 'spasski': 18863, 'dulc': 6218, 'rail': 16232, 'andrey': 1217, 'sergei': 17925, 'puskepali': 16068, 'conceit': 4439, 'anatoli': 1188, 'beliy': 2275, 'apatosauru': 1369, 'arlo': 1508, 'coventri': 4776, 'suburbanit': 19438, 'tube': 20735, 'fixer': 7541, 'multibillion': 13578, 'witwicki': 22210, 'karenina': 10936, 'vronski': 21731, 'genghi': 8238, 'innat': 10210, 'kaplow': 10925, 'belisario': 2273, 'alexia': 952, 'brownston': 3074, 'breakin': 2939, 'focal': 7662, 'accumul': 629, 'hamer': 9003, 'gault': 8177, 'malibu': 12360, 'averi': 1785, 'varsiti': 21434, 'yazoo': 22424, 'handkerchief': 9025, 'mouchoir': 13509, 'lifelik': 11768, 'berserk': 2362, 'flarski': 7563, 'speechwrit': 18889, 'harp': 9121, 'marriedwithchildren': 12566, 'majorleagu': 12323, 'incent': 10063, 'fielduntil': 7412, 'confound': 4485, 'mph': 13542, 'tampa': 19859, 'rees': 16520, 'dolittl': 5928, 'directionless': 5719, 'dignan': 5675, 'sane': 17433, 'hairbrain': 8939, 'asyetunspecifi': 1661, 'hellboy': 9310, 'elven': 6526, 'relent': 16614, 'bergen': 2341, 'onearthur': 14464, 'unauthoris': 20952, 'mitch': 13246, 'mcdeer': 12745, 'ceil': 3680, 'kazakh': 10985, 'borat': 2772, 'sagdiyev': 17333, 'zigzag': 22580, 'purl': 16052, 'yarn': 22418, 'fastpac': 7257, 'malecent': 12353, 'startup': 19111, 'northeast': 14149, 'northampton': 14148, 'gilkyson': 8372, 'ranchland': 16284, 'serets': 17922, 'khama': 11061, 'bechuanaland': 2200, 'botswana': 2808, '1948': 201, 'flung': 7648, 'dull': 6219, 'spun': 18987, 'rollick': 17074, 'knowital': 11197, 'boor': 2756, 'stef': 19159, 'fairer': 7155, 'nealon': 13812, 'mueller': 13557, 'forgo': 7734, 'arlington': 1506, 'casket': 3578, 'thaw': 20119, 'alfalfa': 954, 'darla': 5193, 'hemanwomanh': 9330, 'parcel': 14900, 'drew': 6118, 'unaccept': 20934, 'motherinlawth': 13486, 'queenand': 16118, 'grouchi': 8781, 'residenti': 16751, 'exorcis': 7005, 'funlov': 8004, 'giuditta': 8418, 'gunshot': 8873, 'karu': 10948, 'woodhous': 22256, 'congeni': 4488, 'knightli': 11186, 'madelin': 12252, 'introduct': 10333, 'zod': 22596, 'kryptonian': 11286, 'wckd': 21904, 'scorch': 17641, 'haeunda': 8927, 'guiltridden': 8845, 'tsunami': 20732, 'successbut': 19450, 'shockmeist': 18170, 'triptych': 20662, 'ledg': 11595, 'gnome': 8489, 'militarist': 13095, 'disarray': 5737, 'slim': 18514, 'cam': 3366, 'essex': 6806, 'believea': 2272, 'thoughtless': 20202, 'carfac': 3499, 'default': 5371, 'damn': 5132, 'itchi': 10452, 'info': 10174, 'strongarm': 19355, 'indonesia': 10131, 'thereon': 20146, 'couph': 4752, 'cinematographi': 4024, 'authent': 1751, 'snowflak': 18634, 'munchkinlik': 13600, 'abhor': 559, 'trounc': 20689, 'obviou': 14294, 'leonowen': 11667, 'nat': 13765, 'antimiscegen': 1326, 'qing': 16083, '16441911': 96, 'xinyi': 22386, 'sharpest': 18066, 'dday': 5251, 'paratroop': 14898, 'emptynest': 6602, 'likemind': 11797, 'swedishnorwegian': 19679, 'rockslid': 17038, 'daywalk': 5246, 'halfvampir': 8973, 'halfmort': 8970, 'exclud': 6942, 'inferior': 10158, 'scrapbook': 17661, 'giveaway': 8426, '1893': 150, 'barehand': 2029, 'starvat': 19113, 'penelop': 15093, 'wilhern': 22129, 'sequest': 17910, 'untradit': 21239, '130': 54, 'exthug': 7073, 'defus': 5393, 'neutron': 13920, 'japanesereleas': 10545, 'tako': 19833, 'sensationalist': 17881, 'faro': 7234, 'relinquish': 16627, 'wherebi': 22040, 'trueli': 20703, 'nonetoofriendli': 14103, 'holdup': 9557, 'disarm': 5736, 'marchand': 12491, 'lefebvr': 11604, 'uber': 20872, 'timemachin': 20314, 'louisphilipp': 12053, 'fourchaum': 7788, 'leadrol': 11564, 'dictatori': 5653, 'tantrum': 19885, 'castagni': 3590, 'cacciaperotti': 3296, 'profond': 15879, 'bumpkin': 3161, 'slavish': 18479, 'boorish': 2757, 'painstakingli': 14796, 'mutt': 13661, 'savoir': 17520, 'sixteenth': 18392, 'dept': 5512, 'unambiti': 20938, 'apathet': 1368, 'eschew': 6790, 'esoter': 6796, 'expound': 7048, 'cabbi': 3281, 'madonna': 12262, 'pap': 14855, 'banner': 1999, 'pollock': 15538, 'fittingli': 7525, 'tugofwar': 20746, 'mcconaughey': 12739, 'firework': 7493, 'tweedi': 20809, 'truffl': 20708, 'forag': 7701, 'bureau': 3172, 'refineri': 16528, 'woodpeck': 22260, 'guillaum': 8841, 'tragicom': 20527, 'heterosexu': 9386, 'comingout': 4364, 'casanova': 3565, 'beginn': 2237, 'uhf': 20890, 'marrow': 12568, 'kg': 11058, 'rockandrol': 17028, 'eberhart': 6343, 'stepford': 19175, 'zoologist': 22611, 'neuman': 13913, 'inkhata': 10202, 'nuke': 14222, 'nola': 14086, 'juilliardtrain': 10814, 'mint': 13168, 'sauc': 17496, 'encyclopaediu': 6625, 'britannicuss': 3018, 'burgundi': 3181, 'veronica': 21508, 'corningston': 4668, 'minneapoli': 13160, 'trucul': 20700, 'apollonia': 1382, 'miraclesanta': 13175, 'allsometh': 1020, 'mazing': 12715, 'griff': 8733, 'zab': 22520, 'vichi': 21551, 'omaha': 14430, 'maik': 12303, 'tschick': 20725, 'happier': 9067, 'delud': 5442, 'breslin': 2965, 'analyz': 1182, 'bisio': 2503, 'brianza': 2975, 'finocchiaro': 7473, 'campania': 3392, 'equival': 6746, 'goriest': 8586, 'enlighten': 6667, 'gillian': 8375, 'angelov': 1239, 'hallet': 8983, 'noholdsbar': 14081, 'comingand': 4361, 'bandag': 1979, 'cosmet': 4701, 'saddam': 17311, 'hussein': 9826, 'sensori': 17886, 'hallucinogen': 8993, 'housesit': 9718, 'telescop': 19999, 'netherworld': 13907, 'answerswith': 1290, 'drumgool': 6170, 'hellhol': 9312, 'meddlesom': 12813, 'footprint': 7699, 'reacquaint': 16376, 'bombardi': 2704, 'gamer': 8103, 'lexcorp': 11714, 'laissezfair': 11381, 'triplicateform': 20658, 'waif': 21764, 'fievel': 7421, 'chantri': 3778, 'mid1980': 13026, 'denis': 5482, 'dahlberg': 5102, 'poliatova': 15520, 'distractingli': 5844, 'gero': 8303, '6year': 474, 'liberac': 11731, 'thorson': 20199, 'obscen': 14283, 'kinsey': 11129, 'relev': 16617, 'metalhead': 12957, 'sleazi': 18485, 'worldand': 22288, 'sérgio': 19767, 'vieira': 21572, 'mello': 12873, 'cartoon': 3557, 'olympiad': 14424, 'eichmann': 6413, 'speedway': 18895, 'harebrain': 9104, 'fin': 7449, 'athena': 1667, 'triton': 20665, 'phylli': 15273, 'grimm': 8745, 'flawless': 7578, 'ofa': 14345, 'hellbent': 9309, 'buckman': 3112, 'sufferenjoy': 19462, 'artwork': 1578, 'chinois': 3937, 'wiazemski': 22088, 'dagenham': 5098, 'wrightsvil': 22341, 'strabler': 19279, 'bolivian': 2696, 'airborn': 857, 'basket': 2090, 'barf': 2031, 'justreleas': 10861, 'poe': 15493, 'uglyvil': 20888, 'moxi': 13537, 'uglydol': 20887, 'azul': 1837, 'selfdiscoveri': 17808, 'davian': 5228, 'archetyp': 1457, 'lorna': 12025, 'riggss': 16915, 'bumblebe': 3158, 'junkyard': 10847, 'battlescar': 2127, 'vw': 21740, '15m': 85, 'hotter': 9696, 'context': 4570, 'velard': 21461, 'alfaro': 955, 'againsttheclock': 799, 'pennsylvaniabas': 15107, 'abberlin': 543, 'opiumhuf': 14519, 'doe': 5907, 'cryptozoolog': 4962, 'batteri': 2120, 'godsiz': 8513, 'mothra': 13491, 'rodan': 17045, 'threehead': 20216, 'ghidorah': 8327, 'superspeci': 19565, 'propaganda': 15913, 'kitchencumliv': 11153, 'prenzlauer': 15741, 'quangel': 16099, 'postcard': 15626, 'limousin': 11821, 'femin': 7352, 'reuben': 16810, 'tishkoff': 20348, 'laloosh': 11386, 'savoy': 17522, 'concentrationcamp': 4442, 'unrecogniz': 21186, 'francesco': 7823, 'booksel': 2749, 'drugdeal': 6159, 'verloc': 21498, 'thirteenth': 20177, 'rink': 16941, 'repo': 16712, '64': 460, 'chevi': 3885, 'mcp': 12777, 'tron': 20678, 'barent': 2030, 'k141': 10871, 'kursk': 11317, '118': 33, 'accur': 630, 'permit': 15157, 'disench': 5774, 'overhishead': 14710, 'repopul': 16713, 'eyez': 7104, 'tupac': 20767, 'shakur': 18025, 'prolif': 15897, 'manicdepress': 12424, 'stylish': 19396, 'leonov': 11666, 'stillorbit': 19219, 'waver': 21887, 'appart': 1391, 'nonetheless': 14102, 'duplo': 6247, 'patterson': 15003, 'remington': 16648, 'hubbi': 9735, 'manhattanit': 12417, 'curvier': 5031, 'exe': 6950, 'wallet': 21793, 'bamberski': 1970, 'kalinka': 10901, 'krombach': 11276, 'supergirl': 19542, 'brainiac': 2890, 'boast': 2656, 'breton': 2967, 'symbologist': 19743, 'langdon': 11425, 'conclav': 4450, 'muldano': 13569, 'guerin': 8824, 'bleed': 2571, 'traynor': 20586, 'prod': 15866, 'gilligan': 8377, 'toil': 20381, 'buffalo': 3126, 'godand': 8501, 'almighti': 1031, '11month': 36, 'jfk': 10661, 'lbj': 11556, 'blackop': 2534, 'balto': 1969, 'deject': 5404, 'dogsl': 5917, 'hatchl': 9159, 'macaw': 12214, 'blu': 2630, 'bibbl': 2412, 'henna': 9339, 'timor': 20323, 'ashraf': 1600, 'marwan': 12590, 'nasser': 13762, 'soninlaw': 18746, 'anwar': 1352, 'sadat': 17310, 'asset': 1632, 'nyt': 14249, 'barjoseph': 2038, 'fw': 8032, 'faustian': 7287, '1922': 175, 'nosferatu': 14164, 'blob': 2595, 'germ': 8294, 'campbel': 3393, '300000': 373, 'choi': 3951, 'kianna': 11065, 'fisher': 7512, 'blackjack': 2530, 'jong': 10748, 'robbin': 17003, 'penn': 15100, 'sarandon': 17462, 'clooney': 4155, 'glover': 8481, 'spacetravel': 18842, 'smartass': 18557, 'outliv': 14655, 'rv': 17268, '51': 443, 'earthl': 6320, 'brawni': 2923, 'amantido': 1089, 'torsillo': 20459, 'directapproach': 5718, 'trailblaz': 20530, 'heartwarm': 9240, 'tannenbaum': 19878, 'steamer': 19151, 'champagn': 3759, 'marilyn': 12517, 'skinner': 18430, 'partridg': 14946, 'lifen': 11772, 'dunde': 6235, 'selfpublish': 17834, 'tel': 19989, 'aviv': 1794, 'soil': 18683, 'spokesman': 18950, 'theoris': 20138, 'geirang': 8204, 'fjord': 7544, 'kasumi': 10955, 'takeshi': 19830, 'johto': 10726, 'musashi': 13632, 'kojiro': 11215, 'plateau': 15422, 'clone': 4154, 'sakaki': 17350, 'nyarth': 14243, 'antidot': 1315, 'ridg': 16904, 'advent': 744, 'wendel': 21991, 'crumb': 4946, 'dane': 5149, 'chicagobas': 3895, 'placement': 15396, 'polaropposit': 15517, 'kleptomaniac': 11169, 'narcolept': 13744, 'greatgreatgreatgreatgrandson': 8687, 'dresden': 6114, 'heavilydefend': 9253, 'invari': 10342, 'architectturnedreclus': 1461, 'kika': 11082, 'cosmetologist': 4702, 'makeup': 12332, 'stepson': 19184, 'voyeurist': 21727, 'awok': 1815, 'gaze': 8189, 'tabloidtv': 19780, 'caracortada': 3471, 'philea': 15241, 'fogg': 7670, 'checkin': 3845, 'mri': 13544, 'boxtrol': 2856, 'snatcher': 18611, 'revolutionist': 16845, 'yatsen': 22423, 'tongmenghui': 20413, 'commemor': 4370, 'centenari': 3705, 'iridesc': 10393, 'rafael': 16208, 'sevil': 17973, 'andalucia': 1203, 'amaia': 1082, 'josi': 10768, 'wealthiest': 21916, 'hoper': 9637, 'epochmak': 6737, 'amateurnight': 1097, 'jeffri': 10600, 'louieshi': 12049, 'robyn': 17019, 'pod': 15489, 'shout': 18208, 'heathcliff': 9244, 'earnshaw': 6315, 'wuther': 22361, 'cathi': 3630, 'linton': 11846, 'befit': 2227, 'statur': 19133, 'ultra': 20905, 'juniorhigh': 10842, 'drey': 6119, 'chevali': 3884, 'fronsac': 7942, 'gevaudan': 8321, 'procur': 15865, 'lap': 11439, 'manual': 12458, 'stimul': 19223, 'genitalia': 8243, 'vibrat': 21544, 'garrul': 8149, 'realitytv': 16392, 'quickwit': 16133, 'timefrom': 20310, 'trappist': 20570, 'tibhirin': 20271, 'jihadi': 10668, 'kale': 10899, 'ashley': 1598, 'brent': 2962, 'screw': 17672, 'daffi': 5096, 'noquestionsask': 14127, 'lai': 11374, 'basquiat': 2094, '10hour': 23, 'seig': 17777, 'dalida': 5118, 'youssef': 22488, 'chahin': 3743, 'sixièm': 18388, 'dogwolf': 5920, 'witzki': 22211, 'icecov': 9887, 'carddespit': 3479, 'aldea': 927, 'eliza': 6498, 'abscond': 584, 'contra': 4578, 'nicaragua': 13980, 'webb': 21929, 'katrina': 10972, 'powel': 15669, 'butter': 3241, 'keiko': 11001, 'izumi': 10473, 'martha': 12575, 'larkin': 11459, 'sexless': 17987, 'humanitarian': 9762, 'galician': 8072, 'narco': 13742, 'padín': 14783, 'kike': 11083, 'toño': 20509, 'supplier': 19585, 'sassi': 17481, 'corrina': 4685, 'sixecho': 18385, 'carefullycontrol': 3492, 'reportedli': 16715, 'uncontamin': 20986, 'twentytwo': 20824, 'jurass': 10852, 'nublar': 14215, 'function': 7993, 'hammond': 9008, 'vanillawed': 21414, 'rut': 17260, 'highlypaid': 9429, 'spici': 18910, 'pentup': 15113, 'nonstop': 14120, 'mountaintop': 13517, 'foxcatch': 7805, 'multimillionair': 13584, 'arisia': 1492, 'trailer': 20531, 'doublewid': 6019, 'lila': 11800, 'pakistani': 14806, 'stapl': 19084, 'cajol': 3322, 'irishitalian': 10396, 'eateri': 6337, 'spellbind': 18897, 'roni': 17104, 'deadand': 5256, 'pedigre': 15061, 'overcrowd': 14696, 'hagen': 8929, 'salondeprov': 17381, 'abram': 579, 'redhand': 16493, 'unheard': 21098, 'bergu': 2346, 'upscal': 21290, 'toronto': 20452, 'exotica': 7009, 'auditor': 1720, 'mc': 12721, 'jealous': 10573, 'onstag': 14499, 'petshop': 15210, 'sanction': 17417, '12hour': 46, 'deathdeal': 5285, 'ezra': 7109, 'lieberman': 11745, 'outmaneuv': 14657, 'nita': 14054, 'lambert': 11392, 'ratatouil': 16334, 'barrio': 2063, 'thata': 20114, 'premiership': 15736, 'focker': 7663, 'pam': 14828, 'humorless': 9781, 'byrn': 3263, 'hawklik': 9184, 'blitz': 2590, 'arterton': 1564, 'buoy': 3169, 'undertook': 21031, 'maritim': 12530, 'fantozzi': 7213, 'villaggio': 21596, 'debunk': 5307, '1408': 64, 'heavilyguard': 9255, 'macau': 12213, 'caddi': 3300, 'eagerli': 6301, 'favour': 7294, 'elitist': 6496, 'smail': 18546, 'dilling': 5687, 'purvi': 16063, 'curt': 5026, 'newark': 13934, 'nj': 14060, 'dimeo': 5692, 'moltisanti': 13315, 'orgi': 14567, 'tummler': 20755, 'xenia': 22381, 'tornado': 20449, 'skyscrap': 18450, 'recharg': 16443, 'sasha': 17479, 'maxim': 12692, 'scriptwrit': 17680, 'corsica': 4687, 'affin': 771, 'majorli': 12324, 'vidia': 21569, 'tink': 20332, 'sack': 17302, 'helper': 9322, 'mccaffrey': 12725, 'arsonist': 1558, 'demonhellboyha': 5466, 'courtappoint': 4761, 'defraud': 5390, 'screwup': 17675, 'valerio': 21379, 'luciana': 12120, 'demeanor': 5452, 'weber': 21931, 'nonmut': 14113, 'claudiu': 4098, 'espen': 6798, 'lad': 11361, 'gap': 8121, 'fadlan': 7144, 'norsemen': 14145, 'uncouth': 20990, 'stoneman': 19251, 'rugrat': 17222, 'eiffel': 6414, 'stab': 19028, 'superstor': 19571, 'internetboth': 10304, 'reinaldo': 16581, 'goodlook': 8562, 'salazar': 17361, 'baztan': 2152, 'consecut': 4519, 'seenital': 17768, 'safetyobsess': 17331, 'loveavers': 12067, 'areor': 1476, 'sisco': 18369, 'ichigo': 9893, 'kurosaki': 11314, 'blurri': 2643, 'rukia': 17227, 'kuchiki': 11297, 'limey': 11816, 'bodili': 2671, 'antoinett': 1340, 'xvi': 22397, 'versail': 21513, 'tighter': 20294, 'vlogger': 21678, 'cloudi': 4164, 'facetofac': 7133, 'arnold': 1541, 'demarco': 5450, 'clad': 4055, 'mickler': 13014, 'complac': 4408, 'brilliantli': 3006, 'boleyn': 2694, 'sobibor': 18655, 'sovietjewish': 18821, 'pecherski': 15053, 'mountbatten': 13518, 'viceroy': 21550, 'sikh': 18296, 'yve': 22517, 'laurent': 11518, 'ulterior': 20901, 'cryogen': 4956, 'addi': 687, 'balkan': 1952, 'pacifi': 14771, 'ceas': 3667, 'careless': 3494, 'exmarin': 6995, 'shale': 18026, 'rightw': 16920, 'pundit': 16033, 'crono': 4900, '400': 403, 'becomesbut': 2207, 'nerveshatt': 13892, 'sweetnatur': 19686, 'temp': 20007, 'standin': 19070, 'michèl': 13010, 'softwar': 18679, 'peasantri': 15051, 'albatross': 911, 'kangaroo': 10915, 'hoyl': 9729, 'wari': 21828, 'edison': 6371, 'westinghous': 22007, 'thermopoli': 20149, 'lilli': 11806, 'sidesaddl': 18270, 'archeri': 1456, 'knowingli': 11196, 'brussel': 3087, 'odiou': 14337, 'ea': 6299, 'duma': 6220, 'stymi': 19400, 'yorkin': 22469, 'spinetingl': 18930, 'goingaway': 8526, 'recentlywidow': 16440, 'hyperimagin': 9854, 'sociallyreject': 18666, 'swoop': 19718, 'dismember': 5797, 'illfortun': 9946, 'trident': 20642, 'poseidon': 15613, 'postdivorc': 15629, 'misfir': 13206, 'graveyard': 8674, 'inund': 10339, 'invalid': 10341, 'wray': 22326, 'launder': 11508, 'pablo': 14765, 'escobar': 6792, 'seagal': 17706, 'pinch': 15340, 'fasttalk': 7258, 'habitu': 8911, 'ethnic': 6831, 'rori': 17122, 'fundament': 7995, 'samir': 17404, 'horn': 9650, 'civic': 4050, 'akeem': 883, 'joffer': 10713, 'zamunda': 22534, 'lavel': 11525, 'semmi': 17865, 'bigfoot': 2432, 'hairco': 8940, 'disbelief': 5744, 'namek': 13715, 'bülow': 3271, 'braindead': 2887, 'dershowitz': 5525, 'jumba': 10829, 'reinstat': 16589, 'shockley': 18169, 'tiesand': 20287, 'misgiv': 13209, 'madoff': 12261, 'ponzi': 15559, 'sutter': 19642, 'lawn': 11539, 'crucibl': 4936, '1692': 101, 'decommiss': 5338, 'jeanett': 10580, 'harlock': 9113, 'foretel': 7723, '28th': 365, 'valerian': 21378, 'laurelin': 11515, 'everexpand': 6872, 'echol': 6348, 'pamphyl': 14832, 'échard': 22638, 'speedtyp': 18894, 'séanc': 19766, 'zoom': 22612, 'lockdown': 11917, 'sermon': 17935, 'kuwaiti': 11325, 'murderin': 13619, 'involvedoccur': 10363, 'babiesor': 1854, 'retail': 16787, 'wholli': 22081, 'pleakley': 15448, 'aloha': 1037, 'farfutur': 7224, 'mayoress': 12710, 'factor': 7139, 'floodgat': 7619, 'sundri': 19509, 'mahoney': 12299, 'smiley': 18572, 'pervert': 15189, 'embalm': 6540, 'evershift': 6885, 'hoffman': 9542, 'homemak': 9585, 'caitlin': 3320, 'honesdal': 9608, 'pa': 14763, 'krispi': 11268, 'mcphee': 12778, 'bubba': 3100, 'hotep': 9690, 'octav': 14320, 'parango': 14887, 'debaucheri': 5296, 'egotist': 6410, 'truelov': 20705, 'mazurski': 12716, 'oneil': 14469, 'hanssen': 9059, 'bahama': 1925, 'tourgoer': 20490, 'vermeer': 21499, 'unforgotten': 21083, 'sampl': 17409, 'emilien': 6568, 'plusaversari': 15473, 'matthia': 12667, 'shrimp': 18231, 'waterpolo': 21879, 'croatia': 4890, 'lgbt': 11718, 'oddli': 14330, 'unmotiv': 21151, 'hunki': 9801, 'peg': 15073, 'aback': 538, 'hypnotherapist': 9860, 'strap': 19303, 'garter': 8150, 'belt': 2293, 'pokemon': 15507, 'gelardan': 8208, 'materialis': 12643, 'woodcarv': 22253, 'astray': 1649, '1847': 134, 'feeney': 7330, 'cruelest': 4940, 'jester': 10638, 'pulitz': 16017, 'squeez': 19013, 'hardbal': 9078, 'arsen': 1557, 'igbi': 9921, 'slocumb': 18525, 'schizophren': 17590, 'selfabsorb': 17791, 'sharklik': 18058, 'manoeuvr': 12441, 'aircraftcarri': 860, 'nimitz': 14030, 'vortexlik': 21720, '1941mere': 195, 'chev': 3883, 'chelio': 3857, 'adrenalin': 724, 'wua': 22356, 'soontobeempress': 18757, 'zetian': 22569, 'dee': 5350, 'renji': 16678, 'indisput': 10126, 'unparallel': 21164, 'tsui': 20730, 'hark': 9108, 'sanborn': 17415, 'retaliationwithout': 16791, 'heartofgold': 9236, 'sheen': 18082, 'highsteppin': 9450, 'lustrou': 12177, 'jackalop': 10480, 'hornadorn': 9651, 'mope': 13411, 'wooli': 22272, 'stewardess': 19197, 'maccormack': 12216, 'bomont': 2708, 'quo': 16154, 'bubbl': 3102, 'mojo': 13302, 'holidaymak': 9562, 'med': 12809, 'ivori': 10463, 'sunburn': 19504, 'polk': 15535, 'tigerland': 20290, 'playerturnedgolf': 15436, 'gilmor': 8379, 'mcgavin': 12752, 'pga': 15218, 'soften': 18675, 'oncecelebr': 14450, 'trivial': 20670, 'selfpiti': 17831, 'bunker': 3167, 'straightedg': 19285, 'florentino': 7626, 'ariza': 1495, 'telegraph': 19991, 'fermina': 7367, 'daza': 5247, 'pevensi': 15213, 'miraz': 13179, 'trufflehunt': 20709, 'nikabrik': 14018, 'partyhop': 14950, 'intentionsand': 10282, 'underworldh': 21037, '1561': 81, 'imperil': 10003, 'garlic': 8141, 'kami': 10905, 'hume': 9774, 'cocoon': 4231, 'vigor': 21585, 'quigley': 16138, 'dingo': 5703, 'goetz': 8519, 'comicbook': 4356, 'iraqi': 10385, 'coffin': 4251, 'lighter': 11787, 'claustrophob': 4100, 'cheeroff': 3851, 'chad': 3740, 'mcgill': 12754, 'classi': 4085, 'camil': 3383, 'philibert': 15242, 'denver': 5495, 'blankenhoop': 2555, 'roswel': 17150, 'clunker': 4182, 'yugo': 22499, 'luggag': 12143, 'marano': 12478, 'leighallyn': 11631, 'pothead': 15653, 'spinelli': 18929, 'staten': 19119, 'nurtur': 14236, 'liam': 11724, 'pale': 14811, 'assess': 1631, '50foot': 437, 'radiu': 16200, 'oldguard': 14407, 'mcginti': 12757, 'playoff': 15442, 'hing': 9483, 'hunker': 9800, 'dossier': 6012, 'explay': 7033, 'knit': 11187, 'baddream': 1904, 'debutant': 5309, 'juliann': 10819, 'caribbean': 3502, 'matul': 12672, 'menard': 12895, 'resin': 16755, 'ackerman': 645, 'ludlow': 12135, 'handcuf': 9022, 'oncal': 14447, 'struck': 19364, 'backach': 1873, 'shikamaru': 18132, 'temujin': 20021, 'wiz': 22213, 'radiorebel': 16199, 'tvperson': 20807, '11year': 38, 'corrigan': 4684, 'ashburn': 1596, 'excellenceand': 6935, 'hyperarrog': 9852, 'mullin': 13576, 'pd': 15035, 'incompat': 10076, 'hogancamp': 9545, 'marwen': 12591, 'warriorassassin': 21844, 'nearsight': 13829, 'jekyl': 10601, 'hyde': 9841, 'poprap': 15577, 'conner4r': 4504, 'bounc': 2818, 'rec': 16429, 'bogota': 2680, 'cataleya': 3606, 'restrepo': 16777, 'socialclimb': 18662, 'caterina': 3622, 'rigidli': 16922, 'affili': 770, 'slide': 18509, 'overlap': 14713, 'surprisingli': 19610, 'exgreen': 6972, 'salween': 17394, 'pathogen': 14985, 'stepsist': 19183, 'alluringli': 1028, 'squash': 19009, 'folksing': 7677, 'address': 691, 'aphrodisiac': 1373, 'pervers': 15188, 'orgasm': 14566, 'letham': 11694, 'gib': 8349, 'beerguzzl': 2221, 'slob': 18523, 'alison': 977, 'ivyleagu': 10464, 'complement': 4411, 'pierret': 15309, 'cheeri': 3849, 'optim': 14532, 'bombay': 2705, 'reilli': 16578, 'acut': 677, 'boonme': 2755, 'nonhuman': 14108, 'hilltop': 9469, 'caveth': 3659, 'stiller': 19215, 'downey': 6039, 'livestream': 11889, 'hungov': 9795, 'toast': 20362, 'margherita': 12499, 'enigma': 6662, 'chinatown': 3933, '54': 447, 'kuroda': 11313, 'mahdi': 12296, 'tied': 20283, 'marjori': 12534, 'nugent': 14220, 'repairmen': 16697, 'scav': 17571, 'gate': 8161, 'badder': 1902, 'infrastructur': 10178, 'statist': 19127, 'highspirit': 9448, 'brawn': 2922, 'dilk': 5684, 'infest': 10162, 'gabriella': 8045, 'sharpay': 18062, 'wildcat': 22115, 'ukrain': 20894, 'collectivis': 4293, 'ruinth': 17225, 'tantamount': 19883, 'chimp': 3928, 'animalcontrol': 1257, 'capitain': 3452, 'chantel': 3776, 'conveniencestor': 4593, 'jobwher': 10702, 'inhi': 10190, 'xbox': 22380, 'butabi': 3234, 'grieco': 8729, 'swank': 19663, 'roxburi': 17189, 'vivica': 21666, 'cambi': 3368, 'cosmo': 4704, 'malekith': 12356, 'lockwood': 11925, 'chewandswallow': 3887, 'gargantuan': 8136, 'selfbuilt': 17796, 'spiderwick': 18915, 'faeri': 7145, '1000th': 13, 'piper': 15362, 'jeanbob': 10577, 'puffin': 16013, 'goya': 8613, 'heret': 9359, 'sixtyfoot': 18400, 'boa': 2649, 'constrictor': 4545, '2020': 289, 'adject': 699, 'documentarystyl': 5901, 'shutter': 18245, 'creationannabel': 4842, 'beatrix': 2182, 'rogan': 17056, 'starfight': 19091, 'kyli': 11331, 'bucknel': 3113, 'unsoci': 21213, 'blabber': 2516, 'moran': 13416, 'playth': 15443, 'drej': 6112, 'discredit': 5764, 'combust': 4343, 'wah': 21762, 'gumsho': 8859, 'getz': 8320, 'smartaleck': 18556, 'quash': 16109, 'orson': 14585, 'ender': 6633, 'homeplanet': 9587, 'annihil': 1274, 'automat': 1767, 'baekdu': 1913, 'businesswoman': 3226, 'obituari': 14272, 'jarhead': 10552, 'swofford': 19715, 'meera': 12836, 'mape': 12469, 'miley': 13088, 'sceneri': 17575, 'niblet': 13977, 'glitz': 8464, 'ol': 14398, 'timon': 20322, 'meerkat': 12837, 'pumbaa': 16025, 'warthog': 21849, 'unsung': 21223, 'savanna': 17509, 'aspen': 1615, 'kanon': 10918, 'nic': 13978, 'ninjitsu': 14044, 'sportello': 18961, 'wimpi': 22147, 'heffley': 9279, 'rodrick': 17053, 'itch': 10451, 'tuition': 20747, 'biohazard': 2473, 'removalcrim': 16657, 'cleanup': 4109, 'jilt': 10672, 'copilot': 4628, 'lando': 11415, 'calrissian': 3364, 'buff': 3125, 'scarc': 17558, 'purloin': 16053, 'thumbelina': 20248, 'twillerbe': 20829, 'wildflow': 22120, 'makena': 12328, 'cochran': 4220, 'tiburon': 20272, 'mendez': 12897, 'flew': 7596, 'miryea': 13189, 'splinter': 18942, 'postcollegi': 15628, 'genx': 8266, 'mel': 12860, 'funn': 8005, 'creditor': 4848, 'hospic': 9678, 'cw': 5048, 'brigg': 2997, 'voltan': 21705, 'surratt': 19611, 'coconspir': 4229, 'booki': 2744, 'recip': 16445, 'reardon': 16406, 'carlotta': 3514, 'uso': 21327, 'nerd': 13879, 'borgman': 2783, 'allegori': 995, 'alltoor': 1026, 'sealedoff': 17709, 'davison': 5231, 'repay': 16699, 'puriti': 16051, 'epilept': 6733, 'impur': 10038, 'nate': 13772, 'scarboro': 17557, 'pounc': 15662, 'stillman': 19218, 'madewhil': 12255, 'josh': 10766, 'sightsdylan': 18285, 'hardhit': 9090, 'fourteenyearold': 7797, 'majorityblack': 12322, 'chenil': 3867, 'trashtalk': 20573, 'lowrey': 12100, 'whackedout': 22021, 'georgi': 8279, 'pleasant': 15450, 'stockman': 19240, 'baileyg': 1929, 'ged': 8196, 'arren': 1549, 'kumo': 11305, 'kajaki': 10892, 'dam': 5123, 'threeman': 20218, 'landmin': 11414, 'crystalmeth': 4965, 'replay': 16708, 'nazism': 13804, 'dussand': 6262, 'poindext': 15500, 'rottingham': 17158, 'arnaz': 1539, 'bolt': 2701, 'nino': 14047, 'scotti': 17651, 'freespeak': 7874, 'mighthavebeen': 13059, 'gunn': 8867, 'oft': 14370, 'deuc': 5585, 'meanest': 12794, 'loudest': 12044, 'rowdiest': 17182, 'phdeduc': 15227, 'roadhous': 16986, 'hotspot': 9694, 'wesley': 22003, 'waxman': 21890, 'twotim': 20844, 'forfeit': 7726, 'regardless': 16545, 'spacerac': 18837, 'radioobsess': 16198, 'frequenc': 7896, 'airwav': 868, 'curi': 5013, 'discoveriesthrough': 5763, 'prism': 15834, 'pierreand': 15308, 'radium': 16201, 'milena': 13086, 'eponym': 6738, 'pietr': 15313, 'mercer': 12916, '45th': 419, 'glacier': 8430, 'palisad': 14819, 'latino': 11489, 'anthropoid': 1300, 'reinhardt': 16586, 'hotb': 9687, 'sensei': 17882, 'hypermasculin': 9856, 'tamil': 19857, 'nadu': 13698, 'rameshwaram': 16266, 'hail': 8935, 'unanticip': 20942, 'grind': 8750, 'fewtoomani': 7396, 'dubiou': 6188, 'hustl': 9827, 'briggmana': 2998, 'afghanistanwit': 778, 'higherup': 9418, 'heavilyarm': 9252, 'increasinglyviol': 10091, 'rainey': 16240, 'scribe': 17676, 'swipe': 19707, 'jose': 10760, 'cafe': 3308, 'puss': 16069, 'diablo': 5628, 'raffish': 16210, 'blower': 2626, 'conduit': 4463, 'subterranean': 19433, 'blofeld': 2599, 'contessa': 4568, 'draco': 6066, 'ottway': 14626, 'muchneed': 13549, 'southward': 18814, 'doorway': 5984, 'bazil': 2150, 'raimund': 16236, 'gregoriu': 8711, 'krasinski': 11258, 'greenpeac': 8700, 'barrymor': 2066, 'nonev': 14104, 'unmark': 21146, 'schoolgirl': 17610, 'motorcyclerid': 13502, 'bugsi': 3133, 'flashi': 7567, 'tallulah': 19851, 'slam': 18460, 'speakeasi': 18868, 'beavi': 2194, 'butthead': 3245, 'jocelyn': 10703, '1865': 140, 'restrain': 16775, 'dreyfusbeliev': 6121, 'espinosa': 6800, 'jefferi': 10597, 'independentmind': 10105, 'cuddi': 4979, 'kari': 10937, 'digimon': 5672, 'digiegg': 5671, 'botamon': 2803, 'koromon': 11240, 'agumon': 835, 'parrotmon': 14930, 'digivolv': 5674, 'greymon': 8724, 'shortcon': 18192, 'displeasur': 5817, 'jigsaw': 10666, 'superbowl': 19532, 'overanxi': 14687, 'cremat': 4858, 'recentlymurd': 16439, 'accountantth': 627, 'murderersar': 13617, 'conglomer': 4490, 'babbl': 1849, 'lycan': 12185, 'hybrid': 9840, 'soar': 18651, 'zap': 22540, 'watchman': 21869, 'daley': 5116, 'attila': 1701, 'tyrannosauru': 20862, 'exsoldi': 7059, 'inescap': 10142, 'reacher': 16375, 'remodel': 16652, 'rustic': 17258, 'contractor': 4581, 'aidan': 846, 'spaceknight': 18835, 'housew': 9719, 'daniela': 5158, 'lucio': 12126, 'inconsist': 10085, 'simul': 18335, 'avalon': 1777, 'longreach': 11989, 'spice': 18909, 'shaft': 18013, 'lockedandload': 11918, 'heroininfest': 9373, 'natsu': 13780, 'dragneel': 6071, 'fungu': 8001, 'milgram': 13089, 'plead': 15447, 'administ': 707, 'economicallydepress': 6357, 'rust': 17255, 'reflex': 16530, 'keenli': 10996, 'specter': 18883, 'wexler': 22019, 'selfimag': 17819, 'boozer': 2769, 'skirt': 18434, 'everett': 6870, 'europol': 6843, 'spenser': 18902, 'kingsleigh': 11119, 'underland': 21015, 'hatter': 9162, 'selfrealis': 17835, 'cornea': 4661, 'cox': 4796, 'birkenau': 2492, 'stillcelebr': 19214, 'alleyway': 1005, 'altomar': 1066, 'ageold': 812, 'latia': 11485, 'latio': 11491, 'dew': 5617, 'slasher': 18466, 'deconstruct': 5339, 'genr': 8256, 'dito': 5854, 'montiel': 13382, 'longsuff': 11994, 'nerf': 13883, 'dinorscio': 5707, 'beautyobsess': 2192, 'sensuou': 17888, 'sordidli': 18775, 'steami': 19152, 'sfpd': 18001, 'gameth': 8104, 'lessgift': 11682, 'dobermann': 5890, 'christen': 3974, 'christini': 3980, 'manji': 12430, 'anotsu': 1287, 'vandross': 21407, 'unbalanc': 20956, 'halfblind': 8960, 'deerskin': 5370, 'jacket': 10482, 'cintia': 4028, 'tulip': 20749, 'brennan': 2960, 'huff': 9745, 'doback': 5888, 'lu': 12109, 'cupid': 5007, 'jimi': 10675, 'soran': 18769, 'schemeand': 17584, 'seventyeight': 17969, 'niño': 14059, 'compi': 4406, 'strait': 19290, 'gibraltar': 8352, 'jesú': 10641, 'slash': 18465, 'goodson': 8567, 'collegebound': 4296, 'porsch': 15593, 'vj': 21672, 'warweari': 21852, 'mudcov': 13553, 'columnist': 4335, 'golfer': 8542, 'rannulph': 16301, 'junuh': 10850, 'pokerplay': 15509, 'longago': 11960, 'bagger': 1917, 'padmé': 14781, 'amidala': 1135, 'obiwan': 14273, 'kenobi': 11024, '1831': 127, 'oldtim': 14412, 'brer': 2964, 'titu': 20357, 'andronicu': 1221, 'earliest': 6310, 'hitchen': 9512, 'allegra': 996, 'mela': 12861, 'mechagodzilla': 12807, '20000': 267, 'roughhewn': 17165, 'traumatis': 20577, 'unafraid': 20936, 'balmi': 1962, 'arthurian': 1566, 'gawain': 8184, 'emeraldskin': 6559, 'tad': 19791, 'lavrof': 11532, 'papyru': 14865, 'mida': 13030, 'vortigern': 21721, 'birthright': 2499, 'excalibur': 6929, 'acknowledg': 646, 'candyman': 3417, 'latim': 11486, 'kovac': 11245, 'tattooist': 19920, 'ctac': 4969, 'hutchen': 9832, 'sweetwat': 19687, 'nake': 13710, 'baztán': 2153, 'rumour': 17232, 'elizondo': 6501, 'ritualist': 16967, 'basajaun': 2078, 'winger': 22161, 'indol': 10129, 'tamara': 19854, 'cohabit': 4258, 'wagner': 21760, 'beezu': 2225, 'buckingham': 3110, 'amadeo': 1080, 'galatico': 8069, 'lillian': 11807, 'bluff': 2636, 'bridesmaid': 2986, 'selfsatisfi': 17839, 'oral': 14541, 'cronyism': 4901, 'cathedr': 3628, 'sufien': 19464, 'sucker': 19455, 'farah': 7218, 'peach': 15042, 'longforgotten': 11973, 'devon': 5610, 'sawa': 17525, 'airspac': 866, 'hezbollah': 9396, 'militiamen': 13097, 'torr': 20453, 'amauri': 1098, 'nolasco': 14088, 'oronzo': 14581, 'canà': 3440, 'longobarda': 11986, 'saudad': 17499, 'alessio': 942, 'bragadini': 2882, 'throat': 20235, 'acidtongu': 643, 'belittl': 2274, 'incess': 10065, 'unenvi': 21059, 'unattend': 20949, 'alta': 1056, 'zorro': 22618, 'montero': 13375, 'react': 16377, 'degener': 5396, 'lifejust': 11766, 'tarker': 19900, 'hairi': 8944, 'hannigan': 9052, 'warbuck': 21817, 'souschef': 18808, 'perenni': 15134, 'joyous': 10786, 'jounci': 10775, 'topper': 20433, 'oddjobman': 14329, 'teamwho': 19949, 'vh': 21538, 'prerecord': 15750, 'prima': 15808, 'dominika': 5947, 'egorova': 6409, 'bick': 2417, 'proverbi': 15955, 'riversid': 16975, 'bookattract': 2743, 'overachiev': 14685, 'concis': 4449, 'kenneth': 11021, 'thaddeu': 20101, 'toad': 20361, 'fad': 7142, 'newfangl': 13942, 'schoolmast': 17612, 'tassel': 19908, 'brom': 3046, 'ventura': 21479, 'carrey': 3540, 'mascot': 12602, 'marino': 12522, 'eyebal': 7099, 'maneat': 12408, 'wow': 22319, 'copperfield': 4631, 'storytel': 19274, 'worlddestroy': 22290, 'exorc': 7004, 'herculean': 9353, 'tribul': 20629, 'klaven': 11165, 'rectifi': 16479, 'cyberbuddi': 5050, 'swingin': 19705, 'groovi': 8775, 'superag': 19528, 'shagadel': 18014, 'bald': 1944, 'unthaw': 21233, 'kensington': 11026, 'gong': 8551, 'yutian': 22515, 'bowler': 2848, 'munson': 13610, 'ern': 6761, 'plate': 15421, 'columbian': 4331, 'boost': 2758, 'lifebut': 11757, 'phenom': 15230, 'terron': 20075, 'underthet': 21030, 'donahu': 5955, 'featheri': 7314, 'employmenttheyr': 6595, 'pincu': 15342, 'kinnear': 11126, 'leoni': 11663, 'predica': 15718, 'hereaft': 9357, 'triumphantli': 20668, 'omnisexu': 14444, 'carcrash': 3477, 'rejuven': 16599, 'stalem': 19049, 'newswoman': 13964, 'vlog': 21677, 'stanton': 19082, 'courthous': 4765, 'chama': 3755, 'kidd': 11074, 'gladi': 8433, 'leeman': 11601, 'atkin': 1671, 'fallon': 7175, 'disloy': 5793, 'taut': 19925, 'cum': 4996, 'voter': 21723, 'portabl': 15595, 'valeri': 21376, 'plame': 15402, 'refut': 16540, 'uranium': 21303, 'graci': 8620, 'octaviu': 14321, 'brine': 3009, 'mcleod': 12769, 'incineratedand': 10069, 'manslaught': 12453, 'tatooin': 19915, 'sith': 18379, 'malasaña': 12345, 'sukgyu': 19478, 'hermet': 9364, '2047': 305, 'sada': 17308, 'abe': 556, 'loujean': 12055, 'clovi': 4169, 'poplin': 15572, 'dragnet': 6072, 'persecutor': 15168, 'coolsvil': 4616, 'mysteryand': 13671, 'gaultier': 8178, 'gozer': 8614, 'alibicom': 968, 'augustin': 1728, 'medhi': 12816, 'stratagem': 19305, 'flo': 7614, 'gérard': 8907, 'layer': 11547, 'directori': 5722, 'dustin': 6265, 'highdrama': 9415, 'rigoletto': 16923, 'verdi': 21487, 'poignanc': 15498, 'fizzl': 7543, 'eyeopen': 7101, '96': 524, 'percent': 15128, 'herbi': 9349, 'sneaki': 18614, 'shaki': 18024, 'autumn': 1772, 'jamilah': 10525, 'sigma': 18287, 'rhythmicallychalleng': 16872, 'steptacular': 19185, 'sbb': 17539, 'thirtyyearold': 20185, '750': 486, 'comment': 4372, 'mum': 13594, '10day': 22, 'timmi': 20321, 'sixfoot': 18387, 'rot': 17151, 'fido': 7410, 'boyandhisdog': 2858, 'covid19': 4783, 'ninjago': 14043, 'enemyhigh': 6642, 'workplac': 22285, 'chitauri': 3945, '47': 420, 'blackbeard': 2522, 'nester': 13901, 'trumbul': 20713, 'indign': 10120, 'margot': 12502, 'argentinian': 1479, 'sitwel': 18383, 'blonski': 2604, 'patsi': 15000, 'tj': 20359, 'detweil': 5583, 'exprincip': 7052, 'phillium': 15249, 'newlyacquir': 13947, 'tractor': 20518, 'gangcontrol': 8112, 'dogma95': 5913, 'trier': 20643, 'homevideo': 9595, 'inneridiot': 10214, 'theorist': 20139, 'beasti': 2175, 'paleontologist': 14813, 'ladylov': 11367, 'websit': 21932, 'spurn': 18992, 'onandoff': 14445, 'jakob': 10515, 'kommond': 11222, 'overhear': 14709, 'herdsmen': 9356, 'mongolia': 13337, 'cojunior': 4271, 'tuskege': 20789, 'airmen': 863, 'trevethyn': 20617, 'accru': 628, 'horticultur': 9673, 'underappreci': 21001, 'overdu': 14699, 'arnaud': 1538, 'dearth': 5282, 'apocalypticmind': 1376, 'cement': 3697, 'hemingway': 9331, '1000page': 12, '22year': 332, 'baggio': 1919, 'buddism': 3119, 'jmw': 10690, 'gusto': 8884, 'raizo': 16248, 'ozunu': 14762, 'lafayett': 11369, 'escadril': 6781, 'sociallychalleng': 18665, 'hostess': 9683, 'elvira': 6528, 'falwel': 7180, 'cookbook': 4608, 'poodl': 15562, 'stepfamili': 19173, 'demor': 5471, 'terrenc': 20064, 'wintergarden': 22173, 'cakewalk': 3325, 'commerc': 4374, 'pornstar': 15591, 'bollywood': 2698, 'balraj': 1964, 'darci': 5173, 'cb': 3663, 'rouch': 17160, 'joséphin': 10773, 'tremain': 20604, 'crewmemb': 4866, 'girlguy': 8407, 'meati': 12804, 'midday': 13031, 'ubercomput': 20873, 'jarrod': 10556, 'gatecrash': 8162, '2017': 286, 'gladiatorstyl': 8437, 'killian': 11092, 'moshimo': 13471, 'angl': 1245, 'fa': 7110, 'changan': 3770, 'wedg': 21936, 'lemur': 11642, 'sancturari': 17419, 'meteorit': 12963, 'thx': 20260, '1138': 31, 'gabriela': 8044, 'jenn': 10612, 'detox': 5579, 'acquisit': 653, 'accessori': 610, 'bellow': 2287, 'shideh': 18122, 'iraniraq': 10383, 'superstiti': 19570, 'middleeastern': 13036, 'dorsa': 6007, 'nesib': 13897, 'emir': 6571, 'hobeika': 9536, 'amar': 1090, 'sultan': 19484, 'salmaah': 17377, 'saleeh': 17363, 'auda': 1715, '2159': 324, 'elysium': 6532, 'ofﬁcial': 14373, 'antiimmigr': 1324, 'backin': 1879, 'wri': 22338, 'retic': 16795, 'leland': 11636, 'doormat': 5981, 'sexpot': 17991, 'tread': 20590, 'yank': 22412, 'kuklinski': 11299, 'dre': 6094, 'mei': 12853, 'ying': 22445, 'cheng': 3866, 'mainten': 12314, 'aram': 1432, 'irrepress': 10407, 'kumar': 11302, 'carsteal': 3550, 'slider': 18510, 'reprosecut': 16723, 'performerturnedsnitch': 15142, 'sainttropez': 17345, 'marech': 12495, 'relish': 16628, 'manic': 12423, 'zeal': 22546, 'josépha': 10772, 'gensac': 8257, 'cévenn': 5081, 'koslow': 11241, 'klimek': 11171, 'gladiatorlik': 8436, 'nix': 14056, 'burglari': 3180, 'brandel': 2898, 'knive': 11188, 'demopoli': 5470, 'regrett': 16564, 'creep': 4854, 'mirrormask': 13188, 'lampoon': 11400, 'housebut': 9708, 'belushi': 2294, 'gilda': 8369, 'radner': 16203, 'kenney': 11022, 'caddyshack': 3301, 'cautiou': 3647, 'costco': 4711, 'irrat': 10405, 'nongreek': 14107, 'getti': 8317, 'tae': 19794, 'countrycan': 4745, 'chauvinist': 3831, 'ploy': 15461, 'flatter': 7571, 'bromanc': 3047, 'electro': 6459, 'freeway': 7878, 'billboard': 2453, 'early90': 6312, 'michelin': 13004, 'renesme': 16674, 'cullen': 4987, 'volturi': 21707, 'famil': 7184, 'personn': 15177, 'réuni': 17284, 'par': 14866, 'lien': 11747, 'parenté': 14907, 'solidarité': 18702, 'matériel': 12675, 'quand': 16097, 'épousé': 22643, 'savait': 17508, 'quil': 16139, 'épouserait': 22642, 'aussi': 1742, 'sa': 17286, 'ce': 3666, 'samedi': 17400, 'comm': 4365, 'tout': 20493, 'semain': 17850, 'sont': 18751, 'invité': 10357, 'dîner': 6298, 'chez': 3890, 'beaufrèr': 2184, 'cest': 3733, 'vrai': 21729, 'marr': 12562, 'familiaux': 7189, 'sait': 17346, 'encor': 6620, 'qui': 16126, 'lattend': 11495, 'véritabl': 21742, 'soirlà': 18684, 'ni': 13974, 'suivent': 19477, 'coexist': 4247, 'yvonn': 22518, 'biasi': 2411, 'amazingli': 1100, 'infuri': 10179, 'upmarket': 21275, 'induc': 10134, 'tireless': 20345, 'mazzi': 12717, 'pontypool': 15555, 'sultri': 19487, 'divorcé': 5872, 'seafood': 17705, 'herrington': 9378, 'merryweath': 12939, 'moonacr': 13397, 'farnsworth': 7233, 'maryl': 12596, 'martialart': 12578, 'bowman': 2849, 'stealthili': 19148, 'osaka': 14591, 'rangoon': 16297, 'strangul': 19300, 'sharpen': 18065, 'razorlik': 16371, 'medit': 12827, 'goro': 8590, 'beaktobeak': 2164, 'nigel': 13998, 'lucian': 12119, 'quickdraw': 16130, 'taran': 19895, 'pigkeep': 15320, 'boyish': 2865, 'oracular': 14540, 'hen': 9332, 'cauldron': 3641, 'bookshop': 2750, 'minefield': 13140, 'kion': 11133, 'partytoendallparti': 14951, 'tibbi': 20267, 'amp': 1159, 'greenhous': 8697, 'paleoclimatologist': 14812, 'seneg': 17874, 'yao': 22414, 'seydou': 17998, 'dakar': 5111, 'fugu': 7973, '387': 397, 'jeanrené': 10588, 'angéliqu': 1255, 'impervi': 10005, 'mctiernan': 12783, 'amaro': 1093, 'benito': 2316, 'dahmer': 5104, 'edwina': 6386, 'cutwat': 5047, 'hoskin': 9677, 'punchlin': 16032, 'longretir': 11990, 'sussex': 19638, '50year': 441, 'fragment': 7813, 'horton': 9675, 'speck': 18877, 'hairrais': 8945, 'lorax': 12015, 'ezio': 7108, 'offkilt': 14359, 'parta': 14932, 'danhurst': 5155, 'songfil': 18740, 'revu': 16848, 'smuntz': 18593, 'occupanta': 14302, 'romania': 17082, 'cantona': 3438, 'comedydrama': 4351, 'loach': 11904, 'serl': 17934, 'landi': 11408, 'wallop': 21798, 'cartooninspir': 3558, 'aloft': 1036, 'jetlin': 10643, 'erotic': 6769, 'monkshood': 13347, 'emilio': 6569, 'estevez': 6815, 'chavez': 3832, 'scurlock': 17697, 'kiefer': 11080, 'sutherland': 19640, 'scarier': 17564, 'lifecycl': 11759, 'ageless': 805, 'gerard': 8289, 'spectacularli': 18881, 'royc': 17194, 'bretter': 2968, 'aldou': 930, 'hitech': 9514, 'encrypt': 6624, 'ferrier': 7381, 'lessthanperfect': 11685, 'usl': 21324, 'baghdad': 1920, 'warrant': 21840, 'stockpil': 19241, 'boobytrap': 2737, 'invert': 10348, 'wiseguy': 22186, 'angst': 1251, 'vitti': 21659, 'sobel': 18653, 'welladjust': 21963, 'libertin': 11733, '120': 41, 'russ': 17249, 'duritz': 6258, 'chubbi': 3990, 'chili': 3922, 'barboni': 2022, 'zimm': 22583, 'badass': 1900, 'molinari': 13309, 'maximilian': 12693, 'thierri': 20163, 'steph': 19176, 'deejay': 5354, 'bondand': 2715, 'humanityi': 9763, 'primatologist': 15813, 'okoy': 14396, 'unshak': 21210, 'silverback': 18310, 'similarli': 18317, 'glatt': 8451, 'brawl': 2920, 'luther': 12179, 'tidi': 20280, 'müller': 13688, 'goethegesamtschul': 8518, 'gerster': 8307, 'schillergymnasium': 17587, 'schnabelstedt': 17598, '10b': 21, 'modu': 13289, 'operandi': 14511, 'hookup': 9627, 'beastsira': 2176, 'alexandercrown': 947, 'rumpu': 17234, 'hideaway': 9408, 'saori': 17454, 'kido': 11079, 'seiya': 17783, 'drinkfuel': 6130, 'unreach': 21182, 'rimbaud': 16930, 'verlain': 21497, 'ingrid': 10186, 'madagascar': 12243, 'outdoorsi': 14643, 'chet': 3881, 'excurs': 6948, 'zurg': 22625, 'kakui': 10896, 'dameron': 5127, 'honk': 9616, 'horrifyingli': 9662, 'cabrini': 3293, 'dreamsonli': 6105, 'bankaccountdrain': 1991, 'rambl': 16261, 'everythinginclud': 6894, 'sinkdisappear': 18360, 'crazier': 4835, 'snowdon': 18632, 'entei': 6691, 'me': 12786, 'hitsuburban': 9521, 'mariem': 12513, 'morgana': 13431, 'facilit': 7136, 'merger': 12925, 'woodman': 22259, 'switzerlandbas': 19714, 'tooth': 20424, 'floss': 7633, 'properli': 15917, 'joness': 10746, 'prewed': 15793, 'brunch': 3079, 'heather': 9245, 'langenkamp': 11426, 'jetpack': 10644, 'tallest': 19849, 'slouch': 18530, 'patti': 15004, 'irat': 10387, 'regin': 16557, 'largenos': 11451, 'cd': 3664, 'bale': 1948, 'roxannewhil': 17187, 'chester': 3880, 'tacodil': 19789, 'shrimpanze': 18232, 'piethon': 15312, 'cleanli': 4107, 'detach': 5563, 'mccormick': 12741, 'bratt': 2911, 'brantley': 2904, 'multimilliondollar': 13585, 'everglad': 6874, 'multitud': 13592, 'slaver': 18475, 'beauracraci': 2187, 'curv': 5030, 'bitch': 2506, 'vicepresidenti': 21549, '4000foot': 406, 'miamibas': 12995, 'importexport': 10016, 'veron': 21506, 'fuent': 7971, 'secondguess': 17735, 'jonah': 10740, 'farquaad': 7236, 'crossbord': 4909, 'whitey': 22066, 'bulger': 3143, 'norah': 14129, 'demonologist': 5467, 'unholi': 21100, 'targetth': 19899, 'sawyer': 17528, 'mitchi': 13249, 'curli': 5017, 'ellison': 6508, 'snotti': 18624, 'joyrid': 10787, 'robberyreveng': 17001, 'newlymint': 13956, 'kingman': 11115, 'nicolson': 13992, 'nosey': 14163, 'bottomless': 2812, 'succubu': 19452, 'educationwritten': 6381, 'remand': 16637, 'perfectuntil': 15140, 'superyuppi': 19579, 'jc': 10571, 'synchron': 19750, 'florian': 7628, 'sciamma': 17624, 'cheap': 3835, 'douch': 6022, 'fábio': 8033, 'clóvi': 4188, 'pseudointellectu': 15973, 'miá': 13264, 'fabio': 7119, 'beto': 2385, 'assunção': 1642, 'suzana': 19646, 'bothersom': 2807, 'cabeça': 3285, 'jett': 10646, 'cheri': 3870, 'frontwomen': 7950, 'nowlegendari': 14210, 'svengalilik': 19655, 'impresario': 10025, 'fowley': 7803, 'windsor': 22156, 'cincinnati': 4016, 'sunshin': 19521, 'bogomil': 2679, 'kingpinand': 11117, 'militar': 13093, 'specialop': 18874, 'wisebeyondheryear': 22183, 'dorm': 6003, 'bystand': 3264, 'allexpensespaid': 1003, 'charmer': 3811, 'uninspir': 21113, 'nostalgia': 14166, 'dine': 5700, 'zibbi': 22577, 'classicalmusiclov': 4087, 'sophomor': 18763, 'longdorm': 11967, 'phallic': 15219, 'bloodth': 2619, 'nourish': 14193, 'moritz': 13439, 'appalachia': 1386, 'eustac': 6845, 'scrubb': 17683, 'swallow': 19658, 'narnian': 13749, 'scaramanga': 17556, 'sevenfigur': 17960, 'fee': 7325, 'swimsuitclad': 19698, 'goodnight': 8566, 'killerforhir': 11090, 'keda': 10991, 'inexperienc': 10146, 'bison': 2504, 'lifeless': 11767, 'lennox': 11655, 'misselthwait': 13221, 'midian': 13043, '40000': 404, 'stateofth': 19120, 'pratt': 15693, 'onboard': 14446, 'sammi': 17405, 'exspous': 7062, 'propens': 15915, 'ringlik': 16937, 'anesthet': 1226, 'exholiday': 6978, 'io': 10367, 'jupit': 10851, 'sunless': 19515, 'sax': 17529, 'stricken': 19335, 'herbalist': 9347, 'yang': 22411, 'unhuman': 21101, 'review': 16835, 'strauss': 19310, 'scissor': 17629, 'hypnosi': 9858, 'dater': 5218, 'bloomwood': 2623, 'shoppinga': 18185, 'dooruntil': 5983, 'snag': 18600, 'unsurpass': 21227, 'reclam': 16453, 'sonar': 18737, 'merpeopl': 12933, 'cyberstalk': 5056, 'bbc': 2156, 'entrench': 6710, 'holloman': 9568, 'mostwant': 13479, 'electra': 6456, 'spokenfor': 18949, 'jonni': 10751, 'bristol': 3014, 'celest': 3684, 'softpaw': 18677, 'humpti': 9784, 'dumpti': 6231, 'driveway': 6138, 'clari': 4074, 'shadowhunt': 18011, 'halfangel': 8958, 'downworld': 6058, 'francoi': 7830, 'cowrit': 4794, 'heirloom': 9297, 'tempt': 20019, 'parenthood': 14906, 'extv': 7093, 'maya': 12700, 'râmen': 17281, 'ventriloquist': 21477, 'dummi': 6225, 'mouthi': 13527, 'traviss': 20584, 'disposit': 5819, 'starfleet': 19092, 'gum': 8856, 'petrova': 15208, 'posi': 15615, 'noel': 14078, 'streatfield': 19315, '1870': 141, 'exarmi': 6924, 'ginni': 8386, 'clam': 4061, 'carousel': 3534, 'sati': 17487, 'pumblechook': 16026, 'pipa': 15359, 'orphansuddenli': 14584, 'luxuriantli': 12184, 'boundlessli': 2823, 'lessthansuccess': 11686, 'bellami': 2279, 'cutlass': 5040, 'foggi': 7671, 'haplessli': 9063, 'libido': 11734, 'siamesetwin': 18252, 'techsavvi': 19968, 'quorra': 16155, 'clu': 4173, 'tango': 19871, 'perret': 15164, 'tasya': 19911, 'vo': 21679, 'brainimpl': 2891, 'romanticroad': 17088, 'tf1': 20098, 'rochel': 17025, 'rayan': 16364, 'bensetti': 2327, 'cécile': 5077, 'rebboah': 16415, 'robic': 17008, 'felder': 7337, 'patern': 14980, 'carmichael': 3519, 'secretsinclud': 17745, 'contenti': 4567, 'treehous': 20601, 'selfhelp': 17815, 'sixtysometh': 18401, 'maynard': 12707, 'peerless': 15070, 'charlen': 3804, 'roan': 16991, 'fisheri': 7513, 'flyfish': 7657, 'upstream': 21299, 'lotterywinn': 12037, 'sixmemb': 18389, 'soontohatch': 18758, 'recommend': 16460, 'eggsit': 6404, 'squint': 19017, 'easter': 6330, 'dreamsand': 6104, 'nightmaresmanifest': 14010, 'netbas': 13904, 'autom': 1766, 'multilevel': 13582, 'enclav': 6616, 'electrofish': 6462, 'zuru': 22627, 'killi': 11091, 'couturi': 4774, 'kassel': 10953, 'guru': 8878, 'stiletto': 19212, 'movietrail': 13533, 'voiceov': 21691, 'ramzi': 16278, 'washer': 21857, 'montparnass': 13385, 'mariejoel': 12512, 'joell': 10710, 'reassur': 16413, 'poppington': 15576, 'defendor': 5378, 'disband': 5742, 'cynthia': 5066, 'stale': 19048, 'taboo': 19782, 'carli': 3509, 'threetim': 20224, 'sob': 18652, 'dar': 5171, 'jessi': 10634, 'xmenl': 22391, 'xavierand': 22378, 'siegel': 18280, 'sharpdress': 18064, 'maim': 12306, 'confluenc': 4483, 'swordfish': 19722, 'gail': 8060, 'foreshadow': 7721, 'pasta': 14967, 'skylar': 18445, 'kickass': 11070, 'selfmad': 17828, 'fucker': 7966, 'bladewield': 2541, 'hitgirl': 9515, 'zooster': 22613, 'sgt': 18003, 'dasilva': 5212, 'copperbottom': 4630, 'ratchet': 16336, 'weld': 21959, 'obsolet': 14289, 'amali': 1084, 'wordless': 22277, 'cupboard': 5005, 'op': 14504, 'dumont': 6226, 'tino': 20337, 'boaster': 2657, 'ostent': 14611, 'thrifti': 20230, 'genderswap': 8223, 'darlen': 5194, 'vere': 21491, 'overstay': 14732, 'corman': 4660, 'duet': 6206, 'problemalex': 15853, 'supercrimin': 19538, 'maconel': 12239, 'sm': 18544, 'leather': 11580, 'theo': 20135, 'caulder': 3640, 'everythingeven': 6893, 'linein': 11836, 'download': 6042, 'stegman': 19162, 'haiti': 8949, 'chon': 3956, 'pei': 15076, 'obannon': 14264, 'peewe': 15072, 'fortunetel': 7763, 'wurtzel': 22359, 'psychosomat': 15991, 'pinbal': 15339, 'probationari': 15850, 'innumer': 10222, 'significantli': 18293, 'paramount': 14885, 'nim': 14027, 'poitier': 15506, 'cunningli': 5001, 'mélani': 13683, 'scamp': 17548, 'housedog': 9709, 'zamboni': 22530, 'morsman': 13454, 'arid': 1487, 'civilis': 4053, 'vacanc': 21351, 'expansionist': 7012, 'discret': 5766, 'naiveté': 13706, 'josef': 10761, 'sincer': 18340, 'familyand': 7190, 'amari': 1092, 'otherlif': 14618, 'twentyeightyearold': 20818, 'empireand': 6591, 'loxley': 12102, 'prerevolut': 15751, 'katey': 10961, 'parentapprov': 14905, 'havana': 9173, 'kochin': 11206, 'wheelo': 22036, 'roshi': 17140, 'projector': 15894, 'popup': 15582, 'pinata': 15338, 'crunchi': 4949, 'kaihoro': 10888, 'astroinvestig': 1652, 'aiad': 843, 'gile': 8370, 'transsiberian': 20562, 'denlon': 5484, 'reinhart': 16587, 'chessboard': 3878, 'boswel': 2801, 'lowrent': 12099, 'bluntman': 2640, 'bigscreen': 2443, 'scarlet': 17566, 'overkil': 14712, 'kronk': 11277, 'mudka': 13556, 'hut': 9830, 'fret': 7907, 'wolverton': 22232, 'i5': 9874, 'tesss': 20084, 'peek': 15066, 'aldovia': 931, 'pfeiffer': 15216, '3yearold': 401, 'jacquelyn': 10496, 'mitchard': 13247, 'oprah': 14530, 'degrad': 5397, 'beliz': 2276, 'westlak': 22008, 'darkman': 5188, 'tuvach': 20799, 'centurion': 3716, 'laplant': 11441, 'centenni': 3707, 'grung': 8805, 'soundgarden': 18800, 'mudhoney': 13555, 'spartan': 18862, 'cirk': 4039, 'howl': 9726, 'murdock': 13622, 'bosco': 2793, 'ba': 1842, 'baracu': 2011, 'faceman': 7130, 'exert': 6959, 'ink': 10201, 'dreamgiv': 6101, 'schlickmann': 17593, 'goalsin': 8493, 'worthwhil': 22312, 'fauna': 7283, 'ecosystem': 6358, 'jettison': 10647, 'reus': 16815, 'rejoic': 16597, 'botanist': 2804, 'lowel': 12089, 'eclect': 6351, 'alba': 908, 'euro': 6839, 'álava': 22630, '2056': 309, 'geneco': 8226, 'repossess': 16716, 'recentlyfir': 16436, 'roundtheworld': 17171, 'vp': 21728, 'murkiest': 13625, 'selfdescrib': 17805, 'reid': 16575, 'merrimett': 12937, 'resuppli': 16783, 'talibancontrol': 19843, 'helmand': 9318, 'firepow': 7491, 'lea': 11558, 'oliveron': 14418, 'yesterday': 22438, 'seventi': 17968, 'alpil': 1051, 'obedi': 14267, 'disobey': 5802, 'charmont': 3814, 'partanna': 14933, 'prizzi': 15846, '2041': 304, 'sidebysid': 18266, 'garel': 8131, 'beaver': 2193, 'tepe': 20048, 'multigener': 13581, 'tierney': 20286, 'incendiari': 10062, 'revelatori': 16820, 'kip': 11134, 'highoctan': 9434, 'swerv': 19692, 'roadblock': 16985, 'brenner': 2961, 'sunhil': 19511, 'clearcut': 4112, 'unseemli': 21206, 'homag': 9577, '51yearold': 444, '72nd': 482, 'meacham': 12787, 'descript': 5530, 'unfunni': 21087, 'grindl': 8752, 'shoelac': 18173, 'illeana': 9941, 'eyewit': 7103, 'slater': 18468, 'paola': 14853, 'retold': 16799, 'scorebut': 17643, 'upher': 21270, 'swore': 19730, 'defector': 5375, 'celebi': 3681, 'yukinari': 22505, 'minimoy': 13153, 'stout': 19276, 'vidocq': 21570, 'messner': 12953, 'callaway': 3351, 'figment': 7436, 'zathura': 22543, 'spacethem': 18840, 'villai': 21597, 'sideway': 18274, 'melancholi': 12863, 'vein': 21459, 'vadrouil': 21359, 'partier': 14939, 'dement': 5453, 'loophol': 12007, 'trilbi': 20647, 'cabbag': 3280, 'punkrock': 16036, 'weakkne': 21912, 'womanhood': 22235, 'corvin': 4695, 'hotdog': 9688, 'daedalu': 5094, 'ikon': 9936, 'tviru': 20805, 'oshea': 14601, 'adeptli': 697, 'snoot': 18621, 'masturb': 12632, 'aol': 1364, 'bartholomew': 2073, 'bogu': 2681, 'chisolm': 3944, 'madden': 12246, '1921': 174, 'cathcart': 3627, 'tromavil': 20676, 'junko': 10846, 'vat': 21438, 'romanticsexu': 17089, 'shortbu': 18190, 'pj': 15391, 'deboy': 5302, 'ceth': 3734, 'brannan': 2903, 'exmodel': 7000, 'delori': 5438, 'cartier': 3555, 'uninterest': 21116, 'bona': 2710, 'fide': 7408, 'namekian': 13716, 'slug': 18538, 'gibb': 8350, 'birde': 2487, 'pruitt': 15970, 'bernic': 2357, 'huard': 9734, 'anapoli': 1183, 'substandard': 19428, 'overcocki': 14693, 'unsupport': 21225, 'gloat': 8466, 'with': 22197, 'senor': 17878, 'lovertob': 12081, '5000': 430, 'innocu': 10219, 'farther': 7242, 'wireless': 22177, 'outofbodi': 14659, 'cosset': 4707, 'mollycoddl': 13313, 'leito': 11634, 'sector': 17749, 'sheriffbas': 18116, 'uninterrupt': 21117, 'husbandandwif': 9818, 'ferro': 7382, 'levelhead': 11705, 'atyp': 1709, 'fawcett': 7296, 'retak': 16789, 'rapp': 16315, 'hurley': 9811, 'casesnot': 3569, 'misdemeanor': 13201, 'amo': 1152, 'hooch': 9621, 'ofto': 14372, 'trawlermaroon': 20585, 'seastruggl': 17723, 'cologn': 4308, 'proxima': 15968, 'motherdaught': 13483, 'manzoni': 12465, 'samba': 17399, 'plug': 15465, 'undergon': 21010, 'mézièr': 13685, 'montpensi': 13386, 'packard': 14775, 'dragrac': 6079, 'hankin': 9045, 'kesey': 11048, 'keri': 11036, 'davidson': 5230, 'marlboro': 12546, 'foreclos': 7713, 'filch': 7438, 'wifecr': 22105, 'akan': 878, 'phillipp': 15248, 'darnot': 5196, 'greystok': 8725, 'channard': 3772, 'kirsti': 11144, 'stitzer': 19235, 'invoic': 10358, 'electron': 6464, 'bother': 2806, 'sexobsess': 17989, 'devirgin': 5605, 'kelson': 11008, 'simona': 18325, 'betta': 2388, 'torrent': 20455, 'lefti': 11607, 'fiorina': 7479, '161': 94, 'emotionallybeaten': 6584, 'newfoundland': 13944, 'mademoisel': 12254, 'joncquièr': 10743, 'seductress': 17756, 'mib': 12996, 'untarnish': 21231, 'scum': 17694, 'alienseek': 973, 'grower': 8791, 'kimbal': 11100, 'selvascura': 17849, 'roccafort': 17022, 'altomont': 1067, 'molièr': 13310, 'harpagon': 9122, 'cléant': 4186, 'elis': 6491, 'upright': 21283, 'acolyt': 648, 'highman': 9433, 'nofli': 14080, 'malmedi': 12371, 'villainsinclud': 21601, 'sandman': 17427, 'dei': 5402, 'laghi': 11372, 'azeroth': 1832, 'iceberg': 9884, 'comingofmiddleag': 4363, 'rad': 16187, 'marqu': 12558, 'houston': 9721, 'omari': 14435, 'grandberri': 8640, 'lil': 11799, 'proverb': 15954, 'cornerston': 4665, '1429': 66, 'stood': 19254, 'rabbithol': 16162, 'cheshir': 3876, 'hottemp': 9695, 'fourthgener': 7799, 'mcnamara': 12774, 'seniorrank': 17877, 'luftwaf': 12139, 'vetran': 21534, 'visser': 21649, 'munit': 13607, 'ciaro': 4008, 'rta': 17197, 'roosevelt': 17115, 'crate': 4825, 'invers': 10347, 'naga': 13700, 'banditstomp': 1982, 'golem': 8540, 'oncepromis': 14456, 'nonjew': 14111, 'careerthreaten': 3490, 'redfern': 16490, 'exfederal': 6960, 'clive': 4147, 'horrormovi': 9665, 'kyôko': 11338, 'haras': 9073, 'threeandahalfmonthold': 20215, 'fetu': 7392, 'womb': 22237, 'booni': 2754, 'spielrein': 18918, 'sigmund': 18288, 'freud': 7908, 'longrun': 11991, 'oncepromin': 14455, 'cohost': 4263, 'mousekewitz': 13522, 'oili': 14386, 'waul': 21884, 'davey': 5226, 'collegian': 4298, 'gelbman': 8210, 'animatron': 1262, 'housemaid': 9716, 'eunyi': 6837, 'haera': 8926, 'hoon': 9629, 'bletch': 2575, 'walru': 21801, 'starlet': 19101, 'porno': 15588, 'halfvampirehalfhuman': 8974, 'guardianintrain': 8819, 'lissa': 11863, 'vladamir': 21674, 'strigoi': 19341, 'streetrac': 19323, 'yorktolo': 22471, 'expartn': 7014, 'supercharg': 19534, 'teensocialit': 19981, 'toller': 20394, 'lombardo': 11948, '33': 384, '69': 468, 'halley': 8984, 'benson': 2328, 'winifr': 22162, 'killin': 11094, 'jrotc': 10792, 'nascar': 13757, 'smokin': 18581, 'turbocharg': 20772, 'euroidiot': 6840, 'girard': 8403, 'fearridden': 7309, 'hancock': 9019, 'pr': 15682, 'lousi': 12059, 'edgeofyourseat': 6368, 'gutsi': 8888, 'precinct': 15701, 'crosshair': 4918, 'saintmauric': 17344, 'yassin': 22420, 'kichijōji': 11068, 'taku': 19834, 'kōchi': 11340, 'prefectur': 15723, 'briefli': 2993, 'bongo': 2724, 'beanstalk': 2168, 'ffynnon': 7397, 'garw': 8153, 'marbl': 12481, 'tabloidgiven': 19779, 'filthiest': 7447, 'bergman': 2344, 'reneg': 16671, 'clanci': 4066, 'unsupervis': 21224, 'sympathi': 19745, 'ru': 17198, 'longterm': 11995, '20someth': 317, 'strangest': 19296, 'brooklynborn': 3059, 'reap': 16402, 'streetharden': 19321, 'omara': 14434, 'wooter': 22275, 'kepesh': 11034, 'emancip': 6538, 'consuela': 4549, 'castillo': 3594, 'wellmann': 21980, 'farraday': 7237, 'agosmugglingto': 828, 'gaullish': 8176, 'vitalstatistix': 21655, 'perturb': 15184, 'garber': 8127, 'aquamarin': 1420, 'wersh': 22001, 'kiki': 11084, 'overthetop': 14738, 'kingson': 11122, 'weaker': 21910, 'kendra': 11014, 'goth': 8596, 'melon': 12878, 'serpentin': 17937, 'nomolo': 14093, 'théraneau': 20262, 'heimann': 9289, 'diametr': 5636, 'carload': 3513, 'cannibalist': 3426, 'grossli': 8778, 'inbreed': 10054, 'sommersbi': 18731, 'impost': 10020, 'stateoftheart': 19121, 'cadr': 3305, '2024': 292, '18year': 157, 'vic': 21545, 'desertlik': 5534, 'adrenalinecharg': 725, 'pandemonium': 14841, '1889': 146, 'scorses': 17647, 'volum': 21709, 'coppola': 4632, 'reconcili': 16463, 'rentcontrol': 16686, 'spaciou': 18844, 'nordic': 14131, 'sexcraz': 17982, 'barbershop': 2020, 'centuriesold': 3715, 'transpar': 20557, 'dehydr': 5401, 'twentyyear': 20825, 'ceti': 3735, 'haruo': 9140, 'ensconc': 6682, 'brat': 2909, 'gendarmeri': 8221, 'outstand': 14678, 'crysta': 4963, 'ferngulli': 7373, 'lumberjack': 12155, 'index': 10109, 'shovel': 18211, 'fleur': 7595, 'dodgebal': 5904, 'knockdown': 11190, 'dragout': 6078, 'clef': 4117, 'clinton': 4144, 'jemmon': 10608, 'bracelet': 2874, 'anubi': 1350, 'anubiss': 1351, 'substori': 19431, 'sorceress': 18772, 'cont': 4556, 'nuit': 14221, 'ocelot': 14313, 'codirect': 4243, 'bénédict': 3270, 'galup': 8089, 'cydney': 5061, 'paradisa': 14872, 'waterfal': 21875, 'ashram': 1601, 'shikaka': 18131, 'wachati': 21746, 'wachootoo': 21747, 'documentarian': 5900, 'umbrellaclad': 20926, 'soulsearch': 18794, 'scudder': 17688, 'choral': 3961, 'shopper': 18184, 'insensit': 10236, 'fiftieth': 7429, '000': 1, 'shampoo': 18033, 'lament': 11395, 'burkittsvil': 3185, 'unproven': 21176, 'trickl': 20639, 'hogg': 9546, 'rabbler': 16165, 'jewelheist': 10651, 'shiverpool': 18160, 'policymak': 15527, 'pietari': 15311, 'reindeerherd': 16584, 'siler': 18301, 'realitytelevis': 16391, 'laney': 11423, 'bogg': 2677, 'nôtre': 14252, 'huntington': 9806, 'practition': 15685, 'outsourc': 14676, 'spa': 18829, 'merg': 12924, '92000': 517, 'cheater': 3839, 'lainey': 11378, 'monogamychalleng': 13352, 'paramed': 14882, 'goosebump': 8575, 'rl': 16982, 'stine': 19224, 'knowhow': 11195, 'totò': 20475, 'farfrommundan': 7223, 'acclim': 616, 'drivein': 6135, 'gelatin': 8209, 'goo': 8555, 'morethanvagu': 13428, 'recogniz': 16458, 'mvk': 13665, 'nobb': 14064, 'dannoura': 5164, 'genji': 8248, 'heik': 9288, 'revolverwield': 16847, 'yoshitsun': 22475, 'kiyomori': 11158, 'jumbl': 10830, 'dealmak': 5278, 'rumpelstiltskin': 17233, 'awaywher': 1808, 'bhamra': 2404, 'semipro': 17862, 'dispossess': 5820, 'raymold': 16366, 'avila': 1793, 'womanis': 22236, 'firewood': 7492, 'astrophys': 1656, 'skylab': 18444, 'duran': 6249, 'arcel': 1444, 'dunwich': 6242, 'governmentcr': 8609, 'acronym': 657, 'lifeform': 11763, 'disassembl': 5738, 'downtown': 6054, 'silvia': 18312, 'darkweb': 5191, 'hollar': 9565, 'lantin': 11437, 'vaudevil': 21442, 'missingforev': 13225, 'brownsvil': 3075, 'dyke': 6281, 'sixtyfifth': 18399, 'wack': 21749, 'certainli': 3727, 'racoon': 16186, 'fabergé': 7116, 'backpack': 1880, 'rutger': 17261, 'katarina': 10958, 'crater': 4826, 'meetmick': 12839, 'knuckl': 11201, 'sprout': 18983, '108yearold': 20, 'caution': 3645, 'townand': 20500, 'countryfrom': 4748, 'sextuplet': 17994, 'motorcar': 13499, 'gawkish': 8186, 'reteam': 16792, 'dorj': 6001, 'buddhist': 3117, 'nepales': 13876, 'dolph': 5935, 'springer': 18975, 'hedg': 9267, 'everpres': 6882, 'fifteenyear': 7424, 'cleaver': 4116, 'hansen': 9055, 'skile': 18425, 'stallon': 19058, 'hardluck': 9095, 'glare': 8447, 'boister': 2686, 'armwrestl': 1532, 'willpow': 22142, 'firstplac': 7503, 'rawlin': 16361, 'albright': 916, 'monet': 13330, 'benniganslik': 2324, 'picki': 15291, 'steak': 19144, 'cabot': 3290, 'grandpar': 8654, 'expend': 7022, 'paycheck': 15026, 'brothersinlaw': 3069, 'herbivor': 9350, 'carnivorefre': 3528, 'landslid': 11420, 'renegadeser': 16673, 'huntsman': 9807, 'ravenna': 16358, 'snowwhit': 18644, 'saraset': 17464, 'danièl': 5161, 'delpeuch': 5439, 'mitterrand': 13253, 'ritzi': 16968, 'stryder': 19368, 'teamclay': 19945, 'roqu': 17121, 'cougar': 4720, 'aisha': 869, 'twosom': 20843, 'kenner': 11020, 'japaneseamerican': 10544, 'yoshida': 22473, 'gilkeson': 8371, 'multiplatinum': 13588, 'redman': 16498, 'sila': 18298, 'ivi': 10461, 'stride': 19339, 'sushi': 19629, 'orcaresearch': 14549, 'darken': 5183, 'pagan': 14786, 'analog': 1176, 'crackl': 4807, 'endlessli': 6635, 'monochrom': 13349, 'vista': 21650, 'static': 19125, 'spool': 18958, 'imprint': 10029, 'smurfett': 18596, 'astro': 1651, 'dekker': 5407, 'lorenz': 12020, 'disclos': 5753, 'truce': 20696, 'guesthous': 8829, 'byzantium': 3267, 'secretthey': 17746, 'deathli': 5286, 'sportsman': 18962, 'finni': 7471, 'nestrian': 13902, 'leah': 11569, 'grymp': 8808, 'oceango': 14310, 'squall': 19005, '2505': 350, 'dumbeddown': 6222, 'smartest': 18559, 'bex': 2399, 'em': 6534, 'selfi': 17817, 'warrioress': 21845, 'icecap': 9886, 'furya': 8023, 'betteruntil': 2391, 'collus': 4307, 'saban': 17288, 'grove': 8788, 'aokigahara': 1363, 'foothil': 7696, 'fuji': 7974, 'takumi': 19835, 'nakamura': 13707, 'pudgi': 16009, 'sunbath': 19503, 'bisexu': 2501, 'remorseless': 16654, 'nottoobright': 14188, 'postit': 15631, 'jacquin': 10498, 'manuela': 12460, 'dwell': 6276, 'barret': 2058, 'lizzi': 11896, 'finkel': 7467, 'longo': 11985, 'oedekerk': 14343, 'splice': 18941, 'nacho': 13694, 'libr': 11735, 'tormenta': 20445, 'friar': 7910, 'gutierrez': 8887, 'benitez': 2315, '23year': 335, 'luchador': 12116, 'patagonia': 14974, '212': 323, 'birdsey': 2490, 'mungo': 13604, 'jackpot': 10486, 'cera': 3719, 'hyp': 9847, 'drought': 6148, 'scarciti': 17559, 'animos': 1263, 'moe': 13290, 'survivalist': 19622, 'godfath': 8508, 'renter': 16687, 'yara': 22415, 'gambirasio': 8095, 'brembat': 2957, 'sopra': 18766, 'letizia': 11696, 'ruggeri': 17221, 'databas': 5215, 'northwestern': 14156, 'vaultcrack': 21446, 'bastil': 2103, 'callgirl': 3354, 'zoe': 22598, 'operativesdanni': 14512, 'exspeci': 7060, 'mentoragainst': 12908, 'mousewher': 13524, 'pumpkinhead': 16030, 'reddust': 16486, 'tamilynn': 19858, '245': 339, 'trioxin': 20655, 'crematorium': 4859, 'ember': 6549, 'flourish': 7636, 'flicker': 7599, 'whitlock': 22067, 'banyan': 2006, 'connolli': 4507, 'salti': 17385, 'treeclimb': 20600, 'lilith': 11803, 'teambuild': 19944, 'briar': 2976, 'largescal': 11455, 'normalci': 14138, 'hiddencamera': 9406, '30someth': 376, 'odonnel': 14340, 'doover': 5985, 'imboca': 9972, 'dagon': 5100, 'seaand': 17701, 'vig': 21581, 'dolbi': 5924, 'velvet': 21465, 'sanford': 17434, 'accolad': 617, 'barmaid': 2042, 'coyot': 4798, 'affection': 769, 'sao': 17452, 'blog': 2600, 'surfistinha': 19599, 'aleu': 943, '2022': 291, 'absolom': 591, 'discount': 5758, 'caulfield': 3642, 'adventuresom': 750, 'actionfantasi': 665, 'interplanetari': 10306, 'riker': 16927, 'deanna': 5280, 'troi': 20673, 'betaz': 2380, 'romulan': 17097, 'shinzon': 18145, 'humanback': 9756, 'freeforal': 7867, 'onenightstand': 14477, 'kokowääh': 11216, 'coq': 4639, 'vin': 21604, 'superfantozzi': 19540, 'navaron': 13793, 'sandich': 17426, 'businesslik': 3221, 'earthli': 6321, 'systemat': 19761, 'semiandroid': 17855, 'unisol': 21122, 'arkin': 1501, 'entrap': 6708, 'longoverdu': 11987, 'friendsjasmin': 7924, 'abu': 596, 'geniefac': 8241, 'waltzer': 21805, 'kabul': 10876, 'tanya': 19886, 'vanderpoel': 21406, 'shellshock': 18102, 'hoitz': 9552, 'garner': 8142, 'miri': 13181, 'cashflow': 3574, 'sinker': 18361, '30thbirthday': 378, 'dex': 5620, 'strahm': 19280, 'unchalleng': 20971, 'tore': 20440, 'sarmatian': 17472, 'hypothesi': 9865, 'nucleu': 14217, 'romanbritish': 17079, 'luciu': 12127, 'artoriu': 1576, 'castu': 3599, 'bidder': 2421, 'pta': 15995, 'neruda': 13887, 'parliamentari': 14919, 'gonzález': 8554, 'videla': 21563, 'óscar': 22645, 'peluchonneau': 15081, 'delia': 5418, 'carril': 3544, 'maquiladora': 12471, 'statesmexico': 19124, 'quantiti': 16100, 'lauren': 11516, 'bordertown': 2778, 'southbound': 18810, 'sweetaspi': 19684, 'homeown': 9586, 'stalinera': 19051, 'mgb': 12988, 'angelo': 1238, 'provolon': 15962, 'tomorrow': 20408, 'adrienn': 733, '10191': 16, 'arrakisth': 1546, 'melang': 12864, 'strannix': 19301, 'krill': 11264, 'battleship': 2128, 'ryback': 17272, 'arn': 1536, 'templar': 20014, 'penanc': 15087, 'shade': 18008, 'monthli': 13380, 'corddri': 4646, 'stepdad': 19171, 'barsoom': 2068, 'chernobyl': 3873, 'elain': 6440, 'annapoli': 1271, 'sabbat': 17289, 'boydesperado': 2861, 'morton': 13465, 'mordr': 13421, 'faa': 7111, 'undet': 21039, 'boogeyman': 2739, 'creaki': 4837, 'hallway': 8996, 'ipod': 10375, 'fm': 7661, 'slot': 18528, 'gigwork': 8364, 'fullfledg': 7985, '6b': 469, '2078': 312, 'selfrepl': 17836, 'screamer': 17668, 'chapman': 3785, 'crib': 4868, 'gillen': 8374, 'stacksadvis': 19033, 'advisormak': 758, 'thinlyveil': 20169, 'sunwillcomeouttomorrow': 19523, 'superspi': 19566, 'powerss': 15678, 'shagwel': 18016, '50th': 440, 'bfg': 2402, 'bonecrunch': 2721, 'bloodbottl': 2607, 'giantsrath': 8347, 'bfgshe': 2403, 'flushbunk': 7652, 'swollomp': 19716, 'chiddler': 3900, 'baster': 2100, 'magorium': 12292, 'emporiumth': 6598, 'bequeath': 2334, 'onceremark': 14457, 'emporium': 6597, 'boygeniu': 2863, 'dangerfil': 5152, 'tomorrowland': 20409, 'jetstream': 10645, 'exengland': 6957, 'meehan': 12832, 'rogul': 17061, 'metaphor': 12960, 'kork': 11238, 'spuck': 18985, 'schrotti': 17619, 'logger': 11938, 'romcom': 17090, 'nightmarea': 14009, 'comedyand': 4350, 'graviti': 8676, 'crowley': 4930, 'pomp': 15543, 'diseasea': 5771, 'stonehil': 19250, 'shove': 18210, 'jawbreak': 10564, 'choke': 3954, 'weeklong': 21945, 'counsel': 4728, 'galleria': 8079, 'dorinda': 6000, 'aqua': 1419, 'cheetah': 3855, 'strut': 19367, 'amiga': 1137, 'thatlik': 20117, 'georgewil': 8278, 'grandchild': 8641, 'pencil': 15089, 'mi7': 12992, 'jewelsand': 10654, 'watchth': 21871, 'newlydesign': 13950, 'soulsa': 18793, 'solipsist': 18703, 'musodecid': 13649, 'wellearn': 21969, 'guillermo': 8842, 'toro': 20451, 'françois': 7843, '60th': 456, 'margarita': 12498, 'apd': 1370, 'unworthi': 21257, 'mcgee': 12753, 'comicsinspir': 4358, 'lifeto': 11781, 'killedor': 11088, '2038': 302, 'almor': 1033, 'humanequival': 9758, 'costsb': 4713, 'eirik': 6430, 'jannick': 10538, 'ingunn': 10187, 'stillwel': 19222, 'chin': 3930, 'pipelin': 15361, 'newlyarriv': 13948, 'autonom': 1770, '19671976': 222, 'idri': 9917, 'elba': 6447, 'rahway': 16223, 'hayden': 9187, 'christensen': 3975, 'eali': 6303, 'attica': 1699, 'dillon': 5689, 'boogi': 2741, 'tugboat': 20744, 'toot': 20423, 'applese': 1401, 'peco': 15055, 'clap': 4069, 'newman': 13959, 'welldeserv': 21967, 'morti': 13461, 'loopi': 12008, 'bullit': 3151, 'riper': 16949, 'pamela': 14829, 'bornsvil': 2790, 'jinglewrit': 10680, 'blaxploit': 2563, 'hardscrabbl': 9098, 'lithuanian': 11872, 'satiat': 17488, 'sojourn': 18685, 'rainier': 16244, 'nm': 14062, 'chalic': 3750, 'crypt': 4958, 'roddi': 17046, 'flush': 7651, 'bowel': 2841, 'ratropoli': 16347, 'rodenth': 17049, 'weyland': 22020, 'adren': 723, 'lockeddown': 11919, 'napper': 13739, 'wreckag': 22329, 'witlessli': 22206, 'disembodi': 5773, 'exgovern': 6970, 'bali': 1950, 'tavern': 19926, '747': 483, 'inbound': 10052, 'mindi': 13135, 'adulteri': 739, 'riccion': 16880, 'valentino': 21374, 'salvo': 17393, 'montefort': 13371, 'diploma': 5713, 'lumier': 12156, 'cogsworth': 4256, 'directtovideo': 5724, 'fifi': 7422, 'kersey': 11044, 'umilak': 20929, 'corporatecontrol': 4674, 'rollerbal': 17072, 'ratingsdriven': 16343, 'hardtocrack': 9100, 'dina': 5699, 'clime': 4141, 'soninlawtob': 18747, 'reactiv': 16379, 'mª': 13680, 'candelaria': 3411, 'natalia': 13768, 'paraphilia': 14892, 'bushman': 3214, 'leviti': 11709, 'everevolv': 6871, 'backand': 1874, 'agentturnedstudio': 811, 'antiauthoritarian': 1303, 'josefin': 10762, 'preuss': 15787, 'macho': 12227, 'cem': 3696, 'öztürk': 22646, 'elya': 6530, 'mbarek': 12720, 'obdur': 14266, 'stieblich': 19205, 'metin': 12972, 'adnan': 716, 'maral': 12477, 'bink': 2466, 'sicklysweet': 18262, 'elasticband': 6443, 'underp': 21018, 'brea': 2929, 'lugo': 12144, 'musclemen': 13634, 'kershaw': 11045, 'monsterlik': 13363, 'drool': 6142, 'tinni': 20336, 'underwear': 21035, 'lowerclass': 12091, 'raul': 16353, 'unafford': 20935, 'gentrifi': 8264, 'cabrinigreen': 3294, 'stonebank': 19248, 'cofound': 4253, 'cabdriv': 3283, 'dugout': 6213, 'aisn': 871, 'stanhop': 19079, 'herbert': 9348, 'goodwil': 8569, 'regath': 16546, 'locker': 11920, 'adriana': 729, 'mezzogiorno': 12987, '142': 65, 'scariest': 17565, 'hairyfreckl': 8948, 'wedgielov': 21937, 'moldi': 13304, 'cooti': 4620, 'splitsecond': 18944, 'rogen': 17057, 'baruchel': 2077, 'ah': 836, 'wolfpack': 22227, 'carn': 3520, 'spunk': 18989, 'sass': 17480, 'newlyelect': 13953, 'perfectlychoreograph': 15139, 'mongo': 13336, 'onetim': 14483, 'breeder': 2953, 'exboss': 6927, '1809': 119, 'neuvil': 13921, 'headlong': 9208, 'frat': 7845, '140': 62, 'aquila': 1425, 'esca': 6780, 'hadrian': 8924, 'caledonia': 3337, 'emblem': 6552, 'santo': 17449, 'calabrian': 3327, 'submers': 19418, 'v8': 21349, 'ghostlight': 8332, 'stressedout': 19332, 'occultist': 14300, 'chucki': 3993, 'cantilini': 3436, 'sarchi': 17466, 'mendoza': 12898, 'selfappoint': 17793, 'watchmen': 21870, 'shear': 18080, 'mitt': 13252, 'mainfram': 12309, 'jobson': 10701, 'nerdowel': 13882, 'stamped': 19063, 'prizewin': 15845, 'humorist': 9780, 'moreau': 13424, 'schaltzmann': 17580, 'exsuperhero': 7065, 'callista': 3356, 'esteem': 6812, 'ezekiel': 7107, 'cheung': 3882, 'ashbi': 1595, 'prognosi': 15884, 'elois': 6511, 'heavier': 9250, 'dignitari': 5678, 'colton': 4328, 'wight': 22108, 'supersuck': 19574, 'wrangl': 22323, 'gummer': 8857, 'phrase': 15272, 'studiou': 19381, 'stifler': 19210, 'reliabl': 16619, 'scour': 17654, 'disproportion': 5821, 'kearney': 10988, 'oasi': 14262, 'deliver': 5427, 'ax': 1819, 'rescuechopp': 16740, 'cosm': 4700, 'valentín': 21375, 'elía': 6533, 'mathia': 12650, 'domicil': 5943, 'budg': 3120, 'viageran': 21542, 'pertain': 15183, 'resaleand': 16738, 'chloé': 3948, 'tiber': 20268, 'woodstock': 22267, 'generationdefin': 8229, 'lifeand': 11755, 'cultureforev': 4994, 'expoliceman': 7041, 'rollo': 17075, 'refurbish': 16538, 'hanov': 9053, 'salesgirl': 17365, 'dumpe': 6228, 'mandi': 12403, 'pinesc': 15344, 'álvaro': 22632, 'gemini': 8216, 'interconnect': 10287, 'oncedisgrac': 14451, 'papel': 14859, 'gonzalez': 8552, 'flightless': 7602, 'cheek': 3846, 'postraci': 15637, 'quintu': 16146, 'dia': 5627, 'pictish': 15297, 'virilu': 21634, 'pict': 15296, 'gorlacon': 8588, 'ramalot': 16259, 'kiernan': 11081, 'maladjust': 12342, 'orca': 14548, 'kinship': 11131, 'rae': 16205, 'lindley': 11831, 'dial': 5632, 'minivan': 13159, 'architectvigilant': 1463, 'olchin': 14401, 'minorityown': 13164, 'cyruss': 5071, 'kalina': 10900, 'freezer': 7882, 'bankruptci': 1998, 'demolitionist': 5464, 'voorhe': 21716, 'jarvi': 10557, 'mackenzi': 12231, 'abductor': 552, 'rushhour': 17248, 'fenderbend': 7360, 'fdr': 7303, 'manski': 12452, 'ouija': 14627, 'verónica': 21518, 'florist': 7630, 'premonit': 15739, 'pileup': 15328, 'safeor': 17327, 'lifeordeath': 11773, 'donner': 5966, 'workshop': 22286, 'geller': 8212, 'babyfac': 1858, 'copywrit': 4638, 'suntim': 19522, 'iway': 10466, 'scatter': 17570, 'undiscov': 21045, 'myrtl': 13669, 'blowout': 2629, 'deepseed': 5365, 'grizzli': 8764, 'karatekick': 10933, 'oafish': 14254, 'woodsman': 22266, 'leroy': 11677, 'ahkmenrah': 839, 'comedyhorror': 4352, 'peripher': 15148, 'zerocalcar': 22566, 'sometimesgirlfriend': 18727, 'woodru': 22263, 'floron': 7631, 'zoey': 22599, 'dogtrain': 5918, 'cureal': 5011, 'inconceiv': 10080, 'overprivileg': 14721, 'camden': 3372, 'reencount': 16515, 'globodyn': 8471, 'enronesqu': 6681, 'aki': 884, 'muldoon': 13571, 'guthri': 8886, 'lawmen': 11538, 'elat': 6445, 'terenc': 20051, 'wei': 21949, 'zedkov': 22552, 'coburn': 4212, 'threeyear': 20227, 'dillford': 5686, 'teenagerson': 19977, 'zombiehav': 22603, 'sevenmilewid': 17962, 'americanrussian': 1128, 'emilia': 6567, 'lawschool': 11542, 'elsi': 6521, 'zimmer': 22584, 'jérôme': 10869, 'sall': 17373, 'philo': 15250, 'beddo': 2209, 'easygo': 6333, 'truckdriv': 20698, 'barroom': 2064, 'brawler': 2921, '165pound': 98, 'screwbal': 17673, 'lovestori': 12082, 'preme': 15734, 'quench': 16121, 'skylark': 18446, 'rapaport': 16307, 'jongun': 10750, 'pyongyang': 16079, 'camu': 3401, 'twisp': 20832, 'sheeni': 18083, 'hyperact': 9851, 'onebedroom': 14465, 'asilo': 1607, 'bbq': 2157, 'weirdo': 21954, 'payoff': 15031, 'camper': 3394, 'regimen': 16555, 'gungho': 8863, 'windtalk': 22158, 'navajo': 13791, 'indecipher': 10098, 'breaker': 2937, 'kinderman': 11108, 'hallmark': 8987, 'newly18': 13946, 'faux': 7289, 'schoenaert': 17601, 'fienn': 7416, 'clobber': 4149, 'gunk': 8864, '49feet11inch': 425, 'ginormica': 8388, 'evita': 6904, 'duart': 6185, 'perón': 15191, 'widereleas': 22095, 'credibl': 4846, 'brix': 3027, 'collegescholarship': 4297, 'truant': 20695, 'hunkalici': 9798, 'cybercrim': 5051, 'kubrick': 11296, 'premis': 15737, 'plausibl': 15430, 'killick': 11093, 'welshman': 21987, 'adventuresmak': 749, 'societ': 18667, 'demur': 5475, 'billya': 2459, 'lockhart': 11921, 'straighten': 19286, 'conwoman': 4605, '800000': 498, 'sophia': 18761, 'arbu': 1438, 'artistri': 1575, 'griswald': 8757, 'strasser': 19304, 'gregg': 8706, 'ohara': 14381, 'safest': 17329, 'destabil': 5553, 'crunch': 4948, 'calhoun': 3340, 'thirdrat': 20173, 'snaki': 18604, 'outwardli': 14680, 'thornberri': 20191, 'unimpress': 21108, 'brag': 2881, 'oday': 14326, 'apulian': 1418, 'stowaway': 19278, 'liechtenstein': 11746, '1215': 43, 'magna': 12284, 'carta': 3552, 'semin': 17859, 'upheld': 21269, '99': 526, 'kao': 10922, 'tarttongu': 19903, 'handi': 9023, 'fatherland': 7270, 'inflex': 10170, 'clementi': 4118, 'jailor': 10511, 'succed': 19446, 'maxxx': 12698, 'orbison': 14545, 'pornograph': 15589, 'voicemail': 21690, 'thicken': 20160, 'snail': 18601, 'indi': 10110, 'sow': 18823, 'fever': 7395, 'mixedmarti': 13256, 'maaskantj': 12206, 'sexaddict': 17979, 'kida': 11073, 'embarrassingli': 6544, 'tennisrank': 20037, 'hogget': 9547, 'traction': 20517, 'natsworthi': 13782, 'clearanc': 4111, 'eben': 6341, 'unicycl': 21103, 'applaus': 1398, 'rainfal': 16241, 'helter': 9328, 'sextraffick': 17993, 'getrichquick': 8316, 'emmelin': 6576, 'taillard': 19809, 'vorm': 21718, 'legitimaci': 11624, 'efficaci': 6394, 'vlaminck': 21676, 'sensibl': 17884, 'quai': 16088, 'dorsay': 6008, 'allterrain': 1023, 'smokejump': 18578, 'homewher': 9596, 'freeand': 7861, 'vaccin': 21355, 'barley': 2041, 'lisbonbas': 11862, 'openmind': 14507, 'zooland': 22610, 'vh1': 21539, 'hippiech': 9492, 'mugatu': 13561, 'welldesign': 21968, 'matilda': 12656, 'ludo': 12136, 'mindhorn': 13134, 'statuesqu': 19131, 'gilberto': 8367, '50enn': 436, 'coinvolger': 4269, 'cosiddetta': 4699, 'speeddat': 18891, 'gara': 8123, 'cui': 4982, 'protagonisti': 15938, 'devono': 5611, 'trovar': 20692, 'minuti': 13171, 'arrestato': 1551, 'confessar': 4470, 'tutto': 20797, 'presenza': 15760, 'mogli': 13292, 'sbatt': 17538, 'fuori': 8011, 'rifugiatosi': 16911, 'scopr': 17640, 'miglior': 13063, 'comincia': 4360, 'tentar': 20043, 'avviar': 1798, 'nuov': 14230, 'relazioni': 16611, 'falliscono': 7174, 'tutt': 20795, 'bowfing': 2844, 'ramsey': 16276, 'platt': 15427, 'plantlik': 15415, 'wastelandwith': 21864, 'foreverchangedand': 7725, 'selfless': 17825, 'steppenwolf': 19182, 'parademon': 14870, 'lindsay': 11832, 'sox': 18826, 'rubbl': 17201, 'actionthril': 670, 'poisonga': 15505, 'gladli': 8438, 'gastronomi': 8160, '1492': 67, 'kerri': 11042, 'friendor': 7922, 'panamanian': 14837, 'onhold': 14491, 'aw': 1799, 'mala': 12339, 'terrian': 20067, 'limo': 11820, 'soughtaft': 18788, 'asbesto': 1583, 'summarili': 19491, 'slept': 18500, 'faceblind': 7126, 'newlydevelop': 13951, 'microchip': 13015, 'zorin': 22617, 'electromagnet': 6463, 'segment': 17772, 'inbetween': 10051, 'unchaperon': 20973, 'uninhibit': 21112, 'twoweek': 20845, 'boozefil': 2768, 'raunchi': 16354, 'liquid': 11857, 'seafar': 17704, 'roenick': 17055, 'berlinpari': 2350, 'softspoken': 18678, 'gridiron': 8728, 'moxon': 13538, 'secondstr': 17739, 'hayward': 9191, 'itun': 10457, 'farrow': 7241, 'jumper': 10832, 'boog': 2738, '900lb': 511, 'oneth': 14481, 'upbeat': 21262, 'abatantuono': 542, 'juventu': 10864, 'tirzan': 20347, 'milanes': 13081, 'donato': 5959, 'inter': 10283, 'rant': 16304, 'carsen': 3548, 'judson': 10810, 'volubili': 21708, 'teamsup': 19948, 'davenport': 5225, 'gedi': 8197, 'jomo': 10737, 'cannonbal': 3429, '55': 448, 'rode': 17047, 'larges': 11454, 'tentacl': 20042, 'kaian': 10886, 'outcastjoin': 14638, 'oishi': 14391, 'ithaca': 10454, 'breckin': 2949, 'blanchard': 2549, 'seann': 17715, 'suple': 19580, 'woodruff': 22264, 'ismail': 10436, 'atenton': 1664, 'libbi': 11728, 'tickingclock': 20276, 'matheson': 12649, 'buckley': 3111, 'metaphys': 12961, 'sceptic': 17579, 'sexuallycharg': 17996, 'toscani': 20462, 'aikido': 848, 'justiceexpert': 10859, 'thorough': 20196, 'bonecrush': 2722, 'mika': 13069, 'putin': 16071, 'scratch': 17665, 'hognob': 9549, 'cavemen': 3656, 'reboot': 16423, 'midhour': 13042, 'blockad': 2597, 'optimu': 14534, 'stadium': 19034, 'valentina': 21373, 'ukranian': 20896, 'odessa': 14332, 'motorcad': 13498, 'galveston': 8090, 'illadvis': 9940, '92': 516, 'miscalcul': 13195, 'bayen': 2144, 'lacroix': 11360, 'gant': 8119, 'cassi': 3584, 'termit': 20058, 'breathless': 2947, 'capric': 3457, 'outofshap': 14661, 'fishermen': 7515, 'rash': 16329, 'bythebook': 3265, 'bloodsuck': 2618, 'gracetown': 8618, 'sacha': 17300, 'glanc': 8445, 'complementari': 4412, 'agriindustri': 832, 'adm': 706, 'whitacr': 22060, 'pricefix': 15799, 'peggi': 15075, 'axeweild': 1822, 'lifeseen': 11777, 'krank': 11257, 'yuletid': 22509, 'boycott': 2859, 'omeara': 14437, 'paymon': 15029, 'armouri': 1529, 'clampett': 4064, 'mexicanu': 12983, 'rifletot': 16909, 'malinoi': 12364, 'borderland': 2776, 'grandmast': 8651, '92nd': 518, 'drax': 6092, 'moonrak': 13402, 'goodhead': 8559, 'jaw': 10563, 'amazonand': 1102, 'slogan': 18526, 'locust': 11928, 'petri': 15204, 'mayweath': 12711, 'stillgreen': 19216, 'mcdonagh': 12746, 'reciev': 16444, 'stingray': 19229, 'afloat': 781, 'flagship': 7547, 'epitom': 6736, 'nova': 14195, 'volcanologist': 21697, 'rumbl': 17230, 'burg': 3175, 'bromley': 3049, 'spectrum': 18886, 'planer': 15405, 'novella': 14200, 'reginald': 16559, 'decourci': 5342, 'newsman': 13961, 'chantal': 3775, 'woodward': 22268, 'cortina': 4691, 'dampezzo': 5137, 'billo': 2458, 'ivana': 10460, 'donaton': 5960, 'skynet': 18447, 'tx': 20848, 't1000': 19771, 'nowadult': 14205, '0s': 3, 'freder': 7857, 'hymntolif': 9845, 'jacobsen': 10490, 'spiegelman': 18916, 'lifedress': 11760, 'revengeh': 16825, 'cluesand': 4180, 'rove': 17178, 'devolv': 5609, 'justforkix': 10857, 'forgiven': 7733, 'theresa': 20147, 'brimston': 3008, 'mccann': 12730, 'doob': 5972, 'olga': 14416, 'irma': 10398, 'anticastro': 1306, 'vindic': 21609, 'jaeger': 10502, 'ppdc': 15681, 'brightest': 3000, 'kaiju': 10889, 'teapot': 19951, 'earhart': 6306, 'beardsley': 2171, 'salut': 17387, 'hug': 9747, 'resight': 16752, 'preppi': 15747, 'cali': 3341, 'whitecollar': 22063, 'mastiff': 12630, 'gino': 8387, 'felino': 7341, 'columbia': 4330, 'hallum': 8994, 'hallumhi': 8995, 'studentwho': 19378, 'lasombra': 11469, 'bodymodif': 2673, 'trautman': 20578, 'overeduc': 14701, 'underemploy': 21007, 'quarterlif': 16107, 'lag': 11371, 'volkswagen': 21701, 'beetl': 2224, 'lusti': 12176, 'krampu': 11255, 'nonbeliev': 14096, 'quickandeasi': 16128, 'kipp': 11136, 'uneas': 21054, 'buznik': 3253, 'chik': 3908, '701': 478, 'alia': 965, 'lucinda': 12125, 'assumpt': 1640, 'panama': 14836, 'tailor': 19810, 'buchannon': 3103, 'roz': 17195, 'surmis': 19605, 'womenonli': 22240, 'crandel': 4816, 'summerlong': 19494, 'downsid': 6048, 'realtor': 16399, 'tarami': 19894, 'dagoth': 5101, 'akiro': 888, 'zula': 22623, 'malak': 12344, 'swordandsorceri': 19720, 'substanti': 19429, 'vergingon50': 21494, 'nocommit': 14075, '21': 322, 'boulognesurm': 2817, 'canneri': 3423, 'guglielmo': 8831, 'gioia': 8393, 'mumbl': 13596, 'nieman': 13996, 'themistokl': 20131, 'mortalturnedgod': 13457, 'xerx': 22382, 'artemesia': 1561, 'limitless': 11818, 'stickel': 19202, 'chimera': 3926, 'magnitud': 12290, 'unschedul': 21203, 'shen': 18105, 'mold': 13303, 'pina': 15337, 'uga': 20882, 'silvani': 18307, 'glitzi': 8465, 'mecca': 12805, 'showgirlsla': 18219, 'tobia': 20367, 'eaton': 6338, 'flomm': 7617, 'robicheaux': 17009, 'iberia': 9879, 'balboni': 1941, 'coproduc': 4633, 'elrod': 6516, 'syke': 19736, 'atchafalaya': 1663, 'sali': 17370, 'jones': 10745, 'ultrasophist': 20917, 'pee': 15065, 'boyl': 2867, 'selfimprov': 17821, 'hypnotist': 9861, 'realmswher': 16397, 'dystop': 6289, 'omnipot': 14442, 'eckhart': 6350, 'doughnut': 6026, 'shipyard': 18152, 'luckiest': 12130, 'napa': 13732, 'gasmask': 8155, 'bushland': 3213, 'exparisian': 7013, 'wellheel': 21975, 'flaubert': 7572, 'boveri': 2838, 'antigovern': 1319, 'kopechn': 11234, 'dutchman': 6268, 'icbm': 9882, 'practis': 15684, 'offcampu': 14348, 'riotou': 16945, 'moneymak': 13334, '86yearold': 503, 'zisman': 22594, 'rowengartn': 17184, 'tendon': 20029, '103': 19, 'wrigley': 22342, 'homerun': 9589, 'outfield': 14645, 'bleacher': 2566, 'sorna': 18779, 'wayfar': 21894, 'mcbride': 12724, 'muchpublic': 13550, 'icesk': 9890, 'cadav': 3298, 'anatomist': 1191, 'kefi': 11000, 'garvey': 8152, 'foolishli': 7690, 'groundskeep': 8785, 'bushhi': 3212, 'faithand': 7164, 'villeneuv': 21602, '1740': 109, 'jeun': 10648, 'américain': 1170, '1760': 110, 'condens': 4457, 'cocteau': 4233, 'overshadow': 14730, 'fran': 7819, 'balder': 1945, 'sinja': 18358, 'bodhi': 2669, 'goner': 8550, 'im': 9965, 'joaquin': 10697, 'oscarnomine': 14597, 'pterano': 15996, 'dino': 5706, 'norri': 14142, 'maloney': 12373, 'geostorm': 8285, 'obtein': 14293, 'clementin': 4119, 'calai': 3328, 'yearli': 22427, 'presidentelect': 15764, 'waynestock': 21899, 'aerosmith': 764, 'megabab': 12843, 'horne': 9653, 'posttornado': 15639, 'glinda': 8461, 'mallow': 12369, 'tugg': 20745, 'downhil': 6041, 'mimi': 13118, 'inact': 10041, 'shannan': 18043, 'oildrink': 14385, 'oilproduct': 14387, 'zugor': 22622, 'obi': 14271, 'seperatist': 17901, 'duckl': 6199, 'businessfocus': 3220, 'copturnedcrimin': 4636, 'ling': 11839, 'highkick': 9424, 'contagion': 4558, 'calif': 3342, 'seminari': 17861, 'kovak': 11246, 'holiest': 9563, 'latura': 11497, 'ángel': 22633, 'millenni': 13103, 'mediadriven': 12818, 'milwauke': 13116, 'coop': 4617, 'remer': 16645, 'baseketbal': 2082, 'reconstructionera': 16469, 'surprisesth': 19609, 'funk': 8003, 'trejo': 20602, 'jubal': 10796, 'morita': 13438, 'enchantress': 6615, 'hondo': 9605, 'harrelson': 9124, 'montel': 13372, 'santi': 17446, 'phoeb': 15258, 'sleeper': 18490, 'actionhero': 666, 'teeter': 19982, 'gekko': 8207, 'tier': 20285, 'unjustifi': 21129, 'tucci': 20737, 'lazio': 11553, 'horvath': 9676, 'stutler': 19393, 'evercauti': 6865, 'vetter': 21535, 'exceedingli': 6933, 'nonambiti': 14095, 'cliché': 4129, 'kernel': 11039, 'jeani': 10581, 'stangl': 19078, 'craigslist': 4813, 'claviu': 4101, 'jerusalem': 10630, 'afresh': 785, 'olli': 14421, 'trink': 20652, 'defunct': 5392, 'twoyearold': 20847, 'penalti': 15086, 'mcnalli': 12773, 'sauru': 17504, 'longneck': 11984, 'sharptooth': 18069, 'lassolik': 11472, 'rue': 17214, 'lhumanit': 11720, 'coronaviru': 4671, 'constrict': 4544, 'hewitt': 9388, 'cavendish': 3657, 'tonto': 20417, 'ilk': 9938, 'heavens': 9248, 'eg': 6400, 'schram': 17618, 'arch': 1446, 'hardedg': 9086, 'moppet': 13412, 'patienc': 14987, 'husbandbut': 9819, 'tripp': 20660, 'gasguzzl': 8154, 'creech': 4850, 'newlydiscov': 13952, 'specul': 18887, 'uninfect': 21109, 'cannist': 3427, 'ooz': 14502, 'supersed': 19562, 'corgi': 4651, 'majesti': 12319, 'whodunit': 22075, 'carolyn': 3533, 'hype': 9849, 'imam': 9971, 'madwoman': 12268, 'entomb': 6704, 'shiv': 18158, 'faulti': 7281, 'manwithapast': 12464, 'striker': 19343, 'mow': 13534, 'pedestrian': 15060, 'cereal': 3723, 'thievesand': 20165, 'unsavouri': 21201, 'policeorchestr': 15524, 'ghanggheng': 8324, 'winnertakeal': 22165, 'highfrequ': 9423, 'fiberopt': 7402, 'marisa': 12527, 'senatori': 17870, 'boi': 2683, 'dogeatdog': 5910, 'franklyn': 7837, 'soﬁa': 18828, 'ﬁrst': 22648, 'marmont': 12553, 'passionless': 14961, 'sprous': 18982, 'kristofferson': 11273, 'huski': 9825, 'plummer': 15469, 'henderson': 9336, 'subterfug': 19432, 'krabbi': 11252, 'squidward': 19016, 'plankton': 15411, 'potlac': 15655, 'cupcak': 5006, 'hungrili': 9797, 'creeper': 4855, 'mj': 13265, 'powerlin': 15677, 'muffi': 13559, 'computercontrol': 4428, 'reader': 16382, 'loryn': 12028, 'locklin': 11922, 'uberta': 20875, 'appalachian': 1387, 'hiker': 9458, 'courseand': 4759, 'cetto': 3736, 'qualunqu': 16095, 'lest': 11688, 'horticulturalist': 9674, 'brontë': 3052, 'fauré': 7285, 'expir': 7030, 'allay': 987, 'hourlong': 9705, 'afghani': 776, 'polisci': 15529, 'reengag': 16516, 'hubi': 9738, 'mockeri': 13276, 'ednath': 6378, 'familygo': 7192, 'edna': 6377, 'parkour': 14916, 'greggori': 8708, 'reassess': 16411, 'continent': 4572, 'scrat': 17664, 'lymangood': 12189, 'courtesi': 4764, 'minimum': 13154, 'keeghan': 10993, 'lovelac': 12075, 'behest': 2247, 'coerciv': 4246, 'cujo': 4983, 'rabi': 16167, 'dooley': 5974, 'sexlif': 17988, 'damour': 5135, 'oreilli': 14560, 'loveconnect': 12069, 'highrol': 9443, 'cyberenhanc': 5052, 'wikileak': 22110, 'assang': 1622, 'domscheitberg': 5951, 'irrepar': 10406, 'omnipres': 14443, 'irina': 10394, 'arous': 1545, 'predatori': 15714, 'ronal': 17100, 'wuss': 22360, 'scrawni': 17666, 'volcazar': 21698, 'alibert': 966, 'butteri': 3244, 'zandra': 22535, 'shieldmaiden': 18124, 'metrosexu': 12977, 'elfin': 6478, 'houdini': 9700, 'antihippocrat': 1323, 'worldwhich': 22297, 'webcam': 21930, 'frequentfly': 7898, 'momenté': 13320, 'veneto': 21470, 'polesin': 15519, 'underconfid': 21003, 'salsa': 17383, 'underdevelop': 21005, 'crimeridden': 4876, 'neuilli': 13911, 'ruffian': 17215, 'godefroy': 8507, 'montmirail': 13384, 'guarantor': 8816, 'wifetob': 22106, 'jacquart': 10494, 'flanagan': 7559, 'coughlin': 4722, 'drinkmix': 6131, 'inwardfac': 10365, 'petro': 15206, 'heineken': 9290, 'breweri': 2971, 'guilder': 8839, 'lestat': 11689, 'lioncourt': 11849, 'arisen': 1491, 'akasha': 880, 'shall': 18027, 'lyra': 12198, 'belacqua': 2258, 'criminolog': 4878, 'villainscould': 21600, 'stanfordeduc': 19077, 'willowi': 22141, 'domino': 5950, 'archangel': 1450, 'overthehil': 14737, 'hormon': 9649, 'babycrazi': 1857, 'outdon': 14641, 'foodtruck': 7687, 'ghostwitch': 8334, 'boucher': 2813, 'showroom': 18222, 'calli': 3355, 'multicolor': 13579, 'sixtyyearold': 18402, 'adventurersurgeonrock': 748, 'buckaroo': 3107, 'banzai': 2007, '8th': 505, 'hakman': 8950, 'cuttersomeon': 5044, 'historiesbut': 9505, 'roughandtumbl': 17163, 'vengeanceand': 21473, 'zambezia': 22529, 'electrocut': 6461, 'jahrvi': 10508, 'burundi': 3203, '25foot': 353, 'ardent': 1470, 'inbr': 10053, 'stalwart': 19060, 'singin': 18350, 'dixi': 5874, 'waylon': 21897, 'photor': 15270, 'miniseri': 13156, 'evergreen': 6875, 'farmstead': 7231, 'touchesinclud': 20478, 'rediscoveri': 16496, 'halfstrip': 8972, 'wildebeest': 22116, 'ostrich': 14615, 'cockroach': 4225, 'fluid': 7646, 'roach': 16983, 'swarm': 19669, 'zelda': 22557, 'einstein': 6429, 'physicist': 15277, 'photojournalist': 15269, 'potgrow': 15652, 'pistoia': 15370, 'silverton': 18311, 'stormchas': 19267, 'dor': 5990, 'dreamt': 6106, 'despereaux': 5546, 'goodheart': 8560, 'roscuro': 17130, 'huckster': 9739, 'xoxo': 22392, 'frenet': 7893, 'dreamchas': 6098, 'fittest': 7524, 'duchovni': 6195, 'croydon': 4933, 'stealthfight': 19147, 'deakin': 5273, 'deakinss': 5274, 'hale': 8952, 'heelshir': 9275, 'brahm': 2883, 'westworld': 22012, 'delo': 5435, 'ballard': 1955, 'fernandez': 7371, 'brumder': 3078, 'fitzpatrick': 7528, 'exagger': 6919, '2028': 296, 'sprightli': 18973, 'sandwich': 17432, 'derringdo': 5524, 'weiss': 21955, 'dabo': 5087, 'heavymet': 9259, 'monaco': 13325, 'constrain': 4542, 'drudgeri': 6154, 'barnaba': 2044, 'collinwood': 4304, 'oncegrand': 14452, 'fourmemb': 7792, 'bryson': 3097, 'cogan': 4254, 'tollman': 20395, 'bouzol': 2835, 'tuch': 20738, 'handtomouth': 9035, 'sitter': 18380, 'knifewield': 11184, 'dignifi': 5677, 'donnelli': 5965, 'slowwit': 18537, 'leprechaun': 11674, 'prix': 15843, 'grift': 8736, 'palimoni': 14817, 'puritan': 16050, 'prynn': 15972, 'divulg': 5873, 'contempo': 4562, 'frenchmen': 7889, 'antillean': 1325, 'slaverythem': 18477, 'grain': 8636, 'nonviol': 14123, 'bleeb': 2570, 'sidetrack': 18273, 'screwey': 17674, 'batterypow': 2121, 'ticker': 20274, 'tortuou': 20460, 'endofsumm': 6636, 'maryk': 12595, 'corewhich': 4649, 'dicey': 5646, 'blackmailon': 2533, 'thad': 20100, 'killoff': 11095, 'precipit': 15704, 'succes': 19448, 'joyou': 10785, 'dreamdemon': 6099, 'slicingandd': 18506, 'springwood': 18978, 'ava': 1773, 'portlandbas': 15602, 'antitrust': 1335, 'fashionista': 7248, 'setter': 17954, 'hautecoutur': 9171, 'antitechnolog': 1332, 'costa': 4709, 'labrador': 11350, 'didier': 5656, 'dairi': 5108, 'skyhigh': 18443, 'relig': 16624, 'firefox': 7487, 'firststrik': 7505, 'weapona': 21918, 'undetect': 21040, 'radarth': 16189, 'exvietnam': 7096, 'graffititag': 8632, 'vest': 21523, 'amass': 1095, 'someoneor': 18723, 'somethingbegin': 18725, 'lieor': 11748, 'rocksteadi': 17041, 'krang': 11256, 'handov': 9030, 'mi5': 12990, 'worryfre': 22305, 'buyout': 3252, 'dagen': 5097, 'timeshar': 20315, 'curb': 5009, 'hedgefund': 9268, 'darnel': 5195, 'wringer': 22343, 'kilo': 11097, 'macmanu': 12236, 'k2': 10872, 'secondhighest': 17736, 'cavern': 3658, 'rescuer': 16741, 'toughoncrim': 20485, 'xrate': 22393, 'cayden': 3662, 'certifi': 3730, 'carolinian': 3532, 'sofía': 18680, 'foundfootag': 7783, 'shocker': 18167, 'mcfee': 12750, 'heali': 9219, 'coleman': 4282, 'slur': 18543, 'zuckerman': 22621, 'faunia': 7284, 'farley': 7226, 'shiwan': 18163, 'arnaldo': 1537, 'martina': 12581, 'federica': 7320, 'nardi': 13746, 'savor': 17521, 'bova': 2836, 'thirtyeightyear': 20180, 'superfici': 19541, 'edoardo': 6379, 'rosabel': 17125, 'laurenti': 11519, 'giallini': 8344, 'exrock': 7055, 'dobi': 5891, 'sevenhour': 17961, 'mordon': 13419, 'paititi': 14802, 'zane': 22536, 'ziminski': 22582, 'hitchcockian': 9511, 'towani': 20495, 'shuttlecraft': 18247, 'endor': 6637, 'jermitt': 10626, 'catarin': 3613, 'gorax': 8578, 'mace': 12217, 'cindel': 4017, 'ewok': 6913, 'deej': 5353, 'transmitt': 20556, 'blaster': 2560, 'fouryear': 7800, 'estaterel': 6811, 'necromanc': 13840, 'anchorwoman': 1198, 'smug': 18590, 'sociolog': 18669, 'oppressor': 14529, 'trialciti': 20623, 'sommerton': 18733, 'thunderbolt': 20253, 'langston': 11429, 'mattress': 12671, 'exposit': 7045, 'turbo': 20771, 'yamakasi': 22407, 'luc': 12111, 'traceur': 20513, 'minim': 13151, 'foe70': 7668, 'goldmemb': 8537, 'hirsch': 9499, 'bridea': 2984, 'jericho': 10624, 'cane': 3418, 'wellprotect': 21983, 'detritu': 5580, 'elixir': 6497, 'autoimmun': 1765, 'mckayla': 12762, 'sadi': 17315, 'deathobsess': 5288, 'carlisleth': 3511, 'rotat': 17153, 'andaft': 1201, 'returningw': 16809, 'flor': 7622, 'moreno': 13426, 'claski': 4081, 'welloff': 21982, 'fellowunw': 7347, 'duryea': 6260, 'gameonli': 8102, 'egan': 6401, 'aircondit': 858, 'cockpit': 4224, 'nervesand': 13891, 'wifebegin': 22103, 'wate': 21872, 'duchann': 6192, 'haul': 9166, 'lyn': 12190, 'cassadi': 3582, 'wotton': 22313, 'firth': 7508, 'onceprivileg': 14454, 'feffer': 7332, 'middleoftheroad': 13037, 'totallyoutther': 20470, 'josephin': 10764, 'manab': 12389, 'arawak': 1435, 'gon': 8546, 'tumbledown': 20754, 'rj': 16981, 'playdat': 15434, 'gobi': 8497, 'unproduct': 21174, 'c119': 3273, 'boxcar': 2851, 'consent': 4521, 'mimisiku': 13121, 'fourinchtal': 7790, 'normals': 14139, 'thread': 20208, 'scrap': 17660, 'ociou': 14314, 'begotten': 2238, 'hatcher': 9157, 'circul': 4035, 'loath': 11907, 'kruger': 11283, 'sovietsl': 18822, 'swordwield': 19729, 'spalkoar': 18846, 'friendand': 7918, 'colleagueprofessor': 4291, 'oxley': 14756, 'bettino': 2393, 'craxi': 4832, 'pharmacist': 15224, 'unpunish': 21178, 'masculin': 12603, 'chromatograph': 3985, 'matano': 12633, 'fara': 7216, '222': 329, 'fundrais': 7997, 'glitch': 8462, 'birdwatch': 2491, 'richardson': 16884, 'outshin': 14671, 'sympathis': 19746, 'revengeseek': 16826, 'rekal': 16600, 'mindtrip': 13138, 'cohaagen': 4257, 'ninjutsu': 14045, 'yoroi': 22472, 'bitsu': 2508, 'koga': 11211, 'trinian': 20650, 'welker': 21961, 'graboid': 8616, 'assblast': 1628, 'giantworm': 8348, 'artic': 1568, 'tanner': 19879, 'skyrocket': 18449, 'yanci': 22410, 'farrah': 7238, 'sleepov': 18494, 'nightlong': 14007, 'ong': 14489, 'bak': 1935, 'tien': 20284, 'khone': 11064, 'karma': 10944, 'wishbon': 22189, 'cephalonia': 3718, 'kefalonia': 10999, 'baja': 1933, 'fiftyyear': 7431, '10000000': 10, 'parisbas': 14910, 'ang': 1229, 'easiest': 6327, 'pennant': 15101, 'ocp': 14318, 'goddeliri': 8505, 'faxx': 7298, 'sheikh': 18095, 'fancier': 7203, 'stubbornli': 19373, 'deepsea': 5363, 'debug': 5306, 'gamechang': 8100, 'superstrong': 19573, 'carpathian': 3536, 'moat': 13269, 'gush': 8880, 'chatroom': 3827, 'cyberspac': 5055, 'analys': 1178, 'germanamerican': 8296, 'beerfest': 2220, '14th': 69, 'warf': 21824, 'batti': 2122, 'bridal': 2982, 'gownclad': 8612, 'tiffani': 20288, 'subdivis': 19410, 'fuego': 7967, 'bash': 2084, 'swankiest': 19665, 'milli': 13107, 'selfident': 17818, 'susann': 19626, 'bier': 2424, 'dim': 5690, 'allevi': 1001, 'angu': 1252, 'onlook': 14494, 'halfwild': 8977, 'paretta': 14908, 'roxburgh': 17188, 'esaala': 6778, 'teaminclud': 19946, 'rhi': 16862, 'wakefield': 21775, 'ioan': 10368, 'gruffuddar': 8802, 'unhatch': 21096, 'countryfolk': 4747, 'grover': 8789, 'furbal': 8013, 'serum': 17940, 'paparazzi': 14858, 'levasseur': 11703, 'preposter': 15746, 'passerbi': 14959, 'valet': 21380, 'banda': 1978, 'magliana': 12283, 'demonsex': 5468, 'duranddurand': 6251, 'renounc': 16681, 'ware': 21822, 'id': 9897, 'svelt': 19653, 'munez': 13603, 'gavin': 8183, 'roadway': 16989, 'pinnacl': 15351, 'aquatica': 1424, 'antrum': 1349, 'astound': 1648, 'unnatur': 21154, 'kaulder': 10975, 'nondescript': 14100, 'kristi': 11270, 'horni': 9656, 'adna': 715, 'marriedto': 12565, 'gangrap': 8116, 'psychosi': 15990, 'unannounc': 20940, 'rivet': 16976, 'alesia': 938, 'nebula': 13832, 'faberg': 7115, 'nastya': 13764, 'thinner': 20170, 'hex': 9390, 'ilsa': 9963, 'downspir': 6050, 'fior': 7476, 'paediatrician': 14784, 'warharden': 21826, 'moorish': 13408, 'firstyear': 7507, 'uncheck': 20975, 'metropoliss': 12975, 'pep': 15115, 'streebeck': 19316, 'deput': 5514, 'vasquez': 21435, 'arti': 1567, 'venzuela': 21482, 'alfi': 956, 'deniabl': 5478, 'highrisk': 9442, 'galifianaki': 8073, 'ferrel': 7378, 'fern': 7368, 'upload': 21274, 'payabl': 15024, 'simmonshow': 18323, 'loversa': 12080, 'hiddenand': 9405, 'philippin': 15245, 'upand': 21260, 'overzeal': 14746, 'indianapoli': 10114, 'portokalo': 15605, 'modesti': 13286, 'futureworld': 8029, 'selfmutil': 17830, 'demograph': 5461, 'samuraiswordwield': 17412, 'cobra': 4211, 'krees': 11260, 'bigalow': 2428, 'ﬁght': 22647, 'loosen': 12011, 'bazooka': 2151, 'rappeur': 16317, 'blingbl': 2584, 'fait': 7162, 'personnag': 15178, 'créé': 4967, 'michaël': 13000, 'youn': 22477, 'showtélé': 18224, 'pui': 16016, 'développé': 6297, 'lalbum': 11385, 'ta': 19773, 'vendu': 21468, 'exemplair': 6954, 'racont': 16185, 'que': 16115, 'serait': 17913, 'devenu': 5594, 'sil': 18297, 'avait': 1775, 'est': 6808, 'désormai': 6295, 'une': 21051, 'énorm': 22641, 'dizain': 5876, 'musiqu': 13646, 'meilleur': 12856, 'lanné': 11435, 'lign': 11794, 'vêtement': 21745, 'prochain': 15861, 'louvertur': 12060, 'propr': 15926, 'parc': 14899, 'dattract': 5219, 'fataland': 7262, 'n1': 13689, 'incontesté': 10087, 'caccia': 3295, 'oakton': 14261, 'squirrel': 19020, 'lockout': 11923, '1906': 164, 'labyrinthin': 11352, 'syd': 19734, 'virus': 21641, 'geist': 8206, 'rabid': 16168, 'teensi': 19980, 'misguis': 13211, 'reconqu': 16466, 'iphon': 10373, 'minervini': 13142, 'smother': 18587, 'motherli': 13489, 'unsolicit': 21214, 'watchdog': 21867, 'squeakyclean': 19012, 'smoochi': 18583, 'puffi': 16012, 'fuscia': 8024, 'rhinocero': 16865, 'cruiser': 4945, 'goodal': 8557, 'visibl': 21643, 'slovakian': 18531, 'norval': 14158, 'oceanfront': 14309, 'beforehand': 2229, 'ois': 14390, 'immortalis': 9988, 'anarchi': 1184, 'weeka': 21942, 'crowhurst': 4929, 'circumnavig': 4036, 'stopov': 19260, 'munch': 13598, 'encod': 6618, 'hollywoodset': 9571, 'theseu': 20151, 'hyperion': 9855, 'sleepwalk': 18495, 'lifeforc': 11762, 'robertson': 17007, 'attaché': 1689, 'centerfield': 3709, 'rayburn': 16365, 'renard': 16662, 'mire': 13180, 'glorynot': 8479, 'naomi': 13729, 'mediasavvi': 12820, 'flem': 7587, 'mediana': 12819, 'fdni': 7302, 'jordi': 10757, 'crockett': 4892, 'ricardo': 16877, 'tubb': 20734, 'chinesecuban': 3936, 'mobcontrol': 13271, 'sleepless': 18493, 'tecom': 19969, 'peddl': 15059, 'ranjan': 16299, 'shanti': 18045, 'buzzer': 3255, 'frieland': 7916, 'subvert': 19442, 'xander': 22376, 'yorgi': 22466, 'attentioncrav': 1696, 'mostdanger': 13475, 'lino': 11845, 'caiu': 3321, 'martiu': 12585, 'coriolanu': 4655, 'consul': 4551, 'expuls': 7053, 'tullu': 20752, 'aufidiu': 1723, 'mangrov': 12415, 'macedonia': 12218, 'popper': 15573, 'lifeuntil': 11783, 'upsidedown': 21293, 'wetherhold': 22014, 'selfpossess': 17832, 'flummox': 7647, 'fitcher': 7523, 'polaroid': 15516, 'britaininfect': 3017, 'stillquarantin': 19220, 'governmentbuilt': 8608, 'sculptress': 17693, 'transpir': 20558, 'longstand': 11993, 'terrestri': 20065, 'armourpl': 1530, 'brightli': 3001, 'wore': 22279, 'medallion': 12811, 'guttman': 8890, 'bornagain': 2788, 'badboy': 1901, 'whorehous': 22084, 'thousandyearold': 20204, 'televangelist': 20000, 'bernand': 2354, 'fréderic': 7962, 'mediocr': 12826, 'cede': 3677, 'wither': 22200, 'mcquarri': 12780, 'bose': 2794, 'piranha': 15366, 'angeleno': 1232, 'sputter': 18995, 'gradeschool': 8626, 'campi': 3396, 'funhous': 8002, 'dubai': 6187, 'mattia': 12669, 'highfashion': 9421, 'winch': 22149, 'burmes': 3189, 'halsey': 8998, 'welbach': 21956, 'bagman': 1923, 'taxdodg': 19929, 'wideopen': 22094, 'fissur': 7520, 'digg': 5668, 'pedophil': 15063, '20gaug': 316, 'stayathom': 19138, 'corentin': 4648, 'bagnolet': 1924, 'daytona': 5245, 'pend': 15090, 'karaok': 10931, 'nearimposs': 13825, 'flown': 7639, 'rhett': 16861, 'frenemi': 7892, 'spacefreight': 18834, 'kassandra': 10952, 'amalgam': 1083, 'rutherford': 17263, 'dessert': 5552, 'boisset': 2685, 'versa': 21512, 'belli': 2284, 'incurs': 10096, 'limp': 11822, 'personnel': 15179, 'tribeca': 20627, 'grandkid': 8649, 'typea': 20856, '21stcenturi': 326, 'goodluck': 8563, 'tryst': 20723, 'lifeend': 11761, 'computerless': 4430, 'firstgener': 7499, 'tricia': 20633, 'absentia': 588, 'triciaand': 20634, 'madea': 12249, 'loveand': 12066, 'girlturnedactress': 8411, 'sim': 18314, 'walken': 21787, 'edwardss': 6385, '707': 479, 'athen': 1666, 'cautious': 3648, 'handtohand': 9034, 'threeperson': 20221, 'weeni': 21946, 'mcneiv': 12775, 'nonsmokercatlovingamazingcookperfectmansoulm': 14119, 'refrain': 16533, 'gallerist': 8080, 'temblor': 20006, 'claus': 4099, 'frontrunn': 7949, 'charisma': 3798, '1836': 128, 'tejano': 19987, 'alamo': 902, 'sardo': 17469, 'numspa': 14227, 'priestess': 15806, 'kee': 10992, 'nang': 13723, 'jarrel': 10555, 'solicit': 18698, 'risktak': 16962, 'paternalist': 14981, 'cropdust': 4906, 'wheeler': 22034, 'itll': 10456, 'messier': 12952, 'pyramid': 16080, 'verneuil': 21503, 'rachid': 16177, 'vincenzo': 21607, '1aughter': 261, 'taranto': 19896, 'puglia': 16014, 'teiji': 19986, 'bat': 2105, '1932': 184, 'benigni': 2314, 'collodi': 4306, 'familyori': 7195, 'spook': 18956, 'wilmot': 22144, 'drank': 6086, 'debauch': 5295, 'posthum': 15630, 'historyand': 9506, 'menu': 12911, 'arboria': 1437, 'wonʼt': 22250, 'eisenhowerera': 6432, 'kemp': 11009, 'lotterman': 12036, 'rumsoak': 17235, 'klieg': 11170, 'borderlin': 2777, 'mega': 12842, 'macarthur': 12212, 'boarden': 2653, 'streetfight': 19319, 'pulovski': 16021, 'newbi': 13935, 'existedth': 6987, 'nightstalk': 14012, 'himth': 9476, 'mortvil': 13467, 'titicaca': 20352, 'aquarela': 1421, 'brasil': 2907, 'carioca': 3503, 'fulvio': 7991, 'weep': 21947, 'envoy': 6725, 'verac': 21484, 'rosewood': 17139, 'quebec': 16116, 'rebrand': 16426, 'lewinski': 11712, 'exinvestig': 6984, 'spanishborn': 18852, 'kayle': 10980, 'schiffer': 17585, 'playmat': 15440, 'dough': 6024, 'uhoh': 20891, 'cadburi': 3299, 'garret': 8144, 'takedown': 19824, 'waveafterwav': 21886, 'suburbicon': 19440, 'nica': 13979, 'romanticallyengag': 17087, 'caldwel': 3334, 'disagr': 5730, 'jurisdict': 10854, 'coddl': 4236, 'brockden': 3037, 'indoor': 10133, 'gnomeo': 8490, 'flamingo': 7557, 'philanthropist': 15240, 'croc': 4891, 'animalsand': 1258, 'kristen': 11269, '6thcenturi': 472, 'scandinavian': 17551, 'beowulf': 2333, 'manlik': 12433, 'grendel': 8714, '1650': 97, 'biggam': 2434, 'extradit': 7080, 'dart': 5201, 'b17': 1841, 'cloister': 4153, 'belgianfrench': 2266, 'camgirl': 3382, 'bailskipp': 1930, 'wannabeboyfriend': 21812, 'treasureladen': 20594, 'driftwood': 6126, 'sharkinfest': 18057, 'empor': 6596, 'fiendishli': 7415, 'omnicorp': 14441, 'partman': 14942, 'partrobot': 14947, 'sharehold': 18055, 'goodhu': 8561, 'malco': 12349, 'pillar': 15333, 'tripper': 20661, 'northstar': 14153, 'mohawk': 13299, 'bulgaria': 3142, 'biarritz': 2410, 'louna': 12056, 'eighteenyearold': 6420, 'hoov': 9631, 'harmlesslook': 9116, 'falter': 7179, 'amaranta': 1091, 'xiang': 22384, 'funnyman': 8009, 'simmon': 18322, 'thoroughbr': 20197, 'djibi': 5881, 'threeplay': 20222, '400000': 405, 'tar': 19891, 'environmentalist': 6722, 'nsw': 14214, 'recycl': 16483, 'litr': 11874, 'technichian': 19959, 'reggio': 16552, 'youssouf': 22489, 'turk': 20776, 'empathet': 6587, 'benign': 2313, 'fioravant': 7477, 'cashstrap': 3576, 'crosscurr': 4913, 'voiceid': 21688, 'landa': 11405, 'uprisingin': 21285, 'lultimo': 12153, 'bacio': 1871, 'instor': 10261, 'ceaser': 3669, 'modesto': 13287, 'jackolantern': 10485, 'windowsil': 22155, 'innocentlook': 10218, 'gourd': 8603, 'settecamini': 17953, 'squadra': 19002, 'resound': 16761, 'totenkopf': 20472, 'abuzz': 599, 'roark': 16993, 'resettl': 16748, 'ural': 21302, 'dyatlov': 6280, 'farva': 7243, 'simkin': 18319, 'camilla': 3384, 'coastlin': 4203, 'untrac': 21238, 'robberyhomicid': 17000, 'luthan': 12178, 'enquiri': 6674, 'hostel': 9682, 'tuesday': 20742, 'cruso': 4952, 'indiscret': 10123, 'meryl': 12941, 'streep': 19317, 'rendazzo': 16665, 'restructur': 16780, 'eren': 6753, 'shikishima': 18135, 'armin': 1524, 'hare': 9103, 'ramraid': 16274, 'potsdam': 15657, 'beli': 2269, 'breakingup': 2940, 'confidant': 4474, 'empow': 6599, 'allig': 1010, 'gargamel': 8135, 'smurflik': 18597, 'smurfess': 18595, 'world¹': 22299, 'vaniti': 21417, 'vexi': 21537, 'hacku': 8918, 'recentlyfre': 16437, '32': 383, 'stoney': 19253, 'longfrozen': 11974, 'primev': 15815, 'thawedout': 20120, 'linka': 11844, 'himquickli': 9474, 'palomino': 14824, '18month': 153, 'cygnu': 5062, 'trent': 20614, 'pmu': 15481, 'ultrarealist': 20914, 'spinechil': 18928, 'momma': 13321, 'rubel': 17202, 'varnick': 21433, 'marla': 12545, 'mabrey': 12208, 'forb': 7703, 'methodist': 12970, 'whatsoev': 22029, 'lamarca': 11389, 'kaminski': 10906, 'patrovina': 14999, 'therapeut': 20140, 'chihuahua': 3907, 'papi': 14862, 'nichol': 13982, 'mindblow': 13131, 'vigilantehero': 21583, 'overeag': 14700, 'russoti': 17254, 'jacq': 10492, 'vaucan': 21441, 'roc': 17020, 'chipmunk': 3941, 'federico': 7321, 'picchioni': 15287, 'helmsley': 9320, 'geophys': 8273, 'crust': 4953, 'fraction': 7808, 'trainload': 20535, 'brothera': 3064, 'coptri': 4635, 'jaga': 10504, 'bada': 1896, 'goten': 8595, 'tenth': 20044, 'actionadventur': 663, 'canni': 3424, 'monogami': 13351, 'commitmentphob': 4380, 'familyinlaw': 7193, 'johanna': 10718, 'schnitzler': 17600, 'rond': 17103, 'meirel': 12858, '360': 391, 'roundelay': 17170, 'bratislava': 2910, 'masquerad': 12608, 'cdc': 3665, 'akim': 886, 'judiciari': 10808, 'skirtchas': 18435, 'malta': 12378, 'bunk': 3166, 'outoftheway': 14662, 'mori': 13433, 'shintaro': 18144, 'waterboard': 21874, 'giada': 8343, 'forearm': 7711, 'overview': 14742, 'trickedout': 20636, 'grodd': 8767, 'lukewarm': 12150, 'almodóvar': 1032, 'talentless': 19840, 'ercol': 6751, 'preziosi': 15796, 'toulon': 20487, 'marionett': 12525, 'starski': 19107, 'laidback': 11376, 'hutchinson': 9834, 'huggi': 9749, 'feldman': 7338, 'dren': 6113, 'humanchimera': 9757, 'stanfield': 19075, 'frugal': 7956, 'moneylaund': 13332, 'the1946': 20122, 'churn': 4002, 'bilko': 2451, 'sorriest': 18783, 'parch': 14901, 'chiara': 3892, 'waterway': 21880, 'christman': 3982, 'ie': 9919, 'castellab': 3593, 'matta': 12663, 'princeton': 15824, 'bower': 2843, 'hydroelectr': 9842, 'ibiza': 9880, 'dab': 5084, 'farmhand': 7229, 'legendand': 11617, 'entebb': 6690, '248': 342, 'mindalt': 13129, 'countercultur': 4734, 'banshe': 2004, 'campsit': 3398, 'denniss': 5487, 'switchblad': 19711, 'boutwel': 2834, 'franni': 7839, 'ramshackl': 16277, 'propertyand': 15919, 'shepherson': 18112, 'geari': 8194, 'shepherdson': 18111, 'juni': 10840, 'gregorio': 8710, 'cortez': 4689, 'folklor': 7676, 'repli': 16709, 'coalit': 4196, 'fatheran': 7266, 'admiralexpect': 710, 'nightfal': 14004, 'swampi': 19661, 'fagn': 7148, 'lièg': 11897, 'chap': 3781, 'highprotein': 9439, 'cumbersom': 4997, 'remix': 16650, 'crosscultur': 4912, 'nev': 13922, 'keenen': 10995, 'wayanss': 21893, 'covington': 4784, 'gunrun': 8871, 'ryack': 17270, 'opium': 14518, 'unathlet': 20946, 'hypercompetit': 9853, 'interlud': 10298, 'maltazard': 12379, 'wherev': 22043, 'selenia': 17789, 'betamech': 2379, 'pipework': 15363, 'darko': 5189, 'montelli': 13373, 'amityvil': 1145, 'adamski': 683, 'takano': 19821, 'sadako': 17309, 'yoichi': 22453, 'riskmanag': 16961, 'bayou': 2147, 'lenkov': 11652, 'teencomedi': 19978, 'semesterlong': 17854, 'ransack': 16302, 'wildston': 22123, 'sarmiento': 17473, 'conven': 4591, 'notari': 14171, 'nextgener': 13969, 'destro': 5557, 'censustak': 3703, '436': 415, 'torresecca': 20457, 'postitalian': 15632, 'monnier': 13348, 'sorini': 18778, 'morphin': 13448, 'portion': 15600, 'dawg': 5233, 'brandi': 2899, 'klark': 11163, 'bratz': 2913, 'bitterandtwist': 2511, 'unnerv': 21157, 'lundgren': 12168, 'parod': 14922, 'minda': 13128, 'steyn': 19200, 'kinney': 11127, 'geneticist': 8234, 'bespectacl': 2370, 'sendup': 17873, '25yearold': 356, 'dwayn': 6274, 'mclaren': 12767, 'kisha': 11145, 'foundfootagedocumentari': 7784, 'jewelleri': 10652, 'slicktalk': 18508, 'slamdunk': 18461, 'nimbu': 14029, 'shakari': 18019, 'curmudgeon': 5018, 'mauri': 12680, 'darren': 5197, 'cirqu': 4041, 'blister': 2587, 'norrisfollow': 14143, 'thrace': 20205, 'thirsti': 20175, 'exmilitari': 6998, 'raja': 16250, '88': 504, 'mariano': 12510, 'anghiari': 1243, 'lonett': 11956, 'deepwild': 5368, 'warwickshir': 21853, 'ayr': 1829, 'ayres': 1830, 'docil': 5893, 'leezak': 11603, 'mcnerney': 12776, 'mauser': 12683, 'lassard': 11471, 'wateri': 21878, 'bovari': 2837, 'snowbel': 18626, 'regress': 16562, 'tunney': 20766, 'horrid': 9659, 'cueva': 4981, 'garfagnana': 8133, '1347': 56, 'masseto': 12613, 'vindict': 21610, 'alessandra': 939, 'ginevra': 8383, 'alc': 919, 'exlawman': 6991, 'antiterror': 1333, 'byer': 3261, 'roland': 17065, 'mccormack': 12740, 'eightleg': 6423, 'samara': 17398, 'cultist': 4991, 'edvard': 6382, '18wheeler': 156, 'geophysicist': 8274, 'litig': 11873, 'nickl': 13987, 'thade': 20102, 'formersoldierturnedsecretserviceag': 7745, 'ewan': 6911, 'semtex': 17866, 'spymast': 18998, 'georgett': 8277, '1980sera': 236, 'downpour': 6046, '2021': 290, 'exce': 6931, 'limitsand': 11819, 'timebut': 20309, '400yearold': 409, 'halfl': 8969, 'entrylevel': 6715, 'priceh': 15800, 'radicallychang': 16193, 'beingbeaten': 2255, 'andhelpless': 1208, 'angerconvert': 1241, 'dehumanis': 5400, 'matild': 12655, 'isaac': 10418, 'gatlin': 8167, 'nerteaux': 13886, 'heym': 9395, 'olavinho': 14400, 'spender': 18901, 'brizzi': 3029, 'coproduct': 4634, 'rai': 16224, 'realest': 16387, 'manero': 12409, 'divatox': 5858, 'maligor': 12362, 'muranthia': 13613, 'lerigot': 11675, 'zord': 22616, 'multiplay': 13589, 'massscal': 12619, 'kabl': 10875, 'colson': 4324, 'ironwork': 10403, 'upstart': 21297, 'prisonand': 15836, 'priello': 15804, 'ultraskil': 20916, 'curriculum': 5024, 'meritocraci': 12927, 'justcrazyenoughtowork': 10856, 'brewer': 2970, 'perrini': 15166, 'marybeth': 12594, 'voodoo': 21715, 'lifelin': 11769, 'caress': 3496, 'girlnextdoor': 8410, 'supertaxi': 19575, 'xfile': 22383, 'sandhoff': 17424, 'drummi': 6173, 'banan': 1975, 'swin': 19699, 'arkansasbas': 1499, 'playmobil': 15441, 'chipett': 3940, 'wakess': 21777, 'nel': 13862, 'coxman': 4797, 'snowplow': 18641, 'intuit': 10338, 'capa': 3443, 'bachelorett': 1867, '5year': 451, 'haircut': 8941, '28yearold': 366, 'lindsaytwo': 11833, 'emotionallybroken': 6585, 'strangersmeet': 19295, 'categori': 3619, 'krugen': 11282, 'patent': 14978, 'outright': 14668, 'renzo': 16689, 'restraint': 16776, 'reenact': 16514, 'dungeon': 6237, 'dragonslik': 6077, 'prop': 15912, 'spellbook': 18898, 'grimoir': 8746, 'quieter': 16136, 'longimprison': 11980, 'krono': 11278, 'roper': 17120, 'againstaft': 798, 'storethreaten': 19263, 'xayid': 22379, 'hotti': 9698, 'overh': 14706, 'cabrel': 3291, 'scrabbl': 17657, 'eject': 6434, 'retro': 16806, 'cabbieturnedchauffeur': 3282, 'tuxedo': 20801, 'tux': 20800, 'sailboat': 17340, 'disbeliev': 5745, 'tudeski': 20741, 'purport': 16055, 'pistolpack': 15372, 'cocainesnort': 4216, 'mingu': 13146, 'jovial': 10781, 'motormouth': 13505, 'houseguest': 9712, 'lani': 11431, 'kerrigan': 11043, 'fluff': 7643, 'sibyl': 18255, 'sauna': 17501, '247f': 341, 'cradl': 4809, 'verena': 21492, 'eternia': 6824, 'skeletor': 18415, 'grayskul': 8679, 'locksmith': 11924, 'gwildor': 8899, 'tvchannel': 20804, 'redhair': 16492, 'druginduc': 6162, 'morrissey': 13451, 'bellhop': 2283, 'joband': 10699, 'sanatorium': 17414, 'blackbird': 2524, 'claridg': 4076, 'tolduntil': 20390, 'nerveshred': 13893, 'boogeymen': 2740, 'campground': 3395, 'winstead': 22170, 'zeta': 22568, 'phi': 15234, 'iota': 10370, 'slaveown': 18474, 'selflessli': 17826, 'uninvolv': 21119, 'ciobanu': 4029, 'sugeo': 19466, 'marronni': 12567, 'decri': 5347, 'bourgoin': 2831, 'proust': 15950, 'authorturneddirector': 1754, 'beigbed': 2252, 'notabl': 14170, 'promqueen': 15908, 'humanitari': 9761, 'squawk': 19011, 'misbehav': 13194, '12foot': 45, 'petrifi': 15205, 'hairstylist': 8947, 'zohan': 22600, 'headtohead': 9214, 'ringliter': 16938, 'finnegan': 7470, 'dowri': 6059, 'goldhi': 8535, 'mentorturnedenemi': 12910, 'hangman': 9041, 'raison': 16247, 'hallyday': 8997, 'pluggingaway': 15466, 'honestli': 9611, 'beguil': 2240, 'balbrick': 1942, 'flavel': 7574, 'trove': 20693, 'serbia': 17914, 'melchior': 12867, 'bethlehem': 2384, 'macha': 12221, 'gamblingaddict': 8098, 'latham': 11483, 'stoog': 19255, 'pinhead': 15346, 'snell': 18616, 'nv': 14240, 'haig': 8934, 'undergradu': 21012, 'sexfuel': 17983, 'bobcat': 2661, 'bucki': 3109, 'bleichert': 2572, 'boxersturnedcop': 2854, 'narciss': 13740, 'stag': 19038, 'eyjafjallajökul': 7105, 'jeopardis': 10620, 'sinclair': 18341, 'lefevr': 11605, 'steinkampf': 19164, 'mackintosh': 12232, 'rosetti': 17138, 'cairn': 3318, 'earthdwel': 6318, 'corley': 4659, 'dispel': 5811, 'sweetzer': 19688, 'wearer': 21921, 'jellyston': 10606, 'yogi': 22451, 'booboo': 2736, 'delug': 5443, 'feinston': 7335, 'dentistri': 5493, 'hurdl': 9809, '53': 445, 'freewheelin': 7880, 'kampenfelt': 10908, 'imper': 10000, 'coltan': 4326, 'survey': 19620, 'fring': 7934, 'sinkhol': 18362, 'johansen': 10719, 'payday': 15027, 'vegasstyl': 21452, 'bacchan': 1864, 'inhibit': 10191, 'passon': 14964, 'themselvesar': 20133, 'vanston': 21421, 'zenotek': 22561, 'lasagna': 11465, 'jon': 10738, 'odi': 14334, 'buffoon': 3128, 'careerboost': 3486, 'diorama': 5711, 'spacemen': 18836, 'skyshockingli': 18451, 'brainard': 2886, 'weebo': 21939, 'medfield': 12815, 'flubber': 7642, 'cellmat': 3694, 'tremend': 20606, 'ornament': 14579, 'hutting': 9836, 'sedat': 17752, 'countryclub': 4746, 'klump': 11174, 'calorif': 3363, 'purti': 16062, 'whittl': 22070, '400pound': 408, 'swig': 19695, 'fatreduc': 7277, 'pumpedup': 16028, 'coaster': 4201, 'inpos': 10224, 'agencyto': 807, 'vitoriagasteiz': 21657, 'unai': 20937, 'lópez': 12203, 'ayala': 1823, 'breadwinn': 2934, 'sereni': 17920, 'panetton': 14845, 'spectat': 18882, 'bm': 2646, 'boozeandsloot': 2767, 'fest': 7386, 'thadland': 20103, 'problemat': 15854, 'dissent': 5830, 'deveraux': 5595, 'rearm': 16407, 'cooz': 4622, 'dwight': 6278, 'choptop': 3960, 'vanita': 21416, 'enright': 6678, 'wifebusi': 22104, 'gracey': 8619, 'pemberton': 15082, 'timber': 20306, 'rattlesnak': 16350, 'trickortr': 20640, 'naïma': 13805, 'upward': 21301, 'dodo': 5906, 'clamber': 4062, 'ty': 20849, 'moncrief': 13329, 'nessip': 13899, 'crossmann': 4919, 'orin': 14572, 'ruffl': 17216, 'latrel': 11493, 'makani': 12325, 'pelagatti': 15078, 'merlino': 12930, 'coincoin': 4268, 'irradi': 10404, 'iguana': 9926, 'niko': 14022, 'tatopoulo': 19916, 'conclud': 4451, 'vancouv': 21403, 'gautier': 8180, 'breacher': 2931, 'wharton': 22026, 'norma': 14136, 'turaqistan': 20769, 'tamerlan': 19856, 'gobbl': 8496, 'seep': 17769, 'cobain': 4207, 'illustri': 9960, 'frack': 7807, 'councilman': 4727, 'charmain': 3809, 'witsand': 22208, 'otherto': 14619, 'petersen': 15201, 'dupre': 6248, 'robard': 16996, 'thieriot': 20162, 'corbin': 4645, 'bleu': 2577, 'tamper': 19860, 'prisoncel': 15837, 'cinderhella': 4019, 'bregna': 2955, 'æon': 22637, 'monican': 13340, 'mccoy': 12743, 'benyon': 2332, 'rental': 16685, 'celebratori': 3683, 'raptur': 16320, 'powerful': 15673, 'yardley': 22417, 'acheman': 640, 'careermak': 3489, 'deathrow': 5290, 'wetter': 22015, 'aba': 537, 'tooki': 20420, 'bigbeak': 2429, 'toucan': 20476, 'peanutlov': 15046, 'germán': 8302, 'wobbl': 22219, 'lander': 11406, 'midsumm': 13049, 'armacost': 1512, 'jillian': 10671, 'droomor': 6143, 'barista': 2037, 'embellish': 6548, 'monstera': 13361, 'fourleaf': 7791, 'clover': 4168, 'kilmartin': 11096, 'provision': 15959, '1000000': 9, 'emt': 6603, '12round': 48, 'evp': 6910, 'glaciologist': 8431, 'icebound': 9885, 'counterpoint': 4737, 'liveconcert': 11882, 'marinelli': 12520, 'lop': 12013, 'colardo': 4274, 'leisur': 11632, 'fingertip': 7464, 'veteranturnedmercenari': 21530, 'contini': 4575, 'iain': 9875, 'mcchrystal': 12735, 'moondog': 13399, 'machet': 12222, 'bounci': 2820, 'buffi': 3127, 'multiexpression': 13580, 'emoji': 6581, 'admiss': 711, 'pressman': 15768, 'jeremiah': 10623, 'entertainthekidsnomatterhowboring': 6696, 'slack': 18454, 'klaatu': 11160, 'dov': 6031, 'yvan': 22516, 'sentier': 17893, 'aubervilli': 1711, 'chochana': 3949, 'mythomaniac': 13679, 'advers': 751, 'cohes': 4260, 'panach': 14834, 'shackl': 18006, 'wrist': 22344, 'ironfist': 10401, 'dolarhyd': 5923, 'barcafékeep': 2024, '65k': 462, 'stepp': 19181, 'dellwood': 5432, 'sidarthur': 18264, 'santini': 17448, 'pygmalion': 16077, 'scalper': 17543, 'teem': 19974, 'kooki': 11232, 'fortifi': 7757, 'everris': 6883, 'boob': 2734, 'oppositesespeci': 14525, 'backupexcept': 1886, 'scaleddown': 17541, 'mathayu': 12646, 'memnon': 12886, 'nationwid': 13777, 'baphomet': 2008, 'sheepherd': 18085, 'hoggett': 9548, 'coral': 4643, 'flipper': 7610, 'heep': 9276, 'britt': 3023, 'kato': 10971, 'mostpow': 13478, 'chudnofski': 3994, 'db': 5249, 'ultrawarrior': 20920, 'autobahn': 1758, 'technologyreli': 19966, 'offthegrid': 14367, 'buke': 3139, 'roguish': 17060, 'anythinggo': 1360, 'kara': 10927, 'oneinamillion': 14470, 'hatchetwield': 9158, 'bonechil': 2720, 'tremor': 20608, 'drove': 6151, 'judah': 10799, 'obarr': 14265, 'dahlia': 5103, 'cecelia': 3673, 'zombielik': 22604, 'reintegr': 16590, 'mullet': 13574, 'hairdo': 8942, 'acidwash': 644, 'parkrais': 14917, 'halen': 8953, 'jackedup': 10481, 'saintjoss': 17343, 'stressfre': 19333, 'extrovert': 7092, 'chirac': 3942, 'hannig': 9051, 'woke': 22222, 'pickax': 15290, 'plagueinfest': 15398, 'armel': 1521, 'jangl': 10533, 'stéphani': 19402, 'blackwood': 2539, 'duret': 6254, 'sacchetti': 17298, 'snowswept': 18643, 'aylesburi': 1827, 'stetko': 19192, 'amundsenscott': 1166, 'centerfold': 3710, 'emmet': 6578, 'hoop': 9630, 'devilishli': 5602, 'polka': 15536, 'lewan': 11710, 'consueloand': 4550, 'mp': 13541, 'recentlyjilt': 16438, 'lingeri': 11841, 'muchyoung': 13551, 'skype': 18448, 'convincingli': 4601, 'missi': 13223, 'mephistophel': 12913, 'sadli': 17318, 'goget': 8522, 'stoppabl': 19261, 'drakken': 6082, 'shego': 18093, 'possibleron': 15621, 'techgeniu': 19957, 'molerat': 13307, 'birch': 2485, 'lucca': 12114, 'filippi': 7441, 'luna': 12161, '800': 495, 'warravag': 21841, 'faubert': 7278, 'dimitri': 5695, 'zvenka': 22628, 'miroslav': 13185, 'taxicab': 19931, 'nimu': 14031, 'consort': 4531, 'hr': 9730, 'disembark': 5772, 'directorthen': 5723, 'wetwork': 22016, 'unfavor': 21072, 'uncompl': 20979, 'cutrat': 5042, 'quatermain': 16112, 'huston': 9829, 'bockner': 2664, 'alderman': 928, 'dargi': 5177, 'emul': 6604, 'lump': 12160, 'oaki': 14258, 'chardonnay': 3794, 'cabernet': 3284, 'sauvignon': 17505, 'extremist': 7091, 'webster': 21933, 'gorman': 8589, 'yield': 22444, 'tripod': 20659, 'teeth': 19983, 'tutuclad': 20798, 'unseat': 21205, 'millennia': 13104, 'comprehens': 4422, 'reveri': 16831, 'highfli': 9422, 'mortdecai': 13459, 'shepard': 18108, 'delmarco': 5433, 'rezort': 16859, 'safari': 17321, 'moonshinerun': 13405, 'hazzard': 9199, 'charger': 3796, 'coltran': 4329, 'mould': 13510, 'humanfli': 9759, 'bartok': 2075, 'chromosom': 3986, 'findth': 7458, 'pebbl': 15052, '79': 491, 'cassia': 3585, 'vesuviu': 21527, 'pompeii': 15544, 'furthermor': 8021, 'exfiance': 6962, 'laird': 11380, 'notguilti': 14175, 'impli': 10011, 'smoki': 18580, 'snare': 18606, 'bermuda': 2352, 'sew': 17975, 'annul': 1280, 'tyke': 20852, 'nearcataton': 13817, 'tabitha': 19775, 'nomi': 14091, 'baccalaur': 1862, 'fiberglass': 7401, 'waddlesworth': 21753, 'rottweil': 17159, 'laughpack': 11504, 'everschem': 6884, 'cartoonist': 3559, 'deeb': 5351, 'aleck': 933, 'putley': 16072, 'goofbal': 8571, 'storyand': 19271, 'himand': 9473, 'malfoy': 12358, 'herh': 9360, 'helplessli': 9324, 'barton': 2076, 'dreamand': 6097, 'firstrat': 7504, 'leann': 11573, 'salutatorian': 17388, 'tingl': 20330, 'mindgam': 13133, 'milton': 13114, 'onceabus': 14449, 'repris': 16719, 'onli': 14492, 'clubhop': 4176, 'levenstein': 11707, 'stiffler': 19208, 'bandgeek': 1980, 'animatedliveact': 1261, 'friendliest': 7921, 'appleg': 1399, 'agoni': 825, 'macgrub': 12219, 'cunth': 5002, 'lent': 11657, 'veil': 21458, 'proietti': 15891, 'relai': 16603, 'colombo': 4311, 'revolution': 16843, 'cash400000': 3573, 'adversaryth': 753, 'itand': 10449, 'undergrad': 21011, '90210': 512, 'aurelia': 1736, 'barraza': 2055, 'latinocentr': 11490, 'ratcliff': 16337, 'jamestown': 10523, 'intricaci': 10330, 'oskari': 14605, 'kinsfolk': 11130, 'szalinski': 19762, 'dank': 5162, 'unchain': 20970, 'invok': 10359, 'littleknown': 11878, 'government': 8607, 'leuco': 11700, 'powertool': 15679, 'deadlier': 5261, 'belowand': 2290, 'groov': 8774, 'comicstrip': 4359, 'tankrid': 19875, 'antiheroin': 1322, 'pituitari': 15384, 'gland': 8446, 'threeweek': 20225, 'podcast': 15490, 'spinachscarf': 18923, 'oyl': 14758, 'bluto': 2645, 'callum': 3360, 'letac': 11692, '67': 466, 'synthes': 19756, 'hitwoman': 9522, 'pedlar': 15062, '2000yearold': 269, 'rafa': 16207, 'catalonian': 3608, 'koldo': 11217, 'sevilla': 17974, 'catalonia': 3607, 'greenlight': 8699, 'bernier': 2358, 'salari': 17360, 'chaka': 3749, 'borneo': 2789, 'rainstorm': 16245, 'upriv': 21286, 'anaconda': 1173, 'heatsens': 9246, 'fiftyfootlong': 7430, 'bv': 3258, 'benboudaoud': 2296, 'neuillysursein': 13912, 'chazel': 3833, '68': 467, 'lb': 11555, 'goldenvo': 8532, 'bestlov': 2374, 'moreglamor': 13425, 'animalstyl': 1259, 'blart': 2558, 'moustach': 13525, 'untrain': 21240, 'supers': 19559, 'carless': 3507, 'boytoy': 2869, 'unclear': 20977, '9364': 520, 'durex': 6255, 'craziest': 4836, 'fameobsess': 7182, 'pestil': 15196, 'hamster': 9013, 'salesmanbut': 17367, 'hypothet': 9866, 'somalia': 18715, 'flinder': 7605, 'cigar': 4011, 'stigmata': 19211, 'recuper': 16480, 'longdeceas': 11964, 'nour': 14191, 'contrari': 4583, 'éric': 22644, 'patric': 14990, 'monogam': 13350, 'holtzmann': 9576, 'tolan': 20388, 'coolidg': 4614, 'chastiti': 3824, 'kaitlin': 10891, 'contriv': 4586, 'blackwel': 2538, 'lebon': 11586, 'blithesom': 2589, 'buio': 3137, 'cecco': 3671, 'bilal': 2449, 'gassman': 8158, 'snowfield': 18633, 'extortionist': 7076, 'smersh': 18570, 'trembl': 20605, 'baccarat': 1863, 'underprepar': 21021, 'summerhous': 19493, 'squatter': 19010, 'offseason': 14363, 'boardedup': 2652, 'complaint': 4410, 'barnhardt': 2047, 'flasher': 7566, 'boldest': 2690, 'hatton': 9164, 'kristin': 11271, 'healthcar': 9221, 'juarez': 10795, 'speckl': 18878, 'mooch': 13392, 'saber': 17291, 'cafferi': 3309, 'fairbank': 7153, 'corvi': 4694, 'mig': 13057, 'bookjacket': 2746, 'blurbologist': 2642, 'geo': 8268, 'ultracauti': 20906, 'ecuador': 6361, 'tantalu': 19882, 'fossil': 7773, 'bacteri': 1893, 'porou': 15592, 'crevic': 4864, '2039': 303, 'mishima': 13213, 'zaibatsu': 22526, 'placat': 15393, 'seeth': 17770, 'dystopia': 6290, 'tekken': 19988, 'ultrasecret': 20915, 'boulard': 2815, 'dunc': 6233, 'helllik': 9314, 'physiotherapist': 15278, 'fosco': 7770, 'stealth': 19146, 'gundar': 8861, 'fivedatelimit': 7530, 'geoff': 8269, 'masterson': 12628, 'apex': 1372, 'abdomen': 550, 'tiramisù': 20343, 'threehour': 20217, 'allergi': 999, 'witnessprotect': 22207, 'sonand': 18736, 'sleight': 18498, 'meemaw': 12835, '90th': 513, 'alvarez': 1073, 'throng': 20240, 'goer': 8517, 'potam': 15647, 'abund': 597, 'premisesresult': 15738, 'ushistori': 21323, 'saleswoman': 17369, 'flaki': 7551, 'whiskey': 22055, 'soke': 18686, 'thurman': 20257, '250pound': 351, 'sliver': 18521, 'sexuallytransmit': 17997, 'snowmobil': 18638, 'wakeup': 21778, 'phoebu': 15259, 'sarousch': 17475, 'madellain': 12253, 'sarouch': 17474, 'lankest': 11434, 'merrin': 12938, 'britishadminist': 3020, 'byzantin': 3266, 'joeli': 10709, 'stickl': 19204, 'prude': 15969, 'sixyear': 18404, 'megacollector': 12844, 'shirleyvil': 18154, 'merricat': 12935, 'equilibrium': 6743, 'faulkner': 7279, 'homeshop': 9591, 'twoday': 20839, 'beaurivag': 2189, 'hillick': 9467, '2058': 310, 'rerout': 16736, 'layov': 11549, 'autodesign': 1763, 'agon': 824, 'dimlylit': 5696, 'profan': 15871, 'meanspirit': 12798, 'skunk': 18440, 'reeko': 16511, 'albanes': 909, 'elyse': 6531, 'smartphon': 18561, 'gotti': 8601, 'gambino': 8094, 'legless': 11625, 'arliss': 1507, 'masterofdisguis': 12626, 'artemu': 1563, 'walden': 21781, 'subbas': 19407, 'slab': 18453, 'slayfest': 18482, 'violett': 21622, 'lifelov': 11771, 'lolo': 11946, 'ultrapossess': 20912, 'choukri': 3968, 'chouchou': 3967, 'maghrebi': 12279, 'clichi': 4128, 'stanisla': 19080, 'viv': 21662, 'dognapp': 5914, 'karla': 10942, 'stanaforth': 19066, 'oneway': 14487, 'colonis': 4317, 'nap': 13731, 'yellowandblack': 22433, 'stinger': 19226, 'coneshap': 4464, 'robotlik': 17016, 'beldar': 2261, 'prymatt': 15971, 'paramu': 14886, 'mabri': 12209, 'creeson': 4857, 'coars': 4198, 'cuti': 5039, 'femininityupset': 7354, 'pennington': 15105, 'undisturb': 21047, 'anomal': 1282, 'emiss': 6573, 'bulb': 3140, 'infrar': 10177, 'psychophon': 15989, 'dishonest': 5784, 'cronin': 4899, 'terrif': 20070, 'fasttrack': 7259, 'rocksolid': 17039, 'pox': 15680, 'gedren': 8199, 'hablac': 8912, 'talisman': 19844, 'conjoin': 4495, 'tenor': 20038, 'grill': 8738, 'beaz': 2195, 'brotherli': 3068, 'appendag': 1395, 'flintston': 7608, 'cimmerian': 4015, 'hyboria': 9839, 'sematari': 17851, 'zombierais': 22605, 'rancor': 16286, 'wd40': 21906, 'veroniqu': 21510, 'ukrinski': 20897, 'bio': 2468, 'michela': 13002, 'quattrociocch': 16113, 'flavio': 7575, 'havocwreak': 9177, 'californiastyl': 3346, 'blowgun': 2627, 'soundproof': 18801, 'jt': 10793, 'latvian': 11498, 'vacation': 21354, 'gladiatori': 8435, 'podiatrist': 15491, 'jeanétienn': 10589, 'fougerol': 7776, 'marneslacoquett': 12555, 'illtim': 9954, 'leaner': 11572, 'fasterpac': 7252, 'softbal': 18674, 'baseballplay': 2081, 'weve': 22017, 'blackfoot': 2528, 'mäddi': 13681, 'abbot': 546, 'menfolk': 12900, 'tobey': 20365, 'vagina': 21360, 'dentata': 5491, 'pripyat': 15832, 'reactor': 16380, 'pauper': 15015, '2707': 361, 'blackway': 2537, 'impun': 10037, 'townspeopleand': 20504, 'townlillian': 20501, 'exlogg': 6992, 'unsanct': 21197, 'exorcismssuppos': 7006, '83g': 500, 'dadnap': 5092, 'snakebit': 18603, 'sundown': 19507, 'geraldo': 8288, 'chabat': 3739, 'palombia': 14823, 'pablito': 14764, 'jamel': 10521, 'debbouz': 5298, 'marsupilami': 12573, 'lightson': 11792, 'gadabout': 8048, 'brazillionair': 2928, 'erudit': 6775, 'koch': 11204, 'arsèn': 1559, 'duri': 6257, 'walkabout': 21786, 'eel': 6387, 'conspiratori': 4534, 'rodolfo': 17052, 'favaretto': 7290, 'frengo': 7894, 'gavilan': 8182, 'calden': 3333, 'yoga': 22450, 'reddi': 16485, 'paulandré': 15010, 'superhumanlyelev': 19545, 'nashawn': 13760, 'hunke': 9799, 'wristwatch': 22345, 'conflictu': 4481, 'corinna': 4654, 'zevo': 22571, 'warmong': 21834, 'duroy': 6259, 'ridden': 16897, 'opul': 14538, 'jostl': 10770, 'ciulla': 4049, 'ombroni': 14436, 'invitationonli': 10356, 'assassinforhir': 1625, 'raig': 16230, 'kitai': 11151, 'offlimit': 14360, 'twistedand': 20834, 'tangina': 19869, 'durant': 6253, 'imbu': 9973, 'dragonfli': 6075, 'hourglass': 9704, 'husbandhi': 9820, 'scarf': 17562, 'middleschool': 13038, 'louisa': 12051, 'muzafar': 13663, 'feruz': 7384, 'taboulistan': 19783, 'spyder': 18997, '33year': 385, 'gangsta': 8117, 'konda': 11225, 'smallscal': 18552, 'botswanga': 2809, 'babimbi': 1855, 'bobo': 2662, 'freshli': 7902, 'humanist': 9760, 'discours': 5760, 'dropoff': 6146, 'durango': 6252, 'illequip': 9944, 'lemuel': 11641, 'gulliv': 8854, 'liliput': 11802, '40th': 411, 'sofa': 18671, 'birthdaynight': 2497, 'parallax': 14878, 'expo': 7039, 'bouquet': 2826, 'defeatist': 5373, '605pm': 455, 'backtrack': 1884, 'bye': 3259, 'vampirelik': 21400, 'stamina': 19061, 'crossedfir': 4915, 'ultraviolet': 20919, 'fraser': 7844, 'monkeybon': 13346, 'wackedout': 21750, 'waystat': 21901, 'marken': 12536, 'astérix': 1658, 'obélix': 14296, 'alafolix': 897, 'brutu': 3091, 'darriu': 5198, 'sayl': 17535, 'stockburn': 19238, 'adventurefil': 746, 'coconut': 4230, 'swinger': 19704, 'canet': 3419, 'rockn': 17036, 'cotillard': 4715, 'pong': 15548, '15yr': 90, 'mixedup': 13257, 'adventurelov': 747, 'abseil': 585, 'everin': 6878, 'gunnison': 8869, 'formsth': 7747, 'facehugg': 7128, 'alienpred': 972, 'bengalla': 2309, 'bli': 2578, 'tanto': 19884, 'shoddi': 18171, 'vril': 21730, 'reptilian': 16725, 'slobberi': 18524, 'sica': 18256, 'karan': 10930, 'goddard': 8503, 'unknow': 21132, 'nothingand': 14177, 'onear': 14462, 'voltag': 21704, 'sideor': 18269, 'counterterrorist': 4739, 'alonethi': 1040, 'greas': 8680, 'tbird': 19934, 'carrington': 3545, 'bushwick': 3216, 'stupe': 19390, 'challi': 3752, 'grimbridg': 8741, 'noveltysalesman': 14201, 'shamrock': 18034, 'conal': 4434, 'endtenth': 6639, 'halfalien': 8956, 'trey': 20619, 'womanand': 22234, 'shotforshot': 18202, 'herrmann': 9379, 'elfman': 6479, 'stereo': 19186, 'sarg': 17470, 'secondcousin': 17734, 'anticlimax': 1310, 'apprenticeship': 1412, 'bloodr': 2613, 'crescent': 4861, 'skinwalk': 18431, 'gamut': 8106, 'gossipi': 8593, 'happilywed': 9069, 'hain': 8937, 'jebedaiah': 10590, 'mayii': 12706, 'aglet': 820, 'brophi': 3061, 'weller': 21971, 'gt500': 8811, 'hargrov': 9106, 'brandt': 2902, 'transact': 20542, 'vestibul': 21525, 'dip': 5712, 'sunris': 19519, 'shu': 18238, 'pecora': 15056, 'marmotta': 12554, 'scupper': 17696, 'mang': 12412, 'rianna': 16873, 'sisk': 18370, 'actionon': 668, 'lessto': 11687, 'galina': 8075, 'konstantin': 11231, 'montley': 13383, 'alagaesia': 898, 'flatmat': 7570, 'patani': 14975, 'lowcost': 12088, 'homonymi': 9600, 'eightyyearold': 6426, 'marcelino': 12487, 'alphabet': 1048, 'ryden': 17274, 'malbi': 12348, 'soliti': 18705, 'idioti': 9911, 'angloirish': 1247, 'lodger': 11931, 'ggirl': 8322, 'baaba': 1843, 'egocentr': 6407, 'santaro': 17444, 'krysta': 11288, 'hermosa': 9368, 'californiabas': 3344, 'durand': 6250, 'centauri': 3704, 'milutin': 13115, 'nimani': 14028, '1345': 55, 'tramel': 20539, 'curran': 5020, 'planetwith': 15410, 'uninfectedhuman': 21110, 'bloodcurdl': 2608, 'krimo': 11266, 'grime': 8742, 'pattaya': 15001, 'cheapli': 3837, 'jiujitsu': 10685, 'mushmouth': 13638, 'cosbi': 4697, 'elektra': 6467, 'maximillian': 12694, 'xxx': 22398, 'deckert': 5331, '47year': 421, 'flamespew': 7556, 'indemand': 10102, 'outand': 14633, 'serento': 17921, 'taco': 19788, 'badalandabad': 1898, 'camford': 3381, 'brothersist': 3070, 'freshwat': 7905, 'burntout': 3196, 'murdersmurd': 13620, 'deriv': 5522, 'watcher': 21868, 'promnight': 15904, 'incant': 10057, 'thunderbird': 20252, 'kingsley': 11120, 'nova17': 14196, 'holethat': 9559, 'shipsand': 18150, 'mushroom': 13640, 'moth': 13481, 'ducoboo': 6200, 'olemaun': 14414, 'superdifficult': 19539, 'm51': 12205, 'latina': 11488, 'dreamz': 6107, 'showtuneslov': 18223, 'staton': 19128, 'irancontra': 10381, 'mcmahon': 12770, 'shuya': 18248, 'nanahara': 13721, 'internationallyknown': 10302, 'frieda': 7914, 'migrainelik': 13064, 'kirkpatrick': 11143, 'mcquean': 12781, 'uac': 20871, 'phobo': 15257, 'cotten': 4717, 'crossbr': 4910, 'nikita': 14020, 'laetitia': 11368, 'deniro': 5481, 'hurl': 9810, 'huntergather': 9805, 'aladin': 896, 'crossword': 4923, 'constructor': 4548, 'cnn': 4190, 'hither': 9516, 'yon': 22459, 'sharknado': 18059, 'unman': 21144, 'dadturneddog': 5093, 'bevi': 2395, 'breathabl': 2946, 'nonexist': 14105, 'turnbul': 20782, 'clapper': 4070, 'carlson': 3515, 'overexcit': 14703, 'dulaney': 6217, 'twentythreeday': 20823, 'millionnair': 13111, 'risi': 16957, 'vedovo': 21448, 'ambrogio': 1111, 'realworld': 16400, 'chemoviru': 3862, 'sartr': 17476, 'conform': 4484, 'savelli': 17514, 'clermontferrand': 4123, 'flot': 7634, 'arcachon': 1440, '2030': 298, 'checker': 3844, 'cancertermin': 3409, 'murdoch': 13621, 'wexel': 22018, 'superanaconda': 19529, 'hammett': 9007, 'fastgrow': 7255, 'inciner': 10068, 'cristoforo': 4886, 'antithet': 1334, 'configur': 4476, 'hellworldcom': 9316, 'pic': 15284, 'laurett': 11520, 'gatineau': 8166, 'sopi': 18764, 'dijon': 5680, 'regener': 16549, 'heiter': 9300, '12person': 47, '2455': 340, 'landmass': 11413, 'longgon': 11975, 'bulimia': 3144, 'attentionseek': 1697, 'hagitha': 8932, 'utslay': 21340, 'doughi': 6025, 'clearli': 4114, 'dnawith': 5887, 'ozon': 14761, 'rameriz': 16265, 'ziest': 22579, 'ramirez': 16268, 'alpin': 1052, 'nabil': 13692, 'samia': 17403, 'transpos': 20561, 'wilma': 22143, 'rockefel': 17030, 'baysvil': 2148, 'drugrun': 6164, 'boldi': 2691, 'taft': 19799, 'aegi': 761, 'landjust': 11409, 'marissa': 12528, 'stepchildren': 19170, 'timekeep': 20311, 'om1': 14429, 'anok': 1281, 'colonelgener': 4314, 'nakano': 13708, 'gunther': 8876, 'extracurricular': 7079, 'sexist': 17986, 'antigua': 1320, 'hebe': 9261, 'colt': 4325, 'octopu': 14324, 'banir': 1987, 'intercontinent': 10288, 'hawthorn': 9185, 'shirt': 18155, 'norm': 14135, 'lem': 11639, '7500': 487, 'tenhour': 20034, 'bucharest': 3104, 'ducobu': 6201, 'aang': 535, 'krug': 11281, 'animalwarrior': 1260, 'gallian': 8082, 'dangertain': 5153, 'visiteur': 21647, 'dacier': 5088, 'mozamb': 13539, 'unexperienc': 21063, 'savedso': 17513, 'sargon': 17471, 'oddsdefi': 14331, 'bankrob': 1994, 'blueprint': 2634, 'massabduct': 12610, 'tadek': 19792, 'biodom': 2469, 'seabourn': 17702, 'starkman': 19097, 'marv': 12587, 'essenc': 6804, 'carnageridden': 3522, 'konali': 11224, 'kendrick': 11015, 'fleme': 7588, '6time': 473, 'bautista': 2138, 'ufc': 20880, 'kimbo': 11103, 'pornographi': 15590, 'cocaineaddict': 4215, 'urn': 21311, 'evillook': 6902, 'lacrimarum': 11359, 'decameron': 5315, 'florentin': 7625, 'saracen': 17458, 'dejectedli': 5405, 'hautecuisin': 9172, 'wellintent': 21977, 'chunli': 3998, 'leper': 11672, 'sank': 17440, '35foot': 389, 'parapsycholog': 14894, 'magoo': 12291, 'slender': 18499, 'eck': 6349, 'microdevic': 13016, '2087': 314, 'mogan': 13291, 'steed': 19153, 'archvillain': 1468, 'wynter': 22371, 'selfawar': 17795, 'gad': 8047, 'elmaleh': 6510, 'mitzvah': 13254, 'sadelstein': 17314, 'passiveaggress': 14963, 'manu': 12457, 'ragefil': 16216, 'neopagan': 13872, 'descendan': 5527, 'izmer': 10471, 'mage': 12276, 'savina': 17517, 'profion': 15877, 'coachella': 4193, 'verhoeven': 21495, 'lovedrevil': 12070, 'jellicl': 10603, 'heavisid': 9256, '2524': 352, 'luigi': 12147, 'plumber': 15468, 'squalor': 19006, 'koopa': 11233, 'becca': 2199, 'nonvampir': 14122, 'gore': 8583, 'bionic': 2476, 'vilmer': 21603, 'humanvampir': 9769, 'rayn': 16368, 'kagan': 10880, 'mariu': 12531, 'cass': 3581, 'ero': 6766, 'tanna': 19876, 'solobonit': 18708, 'pitka': 15378, 'kazaam': 10984, 'kantmiss': 10920, 'evershot': 6886, 'ham': 9000, 'coupon': 4754, 'footlong': 7697, 'partial': 14935, 'django': 5879, 'lamebrain': 11394, 'unprincipl': 21173, 'jacquouil': 10499, 'misdirect': 13202, 'pretzi': 15785, 'pretzel': 15784, 'cart': 3551, 'wresl': 22333, 'g2': 8037, 'bullwinkl': 3154, 'rerun': 16737, 'bronzé': 3055, 'petrovich': 15209, 'pistachio': 15369, 'disguisey': 5780, 'fabbrizio': 7114, 'inclus': 10073, 'ciss': 4042, 'gigli': 8362, 'leonida': 11665, 'hilton': 9471, 'haroun': 9120, 'plassid': 15417, 'caliph': 3348, 'iznogoud': 10472, 'placemelt': 15395, 'obstinaci': 14291, 'seawat': 17726, 'barown': 2052, 'reuma': 16812, 'nilbog': 14025, 'adamantli': 682, 'apprehens': 1410, 'gnarnia': 8487, 'aslo': 1611, 'wisebuthorni': 22184, '500person': 435, 'krüger': 11290, 'ogni': 14376, '14enn': 68, 'detta': 5582, 'caroè': 3535, 'impegnata': 9996, 'districarsi': 5848, 'tra': 20511, 'scuola': 17695, 'gli': 8454, 'rapporto': 16319, 'spesso': 18906, 'conflittual': 4482, 'genitori': 8244, 'trova': 20691, 'improvvisament': 10035, 'all': 982, 'prese': 15755, 'turbamenti': 20770, 'legati': 11615, 'primo': 15817, 'volto': 21706, 'massimiliano': 12615, 'aiutarla': 872, 'cammino': 3386, 'verso': 21516, 'scoperta': 17639, 'gioie': 8394, 'dolori': 5934, 'sentimentali': 17895, 'ci': 4006, 'saranno': 17463, 'amich': 1131, 'cuor': 5003, 'sua': 19404, 'famiglia': 7183, 'feardotcom': 7306, 'averel': 1784, 'wookie': 22270, 'inimit': 10194, 'bloat': 2594, 'psychlo': 15982, 'terl': 20055, 'carnbi': 3524, 'rave': 16356, 'xlace': 22389, 'wielder': 22100, 'birdem': 2488}\n"
          ]
        }
      ]
    },
    {
      "cell_type": "code",
      "source": [
        "print(bow[0].toarray())\n",
        "print(bow[1].toarray())"
      ],
      "metadata": {
        "colab": {
          "base_uri": "https://localhost:8080/"
        },
        "id": "SolXg5stCEk1",
        "outputId": "5f4272ce-52af-46e4-f7e8-b9bb4e0b56e4"
      },
      "execution_count": 86,
      "outputs": [
        {
          "output_type": "stream",
          "name": "stdout",
          "text": [
            "[[0 0 0 ... 0 0 0]]\n",
            "[[0 0 0 ... 0 0 0]]\n"
          ]
        }
      ]
    },
    {
      "cell_type": "code",
      "source": [
        "bow.shape"
      ],
      "metadata": {
        "colab": {
          "base_uri": "https://localhost:8080/"
        },
        "id": "TRPugDO7CJRT",
        "outputId": "59ba2d12-869e-456b-8efb-84b020d7bad1"
      },
      "execution_count": 87,
      "outputs": [
        {
          "output_type": "execute_result",
          "data": {
            "text/plain": [
              "(9736, 22649)"
            ]
          },
          "metadata": {},
          "execution_count": 87
        }
      ]
    },
    {
      "cell_type": "code",
      "source": [
        "cv2 = CountVectorizer(ngram_range=(2, 3))"
      ],
      "metadata": {
        "id": "bBX7SYvhCK3F"
      },
      "execution_count": 88,
      "outputs": []
    },
    {
      "cell_type": "code",
      "source": [
        "bow2 = cv2.fit_transform(df.description.apply(lambda x:\" \".join(x)))"
      ],
      "metadata": {
        "id": "Jul9t_z6Ccx7"
      },
      "execution_count": 90,
      "outputs": []
    },
    {
      "cell_type": "code",
      "source": [
        "print(len(cv2.vocabulary_))"
      ],
      "metadata": {
        "colab": {
          "base_uri": "https://localhost:8080/"
        },
        "id": "95S27ObaCl_t",
        "outputId": "81d74958-c0d6-41ae-eaf2-0a69b283d5bc"
      },
      "execution_count": 99,
      "outputs": [
        {
          "output_type": "stream",
          "name": "stdout",
          "text": [
            "439270\n"
          ]
        }
      ]
    },
    {
      "cell_type": "code",
      "source": [
        "import time"
      ],
      "metadata": {
        "id": "OcA0fr5lD-xc"
      },
      "execution_count": 101,
      "outputs": []
    },
    {
      "cell_type": "code",
      "source": [
        "for i in cv2.vocabulary_:\n",
        "  time.sleep(1)\n",
        "  print(i)"
      ],
      "metadata": {
        "colab": {
          "base_uri": "https://localhost:8080/",
          "height": 1000
        },
        "id": "KE1_bXtUCqTn",
        "outputId": "c250074f-c202-4668-fa30-e54117e79f67"
      },
      "execution_count": 102,
      "outputs": [
        {
          "output_type": "stream",
          "name": "stdout",
          "text": [
            "frame 1940\n",
            "1940 doubl\n",
            "doubl murder\n",
            "murder wife\n",
            "wife lover\n",
            "lover upstand\n",
            "upstand banker\n",
            "banker andi\n",
            "andi dufresn\n",
            "dufresn begin\n",
            "begin new\n",
            "new life\n",
            "life shawshank\n",
            "shawshank prison\n",
            "prison put\n",
            "put account\n",
            "account skill\n",
            "skill work\n",
            "work amor\n",
            "amor warden\n",
            "warden long\n",
            "long stretch\n",
            "stretch prison\n",
            "prison dufresn\n",
            "dufresn come\n",
            "come admir\n",
            "admir inmat\n",
            "inmat includ\n",
            "includ older\n",
            "older prison\n",
            "prison name\n",
            "name red\n",
            "red integr\n",
            "integr unquench\n",
            "unquench sens\n",
            "sens hope\n",
            "frame 1940 doubl\n",
            "1940 doubl murder\n",
            "doubl murder wife\n",
            "murder wife lover\n",
            "wife lover upstand\n",
            "lover upstand banker\n",
            "upstand banker andi\n",
            "banker andi dufresn\n",
            "andi dufresn begin\n",
            "dufresn begin new\n",
            "begin new life\n",
            "new life shawshank\n",
            "life shawshank prison\n",
            "shawshank prison put\n",
            "prison put account\n",
            "put account skill\n",
            "account skill work\n",
            "skill work amor\n",
            "work amor warden\n",
            "amor warden long\n",
            "warden long stretch\n",
            "long stretch prison\n",
            "stretch prison dufresn\n",
            "prison dufresn come\n",
            "dufresn come admir\n",
            "come admir inmat\n",
            "admir inmat includ\n",
            "inmat includ older\n",
            "includ older prison\n",
            "older prison name\n",
            "prison name red\n",
            "name red integr\n",
            "red integr unquench\n",
            "integr unquench sens\n",
            "unquench sens hope\n",
            "raj rich\n",
            "rich carefre\n",
            "carefre happygolucki\n",
            "happygolucki second\n",
            "second gener\n",
            "gener nri\n",
            "nri simran\n",
            "simran daughter\n",
            "daughter chaudhari\n",
            "chaudhari baldev\n",
            "baldev singh\n"
          ]
        },
        {
          "output_type": "error",
          "ename": "KeyboardInterrupt",
          "evalue": "ignored",
          "traceback": [
            "\u001b[0;31m---------------------------------------------------------------------------\u001b[0m",
            "\u001b[0;31mKeyboardInterrupt\u001b[0m                         Traceback (most recent call last)",
            "\u001b[0;32m<ipython-input-102-145e191c1526>\u001b[0m in \u001b[0;36m<module>\u001b[0;34m()\u001b[0m\n\u001b[1;32m      1\u001b[0m \u001b[0;32mfor\u001b[0m \u001b[0mi\u001b[0m \u001b[0;32min\u001b[0m \u001b[0mcv2\u001b[0m\u001b[0;34m.\u001b[0m\u001b[0mvocabulary_\u001b[0m\u001b[0;34m:\u001b[0m\u001b[0;34m\u001b[0m\u001b[0;34m\u001b[0m\u001b[0m\n\u001b[0;32m----> 2\u001b[0;31m   \u001b[0mtime\u001b[0m\u001b[0;34m.\u001b[0m\u001b[0msleep\u001b[0m\u001b[0;34m(\u001b[0m\u001b[0;36m1\u001b[0m\u001b[0;34m)\u001b[0m\u001b[0;34m\u001b[0m\u001b[0;34m\u001b[0m\u001b[0m\n\u001b[0m\u001b[1;32m      3\u001b[0m   \u001b[0mprint\u001b[0m\u001b[0;34m(\u001b[0m\u001b[0mi\u001b[0m\u001b[0;34m)\u001b[0m\u001b[0;34m\u001b[0m\u001b[0;34m\u001b[0m\u001b[0m\n",
            "\u001b[0;31mKeyboardInterrupt\u001b[0m: "
          ]
        }
      ]
    },
    {
      "cell_type": "code",
      "source": [
        ""
      ],
      "metadata": {
        "id": "sKA-drd4D5eA"
      },
      "execution_count": null,
      "outputs": []
    }
  ]
}
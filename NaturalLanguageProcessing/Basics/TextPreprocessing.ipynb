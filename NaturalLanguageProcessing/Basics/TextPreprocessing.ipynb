{
  "nbformat": 4,
  "nbformat_minor": 0,
  "metadata": {
    "colab": {
      "name": "TextPreprocessing.ipynb",
      "provenance": [],
      "collapsed_sections": [],
      "authorship_tag": "ABX9TyOHuoz6wmK9DfitF5Pw89jP",
      "include_colab_link": true
    },
    "kernelspec": {
      "name": "python3",
      "display_name": "Python 3"
    },
    "language_info": {
      "name": "python"
    }
  },
  "cells": [
    {
      "cell_type": "markdown",
      "metadata": {
        "id": "view-in-github",
        "colab_type": "text"
      },
      "source": [
        "<a href=\"https://colab.research.google.com/github/astrovishalthakur/MachineLearning/blob/main/NaturalLanguageProcessing/Basics/TextPreprocessing.ipynb\" target=\"_parent\"><img src=\"https://colab.research.google.com/assets/colab-badge.svg\" alt=\"Open In Colab\"/></a>"
      ]
    },
    {
      "cell_type": "markdown",
      "source": [
        "### NLP PIPELINE\n",
        "\n",
        "We will se how to do basic text processing as a nlp pipeline"
      ],
      "metadata": {
        "id": "zhdfweauWlmv"
      }
    },
    {
      "cell_type": "code",
      "execution_count": 133,
      "metadata": {
        "id": "NRPtgz7bWMLe"
      },
      "outputs": [],
      "source": [
        "import requests"
      ]
    },
    {
      "cell_type": "code",
      "source": [
        "url1 = \"https://api.themoviedb.org/3/movie/top_rated?api_key=73326928ce817d080bf46bdc0bc675b2&language=en-US&page=\""
      ],
      "metadata": {
        "id": "iwQckou-XCHs"
      },
      "execution_count": 134,
      "outputs": []
    },
    {
      "cell_type": "code",
      "source": [
        "url2 = \"https://api.themoviedb.org/3/genre/movie/list?api_key=73326928ce817d080bf46bdc0bc675b2&language=en-US\""
      ],
      "metadata": {
        "id": "RFBAthYfXLXr"
      },
      "execution_count": 135,
      "outputs": []
    },
    {
      "cell_type": "code",
      "source": [
        "details = []"
      ],
      "metadata": {
        "id": "YH0YNIKbXW-H"
      },
      "execution_count": 136,
      "outputs": []
    },
    {
      "cell_type": "code",
      "source": [
        "data = requests.get(f'{url1}1')"
      ],
      "metadata": {
        "id": "mhbgpttSXhtB"
      },
      "execution_count": 137,
      "outputs": []
    },
    {
      "cell_type": "code",
      "source": [
        "pages = data.json()[\"total_pages\"]"
      ],
      "metadata": {
        "id": "Y4Q7GXEmY31v"
      },
      "execution_count": 138,
      "outputs": []
    },
    {
      "cell_type": "code",
      "source": [
        "type(data.json()[\"total_pages\"])"
      ],
      "metadata": {
        "colab": {
          "base_uri": "https://localhost:8080/"
        },
        "id": "GJly7JGiY-bQ",
        "outputId": "c26ee56b-d32e-4fba-bc0d-95ab0068156b"
      },
      "execution_count": 139,
      "outputs": [
        {
          "output_type": "execute_result",
          "data": {
            "text/plain": [
              "int"
            ]
          },
          "metadata": {},
          "execution_count": 139
        }
      ]
    },
    {
      "cell_type": "code",
      "source": [
        "type(data.json()[\"results\"])"
      ],
      "metadata": {
        "colab": {
          "base_uri": "https://localhost:8080/"
        },
        "id": "IZzQ8otwXo-s",
        "outputId": "55494248-6e4c-49c0-9e4a-1b6f2dd12cf1"
      },
      "execution_count": 140,
      "outputs": [
        {
          "output_type": "execute_result",
          "data": {
            "text/plain": [
              "list"
            ]
          },
          "metadata": {},
          "execution_count": 140
        }
      ]
    },
    {
      "cell_type": "code",
      "source": [
        "for i in range(1, pages+1):\n",
        "  data = requests.get(f\"{url1}{i}\")\n",
        "  details.extend(data.json()[\"results\"])"
      ],
      "metadata": {
        "id": "QTnTh7J5W0rz"
      },
      "execution_count": 141,
      "outputs": []
    },
    {
      "cell_type": "code",
      "source": [
        "len(details)"
      ],
      "metadata": {
        "colab": {
          "base_uri": "https://localhost:8080/"
        },
        "id": "LE9xG4C8YuFu",
        "outputId": "7259e2e7-654f-49b1-9e80-79a900bd99f2"
      },
      "execution_count": 142,
      "outputs": [
        {
          "output_type": "execute_result",
          "data": {
            "text/plain": [
              "9720"
            ]
          },
          "metadata": {},
          "execution_count": 142
        }
      ]
    },
    {
      "cell_type": "code",
      "source": [
        "details[1]"
      ],
      "metadata": {
        "colab": {
          "base_uri": "https://localhost:8080/"
        },
        "id": "lpt65fg1ZJng",
        "outputId": "9042042d-ebb5-4175-cad7-06056604e555"
      },
      "execution_count": 143,
      "outputs": [
        {
          "output_type": "execute_result",
          "data": {
            "text/plain": [
              "{'adult': False,\n",
              " 'backdrop_path': '/wPU78OPN4BYEgWYdXyg0phMee64.jpg',\n",
              " 'genre_ids': [18, 80],\n",
              " 'id': 278,\n",
              " 'original_language': 'en',\n",
              " 'original_title': 'The Shawshank Redemption',\n",
              " 'overview': 'Framed in the 1940s for the double murder of his wife and her lover, upstanding banker Andy Dufresne begins a new life at the Shawshank prison, where he puts his accounting skills to work for an amoral warden. During his long stretch in prison, Dufresne comes to be admired by the other inmates -- including an older prisoner named Red -- for his integrity and unquenchable sense of hope.',\n",
              " 'popularity': 103.61,\n",
              " 'poster_path': '/q6y0Go1tsGEsmtFryDOJo3dEmqu.jpg',\n",
              " 'release_date': '1994-09-23',\n",
              " 'title': 'The Shawshank Redemption',\n",
              " 'video': False,\n",
              " 'vote_average': 8.7,\n",
              " 'vote_count': 20895}"
            ]
          },
          "metadata": {},
          "execution_count": 143
        }
      ]
    },
    {
      "cell_type": "code",
      "source": [
        "genres = requests.get(url2)\n",
        "ids = genres.json()"
      ],
      "metadata": {
        "id": "J4MltdMAmAJT"
      },
      "execution_count": 144,
      "outputs": []
    },
    {
      "cell_type": "code",
      "source": [
        "ids"
      ],
      "metadata": {
        "colab": {
          "base_uri": "https://localhost:8080/"
        },
        "id": "1RIvwVZVmMcD",
        "outputId": "2dc77d3c-9c8a-4480-8614-36dc3d12e725"
      },
      "execution_count": 145,
      "outputs": [
        {
          "output_type": "execute_result",
          "data": {
            "text/plain": [
              "{'genres': [{'id': 28, 'name': 'Action'},\n",
              "  {'id': 12, 'name': 'Adventure'},\n",
              "  {'id': 16, 'name': 'Animation'},\n",
              "  {'id': 35, 'name': 'Comedy'},\n",
              "  {'id': 80, 'name': 'Crime'},\n",
              "  {'id': 99, 'name': 'Documentary'},\n",
              "  {'id': 18, 'name': 'Drama'},\n",
              "  {'id': 10751, 'name': 'Family'},\n",
              "  {'id': 14, 'name': 'Fantasy'},\n",
              "  {'id': 36, 'name': 'History'},\n",
              "  {'id': 27, 'name': 'Horror'},\n",
              "  {'id': 10402, 'name': 'Music'},\n",
              "  {'id': 9648, 'name': 'Mystery'},\n",
              "  {'id': 10749, 'name': 'Romance'},\n",
              "  {'id': 878, 'name': 'Science Fiction'},\n",
              "  {'id': 10770, 'name': 'TV Movie'},\n",
              "  {'id': 53, 'name': 'Thriller'},\n",
              "  {'id': 10752, 'name': 'War'},\n",
              "  {'id': 37, 'name': 'Western'}]}"
            ]
          },
          "metadata": {},
          "execution_count": 145
        }
      ]
    },
    {
      "cell_type": "code",
      "source": [
        "new_ids = {}\n",
        "for items in ids[\"genres\"]:\n",
        "  new_ids[items[\"id\"]]= items[\"name\"]"
      ],
      "metadata": {
        "id": "zWeASaZvmYvK"
      },
      "execution_count": 146,
      "outputs": []
    },
    {
      "cell_type": "code",
      "source": [
        "new_ids"
      ],
      "metadata": {
        "colab": {
          "base_uri": "https://localhost:8080/"
        },
        "id": "K_lAwi1JnAvE",
        "outputId": "a6d9458a-f883-4d17-d9f5-2ed35f5033ba"
      },
      "execution_count": 147,
      "outputs": [
        {
          "output_type": "execute_result",
          "data": {
            "text/plain": [
              "{12: 'Adventure',\n",
              " 14: 'Fantasy',\n",
              " 16: 'Animation',\n",
              " 18: 'Drama',\n",
              " 27: 'Horror',\n",
              " 28: 'Action',\n",
              " 35: 'Comedy',\n",
              " 36: 'History',\n",
              " 37: 'Western',\n",
              " 53: 'Thriller',\n",
              " 80: 'Crime',\n",
              " 99: 'Documentary',\n",
              " 878: 'Science Fiction',\n",
              " 9648: 'Mystery',\n",
              " 10402: 'Music',\n",
              " 10749: 'Romance',\n",
              " 10751: 'Family',\n",
              " 10752: 'War',\n",
              " 10770: 'TV Movie'}"
            ]
          },
          "metadata": {},
          "execution_count": 147
        }
      ]
    },
    {
      "cell_type": "code",
      "source": [
        "finalLis = []\n",
        "dic = {}\n",
        "for item in details:\n",
        "  dic = {\"title\":item[\"title\"],\n",
        "         \"genres\": [new_ids[i] for i in item[\"genre_ids\"]],\n",
        "         \"description\":item[\"overview\"]}\n",
        "  finalLis.append(dic)\n",
        "  dic = {}"
      ],
      "metadata": {
        "id": "yRiSC84zZPTi"
      },
      "execution_count": 148,
      "outputs": []
    },
    {
      "cell_type": "code",
      "source": [
        "finalLis[:5]"
      ],
      "metadata": {
        "colab": {
          "base_uri": "https://localhost:8080/"
        },
        "id": "XciaR9O-k6cD",
        "outputId": "a928c9de-b262-496c-99a8-321e5ecff0cb"
      },
      "execution_count": 149,
      "outputs": [
        {
          "output_type": "execute_result",
          "data": {
            "text/plain": [
              "[{'description': 'Raj is a rich, carefree, happy-go-lucky second generation NRI. Simran is the daughter of Chaudhary Baldev Singh, who in spite of being an NRI is very strict about adherence to Indian values. Simran has left for India to be married to her childhood fiancé. Raj leaves for India with a mission at his hands, to claim his lady love under the noses of her whole family. Thus begins a saga.',\n",
              "  'genres': ['Comedy', 'Drama', 'Romance'],\n",
              "  'title': 'Dilwale Dulhania Le Jayenge'},\n",
              " {'description': 'Framed in the 1940s for the double murder of his wife and her lover, upstanding banker Andy Dufresne begins a new life at the Shawshank prison, where he puts his accounting skills to work for an amoral warden. During his long stretch in prison, Dufresne comes to be admired by the other inmates -- including an older prisoner named Red -- for his integrity and unquenchable sense of hope.',\n",
              "  'genres': ['Drama', 'Crime'],\n",
              "  'title': 'The Shawshank Redemption'},\n",
              " {'description': 'Spanning the years 1945 to 1955, a chronicle of the fictional Italian-American Corleone crime family. When organized crime family patriarch, Vito Corleone barely survives an attempt on his life, his youngest son, Michael steps in to take care of the would-be killers, launching a campaign of bloody revenge.',\n",
              "  'genres': ['Drama', 'Crime'],\n",
              "  'title': 'The Godfather'},\n",
              " {'description': \"A tragic accident lead to Kaori's blindness, but she clings to life and the smaller pleasures it can still afford her. She meets Rui and begins to talk to him. Rui was once a promising kickboxer, but something happened in his past. Kaori's smile brings out a change in Rui. However, the two are connected in more than one way. Rui attempts to do what is right.\",\n",
              "  'genres': ['Romance', 'Drama'],\n",
              "  'title': 'Your Eyes Tell'},\n",
              " {'description': 'The true story of how businessman Oskar Schindler saved over a thousand Jewish lives from the Nazis while they worked as slaves in his factory during World War II.',\n",
              "  'genres': ['Drama', 'History', 'War'],\n",
              "  'title': \"Schindler's List\"}]"
            ]
          },
          "metadata": {},
          "execution_count": 149
        }
      ]
    },
    {
      "cell_type": "code",
      "source": [
        "import pandas as pd"
      ],
      "metadata": {
        "id": "KHR9XLtvnWlE"
      },
      "execution_count": 150,
      "outputs": []
    },
    {
      "cell_type": "code",
      "source": [
        "df = pd.DataFrame(finalLis, columns=[\"description\", \"genres\", \"title\"])"
      ],
      "metadata": {
        "id": "KabhBYNAnn0Y"
      },
      "execution_count": 151,
      "outputs": []
    },
    {
      "cell_type": "code",
      "source": [
        "df.head()"
      ],
      "metadata": {
        "colab": {
          "base_uri": "https://localhost:8080/",
          "height": 206
        },
        "id": "pwmAxVz9n6Q9",
        "outputId": "f3928a3a-821e-4111-eac4-9d8c06e4483e"
      },
      "execution_count": 152,
      "outputs": [
        {
          "output_type": "execute_result",
          "data": {
            "text/html": [
              "\n",
              "  <div id=\"df-29b18bfc-71e3-41c3-8529-0da528562754\">\n",
              "    <div class=\"colab-df-container\">\n",
              "      <div>\n",
              "<style scoped>\n",
              "    .dataframe tbody tr th:only-of-type {\n",
              "        vertical-align: middle;\n",
              "    }\n",
              "\n",
              "    .dataframe tbody tr th {\n",
              "        vertical-align: top;\n",
              "    }\n",
              "\n",
              "    .dataframe thead th {\n",
              "        text-align: right;\n",
              "    }\n",
              "</style>\n",
              "<table border=\"1\" class=\"dataframe\">\n",
              "  <thead>\n",
              "    <tr style=\"text-align: right;\">\n",
              "      <th></th>\n",
              "      <th>description</th>\n",
              "      <th>genres</th>\n",
              "      <th>title</th>\n",
              "    </tr>\n",
              "  </thead>\n",
              "  <tbody>\n",
              "    <tr>\n",
              "      <th>0</th>\n",
              "      <td>Raj is a rich, carefree, happy-go-lucky second...</td>\n",
              "      <td>[Comedy, Drama, Romance]</td>\n",
              "      <td>Dilwale Dulhania Le Jayenge</td>\n",
              "    </tr>\n",
              "    <tr>\n",
              "      <th>1</th>\n",
              "      <td>Framed in the 1940s for the double murder of h...</td>\n",
              "      <td>[Drama, Crime]</td>\n",
              "      <td>The Shawshank Redemption</td>\n",
              "    </tr>\n",
              "    <tr>\n",
              "      <th>2</th>\n",
              "      <td>Spanning the years 1945 to 1955, a chronicle o...</td>\n",
              "      <td>[Drama, Crime]</td>\n",
              "      <td>The Godfather</td>\n",
              "    </tr>\n",
              "    <tr>\n",
              "      <th>3</th>\n",
              "      <td>A tragic accident lead to Kaori's blindness, b...</td>\n",
              "      <td>[Romance, Drama]</td>\n",
              "      <td>Your Eyes Tell</td>\n",
              "    </tr>\n",
              "    <tr>\n",
              "      <th>4</th>\n",
              "      <td>The true story of how businessman Oskar Schind...</td>\n",
              "      <td>[Drama, History, War]</td>\n",
              "      <td>Schindler's List</td>\n",
              "    </tr>\n",
              "  </tbody>\n",
              "</table>\n",
              "</div>\n",
              "      <button class=\"colab-df-convert\" onclick=\"convertToInteractive('df-29b18bfc-71e3-41c3-8529-0da528562754')\"\n",
              "              title=\"Convert this dataframe to an interactive table.\"\n",
              "              style=\"display:none;\">\n",
              "        \n",
              "  <svg xmlns=\"http://www.w3.org/2000/svg\" height=\"24px\"viewBox=\"0 0 24 24\"\n",
              "       width=\"24px\">\n",
              "    <path d=\"M0 0h24v24H0V0z\" fill=\"none\"/>\n",
              "    <path d=\"M18.56 5.44l.94 2.06.94-2.06 2.06-.94-2.06-.94-.94-2.06-.94 2.06-2.06.94zm-11 1L8.5 8.5l.94-2.06 2.06-.94-2.06-.94L8.5 2.5l-.94 2.06-2.06.94zm10 10l.94 2.06.94-2.06 2.06-.94-2.06-.94-.94-2.06-.94 2.06-2.06.94z\"/><path d=\"M17.41 7.96l-1.37-1.37c-.4-.4-.92-.59-1.43-.59-.52 0-1.04.2-1.43.59L10.3 9.45l-7.72 7.72c-.78.78-.78 2.05 0 2.83L4 21.41c.39.39.9.59 1.41.59.51 0 1.02-.2 1.41-.59l7.78-7.78 2.81-2.81c.8-.78.8-2.07 0-2.86zM5.41 20L4 18.59l7.72-7.72 1.47 1.35L5.41 20z\"/>\n",
              "  </svg>\n",
              "      </button>\n",
              "      \n",
              "  <style>\n",
              "    .colab-df-container {\n",
              "      display:flex;\n",
              "      flex-wrap:wrap;\n",
              "      gap: 12px;\n",
              "    }\n",
              "\n",
              "    .colab-df-convert {\n",
              "      background-color: #E8F0FE;\n",
              "      border: none;\n",
              "      border-radius: 50%;\n",
              "      cursor: pointer;\n",
              "      display: none;\n",
              "      fill: #1967D2;\n",
              "      height: 32px;\n",
              "      padding: 0 0 0 0;\n",
              "      width: 32px;\n",
              "    }\n",
              "\n",
              "    .colab-df-convert:hover {\n",
              "      background-color: #E2EBFA;\n",
              "      box-shadow: 0px 1px 2px rgba(60, 64, 67, 0.3), 0px 1px 3px 1px rgba(60, 64, 67, 0.15);\n",
              "      fill: #174EA6;\n",
              "    }\n",
              "\n",
              "    [theme=dark] .colab-df-convert {\n",
              "      background-color: #3B4455;\n",
              "      fill: #D2E3FC;\n",
              "    }\n",
              "\n",
              "    [theme=dark] .colab-df-convert:hover {\n",
              "      background-color: #434B5C;\n",
              "      box-shadow: 0px 1px 3px 1px rgba(0, 0, 0, 0.15);\n",
              "      filter: drop-shadow(0px 1px 2px rgba(0, 0, 0, 0.3));\n",
              "      fill: #FFFFFF;\n",
              "    }\n",
              "  </style>\n",
              "\n",
              "      <script>\n",
              "        const buttonEl =\n",
              "          document.querySelector('#df-29b18bfc-71e3-41c3-8529-0da528562754 button.colab-df-convert');\n",
              "        buttonEl.style.display =\n",
              "          google.colab.kernel.accessAllowed ? 'block' : 'none';\n",
              "\n",
              "        async function convertToInteractive(key) {\n",
              "          const element = document.querySelector('#df-29b18bfc-71e3-41c3-8529-0da528562754');\n",
              "          const dataTable =\n",
              "            await google.colab.kernel.invokeFunction('convertToInteractive',\n",
              "                                                     [key], {});\n",
              "          if (!dataTable) return;\n",
              "\n",
              "          const docLinkHtml = 'Like what you see? Visit the ' +\n",
              "            '<a target=\"_blank\" href=https://colab.research.google.com/notebooks/data_table.ipynb>data table notebook</a>'\n",
              "            + ' to learn more about interactive tables.';\n",
              "          element.innerHTML = '';\n",
              "          dataTable['output_type'] = 'display_data';\n",
              "          await google.colab.output.renderOutput(dataTable, element);\n",
              "          const docLink = document.createElement('div');\n",
              "          docLink.innerHTML = docLinkHtml;\n",
              "          element.appendChild(docLink);\n",
              "        }\n",
              "      </script>\n",
              "    </div>\n",
              "  </div>\n",
              "  "
            ],
            "text/plain": [
              "                                         description  \\\n",
              "0  Raj is a rich, carefree, happy-go-lucky second...   \n",
              "1  Framed in the 1940s for the double murder of h...   \n",
              "2  Spanning the years 1945 to 1955, a chronicle o...   \n",
              "3  A tragic accident lead to Kaori's blindness, b...   \n",
              "4  The true story of how businessman Oskar Schind...   \n",
              "\n",
              "                     genres                        title  \n",
              "0  [Comedy, Drama, Romance]  Dilwale Dulhania Le Jayenge  \n",
              "1            [Drama, Crime]     The Shawshank Redemption  \n",
              "2            [Drama, Crime]                The Godfather  \n",
              "3          [Romance, Drama]               Your Eyes Tell  \n",
              "4     [Drama, History, War]             Schindler's List  "
            ]
          },
          "metadata": {},
          "execution_count": 152
        }
      ]
    },
    {
      "cell_type": "code",
      "source": [
        "df = df[[\"title\", \"genres\", \"description\"]]"
      ],
      "metadata": {
        "id": "-Tzy9l_Zn7b5"
      },
      "execution_count": 153,
      "outputs": []
    },
    {
      "cell_type": "code",
      "source": [
        "df"
      ],
      "metadata": {
        "colab": {
          "base_uri": "https://localhost:8080/",
          "height": 423
        },
        "id": "azF9MVtooLjs",
        "outputId": "9c110de2-387e-4611-9573-869109bcd83c"
      },
      "execution_count": 154,
      "outputs": [
        {
          "output_type": "execute_result",
          "data": {
            "text/html": [
              "\n",
              "  <div id=\"df-eb798970-29e2-45bf-8fa1-43636093dbbb\">\n",
              "    <div class=\"colab-df-container\">\n",
              "      <div>\n",
              "<style scoped>\n",
              "    .dataframe tbody tr th:only-of-type {\n",
              "        vertical-align: middle;\n",
              "    }\n",
              "\n",
              "    .dataframe tbody tr th {\n",
              "        vertical-align: top;\n",
              "    }\n",
              "\n",
              "    .dataframe thead th {\n",
              "        text-align: right;\n",
              "    }\n",
              "</style>\n",
              "<table border=\"1\" class=\"dataframe\">\n",
              "  <thead>\n",
              "    <tr style=\"text-align: right;\">\n",
              "      <th></th>\n",
              "      <th>title</th>\n",
              "      <th>genres</th>\n",
              "      <th>description</th>\n",
              "    </tr>\n",
              "  </thead>\n",
              "  <tbody>\n",
              "    <tr>\n",
              "      <th>0</th>\n",
              "      <td>Dilwale Dulhania Le Jayenge</td>\n",
              "      <td>[Comedy, Drama, Romance]</td>\n",
              "      <td>Raj is a rich, carefree, happy-go-lucky second...</td>\n",
              "    </tr>\n",
              "    <tr>\n",
              "      <th>1</th>\n",
              "      <td>The Shawshank Redemption</td>\n",
              "      <td>[Drama, Crime]</td>\n",
              "      <td>Framed in the 1940s for the double murder of h...</td>\n",
              "    </tr>\n",
              "    <tr>\n",
              "      <th>2</th>\n",
              "      <td>The Godfather</td>\n",
              "      <td>[Drama, Crime]</td>\n",
              "      <td>Spanning the years 1945 to 1955, a chronicle o...</td>\n",
              "    </tr>\n",
              "    <tr>\n",
              "      <th>3</th>\n",
              "      <td>Your Eyes Tell</td>\n",
              "      <td>[Romance, Drama]</td>\n",
              "      <td>A tragic accident lead to Kaori's blindness, b...</td>\n",
              "    </tr>\n",
              "    <tr>\n",
              "      <th>4</th>\n",
              "      <td>Schindler's List</td>\n",
              "      <td>[Drama, History, War]</td>\n",
              "      <td>The true story of how businessman Oskar Schind...</td>\n",
              "    </tr>\n",
              "    <tr>\n",
              "      <th>...</th>\n",
              "      <td>...</td>\n",
              "      <td>...</td>\n",
              "      <td>...</td>\n",
              "    </tr>\n",
              "    <tr>\n",
              "      <th>9715</th>\n",
              "      <td>Alone in the Dark</td>\n",
              "      <td>[Action, Fantasy, Horror]</td>\n",
              "      <td>Edward Carnby is a private investigator specia...</td>\n",
              "    </tr>\n",
              "    <tr>\n",
              "      <th>9716</th>\n",
              "      <td>House of the Dead</td>\n",
              "      <td>[Horror, Action, Thriller]</td>\n",
              "      <td>Set on an island off the coast, a techno rave ...</td>\n",
              "    </tr>\n",
              "    <tr>\n",
              "      <th>9717</th>\n",
              "      <td>Dragonball Evolution</td>\n",
              "      <td>[Action, Adventure, Fantasy, Science Fiction, ...</td>\n",
              "      <td>The young warrior Son Goku sets out on a quest...</td>\n",
              "    </tr>\n",
              "    <tr>\n",
              "      <th>9718</th>\n",
              "      <td>Box Office 3D - Il film dei film</td>\n",
              "      <td>[Comedy]</td>\n",
              "      <td>An Italian parody of the biggest U.S. blockbus...</td>\n",
              "    </tr>\n",
              "    <tr>\n",
              "      <th>9719</th>\n",
              "      <td>Birdemic: Shock and Terror</td>\n",
              "      <td>[Science Fiction, Horror, Romance, Thriller]</td>\n",
              "      <td>A platoon of eagles and vultures attacks the r...</td>\n",
              "    </tr>\n",
              "  </tbody>\n",
              "</table>\n",
              "<p>9720 rows × 3 columns</p>\n",
              "</div>\n",
              "      <button class=\"colab-df-convert\" onclick=\"convertToInteractive('df-eb798970-29e2-45bf-8fa1-43636093dbbb')\"\n",
              "              title=\"Convert this dataframe to an interactive table.\"\n",
              "              style=\"display:none;\">\n",
              "        \n",
              "  <svg xmlns=\"http://www.w3.org/2000/svg\" height=\"24px\"viewBox=\"0 0 24 24\"\n",
              "       width=\"24px\">\n",
              "    <path d=\"M0 0h24v24H0V0z\" fill=\"none\"/>\n",
              "    <path d=\"M18.56 5.44l.94 2.06.94-2.06 2.06-.94-2.06-.94-.94-2.06-.94 2.06-2.06.94zm-11 1L8.5 8.5l.94-2.06 2.06-.94-2.06-.94L8.5 2.5l-.94 2.06-2.06.94zm10 10l.94 2.06.94-2.06 2.06-.94-2.06-.94-.94-2.06-.94 2.06-2.06.94z\"/><path d=\"M17.41 7.96l-1.37-1.37c-.4-.4-.92-.59-1.43-.59-.52 0-1.04.2-1.43.59L10.3 9.45l-7.72 7.72c-.78.78-.78 2.05 0 2.83L4 21.41c.39.39.9.59 1.41.59.51 0 1.02-.2 1.41-.59l7.78-7.78 2.81-2.81c.8-.78.8-2.07 0-2.86zM5.41 20L4 18.59l7.72-7.72 1.47 1.35L5.41 20z\"/>\n",
              "  </svg>\n",
              "      </button>\n",
              "      \n",
              "  <style>\n",
              "    .colab-df-container {\n",
              "      display:flex;\n",
              "      flex-wrap:wrap;\n",
              "      gap: 12px;\n",
              "    }\n",
              "\n",
              "    .colab-df-convert {\n",
              "      background-color: #E8F0FE;\n",
              "      border: none;\n",
              "      border-radius: 50%;\n",
              "      cursor: pointer;\n",
              "      display: none;\n",
              "      fill: #1967D2;\n",
              "      height: 32px;\n",
              "      padding: 0 0 0 0;\n",
              "      width: 32px;\n",
              "    }\n",
              "\n",
              "    .colab-df-convert:hover {\n",
              "      background-color: #E2EBFA;\n",
              "      box-shadow: 0px 1px 2px rgba(60, 64, 67, 0.3), 0px 1px 3px 1px rgba(60, 64, 67, 0.15);\n",
              "      fill: #174EA6;\n",
              "    }\n",
              "\n",
              "    [theme=dark] .colab-df-convert {\n",
              "      background-color: #3B4455;\n",
              "      fill: #D2E3FC;\n",
              "    }\n",
              "\n",
              "    [theme=dark] .colab-df-convert:hover {\n",
              "      background-color: #434B5C;\n",
              "      box-shadow: 0px 1px 3px 1px rgba(0, 0, 0, 0.15);\n",
              "      filter: drop-shadow(0px 1px 2px rgba(0, 0, 0, 0.3));\n",
              "      fill: #FFFFFF;\n",
              "    }\n",
              "  </style>\n",
              "\n",
              "      <script>\n",
              "        const buttonEl =\n",
              "          document.querySelector('#df-eb798970-29e2-45bf-8fa1-43636093dbbb button.colab-df-convert');\n",
              "        buttonEl.style.display =\n",
              "          google.colab.kernel.accessAllowed ? 'block' : 'none';\n",
              "\n",
              "        async function convertToInteractive(key) {\n",
              "          const element = document.querySelector('#df-eb798970-29e2-45bf-8fa1-43636093dbbb');\n",
              "          const dataTable =\n",
              "            await google.colab.kernel.invokeFunction('convertToInteractive',\n",
              "                                                     [key], {});\n",
              "          if (!dataTable) return;\n",
              "\n",
              "          const docLinkHtml = 'Like what you see? Visit the ' +\n",
              "            '<a target=\"_blank\" href=https://colab.research.google.com/notebooks/data_table.ipynb>data table notebook</a>'\n",
              "            + ' to learn more about interactive tables.';\n",
              "          element.innerHTML = '';\n",
              "          dataTable['output_type'] = 'display_data';\n",
              "          await google.colab.output.renderOutput(dataTable, element);\n",
              "          const docLink = document.createElement('div');\n",
              "          docLink.innerHTML = docLinkHtml;\n",
              "          element.appendChild(docLink);\n",
              "        }\n",
              "      </script>\n",
              "    </div>\n",
              "  </div>\n",
              "  "
            ],
            "text/plain": [
              "                                 title  \\\n",
              "0          Dilwale Dulhania Le Jayenge   \n",
              "1             The Shawshank Redemption   \n",
              "2                        The Godfather   \n",
              "3                       Your Eyes Tell   \n",
              "4                     Schindler's List   \n",
              "...                                ...   \n",
              "9715                 Alone in the Dark   \n",
              "9716                 House of the Dead   \n",
              "9717              Dragonball Evolution   \n",
              "9718  Box Office 3D - Il film dei film   \n",
              "9719        Birdemic: Shock and Terror   \n",
              "\n",
              "                                                 genres  \\\n",
              "0                              [Comedy, Drama, Romance]   \n",
              "1                                        [Drama, Crime]   \n",
              "2                                        [Drama, Crime]   \n",
              "3                                      [Romance, Drama]   \n",
              "4                                 [Drama, History, War]   \n",
              "...                                                 ...   \n",
              "9715                          [Action, Fantasy, Horror]   \n",
              "9716                         [Horror, Action, Thriller]   \n",
              "9717  [Action, Adventure, Fantasy, Science Fiction, ...   \n",
              "9718                                           [Comedy]   \n",
              "9719       [Science Fiction, Horror, Romance, Thriller]   \n",
              "\n",
              "                                            description  \n",
              "0     Raj is a rich, carefree, happy-go-lucky second...  \n",
              "1     Framed in the 1940s for the double murder of h...  \n",
              "2     Spanning the years 1945 to 1955, a chronicle o...  \n",
              "3     A tragic accident lead to Kaori's blindness, b...  \n",
              "4     The true story of how businessman Oskar Schind...  \n",
              "...                                                 ...  \n",
              "9715  Edward Carnby is a private investigator specia...  \n",
              "9716  Set on an island off the coast, a techno rave ...  \n",
              "9717  The young warrior Son Goku sets out on a quest...  \n",
              "9718  An Italian parody of the biggest U.S. blockbus...  \n",
              "9719  A platoon of eagles and vultures attacks the r...  \n",
              "\n",
              "[9720 rows x 3 columns]"
            ]
          },
          "metadata": {},
          "execution_count": 154
        }
      ]
    },
    {
      "cell_type": "markdown",
      "source": [
        "# Making everything Lower Case"
      ],
      "metadata": {
        "id": "DivfD-GUBUmD"
      }
    },
    {
      "cell_type": "code",
      "source": [
        "df.description = df.description.str.lower()"
      ],
      "metadata": {
        "id": "3R_mZKo9oMJE"
      },
      "execution_count": 155,
      "outputs": []
    },
    {
      "cell_type": "code",
      "source": [
        "df.description"
      ],
      "metadata": {
        "colab": {
          "base_uri": "https://localhost:8080/"
        },
        "id": "mFdSzJPKoalh",
        "outputId": "753e569b-36c4-4f50-ff6b-7fc9256b50e2"
      },
      "execution_count": 156,
      "outputs": [
        {
          "output_type": "execute_result",
          "data": {
            "text/plain": [
              "0       raj is a rich, carefree, happy-go-lucky second...\n",
              "1       framed in the 1940s for the double murder of h...\n",
              "2       spanning the years 1945 to 1955, a chronicle o...\n",
              "3       a tragic accident lead to kaori's blindness, b...\n",
              "4       the true story of how businessman oskar schind...\n",
              "                              ...                        \n",
              "9715    edward carnby is a private investigator specia...\n",
              "9716    set on an island off the coast, a techno rave ...\n",
              "9717    the young warrior son goku sets out on a quest...\n",
              "9718    an italian parody of the biggest u.s. blockbus...\n",
              "9719    a platoon of eagles and vultures attacks the r...\n",
              "Name: description, Length: 9720, dtype: object"
            ]
          },
          "metadata": {},
          "execution_count": 156
        }
      ]
    },
    {
      "cell_type": "markdown",
      "source": [
        "# Removing HTML Tags"
      ],
      "metadata": {
        "id": "ZfJy3LgCBPz2"
      }
    },
    {
      "cell_type": "markdown",
      "source": [
        "example"
      ],
      "metadata": {
        "id": "b05GhJS2rNf-"
      }
    },
    {
      "cell_type": "code",
      "source": [
        "import re\n",
        "def striphtml(data):\n",
        "    p = re.compile(r'<.*?>')\n",
        "    return p.sub('', data)\n",
        "\n",
        "striphtml('<a href=\"foo.com\" class=\"bar\">I Want This <b>text!</b></a>')\n"
      ],
      "metadata": {
        "colab": {
          "base_uri": "https://localhost:8080/",
          "height": 35
        },
        "id": "Nq2trEeEpRvz",
        "outputId": "6397a7cf-722a-43bb-a59f-6d9c35129853"
      },
      "execution_count": 157,
      "outputs": [
        {
          "output_type": "execute_result",
          "data": {
            "application/vnd.google.colaboratory.intrinsic+json": {
              "type": "string"
            },
            "text/plain": [
              "'I Want This text!'"
            ]
          },
          "metadata": {},
          "execution_count": 157
        }
      ]
    },
    {
      "cell_type": "code",
      "source": [
        "k = df.description.apply(lambda x:striphtml(x))"
      ],
      "metadata": {
        "id": "fvujaF3Eppzf"
      },
      "execution_count": 158,
      "outputs": []
    },
    {
      "cell_type": "code",
      "source": [
        "for item1, item2 in zip(k, df.description):\n",
        "  if item1 != item2:\n",
        "    print(item2)"
      ],
      "metadata": {
        "id": "KEnqxpIkq71C"
      },
      "execution_count": 159,
      "outputs": []
    },
    {
      "cell_type": "code",
      "source": [
        "dic = dict(k == df.description)"
      ],
      "metadata": {
        "id": "YAfbEW3Lpysp"
      },
      "execution_count": 160,
      "outputs": []
    },
    {
      "cell_type": "code",
      "source": [
        "type(dic)"
      ],
      "metadata": {
        "colab": {
          "base_uri": "https://localhost:8080/"
        },
        "id": "8oZs8vyNsMt6",
        "outputId": "e5547c4d-40b9-4451-b0b0-2bf15203645e"
      },
      "execution_count": 161,
      "outputs": [
        {
          "output_type": "execute_result",
          "data": {
            "text/plain": [
              "dict"
            ]
          },
          "metadata": {},
          "execution_count": 161
        }
      ]
    },
    {
      "cell_type": "code",
      "source": [
        "for i in dic:\n",
        "  if dic[i] == False:\n",
        "    print(dic[i])"
      ],
      "metadata": {
        "id": "UODr21Eir_KK"
      },
      "execution_count": 162,
      "outputs": []
    },
    {
      "cell_type": "markdown",
      "source": [
        "since above code gave no output, there were no html tags in our description"
      ],
      "metadata": {
        "id": "y50_j12Mrew1"
      }
    },
    {
      "cell_type": "markdown",
      "source": [
        "Looks like we don't need to remove html tags"
      ],
      "metadata": {
        "id": "A63eWSqlp-5z"
      }
    },
    {
      "cell_type": "markdown",
      "source": [
        "let's make sure with this example that above approach is right to determine whether we want to remove html tags."
      ],
      "metadata": {
        "id": "Jc9c_JTg_wGD"
      }
    },
    {
      "cell_type": "code",
      "source": [
        "sr = pd.Series([\"hello\", \"my name is <p>vishal</p>thakur\", \"Who <html>are</html>you\"])"
      ],
      "metadata": {
        "id": "fX7cBEG0p4bu"
      },
      "execution_count": 163,
      "outputs": []
    },
    {
      "cell_type": "code",
      "source": [
        "sr"
      ],
      "metadata": {
        "colab": {
          "base_uri": "https://localhost:8080/"
        },
        "id": "nw0SK0mg_0l7",
        "outputId": "c6f43030-6c51-4573-9578-bb6c6dac2d31"
      },
      "execution_count": 164,
      "outputs": [
        {
          "output_type": "execute_result",
          "data": {
            "text/plain": [
              "0                             hello\n",
              "1    my name is <p>vishal</p>thakur\n",
              "2           Who <html>are</html>you\n",
              "dtype: object"
            ]
          },
          "metadata": {},
          "execution_count": 164
        }
      ]
    },
    {
      "cell_type": "code",
      "source": [
        "kk = sr.apply(lambda x: striphtml(x))"
      ],
      "metadata": {
        "id": "AoAoHjg3qS5e"
      },
      "execution_count": 165,
      "outputs": []
    },
    {
      "cell_type": "code",
      "source": [
        "kk"
      ],
      "metadata": {
        "colab": {
          "base_uri": "https://localhost:8080/"
        },
        "id": "W6ymUYu4_4l7",
        "outputId": "4f16e379-c740-4bcd-d1dc-3c006253bfec"
      },
      "execution_count": 166,
      "outputs": [
        {
          "output_type": "execute_result",
          "data": {
            "text/plain": [
              "0                      hello\n",
              "1    my name is vishalthakur\n",
              "2                 Who areyou\n",
              "dtype: object"
            ]
          },
          "metadata": {},
          "execution_count": 166
        }
      ]
    },
    {
      "cell_type": "code",
      "source": [
        "dic2 = dict(kk == sr)"
      ],
      "metadata": {
        "id": "JWGYCxPkqZzM"
      },
      "execution_count": 167,
      "outputs": []
    },
    {
      "cell_type": "code",
      "source": [
        "dic2"
      ],
      "metadata": {
        "colab": {
          "base_uri": "https://localhost:8080/"
        },
        "id": "cA1oRIN-_rv1",
        "outputId": "73b38e6b-eeba-4428-a872-e77aa7ab1b7d"
      },
      "execution_count": 168,
      "outputs": [
        {
          "output_type": "execute_result",
          "data": {
            "text/plain": [
              "{0: True, 1: False, 2: False}"
            ]
          },
          "metadata": {},
          "execution_count": 168
        }
      ]
    },
    {
      "cell_type": "code",
      "source": [
        "for i in dic2:\n",
        "  if dic2[i] == False:\n",
        "    print(i)"
      ],
      "metadata": {
        "colab": {
          "base_uri": "https://localhost:8080/"
        },
        "id": "eK7zj4meqbof",
        "outputId": "129b9503-264f-4a54-c208-9b93022f1a6f"
      },
      "execution_count": 169,
      "outputs": [
        {
          "output_type": "stream",
          "name": "stdout",
          "text": [
            "1\n",
            "2\n"
          ]
        }
      ]
    },
    {
      "cell_type": "markdown",
      "source": [
        "as you can see, above code gave output of 1 and 2, but same code didn't gave any output on our description."
      ],
      "metadata": {
        "id": "YZ-qMuJrroi2"
      }
    },
    {
      "cell_type": "markdown",
      "source": [
        "# Removing Puntuations"
      ],
      "metadata": {
        "id": "riih_exjBKRi"
      }
    },
    {
      "cell_type": "code",
      "source": [
        "pattern = re.compile(r'[^\\w\\s]')"
      ],
      "metadata": {
        "id": "c1C2jZq7AUTM"
      },
      "execution_count": 170,
      "outputs": []
    },
    {
      "cell_type": "code",
      "source": [
        "re.sub(pattern,\"\", \"hello! my name is ? vishal\")"
      ],
      "metadata": {
        "colab": {
          "base_uri": "https://localhost:8080/",
          "height": 35
        },
        "id": "k_dG5_DyAcSC",
        "outputId": "74033b32-327b-4d12-e83f-a3eb759a4491"
      },
      "execution_count": 171,
      "outputs": [
        {
          "output_type": "execute_result",
          "data": {
            "application/vnd.google.colaboratory.intrinsic+json": {
              "type": "string"
            },
            "text/plain": [
              "'hello my name is  vishal'"
            ]
          },
          "metadata": {},
          "execution_count": 171
        }
      ]
    },
    {
      "cell_type": "code",
      "source": [
        "df.description = df.description.apply(lambda x: re.sub(pattern, \"\", x))"
      ],
      "metadata": {
        "id": "Y1ocaawaAjkl"
      },
      "execution_count": 172,
      "outputs": []
    },
    {
      "cell_type": "code",
      "source": [
        "df.description"
      ],
      "metadata": {
        "colab": {
          "base_uri": "https://localhost:8080/"
        },
        "id": "V_NI75TwA87Z",
        "outputId": "7fb34c1a-65ab-4300-d4ce-7d47708b2ef6"
      },
      "execution_count": 173,
      "outputs": [
        {
          "output_type": "execute_result",
          "data": {
            "text/plain": [
              "0       raj is a rich carefree happygolucky second gen...\n",
              "1       framed in the 1940s for the double murder of h...\n",
              "2       spanning the years 1945 to 1955 a chronicle of...\n",
              "3       a tragic accident lead to kaoris blindness but...\n",
              "4       the true story of how businessman oskar schind...\n",
              "                              ...                        \n",
              "9715    edward carnby is a private investigator specia...\n",
              "9716    set on an island off the coast a techno rave p...\n",
              "9717    the young warrior son goku sets out on a quest...\n",
              "9718    an italian parody of the biggest us blockbuste...\n",
              "9719    a platoon of eagles and vultures attacks the r...\n",
              "Name: description, Length: 9720, dtype: object"
            ]
          },
          "metadata": {},
          "execution_count": 173
        }
      ]
    },
    {
      "cell_type": "code",
      "source": [
        "df"
      ],
      "metadata": {
        "colab": {
          "base_uri": "https://localhost:8080/",
          "height": 423
        },
        "id": "3dGVjPeJA-N9",
        "outputId": "65226e00-9e02-4c9d-ea6d-31534ed0716b"
      },
      "execution_count": 174,
      "outputs": [
        {
          "output_type": "execute_result",
          "data": {
            "text/html": [
              "\n",
              "  <div id=\"df-5d7a86bf-afa3-46fd-a621-502464f58802\">\n",
              "    <div class=\"colab-df-container\">\n",
              "      <div>\n",
              "<style scoped>\n",
              "    .dataframe tbody tr th:only-of-type {\n",
              "        vertical-align: middle;\n",
              "    }\n",
              "\n",
              "    .dataframe tbody tr th {\n",
              "        vertical-align: top;\n",
              "    }\n",
              "\n",
              "    .dataframe thead th {\n",
              "        text-align: right;\n",
              "    }\n",
              "</style>\n",
              "<table border=\"1\" class=\"dataframe\">\n",
              "  <thead>\n",
              "    <tr style=\"text-align: right;\">\n",
              "      <th></th>\n",
              "      <th>title</th>\n",
              "      <th>genres</th>\n",
              "      <th>description</th>\n",
              "    </tr>\n",
              "  </thead>\n",
              "  <tbody>\n",
              "    <tr>\n",
              "      <th>0</th>\n",
              "      <td>Dilwale Dulhania Le Jayenge</td>\n",
              "      <td>[Comedy, Drama, Romance]</td>\n",
              "      <td>raj is a rich carefree happygolucky second gen...</td>\n",
              "    </tr>\n",
              "    <tr>\n",
              "      <th>1</th>\n",
              "      <td>The Shawshank Redemption</td>\n",
              "      <td>[Drama, Crime]</td>\n",
              "      <td>framed in the 1940s for the double murder of h...</td>\n",
              "    </tr>\n",
              "    <tr>\n",
              "      <th>2</th>\n",
              "      <td>The Godfather</td>\n",
              "      <td>[Drama, Crime]</td>\n",
              "      <td>spanning the years 1945 to 1955 a chronicle of...</td>\n",
              "    </tr>\n",
              "    <tr>\n",
              "      <th>3</th>\n",
              "      <td>Your Eyes Tell</td>\n",
              "      <td>[Romance, Drama]</td>\n",
              "      <td>a tragic accident lead to kaoris blindness but...</td>\n",
              "    </tr>\n",
              "    <tr>\n",
              "      <th>4</th>\n",
              "      <td>Schindler's List</td>\n",
              "      <td>[Drama, History, War]</td>\n",
              "      <td>the true story of how businessman oskar schind...</td>\n",
              "    </tr>\n",
              "    <tr>\n",
              "      <th>...</th>\n",
              "      <td>...</td>\n",
              "      <td>...</td>\n",
              "      <td>...</td>\n",
              "    </tr>\n",
              "    <tr>\n",
              "      <th>9715</th>\n",
              "      <td>Alone in the Dark</td>\n",
              "      <td>[Action, Fantasy, Horror]</td>\n",
              "      <td>edward carnby is a private investigator specia...</td>\n",
              "    </tr>\n",
              "    <tr>\n",
              "      <th>9716</th>\n",
              "      <td>House of the Dead</td>\n",
              "      <td>[Horror, Action, Thriller]</td>\n",
              "      <td>set on an island off the coast a techno rave p...</td>\n",
              "    </tr>\n",
              "    <tr>\n",
              "      <th>9717</th>\n",
              "      <td>Dragonball Evolution</td>\n",
              "      <td>[Action, Adventure, Fantasy, Science Fiction, ...</td>\n",
              "      <td>the young warrior son goku sets out on a quest...</td>\n",
              "    </tr>\n",
              "    <tr>\n",
              "      <th>9718</th>\n",
              "      <td>Box Office 3D - Il film dei film</td>\n",
              "      <td>[Comedy]</td>\n",
              "      <td>an italian parody of the biggest us blockbuste...</td>\n",
              "    </tr>\n",
              "    <tr>\n",
              "      <th>9719</th>\n",
              "      <td>Birdemic: Shock and Terror</td>\n",
              "      <td>[Science Fiction, Horror, Romance, Thriller]</td>\n",
              "      <td>a platoon of eagles and vultures attacks the r...</td>\n",
              "    </tr>\n",
              "  </tbody>\n",
              "</table>\n",
              "<p>9720 rows × 3 columns</p>\n",
              "</div>\n",
              "      <button class=\"colab-df-convert\" onclick=\"convertToInteractive('df-5d7a86bf-afa3-46fd-a621-502464f58802')\"\n",
              "              title=\"Convert this dataframe to an interactive table.\"\n",
              "              style=\"display:none;\">\n",
              "        \n",
              "  <svg xmlns=\"http://www.w3.org/2000/svg\" height=\"24px\"viewBox=\"0 0 24 24\"\n",
              "       width=\"24px\">\n",
              "    <path d=\"M0 0h24v24H0V0z\" fill=\"none\"/>\n",
              "    <path d=\"M18.56 5.44l.94 2.06.94-2.06 2.06-.94-2.06-.94-.94-2.06-.94 2.06-2.06.94zm-11 1L8.5 8.5l.94-2.06 2.06-.94-2.06-.94L8.5 2.5l-.94 2.06-2.06.94zm10 10l.94 2.06.94-2.06 2.06-.94-2.06-.94-.94-2.06-.94 2.06-2.06.94z\"/><path d=\"M17.41 7.96l-1.37-1.37c-.4-.4-.92-.59-1.43-.59-.52 0-1.04.2-1.43.59L10.3 9.45l-7.72 7.72c-.78.78-.78 2.05 0 2.83L4 21.41c.39.39.9.59 1.41.59.51 0 1.02-.2 1.41-.59l7.78-7.78 2.81-2.81c.8-.78.8-2.07 0-2.86zM5.41 20L4 18.59l7.72-7.72 1.47 1.35L5.41 20z\"/>\n",
              "  </svg>\n",
              "      </button>\n",
              "      \n",
              "  <style>\n",
              "    .colab-df-container {\n",
              "      display:flex;\n",
              "      flex-wrap:wrap;\n",
              "      gap: 12px;\n",
              "    }\n",
              "\n",
              "    .colab-df-convert {\n",
              "      background-color: #E8F0FE;\n",
              "      border: none;\n",
              "      border-radius: 50%;\n",
              "      cursor: pointer;\n",
              "      display: none;\n",
              "      fill: #1967D2;\n",
              "      height: 32px;\n",
              "      padding: 0 0 0 0;\n",
              "      width: 32px;\n",
              "    }\n",
              "\n",
              "    .colab-df-convert:hover {\n",
              "      background-color: #E2EBFA;\n",
              "      box-shadow: 0px 1px 2px rgba(60, 64, 67, 0.3), 0px 1px 3px 1px rgba(60, 64, 67, 0.15);\n",
              "      fill: #174EA6;\n",
              "    }\n",
              "\n",
              "    [theme=dark] .colab-df-convert {\n",
              "      background-color: #3B4455;\n",
              "      fill: #D2E3FC;\n",
              "    }\n",
              "\n",
              "    [theme=dark] .colab-df-convert:hover {\n",
              "      background-color: #434B5C;\n",
              "      box-shadow: 0px 1px 3px 1px rgba(0, 0, 0, 0.15);\n",
              "      filter: drop-shadow(0px 1px 2px rgba(0, 0, 0, 0.3));\n",
              "      fill: #FFFFFF;\n",
              "    }\n",
              "  </style>\n",
              "\n",
              "      <script>\n",
              "        const buttonEl =\n",
              "          document.querySelector('#df-5d7a86bf-afa3-46fd-a621-502464f58802 button.colab-df-convert');\n",
              "        buttonEl.style.display =\n",
              "          google.colab.kernel.accessAllowed ? 'block' : 'none';\n",
              "\n",
              "        async function convertToInteractive(key) {\n",
              "          const element = document.querySelector('#df-5d7a86bf-afa3-46fd-a621-502464f58802');\n",
              "          const dataTable =\n",
              "            await google.colab.kernel.invokeFunction('convertToInteractive',\n",
              "                                                     [key], {});\n",
              "          if (!dataTable) return;\n",
              "\n",
              "          const docLinkHtml = 'Like what you see? Visit the ' +\n",
              "            '<a target=\"_blank\" href=https://colab.research.google.com/notebooks/data_table.ipynb>data table notebook</a>'\n",
              "            + ' to learn more about interactive tables.';\n",
              "          element.innerHTML = '';\n",
              "          dataTable['output_type'] = 'display_data';\n",
              "          await google.colab.output.renderOutput(dataTable, element);\n",
              "          const docLink = document.createElement('div');\n",
              "          docLink.innerHTML = docLinkHtml;\n",
              "          element.appendChild(docLink);\n",
              "        }\n",
              "      </script>\n",
              "    </div>\n",
              "  </div>\n",
              "  "
            ],
            "text/plain": [
              "                                 title  \\\n",
              "0          Dilwale Dulhania Le Jayenge   \n",
              "1             The Shawshank Redemption   \n",
              "2                        The Godfather   \n",
              "3                       Your Eyes Tell   \n",
              "4                     Schindler's List   \n",
              "...                                ...   \n",
              "9715                 Alone in the Dark   \n",
              "9716                 House of the Dead   \n",
              "9717              Dragonball Evolution   \n",
              "9718  Box Office 3D - Il film dei film   \n",
              "9719        Birdemic: Shock and Terror   \n",
              "\n",
              "                                                 genres  \\\n",
              "0                              [Comedy, Drama, Romance]   \n",
              "1                                        [Drama, Crime]   \n",
              "2                                        [Drama, Crime]   \n",
              "3                                      [Romance, Drama]   \n",
              "4                                 [Drama, History, War]   \n",
              "...                                                 ...   \n",
              "9715                          [Action, Fantasy, Horror]   \n",
              "9716                         [Horror, Action, Thriller]   \n",
              "9717  [Action, Adventure, Fantasy, Science Fiction, ...   \n",
              "9718                                           [Comedy]   \n",
              "9719       [Science Fiction, Horror, Romance, Thriller]   \n",
              "\n",
              "                                            description  \n",
              "0     raj is a rich carefree happygolucky second gen...  \n",
              "1     framed in the 1940s for the double murder of h...  \n",
              "2     spanning the years 1945 to 1955 a chronicle of...  \n",
              "3     a tragic accident lead to kaoris blindness but...  \n",
              "4     the true story of how businessman oskar schind...  \n",
              "...                                                 ...  \n",
              "9715  edward carnby is a private investigator specia...  \n",
              "9716  set on an island off the coast a techno rave p...  \n",
              "9717  the young warrior son goku sets out on a quest...  \n",
              "9718  an italian parody of the biggest us blockbuste...  \n",
              "9719  a platoon of eagles and vultures attacks the r...  \n",
              "\n",
              "[9720 rows x 3 columns]"
            ]
          },
          "metadata": {},
          "execution_count": 174
        }
      ]
    },
    {
      "cell_type": "markdown",
      "source": [
        "# Spelling correction"
      ],
      "metadata": {
        "id": "jberPwMIBpXs"
      }
    },
    {
      "cell_type": "code",
      "source": [
        "! pip install textblob"
      ],
      "metadata": {
        "colab": {
          "base_uri": "https://localhost:8080/"
        },
        "id": "blMNT1EGBGZV",
        "outputId": "cfca53fc-8683-4bd6-a8a9-7c4db52cbd03"
      },
      "execution_count": 175,
      "outputs": [
        {
          "output_type": "stream",
          "name": "stdout",
          "text": [
            "Requirement already satisfied: textblob in /usr/local/lib/python3.7/dist-packages (0.15.3)\n",
            "Requirement already satisfied: nltk>=3.1 in /usr/local/lib/python3.7/dist-packages (from textblob) (3.2.5)\n",
            "Requirement already satisfied: six in /usr/local/lib/python3.7/dist-packages (from nltk>=3.1->textblob) (1.15.0)\n"
          ]
        }
      ]
    },
    {
      "cell_type": "code",
      "source": [
        "from textblob import TextBlob"
      ],
      "metadata": {
        "id": "b_QkOhkzBvmA"
      },
      "execution_count": 176,
      "outputs": []
    },
    {
      "cell_type": "code",
      "source": [
        "str1 = \"helo, my nami is vishal Thakur. Who are you\""
      ],
      "metadata": {
        "id": "ec9b-TktB2U3"
      },
      "execution_count": 177,
      "outputs": []
    },
    {
      "cell_type": "code",
      "source": [
        "blb = TextBlob(str1)"
      ],
      "metadata": {
        "id": "xcIand_VCMd4"
      },
      "execution_count": 178,
      "outputs": []
    },
    {
      "cell_type": "code",
      "source": [
        "blb.correct().string"
      ],
      "metadata": {
        "colab": {
          "base_uri": "https://localhost:8080/",
          "height": 35
        },
        "id": "oOUtFHsGCO-x",
        "outputId": "45323d47-424d-48b4-9528-8951eb05e115"
      },
      "execution_count": 179,
      "outputs": [
        {
          "output_type": "execute_result",
          "data": {
            "application/vnd.google.colaboratory.intrinsic+json": {
              "type": "string"
            },
            "text/plain": [
              "'held, my name is visual Thakur. Who are you'"
            ]
          },
          "metadata": {},
          "execution_count": 179
        }
      ]
    },
    {
      "cell_type": "markdown",
      "source": [
        "looks like it is making some mistakes on non english words. Also, since this is movied descriptions, it will not have many spelling mistakes. So let's not do any spell corrections"
      ],
      "metadata": {
        "id": "Mswl6XEQCVef"
      }
    },
    {
      "cell_type": "markdown",
      "source": [
        "# Stop words treatment"
      ],
      "metadata": {
        "id": "1cHRTBDxCrwh"
      }
    },
    {
      "cell_type": "code",
      "source": [
        "! pip install nltk"
      ],
      "metadata": {
        "colab": {
          "base_uri": "https://localhost:8080/"
        },
        "id": "7ab3MkW-CQIB",
        "outputId": "5fcc590b-2ed9-4f25-fc83-4a31ebc4ebae"
      },
      "execution_count": 180,
      "outputs": [
        {
          "output_type": "stream",
          "name": "stdout",
          "text": [
            "Requirement already satisfied: nltk in /usr/local/lib/python3.7/dist-packages (3.2.5)\n",
            "Requirement already satisfied: six in /usr/local/lib/python3.7/dist-packages (from nltk) (1.15.0)\n"
          ]
        }
      ]
    },
    {
      "cell_type": "code",
      "source": [
        "import nltk"
      ],
      "metadata": {
        "id": "vayRyTH8DUJh"
      },
      "execution_count": 181,
      "outputs": []
    },
    {
      "cell_type": "code",
      "source": [
        "nltk.download(\"stopwords\")\n",
        "from nltk.corpus import stopwords"
      ],
      "metadata": {
        "colab": {
          "base_uri": "https://localhost:8080/"
        },
        "id": "ul2H3hxzCxC1",
        "outputId": "b79422f5-6407-4232-966f-2d49330b7f8d"
      },
      "execution_count": 182,
      "outputs": [
        {
          "output_type": "stream",
          "name": "stdout",
          "text": [
            "[nltk_data] Downloading package stopwords to /root/nltk_data...\n",
            "[nltk_data]   Package stopwords is already up-to-date!\n"
          ]
        }
      ]
    },
    {
      "cell_type": "code",
      "source": [
        "stopwords.words(\"english\")[:10]"
      ],
      "metadata": {
        "colab": {
          "base_uri": "https://localhost:8080/"
        },
        "id": "oslas3OqC4Ju",
        "outputId": "9972cc20-1198-4f32-83dc-b9215738f32f"
      },
      "execution_count": 183,
      "outputs": [
        {
          "output_type": "execute_result",
          "data": {
            "text/plain": [
              "['i', 'me', 'my', 'myself', 'we', 'our', 'ours', 'ourselves', 'you', \"you're\"]"
            ]
          },
          "metadata": {},
          "execution_count": 183
        }
      ]
    },
    {
      "cell_type": "code",
      "source": [
        "len(stopwords.words(\"english\"))"
      ],
      "metadata": {
        "colab": {
          "base_uri": "https://localhost:8080/"
        },
        "id": "q4hpVuNrdAvR",
        "outputId": "7d625966-d25e-44dd-ddeb-a13a3523a40c"
      },
      "execution_count": 184,
      "outputs": [
        {
          "output_type": "execute_result",
          "data": {
            "text/plain": [
              "179"
            ]
          },
          "metadata": {},
          "execution_count": 184
        }
      ]
    },
    {
      "cell_type": "markdown",
      "source": [
        "looks like we have 179 stop words"
      ],
      "metadata": {
        "id": "nayWHf7ydD5u"
      }
    },
    {
      "cell_type": "markdown",
      "source": [
        "We will split the text, then remove stop words."
      ],
      "metadata": {
        "id": "eT2ilmIxdKu9"
      }
    },
    {
      "cell_type": "code",
      "source": [
        "# let's see how join works\n",
        "a = [\"a\", \"b\", \"c\", \"d\"]\n",
        "\" \".join(a)"
      ],
      "metadata": {
        "colab": {
          "base_uri": "https://localhost:8080/",
          "height": 35
        },
        "id": "zGXWp406dq8V",
        "outputId": "d2f718c4-fb5e-47e6-d299-691984d4f810"
      },
      "execution_count": 185,
      "outputs": [
        {
          "output_type": "execute_result",
          "data": {
            "application/vnd.google.colaboratory.intrinsic+json": {
              "type": "string"
            },
            "text/plain": [
              "'abcd'"
            ]
          },
          "metadata": {},
          "execution_count": 185
        }
      ]
    },
    {
      "cell_type": "code",
      "source": [
        "def remove_stop(text):\n",
        "  lis = []\n",
        "  for word in text.split():\n",
        "    if word not in stopwords.words(\"english\"):\n",
        "      lis.append(word)\n",
        "  return \" \".join(lis)\n"
      ],
      "metadata": {
        "id": "qPmXhSU0D7Wh"
      },
      "execution_count": 186,
      "outputs": []
    },
    {
      "cell_type": "markdown",
      "source": [
        "as you can see, we are joining every thing back. We will be tokenizing everything again, so we don't need to join it back. We can just return the list.\n",
        "\n",
        "`return lis`"
      ],
      "metadata": {
        "id": "B0VvvuPvr28V"
      }
    },
    {
      "cell_type": "code",
      "source": [
        "series = df.description.apply(lambda x: remove_stop(x))"
      ],
      "metadata": {
        "id": "Iel9yyFYDAGM"
      },
      "execution_count": 187,
      "outputs": []
    },
    {
      "cell_type": "code",
      "source": [
        "df.description = series"
      ],
      "metadata": {
        "id": "FOQGxlCAd-2k"
      },
      "execution_count": 188,
      "outputs": []
    },
    {
      "cell_type": "code",
      "source": [
        "df"
      ],
      "metadata": {
        "colab": {
          "base_uri": "https://localhost:8080/",
          "height": 423
        },
        "id": "Bpg7hsD7fcOi",
        "outputId": "fa372da6-e639-473b-9eb7-3159c9d5ce6c"
      },
      "execution_count": 189,
      "outputs": [
        {
          "output_type": "execute_result",
          "data": {
            "text/html": [
              "\n",
              "  <div id=\"df-2f8eb85f-2475-4476-9f10-d25f738a4838\">\n",
              "    <div class=\"colab-df-container\">\n",
              "      <div>\n",
              "<style scoped>\n",
              "    .dataframe tbody tr th:only-of-type {\n",
              "        vertical-align: middle;\n",
              "    }\n",
              "\n",
              "    .dataframe tbody tr th {\n",
              "        vertical-align: top;\n",
              "    }\n",
              "\n",
              "    .dataframe thead th {\n",
              "        text-align: right;\n",
              "    }\n",
              "</style>\n",
              "<table border=\"1\" class=\"dataframe\">\n",
              "  <thead>\n",
              "    <tr style=\"text-align: right;\">\n",
              "      <th></th>\n",
              "      <th>title</th>\n",
              "      <th>genres</th>\n",
              "      <th>description</th>\n",
              "    </tr>\n",
              "  </thead>\n",
              "  <tbody>\n",
              "    <tr>\n",
              "      <th>0</th>\n",
              "      <td>Dilwale Dulhania Le Jayenge</td>\n",
              "      <td>[Comedy, Drama, Romance]</td>\n",
              "      <td>raj rich carefree happygolucky second generati...</td>\n",
              "    </tr>\n",
              "    <tr>\n",
              "      <th>1</th>\n",
              "      <td>The Shawshank Redemption</td>\n",
              "      <td>[Drama, Crime]</td>\n",
              "      <td>framed 1940s double murder wife lover upstandi...</td>\n",
              "    </tr>\n",
              "    <tr>\n",
              "      <th>2</th>\n",
              "      <td>The Godfather</td>\n",
              "      <td>[Drama, Crime]</td>\n",
              "      <td>spanning years 1945 1955 chronicle fictional i...</td>\n",
              "    </tr>\n",
              "    <tr>\n",
              "      <th>3</th>\n",
              "      <td>Your Eyes Tell</td>\n",
              "      <td>[Romance, Drama]</td>\n",
              "      <td>tragic accident lead kaoris blindness clings l...</td>\n",
              "    </tr>\n",
              "    <tr>\n",
              "      <th>4</th>\n",
              "      <td>Schindler's List</td>\n",
              "      <td>[Drama, History, War]</td>\n",
              "      <td>true story businessman oskar schindler saved t...</td>\n",
              "    </tr>\n",
              "    <tr>\n",
              "      <th>...</th>\n",
              "      <td>...</td>\n",
              "      <td>...</td>\n",
              "      <td>...</td>\n",
              "    </tr>\n",
              "    <tr>\n",
              "      <th>9715</th>\n",
              "      <td>Alone in the Dark</td>\n",
              "      <td>[Action, Fantasy, Horror]</td>\n",
              "      <td>edward carnby private investigator specializin...</td>\n",
              "    </tr>\n",
              "    <tr>\n",
              "      <th>9716</th>\n",
              "      <td>House of the Dead</td>\n",
              "      <td>[Horror, Action, Thriller]</td>\n",
              "      <td>set island coast techno rave party attracts di...</td>\n",
              "    </tr>\n",
              "    <tr>\n",
              "      <th>9717</th>\n",
              "      <td>Dragonball Evolution</td>\n",
              "      <td>[Action, Adventure, Fantasy, Science Fiction, ...</td>\n",
              "      <td>young warrior son goku sets quest racing time ...</td>\n",
              "    </tr>\n",
              "    <tr>\n",
              "      <th>9718</th>\n",
              "      <td>Box Office 3D - Il film dei film</td>\n",
              "      <td>[Comedy]</td>\n",
              "      <td>italian parody biggest us blockbusters gladiat...</td>\n",
              "    </tr>\n",
              "    <tr>\n",
              "      <th>9719</th>\n",
              "      <td>Birdemic: Shock and Terror</td>\n",
              "      <td>[Science Fiction, Horror, Romance, Thriller]</td>\n",
              "      <td>platoon eagles vultures attacks residents smal...</td>\n",
              "    </tr>\n",
              "  </tbody>\n",
              "</table>\n",
              "<p>9720 rows × 3 columns</p>\n",
              "</div>\n",
              "      <button class=\"colab-df-convert\" onclick=\"convertToInteractive('df-2f8eb85f-2475-4476-9f10-d25f738a4838')\"\n",
              "              title=\"Convert this dataframe to an interactive table.\"\n",
              "              style=\"display:none;\">\n",
              "        \n",
              "  <svg xmlns=\"http://www.w3.org/2000/svg\" height=\"24px\"viewBox=\"0 0 24 24\"\n",
              "       width=\"24px\">\n",
              "    <path d=\"M0 0h24v24H0V0z\" fill=\"none\"/>\n",
              "    <path d=\"M18.56 5.44l.94 2.06.94-2.06 2.06-.94-2.06-.94-.94-2.06-.94 2.06-2.06.94zm-11 1L8.5 8.5l.94-2.06 2.06-.94-2.06-.94L8.5 2.5l-.94 2.06-2.06.94zm10 10l.94 2.06.94-2.06 2.06-.94-2.06-.94-.94-2.06-.94 2.06-2.06.94z\"/><path d=\"M17.41 7.96l-1.37-1.37c-.4-.4-.92-.59-1.43-.59-.52 0-1.04.2-1.43.59L10.3 9.45l-7.72 7.72c-.78.78-.78 2.05 0 2.83L4 21.41c.39.39.9.59 1.41.59.51 0 1.02-.2 1.41-.59l7.78-7.78 2.81-2.81c.8-.78.8-2.07 0-2.86zM5.41 20L4 18.59l7.72-7.72 1.47 1.35L5.41 20z\"/>\n",
              "  </svg>\n",
              "      </button>\n",
              "      \n",
              "  <style>\n",
              "    .colab-df-container {\n",
              "      display:flex;\n",
              "      flex-wrap:wrap;\n",
              "      gap: 12px;\n",
              "    }\n",
              "\n",
              "    .colab-df-convert {\n",
              "      background-color: #E8F0FE;\n",
              "      border: none;\n",
              "      border-radius: 50%;\n",
              "      cursor: pointer;\n",
              "      display: none;\n",
              "      fill: #1967D2;\n",
              "      height: 32px;\n",
              "      padding: 0 0 0 0;\n",
              "      width: 32px;\n",
              "    }\n",
              "\n",
              "    .colab-df-convert:hover {\n",
              "      background-color: #E2EBFA;\n",
              "      box-shadow: 0px 1px 2px rgba(60, 64, 67, 0.3), 0px 1px 3px 1px rgba(60, 64, 67, 0.15);\n",
              "      fill: #174EA6;\n",
              "    }\n",
              "\n",
              "    [theme=dark] .colab-df-convert {\n",
              "      background-color: #3B4455;\n",
              "      fill: #D2E3FC;\n",
              "    }\n",
              "\n",
              "    [theme=dark] .colab-df-convert:hover {\n",
              "      background-color: #434B5C;\n",
              "      box-shadow: 0px 1px 3px 1px rgba(0, 0, 0, 0.15);\n",
              "      filter: drop-shadow(0px 1px 2px rgba(0, 0, 0, 0.3));\n",
              "      fill: #FFFFFF;\n",
              "    }\n",
              "  </style>\n",
              "\n",
              "      <script>\n",
              "        const buttonEl =\n",
              "          document.querySelector('#df-2f8eb85f-2475-4476-9f10-d25f738a4838 button.colab-df-convert');\n",
              "        buttonEl.style.display =\n",
              "          google.colab.kernel.accessAllowed ? 'block' : 'none';\n",
              "\n",
              "        async function convertToInteractive(key) {\n",
              "          const element = document.querySelector('#df-2f8eb85f-2475-4476-9f10-d25f738a4838');\n",
              "          const dataTable =\n",
              "            await google.colab.kernel.invokeFunction('convertToInteractive',\n",
              "                                                     [key], {});\n",
              "          if (!dataTable) return;\n",
              "\n",
              "          const docLinkHtml = 'Like what you see? Visit the ' +\n",
              "            '<a target=\"_blank\" href=https://colab.research.google.com/notebooks/data_table.ipynb>data table notebook</a>'\n",
              "            + ' to learn more about interactive tables.';\n",
              "          element.innerHTML = '';\n",
              "          dataTable['output_type'] = 'display_data';\n",
              "          await google.colab.output.renderOutput(dataTable, element);\n",
              "          const docLink = document.createElement('div');\n",
              "          docLink.innerHTML = docLinkHtml;\n",
              "          element.appendChild(docLink);\n",
              "        }\n",
              "      </script>\n",
              "    </div>\n",
              "  </div>\n",
              "  "
            ],
            "text/plain": [
              "                                 title  \\\n",
              "0          Dilwale Dulhania Le Jayenge   \n",
              "1             The Shawshank Redemption   \n",
              "2                        The Godfather   \n",
              "3                       Your Eyes Tell   \n",
              "4                     Schindler's List   \n",
              "...                                ...   \n",
              "9715                 Alone in the Dark   \n",
              "9716                 House of the Dead   \n",
              "9717              Dragonball Evolution   \n",
              "9718  Box Office 3D - Il film dei film   \n",
              "9719        Birdemic: Shock and Terror   \n",
              "\n",
              "                                                 genres  \\\n",
              "0                              [Comedy, Drama, Romance]   \n",
              "1                                        [Drama, Crime]   \n",
              "2                                        [Drama, Crime]   \n",
              "3                                      [Romance, Drama]   \n",
              "4                                 [Drama, History, War]   \n",
              "...                                                 ...   \n",
              "9715                          [Action, Fantasy, Horror]   \n",
              "9716                         [Horror, Action, Thriller]   \n",
              "9717  [Action, Adventure, Fantasy, Science Fiction, ...   \n",
              "9718                                           [Comedy]   \n",
              "9719       [Science Fiction, Horror, Romance, Thriller]   \n",
              "\n",
              "                                            description  \n",
              "0     raj rich carefree happygolucky second generati...  \n",
              "1     framed 1940s double murder wife lover upstandi...  \n",
              "2     spanning years 1945 1955 chronicle fictional i...  \n",
              "3     tragic accident lead kaoris blindness clings l...  \n",
              "4     true story businessman oskar schindler saved t...  \n",
              "...                                                 ...  \n",
              "9715  edward carnby private investigator specializin...  \n",
              "9716  set island coast techno rave party attracts di...  \n",
              "9717  young warrior son goku sets quest racing time ...  \n",
              "9718  italian parody biggest us blockbusters gladiat...  \n",
              "9719  platoon eagles vultures attacks residents smal...  \n",
              "\n",
              "[9720 rows x 3 columns]"
            ]
          },
          "metadata": {},
          "execution_count": 189
        }
      ]
    },
    {
      "cell_type": "markdown",
      "source": [
        "# Tokenization\n",
        "It's time to tokenize"
      ],
      "metadata": {
        "id": "eZYcoBL6hMMX"
      }
    },
    {
      "cell_type": "code",
      "source": [
        "from nltk.tokenize import word_tokenize\n",
        "nltk.download(\"punkt\")"
      ],
      "metadata": {
        "colab": {
          "base_uri": "https://localhost:8080/"
        },
        "id": "X-d4EXWgfkuy",
        "outputId": "eab63266-570d-4ac7-d4dd-ee9de242cd5e"
      },
      "execution_count": 190,
      "outputs": [
        {
          "output_type": "stream",
          "name": "stdout",
          "text": [
            "[nltk_data] Downloading package punkt to /root/nltk_data...\n",
            "[nltk_data]   Package punkt is already up-to-date!\n"
          ]
        },
        {
          "output_type": "execute_result",
          "data": {
            "text/plain": [
              "True"
            ]
          },
          "metadata": {},
          "execution_count": 190
        }
      ]
    },
    {
      "cell_type": "code",
      "source": [
        "word_tokenize(\"Hello my name is vishal thakur.\")"
      ],
      "metadata": {
        "colab": {
          "base_uri": "https://localhost:8080/"
        },
        "id": "CLx9e9S9hWOo",
        "outputId": "e1de9a0c-383c-42e1-f392-83b12d7ff5d9"
      },
      "execution_count": 191,
      "outputs": [
        {
          "output_type": "execute_result",
          "data": {
            "text/plain": [
              "['Hello', 'my', 'name', 'is', 'vishal', 'thakur', '.']"
            ]
          },
          "metadata": {},
          "execution_count": 191
        }
      ]
    },
    {
      "cell_type": "code",
      "source": [
        "df.description.iloc[0]"
      ],
      "metadata": {
        "colab": {
          "base_uri": "https://localhost:8080/",
          "height": 53
        },
        "id": "0bNdqnMtjwIQ",
        "outputId": "c3041409-d878-4739-9ac8-97a0fed3dfe5"
      },
      "execution_count": 194,
      "outputs": [
        {
          "output_type": "execute_result",
          "data": {
            "application/vnd.google.colaboratory.intrinsic+json": {
              "type": "string"
            },
            "text/plain": [
              "'raj rich carefree happygolucky second generation nri simran daughter chaudhary baldev singh spite nri strict adherence indian values simran left india married childhood fiancé raj leaves india mission hands claim lady love noses whole family thus begins saga'"
            ]
          },
          "metadata": {},
          "execution_count": 194
        }
      ]
    },
    {
      "cell_type": "markdown",
      "source": [
        "Checking on one example"
      ],
      "metadata": {
        "id": "bnhATDqasM1Z"
      }
    },
    {
      "cell_type": "code",
      "source": [
        "word_tokenize(df.description.iloc[0])"
      ],
      "metadata": {
        "colab": {
          "base_uri": "https://localhost:8080/"
        },
        "id": "kPLMeE2Bhbfo",
        "outputId": "97accbf7-00a2-4d5d-fc03-8b212135986c"
      },
      "execution_count": 193,
      "outputs": [
        {
          "output_type": "execute_result",
          "data": {
            "text/plain": [
              "['raj',\n",
              " 'rich',\n",
              " 'carefree',\n",
              " 'happygolucky',\n",
              " 'second',\n",
              " 'generation',\n",
              " 'nri',\n",
              " 'simran',\n",
              " 'daughter',\n",
              " 'chaudhary',\n",
              " 'baldev',\n",
              " 'singh',\n",
              " 'spite',\n",
              " 'nri',\n",
              " 'strict',\n",
              " 'adherence',\n",
              " 'indian',\n",
              " 'values',\n",
              " 'simran',\n",
              " 'left',\n",
              " 'india',\n",
              " 'married',\n",
              " 'childhood',\n",
              " 'fiancé',\n",
              " 'raj',\n",
              " 'leaves',\n",
              " 'india',\n",
              " 'mission',\n",
              " 'hands',\n",
              " 'claim',\n",
              " 'lady',\n",
              " 'love',\n",
              " 'noses',\n",
              " 'whole',\n",
              " 'family',\n",
              " 'thus',\n",
              " 'begins',\n",
              " 'saga']"
            ]
          },
          "metadata": {},
          "execution_count": 193
        }
      ]
    },
    {
      "cell_type": "markdown",
      "source": [
        "Applying to whole description column of dataset"
      ],
      "metadata": {
        "id": "9YJ4XpM1sP2y"
      }
    },
    {
      "cell_type": "code",
      "source": [
        "df.description = df.description.apply(lambda x: word_tokenize(x))\n",
        "df.description"
      ],
      "metadata": {
        "colab": {
          "base_uri": "https://localhost:8080/"
        },
        "id": "Y2zIIHH6kRra",
        "outputId": "bebf8e0b-96cc-4b9b-fc32-3c78907befc8"
      },
      "execution_count": 197,
      "outputs": [
        {
          "output_type": "execute_result",
          "data": {
            "text/plain": [
              "0       [raj, rich, carefree, happygolucky, second, ge...\n",
              "1       [framed, 1940s, double, murder, wife, lover, u...\n",
              "2       [spanning, years, 1945, 1955, chronicle, ficti...\n",
              "3       [tragic, accident, lead, kaoris, blindness, cl...\n",
              "4       [true, story, businessman, oskar, schindler, s...\n",
              "                              ...                        \n",
              "9715    [edward, carnby, private, investigator, specia...\n",
              "9716    [set, island, coast, techno, rave, party, attr...\n",
              "9717    [young, warrior, son, goku, sets, quest, racin...\n",
              "9718    [italian, parody, biggest, us, blockbusters, g...\n",
              "9719    [platoon, eagles, vultures, attacks, residents...\n",
              "Name: description, Length: 9720, dtype: object"
            ]
          },
          "metadata": {},
          "execution_count": 197
        }
      ]
    },
    {
      "cell_type": "markdown",
      "source": [
        "# Stemming"
      ],
      "metadata": {
        "id": "M734ziyCkGwi"
      }
    },
    {
      "cell_type": "code",
      "source": [
        "# import these modules\n",
        "from nltk.stem import PorterStemmer\n",
        "from nltk.tokenize import word_tokenize\n",
        "\n",
        "ps = PorterStemmer()\n",
        "\n",
        "# choose some words to be stemmed\n",
        "words = [\"program\", \"programs\", \"programmer\", \"programming\", \"programmers\"]\n",
        "\n",
        "for w in words:\n",
        "\tprint(w, \" : \", ps.stem(w))\n"
      ],
      "metadata": {
        "colab": {
          "base_uri": "https://localhost:8080/"
        },
        "id": "OuePzn6Khz_Z",
        "outputId": "d0f3d6cf-c9ec-401c-b11c-760413e3f3fa"
      },
      "execution_count": 196,
      "outputs": [
        {
          "output_type": "stream",
          "name": "stdout",
          "text": [
            "program  :  program\n",
            "programs  :  program\n",
            "programmer  :  programm\n",
            "programming  :  program\n",
            "programmers  :  programm\n"
          ]
        }
      ]
    },
    {
      "cell_type": "code",
      "source": [
        "from nltk.stem import WordNetLemmatizer\n",
        "wordnet = WordNetLemmatizer()"
      ],
      "metadata": {
        "id": "IF2uI8Qvkgci"
      },
      "execution_count": 202,
      "outputs": []
    },
    {
      "cell_type": "code",
      "source": [
        "nltk.download(\"wordnet\")"
      ],
      "metadata": {
        "colab": {
          "base_uri": "https://localhost:8080/"
        },
        "id": "_Qvse974lKbe",
        "outputId": "9ef75077-0166-423c-c8e9-9e5e6cc67905"
      },
      "execution_count": 205,
      "outputs": [
        {
          "output_type": "stream",
          "name": "stdout",
          "text": [
            "[nltk_data] Downloading package wordnet to /root/nltk_data...\n",
            "[nltk_data]   Unzipping corpora/wordnet.zip.\n"
          ]
        },
        {
          "output_type": "execute_result",
          "data": {
            "text/plain": [
              "True"
            ]
          },
          "metadata": {},
          "execution_count": 205
        }
      ]
    },
    {
      "cell_type": "markdown",
      "source": [
        "# Learning Formatted Output"
      ],
      "metadata": {
        "id": "4JxA8hLtsY-L"
      }
    },
    {
      "cell_type": "markdown",
      "source": [
        "That's how we align things."
      ],
      "metadata": {
        "id": "3OPPm4sdmde3"
      }
    },
    {
      "cell_type": "code",
      "source": [
        "\n",
        "# here 20 spaces are reserved for the \n",
        "# particular output string. And the string\n",
        "# is printed on the left side\n",
        "print(f\"{'Left Aligned Text' : <20}\")"
      ],
      "metadata": {
        "colab": {
          "base_uri": "https://localhost:8080/"
        },
        "id": "jRJCyIDmmtUv",
        "outputId": "f72248f5-bd65-47c6-c917-1e4b7a15fe68"
      },
      "execution_count": 211,
      "outputs": [
        {
          "output_type": "stream",
          "name": "stdout",
          "text": [
            "Left Aligned Text   \n"
          ]
        }
      ]
    },
    {
      "cell_type": "code",
      "source": [
        "\n",
        "# here 20 spaces are reserved for the \n",
        "# particular output string. And the string\n",
        "# is printed on the right side\n",
        "print(f\"{'Right Aligned Text' : >20}\")"
      ],
      "metadata": {
        "colab": {
          "base_uri": "https://localhost:8080/"
        },
        "id": "xBsKJK9pmyX7",
        "outputId": "9133f0ae-7f8d-41d6-86d5-a0dfab3851c4"
      },
      "execution_count": 212,
      "outputs": [
        {
          "output_type": "stream",
          "name": "stdout",
          "text": [
            "  Right Aligned Text\n"
          ]
        }
      ]
    },
    {
      "cell_type": "code",
      "source": [
        "# here 20 spaces are reserved for the \n",
        "# particular output string. And the string\n",
        "# is printed in the middle\n",
        "print(f\"{'Centered' : ^10}\")"
      ],
      "metadata": {
        "colab": {
          "base_uri": "https://localhost:8080/"
        },
        "id": "0O-6eczDm2u4",
        "outputId": "66ae8f6f-ed05-41d4-ff2c-c1e473dcb587"
      },
      "execution_count": 214,
      "outputs": [
        {
          "output_type": "stream",
          "name": "stdout",
          "text": [
            " Centered \n"
          ]
        }
      ]
    },
    {
      "cell_type": "code",
      "source": [
        "# assigning strings to the variables\n",
        "left_alignment = \"Left Text\"\n",
        "center_alignment = \"Centered Text\"\n",
        "right_alignment = \"Right Text\"\n",
        "\n",
        "# printing out aligned text\n",
        "print(f\"{left_alignment : <20}{center_alignment : ^15}{right_alignment : >20}\")\n"
      ],
      "metadata": {
        "colab": {
          "base_uri": "https://localhost:8080/"
        },
        "id": "pzjrARnqm_p4",
        "outputId": "e759b97b-c274-4153-d4e7-dac1c42bd24f"
      },
      "execution_count": 215,
      "outputs": [
        {
          "output_type": "stream",
          "name": "stdout",
          "text": [
            "Left Text            Centered Text           Right Text\n"
          ]
        }
      ]
    },
    {
      "cell_type": "code",
      "source": [
        "\n",
        "# assigning list values to the variables\n",
        "names = ['Raj', 'Shivam', 'Shreeya', 'Kartik']\n",
        "marks = [7, 9, 8, 5]\n",
        "div = ['A', 'A', 'C', 'B']\n",
        "id = [21, 52, 27, 38]\n",
        "\n",
        "\n",
        "print(f\"{'Name' : <10}{'Marks' : ^10}{'Division' : ^10}{'ID' : >5}\")\n",
        "  \n",
        "# printing values of variables in Aligned manner\n",
        "for i in range(0, 4):\n",
        "    print(f\"{names[i] : <10}{marks[i] : ^10}{div[i] : ^10}{id[i] : >5}\")"
      ],
      "metadata": {
        "colab": {
          "base_uri": "https://localhost:8080/"
        },
        "id": "fLCmUj5YlH4E",
        "outputId": "2bcfe86b-811a-4a3c-f19d-ea6f28371cc8"
      },
      "execution_count": 210,
      "outputs": [
        {
          "output_type": "stream",
          "name": "stdout",
          "text": [
            "Name        Marks    Division    ID\n",
            "Raj           7         A        21\n",
            "Shivam        9         A        52\n",
            "Shreeya       8         C        27\n",
            "Kartik        5         B        38\n"
          ]
        }
      ]
    },
    {
      "cell_type": "code",
      "source": [
        ""
      ],
      "metadata": {
        "id": "PK28wBznmXF4"
      },
      "execution_count": null,
      "outputs": []
    },
    {
      "cell_type": "code",
      "source": [
        "print(f\"{'Original < 20'}{'Stemmed':^20}{'Lemmatized':^20}\")\n",
        "for w in df.description[6]:\n",
        "  print(f\"{w:<20}{ps.stem(w):<20}{wordnet.lemmatize(w):<20}\")"
      ],
      "metadata": {
        "colab": {
          "base_uri": "https://localhost:8080/"
        },
        "id": "4onFqFYykI6S",
        "outputId": "bc91bba3-048a-470c-9271-d4deeba3ee74"
      },
      "execution_count": 226,
      "outputs": [
        {
          "output_type": "stream",
          "name": "stdout",
          "text": [
            "Original < 20      Stemmed            Lemmatized     \n",
            "continuing          continu             continuing          \n",
            "saga                saga                saga                \n",
            "corleone            corleon             corleone            \n",
            "crime               crime               crime               \n",
            "family              famili              family              \n",
            "young               young               young               \n",
            "vito                vito                vito                \n",
            "corleone            corleon             corleone            \n",
            "grows               grow                grows               \n",
            "sicily              sicili              sicily              \n",
            "1910s               1910                1910s               \n",
            "new                 new                 new                 \n",
            "york                york                york                \n",
            "1950s               1950                1950s               \n",
            "michael             michael             michael             \n",
            "corleone            corleon             corleone            \n",
            "attempts            attempt             attempt             \n",
            "expand              expand              expand              \n",
            "family              famili              family              \n",
            "business            busi                business            \n",
            "las                 la                  la                  \n",
            "vegas               vega                vega                \n",
            "hollywood           hollywood           hollywood           \n",
            "cuba                cuba                cuba                \n"
          ]
        }
      ]
    },
    {
      "cell_type": "markdown",
      "source": [
        "looks like both are giving good results, but we will manually check for some words"
      ],
      "metadata": {
        "id": "dQQE15gkonL5"
      }
    },
    {
      "cell_type": "code",
      "source": [
        "a = [\"continue\", \"continued\", \"countinuing\", \"countinous\", \"continuing\"]\n",
        "\n",
        "for w in a:\n",
        "  print(w, \"  :  \", ps.stem(w), \"  :  \", wordnet.lemmatize(w))"
      ],
      "metadata": {
        "colab": {
          "base_uri": "https://localhost:8080/"
        },
        "id": "mViYN7hBn8WM",
        "outputId": "fb7674c8-7f79-435d-ccca-ba8e0b5d96dc"
      },
      "execution_count": 228,
      "outputs": [
        {
          "output_type": "stream",
          "name": "stdout",
          "text": [
            "continue   :   continu   :   continue\n",
            "continued   :   continu   :   continued\n",
            "countinuing   :   countinu   :   countinuing\n",
            "countinous   :   countin   :   countinous\n",
            "continuing   :   continu   :   continuing\n"
          ]
        }
      ]
    },
    {
      "cell_type": "markdown",
      "source": [
        "since lemmatization gives so many version above words, we will go with stemming"
      ],
      "metadata": {
        "id": "JNk5NeLnpx7s"
      }
    },
    {
      "cell_type": "code",
      "source": [
        "des_stemmed = df.description.apply(lambda x: [ps.stem(i) for i in x])"
      ],
      "metadata": {
        "id": "Pk5WvlA8pSZr"
      },
      "execution_count": 232,
      "outputs": []
    },
    {
      "cell_type": "code",
      "source": [
        "des_stemmed"
      ],
      "metadata": {
        "colab": {
          "base_uri": "https://localhost:8080/"
        },
        "id": "Zp5zByISqYQQ",
        "outputId": "472a9f23-ca87-4bc5-8e2a-5b71bdda7a98"
      },
      "execution_count": 233,
      "outputs": [
        {
          "output_type": "execute_result",
          "data": {
            "text/plain": [
              "0       [raj, rich, carefre, happygolucki, second, gen...\n",
              "1       [frame, 1940, doubl, murder, wife, lover, upst...\n",
              "2       [span, year, 1945, 1955, chronicl, fiction, it...\n",
              "3       [tragic, accid, lead, kaori, blind, cling, lif...\n",
              "4       [true, stori, businessman, oskar, schindler, s...\n",
              "                              ...                        \n",
              "9715    [edward, carnbi, privat, investig, special, un...\n",
              "9716    [set, island, coast, techno, rave, parti, attr...\n",
              "9717    [young, warrior, son, goku, set, quest, race, ...\n",
              "9718    [italian, parodi, biggest, us, blockbust, glad...\n",
              "9719    [platoon, eagl, vultur, attack, resid, small, ...\n",
              "Name: description, Length: 9720, dtype: object"
            ]
          },
          "metadata": {},
          "execution_count": 233
        }
      ]
    },
    {
      "cell_type": "code",
      "source": [
        "df.description = des_stemmed"
      ],
      "metadata": {
        "id": "V2s5g8cjqjWN"
      },
      "execution_count": 234,
      "outputs": []
    },
    {
      "cell_type": "markdown",
      "source": [
        "# And here we have our dataset, ready to be modelled upon."
      ],
      "metadata": {
        "id": "ovPrXDgkq3MO"
      }
    },
    {
      "cell_type": "code",
      "source": [
        "df"
      ],
      "metadata": {
        "colab": {
          "base_uri": "https://localhost:8080/",
          "height": 423
        },
        "id": "KEJkHN82qoAl",
        "outputId": "aa38db73-3342-43d0-b19e-d69502fa9880"
      },
      "execution_count": 235,
      "outputs": [
        {
          "output_type": "execute_result",
          "data": {
            "text/html": [
              "\n",
              "  <div id=\"df-059aae55-8bce-4318-8856-1f8e98b97310\">\n",
              "    <div class=\"colab-df-container\">\n",
              "      <div>\n",
              "<style scoped>\n",
              "    .dataframe tbody tr th:only-of-type {\n",
              "        vertical-align: middle;\n",
              "    }\n",
              "\n",
              "    .dataframe tbody tr th {\n",
              "        vertical-align: top;\n",
              "    }\n",
              "\n",
              "    .dataframe thead th {\n",
              "        text-align: right;\n",
              "    }\n",
              "</style>\n",
              "<table border=\"1\" class=\"dataframe\">\n",
              "  <thead>\n",
              "    <tr style=\"text-align: right;\">\n",
              "      <th></th>\n",
              "      <th>title</th>\n",
              "      <th>genres</th>\n",
              "      <th>description</th>\n",
              "    </tr>\n",
              "  </thead>\n",
              "  <tbody>\n",
              "    <tr>\n",
              "      <th>0</th>\n",
              "      <td>Dilwale Dulhania Le Jayenge</td>\n",
              "      <td>[Comedy, Drama, Romance]</td>\n",
              "      <td>[raj, rich, carefre, happygolucki, second, gen...</td>\n",
              "    </tr>\n",
              "    <tr>\n",
              "      <th>1</th>\n",
              "      <td>The Shawshank Redemption</td>\n",
              "      <td>[Drama, Crime]</td>\n",
              "      <td>[frame, 1940, doubl, murder, wife, lover, upst...</td>\n",
              "    </tr>\n",
              "    <tr>\n",
              "      <th>2</th>\n",
              "      <td>The Godfather</td>\n",
              "      <td>[Drama, Crime]</td>\n",
              "      <td>[span, year, 1945, 1955, chronicl, fiction, it...</td>\n",
              "    </tr>\n",
              "    <tr>\n",
              "      <th>3</th>\n",
              "      <td>Your Eyes Tell</td>\n",
              "      <td>[Romance, Drama]</td>\n",
              "      <td>[tragic, accid, lead, kaori, blind, cling, lif...</td>\n",
              "    </tr>\n",
              "    <tr>\n",
              "      <th>4</th>\n",
              "      <td>Schindler's List</td>\n",
              "      <td>[Drama, History, War]</td>\n",
              "      <td>[true, stori, businessman, oskar, schindler, s...</td>\n",
              "    </tr>\n",
              "    <tr>\n",
              "      <th>...</th>\n",
              "      <td>...</td>\n",
              "      <td>...</td>\n",
              "      <td>...</td>\n",
              "    </tr>\n",
              "    <tr>\n",
              "      <th>9715</th>\n",
              "      <td>Alone in the Dark</td>\n",
              "      <td>[Action, Fantasy, Horror]</td>\n",
              "      <td>[edward, carnbi, privat, investig, special, un...</td>\n",
              "    </tr>\n",
              "    <tr>\n",
              "      <th>9716</th>\n",
              "      <td>House of the Dead</td>\n",
              "      <td>[Horror, Action, Thriller]</td>\n",
              "      <td>[set, island, coast, techno, rave, parti, attr...</td>\n",
              "    </tr>\n",
              "    <tr>\n",
              "      <th>9717</th>\n",
              "      <td>Dragonball Evolution</td>\n",
              "      <td>[Action, Adventure, Fantasy, Science Fiction, ...</td>\n",
              "      <td>[young, warrior, son, goku, set, quest, race, ...</td>\n",
              "    </tr>\n",
              "    <tr>\n",
              "      <th>9718</th>\n",
              "      <td>Box Office 3D - Il film dei film</td>\n",
              "      <td>[Comedy]</td>\n",
              "      <td>[italian, parodi, biggest, us, blockbust, glad...</td>\n",
              "    </tr>\n",
              "    <tr>\n",
              "      <th>9719</th>\n",
              "      <td>Birdemic: Shock and Terror</td>\n",
              "      <td>[Science Fiction, Horror, Romance, Thriller]</td>\n",
              "      <td>[platoon, eagl, vultur, attack, resid, small, ...</td>\n",
              "    </tr>\n",
              "  </tbody>\n",
              "</table>\n",
              "<p>9720 rows × 3 columns</p>\n",
              "</div>\n",
              "      <button class=\"colab-df-convert\" onclick=\"convertToInteractive('df-059aae55-8bce-4318-8856-1f8e98b97310')\"\n",
              "              title=\"Convert this dataframe to an interactive table.\"\n",
              "              style=\"display:none;\">\n",
              "        \n",
              "  <svg xmlns=\"http://www.w3.org/2000/svg\" height=\"24px\"viewBox=\"0 0 24 24\"\n",
              "       width=\"24px\">\n",
              "    <path d=\"M0 0h24v24H0V0z\" fill=\"none\"/>\n",
              "    <path d=\"M18.56 5.44l.94 2.06.94-2.06 2.06-.94-2.06-.94-.94-2.06-.94 2.06-2.06.94zm-11 1L8.5 8.5l.94-2.06 2.06-.94-2.06-.94L8.5 2.5l-.94 2.06-2.06.94zm10 10l.94 2.06.94-2.06 2.06-.94-2.06-.94-.94-2.06-.94 2.06-2.06.94z\"/><path d=\"M17.41 7.96l-1.37-1.37c-.4-.4-.92-.59-1.43-.59-.52 0-1.04.2-1.43.59L10.3 9.45l-7.72 7.72c-.78.78-.78 2.05 0 2.83L4 21.41c.39.39.9.59 1.41.59.51 0 1.02-.2 1.41-.59l7.78-7.78 2.81-2.81c.8-.78.8-2.07 0-2.86zM5.41 20L4 18.59l7.72-7.72 1.47 1.35L5.41 20z\"/>\n",
              "  </svg>\n",
              "      </button>\n",
              "      \n",
              "  <style>\n",
              "    .colab-df-container {\n",
              "      display:flex;\n",
              "      flex-wrap:wrap;\n",
              "      gap: 12px;\n",
              "    }\n",
              "\n",
              "    .colab-df-convert {\n",
              "      background-color: #E8F0FE;\n",
              "      border: none;\n",
              "      border-radius: 50%;\n",
              "      cursor: pointer;\n",
              "      display: none;\n",
              "      fill: #1967D2;\n",
              "      height: 32px;\n",
              "      padding: 0 0 0 0;\n",
              "      width: 32px;\n",
              "    }\n",
              "\n",
              "    .colab-df-convert:hover {\n",
              "      background-color: #E2EBFA;\n",
              "      box-shadow: 0px 1px 2px rgba(60, 64, 67, 0.3), 0px 1px 3px 1px rgba(60, 64, 67, 0.15);\n",
              "      fill: #174EA6;\n",
              "    }\n",
              "\n",
              "    [theme=dark] .colab-df-convert {\n",
              "      background-color: #3B4455;\n",
              "      fill: #D2E3FC;\n",
              "    }\n",
              "\n",
              "    [theme=dark] .colab-df-convert:hover {\n",
              "      background-color: #434B5C;\n",
              "      box-shadow: 0px 1px 3px 1px rgba(0, 0, 0, 0.15);\n",
              "      filter: drop-shadow(0px 1px 2px rgba(0, 0, 0, 0.3));\n",
              "      fill: #FFFFFF;\n",
              "    }\n",
              "  </style>\n",
              "\n",
              "      <script>\n",
              "        const buttonEl =\n",
              "          document.querySelector('#df-059aae55-8bce-4318-8856-1f8e98b97310 button.colab-df-convert');\n",
              "        buttonEl.style.display =\n",
              "          google.colab.kernel.accessAllowed ? 'block' : 'none';\n",
              "\n",
              "        async function convertToInteractive(key) {\n",
              "          const element = document.querySelector('#df-059aae55-8bce-4318-8856-1f8e98b97310');\n",
              "          const dataTable =\n",
              "            await google.colab.kernel.invokeFunction('convertToInteractive',\n",
              "                                                     [key], {});\n",
              "          if (!dataTable) return;\n",
              "\n",
              "          const docLinkHtml = 'Like what you see? Visit the ' +\n",
              "            '<a target=\"_blank\" href=https://colab.research.google.com/notebooks/data_table.ipynb>data table notebook</a>'\n",
              "            + ' to learn more about interactive tables.';\n",
              "          element.innerHTML = '';\n",
              "          dataTable['output_type'] = 'display_data';\n",
              "          await google.colab.output.renderOutput(dataTable, element);\n",
              "          const docLink = document.createElement('div');\n",
              "          docLink.innerHTML = docLinkHtml;\n",
              "          element.appendChild(docLink);\n",
              "        }\n",
              "      </script>\n",
              "    </div>\n",
              "  </div>\n",
              "  "
            ],
            "text/plain": [
              "                                 title  \\\n",
              "0          Dilwale Dulhania Le Jayenge   \n",
              "1             The Shawshank Redemption   \n",
              "2                        The Godfather   \n",
              "3                       Your Eyes Tell   \n",
              "4                     Schindler's List   \n",
              "...                                ...   \n",
              "9715                 Alone in the Dark   \n",
              "9716                 House of the Dead   \n",
              "9717              Dragonball Evolution   \n",
              "9718  Box Office 3D - Il film dei film   \n",
              "9719        Birdemic: Shock and Terror   \n",
              "\n",
              "                                                 genres  \\\n",
              "0                              [Comedy, Drama, Romance]   \n",
              "1                                        [Drama, Crime]   \n",
              "2                                        [Drama, Crime]   \n",
              "3                                      [Romance, Drama]   \n",
              "4                                 [Drama, History, War]   \n",
              "...                                                 ...   \n",
              "9715                          [Action, Fantasy, Horror]   \n",
              "9716                         [Horror, Action, Thriller]   \n",
              "9717  [Action, Adventure, Fantasy, Science Fiction, ...   \n",
              "9718                                           [Comedy]   \n",
              "9719       [Science Fiction, Horror, Romance, Thriller]   \n",
              "\n",
              "                                            description  \n",
              "0     [raj, rich, carefre, happygolucki, second, gen...  \n",
              "1     [frame, 1940, doubl, murder, wife, lover, upst...  \n",
              "2     [span, year, 1945, 1955, chronicl, fiction, it...  \n",
              "3     [tragic, accid, lead, kaori, blind, cling, lif...  \n",
              "4     [true, stori, businessman, oskar, schindler, s...  \n",
              "...                                                 ...  \n",
              "9715  [edward, carnbi, privat, investig, special, un...  \n",
              "9716  [set, island, coast, techno, rave, parti, attr...  \n",
              "9717  [young, warrior, son, goku, set, quest, race, ...  \n",
              "9718  [italian, parodi, biggest, us, blockbust, glad...  \n",
              "9719  [platoon, eagl, vultur, attack, resid, small, ...  \n",
              "\n",
              "[9720 rows x 3 columns]"
            ]
          },
          "metadata": {},
          "execution_count": 235
        }
      ]
    },
    {
      "cell_type": "code",
      "source": [
        ""
      ],
      "metadata": {
        "id": "hA-kPCfaquhL"
      },
      "execution_count": null,
      "outputs": []
    }
  ]
}
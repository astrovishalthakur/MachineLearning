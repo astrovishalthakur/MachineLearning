{
  "nbformat": 4,
  "nbformat_minor": 0,
  "metadata": {
    "colab": {
      "name": "Word2VecGameOfThrones.ipynb",
      "provenance": [],
      "authorship_tag": "ABX9TyPIwVenhlwSoPT9ccgd86Hd",
      "include_colab_link": true
    },
    "kernelspec": {
      "name": "python3",
      "display_name": "Python 3"
    },
    "language_info": {
      "name": "python"
    }
  },
  "cells": [
    {
      "cell_type": "markdown",
      "metadata": {
        "id": "view-in-github",
        "colab_type": "text"
      },
      "source": [
        "<a href=\"https://colab.research.google.com/github/astrovishalthakur/MachineLearning/blob/main/NaturalLanguageProcessing/Basics/Word2VecGameOfThrones.ipynb\" target=\"_parent\"><img src=\"https://colab.research.google.com/assets/colab-badge.svg\" alt=\"Open In Colab\"/></a>"
      ]
    },
    {
      "cell_type": "code",
      "source": [
        "import numpy as np\n",
        "import pandas as pd"
      ],
      "metadata": {
        "id": "ioZFMJjvLvbQ"
      },
      "execution_count": 1,
      "outputs": []
    },
    {
      "cell_type": "code",
      "source": [
        "import gensim\n",
        "import os"
      ],
      "metadata": {
        "id": "JsUxcptsLxtB"
      },
      "execution_count": 2,
      "outputs": []
    },
    {
      "cell_type": "code",
      "source": [
        "! pip install kaggle"
      ],
      "metadata": {
        "colab": {
          "base_uri": "https://localhost:8080/"
        },
        "id": "cXGMsaCeLzV7",
        "outputId": "61e85908-41c5-48d0-c424-51e6152f942a"
      },
      "execution_count": 3,
      "outputs": [
        {
          "output_type": "stream",
          "name": "stdout",
          "text": [
            "Requirement already satisfied: kaggle in /usr/local/lib/python3.7/dist-packages (1.5.12)\n",
            "Requirement already satisfied: certifi in /usr/local/lib/python3.7/dist-packages (from kaggle) (2021.10.8)\n",
            "Requirement already satisfied: python-slugify in /usr/local/lib/python3.7/dist-packages (from kaggle) (6.1.1)\n",
            "Requirement already satisfied: six>=1.10 in /usr/local/lib/python3.7/dist-packages (from kaggle) (1.15.0)\n",
            "Requirement already satisfied: requests in /usr/local/lib/python3.7/dist-packages (from kaggle) (2.23.0)\n",
            "Requirement already satisfied: tqdm in /usr/local/lib/python3.7/dist-packages (from kaggle) (4.63.0)\n",
            "Requirement already satisfied: python-dateutil in /usr/local/lib/python3.7/dist-packages (from kaggle) (2.8.2)\n",
            "Requirement already satisfied: urllib3 in /usr/local/lib/python3.7/dist-packages (from kaggle) (1.24.3)\n",
            "Requirement already satisfied: text-unidecode>=1.3 in /usr/local/lib/python3.7/dist-packages (from python-slugify->kaggle) (1.3)\n",
            "Requirement already satisfied: idna<3,>=2.5 in /usr/local/lib/python3.7/dist-packages (from requests->kaggle) (2.10)\n",
            "Requirement already satisfied: chardet<4,>=3.0.2 in /usr/local/lib/python3.7/dist-packages (from requests->kaggle) (3.0.4)\n"
          ]
        }
      ]
    },
    {
      "cell_type": "code",
      "source": [
        "! mkdir ~/.kaggle"
      ],
      "metadata": {
        "id": "0-olgUy_L227"
      },
      "execution_count": 4,
      "outputs": []
    },
    {
      "cell_type": "code",
      "source": [
        "from google.colab import drive\n",
        "drive.mount('/content/drive')"
      ],
      "metadata": {
        "colab": {
          "base_uri": "https://localhost:8080/"
        },
        "id": "6lyRlKjVMGMe",
        "outputId": "95970aa7-1116-4097-8ccc-885d0e6aac1f"
      },
      "execution_count": 5,
      "outputs": [
        {
          "output_type": "stream",
          "name": "stdout",
          "text": [
            "Mounted at /content/drive\n"
          ]
        }
      ]
    },
    {
      "cell_type": "code",
      "source": [
        "!cp /content/drive/MyDrive/kaggle/kaggle.json ~/.kaggle/kaggle.json"
      ],
      "metadata": {
        "id": "-28c_8GEMMfV"
      },
      "execution_count": 6,
      "outputs": []
    },
    {
      "cell_type": "code",
      "source": [
        "! kaggle datasets download -d khulasasndh/game-of-thrones-books"
      ],
      "metadata": {
        "colab": {
          "base_uri": "https://localhost:8080/"
        },
        "id": "qcaRPH7MNdxF",
        "outputId": "e57fc311-a4a0-4a0d-9a78-f405dfea5083"
      },
      "execution_count": 7,
      "outputs": [
        {
          "output_type": "stream",
          "name": "stdout",
          "text": [
            "Downloading game-of-thrones-books.zip to /content\n",
            "\r  0% 0.00/3.71M [00:00<?, ?B/s]\n",
            "\r100% 3.71M/3.71M [00:00<00:00, 179MB/s]\n"
          ]
        }
      ]
    },
    {
      "cell_type": "code",
      "source": [
        "! unzip game-of-thrones-books.zip"
      ],
      "metadata": {
        "colab": {
          "base_uri": "https://localhost:8080/"
        },
        "id": "Ve81IcmCNhBD",
        "outputId": "f0e344a8-aa1d-4804-bacc-82f2a146a51f"
      },
      "execution_count": 8,
      "outputs": [
        {
          "output_type": "stream",
          "name": "stdout",
          "text": [
            "Archive:  game-of-thrones-books.zip\n",
            "  inflating: 001ssb.txt              \n",
            "  inflating: 002ssb.txt              \n",
            "  inflating: 003ssb.txt              \n",
            "  inflating: 004ssb.txt              \n",
            "  inflating: 005ssb.txt              \n"
          ]
        }
      ]
    },
    {
      "cell_type": "code",
      "source": [
        "! mkdir data"
      ],
      "metadata": {
        "id": "j9cGFel_N6Tb"
      },
      "execution_count": 9,
      "outputs": []
    },
    {
      "cell_type": "code",
      "source": [
        "! mv 001ssb.txt 002ssb.txt 003ssb.txt 004ssb.txt 005ssb.txt data/"
      ],
      "metadata": {
        "id": "j9q-0t0yOAYG"
      },
      "execution_count": 10,
      "outputs": []
    },
    {
      "cell_type": "code",
      "source": [
        "import nltk"
      ],
      "metadata": {
        "id": "vRdewBszQ53c"
      },
      "execution_count": 11,
      "outputs": []
    },
    {
      "cell_type": "code",
      "source": [
        "from nltk import sent_tokenize\n",
        "from gensim.utils import simple_preprocess"
      ],
      "metadata": {
        "id": "3t3Vpc6JORgG"
      },
      "execution_count": 12,
      "outputs": []
    },
    {
      "cell_type": "code",
      "source": [
        "nltk.download(\"stopwords\")\n",
        "from nltk.corpus import stopwords"
      ],
      "metadata": {
        "colab": {
          "base_uri": "https://localhost:8080/"
        },
        "id": "7SPGIlYuQwck",
        "outputId": "44cb69dc-59f5-4db0-f79f-88cc1ded2476"
      },
      "execution_count": 13,
      "outputs": [
        {
          "output_type": "stream",
          "name": "stdout",
          "text": [
            "[nltk_data] Downloading package stopwords to /root/nltk_data...\n",
            "[nltk_data]   Unzipping corpora/stopwords.zip.\n"
          ]
        }
      ]
    },
    {
      "cell_type": "code",
      "source": [
        "nltk.download(\"punkt\")"
      ],
      "metadata": {
        "colab": {
          "base_uri": "https://localhost:8080/"
        },
        "id": "Jl9mpBYsRTdk",
        "outputId": "09623489-9cb8-4d33-df9f-0122fa9455a8"
      },
      "execution_count": 14,
      "outputs": [
        {
          "output_type": "stream",
          "name": "stdout",
          "text": [
            "[nltk_data] Downloading package punkt to /root/nltk_data...\n",
            "[nltk_data]   Unzipping tokenizers/punkt.zip.\n"
          ]
        },
        {
          "output_type": "execute_result",
          "data": {
            "text/plain": [
              "True"
            ]
          },
          "metadata": {},
          "execution_count": 14
        }
      ]
    },
    {
      "cell_type": "code",
      "source": [
        "from nltk import sent_tokenize\n",
        "from gensim.utils import simple_preprocess\n",
        "\n",
        "story = []\n",
        "for filename in os.listdir('data'):\n",
        "    \n",
        "    f = open(os.path.join('data',filename), encoding=\"latin-1\")\n",
        "    corpus = f.read()\n",
        "    raw_sent = sent_tokenize(corpus)\n",
        "    for sent in raw_sent:\n",
        "        story.append(simple_preprocess(sent))\n",
        "  "
      ],
      "metadata": {
        "id": "umdjO0lMObKS"
      },
      "execution_count": 15,
      "outputs": []
    },
    {
      "cell_type": "code",
      "source": [
        "story[:20]"
      ],
      "metadata": {
        "id": "gJ7p4bszROQE"
      },
      "execution_count": null,
      "outputs": []
    },
    {
      "cell_type": "code",
      "source": [
        "model = gensim.models.Word2Vec(\n",
        "    window=10,\n",
        "    min_count=2,\n",
        "    workers=4\n",
        ")"
      ],
      "metadata": {
        "id": "-7vZuIB-RvMJ"
      },
      "execution_count": 17,
      "outputs": []
    },
    {
      "cell_type": "code",
      "source": [
        "model.build_vocab(story)"
      ],
      "metadata": {
        "id": "x21Qu0x6SKpR"
      },
      "execution_count": 18,
      "outputs": []
    },
    {
      "cell_type": "code",
      "source": [
        "model.train(story, total_examples=model.corpus_count, epochs=model.epochs)"
      ],
      "metadata": {
        "colab": {
          "base_uri": "https://localhost:8080/"
        },
        "id": "jUz3oUUySRhW",
        "outputId": "e7397a48-f521-42de-edbb-6d763e2a2991"
      },
      "execution_count": 19,
      "outputs": [
        {
          "output_type": "execute_result",
          "data": {
            "text/plain": [
              "(6571198, 8628190)"
            ]
          },
          "metadata": {},
          "execution_count": 19
        }
      ]
    },
    {
      "cell_type": "code",
      "source": [
        "model.wv.most_similar(\"daenerys\")"
      ],
      "metadata": {
        "id": "-CpnY-6ISgCK"
      },
      "execution_count": null,
      "outputs": []
    },
    {
      "cell_type": "code",
      "source": [
        "model.wv.doesnt_match([\"jon\", \"rikon\", \"robb\", \"arya\", \"sansa\", \"bran\"])"
      ],
      "metadata": {
        "colab": {
          "base_uri": "https://localhost:8080/",
          "height": 90
        },
        "id": "tlq28nX8Sru4",
        "outputId": "0b4e0aa1-f971-497d-ed59-188a00c592e4"
      },
      "execution_count": 21,
      "outputs": [
        {
          "output_type": "stream",
          "name": "stderr",
          "text": [
            "/usr/local/lib/python3.7/dist-packages/gensim/models/keyedvectors.py:895: FutureWarning: arrays to stack must be passed as a \"sequence\" type such as list or tuple. Support for non-sequence iterables such as generators is deprecated as of NumPy 1.16 and will raise an error in the future.\n",
            "  vectors = vstack(self.word_vec(word, use_norm=True) for word in used_words).astype(REAL)\n"
          ]
        },
        {
          "output_type": "execute_result",
          "data": {
            "text/plain": [
              "'jon'"
            ],
            "application/vnd.google.colaboratory.intrinsic+json": {
              "type": "string"
            }
          },
          "metadata": {},
          "execution_count": 21
        }
      ]
    },
    {
      "cell_type": "code",
      "source": [
        "model.wv[\"king\"]"
      ],
      "metadata": {
        "id": "5Uy57GGTSzmh"
      },
      "execution_count": null,
      "outputs": []
    },
    {
      "cell_type": "code",
      "source": [
        "model.wv.similarity(\"arya\", \"sansa\")"
      ],
      "metadata": {
        "colab": {
          "base_uri": "https://localhost:8080/"
        },
        "id": "A6W7iY4AS3h7",
        "outputId": "518ce539-39f9-4f75-e635-3bea95a00c6b"
      },
      "execution_count": 23,
      "outputs": [
        {
          "output_type": "execute_result",
          "data": {
            "text/plain": [
              "0.83474433"
            ]
          },
          "metadata": {},
          "execution_count": 23
        }
      ]
    },
    {
      "cell_type": "code",
      "source": [
        "model.wv.similarity(\"cersei\", \"sansa\")"
      ],
      "metadata": {
        "colab": {
          "base_uri": "https://localhost:8080/"
        },
        "id": "SJP4ZrJVS89V",
        "outputId": "805c347a-7c04-49ca-d977-ec56db590d34"
      },
      "execution_count": 24,
      "outputs": [
        {
          "output_type": "execute_result",
          "data": {
            "text/plain": [
              "0.7606258"
            ]
          },
          "metadata": {},
          "execution_count": 24
        }
      ]
    },
    {
      "cell_type": "code",
      "source": [
        "model.wv.similarity(\"tywin\", \"sansa\")"
      ],
      "metadata": {
        "colab": {
          "base_uri": "https://localhost:8080/"
        },
        "id": "yeYHenn5TAR7",
        "outputId": "487757f6-265a-48cb-a759-5f9043543171"
      },
      "execution_count": 25,
      "outputs": [
        {
          "output_type": "execute_result",
          "data": {
            "text/plain": [
              "0.23776086"
            ]
          },
          "metadata": {},
          "execution_count": 25
        }
      ]
    },
    {
      "cell_type": "code",
      "source": [
        "model.wv.vectors_norm"
      ],
      "metadata": {
        "colab": {
          "base_uri": "https://localhost:8080/"
        },
        "id": "5KcHmpWB1ZGA",
        "outputId": "7f54dd47-2d6e-4f77-e045-3879df31a3b6"
      },
      "execution_count": 31,
      "outputs": [
        {
          "output_type": "execute_result",
          "data": {
            "text/plain": [
              "array([[ 0.04872818,  0.099172  ,  0.12643072, ...,  0.0424121 ,\n",
              "        -0.10573862,  0.02422521],\n",
              "       [ 0.12898622, -0.05582742,  0.03457676, ..., -0.11093207,\n",
              "        -0.06847201, -0.036755  ],\n",
              "       [ 0.02611815,  0.0347538 , -0.02724274, ...,  0.02506107,\n",
              "        -0.15816173,  0.15090726],\n",
              "       ...,\n",
              "       [ 0.08803818,  0.05247685,  0.13448201, ...,  0.01386407,\n",
              "         0.00597851, -0.03105911],\n",
              "       [ 0.19121137, -0.02100611,  0.22065833, ..., -0.05896573,\n",
              "         0.06682508,  0.04333536],\n",
              "       [ 0.2286511 ,  0.04852547,  0.1893502 , ..., -0.0428149 ,\n",
              "         0.00780621, -0.02061271]], dtype=float32)"
            ]
          },
          "metadata": {},
          "execution_count": 31
        }
      ]
    },
    {
      "cell_type": "code",
      "source": [
        "y = model.wv.index2entity"
      ],
      "metadata": {
        "id": "XkN1n5oCTDH1"
      },
      "execution_count": 26,
      "outputs": []
    },
    {
      "cell_type": "code",
      "source": [
        "y[:20]"
      ],
      "metadata": {
        "colab": {
          "base_uri": "https://localhost:8080/"
        },
        "id": "jRnUvz53THE3",
        "outputId": "29a904da-7b8d-4fba-ea7f-1d8dd4f8a0d1"
      },
      "execution_count": 27,
      "outputs": [
        {
          "output_type": "execute_result",
          "data": {
            "text/plain": [
              "['the',\n",
              " 'and',\n",
              " 'to',\n",
              " 'of',\n",
              " 'he',\n",
              " 'his',\n",
              " 'was',\n",
              " 'you',\n",
              " 'her',\n",
              " 'in',\n",
              " 'it',\n",
              " 'had',\n",
              " 'that',\n",
              " 'she',\n",
              " 'as',\n",
              " 'with',\n",
              " 'him',\n",
              " 'not',\n",
              " 'but',\n",
              " 'for']"
            ]
          },
          "metadata": {},
          "execution_count": 27
        }
      ]
    },
    {
      "cell_type": "code",
      "source": [
        "from sklearn.decomposition import PCA"
      ],
      "metadata": {
        "id": "ZuXI1E9oTvqI"
      },
      "execution_count": 28,
      "outputs": []
    },
    {
      "cell_type": "code",
      "source": [
        "pca = PCA(n_components=3)"
      ],
      "metadata": {
        "id": "iU_XTxCuUCPP"
      },
      "execution_count": 29,
      "outputs": []
    },
    {
      "cell_type": "code",
      "source": [
        "X = pca.fit_transform(model.wv.vectors_norm)"
      ],
      "metadata": {
        "id": "3TYKQI45UHpq"
      },
      "execution_count": 32,
      "outputs": []
    },
    {
      "cell_type": "code",
      "source": [
        "X.shape"
      ],
      "metadata": {
        "id": "fu1fpTE3UMwo",
        "colab": {
          "base_uri": "https://localhost:8080/"
        },
        "outputId": "6d0149ee-2754-43cb-a390-c3563e4053b2"
      },
      "execution_count": 33,
      "outputs": [
        {
          "output_type": "execute_result",
          "data": {
            "text/plain": [
              "(17453, 3)"
            ]
          },
          "metadata": {},
          "execution_count": 33
        }
      ]
    },
    {
      "cell_type": "code",
      "source": [
        "import plotly.express as px\n",
        "fig = px.scatter_3d(X[200:300], x=0, y=1, z=2, color=y[200:300])\n",
        "fig.show()"
      ],
      "metadata": {
        "id": "ZS7hRaxn12PC"
      },
      "execution_count": null,
      "outputs": []
    },
    {
      "cell_type": "markdown",
      "source": [
        "# Now Doing same things on data with stop words removed."
      ],
      "metadata": {
        "id": "JOVnrrEM2yLv"
      }
    },
    {
      "cell_type": "code",
      "source": [
        "len(story)"
      ],
      "metadata": {
        "colab": {
          "base_uri": "https://localhost:8080/"
        },
        "id": "ILHLslaP2CPW",
        "outputId": "b4a29d7d-cd8a-44ea-b6b8-29bebdf8e28b"
      },
      "execution_count": 36,
      "outputs": [
        {
          "output_type": "execute_result",
          "data": {
            "text/plain": [
              "145018"
            ]
          },
          "metadata": {},
          "execution_count": 36
        }
      ]
    },
    {
      "cell_type": "code",
      "source": [
        "story[:20]"
      ],
      "metadata": {
        "id": "4fH0_REr29Cc"
      },
      "execution_count": null,
      "outputs": []
    },
    {
      "cell_type": "code",
      "source": [
        "stopwords.words(\"english\")[:10]"
      ],
      "metadata": {
        "colab": {
          "base_uri": "https://localhost:8080/"
        },
        "id": "EQFsjm-d3Eyd",
        "outputId": "d2947071-ed7a-433c-f65e-b3400ebb0c76"
      },
      "execution_count": 39,
      "outputs": [
        {
          "output_type": "execute_result",
          "data": {
            "text/plain": [
              "['i', 'me', 'my', 'myself', 'we', 'our', 'ours', 'ourselves', 'you', \"you're\"]"
            ]
          },
          "metadata": {},
          "execution_count": 39
        }
      ]
    },
    {
      "cell_type": "code",
      "source": [
        "len(stopwords.words(\"english\"))"
      ],
      "metadata": {
        "colab": {
          "base_uri": "https://localhost:8080/"
        },
        "id": "edBJlFiU3OJV",
        "outputId": "2111edf3-2cce-44ac-fce5-28837ac4d5a5"
      },
      "execution_count": 40,
      "outputs": [
        {
          "output_type": "execute_result",
          "data": {
            "text/plain": [
              "179"
            ]
          },
          "metadata": {},
          "execution_count": 40
        }
      ]
    },
    {
      "cell_type": "code",
      "source": [
        "newStory = []\n",
        "\n",
        "for sent in story:\n",
        "  lis = []\n",
        "  for word in sent:\n",
        "    if word not in stopwords.words(\"english\"):\n",
        "      lis.append(word)\n",
        "  newStory.append(lis)\n",
        "  lis = []"
      ],
      "metadata": {
        "id": "C28YtelW3WJW"
      },
      "execution_count": 53,
      "outputs": []
    },
    {
      "cell_type": "code",
      "source": [
        "story[:3]"
      ],
      "metadata": {
        "colab": {
          "base_uri": "https://localhost:8080/"
        },
        "id": "A_KFI6dv4AxN",
        "outputId": "90ea9a4a-4179-4578-88fa-6d7646940fb7"
      },
      "execution_count": 54,
      "outputs": [
        {
          "output_type": "execute_result",
          "data": {
            "text/plain": [
              "[['game',\n",
              "  'of',\n",
              "  'thrones',\n",
              "  'book',\n",
              "  'one',\n",
              "  'of',\n",
              "  'song',\n",
              "  'of',\n",
              "  'ice',\n",
              "  'and',\n",
              "  'fire',\n",
              "  'by',\n",
              "  'george',\n",
              "  'martin',\n",
              "  'prologue',\n",
              "  'we',\n",
              "  'should',\n",
              "  'start',\n",
              "  'back',\n",
              "  'gared',\n",
              "  'urged',\n",
              "  'as',\n",
              "  'the',\n",
              "  'woods',\n",
              "  'began',\n",
              "  'to',\n",
              "  'grow',\n",
              "  'dark',\n",
              "  'around',\n",
              "  'them'],\n",
              " ['the', 'wildlings', 'are', 'dead'],\n",
              " ['do', 'the', 'dead', 'frighten', 'you']]"
            ]
          },
          "metadata": {},
          "execution_count": 54
        }
      ]
    },
    {
      "cell_type": "code",
      "source": [
        "newStory[:3]"
      ],
      "metadata": {
        "colab": {
          "base_uri": "https://localhost:8080/"
        },
        "id": "SVTp7U9A5JHp",
        "outputId": "dfa08a73-9a93-4ab6-d396-33f61d729a8c"
      },
      "execution_count": 56,
      "outputs": [
        {
          "output_type": "execute_result",
          "data": {
            "text/plain": [
              "[['game',\n",
              "  'thrones',\n",
              "  'book',\n",
              "  'one',\n",
              "  'song',\n",
              "  'ice',\n",
              "  'fire',\n",
              "  'george',\n",
              "  'martin',\n",
              "  'prologue',\n",
              "  'start',\n",
              "  'back',\n",
              "  'gared',\n",
              "  'urged',\n",
              "  'woods',\n",
              "  'began',\n",
              "  'grow',\n",
              "  'dark',\n",
              "  'around'],\n",
              " ['wildlings', 'dead'],\n",
              " ['dead', 'frighten']]"
            ]
          },
          "metadata": {},
          "execution_count": 56
        }
      ]
    },
    {
      "cell_type": "code",
      "source": [
        "model2 = gensim.models.Word2Vec(\n",
        "    window=10,\n",
        "    min_count=2,\n",
        "    workers=4\n",
        ")"
      ],
      "metadata": {
        "id": "wrTQ9Dc45ThT"
      },
      "execution_count": 58,
      "outputs": []
    },
    {
      "cell_type": "code",
      "source": [
        "model2.build_vocab(newStory)"
      ],
      "metadata": {
        "id": "shI6CZle7Vvu"
      },
      "execution_count": 59,
      "outputs": []
    },
    {
      "cell_type": "code",
      "source": [
        "model2.train(newStory, total_examples=model2.corpus_count, epochs=model2.epochs)"
      ],
      "metadata": {
        "colab": {
          "base_uri": "https://localhost:8080/"
        },
        "id": "rMF1gp6Y7aH-",
        "outputId": "fc1dad08-516e-4daf-d534-2ed9f243f18c"
      },
      "execution_count": 63,
      "outputs": [
        {
          "output_type": "execute_result",
          "data": {
            "text/plain": [
              "(4397163, 4579390)"
            ]
          },
          "metadata": {},
          "execution_count": 63
        }
      ]
    },
    {
      "cell_type": "code",
      "source": [
        "model2.wv.most_similar(\"daenerys\")"
      ],
      "metadata": {
        "colab": {
          "base_uri": "https://localhost:8080/"
        },
        "id": "LgDdgf6i7pb2",
        "outputId": "5de5352e-f5fe-48a1-bf22-0f63c8fce0cb"
      },
      "execution_count": 64,
      "outputs": [
        {
          "output_type": "execute_result",
          "data": {
            "text/plain": [
              "[('stormborn', 0.9155086278915405),\n",
              " ('unburnt', 0.863776683807373),\n",
              " ('regent', 0.8461617231369019),\n",
              " ('court', 0.8422068357467651),\n",
              " ('dorne', 0.8415745496749878),\n",
              " ('conceived', 0.8367491960525513),\n",
              " ('elia', 0.8357741832733154),\n",
              " ('myrcella', 0.8341018557548523),\n",
              " ('viserys', 0.8301594257354736),\n",
              " ('queen', 0.8298722505569458)]"
            ]
          },
          "metadata": {},
          "execution_count": 64
        }
      ]
    },
    {
      "cell_type": "code",
      "source": [
        "y2 = model2.wv.index2entity"
      ],
      "metadata": {
        "id": "p5Eop_Fg7y9T"
      },
      "execution_count": 66,
      "outputs": []
    },
    {
      "cell_type": "code",
      "source": [
        "y2[:10]"
      ],
      "metadata": {
        "colab": {
          "base_uri": "https://localhost:8080/"
        },
        "id": "zMCyh5JE8MhA",
        "outputId": "9e42dbf1-0204-4cb0-af5d-999bae352362"
      },
      "execution_count": 67,
      "outputs": [
        {
          "output_type": "execute_result",
          "data": {
            "text/plain": [
              "['said', 'lord', 'would', 'one', 'ser', 'could', 'man', 'king', 'men', 'back']"
            ]
          },
          "metadata": {},
          "execution_count": 67
        }
      ]
    },
    {
      "cell_type": "code",
      "source": [
        "pca2 = PCA(n_components=3)"
      ],
      "metadata": {
        "id": "kNaNg64x8XFU"
      },
      "execution_count": 68,
      "outputs": []
    },
    {
      "cell_type": "code",
      "source": [
        "X2 = pca.fit_transform(model2.wv.vectors_norm)"
      ],
      "metadata": {
        "id": "dGPRsxlr8fWr"
      },
      "execution_count": 69,
      "outputs": []
    },
    {
      "cell_type": "code",
      "source": [
        "X2.shape"
      ],
      "metadata": {
        "colab": {
          "base_uri": "https://localhost:8080/"
        },
        "id": "YK_59eRK8oT0",
        "outputId": "bfc005cf-9521-4e71-e329-2935f0c79948"
      },
      "execution_count": 70,
      "outputs": [
        {
          "output_type": "execute_result",
          "data": {
            "text/plain": [
              "(17310, 3)"
            ]
          },
          "metadata": {},
          "execution_count": 70
        }
      ]
    },
    {
      "cell_type": "code",
      "source": [
        "fig2 = px.scatter_3d(X2[200:300], x=0, y=1, z=2, color=y2[200:300])\n",
        "fig2.show()"
      ],
      "metadata": {
        "id": "TrcRJJTI8p-C"
      },
      "execution_count": null,
      "outputs": []
    },
    {
      "cell_type": "code",
      "source": [
        ""
      ],
      "metadata": {
        "id": "4sl3npQS86Nm"
      },
      "execution_count": null,
      "outputs": []
    }
  ]
}
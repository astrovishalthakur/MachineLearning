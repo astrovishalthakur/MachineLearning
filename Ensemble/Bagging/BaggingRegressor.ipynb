{
  "nbformat": 4,
  "nbformat_minor": 0,
  "metadata": {
    "colab": {
      "name": "BaggingRegressor.ipynb",
      "provenance": [],
      "authorship_tag": "ABX9TyNGTeUz0n+ebCpPRFdrDk8s",
      "include_colab_link": true
    },
    "kernelspec": {
      "name": "python3",
      "display_name": "Python 3"
    },
    "language_info": {
      "name": "python"
    }
  },
  "cells": [
    {
      "cell_type": "markdown",
      "metadata": {
        "id": "view-in-github",
        "colab_type": "text"
      },
      "source": [
        "<a href=\"https://colab.research.google.com/github/astrovishalthakur/MachineLearning/blob/main/Ensemble/Bagging/BaggingRegressor.ipynb\" target=\"_parent\"><img src=\"https://colab.research.google.com/assets/colab-badge.svg\" alt=\"Open In Colab\"/></a>"
      ]
    },
    {
      "cell_type": "code",
      "execution_count": 1,
      "metadata": {
        "colab": {
          "base_uri": "https://localhost:8080/"
        },
        "id": "8BVElBZhhHvx",
        "outputId": "c37d4641-1755-44e2-c2c2-e76bb99bafbc"
      },
      "outputs": [
        {
          "output_type": "stream",
          "name": "stdout",
          "text": [
            "Dataset features names : ['CRIM' 'ZN' 'INDUS' 'CHAS' 'NOX' 'RM' 'AGE' 'DIS' 'RAD' 'TAX' 'PTRATIO'\n",
            " 'B' 'LSTAT']\n",
            "Dataset features size : (506, 13)\n",
            "Dataset target size : (506,)\n"
          ]
        },
        {
          "output_type": "stream",
          "name": "stderr",
          "text": [
            "/usr/local/lib/python3.7/dist-packages/sklearn/utils/deprecation.py:87: FutureWarning: Function load_boston is deprecated; `load_boston` is deprecated in 1.0 and will be removed in 1.2.\n",
            "\n",
            "    The Boston housing prices dataset has an ethical problem. You can refer to\n",
            "    the documentation of this function for further details.\n",
            "\n",
            "    The scikit-learn maintainers therefore strongly discourage the use of this\n",
            "    dataset unless the purpose of the code is to study and educate about\n",
            "    ethical issues in data science and machine learning.\n",
            "\n",
            "    In this special case, you can fetch the dataset from the original\n",
            "    source::\n",
            "\n",
            "        import pandas as pd\n",
            "        import numpy as np\n",
            "\n",
            "\n",
            "        data_url = \"http://lib.stat.cmu.edu/datasets/boston\"\n",
            "        raw_df = pd.read_csv(data_url, sep=\"\\s+\", skiprows=22, header=None)\n",
            "        data = np.hstack([raw_df.values[::2, :], raw_df.values[1::2, :2]])\n",
            "        target = raw_df.values[1::2, 2]\n",
            "\n",
            "    Alternative datasets include the California housing dataset (i.e.\n",
            "    :func:`~sklearn.datasets.fetch_california_housing`) and the Ames housing\n",
            "    dataset. You can load the datasets as follows::\n",
            "\n",
            "        from sklearn.datasets import fetch_california_housing\n",
            "        housing = fetch_california_housing()\n",
            "\n",
            "    for the California housing dataset and::\n",
            "\n",
            "        from sklearn.datasets import fetch_openml\n",
            "        housing = fetch_openml(name=\"house_prices\", as_frame=True)\n",
            "\n",
            "    for the Ames housing dataset.\n",
            "    \n",
            "  warnings.warn(msg, category=FutureWarning)\n"
          ]
        }
      ],
      "source": [
        "from sklearn import datasets\n",
        "\n",
        "boston = datasets.load_boston()\n",
        "X_boston, Y_boston = boston.data, boston.target\n",
        "print('Dataset features names : '+ str(boston.feature_names))\n",
        "print('Dataset features size : '+ str(boston.data.shape))\n",
        "print('Dataset target size : '+ str(boston.target.shape))"
      ]
    },
    {
      "cell_type": "code",
      "source": [
        "from sklearn.linear_model import LinearRegression\n",
        "from sklearn.neighbors import KNeighborsRegressor\n",
        "from sklearn.model_selection import GridSearchCV\n",
        "from sklearn.tree import DecisionTreeRegressor\n",
        "from sklearn.metrics import r2_score"
      ],
      "metadata": {
        "id": "98x0UX2vjJpb"
      },
      "execution_count": 2,
      "outputs": []
    },
    {
      "cell_type": "code",
      "source": [
        "from sklearn.model_selection import train_test_split\n",
        "\n",
        "X_train, X_test, Y_train, Y_test = train_test_split(X_boston, Y_boston , train_size=0.80, test_size=0.20, random_state=123)\n",
        "print('Train/Test Sets Sizes : ',X_train.shape, X_test.shape, Y_train.shape, Y_test.shape)\n"
      ],
      "metadata": {
        "colab": {
          "base_uri": "https://localhost:8080/"
        },
        "id": "3juF-22TjMtX",
        "outputId": "6cd7dcdb-ee60-431b-aef4-81b36213aa4a"
      },
      "execution_count": 3,
      "outputs": [
        {
          "output_type": "stream",
          "name": "stdout",
          "text": [
            "Train/Test Sets Sizes :  (404, 13) (102, 13) (404,) (102,)\n"
          ]
        }
      ]
    },
    {
      "cell_type": "code",
      "source": [
        "lr = LinearRegression()\n",
        "dt = DecisionTreeRegressor()\n",
        "knn = KNeighborsRegressor()"
      ],
      "metadata": {
        "id": "1t_egklMjZuF"
      },
      "execution_count": 4,
      "outputs": []
    },
    {
      "cell_type": "code",
      "source": [
        "lr.fit(X_train,Y_train)\n",
        "dt.fit(X_train,Y_train)\n",
        "knn.fit(X_train,Y_train)"
      ],
      "metadata": {
        "colab": {
          "base_uri": "https://localhost:8080/"
        },
        "id": "QO6D9dKRjfwK",
        "outputId": "5371fc1d-c33a-47d9-cc1e-f44a22be0961"
      },
      "execution_count": 5,
      "outputs": [
        {
          "output_type": "execute_result",
          "data": {
            "text/plain": [
              "KNeighborsRegressor()"
            ]
          },
          "metadata": {},
          "execution_count": 5
        }
      ]
    },
    {
      "cell_type": "code",
      "source": [
        "y_pred1 = lr.predict(X_test)\n",
        "y_pred2 = dt.predict(X_test)\n",
        "y_pred3 = knn.predict(X_test)"
      ],
      "metadata": {
        "id": "oZ6QkA0zjjsb"
      },
      "execution_count": 6,
      "outputs": []
    },
    {
      "cell_type": "code",
      "source": [
        "print(\"R^2 score for LR\",r2_score(Y_test,y_pred1))\n",
        "print(\"R^2 score for DT\",r2_score(Y_test,y_pred2))\n",
        "print(\"R^2 score for KNN\",r2_score(Y_test,y_pred3))"
      ],
      "metadata": {
        "colab": {
          "base_uri": "https://localhost:8080/"
        },
        "id": "UAc1ANcajos9",
        "outputId": "ad7585cb-ea25-44ec-9359-55afc0fe0508"
      },
      "execution_count": 7,
      "outputs": [
        {
          "output_type": "stream",
          "name": "stdout",
          "text": [
            "R^2 score for LR 0.6592466510354125\n",
            "R^2 score for DT 0.4349243502542104\n",
            "R^2 score for KNN 0.5475962186976784\n"
          ]
        }
      ]
    },
    {
      "cell_type": "code",
      "source": [
        "from sklearn.ensemble import BaggingRegressor\n",
        "\n",
        "bag_regressor = BaggingRegressor(random_state=1) # in baggingRegressor, base estimator by default is None, which is DecisionTree\n",
        "bag_regressor.fit(X_train, Y_train)"
      ],
      "metadata": {
        "colab": {
          "base_uri": "https://localhost:8080/"
        },
        "id": "UchNgiNxjrN8",
        "outputId": "d4539b13-ad04-4913-b6b9-8f075cb1e3b6"
      },
      "execution_count": 8,
      "outputs": [
        {
          "output_type": "execute_result",
          "data": {
            "text/plain": [
              "BaggingRegressor(random_state=1)"
            ]
          },
          "metadata": {},
          "execution_count": 8
        }
      ]
    },
    {
      "cell_type": "code",
      "source": [
        "\n",
        "Y_preds = bag_regressor.predict(X_test)\n",
        "\n",
        "print('Training Coefficient of R^2 : %.3f'%bag_regressor.score(X_train, Y_train))\n",
        "print('Test Coefficient of R^2 : %.3f'%bag_regressor.score(X_test, Y_test))\n"
      ],
      "metadata": {
        "colab": {
          "base_uri": "https://localhost:8080/"
        },
        "id": "JF7X501GjvQn",
        "outputId": "f298bbcc-6dc1-4113-9850-d202fad2e09e"
      },
      "execution_count": 9,
      "outputs": [
        {
          "output_type": "stream",
          "name": "stdout",
          "text": [
            "Training Coefficient of R^2 : 0.980\n",
            "Test Coefficient of R^2 : 0.818\n"
          ]
        }
      ]
    },
    {
      "cell_type": "code",
      "source": [
        "%%time  \n",
        "\n",
        "# %%time shows total time in execution\n",
        "n_samples = boston.data.shape[0]\n",
        "n_features = boston.data.shape[1]\n",
        "\n",
        "params = {'base_estimator': [None, LinearRegression(), KNeighborsRegressor()],\n",
        "          'n_estimators': [20,50,100],\n",
        "          'max_samples': [0.5,1.0],\n",
        "          'max_features': [0.5,1.0],\n",
        "          'bootstrap': [True, False],\n",
        "          'bootstrap_features': [True, False]}\n",
        "\n",
        "bagging_regressor_grid = GridSearchCV(BaggingRegressor(random_state=1, n_jobs=-1), param_grid =params, cv=3, n_jobs=-1, verbose=1)\n",
        "bagging_regressor_grid.fit(X_train, Y_train)\n",
        "\n",
        "print('Train R^2 Score : %.3f'%bagging_regressor_grid.best_estimator_.score(X_train, Y_train))\n",
        "print('Test R^2 Score : %.3f'%bagging_regressor_grid.best_estimator_.score(X_test, Y_test))\n",
        "print('Best R^2 Score Through Grid Search : %.3f'%bagging_regressor_grid.best_score_)\n",
        "print('Best Parameters : ',bagging_regressor_grid.best_params_)\n"
      ],
      "metadata": {
        "colab": {
          "base_uri": "https://localhost:8080/"
        },
        "id": "ugB4fmpgkEfD",
        "outputId": "ed504971-d107-47cf-e501-87500121c770"
      },
      "execution_count": 10,
      "outputs": [
        {
          "output_type": "stream",
          "name": "stdout",
          "text": [
            "Fitting 3 folds for each of 144 candidates, totalling 432 fits\n",
            "Train R^2 Score : 0.983\n",
            "Test R^2 Score : 0.805\n",
            "Best R^2 Score Through Grid Search : 0.871\n",
            "Best Parameters :  {'base_estimator': None, 'bootstrap': True, 'bootstrap_features': False, 'max_features': 1.0, 'max_samples': 1.0, 'n_estimators': 50}\n",
            "CPU times: user 1.5 s, sys: 109 ms, total: 1.61 s\n",
            "Wall time: 1min 12s\n"
          ]
        }
      ]
    },
    {
      "cell_type": "code",
      "source": [
        ""
      ],
      "metadata": {
        "id": "EMhhDGrjlSU5"
      },
      "execution_count": null,
      "outputs": []
    }
  ]
}
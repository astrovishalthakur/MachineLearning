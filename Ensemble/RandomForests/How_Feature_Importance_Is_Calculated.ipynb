{
  "nbformat": 4,
  "nbformat_minor": 0,
  "metadata": {
    "colab": {
      "name": "How_Feature_Importance_Is_Calculated.ipynb",
      "provenance": [],
      "authorship_tag": "ABX9TyOcZk6cn9NaOABUZqEWRmMJ",
      "include_colab_link": true
    },
    "kernelspec": {
      "name": "python3",
      "display_name": "Python 3"
    },
    "language_info": {
      "name": "python"
    }
  },
  "cells": [
    {
      "cell_type": "markdown",
      "metadata": {
        "id": "view-in-github",
        "colab_type": "text"
      },
      "source": [
        "<a href=\"https://colab.research.google.com/github/astrovishalthakur/MachineLearning/blob/main/Ensemble/RandomForests/How_Feature_Importance_Is_Calculated.ipynb\" target=\"_parent\"><img src=\"https://colab.research.google.com/assets/colab-badge.svg\" alt=\"Open In Colab\"/></a>"
      ]
    },
    {
      "cell_type": "code",
      "execution_count": 2,
      "metadata": {
        "id": "vVDNUj8tlSNN"
      },
      "outputs": [],
      "source": [
        "from sklearn.datasets import make_classification\n",
        "from sklearn.tree import DecisionTreeClassifier\n"
      ]
    },
    {
      "cell_type": "code",
      "source": [
        "X, y = make_classification(n_samples=5, n_classes=2, n_features=2, n_informative=2, n_redundant=0, random_state=0)"
      ],
      "metadata": {
        "id": "CK0eEwqPllda"
      },
      "execution_count": 3,
      "outputs": []
    },
    {
      "cell_type": "code",
      "source": [
        "clf = DecisionTreeClassifier()"
      ],
      "metadata": {
        "id": "msYz1wWMl1Gu"
      },
      "execution_count": 4,
      "outputs": []
    },
    {
      "cell_type": "code",
      "source": [
        "clf.fit(X, y)"
      ],
      "metadata": {
        "colab": {
          "base_uri": "https://localhost:8080/"
        },
        "id": "uKUC_3UNl9Cv",
        "outputId": "0291a262-9b27-4de1-dd61-ca7c620cfedc"
      },
      "execution_count": 5,
      "outputs": [
        {
          "output_type": "execute_result",
          "data": {
            "text/plain": [
              "DecisionTreeClassifier()"
            ]
          },
          "metadata": {},
          "execution_count": 5
        }
      ]
    },
    {
      "cell_type": "code",
      "source": [
        "X"
      ],
      "metadata": {
        "colab": {
          "base_uri": "https://localhost:8080/"
        },
        "id": "0gC3zlkImLId",
        "outputId": "cd02da5a-3327-447b-cde4-f8eff1c73a10"
      },
      "execution_count": 6,
      "outputs": [
        {
          "output_type": "execute_result",
          "data": {
            "text/plain": [
              "array([[ 0.96399434, -0.12399406],\n",
              "       [ 1.05699092,  0.69448021],\n",
              "       [-0.55744457,  0.08369352],\n",
              "       [-1.19224399, -1.66447018],\n",
              "       [-0.3874711 ,  1.38366234]])"
            ]
          },
          "metadata": {},
          "execution_count": 6
        }
      ]
    },
    {
      "cell_type": "code",
      "source": [
        "X.shape"
      ],
      "metadata": {
        "colab": {
          "base_uri": "https://localhost:8080/"
        },
        "id": "pWRKO8ybmrBA",
        "outputId": "a2fc436d-0a5d-422f-9e9d-6c9a7f099340"
      },
      "execution_count": 7,
      "outputs": [
        {
          "output_type": "execute_result",
          "data": {
            "text/plain": [
              "(5, 2)"
            ]
          },
          "metadata": {},
          "execution_count": 7
        }
      ]
    },
    {
      "cell_type": "code",
      "source": [
        "y"
      ],
      "metadata": {
        "colab": {
          "base_uri": "https://localhost:8080/"
        },
        "id": "qo-AlnGQmOrT",
        "outputId": "68352ae8-7599-4ec9-ac1f-ca05e4d7d62b"
      },
      "execution_count": 8,
      "outputs": [
        {
          "output_type": "execute_result",
          "data": {
            "text/plain": [
              "array([0, 1, 0, 1, 0])"
            ]
          },
          "metadata": {},
          "execution_count": 8
        }
      ]
    },
    {
      "cell_type": "code",
      "source": [
        "import numpy as np\n"
      ],
      "metadata": {
        "id": "IaDy0WSWnSvR"
      },
      "execution_count": 9,
      "outputs": []
    },
    {
      "cell_type": "code",
      "source": [
        "np.concatenate((X, y.reshape(5, 1)), axis=1)"
      ],
      "metadata": {
        "colab": {
          "base_uri": "https://localhost:8080/"
        },
        "id": "EGZOtocnnIsz",
        "outputId": "f848041a-8221-468e-ec10-1035321e51f4"
      },
      "execution_count": 10,
      "outputs": [
        {
          "output_type": "execute_result",
          "data": {
            "text/plain": [
              "array([[ 0.96399434, -0.12399406,  0.        ],\n",
              "       [ 1.05699092,  0.69448021,  1.        ],\n",
              "       [-0.55744457,  0.08369352,  0.        ],\n",
              "       [-1.19224399, -1.66447018,  1.        ],\n",
              "       [-0.3874711 ,  1.38366234,  0.        ]])"
            ]
          },
          "metadata": {},
          "execution_count": 10
        }
      ]
    },
    {
      "cell_type": "code",
      "source": [
        "import seaborn as sns\n",
        "sns.scatterplot(X[:][:,0], X[:][:,1], hue=y)"
      ],
      "metadata": {
        "colab": {
          "base_uri": "https://localhost:8080/",
          "height": 339
        },
        "id": "ZF9a4j_JmQb2",
        "outputId": "5be92c8d-80da-4ade-d781-f6781138fb70"
      },
      "execution_count": 11,
      "outputs": [
        {
          "output_type": "stream",
          "name": "stderr",
          "text": [
            "/usr/local/lib/python3.7/dist-packages/seaborn/_decorators.py:43: FutureWarning: Pass the following variables as keyword args: x, y. From version 0.12, the only valid positional argument will be `data`, and passing other arguments without an explicit keyword will result in an error or misinterpretation.\n",
            "  FutureWarning\n"
          ]
        },
        {
          "output_type": "execute_result",
          "data": {
            "text/plain": [
              "<matplotlib.axes._subplots.AxesSubplot at 0x7f58a772b790>"
            ]
          },
          "metadata": {},
          "execution_count": 11
        },
        {
          "output_type": "display_data",
          "data": {
            "image/png": "[encoded data removed]",
            "text/plain": [
              "<Figure size 432x288 with 1 Axes>"
            ]
          },
          "metadata": {
            "needs_background": "light"
          }
        }
      ]
    },
    {
      "cell_type": "code",
      "source": [
        "from sklearn.tree import plot_tree"
      ],
      "metadata": {
        "id": "610KdUo1l-ES"
      },
      "execution_count": 12,
      "outputs": []
    },
    {
      "cell_type": "code",
      "source": [
        "plot_tree(clf)"
      ],
      "metadata": {
        "colab": {
          "base_uri": "https://localhost:8080/",
          "height": 335
        },
        "id": "bb3-ZtmDmBqh",
        "outputId": "9430ddba-003e-41cf-f90a-849912209a4f"
      },
      "execution_count": 13,
      "outputs": [
        {
          "output_type": "execute_result",
          "data": {
            "text/plain": [
              "[Text(0.4, 0.8333333333333334, 'X[1] <= -0.894\\ngini = 0.48\\nsamples = 5\\nvalue = [3, 2]'),\n",
              " Text(0.2, 0.5, 'gini = 0.0\\nsamples = 1\\nvalue = [0, 1]'),\n",
              " Text(0.6, 0.5, 'X[0] <= 1.01\\ngini = 0.375\\nsamples = 4\\nvalue = [3, 1]'),\n",
              " Text(0.4, 0.16666666666666666, 'gini = 0.0\\nsamples = 3\\nvalue = [3, 0]'),\n",
              " Text(0.8, 0.16666666666666666, 'gini = 0.0\\nsamples = 1\\nvalue = [0, 1]')]"
            ]
          },
          "metadata": {},
          "execution_count": 13
        },
        {
          "output_type": "display_data",
          "data": {
            "image/png": "[encoded data removed]",
            "text/plain": [
              "<Figure size 432x288 with 1 Axes>"
            ]
          },
          "metadata": {
            "needs_background": "light"
          }
        }
      ]
    },
    {
      "cell_type": "code",
      "source": [
        "clf.feature_importances_"
      ],
      "metadata": {
        "colab": {
          "base_uri": "https://localhost:8080/"
        },
        "id": "9AndIbIVmHwB",
        "outputId": "70caf0f8-6780-49db-e98d-713f12c4848e"
      },
      "execution_count": 14,
      "outputs": [
        {
          "output_type": "execute_result",
          "data": {
            "text/plain": [
              "array([0.625, 0.375])"
            ]
          },
          "metadata": {},
          "execution_count": 14
        }
      ]
    },
    {
      "cell_type": "markdown",
      "source": [
        "Since feature importances are normalized, sum of all feature importance is 1."
      ],
      "metadata": {
        "id": "AdUWb5bCnyht"
      }
    },
    {
      "cell_type": "markdown",
      "source": [
        "# Feature Importance Formula.\n",
        "\n"
      ],
      "metadata": {
        "id": "QgkcI3Sg3NTz"
      }
    },
    {
      "cell_type": "markdown",
      "source": [
        "# Node importance:\n",
        "$$n_i = { \\frac{N_T} {N}} [impurity - ( \\frac{N_Tr}{N_T} \\times impurity_R) - (\\frac{N_Tl}{N_T} \\times impurity_L)].$$"
      ],
      "metadata": {
        "id": "BdYJd9as8e-y"
      }
    },
    {
      "cell_type": "markdown",
      "source": [
        "$$n_i = node\\:importance$$\n",
        "$$ N_T = no.\\:of\\:rows\\:in\\:that\\:node.$$\n",
        "$$N = total\\:no.\\:of\\:rows\\:in\\:data.$$\n",
        "$$impurity = impurity\\:on\\:node(gini)$$\n",
        "$$N_TR = no.\\:of\\:rows\\:of\\:right\\:child$$\n",
        "$$N_TL = no\\:of\\:rows\\:of\\:left\\:child.$$\n",
        "$$impurity_L\\:and\\: impurity_R\\: are\\: impurity\\:of\\:left\\:and\\:right\\:child\\:respectively.$$"
      ],
      "metadata": {
        "id": "OEEPT5C48iXh"
      }
    },
    {
      "cell_type": "markdown",
      "source": [
        "# Feature importance"
      ],
      "metadata": {
        "id": "J123qB15-eh6"
      }
    },
    {
      "cell_type": "markdown",
      "source": [
        "$$f_{ik} = \\frac{\\sum_{j\\in\\: node\\:split\\:on\\:feature\\:k}\\:x_i}{\\sum_{j\\in \\:all\\:nodes}\\:x_i}$$"
      ],
      "metadata": {
        "id": "Rwo2xjgQBBX2"
      }
    },
    {
      "cell_type": "code",
      "source": [
        "from sklearn.ensemble import RandomForestClassifier\n",
        "rf = RandomForestClassifier(n_estimators=2)\n",
        "rf.fit(X,y)"
      ],
      "metadata": {
        "colab": {
          "base_uri": "https://localhost:8080/"
        },
        "id": "OA3HfpHG8eP4",
        "outputId": "14903967-5d2e-4c27-bf26-cc7b23e2e2bd"
      },
      "execution_count": 16,
      "outputs": [
        {
          "output_type": "execute_result",
          "data": {
            "text/plain": [
              "RandomForestClassifier(n_estimators=2)"
            ]
          },
          "metadata": {},
          "execution_count": 16
        }
      ]
    },
    {
      "cell_type": "code",
      "source": [
        "rf.feature_importances_"
      ],
      "metadata": {
        "colab": {
          "base_uri": "https://localhost:8080/"
        },
        "id": "_W-TdcVAnx93",
        "outputId": "1920dbef-8c49-40b4-976c-078600eddd89"
      },
      "execution_count": 17,
      "outputs": [
        {
          "output_type": "execute_result",
          "data": {
            "text/plain": [
              "array([0.44444444, 0.55555556])"
            ]
          },
          "metadata": {},
          "execution_count": 17
        }
      ]
    },
    {
      "cell_type": "code",
      "source": [
        "print(rf.estimators_[0].feature_importances_)\n",
        "print(rf.estimators_[1].feature_importances_)\n"
      ],
      "metadata": {
        "colab": {
          "base_uri": "https://localhost:8080/"
        },
        "id": "MveAZUOjnnXX",
        "outputId": "2b61d1b0-bd3e-446f-f47e-efe52d07db1c"
      },
      "execution_count": 22,
      "outputs": [
        {
          "output_type": "stream",
          "name": "stdout",
          "text": [
            "[0. 0.]\n",
            "[0.44444444 0.55555556]\n"
          ]
        }
      ]
    },
    {
      "cell_type": "markdown",
      "source": [
        "In random forests, feature importance of a feature is average of all same feature's importances from different decision trees used as base models"
      ],
      "metadata": {
        "id": "m2KOe2joC1z-"
      }
    },
    {
      "cell_type": "code",
      "source": [
        "X,y = make_classification(n_samples=15, n_classes=2,\n",
        "                               n_features=2, n_informative=2, n_redundant=0,\n",
        "                               random_state=0)\n",
        "from sklearn.tree import DecisionTreeClassifier\n",
        "clf = DecisionTreeClassifier()\n",
        "clf.fit(X,y)"
      ],
      "metadata": {
        "colab": {
          "base_uri": "https://localhost:8080/"
        },
        "id": "n3cJmfwoCRsl",
        "outputId": "a55a623c-01d8-4704-fecf-17f143dfe9ef"
      },
      "execution_count": 19,
      "outputs": [
        {
          "output_type": "execute_result",
          "data": {
            "text/plain": [
              "DecisionTreeClassifier()"
            ]
          },
          "metadata": {},
          "execution_count": 19
        }
      ]
    },
    {
      "cell_type": "code",
      "source": [
        "from sklearn.tree import plot_tree\n",
        "plot_tree(clf)"
      ],
      "metadata": {
        "colab": {
          "base_uri": "https://localhost:8080/",
          "height": 389
        },
        "id": "k_fvB0AdCXmY",
        "outputId": "a9fec078-4e1b-46b6-b0de-80928338170f"
      },
      "execution_count": 20,
      "outputs": [
        {
          "output_type": "execute_result",
          "data": {
            "text/plain": [
              "[Text(0.3333333333333333, 0.875, 'X[1] <= -0.383\\ngini = 0.498\\nsamples = 15\\nvalue = [8, 7]'),\n",
              " Text(0.16666666666666666, 0.625, 'gini = 0.0\\nsamples = 6\\nvalue = [6, 0]'),\n",
              " Text(0.5, 0.625, 'X[0] <= 0.878\\ngini = 0.346\\nsamples = 9\\nvalue = [2, 7]'),\n",
              " Text(0.3333333333333333, 0.375, 'gini = 0.0\\nsamples = 6\\nvalue = [0, 6]'),\n",
              " Text(0.6666666666666666, 0.375, 'X[1] <= -0.278\\ngini = 0.444\\nsamples = 3\\nvalue = [2, 1]'),\n",
              " Text(0.5, 0.125, 'gini = 0.0\\nsamples = 1\\nvalue = [0, 1]'),\n",
              " Text(0.8333333333333334, 0.125, 'gini = 0.0\\nsamples = 2\\nvalue = [2, 0]')]"
            ]
          },
          "metadata": {},
          "execution_count": 20
        },
        {
          "output_type": "display_data",
          "data": {
            "image/png": "[encoded data removed]",
            "text/plain": [
              "<Figure size 432x288 with 1 Axes>"
            ]
          },
          "metadata": {
            "needs_background": "light"
          }
        }
      ]
    },
    {
      "cell_type": "code",
      "source": [
        "clf.feature_importances_"
      ],
      "metadata": {
        "colab": {
          "base_uri": "https://localhost:8080/"
        },
        "id": "jULJ6qJhCbPt",
        "outputId": "98b414bf-acb3-4107-fc3e-a8dd10cdf394"
      },
      "execution_count": 21,
      "outputs": [
        {
          "output_type": "execute_result",
          "data": {
            "text/plain": [
              "array([0.23809524, 0.76190476])"
            ]
          },
          "metadata": {},
          "execution_count": 21
        }
      ]
    },
    {
      "cell_type": "markdown",
      "source": [
        "### If our data has high cardianality, we should use `sklearn.inspection.permutation_importance`. This gives better results."
      ],
      "metadata": {
        "id": "o0rde7ZZDT10"
      }
    },
    {
      "cell_type": "code",
      "source": [
        ""
      ],
      "metadata": {
        "id": "gTXmts60Ceis"
      },
      "execution_count": null,
      "outputs": []
    }
  ]
}
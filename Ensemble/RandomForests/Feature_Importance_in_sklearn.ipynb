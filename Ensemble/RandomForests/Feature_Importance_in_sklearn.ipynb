{
  "nbformat": 4,
  "nbformat_minor": 0,
  "metadata": {
    "colab": {
      "name": "Feature_Importance_in_sklearn.ipynb",
      "provenance": [],
      "authorship_tag": "ABX9TyNknaAYm/8pa1fma2TqPkph",
      "include_colab_link": true
    },
    "kernelspec": {
      "name": "python3",
      "display_name": "Python 3"
    },
    "language_info": {
      "name": "python"
    }
  },
  "cells": [
    {
      "cell_type": "markdown",
      "metadata": {
        "id": "view-in-github",
        "colab_type": "text"
      },
      "source": [
        "<a href=\"https://colab.research.google.com/github/astrovishalthakur/MachineLearning/blob/main/Ensemble/RandomForests/Feature_Importance_in_sklearn.ipynb\" target=\"_parent\"><img src=\"https://colab.research.google.com/assets/colab-badge.svg\" alt=\"Open In Colab\"/></a>"
      ]
    },
    {
      "cell_type": "code",
      "execution_count": 1,
      "metadata": {
        "id": "KJfl6gP9XRhK"
      },
      "outputs": [],
      "source": [
        "import numpy as np\n",
        "import pandas as pd"
      ]
    },
    {
      "cell_type": "code",
      "source": [
        "! pip install kaggle"
      ],
      "metadata": {
        "colab": {
          "base_uri": "https://localhost:8080/"
        },
        "id": "rEohpPP_XiSH",
        "outputId": "e079423e-db73-41e5-fbde-6551564e274b"
      },
      "execution_count": 22,
      "outputs": [
        {
          "output_type": "stream",
          "name": "stdout",
          "text": [
            "Requirement already satisfied: kaggle in /usr/local/lib/python3.7/dist-packages (1.5.12)\n",
            "Requirement already satisfied: python-dateutil in /usr/local/lib/python3.7/dist-packages (from kaggle) (2.8.2)\n",
            "Requirement already satisfied: tqdm in /usr/local/lib/python3.7/dist-packages (from kaggle) (4.62.3)\n",
            "Requirement already satisfied: certifi in /usr/local/lib/python3.7/dist-packages (from kaggle) (2021.10.8)\n",
            "Requirement already satisfied: requests in /usr/local/lib/python3.7/dist-packages (from kaggle) (2.23.0)\n",
            "Requirement already satisfied: python-slugify in /usr/local/lib/python3.7/dist-packages (from kaggle) (5.0.2)\n",
            "Requirement already satisfied: urllib3 in /usr/local/lib/python3.7/dist-packages (from kaggle) (1.24.3)\n",
            "Requirement already satisfied: six>=1.10 in /usr/local/lib/python3.7/dist-packages (from kaggle) (1.15.0)\n",
            "Requirement already satisfied: text-unidecode>=1.3 in /usr/local/lib/python3.7/dist-packages (from python-slugify->kaggle) (1.3)\n",
            "Requirement already satisfied: chardet<4,>=3.0.2 in /usr/local/lib/python3.7/dist-packages (from requests->kaggle) (3.0.4)\n",
            "Requirement already satisfied: idna<3,>=2.5 in /usr/local/lib/python3.7/dist-packages (from requests->kaggle) (2.10)\n"
          ]
        }
      ]
    },
    {
      "cell_type": "code",
      "source": [
        "from google.colab import drive\n",
        "drive.mount(\"/content/drive\")"
      ],
      "metadata": {
        "colab": {
          "base_uri": "https://localhost:8080/"
        },
        "id": "B_Cg747vX6_W",
        "outputId": "c97fdeb9-925f-45d6-c33c-2c385b1283d5"
      },
      "execution_count": 25,
      "outputs": [
        {
          "output_type": "stream",
          "name": "stdout",
          "text": [
            "Mounted at /content/drive\n"
          ]
        }
      ]
    },
    {
      "cell_type": "code",
      "source": [
        "! mkdir ~/.kaggle"
      ],
      "metadata": {
        "id": "mc7qNb0mX9aS"
      },
      "execution_count": 24,
      "outputs": []
    },
    {
      "cell_type": "code",
      "source": [
        "! ! cp /content/drive/MyDrive/kaggle/kaggle.json ~/.kaggle/kaggle.json\n",
        "! kaggle datasets download -d zalando-research/fashionmnist\n",
        "! unzip fashionmnist.zip"
      ],
      "metadata": {
        "colab": {
          "base_uri": "https://localhost:8080/"
        },
        "id": "tS2AikwaYBBi",
        "outputId": "ec14a3c5-e3b5-41a0-9130-b124fcbea6a8"
      },
      "execution_count": 26,
      "outputs": [
        {
          "output_type": "stream",
          "name": "stdout",
          "text": [
            "Downloading fashionmnist.zip to /content\n",
            " 87% 60.0M/68.8M [00:00<00:00, 99.1MB/s]\n",
            "100% 68.8M/68.8M [00:00<00:00, 140MB/s] \n",
            "Archive:  fashionmnist.zip\n",
            "  inflating: fashion-mnist_test.csv  \n",
            "  inflating: fashion-mnist_train.csv  \n",
            "  inflating: t10k-images-idx3-ubyte  \n",
            "  inflating: t10k-labels-idx1-ubyte  \n",
            "  inflating: train-images-idx3-ubyte  \n",
            "  inflating: train-labels-idx1-ubyte  \n"
          ]
        }
      ]
    },
    {
      "cell_type": "code",
      "source": [
        "df = pd.read_csv(\"fashion-mnist_train.csv\")"
      ],
      "metadata": {
        "id": "XdTEb-NHYFdJ"
      },
      "execution_count": 27,
      "outputs": []
    },
    {
      "cell_type": "code",
      "source": [
        "df.head()"
      ],
      "metadata": {
        "colab": {
          "base_uri": "https://localhost:8080/",
          "height": 299
        },
        "id": "jXyphcK_bjfN",
        "outputId": "dc01e5ea-fbbd-4c1c-a6a8-b41bd3120f71"
      },
      "execution_count": 28,
      "outputs": [
        {
          "output_type": "execute_result",
          "data": {
            "text/html": [
              "\n",
              "  <div id=\"df-9491bb75-8f3b-4eb4-89e5-db2907c43c62\">\n",
              "    <div class=\"colab-df-container\">\n",
              "      <div>\n",
              "<style scoped>\n",
              "    .dataframe tbody tr th:only-of-type {\n",
              "        vertical-align: middle;\n",
              "    }\n",
              "\n",
              "    .dataframe tbody tr th {\n",
              "        vertical-align: top;\n",
              "    }\n",
              "\n",
              "    .dataframe thead th {\n",
              "        text-align: right;\n",
              "    }\n",
              "</style>\n",
              "<table border=\"1\" class=\"dataframe\">\n",
              "  <thead>\n",
              "    <tr style=\"text-align: right;\">\n",
              "      <th></th>\n",
              "      <th>label</th>\n",
              "      <th>pixel1</th>\n",
              "      <th>pixel2</th>\n",
              "      <th>pixel3</th>\n",
              "      <th>pixel4</th>\n",
              "      <th>pixel5</th>\n",
              "      <th>pixel6</th>\n",
              "      <th>pixel7</th>\n",
              "      <th>pixel8</th>\n",
              "      <th>pixel9</th>\n",
              "      <th>pixel10</th>\n",
              "      <th>pixel11</th>\n",
              "      <th>pixel12</th>\n",
              "      <th>pixel13</th>\n",
              "      <th>pixel14</th>\n",
              "      <th>pixel15</th>\n",
              "      <th>pixel16</th>\n",
              "      <th>pixel17</th>\n",
              "      <th>pixel18</th>\n",
              "      <th>pixel19</th>\n",
              "      <th>pixel20</th>\n",
              "      <th>pixel21</th>\n",
              "      <th>pixel22</th>\n",
              "      <th>pixel23</th>\n",
              "      <th>pixel24</th>\n",
              "      <th>pixel25</th>\n",
              "      <th>pixel26</th>\n",
              "      <th>pixel27</th>\n",
              "      <th>pixel28</th>\n",
              "      <th>pixel29</th>\n",
              "      <th>pixel30</th>\n",
              "      <th>pixel31</th>\n",
              "      <th>pixel32</th>\n",
              "      <th>pixel33</th>\n",
              "      <th>pixel34</th>\n",
              "      <th>pixel35</th>\n",
              "      <th>pixel36</th>\n",
              "      <th>pixel37</th>\n",
              "      <th>pixel38</th>\n",
              "      <th>pixel39</th>\n",
              "      <th>...</th>\n",
              "      <th>pixel745</th>\n",
              "      <th>pixel746</th>\n",
              "      <th>pixel747</th>\n",
              "      <th>pixel748</th>\n",
              "      <th>pixel749</th>\n",
              "      <th>pixel750</th>\n",
              "      <th>pixel751</th>\n",
              "      <th>pixel752</th>\n",
              "      <th>pixel753</th>\n",
              "      <th>pixel754</th>\n",
              "      <th>pixel755</th>\n",
              "      <th>pixel756</th>\n",
              "      <th>pixel757</th>\n",
              "      <th>pixel758</th>\n",
              "      <th>pixel759</th>\n",
              "      <th>pixel760</th>\n",
              "      <th>pixel761</th>\n",
              "      <th>pixel762</th>\n",
              "      <th>pixel763</th>\n",
              "      <th>pixel764</th>\n",
              "      <th>pixel765</th>\n",
              "      <th>pixel766</th>\n",
              "      <th>pixel767</th>\n",
              "      <th>pixel768</th>\n",
              "      <th>pixel769</th>\n",
              "      <th>pixel770</th>\n",
              "      <th>pixel771</th>\n",
              "      <th>pixel772</th>\n",
              "      <th>pixel773</th>\n",
              "      <th>pixel774</th>\n",
              "      <th>pixel775</th>\n",
              "      <th>pixel776</th>\n",
              "      <th>pixel777</th>\n",
              "      <th>pixel778</th>\n",
              "      <th>pixel779</th>\n",
              "      <th>pixel780</th>\n",
              "      <th>pixel781</th>\n",
              "      <th>pixel782</th>\n",
              "      <th>pixel783</th>\n",
              "      <th>pixel784</th>\n",
              "    </tr>\n",
              "  </thead>\n",
              "  <tbody>\n",
              "    <tr>\n",
              "      <th>0</th>\n",
              "      <td>2</td>\n",
              "      <td>0</td>\n",
              "      <td>0</td>\n",
              "      <td>0</td>\n",
              "      <td>0</td>\n",
              "      <td>0</td>\n",
              "      <td>0</td>\n",
              "      <td>0</td>\n",
              "      <td>0</td>\n",
              "      <td>0</td>\n",
              "      <td>0</td>\n",
              "      <td>0</td>\n",
              "      <td>0</td>\n",
              "      <td>0</td>\n",
              "      <td>0</td>\n",
              "      <td>0</td>\n",
              "      <td>0</td>\n",
              "      <td>0</td>\n",
              "      <td>0</td>\n",
              "      <td>0</td>\n",
              "      <td>0</td>\n",
              "      <td>0</td>\n",
              "      <td>0</td>\n",
              "      <td>0</td>\n",
              "      <td>0</td>\n",
              "      <td>0</td>\n",
              "      <td>0</td>\n",
              "      <td>0</td>\n",
              "      <td>0</td>\n",
              "      <td>0</td>\n",
              "      <td>0</td>\n",
              "      <td>0</td>\n",
              "      <td>0</td>\n",
              "      <td>0</td>\n",
              "      <td>0</td>\n",
              "      <td>0</td>\n",
              "      <td>0</td>\n",
              "      <td>0</td>\n",
              "      <td>0</td>\n",
              "      <td>0</td>\n",
              "      <td>...</td>\n",
              "      <td>0</td>\n",
              "      <td>0</td>\n",
              "      <td>0</td>\n",
              "      <td>0</td>\n",
              "      <td>0</td>\n",
              "      <td>0</td>\n",
              "      <td>0</td>\n",
              "      <td>0</td>\n",
              "      <td>0</td>\n",
              "      <td>0</td>\n",
              "      <td>0</td>\n",
              "      <td>0</td>\n",
              "      <td>0</td>\n",
              "      <td>0</td>\n",
              "      <td>0</td>\n",
              "      <td>0</td>\n",
              "      <td>0</td>\n",
              "      <td>0</td>\n",
              "      <td>0</td>\n",
              "      <td>0</td>\n",
              "      <td>0</td>\n",
              "      <td>0</td>\n",
              "      <td>0</td>\n",
              "      <td>0</td>\n",
              "      <td>0</td>\n",
              "      <td>0</td>\n",
              "      <td>0</td>\n",
              "      <td>0</td>\n",
              "      <td>0</td>\n",
              "      <td>0</td>\n",
              "      <td>0</td>\n",
              "      <td>0</td>\n",
              "      <td>0</td>\n",
              "      <td>0</td>\n",
              "      <td>0</td>\n",
              "      <td>0</td>\n",
              "      <td>0</td>\n",
              "      <td>0</td>\n",
              "      <td>0</td>\n",
              "      <td>0</td>\n",
              "    </tr>\n",
              "    <tr>\n",
              "      <th>1</th>\n",
              "      <td>9</td>\n",
              "      <td>0</td>\n",
              "      <td>0</td>\n",
              "      <td>0</td>\n",
              "      <td>0</td>\n",
              "      <td>0</td>\n",
              "      <td>0</td>\n",
              "      <td>0</td>\n",
              "      <td>0</td>\n",
              "      <td>0</td>\n",
              "      <td>0</td>\n",
              "      <td>0</td>\n",
              "      <td>0</td>\n",
              "      <td>0</td>\n",
              "      <td>0</td>\n",
              "      <td>0</td>\n",
              "      <td>0</td>\n",
              "      <td>0</td>\n",
              "      <td>0</td>\n",
              "      <td>0</td>\n",
              "      <td>0</td>\n",
              "      <td>0</td>\n",
              "      <td>0</td>\n",
              "      <td>0</td>\n",
              "      <td>0</td>\n",
              "      <td>0</td>\n",
              "      <td>0</td>\n",
              "      <td>0</td>\n",
              "      <td>0</td>\n",
              "      <td>0</td>\n",
              "      <td>0</td>\n",
              "      <td>0</td>\n",
              "      <td>0</td>\n",
              "      <td>0</td>\n",
              "      <td>0</td>\n",
              "      <td>0</td>\n",
              "      <td>0</td>\n",
              "      <td>0</td>\n",
              "      <td>0</td>\n",
              "      <td>0</td>\n",
              "      <td>...</td>\n",
              "      <td>0</td>\n",
              "      <td>0</td>\n",
              "      <td>0</td>\n",
              "      <td>0</td>\n",
              "      <td>0</td>\n",
              "      <td>0</td>\n",
              "      <td>0</td>\n",
              "      <td>0</td>\n",
              "      <td>0</td>\n",
              "      <td>0</td>\n",
              "      <td>0</td>\n",
              "      <td>0</td>\n",
              "      <td>0</td>\n",
              "      <td>0</td>\n",
              "      <td>0</td>\n",
              "      <td>0</td>\n",
              "      <td>0</td>\n",
              "      <td>0</td>\n",
              "      <td>0</td>\n",
              "      <td>0</td>\n",
              "      <td>0</td>\n",
              "      <td>0</td>\n",
              "      <td>0</td>\n",
              "      <td>0</td>\n",
              "      <td>0</td>\n",
              "      <td>0</td>\n",
              "      <td>0</td>\n",
              "      <td>0</td>\n",
              "      <td>0</td>\n",
              "      <td>0</td>\n",
              "      <td>0</td>\n",
              "      <td>0</td>\n",
              "      <td>0</td>\n",
              "      <td>0</td>\n",
              "      <td>0</td>\n",
              "      <td>0</td>\n",
              "      <td>0</td>\n",
              "      <td>0</td>\n",
              "      <td>0</td>\n",
              "      <td>0</td>\n",
              "    </tr>\n",
              "    <tr>\n",
              "      <th>2</th>\n",
              "      <td>6</td>\n",
              "      <td>0</td>\n",
              "      <td>0</td>\n",
              "      <td>0</td>\n",
              "      <td>0</td>\n",
              "      <td>0</td>\n",
              "      <td>0</td>\n",
              "      <td>0</td>\n",
              "      <td>5</td>\n",
              "      <td>0</td>\n",
              "      <td>0</td>\n",
              "      <td>0</td>\n",
              "      <td>105</td>\n",
              "      <td>92</td>\n",
              "      <td>101</td>\n",
              "      <td>107</td>\n",
              "      <td>100</td>\n",
              "      <td>132</td>\n",
              "      <td>0</td>\n",
              "      <td>0</td>\n",
              "      <td>2</td>\n",
              "      <td>4</td>\n",
              "      <td>0</td>\n",
              "      <td>1</td>\n",
              "      <td>0</td>\n",
              "      <td>0</td>\n",
              "      <td>0</td>\n",
              "      <td>0</td>\n",
              "      <td>0</td>\n",
              "      <td>0</td>\n",
              "      <td>0</td>\n",
              "      <td>0</td>\n",
              "      <td>0</td>\n",
              "      <td>0</td>\n",
              "      <td>0</td>\n",
              "      <td>0</td>\n",
              "      <td>0</td>\n",
              "      <td>0</td>\n",
              "      <td>0</td>\n",
              "      <td>150</td>\n",
              "      <td>...</td>\n",
              "      <td>211</td>\n",
              "      <td>220</td>\n",
              "      <td>214</td>\n",
              "      <td>74</td>\n",
              "      <td>0</td>\n",
              "      <td>255</td>\n",
              "      <td>222</td>\n",
              "      <td>128</td>\n",
              "      <td>0</td>\n",
              "      <td>0</td>\n",
              "      <td>0</td>\n",
              "      <td>0</td>\n",
              "      <td>0</td>\n",
              "      <td>0</td>\n",
              "      <td>0</td>\n",
              "      <td>0</td>\n",
              "      <td>0</td>\n",
              "      <td>44</td>\n",
              "      <td>12</td>\n",
              "      <td>0</td>\n",
              "      <td>0</td>\n",
              "      <td>40</td>\n",
              "      <td>134</td>\n",
              "      <td>162</td>\n",
              "      <td>191</td>\n",
              "      <td>214</td>\n",
              "      <td>163</td>\n",
              "      <td>146</td>\n",
              "      <td>165</td>\n",
              "      <td>79</td>\n",
              "      <td>0</td>\n",
              "      <td>0</td>\n",
              "      <td>0</td>\n",
              "      <td>30</td>\n",
              "      <td>43</td>\n",
              "      <td>0</td>\n",
              "      <td>0</td>\n",
              "      <td>0</td>\n",
              "      <td>0</td>\n",
              "      <td>0</td>\n",
              "    </tr>\n",
              "    <tr>\n",
              "      <th>3</th>\n",
              "      <td>0</td>\n",
              "      <td>0</td>\n",
              "      <td>0</td>\n",
              "      <td>0</td>\n",
              "      <td>1</td>\n",
              "      <td>2</td>\n",
              "      <td>0</td>\n",
              "      <td>0</td>\n",
              "      <td>0</td>\n",
              "      <td>0</td>\n",
              "      <td>0</td>\n",
              "      <td>114</td>\n",
              "      <td>183</td>\n",
              "      <td>112</td>\n",
              "      <td>55</td>\n",
              "      <td>23</td>\n",
              "      <td>72</td>\n",
              "      <td>102</td>\n",
              "      <td>165</td>\n",
              "      <td>160</td>\n",
              "      <td>28</td>\n",
              "      <td>0</td>\n",
              "      <td>0</td>\n",
              "      <td>0</td>\n",
              "      <td>1</td>\n",
              "      <td>0</td>\n",
              "      <td>0</td>\n",
              "      <td>0</td>\n",
              "      <td>0</td>\n",
              "      <td>0</td>\n",
              "      <td>0</td>\n",
              "      <td>0</td>\n",
              "      <td>0</td>\n",
              "      <td>1</td>\n",
              "      <td>0</td>\n",
              "      <td>0</td>\n",
              "      <td>24</td>\n",
              "      <td>188</td>\n",
              "      <td>163</td>\n",
              "      <td>93</td>\n",
              "      <td>...</td>\n",
              "      <td>171</td>\n",
              "      <td>249</td>\n",
              "      <td>207</td>\n",
              "      <td>197</td>\n",
              "      <td>202</td>\n",
              "      <td>45</td>\n",
              "      <td>0</td>\n",
              "      <td>3</td>\n",
              "      <td>0</td>\n",
              "      <td>0</td>\n",
              "      <td>0</td>\n",
              "      <td>0</td>\n",
              "      <td>0</td>\n",
              "      <td>0</td>\n",
              "      <td>0</td>\n",
              "      <td>0</td>\n",
              "      <td>0</td>\n",
              "      <td>0</td>\n",
              "      <td>1</td>\n",
              "      <td>0</td>\n",
              "      <td>0</td>\n",
              "      <td>0</td>\n",
              "      <td>22</td>\n",
              "      <td>21</td>\n",
              "      <td>25</td>\n",
              "      <td>69</td>\n",
              "      <td>52</td>\n",
              "      <td>45</td>\n",
              "      <td>74</td>\n",
              "      <td>39</td>\n",
              "      <td>3</td>\n",
              "      <td>0</td>\n",
              "      <td>0</td>\n",
              "      <td>0</td>\n",
              "      <td>0</td>\n",
              "      <td>1</td>\n",
              "      <td>0</td>\n",
              "      <td>0</td>\n",
              "      <td>0</td>\n",
              "      <td>0</td>\n",
              "    </tr>\n",
              "    <tr>\n",
              "      <th>4</th>\n",
              "      <td>3</td>\n",
              "      <td>0</td>\n",
              "      <td>0</td>\n",
              "      <td>0</td>\n",
              "      <td>0</td>\n",
              "      <td>0</td>\n",
              "      <td>0</td>\n",
              "      <td>0</td>\n",
              "      <td>0</td>\n",
              "      <td>0</td>\n",
              "      <td>0</td>\n",
              "      <td>0</td>\n",
              "      <td>0</td>\n",
              "      <td>46</td>\n",
              "      <td>0</td>\n",
              "      <td>21</td>\n",
              "      <td>68</td>\n",
              "      <td>0</td>\n",
              "      <td>0</td>\n",
              "      <td>0</td>\n",
              "      <td>0</td>\n",
              "      <td>0</td>\n",
              "      <td>0</td>\n",
              "      <td>0</td>\n",
              "      <td>0</td>\n",
              "      <td>0</td>\n",
              "      <td>0</td>\n",
              "      <td>0</td>\n",
              "      <td>0</td>\n",
              "      <td>0</td>\n",
              "      <td>0</td>\n",
              "      <td>0</td>\n",
              "      <td>0</td>\n",
              "      <td>0</td>\n",
              "      <td>0</td>\n",
              "      <td>0</td>\n",
              "      <td>0</td>\n",
              "      <td>25</td>\n",
              "      <td>187</td>\n",
              "      <td>189</td>\n",
              "      <td>...</td>\n",
              "      <td>230</td>\n",
              "      <td>237</td>\n",
              "      <td>229</td>\n",
              "      <td>0</td>\n",
              "      <td>0</td>\n",
              "      <td>1</td>\n",
              "      <td>0</td>\n",
              "      <td>0</td>\n",
              "      <td>0</td>\n",
              "      <td>0</td>\n",
              "      <td>0</td>\n",
              "      <td>0</td>\n",
              "      <td>0</td>\n",
              "      <td>0</td>\n",
              "      <td>0</td>\n",
              "      <td>0</td>\n",
              "      <td>0</td>\n",
              "      <td>0</td>\n",
              "      <td>0</td>\n",
              "      <td>0</td>\n",
              "      <td>0</td>\n",
              "      <td>68</td>\n",
              "      <td>116</td>\n",
              "      <td>112</td>\n",
              "      <td>136</td>\n",
              "      <td>147</td>\n",
              "      <td>144</td>\n",
              "      <td>121</td>\n",
              "      <td>102</td>\n",
              "      <td>63</td>\n",
              "      <td>0</td>\n",
              "      <td>0</td>\n",
              "      <td>0</td>\n",
              "      <td>0</td>\n",
              "      <td>0</td>\n",
              "      <td>0</td>\n",
              "      <td>0</td>\n",
              "      <td>0</td>\n",
              "      <td>0</td>\n",
              "      <td>0</td>\n",
              "    </tr>\n",
              "  </tbody>\n",
              "</table>\n",
              "<p>5 rows × 785 columns</p>\n",
              "</div>\n",
              "      <button class=\"colab-df-convert\" onclick=\"convertToInteractive('df-9491bb75-8f3b-4eb4-89e5-db2907c43c62')\"\n",
              "              title=\"Convert this dataframe to an interactive table.\"\n",
              "              style=\"display:none;\">\n",
              "        \n",
              "  <svg xmlns=\"http://www.w3.org/2000/svg\" height=\"24px\"viewBox=\"0 0 24 24\"\n",
              "       width=\"24px\">\n",
              "    <path d=\"M0 0h24v24H0V0z\" fill=\"none\"/>\n",
              "    <path d=\"M18.56 5.44l.94 2.06.94-2.06 2.06-.94-2.06-.94-.94-2.06-.94 2.06-2.06.94zm-11 1L8.5 8.5l.94-2.06 2.06-.94-2.06-.94L8.5 2.5l-.94 2.06-2.06.94zm10 10l.94 2.06.94-2.06 2.06-.94-2.06-.94-.94-2.06-.94 2.06-2.06.94z\"/><path d=\"M17.41 7.96l-1.37-1.37c-.4-.4-.92-.59-1.43-.59-.52 0-1.04.2-1.43.59L10.3 9.45l-7.72 7.72c-.78.78-.78 2.05 0 2.83L4 21.41c.39.39.9.59 1.41.59.51 0 1.02-.2 1.41-.59l7.78-7.78 2.81-2.81c.8-.78.8-2.07 0-2.86zM5.41 20L4 18.59l7.72-7.72 1.47 1.35L5.41 20z\"/>\n",
              "  </svg>\n",
              "      </button>\n",
              "      \n",
              "  <style>\n",
              "    .colab-df-container {\n",
              "      display:flex;\n",
              "      flex-wrap:wrap;\n",
              "      gap: 12px;\n",
              "    }\n",
              "\n",
              "    .colab-df-convert {\n",
              "      background-color: #E8F0FE;\n",
              "      border: none;\n",
              "      border-radius: 50%;\n",
              "      cursor: pointer;\n",
              "      display: none;\n",
              "      fill: #1967D2;\n",
              "      height: 32px;\n",
              "      padding: 0 0 0 0;\n",
              "      width: 32px;\n",
              "    }\n",
              "\n",
              "    .colab-df-convert:hover {\n",
              "      background-color: #E2EBFA;\n",
              "      box-shadow: 0px 1px 2px rgba(60, 64, 67, 0.3), 0px 1px 3px 1px rgba(60, 64, 67, 0.15);\n",
              "      fill: #174EA6;\n",
              "    }\n",
              "\n",
              "    [theme=dark] .colab-df-convert {\n",
              "      background-color: #3B4455;\n",
              "      fill: #D2E3FC;\n",
              "    }\n",
              "\n",
              "    [theme=dark] .colab-df-convert:hover {\n",
              "      background-color: #434B5C;\n",
              "      box-shadow: 0px 1px 3px 1px rgba(0, 0, 0, 0.15);\n",
              "      filter: drop-shadow(0px 1px 2px rgba(0, 0, 0, 0.3));\n",
              "      fill: #FFFFFF;\n",
              "    }\n",
              "  </style>\n",
              "\n",
              "      <script>\n",
              "        const buttonEl =\n",
              "          document.querySelector('#df-9491bb75-8f3b-4eb4-89e5-db2907c43c62 button.colab-df-convert');\n",
              "        buttonEl.style.display =\n",
              "          google.colab.kernel.accessAllowed ? 'block' : 'none';\n",
              "\n",
              "        async function convertToInteractive(key) {\n",
              "          const element = document.querySelector('#df-9491bb75-8f3b-4eb4-89e5-db2907c43c62');\n",
              "          const dataTable =\n",
              "            await google.colab.kernel.invokeFunction('convertToInteractive',\n",
              "                                                     [key], {});\n",
              "          if (!dataTable) return;\n",
              "\n",
              "          const docLinkHtml = 'Like what you see? Visit the ' +\n",
              "            '<a target=\"_blank\" href=https://colab.research.google.com/notebooks/data_table.ipynb>data table notebook</a>'\n",
              "            + ' to learn more about interactive tables.';\n",
              "          element.innerHTML = '';\n",
              "          dataTable['output_type'] = 'display_data';\n",
              "          await google.colab.output.renderOutput(dataTable, element);\n",
              "          const docLink = document.createElement('div');\n",
              "          docLink.innerHTML = docLinkHtml;\n",
              "          element.appendChild(docLink);\n",
              "        }\n",
              "      </script>\n",
              "    </div>\n",
              "  </div>\n",
              "  "
            ],
            "text/plain": [
              "   label  pixel1  pixel2  pixel3  ...  pixel781  pixel782  pixel783  pixel784\n",
              "0      2       0       0       0  ...         0         0         0         0\n",
              "1      9       0       0       0  ...         0         0         0         0\n",
              "2      6       0       0       0  ...         0         0         0         0\n",
              "3      0       0       0       0  ...         0         0         0         0\n",
              "4      3       0       0       0  ...         0         0         0         0\n",
              "\n",
              "[5 rows x 785 columns]"
            ]
          },
          "metadata": {},
          "execution_count": 28
        }
      ]
    },
    {
      "cell_type": "code",
      "source": [
        "X = df.iloc[:, 1:]\n",
        "y = df.iloc[:, 0]"
      ],
      "metadata": {
        "id": "8p6p22znbmjZ"
      },
      "execution_count": 30,
      "outputs": []
    },
    {
      "cell_type": "code",
      "source": [
        "X.shape"
      ],
      "metadata": {
        "colab": {
          "base_uri": "https://localhost:8080/"
        },
        "id": "e4S_FkViZMQ8",
        "outputId": "5d5be34b-c4a2-4d4a-978c-d0837e14e0ec"
      },
      "execution_count": 31,
      "outputs": [
        {
          "output_type": "execute_result",
          "data": {
            "text/plain": [
              "(60000, 784)"
            ]
          },
          "metadata": {},
          "execution_count": 31
        }
      ]
    },
    {
      "cell_type": "code",
      "source": [
        "import seaborn as sns"
      ],
      "metadata": {
        "id": "gt6nzLTiYKkL"
      },
      "execution_count": 8,
      "outputs": []
    },
    {
      "cell_type": "code",
      "source": [
        "sns.heatmap(X.iloc[5].values.reshape(28, 28))"
      ],
      "metadata": {
        "colab": {
          "base_uri": "https://localhost:8080/",
          "height": 283
        },
        "id": "jIzT83PAYONi",
        "outputId": "dd300062-6c3c-44ac-c422-5f5b69840a05"
      },
      "execution_count": 33,
      "outputs": [
        {
          "output_type": "execute_result",
          "data": {
            "text/plain": [
              "<matplotlib.axes._subplots.AxesSubplot at 0x7fc99e5f8bd0>"
            ]
          },
          "metadata": {},
          "execution_count": 33
        },
        {
          "output_type": "display_data",
          "data": {
            "image/png": "[encoded data removed]",
            "text/plain": [
              "<Figure size 432x288 with 2 Axes>"
            ]
          },
          "metadata": {
            "needs_background": "light"
          }
        }
      ]
    },
    {
      "cell_type": "code",
      "source": [
        "y.iloc[5]"
      ],
      "metadata": {
        "colab": {
          "base_uri": "https://localhost:8080/"
        },
        "id": "LMurScpfYS8h",
        "outputId": "0c19e953-7b8d-404b-981f-94e516268bb4"
      },
      "execution_count": 34,
      "outputs": [
        {
          "output_type": "execute_result",
          "data": {
            "text/plain": [
              "4"
            ]
          },
          "metadata": {},
          "execution_count": 34
        }
      ]
    },
    {
      "cell_type": "code",
      "source": [
        "import matplotlib.pyplot as plt"
      ],
      "metadata": {
        "id": "YR7DBM4GcAq1"
      },
      "execution_count": 35,
      "outputs": []
    },
    {
      "cell_type": "code",
      "source": [
        "plt.imshow(X.iloc[5].values.reshape(28, 28))"
      ],
      "metadata": {
        "colab": {
          "base_uri": "https://localhost:8080/",
          "height": 283
        },
        "id": "lKWYjoiTcG0G",
        "outputId": "1de6d821-4ceb-429f-f4f1-ec199de657fb"
      },
      "execution_count": 36,
      "outputs": [
        {
          "output_type": "execute_result",
          "data": {
            "text/plain": [
              "<matplotlib.image.AxesImage at 0x7fc99e261e90>"
            ]
          },
          "metadata": {},
          "execution_count": 36
        },
        {
          "output_type": "display_data",
          "data": {
            "image/png": "[encoded data removed]",
            "text/plain": [
              "<Figure size 432x288 with 1 Axes>"
            ]
          },
          "metadata": {
            "needs_background": "light"
          }
        }
      ]
    },
    {
      "cell_type": "code",
      "source": [
        "from sklearn.ensemble import RandomForestClassifier"
      ],
      "metadata": {
        "id": "okBgDZwccNM8"
      },
      "execution_count": 38,
      "outputs": []
    },
    {
      "cell_type": "code",
      "source": [
        "rf = RandomForestClassifier()"
      ],
      "metadata": {
        "id": "sMZ1bVYGcfHz"
      },
      "execution_count": 40,
      "outputs": []
    },
    {
      "cell_type": "code",
      "source": [
        "rf.fit(X, y)"
      ],
      "metadata": {
        "colab": {
          "base_uri": "https://localhost:8080/"
        },
        "id": "k1IKnIU_ck5i",
        "outputId": "15b371ce-a824-41db-fe87-b02d03d542f4"
      },
      "execution_count": 41,
      "outputs": [
        {
          "output_type": "execute_result",
          "data": {
            "text/plain": [
              "RandomForestClassifier()"
            ]
          },
          "metadata": {},
          "execution_count": 41
        }
      ]
    },
    {
      "cell_type": "code",
      "source": [
        "rf.feature_importances_  # this gives a number based on importance of every number"
      ],
      "metadata": {
        "colab": {
          "base_uri": "https://localhost:8080/"
        },
        "id": "tOCepK0PcqJG",
        "outputId": "ad4e90db-bc5a-45b5-dfd7-d621dc46db1a"
      },
      "execution_count": 42,
      "outputs": [
        {
          "output_type": "execute_result",
          "data": {
            "text/plain": [
              "array([0.00000000e+00, 5.36642485e-06, 1.26910955e-05, 4.02191739e-05,\n",
              "       1.17206166e-04, 1.15308961e-04, 1.91202947e-04, 2.92817974e-04,\n",
              "       4.41705749e-04, 6.67538873e-04, 1.93495205e-03, 1.50045129e-03,\n",
              "       1.16038992e-03, 1.67040734e-03, 1.74427913e-03, 1.07162265e-03,\n",
              "       9.35247467e-04, 1.82384127e-03, 1.15370954e-03, 4.69626710e-04,\n",
              "       3.67682449e-04, 2.90156546e-04, 1.78405824e-04, 9.13618304e-05,\n",
              "       5.55408769e-05, 2.71431679e-05, 4.37889664e-06, 3.43919587e-07,\n",
              "       2.60041651e-06, 4.08083067e-06, 2.63037119e-05, 6.84260555e-05,\n",
              "       1.32270555e-04, 1.71772303e-04, 3.60731281e-04, 1.70927646e-03,\n",
              "       2.95352251e-03, 2.35904269e-03, 3.38919568e-03, 4.14629671e-03,\n",
              "       3.48298473e-03, 1.17348801e-03, 1.42805243e-03, 1.54889777e-03,\n",
              "       2.05286110e-03, 2.49294293e-03, 2.65746013e-03, 3.83921402e-03,\n",
              "       1.86445450e-03, 3.97310852e-04, 2.50750431e-04, 2.16999348e-04,\n",
              "       1.26527495e-04, 8.70374912e-05, 1.22519286e-05, 4.38934962e-06,\n",
              "       5.34605001e-06, 7.79141998e-06, 2.76801486e-05, 1.00767964e-04,\n",
              "       1.43292094e-04, 2.75073687e-04, 2.90947812e-03, 3.05275240e-03,\n",
              "       1.86680991e-03, 1.56294495e-03, 2.74657909e-03, 3.76614093e-03,\n",
              "       3.92906471e-03, 1.64470863e-03, 3.22002187e-03, 2.00143817e-03,\n",
              "       9.88945529e-04, 6.80741907e-04, 6.52514746e-04, 1.20244628e-03,\n",
              "       2.69915784e-03, 3.24381265e-03, 7.24118582e-04, 2.97047470e-04,\n",
              "       2.36970500e-04, 1.68539143e-04, 2.50011316e-05, 5.27393641e-06,\n",
              "       5.36300272e-06, 1.26794235e-05, 5.42363596e-05, 1.83316989e-04,\n",
              "       1.82305997e-04, 1.45438100e-03, 3.34380249e-03, 2.48668836e-03,\n",
              "       1.72411061e-03, 1.88332687e-03, 5.56928012e-03, 2.96192127e-03,\n",
              "       1.57306895e-03, 2.12384580e-03, 3.37208367e-03, 1.82373832e-03,\n",
              "       1.67607924e-03, 1.70995927e-03, 4.93135238e-04, 8.21565909e-04,\n",
              "       1.35272474e-03, 1.22459191e-03, 1.84650020e-03, 3.41883535e-04,\n",
              "       3.20870914e-04, 2.54053288e-04, 3.42040399e-05, 6.33729095e-06,\n",
              "       7.52192482e-06, 2.32416451e-05, 9.13318466e-05, 1.59626045e-04,\n",
              "       7.05512462e-04, 2.67798603e-03, 2.00922951e-03, 1.51004550e-03,\n",
              "       1.13418915e-03, 2.88676183e-03, 5.26792238e-03, 4.42683701e-03,\n",
              "       1.89912119e-03, 1.45947773e-03, 3.60258600e-03, 1.20973458e-03,\n",
              "       7.98114281e-04, 4.77963104e-04, 8.75346972e-04, 4.48782967e-04,\n",
              "       6.23642440e-04, 1.79882767e-03, 3.43616920e-03, 1.17032078e-03,\n",
              "       2.88123692e-04, 2.50751644e-04, 1.12579022e-04, 1.48732040e-05,\n",
              "       1.10939903e-05, 6.33268390e-05, 1.15152584e-04, 1.67908322e-04,\n",
              "       1.46264789e-03, 3.22311818e-03, 2.87797380e-03, 1.14122335e-03,\n",
              "       5.56093318e-04, 2.40982555e-03, 3.54410932e-03, 4.41894030e-03,\n",
              "       3.89984818e-03, 2.63619736e-03, 2.54864633e-03, 1.24819301e-03,\n",
              "       8.83888083e-04, 6.22921112e-04, 4.19771139e-04, 4.56034119e-04,\n",
              "       5.31778391e-04, 1.01903031e-03, 2.60803095e-03, 2.54836747e-03,\n",
              "       3.42823720e-04, 4.43208963e-04, 1.94587535e-04, 2.45639124e-05,\n",
              "       1.20860121e-05, 4.31817489e-05, 7.31294319e-05, 1.39224886e-04,\n",
              "       6.06016868e-04, 2.53871339e-03, 2.89230176e-03, 7.99446705e-04,\n",
              "       9.42199216e-04, 7.75939932e-04, 3.18540129e-03, 5.21173422e-03,\n",
              "       1.61549613e-03, 1.79051848e-03, 1.73369229e-03, 1.13599781e-03,\n",
              "       1.46321599e-03, 1.25777128e-03, 9.23575044e-04, 5.64172772e-04,\n",
              "       4.81657478e-04, 1.92125915e-03, 2.15335714e-03, 3.70633040e-03,\n",
              "       8.33388173e-04, 6.18020765e-04, 4.39736440e-04, 9.03860890e-05,\n",
              "       1.15574428e-05, 4.63013190e-05, 1.17667794e-04, 1.97850011e-04,\n",
              "       1.38048409e-03, 2.91078849e-03, 5.09269355e-04, 1.25646469e-03,\n",
              "       1.18619586e-03, 3.15285347e-03, 2.39864627e-03, 1.65516225e-03,\n",
              "       3.48913320e-03, 1.61277474e-03, 2.34804718e-03, 8.60625905e-04,\n",
              "       7.60642842e-04, 5.61828510e-04, 7.41002249e-04, 6.61684995e-04,\n",
              "       8.49298163e-04, 1.49436977e-03, 4.44354456e-03, 5.37876482e-03,\n",
              "       2.08833720e-03, 1.71084564e-03, 6.66689487e-04, 6.44845284e-05,\n",
              "       2.61513528e-05, 4.16176062e-05, 8.13031828e-05, 1.64189869e-04,\n",
              "       1.01470381e-03, 1.01844407e-03, 7.99876113e-04, 1.58100131e-03,\n",
              "       3.17834927e-03, 2.08834220e-03, 3.51844874e-03, 4.28120232e-03,\n",
              "       1.49194983e-03, 9.96654253e-04, 1.34538404e-03, 1.24893261e-03,\n",
              "       7.45035053e-04, 1.11219053e-03, 9.41919530e-04, 1.91589998e-03,\n",
              "       2.48966588e-03, 1.82788639e-03, 3.53644072e-03, 3.37363664e-03,\n",
              "       3.07332178e-03, 1.19951325e-03, 5.10348409e-04, 9.09161188e-05,\n",
              "       2.24450822e-05, 5.12722970e-05, 1.39504270e-04, 6.47993423e-04,\n",
              "       5.05417775e-04, 1.51613840e-03, 1.72714751e-03, 4.36064665e-03,\n",
              "       4.80494818e-03, 4.70403138e-03, 3.94895134e-03, 1.57183382e-03,\n",
              "       8.27139055e-04, 9.54242791e-04, 8.21612543e-04, 6.96545702e-04,\n",
              "       8.31924742e-04, 1.04477420e-03, 1.04426879e-03, 1.00696432e-03,\n",
              "       1.78762924e-03, 1.74973618e-03, 1.78687028e-03, 2.83873112e-03,\n",
              "       2.13347234e-03, 7.38254338e-04, 4.85726300e-04, 1.73353994e-04,\n",
              "       2.01840692e-05, 9.40412756e-05, 2.30098338e-04, 3.65561771e-04,\n",
              "       1.45191703e-03, 1.85781182e-03, 6.49933096e-04, 2.62769468e-03,\n",
              "       2.97790589e-03, 4.13570994e-03, 1.44425098e-03, 4.27764971e-04,\n",
              "       5.55671772e-04, 6.47572503e-04, 8.86600839e-04, 8.50403664e-04,\n",
              "       1.56414202e-03, 1.28782043e-03, 1.08211074e-03, 2.02670441e-03,\n",
              "       1.04772343e-03, 1.95193114e-03, 2.27696698e-03, 2.39462659e-03,\n",
              "       6.35767737e-04, 9.12883804e-04, 4.10178886e-04, 7.89644406e-05,\n",
              "       5.84766023e-05, 1.64426778e-04, 1.57091087e-04, 2.47206700e-04,\n",
              "       1.68382179e-03, 1.85200342e-03, 2.90080842e-03, 2.55033255e-03,\n",
              "       2.56360760e-03, 1.23574469e-03, 5.82912214e-04, 5.81511155e-04,\n",
              "       4.64581314e-04, 6.05229232e-04, 1.34425237e-03, 9.39798387e-04,\n",
              "       1.62736795e-03, 1.26527020e-03, 1.13133627e-03, 1.20597661e-03,\n",
              "       1.14474207e-03, 8.80862332e-04, 8.96443036e-04, 1.18626329e-03,\n",
              "       9.62639331e-04, 8.91226624e-04, 1.63551193e-03, 1.57569429e-04,\n",
              "       6.67164222e-05, 3.34455429e-04, 2.13971062e-04, 8.15878994e-04,\n",
              "       1.12672260e-03, 1.26282609e-03, 1.42829906e-03, 2.84360455e-03,\n",
              "       1.57855625e-03, 1.22856397e-03, 1.17305627e-03, 1.18471717e-03,\n",
              "       1.01855424e-03, 9.22488638e-04, 1.92277603e-03, 2.65387191e-03,\n",
              "       1.94437672e-03, 3.27782417e-03, 1.55355391e-03, 1.34567176e-03,\n",
              "       9.76813870e-04, 8.56989793e-04, 1.51095894e-03, 9.14840001e-04,\n",
              "       8.75740456e-04, 1.29396630e-03, 2.43434305e-03, 1.52104442e-04,\n",
              "       7.46223318e-05, 1.00516084e-03, 1.73462251e-04, 4.92536058e-04,\n",
              "       1.70882810e-03, 1.76158995e-03, 1.42893731e-03, 1.77612416e-03,\n",
              "       3.76106980e-03, 9.98835569e-04, 9.24475145e-04, 7.55365491e-04,\n",
              "       1.52919407e-03, 2.28451868e-03, 4.72482350e-03, 3.24792487e-03,\n",
              "       3.12864057e-03, 1.44825362e-03, 1.18612330e-03, 1.28586876e-03,\n",
              "       1.36053198e-03, 1.11456149e-03, 1.57752430e-03, 3.67244320e-03,\n",
              "       2.44364703e-03, 1.57074814e-03, 3.33067450e-03, 2.72846106e-04,\n",
              "       9.38961714e-05, 4.93312740e-04, 3.65411296e-04, 5.23410449e-04,\n",
              "       5.73850882e-04, 2.25948005e-03, 2.71723913e-03, 2.10638416e-03,\n",
              "       3.30803449e-03, 1.28507530e-03, 9.98555488e-04, 1.14105950e-03,\n",
              "       1.45659470e-03, 4.25902641e-03, 5.71629453e-03, 3.74317504e-03,\n",
              "       2.97015669e-03, 1.09557166e-03, 6.51968275e-04, 8.37019858e-04,\n",
              "       1.15457448e-03, 3.00096851e-03, 1.83839139e-03, 2.11187357e-03,\n",
              "       2.84754006e-03, 3.09891145e-03, 2.20873408e-03, 2.37987326e-04,\n",
              "       1.42550982e-04, 7.97733918e-04, 1.15809962e-03, 1.80407582e-03,\n",
              "       1.09710481e-03, 2.23338676e-03, 2.15978285e-03, 1.69744975e-03,\n",
              "       1.40982377e-03, 7.08739467e-04, 7.10925822e-04, 9.90485193e-04,\n",
              "       7.40711281e-04, 1.22082520e-03, 8.58340070e-03, 2.23987898e-03,\n",
              "       1.07247417e-03, 6.31817046e-04, 5.31604736e-04, 7.38933863e-04,\n",
              "       1.04048273e-03, 2.09187719e-03, 4.22430049e-03, 2.02788700e-03,\n",
              "       1.26146216e-03, 2.36983341e-03, 1.68490141e-03, 2.03369940e-04,\n",
              "       2.05547086e-04, 4.04532457e-04, 3.72581193e-04, 1.00682712e-03,\n",
              "       1.05919234e-03, 2.13562807e-03, 2.83470280e-03, 1.15480703e-03,\n",
              "       1.05503382e-03, 6.11727105e-04, 4.92467874e-04, 8.80388433e-04,\n",
              "       1.16066124e-03, 1.16495748e-03, 5.18199424e-03, 1.21677210e-03,\n",
              "       5.09191424e-04, 4.49556350e-04, 5.11609252e-04, 7.58854497e-04,\n",
              "       1.45326669e-03, 1.74285168e-03, 3.12691539e-03, 1.42858541e-03,\n",
              "       6.08329540e-04, 4.16665399e-04, 3.64923478e-04, 1.36939043e-04,\n",
              "       1.21906211e-04, 9.09628814e-04, 3.73114895e-04, 3.56389675e-04,\n",
              "       1.04277202e-03, 2.14662630e-03, 1.80547990e-03, 9.82489941e-04,\n",
              "       1.11877989e-03, 5.33644764e-04, 4.99832966e-04, 3.96698432e-04,\n",
              "       5.36970095e-04, 1.11055397e-03, 5.32962304e-03, 6.62959428e-04,\n",
              "       5.56508386e-04, 5.16302696e-04, 5.24894261e-04, 7.29363881e-04,\n",
              "       1.23929356e-03, 1.08520096e-03, 4.10873253e-03, 1.55225092e-03,\n",
              "       5.52084156e-04, 8.46579883e-04, 1.61383195e-03, 1.50148780e-04,\n",
              "       1.18609992e-04, 5.16722909e-04, 3.24302202e-04, 5.13878590e-04,\n",
              "       1.00368285e-03, 2.35922709e-03, 2.64480551e-03, 8.74694777e-04,\n",
              "       1.25902076e-03, 6.31142434e-04, 5.08451461e-04, 6.53150106e-04,\n",
              "       4.89221284e-04, 1.96071237e-03, 8.27092879e-03, 5.85490143e-04,\n",
              "       5.03352366e-04, 5.01518061e-04, 6.25897101e-04, 1.20515161e-03,\n",
              "       1.53981937e-03, 8.00227105e-04, 2.38256135e-03, 2.05779207e-03,\n",
              "       7.28984657e-04, 7.52217785e-04, 6.38573125e-04, 1.42959978e-04,\n",
              "       1.12114346e-04, 2.15593845e-04, 3.08103821e-04, 3.76368251e-04,\n",
              "       7.33442355e-04, 2.07358939e-03, 1.97642342e-03, 1.03926707e-03,\n",
              "       1.32359386e-03, 6.52060949e-04, 5.20799879e-04, 5.95542685e-04,\n",
              "       6.20556276e-04, 1.22466824e-03, 7.81131023e-03, 6.27627665e-04,\n",
              "       5.11823073e-04, 6.41377733e-04, 7.25948771e-04, 1.21401475e-03,\n",
              "       1.54430702e-03, 1.50511051e-03, 2.52114069e-03, 7.71655865e-04,\n",
              "       7.29622103e-04, 1.20856066e-03, 4.47811475e-04, 1.48113343e-04,\n",
              "       1.28430965e-04, 6.63865018e-04, 2.40041131e-04, 3.84126886e-04,\n",
              "       9.54388624e-04, 3.44154921e-03, 2.45647714e-03, 1.41599285e-03,\n",
              "       1.21182613e-03, 8.28982390e-04, 8.27587939e-04, 1.42688623e-03,\n",
              "       1.06321230e-03, 2.63840470e-03, 6.51369308e-03, 1.50491983e-03,\n",
              "       1.80352630e-03, 1.35983122e-03, 1.11376797e-03, 1.47862290e-03,\n",
              "       1.69739938e-03, 9.70909740e-04, 3.93873819e-03, 2.18048970e-03,\n",
              "       1.38705011e-03, 7.41000109e-04, 6.21708584e-04, 1.20387853e-04,\n",
              "       5.45818420e-05, 1.56810090e-04, 1.77536533e-04, 3.53912969e-04,\n",
              "       6.83655718e-04, 3.10247769e-03, 1.05847991e-03, 2.10066185e-03,\n",
              "       1.11845972e-03, 2.56708965e-03, 2.34366066e-03, 2.18078843e-03,\n",
              "       2.69533210e-03, 2.54187370e-03, 8.33072710e-03, 6.38199137e-04,\n",
              "       8.36402783e-04, 8.52686026e-04, 1.12805438e-03, 1.05562166e-03,\n",
              "       2.35252709e-03, 1.75708493e-03, 4.90010432e-03, 3.86591084e-03,\n",
              "       1.00551537e-03, 1.77541990e-03, 2.13222207e-04, 9.40458049e-05,\n",
              "       4.01909002e-05, 7.04520012e-05, 1.49325147e-04, 2.95247213e-04,\n",
              "       9.74303922e-04, 1.33331736e-03, 1.02682784e-03, 1.27329359e-03,\n",
              "       9.07917296e-04, 1.14323385e-03, 2.00424921e-03, 2.85650739e-03,\n",
              "       1.42929816e-03, 1.47648445e-03, 6.67551070e-03, 7.67419026e-04,\n",
              "       6.13756739e-04, 9.91873276e-04, 1.08415251e-03, 7.93263400e-04,\n",
              "       1.28173428e-03, 8.72588984e-04, 1.61764199e-03, 1.49761584e-03,\n",
              "       7.06535968e-04, 7.61915120e-04, 1.37524152e-04, 5.82972762e-05,\n",
              "       2.32052352e-05, 1.15753561e-04, 1.41303678e-04, 3.45599524e-04,\n",
              "       1.07754927e-03, 1.08546792e-03, 1.10230488e-03, 1.58680792e-03,\n",
              "       9.17301734e-04, 5.87134188e-04, 8.17058487e-04, 1.02364093e-03,\n",
              "       4.72865700e-04, 1.63625001e-03, 6.78482005e-03, 1.17790604e-03,\n",
              "       5.74681399e-04, 1.29164542e-03, 8.75289352e-04, 8.56821627e-04,\n",
              "       1.34092499e-03, 8.88954501e-04, 6.14083532e-04, 9.05651334e-04,\n",
              "       5.68906431e-04, 2.30199145e-04, 1.01193059e-04, 3.88032264e-05,\n",
              "       2.34653400e-05, 4.78316151e-05, 9.43728154e-05, 3.25108098e-04,\n",
              "       9.23304756e-04, 1.07623625e-03, 6.51495289e-04, 1.63711455e-03,\n",
              "       1.04629504e-03, 1.00096568e-03, 6.12732679e-04, 9.47916331e-04,\n",
              "       7.96107522e-04, 1.07410915e-03, 2.44969861e-03, 6.31617626e-04,\n",
              "       8.50911727e-04, 1.60056050e-03, 7.32719734e-04, 6.31166884e-04,\n",
              "       8.49711481e-04, 7.56692939e-04, 7.40155307e-04, 9.58431446e-04,\n",
              "       4.44293525e-04, 2.58345651e-04, 5.77890678e-05, 2.59662551e-05,\n",
              "       1.28432996e-05, 4.33432408e-05, 1.30863027e-04, 2.71585357e-04,\n",
              "       7.18417331e-04, 5.14272296e-04, 6.52058727e-04, 1.06919144e-03,\n",
              "       6.60635946e-04, 7.47534549e-04, 8.76554349e-04, 9.96816049e-04,\n",
              "       7.38961940e-04, 1.05796560e-03, 2.73895624e-03, 8.93162249e-04,\n",
              "       2.04018313e-03, 7.92469408e-04, 7.89823520e-04, 9.77915358e-04,\n",
              "       1.06674295e-03, 5.46773585e-04, 6.39304222e-04, 8.85910694e-04,\n",
              "       3.59103554e-04, 1.34806656e-04, 5.46200230e-05, 1.29650997e-05,\n",
              "       1.05414845e-05, 2.79853207e-05, 8.51789577e-05, 2.18769924e-04,\n",
              "       4.55167824e-04, 5.93026012e-04, 5.37054877e-04, 6.10045341e-04,\n",
              "       8.78558468e-04, 9.66802616e-04, 1.32721139e-03, 1.47226253e-03,\n",
              "       9.11227393e-04, 1.81568406e-03, 2.99896273e-03, 1.19659204e-03,\n",
              "       3.08378757e-03, 2.00723121e-03, 1.17874940e-03, 1.02129252e-03,\n",
              "       9.42117620e-04, 6.68449253e-04, 5.54503639e-04, 6.13465341e-04,\n",
              "       3.50669769e-04, 1.15268573e-04, 5.27500620e-05, 1.49745554e-05,\n",
              "       5.09196100e-06, 9.86261052e-06, 3.12262711e-05, 1.15291886e-04,\n",
              "       3.21736112e-04, 4.90567916e-04, 4.34443167e-04, 5.14649068e-04,\n",
              "       1.17123812e-03, 1.05667468e-03, 7.77102868e-04, 1.59569687e-03,\n",
              "       1.17936959e-03, 1.38213841e-03, 3.58152662e-03, 1.57592203e-03,\n",
              "       1.54573418e-03, 2.04570842e-03, 7.50662984e-04, 9.18931401e-04,\n",
              "       8.99474049e-04, 5.11452562e-04, 5.01882992e-04, 4.79512496e-04,\n",
              "       2.39067432e-04, 8.10662960e-05, 2.55406062e-05, 4.83596033e-06])"
            ]
          },
          "metadata": {},
          "execution_count": 42
        }
      ]
    },
    {
      "cell_type": "code",
      "source": [
        "rf.feature_importances_.shape"
      ],
      "metadata": {
        "colab": {
          "base_uri": "https://localhost:8080/"
        },
        "id": "a3Utpccrc55_",
        "outputId": "27fd203c-8c2d-408e-fa9f-f7ffe757e7cd"
      },
      "execution_count": 43,
      "outputs": [
        {
          "output_type": "execute_result",
          "data": {
            "text/plain": [
              "(784,)"
            ]
          },
          "metadata": {},
          "execution_count": 43
        }
      ]
    },
    {
      "cell_type": "code",
      "source": [
        "sns.heatmap(rf.feature_importances_.reshape(28, 28))  # this show that central pixels are more imporant to distinguish data."
      ],
      "metadata": {
        "colab": {
          "base_uri": "https://localhost:8080/",
          "height": 283
        },
        "id": "Uwv2zy7ndIqf",
        "outputId": "a2ecc9ee-9a09-448f-fc74-d5d74b79dd5d"
      },
      "execution_count": 44,
      "outputs": [
        {
          "output_type": "execute_result",
          "data": {
            "text/plain": [
              "<matplotlib.axes._subplots.AxesSubplot at 0x7fc99d11c5d0>"
            ]
          },
          "metadata": {},
          "execution_count": 44
        },
        {
          "output_type": "display_data",
          "data": {
            "image/png": "[encoded data removed]",
            "text/plain": [
              "<Figure size 432x288 with 2 Axes>"
            ]
          },
          "metadata": {
            "needs_background": "light"
          }
        }
      ]
    },
    {
      "cell_type": "code",
      "source": [
        ""
      ],
      "metadata": {
        "id": "-CdF8RRUdNmR"
      },
      "execution_count": null,
      "outputs": []
    }
  ]
}
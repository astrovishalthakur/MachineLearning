{
  "nbformat": 4,
  "nbformat_minor": 0,
  "metadata": {
    "colab": {
      "name": "VotingEnsembleRegression.ipynb",
      "provenance": [],
      "authorship_tag": "ABX9TyMLBNLnDBJFUwGJ6eaXvDlU",
      "include_colab_link": true
    },
    "kernelspec": {
      "name": "python3",
      "display_name": "Python 3"
    },
    "language_info": {
      "name": "python"
    }
  },
  "cells": [
    {
      "cell_type": "markdown",
      "metadata": {
        "id": "view-in-github",
        "colab_type": "text"
      },
      "source": [
        "<a href=\"https://colab.research.google.com/github/astrovishalthakur/MachineLearning/blob/main/Ensemble/Voting/VotingEnsembleRegression.ipynb\" target=\"_parent\"><img src=\"https://colab.research.google.com/assets/colab-badge.svg\" alt=\"Open In Colab\"/></a>"
      ]
    },
    {
      "cell_type": "code",
      "execution_count": 1,
      "metadata": {
        "id": "G-hIQP4RcZu5"
      },
      "outputs": [],
      "source": [
        "from sklearn.datasets import load_boston\n",
        "import numpy as np"
      ]
    },
    {
      "cell_type": "code",
      "source": [
        "X, y = load_boston(return_X_y = True)"
      ],
      "metadata": {
        "colab": {
          "base_uri": "https://localhost:8080/"
        },
        "id": "86ePCEB3d8Ld",
        "outputId": "b4a0fb43-af41-40f1-8adc-ab18f5d13dce"
      },
      "execution_count": 2,
      "outputs": [
        {
          "output_type": "stream",
          "name": "stderr",
          "text": [
            "/usr/local/lib/python3.7/dist-packages/sklearn/utils/deprecation.py:87: FutureWarning: Function load_boston is deprecated; `load_boston` is deprecated in 1.0 and will be removed in 1.2.\n",
            "\n",
            "    The Boston housing prices dataset has an ethical problem. You can refer to\n",
            "    the documentation of this function for further details.\n",
            "\n",
            "    The scikit-learn maintainers therefore strongly discourage the use of this\n",
            "    dataset unless the purpose of the code is to study and educate about\n",
            "    ethical issues in data science and machine learning.\n",
            "\n",
            "    In this special case, you can fetch the dataset from the original\n",
            "    source::\n",
            "\n",
            "        import pandas as pd\n",
            "        import numpy as np\n",
            "\n",
            "\n",
            "        data_url = \"http://lib.stat.cmu.edu/datasets/boston\"\n",
            "        raw_df = pd.read_csv(data_url, sep=\"\\s+\", skiprows=22, header=None)\n",
            "        data = np.hstack([raw_df.values[::2, :], raw_df.values[1::2, :2]])\n",
            "        target = raw_df.values[1::2, 2]\n",
            "\n",
            "    Alternative datasets include the California housing dataset (i.e.\n",
            "    :func:`~sklearn.datasets.fetch_california_housing`) and the Ames housing\n",
            "    dataset. You can load the datasets as follows::\n",
            "\n",
            "        from sklearn.datasets import fetch_california_housing\n",
            "        housing = fetch_california_housing()\n",
            "\n",
            "    for the California housing dataset and::\n",
            "\n",
            "        from sklearn.datasets import fetch_openml\n",
            "        housing = fetch_openml(name=\"house_prices\", as_frame=True)\n",
            "\n",
            "    for the Ames housing dataset.\n",
            "    \n",
            "  warnings.warn(msg, category=FutureWarning)\n"
          ]
        }
      ]
    },
    {
      "cell_type": "code",
      "source": [
        "X.shape"
      ],
      "metadata": {
        "colab": {
          "base_uri": "https://localhost:8080/"
        },
        "id": "asGkVS1gd_zg",
        "outputId": "ab8f3bbc-ce1a-43ac-847a-866c5c0473ca"
      },
      "execution_count": 4,
      "outputs": [
        {
          "output_type": "execute_result",
          "data": {
            "text/plain": [
              "(506, 13)"
            ]
          },
          "metadata": {},
          "execution_count": 4
        }
      ]
    },
    {
      "cell_type": "code",
      "source": [
        "y.shape #price"
      ],
      "metadata": {
        "colab": {
          "base_uri": "https://localhost:8080/"
        },
        "id": "5iHxLZaPeBot",
        "outputId": "8dda4139-116b-4125-da49-b63418cbe8a4"
      },
      "execution_count": 6,
      "outputs": [
        {
          "output_type": "execute_result",
          "data": {
            "text/plain": [
              "(506,)"
            ]
          },
          "metadata": {},
          "execution_count": 6
        }
      ]
    },
    {
      "cell_type": "code",
      "source": [
        "from sklearn.linear_model import LinearRegression\n",
        "from sklearn.tree import DecisionTreeRegressor\n",
        "from sklearn.svm import SVR\n",
        "from sklearn.model_selection import cross_val_score"
      ],
      "metadata": {
        "id": "lIQR2h4weE2j"
      },
      "execution_count": 7,
      "outputs": []
    },
    {
      "cell_type": "code",
      "source": [
        "lr = LinearRegression()\n",
        "dt = DecisionTreeRegressor()\n",
        "svr = SVR()"
      ],
      "metadata": {
        "id": "Ys1bojS4eaRU"
      },
      "execution_count": 8,
      "outputs": []
    },
    {
      "cell_type": "code",
      "source": [
        "estimators = [(\"lr\", lr), (\"dt\", dt), (\"svr\", svr)]"
      ],
      "metadata": {
        "id": "cMBGSX1-eiBG"
      },
      "execution_count": 9,
      "outputs": []
    },
    {
      "cell_type": "code",
      "source": [
        "for estimator in estimators:\n",
        "  scores = cross_val_score(estimator[1], X, y, scoring=\"r2\", cv=10)\n",
        "  print(estimator[0], np.round(np.mean(scores), 2))"
      ],
      "metadata": {
        "colab": {
          "base_uri": "https://localhost:8080/"
        },
        "id": "yuPMsU4Ueqrk",
        "outputId": "1f1410eb-c8be-47a1-8691-a0d64852e479"
      },
      "execution_count": 14,
      "outputs": [
        {
          "output_type": "stream",
          "name": "stdout",
          "text": [
            "lr 0.2\n",
            "dt -0.1\n",
            "svr -0.41\n"
          ]
        }
      ]
    },
    {
      "cell_type": "code",
      "source": [
        "from sklearn.ensemble import VotingRegressor\n",
        "vr = VotingRegressor(estimators) "
      ],
      "metadata": {
        "id": "STWGY37Fe_zg"
      },
      "execution_count": 16,
      "outputs": []
    },
    {
      "cell_type": "code",
      "source": [
        "scores = cross_val_score(vr, X, y, scoring=\"r2\", cv=10)\n",
        "print(\"Voting Regressor\", np.round(np.mean(scores), 2))"
      ],
      "metadata": {
        "colab": {
          "base_uri": "https://localhost:8080/"
        },
        "id": "YQ47b3ggfeOB",
        "outputId": "5cdc4528-bf77-4cf8-cb87-f951539c4fed"
      },
      "execution_count": 17,
      "outputs": [
        {
          "output_type": "stream",
          "name": "stdout",
          "text": [
            "Voting Regressor 0.46\n"
          ]
        }
      ]
    },
    {
      "cell_type": "code",
      "source": [
        "for i in range(1, 4):\n",
        "  for j in range(1, 4):\n",
        "    for k in range(1, 4):\n",
        "      vr = VotingRegressor(estimators, weights=[i, j, k])\n",
        "      scores = cross_val_score(vr, X, y, scoring=\"r2\", cv=10)\n",
        "      print(\"For i = {}, j = {}, k = {}\".format(i, j, k), np.round(np.mean(scores), 2))"
      ],
      "metadata": {
        "colab": {
          "base_uri": "https://localhost:8080/"
        },
        "id": "rS71z390fuqf",
        "outputId": "0ae73f3c-9ff7-4ef4-a7b2-b56bfce8f084"
      },
      "execution_count": 19,
      "outputs": [
        {
          "output_type": "stream",
          "name": "stdout",
          "text": [
            "For i = 1, j = 1, k = 1 0.45\n",
            "For i = 1, j = 1, k = 2 0.34\n",
            "For i = 1, j = 1, k = 3 0.27\n",
            "For i = 1, j = 2, k = 1 0.4\n",
            "For i = 1, j = 2, k = 2 0.39\n",
            "For i = 1, j = 2, k = 3 0.36\n",
            "For i = 1, j = 3, k = 1 0.39\n",
            "For i = 1, j = 3, k = 2 0.27\n",
            "For i = 1, j = 3, k = 3 0.33\n",
            "For i = 2, j = 1, k = 1 0.46\n",
            "For i = 2, j = 1, k = 2 0.43\n",
            "For i = 2, j = 1, k = 3 0.37\n",
            "For i = 2, j = 2, k = 1 0.44\n",
            "For i = 2, j = 2, k = 2 0.45\n",
            "For i = 2, j = 2, k = 3 0.38\n",
            "For i = 2, j = 3, k = 1 0.41\n",
            "For i = 2, j = 3, k = 2 0.37\n",
            "For i = 2, j = 3, k = 3 0.35\n",
            "For i = 3, j = 1, k = 1 0.44\n",
            "For i = 3, j = 1, k = 2 0.43\n",
            "For i = 3, j = 1, k = 3 0.37\n",
            "For i = 3, j = 2, k = 1 0.41\n",
            "For i = 3, j = 2, k = 2 0.46\n",
            "For i = 3, j = 2, k = 3 0.43\n",
            "For i = 3, j = 3, k = 1 0.42\n",
            "For i = 3, j = 3, k = 2 0.46\n",
            "For i = 3, j = 3, k = 3 0.46\n"
          ]
        }
      ]
    },
    {
      "cell_type": "code",
      "source": [
        "# using the same algo\n",
        "\n",
        "dt1 = DecisionTreeRegressor(max_depth=1)\n",
        "dt3 = DecisionTreeRegressor(max_depth=3)\n",
        "dt5 = DecisionTreeRegressor(max_depth=5)\n",
        "dt7 = DecisionTreeRegressor(max_depth=7)\n",
        "dt9 = DecisionTreeRegressor(max_depth=9)"
      ],
      "metadata": {
        "id": "BWKVuopzgSmd"
      },
      "execution_count": 20,
      "outputs": []
    },
    {
      "cell_type": "code",
      "source": [
        "estimators = [(\"dt1\", dt1), (\"dt3\", dt3), (\"dt5\", dt5), (\"dt7\", dt7), (\"dt9\", dt9)]"
      ],
      "metadata": {
        "id": "kfckoakog3ra"
      },
      "execution_count": 21,
      "outputs": []
    },
    {
      "cell_type": "code",
      "source": [
        "for est in estimators:\n",
        "  scores = cross_val_score(est[1], X, y, scoring=\"r2\", cv=10)\n",
        "  print(est[0], np.round(np.mean(scores), 2))"
      ],
      "metadata": {
        "colab": {
          "base_uri": "https://localhost:8080/"
        },
        "id": "6RYoEEiFhFEl",
        "outputId": "7330ea78-21ce-42e3-a29a-3701fc412c27"
      },
      "execution_count": 23,
      "outputs": [
        {
          "output_type": "stream",
          "name": "stdout",
          "text": [
            "dt1 -0.85\n",
            "dt3 -0.11\n",
            "dt5 0.08\n",
            "dt7 0.06\n",
            "dt9 -0.03\n"
          ]
        }
      ]
    },
    {
      "cell_type": "code",
      "source": [
        "vr = VotingRegressor(estimators)\n",
        "scores = cross_val_score(vr, X, y, scoring=\"r2\", cv=10)\n",
        "print(\"Voting Regressor\", np.round(np.mean(scores), 2))"
      ],
      "metadata": {
        "colab": {
          "base_uri": "https://localhost:8080/"
        },
        "id": "PP3xH8N0hU8u",
        "outputId": "6a93610f-ad2f-48da-91ab-91ff9a27edfb"
      },
      "execution_count": 24,
      "outputs": [
        {
          "output_type": "stream",
          "name": "stdout",
          "text": [
            "Voting Regressor 0.18\n"
          ]
        }
      ]
    },
    {
      "cell_type": "code",
      "source": [
        ""
      ],
      "metadata": {
        "id": "A-F-feJPh7VW"
      },
      "execution_count": null,
      "outputs": []
    }
  ]
}
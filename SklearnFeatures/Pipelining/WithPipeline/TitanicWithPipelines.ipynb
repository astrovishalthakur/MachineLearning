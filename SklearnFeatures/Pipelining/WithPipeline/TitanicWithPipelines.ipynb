{
  "nbformat": 4,
  "nbformat_minor": 0,
  "metadata": {
    "colab": {
      "name": "TitanicWithPipelines.ipynb",
      "provenance": [],
      "authorship_tag": "ABX9TyOwr8SubO2rlY0mE2OhyJIJ",
      "include_colab_link": true
    },
    "kernelspec": {
      "name": "python3",
      "display_name": "Python 3"
    },
    "language_info": {
      "name": "python"
    }
  },
  "cells": [
    {
      "cell_type": "markdown",
      "metadata": {
        "id": "view-in-github",
        "colab_type": "text"
      },
      "source": [
        "<a href=\"https://colab.research.google.com/github/astrovishalthakur/MachineLearning/blob/main/SklearnFeatures/Pipelining/WithPipeLine/TitanicWithPipelines.ipynb\" target=\"_parent\"><img src=\"https://colab.research.google.com/assets/colab-badge.svg\" alt=\"Open In Colab\"/></a>"
      ]
    },
    {
      "cell_type": "code",
      "execution_count": 2,
      "metadata": {
        "id": "u2ev9Ipeipfq"
      },
      "outputs": [],
      "source": [
        "import pandas as pd\n",
        "import numpy as np\n",
        "\n",
        "from sklearn.model_selection import train_test_split\n",
        "from sklearn.preprocessing import OneHotEncoder, OrdinalEncoder, MinMaxScaler\n",
        "from sklearn.impute import SimpleImputer\n",
        "from sklearn.compose import ColumnTransformer\n",
        "from sklearn.pipeline import Pipeline, make_pipeline\n",
        "from sklearn.feature_selection import SelectKBest, chi2\n",
        "from sklearn.tree import DecisionTreeClassifier"
      ]
    },
    {
      "cell_type": "code",
      "source": [
        "df = pd.read_csv(\"titanic.csv\")"
      ],
      "metadata": {
        "id": "oHlSgPJMjnlv"
      },
      "execution_count": 3,
      "outputs": []
    },
    {
      "cell_type": "code",
      "source": [
        "df.head()"
      ],
      "metadata": {
        "colab": {
          "base_uri": "https://localhost:8080/",
          "height": 250
        },
        "id": "FYQnejtgjsUw",
        "outputId": "047871fb-5681-416f-da9e-30fbcc9c3f2f"
      },
      "execution_count": 4,
      "outputs": [
        {
          "output_type": "execute_result",
          "data": {
            "text/html": [
              "\n",
              "  <div id=\"df-b9f7c72d-6bb7-4c0d-8ed0-6f63c14a019f\">\n",
              "    <div class=\"colab-df-container\">\n",
              "      <div>\n",
              "<style scoped>\n",
              "    .dataframe tbody tr th:only-of-type {\n",
              "        vertical-align: middle;\n",
              "    }\n",
              "\n",
              "    .dataframe tbody tr th {\n",
              "        vertical-align: top;\n",
              "    }\n",
              "\n",
              "    .dataframe thead th {\n",
              "        text-align: right;\n",
              "    }\n",
              "</style>\n",
              "<table border=\"1\" class=\"dataframe\">\n",
              "  <thead>\n",
              "    <tr style=\"text-align: right;\">\n",
              "      <th></th>\n",
              "      <th>PassengerId</th>\n",
              "      <th>Survived</th>\n",
              "      <th>Pclass</th>\n",
              "      <th>Name</th>\n",
              "      <th>Sex</th>\n",
              "      <th>Age</th>\n",
              "      <th>SibSp</th>\n",
              "      <th>Parch</th>\n",
              "      <th>Ticket</th>\n",
              "      <th>Fare</th>\n",
              "      <th>Cabin</th>\n",
              "      <th>Embarked</th>\n",
              "    </tr>\n",
              "  </thead>\n",
              "  <tbody>\n",
              "    <tr>\n",
              "      <th>0</th>\n",
              "      <td>1</td>\n",
              "      <td>0</td>\n",
              "      <td>3</td>\n",
              "      <td>Braund, Mr. Owen Harris</td>\n",
              "      <td>male</td>\n",
              "      <td>22.0</td>\n",
              "      <td>1</td>\n",
              "      <td>0</td>\n",
              "      <td>A/5 21171</td>\n",
              "      <td>7.2500</td>\n",
              "      <td>NaN</td>\n",
              "      <td>S</td>\n",
              "    </tr>\n",
              "    <tr>\n",
              "      <th>1</th>\n",
              "      <td>2</td>\n",
              "      <td>1</td>\n",
              "      <td>1</td>\n",
              "      <td>Cumings, Mrs. John Bradley (Florence Briggs Th...</td>\n",
              "      <td>female</td>\n",
              "      <td>38.0</td>\n",
              "      <td>1</td>\n",
              "      <td>0</td>\n",
              "      <td>PC 17599</td>\n",
              "      <td>71.2833</td>\n",
              "      <td>C85</td>\n",
              "      <td>C</td>\n",
              "    </tr>\n",
              "    <tr>\n",
              "      <th>2</th>\n",
              "      <td>3</td>\n",
              "      <td>1</td>\n",
              "      <td>3</td>\n",
              "      <td>Heikkinen, Miss. Laina</td>\n",
              "      <td>female</td>\n",
              "      <td>26.0</td>\n",
              "      <td>0</td>\n",
              "      <td>0</td>\n",
              "      <td>STON/O2. 3101282</td>\n",
              "      <td>7.9250</td>\n",
              "      <td>NaN</td>\n",
              "      <td>S</td>\n",
              "    </tr>\n",
              "    <tr>\n",
              "      <th>3</th>\n",
              "      <td>4</td>\n",
              "      <td>1</td>\n",
              "      <td>1</td>\n",
              "      <td>Futrelle, Mrs. Jacques Heath (Lily May Peel)</td>\n",
              "      <td>female</td>\n",
              "      <td>35.0</td>\n",
              "      <td>1</td>\n",
              "      <td>0</td>\n",
              "      <td>113803</td>\n",
              "      <td>53.1000</td>\n",
              "      <td>C123</td>\n",
              "      <td>S</td>\n",
              "    </tr>\n",
              "    <tr>\n",
              "      <th>4</th>\n",
              "      <td>5</td>\n",
              "      <td>0</td>\n",
              "      <td>3</td>\n",
              "      <td>Allen, Mr. William Henry</td>\n",
              "      <td>male</td>\n",
              "      <td>35.0</td>\n",
              "      <td>0</td>\n",
              "      <td>0</td>\n",
              "      <td>373450</td>\n",
              "      <td>8.0500</td>\n",
              "      <td>NaN</td>\n",
              "      <td>S</td>\n",
              "    </tr>\n",
              "  </tbody>\n",
              "</table>\n",
              "</div>\n",
              "      <button class=\"colab-df-convert\" onclick=\"convertToInteractive('df-b9f7c72d-6bb7-4c0d-8ed0-6f63c14a019f')\"\n",
              "              title=\"Convert this dataframe to an interactive table.\"\n",
              "              style=\"display:none;\">\n",
              "        \n",
              "  <svg xmlns=\"http://www.w3.org/2000/svg\" height=\"24px\"viewBox=\"0 0 24 24\"\n",
              "       width=\"24px\">\n",
              "    <path d=\"M0 0h24v24H0V0z\" fill=\"none\"/>\n",
              "    <path d=\"M18.56 5.44l.94 2.06.94-2.06 2.06-.94-2.06-.94-.94-2.06-.94 2.06-2.06.94zm-11 1L8.5 8.5l.94-2.06 2.06-.94-2.06-.94L8.5 2.5l-.94 2.06-2.06.94zm10 10l.94 2.06.94-2.06 2.06-.94-2.06-.94-.94-2.06-.94 2.06-2.06.94z\"/><path d=\"M17.41 7.96l-1.37-1.37c-.4-.4-.92-.59-1.43-.59-.52 0-1.04.2-1.43.59L10.3 9.45l-7.72 7.72c-.78.78-.78 2.05 0 2.83L4 21.41c.39.39.9.59 1.41.59.51 0 1.02-.2 1.41-.59l7.78-7.78 2.81-2.81c.8-.78.8-2.07 0-2.86zM5.41 20L4 18.59l7.72-7.72 1.47 1.35L5.41 20z\"/>\n",
              "  </svg>\n",
              "      </button>\n",
              "      \n",
              "  <style>\n",
              "    .colab-df-container {\n",
              "      display:flex;\n",
              "      flex-wrap:wrap;\n",
              "      gap: 12px;\n",
              "    }\n",
              "\n",
              "    .colab-df-convert {\n",
              "      background-color: #E8F0FE;\n",
              "      border: none;\n",
              "      border-radius: 50%;\n",
              "      cursor: pointer;\n",
              "      display: none;\n",
              "      fill: #1967D2;\n",
              "      height: 32px;\n",
              "      padding: 0 0 0 0;\n",
              "      width: 32px;\n",
              "    }\n",
              "\n",
              "    .colab-df-convert:hover {\n",
              "      background-color: #E2EBFA;\n",
              "      box-shadow: 0px 1px 2px rgba(60, 64, 67, 0.3), 0px 1px 3px 1px rgba(60, 64, 67, 0.15);\n",
              "      fill: #174EA6;\n",
              "    }\n",
              "\n",
              "    [theme=dark] .colab-df-convert {\n",
              "      background-color: #3B4455;\n",
              "      fill: #D2E3FC;\n",
              "    }\n",
              "\n",
              "    [theme=dark] .colab-df-convert:hover {\n",
              "      background-color: #434B5C;\n",
              "      box-shadow: 0px 1px 3px 1px rgba(0, 0, 0, 0.15);\n",
              "      filter: drop-shadow(0px 1px 2px rgba(0, 0, 0, 0.3));\n",
              "      fill: #FFFFFF;\n",
              "    }\n",
              "  </style>\n",
              "\n",
              "      <script>\n",
              "        const buttonEl =\n",
              "          document.querySelector('#df-b9f7c72d-6bb7-4c0d-8ed0-6f63c14a019f button.colab-df-convert');\n",
              "        buttonEl.style.display =\n",
              "          google.colab.kernel.accessAllowed ? 'block' : 'none';\n",
              "\n",
              "        async function convertToInteractive(key) {\n",
              "          const element = document.querySelector('#df-b9f7c72d-6bb7-4c0d-8ed0-6f63c14a019f');\n",
              "          const dataTable =\n",
              "            await google.colab.kernel.invokeFunction('convertToInteractive',\n",
              "                                                     [key], {});\n",
              "          if (!dataTable) return;\n",
              "\n",
              "          const docLinkHtml = 'Like what you see? Visit the ' +\n",
              "            '<a target=\"_blank\" href=https://colab.research.google.com/notebooks/data_table.ipynb>data table notebook</a>'\n",
              "            + ' to learn more about interactive tables.';\n",
              "          element.innerHTML = '';\n",
              "          dataTable['output_type'] = 'display_data';\n",
              "          await google.colab.output.renderOutput(dataTable, element);\n",
              "          const docLink = document.createElement('div');\n",
              "          docLink.innerHTML = docLinkHtml;\n",
              "          element.appendChild(docLink);\n",
              "        }\n",
              "      </script>\n",
              "    </div>\n",
              "  </div>\n",
              "  "
            ],
            "text/plain": [
              "   PassengerId  Survived  Pclass  ...     Fare Cabin  Embarked\n",
              "0            1         0       3  ...   7.2500   NaN         S\n",
              "1            2         1       1  ...  71.2833   C85         C\n",
              "2            3         1       3  ...   7.9250   NaN         S\n",
              "3            4         1       1  ...  53.1000  C123         S\n",
              "4            5         0       3  ...   8.0500   NaN         S\n",
              "\n",
              "[5 rows x 12 columns]"
            ]
          },
          "metadata": {},
          "execution_count": 4
        }
      ]
    },
    {
      "cell_type": "markdown",
      "source": [
        "# Let's Plan"
      ],
      "metadata": {
        "id": "1qkTvg2yj2gs"
      }
    },
    {
      "cell_type": "markdown",
      "source": [
        "# Pipeline processes\n",
        "\n",
        "### Two columns has data missing, age and embark.\n",
        "### 1. we need to do is fill that using simple imputer.\n",
        "### 2. we will one hot encode sex and embark.\n",
        "### 3. we will do scaling.\n",
        "### 4. Feature selection (take best 5 feature)\n",
        "### 5. Train model using Decision Tree."
      ],
      "metadata": {
        "id": "ZgtiYKfqj5rK"
      }
    },
    {
      "cell_type": "code",
      "source": [
        "df.drop(columns=[\"PassengerId\", \"Name\", \"Ticket\", \"Cabin\"], inplace=True)"
      ],
      "metadata": {
        "id": "XtLzrEUvjteK"
      },
      "execution_count": 5,
      "outputs": []
    },
    {
      "cell_type": "code",
      "source": [
        "X_train, X_test, y_train, y_test = train_test_split(df.drop(columns=[\"Survived\"]), df.Survived, test_size=0.2, random_state=42)"
      ],
      "metadata": {
        "id": "YxOHl2eDk1--"
      },
      "execution_count": 12,
      "outputs": []
    },
    {
      "cell_type": "code",
      "source": [
        "X_train.head()"
      ],
      "metadata": {
        "colab": {
          "base_uri": "https://localhost:8080/",
          "height": 206
        },
        "id": "96KufwqtlTz-",
        "outputId": "64b90980-85c1-4552-f679-217218927c9c"
      },
      "execution_count": 13,
      "outputs": [
        {
          "output_type": "execute_result",
          "data": {
            "text/html": [
              "\n",
              "  <div id=\"df-73300905-3934-4db9-8829-025b0a9b6b61\">\n",
              "    <div class=\"colab-df-container\">\n",
              "      <div>\n",
              "<style scoped>\n",
              "    .dataframe tbody tr th:only-of-type {\n",
              "        vertical-align: middle;\n",
              "    }\n",
              "\n",
              "    .dataframe tbody tr th {\n",
              "        vertical-align: top;\n",
              "    }\n",
              "\n",
              "    .dataframe thead th {\n",
              "        text-align: right;\n",
              "    }\n",
              "</style>\n",
              "<table border=\"1\" class=\"dataframe\">\n",
              "  <thead>\n",
              "    <tr style=\"text-align: right;\">\n",
              "      <th></th>\n",
              "      <th>Pclass</th>\n",
              "      <th>Sex</th>\n",
              "      <th>Age</th>\n",
              "      <th>SibSp</th>\n",
              "      <th>Parch</th>\n",
              "      <th>Fare</th>\n",
              "      <th>Embarked</th>\n",
              "    </tr>\n",
              "  </thead>\n",
              "  <tbody>\n",
              "    <tr>\n",
              "      <th>331</th>\n",
              "      <td>1</td>\n",
              "      <td>male</td>\n",
              "      <td>45.5</td>\n",
              "      <td>0</td>\n",
              "      <td>0</td>\n",
              "      <td>28.5000</td>\n",
              "      <td>S</td>\n",
              "    </tr>\n",
              "    <tr>\n",
              "      <th>733</th>\n",
              "      <td>2</td>\n",
              "      <td>male</td>\n",
              "      <td>23.0</td>\n",
              "      <td>0</td>\n",
              "      <td>0</td>\n",
              "      <td>13.0000</td>\n",
              "      <td>S</td>\n",
              "    </tr>\n",
              "    <tr>\n",
              "      <th>382</th>\n",
              "      <td>3</td>\n",
              "      <td>male</td>\n",
              "      <td>32.0</td>\n",
              "      <td>0</td>\n",
              "      <td>0</td>\n",
              "      <td>7.9250</td>\n",
              "      <td>S</td>\n",
              "    </tr>\n",
              "    <tr>\n",
              "      <th>704</th>\n",
              "      <td>3</td>\n",
              "      <td>male</td>\n",
              "      <td>26.0</td>\n",
              "      <td>1</td>\n",
              "      <td>0</td>\n",
              "      <td>7.8542</td>\n",
              "      <td>S</td>\n",
              "    </tr>\n",
              "    <tr>\n",
              "      <th>813</th>\n",
              "      <td>3</td>\n",
              "      <td>female</td>\n",
              "      <td>6.0</td>\n",
              "      <td>4</td>\n",
              "      <td>2</td>\n",
              "      <td>31.2750</td>\n",
              "      <td>S</td>\n",
              "    </tr>\n",
              "  </tbody>\n",
              "</table>\n",
              "</div>\n",
              "      <button class=\"colab-df-convert\" onclick=\"convertToInteractive('df-73300905-3934-4db9-8829-025b0a9b6b61')\"\n",
              "              title=\"Convert this dataframe to an interactive table.\"\n",
              "              style=\"display:none;\">\n",
              "        \n",
              "  <svg xmlns=\"http://www.w3.org/2000/svg\" height=\"24px\"viewBox=\"0 0 24 24\"\n",
              "       width=\"24px\">\n",
              "    <path d=\"M0 0h24v24H0V0z\" fill=\"none\"/>\n",
              "    <path d=\"M18.56 5.44l.94 2.06.94-2.06 2.06-.94-2.06-.94-.94-2.06-.94 2.06-2.06.94zm-11 1L8.5 8.5l.94-2.06 2.06-.94-2.06-.94L8.5 2.5l-.94 2.06-2.06.94zm10 10l.94 2.06.94-2.06 2.06-.94-2.06-.94-.94-2.06-.94 2.06-2.06.94z\"/><path d=\"M17.41 7.96l-1.37-1.37c-.4-.4-.92-.59-1.43-.59-.52 0-1.04.2-1.43.59L10.3 9.45l-7.72 7.72c-.78.78-.78 2.05 0 2.83L4 21.41c.39.39.9.59 1.41.59.51 0 1.02-.2 1.41-.59l7.78-7.78 2.81-2.81c.8-.78.8-2.07 0-2.86zM5.41 20L4 18.59l7.72-7.72 1.47 1.35L5.41 20z\"/>\n",
              "  </svg>\n",
              "      </button>\n",
              "      \n",
              "  <style>\n",
              "    .colab-df-container {\n",
              "      display:flex;\n",
              "      flex-wrap:wrap;\n",
              "      gap: 12px;\n",
              "    }\n",
              "\n",
              "    .colab-df-convert {\n",
              "      background-color: #E8F0FE;\n",
              "      border: none;\n",
              "      border-radius: 50%;\n",
              "      cursor: pointer;\n",
              "      display: none;\n",
              "      fill: #1967D2;\n",
              "      height: 32px;\n",
              "      padding: 0 0 0 0;\n",
              "      width: 32px;\n",
              "    }\n",
              "\n",
              "    .colab-df-convert:hover {\n",
              "      background-color: #E2EBFA;\n",
              "      box-shadow: 0px 1px 2px rgba(60, 64, 67, 0.3), 0px 1px 3px 1px rgba(60, 64, 67, 0.15);\n",
              "      fill: #174EA6;\n",
              "    }\n",
              "\n",
              "    [theme=dark] .colab-df-convert {\n",
              "      background-color: #3B4455;\n",
              "      fill: #D2E3FC;\n",
              "    }\n",
              "\n",
              "    [theme=dark] .colab-df-convert:hover {\n",
              "      background-color: #434B5C;\n",
              "      box-shadow: 0px 1px 3px 1px rgba(0, 0, 0, 0.15);\n",
              "      filter: drop-shadow(0px 1px 2px rgba(0, 0, 0, 0.3));\n",
              "      fill: #FFFFFF;\n",
              "    }\n",
              "  </style>\n",
              "\n",
              "      <script>\n",
              "        const buttonEl =\n",
              "          document.querySelector('#df-73300905-3934-4db9-8829-025b0a9b6b61 button.colab-df-convert');\n",
              "        buttonEl.style.display =\n",
              "          google.colab.kernel.accessAllowed ? 'block' : 'none';\n",
              "\n",
              "        async function convertToInteractive(key) {\n",
              "          const element = document.querySelector('#df-73300905-3934-4db9-8829-025b0a9b6b61');\n",
              "          const dataTable =\n",
              "            await google.colab.kernel.invokeFunction('convertToInteractive',\n",
              "                                                     [key], {});\n",
              "          if (!dataTable) return;\n",
              "\n",
              "          const docLinkHtml = 'Like what you see? Visit the ' +\n",
              "            '<a target=\"_blank\" href=https://colab.research.google.com/notebooks/data_table.ipynb>data table notebook</a>'\n",
              "            + ' to learn more about interactive tables.';\n",
              "          element.innerHTML = '';\n",
              "          dataTable['output_type'] = 'display_data';\n",
              "          await google.colab.output.renderOutput(dataTable, element);\n",
              "          const docLink = document.createElement('div');\n",
              "          docLink.innerHTML = docLinkHtml;\n",
              "          element.appendChild(docLink);\n",
              "        }\n",
              "      </script>\n",
              "    </div>\n",
              "  </div>\n",
              "  "
            ],
            "text/plain": [
              "     Pclass     Sex   Age  SibSp  Parch     Fare Embarked\n",
              "331       1    male  45.5      0      0  28.5000        S\n",
              "733       2    male  23.0      0      0  13.0000        S\n",
              "382       3    male  32.0      0      0   7.9250        S\n",
              "704       3    male  26.0      1      0   7.8542        S\n",
              "813       3  female   6.0      4      2  31.2750        S"
            ]
          },
          "metadata": {},
          "execution_count": 13
        }
      ]
    },
    {
      "cell_type": "code",
      "source": [
        "y_train.sample(5)"
      ],
      "metadata": {
        "colab": {
          "base_uri": "https://localhost:8080/"
        },
        "id": "MXqkpT0flWUR",
        "outputId": "801c9e89-f188-4755-9f3a-c58dd406d9b5"
      },
      "execution_count": 14,
      "outputs": [
        {
          "output_type": "execute_result",
          "data": {
            "text/plain": [
              "554    1\n",
              "516    1\n",
              "431    1\n",
              "95     0\n",
              "46     0\n",
              "Name: Survived, dtype: int64"
            ]
          },
          "metadata": {},
          "execution_count": 14
        }
      ]
    },
    {
      "cell_type": "code",
      "source": [
        "# imputation transformer\n",
        "\n",
        "trf1 = ColumnTransformer(\n",
        "    [\n",
        "     (\"impute_age\", SimpleImputer(), [2]), # here we are passing [2] which means column at index 2, it is done because return of transformation is numpy array which doesn't have column name but rather index number.\n",
        "     (\"impute_embarked\", SimpleImputer(strategy=\"most_frequent\"), [6])\n",
        "    ],\n",
        "    remainder='passthrough' # to avoid dropping remaining columns\n",
        ")\n",
        "# during pipeline creation always use index rather then column names.\n",
        "# as one transformation returns numpy array, \n",
        "# when fed to next transformation as input, it wouldn't know the column names anymore, but rather index."
      ],
      "metadata": {
        "id": "0N-Mc0Mfnhiw"
      },
      "execution_count": 19,
      "outputs": []
    },
    {
      "cell_type": "code",
      "source": [
        "# one hot encoding\n",
        "trf2 = ColumnTransformer(\n",
        "    [\n",
        "     (\"ohe_sex_embarked\", OneHotEncoder(sparse=False, handle_unknown=\"ignore\"), [1, 6]) # not dropping first cause we will use decision tree.\n",
        "    ],\n",
        "    remainder=\"passthrough\"\n",
        ")"
      ],
      "metadata": {
        "id": "6UYtRc6togZY"
      },
      "execution_count": 18,
      "outputs": []
    },
    {
      "cell_type": "code",
      "source": [
        "# Scaling\n",
        "trf3 = ColumnTransformer(\n",
        "    [\n",
        "     (\"scale\", MinMaxScaler(), slice(0, 10)) # slice(0, 10) means apply minmaxscaler to all 10 cols. i.e. 0 to 9\n",
        "     # when we will apply onehotencoder on sex and embark, 2 new cols will be created from sex\n",
        "     # and 3 new cols from embark.\n",
        "     # previous sex and embark will be removed and new will be added.\n",
        "     # so initially data had 7 cols,\n",
        "     # 2 got removed, sex and embark. New no. of cols = 7-2 = 5\n",
        "     # new 5 will be added, 2 for sex, 3 for embark. New no. of cols = 5+2+3 = 10. i.e. slice(0, 10)\n",
        "    ]\n",
        ")"
      ],
      "metadata": {
        "id": "sz-mfl3MpjRz"
      },
      "execution_count": 20,
      "outputs": []
    },
    {
      "cell_type": "code",
      "source": [
        "# Feature Scaling\n",
        "\n",
        "trf4 = SelectKBest(score_func=chi2, k=8)# k=8 means use top 8 imp cols out of 10"
      ],
      "metadata": {
        "id": "fGPEMb97rVjs"
      },
      "execution_count": 21,
      "outputs": []
    },
    {
      "cell_type": "code",
      "source": [
        "# train model\n",
        "\n",
        "trf5 = DecisionTreeClassifier()"
      ],
      "metadata": {
        "id": "nJT5TAFhsAR_"
      },
      "execution_count": 22,
      "outputs": []
    },
    {
      "cell_type": "markdown",
      "source": [
        "# Create Pipeline"
      ],
      "metadata": {
        "id": "Z13Wouvqrnp8"
      }
    },
    {
      "cell_type": "code",
      "source": [
        "pipe = Pipeline(\n",
        "    [\n",
        "    (\"trf1\", trf1),\n",
        "    (\"trf2\", trf2),\n",
        "    (\"trf3\", trf3),\n",
        "    (\"trf4\", trf4),\n",
        "    (\"trf5\", trf5)\n",
        "    ]\n",
        ")"
      ],
      "metadata": {
        "id": "iLFMk-rErphr"
      },
      "execution_count": 23,
      "outputs": []
    },
    {
      "cell_type": "markdown",
      "source": [
        "# Pipeline Vs make_pipeline\n",
        "\n",
        "Pipeline requires naming of steps, make_pipeline does not. <br>\n",
        "(Same applies to ColumnTransformer vs make_column_transformer)"
      ],
      "metadata": {
        "id": "aRCPpsZrsNIo"
      }
    },
    {
      "cell_type": "code",
      "source": [
        "# Alternate Syntax\n",
        "\n",
        "pipe2 = make_pipeline(trf1, trf2, trf3, trf4, trf5)"
      ],
      "metadata": {
        "id": "5pB7v1SqsMDV"
      },
      "execution_count": 24,
      "outputs": []
    },
    {
      "cell_type": "code",
      "source": [
        "# train\n",
        "\n",
        "pipe.fit(X_train, y_train)\n",
        "\n",
        "# if we don't have last pipeline transformer as model, we can just call fit_transform.\n",
        "# we are only calling fit here so that we can call predict later."
      ],
      "metadata": {
        "colab": {
          "base_uri": "https://localhost:8080/"
        },
        "id": "VIjKY8O4s58X",
        "outputId": "08c09e3c-5220-416b-a47a-57fcb8286809"
      },
      "execution_count": 25,
      "outputs": [
        {
          "output_type": "execute_result",
          "data": {
            "text/plain": [
              "Pipeline(steps=[('trf1',\n",
              "                 ColumnTransformer(remainder='passthrough',\n",
              "                                   transformers=[('impute_age', SimpleImputer(),\n",
              "                                                  [2]),\n",
              "                                                 ('impute_embarked',\n",
              "                                                  SimpleImputer(strategy='most_frequent'),\n",
              "                                                  [6])])),\n",
              "                ('trf2',\n",
              "                 ColumnTransformer(remainder='passthrough',\n",
              "                                   transformers=[('ohe_sex_embarked',\n",
              "                                                  OneHotEncoder(handle_unknown='ignore',\n",
              "                                                                sparse=False),\n",
              "                                                  [1, 6])])),\n",
              "                ('trf3',\n",
              "                 ColumnTransformer(transformers=[('scale', MinMaxScaler(),\n",
              "                                                  slice(0, 10, None))])),\n",
              "                ('trf4',\n",
              "                 SelectKBest(k=8,\n",
              "                             score_func=<function chi2 at 0x7fba67d09f80>)),\n",
              "                ('trf5', DecisionTreeClassifier())])"
            ]
          },
          "metadata": {},
          "execution_count": 25
        }
      ]
    },
    {
      "cell_type": "code",
      "source": [
        "# Display pipeline using tables.\n",
        "# run this code to see this.\n",
        "\n",
        "from sklearn import set_config\n",
        "\n",
        "set_config(display=\"diagram\")"
      ],
      "metadata": {
        "id": "JSMCDzDrt-vq"
      },
      "execution_count": 28,
      "outputs": []
    },
    {
      "cell_type": "code",
      "source": [
        "pipe2.fit(X_train, y_train)"
      ],
      "metadata": {
        "colab": {
          "base_uri": "https://localhost:8080/",
          "height": 429
        },
        "id": "TECDSu6Vtglf",
        "outputId": "d01c114c-fc1b-4365-f174-6cbc450b40d9"
      },
      "execution_count": 29,
      "outputs": [
        {
          "output_type": "execute_result",
          "data": {
            "text/html": [
              "<style>#sk-7bc20bae-bb10-4853-bca0-958ce3cb90a7 {color: black;background-color: white;}#sk-7bc20bae-bb10-4853-bca0-958ce3cb90a7 pre{padding: 0;}#sk-7bc20bae-bb10-4853-bca0-958ce3cb90a7 div.sk-toggleable {background-color: white;}#sk-7bc20bae-bb10-4853-bca0-958ce3cb90a7 label.sk-toggleable__label {cursor: pointer;display: block;width: 100%;margin-bottom: 0;padding: 0.3em;box-sizing: border-box;text-align: center;}#sk-7bc20bae-bb10-4853-bca0-958ce3cb90a7 label.sk-toggleable__label-arrow:before {content: \"▸\";float: left;margin-right: 0.25em;color: #696969;}#sk-7bc20bae-bb10-4853-bca0-958ce3cb90a7 label.sk-toggleable__label-arrow:hover:before {color: black;}#sk-7bc20bae-bb10-4853-bca0-958ce3cb90a7 div.sk-estimator:hover label.sk-toggleable__label-arrow:before {color: black;}#sk-7bc20bae-bb10-4853-bca0-958ce3cb90a7 div.sk-toggleable__content {max-height: 0;max-width: 0;overflow: hidden;text-align: left;background-color: #f0f8ff;}#sk-7bc20bae-bb10-4853-bca0-958ce3cb90a7 div.sk-toggleable__content pre {margin: 0.2em;color: black;border-radius: 0.25em;background-color: #f0f8ff;}#sk-7bc20bae-bb10-4853-bca0-958ce3cb90a7 input.sk-toggleable__control:checked~div.sk-toggleable__content {max-height: 200px;max-width: 100%;overflow: auto;}#sk-7bc20bae-bb10-4853-bca0-958ce3cb90a7 input.sk-toggleable__control:checked~label.sk-toggleable__label-arrow:before {content: \"▾\";}#sk-7bc20bae-bb10-4853-bca0-958ce3cb90a7 div.sk-estimator input.sk-toggleable__control:checked~label.sk-toggleable__label {background-color: #d4ebff;}#sk-7bc20bae-bb10-4853-bca0-958ce3cb90a7 div.sk-label input.sk-toggleable__control:checked~label.sk-toggleable__label {background-color: #d4ebff;}#sk-7bc20bae-bb10-4853-bca0-958ce3cb90a7 input.sk-hidden--visually {border: 0;clip: rect(1px 1px 1px 1px);clip: rect(1px, 1px, 1px, 1px);height: 1px;margin: -1px;overflow: hidden;padding: 0;position: absolute;width: 1px;}#sk-7bc20bae-bb10-4853-bca0-958ce3cb90a7 div.sk-estimator {font-family: monospace;background-color: #f0f8ff;border: 1px dotted black;border-radius: 0.25em;box-sizing: border-box;margin-bottom: 0.5em;}#sk-7bc20bae-bb10-4853-bca0-958ce3cb90a7 div.sk-estimator:hover {background-color: #d4ebff;}#sk-7bc20bae-bb10-4853-bca0-958ce3cb90a7 div.sk-parallel-item::after {content: \"\";width: 100%;border-bottom: 1px solid gray;flex-grow: 1;}#sk-7bc20bae-bb10-4853-bca0-958ce3cb90a7 div.sk-label:hover label.sk-toggleable__label {background-color: #d4ebff;}#sk-7bc20bae-bb10-4853-bca0-958ce3cb90a7 div.sk-serial::before {content: \"\";position: absolute;border-left: 1px solid gray;box-sizing: border-box;top: 2em;bottom: 0;left: 50%;}#sk-7bc20bae-bb10-4853-bca0-958ce3cb90a7 div.sk-serial {display: flex;flex-direction: column;align-items: center;background-color: white;padding-right: 0.2em;padding-left: 0.2em;}#sk-7bc20bae-bb10-4853-bca0-958ce3cb90a7 div.sk-item {z-index: 1;}#sk-7bc20bae-bb10-4853-bca0-958ce3cb90a7 div.sk-parallel {display: flex;align-items: stretch;justify-content: center;background-color: white;}#sk-7bc20bae-bb10-4853-bca0-958ce3cb90a7 div.sk-parallel::before {content: \"\";position: absolute;border-left: 1px solid gray;box-sizing: border-box;top: 2em;bottom: 0;left: 50%;}#sk-7bc20bae-bb10-4853-bca0-958ce3cb90a7 div.sk-parallel-item {display: flex;flex-direction: column;position: relative;background-color: white;}#sk-7bc20bae-bb10-4853-bca0-958ce3cb90a7 div.sk-parallel-item:first-child::after {align-self: flex-end;width: 50%;}#sk-7bc20bae-bb10-4853-bca0-958ce3cb90a7 div.sk-parallel-item:last-child::after {align-self: flex-start;width: 50%;}#sk-7bc20bae-bb10-4853-bca0-958ce3cb90a7 div.sk-parallel-item:only-child::after {width: 0;}#sk-7bc20bae-bb10-4853-bca0-958ce3cb90a7 div.sk-dashed-wrapped {border: 1px dashed gray;margin: 0 0.4em 0.5em 0.4em;box-sizing: border-box;padding-bottom: 0.4em;background-color: white;position: relative;}#sk-7bc20bae-bb10-4853-bca0-958ce3cb90a7 div.sk-label label {font-family: monospace;font-weight: bold;background-color: white;display: inline-block;line-height: 1.2em;}#sk-7bc20bae-bb10-4853-bca0-958ce3cb90a7 div.sk-label-container {position: relative;z-index: 2;text-align: center;}#sk-7bc20bae-bb10-4853-bca0-958ce3cb90a7 div.sk-container {/* jupyter's `normalize.less` sets `[hidden] { display: none; }` but bootstrap.min.css set `[hidden] { display: none !important; }` so we also need the `!important` here to be able to override the default hidden behavior on the sphinx rendered scikit-learn.org. See: https://github.com/scikit-learn/scikit-learn/issues/21755 */display: inline-block !important;position: relative;}#sk-7bc20bae-bb10-4853-bca0-958ce3cb90a7 div.sk-text-repr-fallback {display: none;}</style><div id=\"sk-7bc20bae-bb10-4853-bca0-958ce3cb90a7\" class=\"sk-top-container\"><div class=\"sk-text-repr-fallback\"><pre>Pipeline(steps=[(&#x27;columntransformer-1&#x27;,\n",
              "                 ColumnTransformer(remainder=&#x27;passthrough&#x27;,\n",
              "                                   transformers=[(&#x27;impute_age&#x27;, SimpleImputer(),\n",
              "                                                  [2]),\n",
              "                                                 (&#x27;impute_embarked&#x27;,\n",
              "                                                  SimpleImputer(strategy=&#x27;most_frequent&#x27;),\n",
              "                                                  [6])])),\n",
              "                (&#x27;columntransformer-2&#x27;,\n",
              "                 ColumnTransformer(remainder=&#x27;passthrough&#x27;,\n",
              "                                   transformers=[(&#x27;ohe_sex_embarked&#x27;,\n",
              "                                                  OneHotEncoder(handle_unknown=&#x27;ignore&#x27;,\n",
              "                                                                sparse=False),\n",
              "                                                  [1, 6])])),\n",
              "                (&#x27;columntransformer-3&#x27;,\n",
              "                 ColumnTransformer(transformers=[(&#x27;scale&#x27;, MinMaxScaler(),\n",
              "                                                  slice(0, 10, None))])),\n",
              "                (&#x27;selectkbest&#x27;,\n",
              "                 SelectKBest(k=8,\n",
              "                             score_func=&lt;function chi2 at 0x7fba67d09f80&gt;)),\n",
              "                (&#x27;decisiontreeclassifier&#x27;, DecisionTreeClassifier())])</pre><b>Please rerun this cell to show the HTML repr or trust the notebook.</b></div><div class=\"sk-container\" hidden><div class=\"sk-item sk-dashed-wrapped\"><div class=\"sk-label-container\"><div class=\"sk-label sk-toggleable\"><input class=\"sk-toggleable__control sk-hidden--visually\" id=\"4fbabb81-d2d6-40b3-82ed-c780beb9b584\" type=\"checkbox\" ><label for=\"4fbabb81-d2d6-40b3-82ed-c780beb9b584\" class=\"sk-toggleable__label sk-toggleable__label-arrow\">Pipeline</label><div class=\"sk-toggleable__content\"><pre>Pipeline(steps=[(&#x27;columntransformer-1&#x27;,\n",
              "                 ColumnTransformer(remainder=&#x27;passthrough&#x27;,\n",
              "                                   transformers=[(&#x27;impute_age&#x27;, SimpleImputer(),\n",
              "                                                  [2]),\n",
              "                                                 (&#x27;impute_embarked&#x27;,\n",
              "                                                  SimpleImputer(strategy=&#x27;most_frequent&#x27;),\n",
              "                                                  [6])])),\n",
              "                (&#x27;columntransformer-2&#x27;,\n",
              "                 ColumnTransformer(remainder=&#x27;passthrough&#x27;,\n",
              "                                   transformers=[(&#x27;ohe_sex_embarked&#x27;,\n",
              "                                                  OneHotEncoder(handle_unknown=&#x27;ignore&#x27;,\n",
              "                                                                sparse=False),\n",
              "                                                  [1, 6])])),\n",
              "                (&#x27;columntransformer-3&#x27;,\n",
              "                 ColumnTransformer(transformers=[(&#x27;scale&#x27;, MinMaxScaler(),\n",
              "                                                  slice(0, 10, None))])),\n",
              "                (&#x27;selectkbest&#x27;,\n",
              "                 SelectKBest(k=8,\n",
              "                             score_func=&lt;function chi2 at 0x7fba67d09f80&gt;)),\n",
              "                (&#x27;decisiontreeclassifier&#x27;, DecisionTreeClassifier())])</pre></div></div></div><div class=\"sk-serial\"><div class=\"sk-item sk-dashed-wrapped\"><div class=\"sk-label-container\"><div class=\"sk-label sk-toggleable\"><input class=\"sk-toggleable__control sk-hidden--visually\" id=\"44e4537f-fd64-437e-a0db-ed874df4883d\" type=\"checkbox\" ><label for=\"44e4537f-fd64-437e-a0db-ed874df4883d\" class=\"sk-toggleable__label sk-toggleable__label-arrow\">columntransformer-1: ColumnTransformer</label><div class=\"sk-toggleable__content\"><pre>ColumnTransformer(remainder=&#x27;passthrough&#x27;,\n",
              "                  transformers=[(&#x27;impute_age&#x27;, SimpleImputer(), [2]),\n",
              "                                (&#x27;impute_embarked&#x27;,\n",
              "                                 SimpleImputer(strategy=&#x27;most_frequent&#x27;),\n",
              "                                 [6])])</pre></div></div></div><div class=\"sk-parallel\"><div class=\"sk-parallel-item\"><div class=\"sk-item\"><div class=\"sk-label-container\"><div class=\"sk-label sk-toggleable\"><input class=\"sk-toggleable__control sk-hidden--visually\" id=\"1490398b-8175-4253-bbf7-bad1604c33f7\" type=\"checkbox\" ><label for=\"1490398b-8175-4253-bbf7-bad1604c33f7\" class=\"sk-toggleable__label sk-toggleable__label-arrow\">impute_age</label><div class=\"sk-toggleable__content\"><pre>[2]</pre></div></div></div><div class=\"sk-serial\"><div class=\"sk-item\"><div class=\"sk-estimator sk-toggleable\"><input class=\"sk-toggleable__control sk-hidden--visually\" id=\"4db47357-00fb-42ca-8900-e0545aa9d445\" type=\"checkbox\" ><label for=\"4db47357-00fb-42ca-8900-e0545aa9d445\" class=\"sk-toggleable__label sk-toggleable__label-arrow\">SimpleImputer</label><div class=\"sk-toggleable__content\"><pre>SimpleImputer()</pre></div></div></div></div></div></div><div class=\"sk-parallel-item\"><div class=\"sk-item\"><div class=\"sk-label-container\"><div class=\"sk-label sk-toggleable\"><input class=\"sk-toggleable__control sk-hidden--visually\" id=\"025753d2-b6f1-4800-8ebc-331f3f31ee50\" type=\"checkbox\" ><label for=\"025753d2-b6f1-4800-8ebc-331f3f31ee50\" class=\"sk-toggleable__label sk-toggleable__label-arrow\">impute_embarked</label><div class=\"sk-toggleable__content\"><pre>[6]</pre></div></div></div><div class=\"sk-serial\"><div class=\"sk-item\"><div class=\"sk-estimator sk-toggleable\"><input class=\"sk-toggleable__control sk-hidden--visually\" id=\"42cb5ac4-0b1d-40c5-a895-3a9ce5f2edd5\" type=\"checkbox\" ><label for=\"42cb5ac4-0b1d-40c5-a895-3a9ce5f2edd5\" class=\"sk-toggleable__label sk-toggleable__label-arrow\">SimpleImputer</label><div class=\"sk-toggleable__content\"><pre>SimpleImputer(strategy=&#x27;most_frequent&#x27;)</pre></div></div></div></div></div></div><div class=\"sk-parallel-item\"><div class=\"sk-item\"><div class=\"sk-label-container\"><div class=\"sk-label sk-toggleable\"><input class=\"sk-toggleable__control sk-hidden--visually\" id=\"7b9f3ea1-6125-42ed-9695-b7c6945b9332\" type=\"checkbox\" ><label for=\"7b9f3ea1-6125-42ed-9695-b7c6945b9332\" class=\"sk-toggleable__label sk-toggleable__label-arrow\">remainder</label><div class=\"sk-toggleable__content\"><pre>[&#x27;Pclass&#x27;, &#x27;Sex&#x27;, &#x27;SibSp&#x27;, &#x27;Parch&#x27;, &#x27;Fare&#x27;]</pre></div></div></div><div class=\"sk-serial\"><div class=\"sk-item\"><div class=\"sk-estimator sk-toggleable\"><input class=\"sk-toggleable__control sk-hidden--visually\" id=\"c4f94b64-63c2-42af-afca-6d6501cad537\" type=\"checkbox\" ><label for=\"c4f94b64-63c2-42af-afca-6d6501cad537\" class=\"sk-toggleable__label sk-toggleable__label-arrow\">passthrough</label><div class=\"sk-toggleable__content\"><pre>passthrough</pre></div></div></div></div></div></div></div></div><div class=\"sk-item sk-dashed-wrapped\"><div class=\"sk-label-container\"><div class=\"sk-label sk-toggleable\"><input class=\"sk-toggleable__control sk-hidden--visually\" id=\"ffecba36-b8ad-4bf0-a239-1ec259ced936\" type=\"checkbox\" ><label for=\"ffecba36-b8ad-4bf0-a239-1ec259ced936\" class=\"sk-toggleable__label sk-toggleable__label-arrow\">columntransformer-2: ColumnTransformer</label><div class=\"sk-toggleable__content\"><pre>ColumnTransformer(remainder=&#x27;passthrough&#x27;,\n",
              "                  transformers=[(&#x27;ohe_sex_embarked&#x27;,\n",
              "                                 OneHotEncoder(handle_unknown=&#x27;ignore&#x27;,\n",
              "                                               sparse=False),\n",
              "                                 [1, 6])])</pre></div></div></div><div class=\"sk-parallel\"><div class=\"sk-parallel-item\"><div class=\"sk-item\"><div class=\"sk-label-container\"><div class=\"sk-label sk-toggleable\"><input class=\"sk-toggleable__control sk-hidden--visually\" id=\"5fc530b2-6051-44ea-bb6b-acf0484d78fb\" type=\"checkbox\" ><label for=\"5fc530b2-6051-44ea-bb6b-acf0484d78fb\" class=\"sk-toggleable__label sk-toggleable__label-arrow\">ohe_sex_embarked</label><div class=\"sk-toggleable__content\"><pre>[1, 6]</pre></div></div></div><div class=\"sk-serial\"><div class=\"sk-item\"><div class=\"sk-estimator sk-toggleable\"><input class=\"sk-toggleable__control sk-hidden--visually\" id=\"bec3edb8-ba8c-4247-b52d-ead8a0a21fb8\" type=\"checkbox\" ><label for=\"bec3edb8-ba8c-4247-b52d-ead8a0a21fb8\" class=\"sk-toggleable__label sk-toggleable__label-arrow\">OneHotEncoder</label><div class=\"sk-toggleable__content\"><pre>OneHotEncoder(handle_unknown=&#x27;ignore&#x27;, sparse=False)</pre></div></div></div></div></div></div><div class=\"sk-parallel-item\"><div class=\"sk-item\"><div class=\"sk-label-container\"><div class=\"sk-label sk-toggleable\"><input class=\"sk-toggleable__control sk-hidden--visually\" id=\"f4fbcb9e-272b-40dd-9476-acf8aaadc474\" type=\"checkbox\" ><label for=\"f4fbcb9e-272b-40dd-9476-acf8aaadc474\" class=\"sk-toggleable__label sk-toggleable__label-arrow\">remainder</label><div class=\"sk-toggleable__content\"><pre>[0, 2, 3, 4, 5]</pre></div></div></div><div class=\"sk-serial\"><div class=\"sk-item\"><div class=\"sk-estimator sk-toggleable\"><input class=\"sk-toggleable__control sk-hidden--visually\" id=\"d178b3e2-64d9-4b84-b9c5-c636ce573323\" type=\"checkbox\" ><label for=\"d178b3e2-64d9-4b84-b9c5-c636ce573323\" class=\"sk-toggleable__label sk-toggleable__label-arrow\">passthrough</label><div class=\"sk-toggleable__content\"><pre>passthrough</pre></div></div></div></div></div></div></div></div><div class=\"sk-item sk-dashed-wrapped\"><div class=\"sk-label-container\"><div class=\"sk-label sk-toggleable\"><input class=\"sk-toggleable__control sk-hidden--visually\" id=\"454a26cc-046a-47cb-a628-11e62152f20f\" type=\"checkbox\" ><label for=\"454a26cc-046a-47cb-a628-11e62152f20f\" class=\"sk-toggleable__label sk-toggleable__label-arrow\">columntransformer-3: ColumnTransformer</label><div class=\"sk-toggleable__content\"><pre>ColumnTransformer(transformers=[(&#x27;scale&#x27;, MinMaxScaler(), slice(0, 10, None))])</pre></div></div></div><div class=\"sk-parallel\"><div class=\"sk-parallel-item\"><div class=\"sk-item\"><div class=\"sk-label-container\"><div class=\"sk-label sk-toggleable\"><input class=\"sk-toggleable__control sk-hidden--visually\" id=\"5a80d153-15c1-460f-b3b7-c745601c30aa\" type=\"checkbox\" ><label for=\"5a80d153-15c1-460f-b3b7-c745601c30aa\" class=\"sk-toggleable__label sk-toggleable__label-arrow\">scale</label><div class=\"sk-toggleable__content\"><pre>slice(0, 10, None)</pre></div></div></div><div class=\"sk-serial\"><div class=\"sk-item\"><div class=\"sk-estimator sk-toggleable\"><input class=\"sk-toggleable__control sk-hidden--visually\" id=\"ca130253-f77a-4c31-9afb-2652a4467b40\" type=\"checkbox\" ><label for=\"ca130253-f77a-4c31-9afb-2652a4467b40\" class=\"sk-toggleable__label sk-toggleable__label-arrow\">MinMaxScaler</label><div class=\"sk-toggleable__content\"><pre>MinMaxScaler()</pre></div></div></div></div></div></div></div></div><div class=\"sk-item\"><div class=\"sk-estimator sk-toggleable\"><input class=\"sk-toggleable__control sk-hidden--visually\" id=\"e21b48ab-fe03-4202-85b6-69a208692b9c\" type=\"checkbox\" ><label for=\"e21b48ab-fe03-4202-85b6-69a208692b9c\" class=\"sk-toggleable__label sk-toggleable__label-arrow\">SelectKBest</label><div class=\"sk-toggleable__content\"><pre>SelectKBest(k=8, score_func=&lt;function chi2 at 0x7fba67d09f80&gt;)</pre></div></div></div><div class=\"sk-item\"><div class=\"sk-estimator sk-toggleable\"><input class=\"sk-toggleable__control sk-hidden--visually\" id=\"5acb8400-7b71-44fd-849c-5ff2c1feb7e4\" type=\"checkbox\" ><label for=\"5acb8400-7b71-44fd-849c-5ff2c1feb7e4\" class=\"sk-toggleable__label sk-toggleable__label-arrow\">DecisionTreeClassifier</label><div class=\"sk-toggleable__content\"><pre>DecisionTreeClassifier()</pre></div></div></div></div></div></div></div>"
            ],
            "text/plain": [
              "Pipeline(steps=[('columntransformer-1',\n",
              "                 ColumnTransformer(remainder='passthrough',\n",
              "                                   transformers=[('impute_age', SimpleImputer(),\n",
              "                                                  [2]),\n",
              "                                                 ('impute_embarked',\n",
              "                                                  SimpleImputer(strategy='most_frequent'),\n",
              "                                                  [6])])),\n",
              "                ('columntransformer-2',\n",
              "                 ColumnTransformer(remainder='passthrough',\n",
              "                                   transformers=[('ohe_sex_embarked',\n",
              "                                                  OneHotEncoder(handle_unknown='ignore',\n",
              "                                                                sparse=False),\n",
              "                                                  [1, 6])])),\n",
              "                ('columntransformer-3',\n",
              "                 ColumnTransformer(transformers=[('scale', MinMaxScaler(),\n",
              "                                                  slice(0, 10, None))])),\n",
              "                ('selectkbest',\n",
              "                 SelectKBest(k=8,\n",
              "                             score_func=<function chi2 at 0x7fba67d09f80>)),\n",
              "                ('decisiontreeclassifier', DecisionTreeClassifier())])"
            ]
          },
          "metadata": {},
          "execution_count": 29
        }
      ]
    },
    {
      "cell_type": "markdown",
      "source": [
        "# Explore Pipeline"
      ],
      "metadata": {
        "id": "NLygtXXQtqc3"
      }
    },
    {
      "cell_type": "code",
      "source": [
        "pipe.named_steps"
      ],
      "metadata": {
        "colab": {
          "base_uri": "https://localhost:8080/"
        },
        "id": "WALHeGjOtm0V",
        "outputId": "28590614-7b4e-4666-ed7f-38241426083d"
      },
      "execution_count": 30,
      "outputs": [
        {
          "output_type": "execute_result",
          "data": {
            "text/plain": [
              "{'trf1': ColumnTransformer(remainder='passthrough',\n",
              "                   transformers=[('impute_age', SimpleImputer(), [2]),\n",
              "                                 ('impute_embarked',\n",
              "                                  SimpleImputer(strategy='most_frequent'),\n",
              "                                  [6])]),\n",
              " 'trf2': ColumnTransformer(remainder='passthrough',\n",
              "                   transformers=[('ohe_sex_embarked',\n",
              "                                  OneHotEncoder(handle_unknown='ignore',\n",
              "                                                sparse=False),\n",
              "                                  [1, 6])]),\n",
              " 'trf3': ColumnTransformer(transformers=[('scale', MinMaxScaler(), slice(0, 10, None))]),\n",
              " 'trf4': SelectKBest(k=8, score_func=<function chi2 at 0x7fba67d09f80>),\n",
              " 'trf5': DecisionTreeClassifier()}"
            ]
          },
          "metadata": {},
          "execution_count": 30
        }
      ]
    },
    {
      "cell_type": "code",
      "source": [
        "pipe.named_steps['trf1'].transformers_"
      ],
      "metadata": {
        "colab": {
          "base_uri": "https://localhost:8080/"
        },
        "id": "4vbLvsC_uc_k",
        "outputId": "e72c613a-a5e3-4dba-a59f-e22fe0d24e41"
      },
      "execution_count": 31,
      "outputs": [
        {
          "output_type": "execute_result",
          "data": {
            "text/plain": [
              "[('impute_age', SimpleImputer(), [2]),\n",
              " ('impute_embarked', SimpleImputer(strategy='most_frequent'), [6]),\n",
              " ('remainder', 'passthrough', [0, 1, 3, 4, 5])]"
            ]
          },
          "metadata": {},
          "execution_count": 31
        }
      ]
    },
    {
      "cell_type": "code",
      "source": [
        "pipe.named_steps[\"trf1\"].transformers_[0][1]"
      ],
      "metadata": {
        "colab": {
          "base_uri": "https://localhost:8080/",
          "height": 75
        },
        "id": "p4Hemg1gupNo",
        "outputId": "f08f9afe-d72f-41f2-a4a2-beb13b416781"
      },
      "execution_count": 33,
      "outputs": [
        {
          "output_type": "execute_result",
          "data": {
            "text/html": [
              "<style>#sk-0a84abe7-1bcc-4d06-bbaa-26f5214abb93 {color: black;background-color: white;}#sk-0a84abe7-1bcc-4d06-bbaa-26f5214abb93 pre{padding: 0;}#sk-0a84abe7-1bcc-4d06-bbaa-26f5214abb93 div.sk-toggleable {background-color: white;}#sk-0a84abe7-1bcc-4d06-bbaa-26f5214abb93 label.sk-toggleable__label {cursor: pointer;display: block;width: 100%;margin-bottom: 0;padding: 0.3em;box-sizing: border-box;text-align: center;}#sk-0a84abe7-1bcc-4d06-bbaa-26f5214abb93 label.sk-toggleable__label-arrow:before {content: \"▸\";float: left;margin-right: 0.25em;color: #696969;}#sk-0a84abe7-1bcc-4d06-bbaa-26f5214abb93 label.sk-toggleable__label-arrow:hover:before {color: black;}#sk-0a84abe7-1bcc-4d06-bbaa-26f5214abb93 div.sk-estimator:hover label.sk-toggleable__label-arrow:before {color: black;}#sk-0a84abe7-1bcc-4d06-bbaa-26f5214abb93 div.sk-toggleable__content {max-height: 0;max-width: 0;overflow: hidden;text-align: left;background-color: #f0f8ff;}#sk-0a84abe7-1bcc-4d06-bbaa-26f5214abb93 div.sk-toggleable__content pre {margin: 0.2em;color: black;border-radius: 0.25em;background-color: #f0f8ff;}#sk-0a84abe7-1bcc-4d06-bbaa-26f5214abb93 input.sk-toggleable__control:checked~div.sk-toggleable__content {max-height: 200px;max-width: 100%;overflow: auto;}#sk-0a84abe7-1bcc-4d06-bbaa-26f5214abb93 input.sk-toggleable__control:checked~label.sk-toggleable__label-arrow:before {content: \"▾\";}#sk-0a84abe7-1bcc-4d06-bbaa-26f5214abb93 div.sk-estimator input.sk-toggleable__control:checked~label.sk-toggleable__label {background-color: #d4ebff;}#sk-0a84abe7-1bcc-4d06-bbaa-26f5214abb93 div.sk-label input.sk-toggleable__control:checked~label.sk-toggleable__label {background-color: #d4ebff;}#sk-0a84abe7-1bcc-4d06-bbaa-26f5214abb93 input.sk-hidden--visually {border: 0;clip: rect(1px 1px 1px 1px);clip: rect(1px, 1px, 1px, 1px);height: 1px;margin: -1px;overflow: hidden;padding: 0;position: absolute;width: 1px;}#sk-0a84abe7-1bcc-4d06-bbaa-26f5214abb93 div.sk-estimator {font-family: monospace;background-color: #f0f8ff;border: 1px dotted black;border-radius: 0.25em;box-sizing: border-box;margin-bottom: 0.5em;}#sk-0a84abe7-1bcc-4d06-bbaa-26f5214abb93 div.sk-estimator:hover {background-color: #d4ebff;}#sk-0a84abe7-1bcc-4d06-bbaa-26f5214abb93 div.sk-parallel-item::after {content: \"\";width: 100%;border-bottom: 1px solid gray;flex-grow: 1;}#sk-0a84abe7-1bcc-4d06-bbaa-26f5214abb93 div.sk-label:hover label.sk-toggleable__label {background-color: #d4ebff;}#sk-0a84abe7-1bcc-4d06-bbaa-26f5214abb93 div.sk-serial::before {content: \"\";position: absolute;border-left: 1px solid gray;box-sizing: border-box;top: 2em;bottom: 0;left: 50%;}#sk-0a84abe7-1bcc-4d06-bbaa-26f5214abb93 div.sk-serial {display: flex;flex-direction: column;align-items: center;background-color: white;padding-right: 0.2em;padding-left: 0.2em;}#sk-0a84abe7-1bcc-4d06-bbaa-26f5214abb93 div.sk-item {z-index: 1;}#sk-0a84abe7-1bcc-4d06-bbaa-26f5214abb93 div.sk-parallel {display: flex;align-items: stretch;justify-content: center;background-color: white;}#sk-0a84abe7-1bcc-4d06-bbaa-26f5214abb93 div.sk-parallel::before {content: \"\";position: absolute;border-left: 1px solid gray;box-sizing: border-box;top: 2em;bottom: 0;left: 50%;}#sk-0a84abe7-1bcc-4d06-bbaa-26f5214abb93 div.sk-parallel-item {display: flex;flex-direction: column;position: relative;background-color: white;}#sk-0a84abe7-1bcc-4d06-bbaa-26f5214abb93 div.sk-parallel-item:first-child::after {align-self: flex-end;width: 50%;}#sk-0a84abe7-1bcc-4d06-bbaa-26f5214abb93 div.sk-parallel-item:last-child::after {align-self: flex-start;width: 50%;}#sk-0a84abe7-1bcc-4d06-bbaa-26f5214abb93 div.sk-parallel-item:only-child::after {width: 0;}#sk-0a84abe7-1bcc-4d06-bbaa-26f5214abb93 div.sk-dashed-wrapped {border: 1px dashed gray;margin: 0 0.4em 0.5em 0.4em;box-sizing: border-box;padding-bottom: 0.4em;background-color: white;position: relative;}#sk-0a84abe7-1bcc-4d06-bbaa-26f5214abb93 div.sk-label label {font-family: monospace;font-weight: bold;background-color: white;display: inline-block;line-height: 1.2em;}#sk-0a84abe7-1bcc-4d06-bbaa-26f5214abb93 div.sk-label-container {position: relative;z-index: 2;text-align: center;}#sk-0a84abe7-1bcc-4d06-bbaa-26f5214abb93 div.sk-container {/* jupyter's `normalize.less` sets `[hidden] { display: none; }` but bootstrap.min.css set `[hidden] { display: none !important; }` so we also need the `!important` here to be able to override the default hidden behavior on the sphinx rendered scikit-learn.org. See: https://github.com/scikit-learn/scikit-learn/issues/21755 */display: inline-block !important;position: relative;}#sk-0a84abe7-1bcc-4d06-bbaa-26f5214abb93 div.sk-text-repr-fallback {display: none;}</style><div id=\"sk-0a84abe7-1bcc-4d06-bbaa-26f5214abb93\" class=\"sk-top-container\"><div class=\"sk-text-repr-fallback\"><pre>SimpleImputer()</pre><b>Please rerun this cell to show the HTML repr or trust the notebook.</b></div><div class=\"sk-container\" hidden><div class=\"sk-item\"><div class=\"sk-estimator sk-toggleable\"><input class=\"sk-toggleable__control sk-hidden--visually\" id=\"7e2f1b15-0d08-446b-9dae-ea6b3acc186f\" type=\"checkbox\" checked><label for=\"7e2f1b15-0d08-446b-9dae-ea6b3acc186f\" class=\"sk-toggleable__label sk-toggleable__label-arrow\">SimpleImputer</label><div class=\"sk-toggleable__content\"><pre>SimpleImputer()</pre></div></div></div></div></div>"
            ],
            "text/plain": [
              "SimpleImputer()"
            ]
          },
          "metadata": {},
          "execution_count": 33
        }
      ]
    },
    {
      "cell_type": "code",
      "source": [
        "pipe.named_steps[\"trf1\"].transformers_[0][1].statistics_\n",
        "# this is mean value calculated by simple imputer"
      ],
      "metadata": {
        "colab": {
          "base_uri": "https://localhost:8080/"
        },
        "id": "VBu1v6bpux8n",
        "outputId": "1c74cdd4-ea38-4712-a1ae-c5fe01f2add0"
      },
      "execution_count": 36,
      "outputs": [
        {
          "output_type": "execute_result",
          "data": {
            "text/plain": [
              "array([29.49884615])"
            ]
          },
          "metadata": {},
          "execution_count": 36
        }
      ]
    },
    {
      "cell_type": "code",
      "source": [
        "pipe.named_steps[\"trf1\"].transformers_[1][1]"
      ],
      "metadata": {
        "colab": {
          "base_uri": "https://localhost:8080/",
          "height": 75
        },
        "id": "cO9hmsCvu5TK",
        "outputId": "5106b633-1e8d-4b75-b4cc-d7e8fecd1d9d"
      },
      "execution_count": 37,
      "outputs": [
        {
          "output_type": "execute_result",
          "data": {
            "text/html": [
              "<style>#sk-bb458b54-11e5-40dd-a82b-2a970cf445b2 {color: black;background-color: white;}#sk-bb458b54-11e5-40dd-a82b-2a970cf445b2 pre{padding: 0;}#sk-bb458b54-11e5-40dd-a82b-2a970cf445b2 div.sk-toggleable {background-color: white;}#sk-bb458b54-11e5-40dd-a82b-2a970cf445b2 label.sk-toggleable__label {cursor: pointer;display: block;width: 100%;margin-bottom: 0;padding: 0.3em;box-sizing: border-box;text-align: center;}#sk-bb458b54-11e5-40dd-a82b-2a970cf445b2 label.sk-toggleable__label-arrow:before {content: \"▸\";float: left;margin-right: 0.25em;color: #696969;}#sk-bb458b54-11e5-40dd-a82b-2a970cf445b2 label.sk-toggleable__label-arrow:hover:before {color: black;}#sk-bb458b54-11e5-40dd-a82b-2a970cf445b2 div.sk-estimator:hover label.sk-toggleable__label-arrow:before {color: black;}#sk-bb458b54-11e5-40dd-a82b-2a970cf445b2 div.sk-toggleable__content {max-height: 0;max-width: 0;overflow: hidden;text-align: left;background-color: #f0f8ff;}#sk-bb458b54-11e5-40dd-a82b-2a970cf445b2 div.sk-toggleable__content pre {margin: 0.2em;color: black;border-radius: 0.25em;background-color: #f0f8ff;}#sk-bb458b54-11e5-40dd-a82b-2a970cf445b2 input.sk-toggleable__control:checked~div.sk-toggleable__content {max-height: 200px;max-width: 100%;overflow: auto;}#sk-bb458b54-11e5-40dd-a82b-2a970cf445b2 input.sk-toggleable__control:checked~label.sk-toggleable__label-arrow:before {content: \"▾\";}#sk-bb458b54-11e5-40dd-a82b-2a970cf445b2 div.sk-estimator input.sk-toggleable__control:checked~label.sk-toggleable__label {background-color: #d4ebff;}#sk-bb458b54-11e5-40dd-a82b-2a970cf445b2 div.sk-label input.sk-toggleable__control:checked~label.sk-toggleable__label {background-color: #d4ebff;}#sk-bb458b54-11e5-40dd-a82b-2a970cf445b2 input.sk-hidden--visually {border: 0;clip: rect(1px 1px 1px 1px);clip: rect(1px, 1px, 1px, 1px);height: 1px;margin: -1px;overflow: hidden;padding: 0;position: absolute;width: 1px;}#sk-bb458b54-11e5-40dd-a82b-2a970cf445b2 div.sk-estimator {font-family: monospace;background-color: #f0f8ff;border: 1px dotted black;border-radius: 0.25em;box-sizing: border-box;margin-bottom: 0.5em;}#sk-bb458b54-11e5-40dd-a82b-2a970cf445b2 div.sk-estimator:hover {background-color: #d4ebff;}#sk-bb458b54-11e5-40dd-a82b-2a970cf445b2 div.sk-parallel-item::after {content: \"\";width: 100%;border-bottom: 1px solid gray;flex-grow: 1;}#sk-bb458b54-11e5-40dd-a82b-2a970cf445b2 div.sk-label:hover label.sk-toggleable__label {background-color: #d4ebff;}#sk-bb458b54-11e5-40dd-a82b-2a970cf445b2 div.sk-serial::before {content: \"\";position: absolute;border-left: 1px solid gray;box-sizing: border-box;top: 2em;bottom: 0;left: 50%;}#sk-bb458b54-11e5-40dd-a82b-2a970cf445b2 div.sk-serial {display: flex;flex-direction: column;align-items: center;background-color: white;padding-right: 0.2em;padding-left: 0.2em;}#sk-bb458b54-11e5-40dd-a82b-2a970cf445b2 div.sk-item {z-index: 1;}#sk-bb458b54-11e5-40dd-a82b-2a970cf445b2 div.sk-parallel {display: flex;align-items: stretch;justify-content: center;background-color: white;}#sk-bb458b54-11e5-40dd-a82b-2a970cf445b2 div.sk-parallel::before {content: \"\";position: absolute;border-left: 1px solid gray;box-sizing: border-box;top: 2em;bottom: 0;left: 50%;}#sk-bb458b54-11e5-40dd-a82b-2a970cf445b2 div.sk-parallel-item {display: flex;flex-direction: column;position: relative;background-color: white;}#sk-bb458b54-11e5-40dd-a82b-2a970cf445b2 div.sk-parallel-item:first-child::after {align-self: flex-end;width: 50%;}#sk-bb458b54-11e5-40dd-a82b-2a970cf445b2 div.sk-parallel-item:last-child::after {align-self: flex-start;width: 50%;}#sk-bb458b54-11e5-40dd-a82b-2a970cf445b2 div.sk-parallel-item:only-child::after {width: 0;}#sk-bb458b54-11e5-40dd-a82b-2a970cf445b2 div.sk-dashed-wrapped {border: 1px dashed gray;margin: 0 0.4em 0.5em 0.4em;box-sizing: border-box;padding-bottom: 0.4em;background-color: white;position: relative;}#sk-bb458b54-11e5-40dd-a82b-2a970cf445b2 div.sk-label label {font-family: monospace;font-weight: bold;background-color: white;display: inline-block;line-height: 1.2em;}#sk-bb458b54-11e5-40dd-a82b-2a970cf445b2 div.sk-label-container {position: relative;z-index: 2;text-align: center;}#sk-bb458b54-11e5-40dd-a82b-2a970cf445b2 div.sk-container {/* jupyter's `normalize.less` sets `[hidden] { display: none; }` but bootstrap.min.css set `[hidden] { display: none !important; }` so we also need the `!important` here to be able to override the default hidden behavior on the sphinx rendered scikit-learn.org. See: https://github.com/scikit-learn/scikit-learn/issues/21755 */display: inline-block !important;position: relative;}#sk-bb458b54-11e5-40dd-a82b-2a970cf445b2 div.sk-text-repr-fallback {display: none;}</style><div id=\"sk-bb458b54-11e5-40dd-a82b-2a970cf445b2\" class=\"sk-top-container\"><div class=\"sk-text-repr-fallback\"><pre>SimpleImputer(strategy=&#x27;most_frequent&#x27;)</pre><b>Please rerun this cell to show the HTML repr or trust the notebook.</b></div><div class=\"sk-container\" hidden><div class=\"sk-item\"><div class=\"sk-estimator sk-toggleable\"><input class=\"sk-toggleable__control sk-hidden--visually\" id=\"e0c45bb3-f48e-4063-8803-db2c105dd72e\" type=\"checkbox\" checked><label for=\"e0c45bb3-f48e-4063-8803-db2c105dd72e\" class=\"sk-toggleable__label sk-toggleable__label-arrow\">SimpleImputer</label><div class=\"sk-toggleable__content\"><pre>SimpleImputer(strategy=&#x27;most_frequent&#x27;)</pre></div></div></div></div></div>"
            ],
            "text/plain": [
              "SimpleImputer(strategy='most_frequent')"
            ]
          },
          "metadata": {},
          "execution_count": 37
        }
      ]
    },
    {
      "cell_type": "code",
      "source": [
        "pipe.named_steps[\"trf1\"].transformers_[1][1].statistics_\n",
        "# this is most frequent value in data. This was used by simpleimputer to fill missing values."
      ],
      "metadata": {
        "colab": {
          "base_uri": "https://localhost:8080/"
        },
        "id": "SCav95PnvHSe",
        "outputId": "b837f476-e697-4024-85d9-c47e55b22810"
      },
      "execution_count": 38,
      "outputs": [
        {
          "output_type": "execute_result",
          "data": {
            "text/plain": [
              "array(['S'], dtype=object)"
            ]
          },
          "metadata": {},
          "execution_count": 38
        }
      ]
    },
    {
      "cell_type": "code",
      "source": [
        "# Predict\n",
        "\n",
        "y_pred_1 = pipe.predict(X_test) \n",
        "y_pred_2 = pipe2.predict(X_test)"
      ],
      "metadata": {
        "id": "0Pjflw6OvKDU"
      },
      "execution_count": 40,
      "outputs": []
    },
    {
      "cell_type": "code",
      "source": [
        "[y_pred_1 == y_pred_2] == False"
      ],
      "metadata": {
        "colab": {
          "base_uri": "https://localhost:8080/"
        },
        "id": "0IftZnUqvdlI",
        "outputId": "59d276b0-60d5-4594-e7a3-4abfef335419"
      },
      "execution_count": 43,
      "outputs": [
        {
          "output_type": "execute_result",
          "data": {
            "text/plain": [
              "False"
            ]
          },
          "metadata": {},
          "execution_count": 43
        }
      ]
    },
    {
      "cell_type": "code",
      "source": [
        "y_pred_1"
      ],
      "metadata": {
        "colab": {
          "base_uri": "https://localhost:8080/"
        },
        "id": "EDjG0HejvnKk",
        "outputId": "8aef7e7c-2a65-481c-866d-867ec2bd2c13"
      },
      "execution_count": 44,
      "outputs": [
        {
          "output_type": "execute_result",
          "data": {
            "text/plain": [
              "array([1, 0, 0, 0, 1, 0, 0, 0, 0, 0, 0, 0, 0, 1, 0, 0, 0, 0, 0, 0, 0, 0,\n",
              "       0, 0, 0, 0, 1, 0, 0, 0, 0, 0, 1, 0, 0, 1, 0, 0, 1, 0, 0, 0, 0, 0,\n",
              "       1, 0, 0, 0, 0, 1, 1, 0, 0, 0, 0, 0, 0, 1, 0, 0, 0, 0, 0, 0, 0, 0,\n",
              "       0, 0, 1, 1, 0, 1, 1, 1, 0, 0, 0, 1, 0, 0, 0, 0, 1, 0, 1, 1, 1, 1,\n",
              "       0, 0, 0, 0, 0, 0, 0, 0, 0, 0, 0, 0, 0, 0, 1, 0, 0, 0, 0, 0, 0, 1,\n",
              "       0, 0, 1, 0, 0, 0, 1, 1, 0, 0, 0, 1, 0, 0, 0, 1, 0, 1, 1, 0, 0, 1,\n",
              "       0, 0, 1, 1, 1, 0, 0, 0, 0, 0, 0, 0, 0, 0, 0, 0, 1, 0, 1, 0, 0, 0,\n",
              "       0, 0, 0, 0, 0, 0, 1, 0, 0, 1, 0, 1, 0, 0, 0, 0, 1, 0, 0, 1, 0, 1,\n",
              "       0, 0, 0])"
            ]
          },
          "metadata": {},
          "execution_count": 44
        }
      ]
    },
    {
      "cell_type": "code",
      "source": [
        "from sklearn.metrics import accuracy_score\n",
        "accuracy_score(y_test, y_pred_1)\n",
        "# the reason accuracy is low as compare to 80 to 85%, because we removed some columns in the starting."
      ],
      "metadata": {
        "colab": {
          "base_uri": "https://localhost:8080/"
        },
        "id": "FWTJEO11v31-",
        "outputId": "c62c07f7-c872-4eb0-a741-276e35c3146e"
      },
      "execution_count": 46,
      "outputs": [
        {
          "output_type": "execute_result",
          "data": {
            "text/plain": [
              "0.6256983240223464"
            ]
          },
          "metadata": {},
          "execution_count": 46
        }
      ]
    },
    {
      "cell_type": "markdown",
      "source": [
        "# CrossValidation using Pipeline"
      ],
      "metadata": {
        "id": "l4RWUbT0wPa1"
      }
    },
    {
      "cell_type": "code",
      "source": [
        "# cross validation using cross_val_score\n",
        "\n",
        "from sklearn.model_selection import cross_val_score\n",
        "\n",
        "cross_val_score(pipe, X_train, y_train, cv=5, scoring=\"accuracy\").mean()\n",
        "\n",
        "# by cv = 5 means do train_test_split 5 times, then calculate accuracy each time and give mean of that."
      ],
      "metadata": {
        "colab": {
          "base_uri": "https://localhost:8080/"
        },
        "id": "umrDriOAwApL",
        "outputId": "9e2ed007-3fd2-4304-945d-61bf0fd6fffa"
      },
      "execution_count": 47,
      "outputs": [
        {
          "output_type": "execute_result",
          "data": {
            "text/plain": [
              "0.6391214419383433"
            ]
          },
          "metadata": {},
          "execution_count": 47
        }
      ]
    },
    {
      "cell_type": "markdown",
      "source": [
        "# GridSearch using Pipeline"
      ],
      "metadata": {
        "id": "wQfddN-HwpnT"
      }
    },
    {
      "cell_type": "code",
      "source": [
        "# gridsearchcv\n",
        "\n",
        "params = {\n",
        "    \"trf5__max_depth\":[1, 2, 3, 4, 5, None]\n",
        "    # \"trf5__max_depth, this is not variable name but writing format\n",
        "    # i.e. \"transformername__parametername\"\n",
        "    # tranformer name + double underscore + parameter name\n",
        "}"
      ],
      "metadata": {
        "id": "OmXw9Yo9wnqZ"
      },
      "execution_count": 48,
      "outputs": []
    },
    {
      "cell_type": "code",
      "source": [
        "from sklearn.model_selection import GridSearchCV\n",
        "grid = GridSearchCV(pipe, params, cv=5, scoring=\"accuracy\")\n",
        "grid.fit(X_train, y_train)"
      ],
      "metadata": {
        "colab": {
          "base_uri": "https://localhost:8080/",
          "height": 429
        },
        "id": "9icGwReZxIn1",
        "outputId": "aa429440-ac32-47df-e3d8-c18cce8ec638"
      },
      "execution_count": 49,
      "outputs": [
        {
          "output_type": "execute_result",
          "data": {
            "text/html": [
              "<style>#sk-c330c12a-f5df-41bd-8d95-b08d5a3705a4 {color: black;background-color: white;}#sk-c330c12a-f5df-41bd-8d95-b08d5a3705a4 pre{padding: 0;}#sk-c330c12a-f5df-41bd-8d95-b08d5a3705a4 div.sk-toggleable {background-color: white;}#sk-c330c12a-f5df-41bd-8d95-b08d5a3705a4 label.sk-toggleable__label {cursor: pointer;display: block;width: 100%;margin-bottom: 0;padding: 0.3em;box-sizing: border-box;text-align: center;}#sk-c330c12a-f5df-41bd-8d95-b08d5a3705a4 label.sk-toggleable__label-arrow:before {content: \"▸\";float: left;margin-right: 0.25em;color: #696969;}#sk-c330c12a-f5df-41bd-8d95-b08d5a3705a4 label.sk-toggleable__label-arrow:hover:before {color: black;}#sk-c330c12a-f5df-41bd-8d95-b08d5a3705a4 div.sk-estimator:hover label.sk-toggleable__label-arrow:before {color: black;}#sk-c330c12a-f5df-41bd-8d95-b08d5a3705a4 div.sk-toggleable__content {max-height: 0;max-width: 0;overflow: hidden;text-align: left;background-color: #f0f8ff;}#sk-c330c12a-f5df-41bd-8d95-b08d5a3705a4 div.sk-toggleable__content pre {margin: 0.2em;color: black;border-radius: 0.25em;background-color: #f0f8ff;}#sk-c330c12a-f5df-41bd-8d95-b08d5a3705a4 input.sk-toggleable__control:checked~div.sk-toggleable__content {max-height: 200px;max-width: 100%;overflow: auto;}#sk-c330c12a-f5df-41bd-8d95-b08d5a3705a4 input.sk-toggleable__control:checked~label.sk-toggleable__label-arrow:before {content: \"▾\";}#sk-c330c12a-f5df-41bd-8d95-b08d5a3705a4 div.sk-estimator input.sk-toggleable__control:checked~label.sk-toggleable__label {background-color: #d4ebff;}#sk-c330c12a-f5df-41bd-8d95-b08d5a3705a4 div.sk-label input.sk-toggleable__control:checked~label.sk-toggleable__label {background-color: #d4ebff;}#sk-c330c12a-f5df-41bd-8d95-b08d5a3705a4 input.sk-hidden--visually {border: 0;clip: rect(1px 1px 1px 1px);clip: rect(1px, 1px, 1px, 1px);height: 1px;margin: -1px;overflow: hidden;padding: 0;position: absolute;width: 1px;}#sk-c330c12a-f5df-41bd-8d95-b08d5a3705a4 div.sk-estimator {font-family: monospace;background-color: #f0f8ff;border: 1px dotted black;border-radius: 0.25em;box-sizing: border-box;margin-bottom: 0.5em;}#sk-c330c12a-f5df-41bd-8d95-b08d5a3705a4 div.sk-estimator:hover {background-color: #d4ebff;}#sk-c330c12a-f5df-41bd-8d95-b08d5a3705a4 div.sk-parallel-item::after {content: \"\";width: 100%;border-bottom: 1px solid gray;flex-grow: 1;}#sk-c330c12a-f5df-41bd-8d95-b08d5a3705a4 div.sk-label:hover label.sk-toggleable__label {background-color: #d4ebff;}#sk-c330c12a-f5df-41bd-8d95-b08d5a3705a4 div.sk-serial::before {content: \"\";position: absolute;border-left: 1px solid gray;box-sizing: border-box;top: 2em;bottom: 0;left: 50%;}#sk-c330c12a-f5df-41bd-8d95-b08d5a3705a4 div.sk-serial {display: flex;flex-direction: column;align-items: center;background-color: white;padding-right: 0.2em;padding-left: 0.2em;}#sk-c330c12a-f5df-41bd-8d95-b08d5a3705a4 div.sk-item {z-index: 1;}#sk-c330c12a-f5df-41bd-8d95-b08d5a3705a4 div.sk-parallel {display: flex;align-items: stretch;justify-content: center;background-color: white;}#sk-c330c12a-f5df-41bd-8d95-b08d5a3705a4 div.sk-parallel::before {content: \"\";position: absolute;border-left: 1px solid gray;box-sizing: border-box;top: 2em;bottom: 0;left: 50%;}#sk-c330c12a-f5df-41bd-8d95-b08d5a3705a4 div.sk-parallel-item {display: flex;flex-direction: column;position: relative;background-color: white;}#sk-c330c12a-f5df-41bd-8d95-b08d5a3705a4 div.sk-parallel-item:first-child::after {align-self: flex-end;width: 50%;}#sk-c330c12a-f5df-41bd-8d95-b08d5a3705a4 div.sk-parallel-item:last-child::after {align-self: flex-start;width: 50%;}#sk-c330c12a-f5df-41bd-8d95-b08d5a3705a4 div.sk-parallel-item:only-child::after {width: 0;}#sk-c330c12a-f5df-41bd-8d95-b08d5a3705a4 div.sk-dashed-wrapped {border: 1px dashed gray;margin: 0 0.4em 0.5em 0.4em;box-sizing: border-box;padding-bottom: 0.4em;background-color: white;position: relative;}#sk-c330c12a-f5df-41bd-8d95-b08d5a3705a4 div.sk-label label {font-family: monospace;font-weight: bold;background-color: white;display: inline-block;line-height: 1.2em;}#sk-c330c12a-f5df-41bd-8d95-b08d5a3705a4 div.sk-label-container {position: relative;z-index: 2;text-align: center;}#sk-c330c12a-f5df-41bd-8d95-b08d5a3705a4 div.sk-container {/* jupyter's `normalize.less` sets `[hidden] { display: none; }` but bootstrap.min.css set `[hidden] { display: none !important; }` so we also need the `!important` here to be able to override the default hidden behavior on the sphinx rendered scikit-learn.org. See: https://github.com/scikit-learn/scikit-learn/issues/21755 */display: inline-block !important;position: relative;}#sk-c330c12a-f5df-41bd-8d95-b08d5a3705a4 div.sk-text-repr-fallback {display: none;}</style><div id=\"sk-c330c12a-f5df-41bd-8d95-b08d5a3705a4\" class=\"sk-top-container\"><div class=\"sk-text-repr-fallback\"><pre>GridSearchCV(cv=5,\n",
              "             estimator=Pipeline(steps=[(&#x27;trf1&#x27;,\n",
              "                                        ColumnTransformer(remainder=&#x27;passthrough&#x27;,\n",
              "                                                          transformers=[(&#x27;impute_age&#x27;,\n",
              "                                                                         SimpleImputer(),\n",
              "                                                                         [2]),\n",
              "                                                                        (&#x27;impute_embarked&#x27;,\n",
              "                                                                         SimpleImputer(strategy=&#x27;most_frequent&#x27;),\n",
              "                                                                         [6])])),\n",
              "                                       (&#x27;trf2&#x27;,\n",
              "                                        ColumnTransformer(remainder=&#x27;passthrough&#x27;,\n",
              "                                                          transformers=[(&#x27;ohe_sex_embarked&#x27;,\n",
              "                                                                         OneHotEncoder(handle_unknown=&#x27;ignore&#x27;,\n",
              "                                                                                       sparse=False),\n",
              "                                                                         [1,\n",
              "                                                                          6])])),\n",
              "                                       (&#x27;trf3&#x27;,\n",
              "                                        ColumnTransformer(transformers=[(&#x27;scale&#x27;,\n",
              "                                                                         MinMaxScaler(),\n",
              "                                                                         slice(0, 10, None))])),\n",
              "                                       (&#x27;trf4&#x27;,\n",
              "                                        SelectKBest(k=8,\n",
              "                                                    score_func=&lt;function chi2 at 0x7fba67d09f80&gt;)),\n",
              "                                       (&#x27;trf5&#x27;, DecisionTreeClassifier())]),\n",
              "             param_grid={&#x27;trf5__max_depth&#x27;: [1, 2, 3, 4, 5, None]},\n",
              "             scoring=&#x27;accuracy&#x27;)</pre><b>Please rerun this cell to show the HTML repr or trust the notebook.</b></div><div class=\"sk-container\" hidden><div class=\"sk-item sk-dashed-wrapped\"><div class=\"sk-label-container\"><div class=\"sk-label sk-toggleable\"><input class=\"sk-toggleable__control sk-hidden--visually\" id=\"0ffe887b-e661-4dbc-b26e-3f276303ce3e\" type=\"checkbox\" ><label for=\"0ffe887b-e661-4dbc-b26e-3f276303ce3e\" class=\"sk-toggleable__label sk-toggleable__label-arrow\">GridSearchCV</label><div class=\"sk-toggleable__content\"><pre>GridSearchCV(cv=5,\n",
              "             estimator=Pipeline(steps=[(&#x27;trf1&#x27;,\n",
              "                                        ColumnTransformer(remainder=&#x27;passthrough&#x27;,\n",
              "                                                          transformers=[(&#x27;impute_age&#x27;,\n",
              "                                                                         SimpleImputer(),\n",
              "                                                                         [2]),\n",
              "                                                                        (&#x27;impute_embarked&#x27;,\n",
              "                                                                         SimpleImputer(strategy=&#x27;most_frequent&#x27;),\n",
              "                                                                         [6])])),\n",
              "                                       (&#x27;trf2&#x27;,\n",
              "                                        ColumnTransformer(remainder=&#x27;passthrough&#x27;,\n",
              "                                                          transformers=[(&#x27;ohe_sex_embarked&#x27;,\n",
              "                                                                         OneHotEncoder(handle_unknown=&#x27;ignore&#x27;,\n",
              "                                                                                       sparse=False),\n",
              "                                                                         [1,\n",
              "                                                                          6])])),\n",
              "                                       (&#x27;trf3&#x27;,\n",
              "                                        ColumnTransformer(transformers=[(&#x27;scale&#x27;,\n",
              "                                                                         MinMaxScaler(),\n",
              "                                                                         slice(0, 10, None))])),\n",
              "                                       (&#x27;trf4&#x27;,\n",
              "                                        SelectKBest(k=8,\n",
              "                                                    score_func=&lt;function chi2 at 0x7fba67d09f80&gt;)),\n",
              "                                       (&#x27;trf5&#x27;, DecisionTreeClassifier())]),\n",
              "             param_grid={&#x27;trf5__max_depth&#x27;: [1, 2, 3, 4, 5, None]},\n",
              "             scoring=&#x27;accuracy&#x27;)</pre></div></div></div><div class=\"sk-parallel\"><div class=\"sk-parallel-item\"><div class=\"sk-item\"><div class=\"sk-serial\"><div class=\"sk-item\"><div class=\"sk-serial\"><div class=\"sk-item sk-dashed-wrapped\"><div class=\"sk-label-container\"><div class=\"sk-label sk-toggleable\"><input class=\"sk-toggleable__control sk-hidden--visually\" id=\"10717e25-41aa-4427-bd57-005a33b33979\" type=\"checkbox\" ><label for=\"10717e25-41aa-4427-bd57-005a33b33979\" class=\"sk-toggleable__label sk-toggleable__label-arrow\">trf1: ColumnTransformer</label><div class=\"sk-toggleable__content\"><pre>ColumnTransformer(remainder=&#x27;passthrough&#x27;,\n",
              "                  transformers=[(&#x27;impute_age&#x27;, SimpleImputer(), [2]),\n",
              "                                (&#x27;impute_embarked&#x27;,\n",
              "                                 SimpleImputer(strategy=&#x27;most_frequent&#x27;),\n",
              "                                 [6])])</pre></div></div></div><div class=\"sk-parallel\"><div class=\"sk-parallel-item\"><div class=\"sk-item\"><div class=\"sk-label-container\"><div class=\"sk-label sk-toggleable\"><input class=\"sk-toggleable__control sk-hidden--visually\" id=\"75954dda-ba47-4620-a7df-fc3c9ea0160e\" type=\"checkbox\" ><label for=\"75954dda-ba47-4620-a7df-fc3c9ea0160e\" class=\"sk-toggleable__label sk-toggleable__label-arrow\">impute_age</label><div class=\"sk-toggleable__content\"><pre>[2]</pre></div></div></div><div class=\"sk-serial\"><div class=\"sk-item\"><div class=\"sk-estimator sk-toggleable\"><input class=\"sk-toggleable__control sk-hidden--visually\" id=\"4469f97d-f8fd-4044-a041-127c815726dd\" type=\"checkbox\" ><label for=\"4469f97d-f8fd-4044-a041-127c815726dd\" class=\"sk-toggleable__label sk-toggleable__label-arrow\">SimpleImputer</label><div class=\"sk-toggleable__content\"><pre>SimpleImputer()</pre></div></div></div></div></div></div><div class=\"sk-parallel-item\"><div class=\"sk-item\"><div class=\"sk-label-container\"><div class=\"sk-label sk-toggleable\"><input class=\"sk-toggleable__control sk-hidden--visually\" id=\"ba0942f1-7c4f-47ff-9e35-b442b66f68de\" type=\"checkbox\" ><label for=\"ba0942f1-7c4f-47ff-9e35-b442b66f68de\" class=\"sk-toggleable__label sk-toggleable__label-arrow\">impute_embarked</label><div class=\"sk-toggleable__content\"><pre>[6]</pre></div></div></div><div class=\"sk-serial\"><div class=\"sk-item\"><div class=\"sk-estimator sk-toggleable\"><input class=\"sk-toggleable__control sk-hidden--visually\" id=\"41bccc5c-9f13-461e-8069-db9ee8d024ed\" type=\"checkbox\" ><label for=\"41bccc5c-9f13-461e-8069-db9ee8d024ed\" class=\"sk-toggleable__label sk-toggleable__label-arrow\">SimpleImputer</label><div class=\"sk-toggleable__content\"><pre>SimpleImputer(strategy=&#x27;most_frequent&#x27;)</pre></div></div></div></div></div></div><div class=\"sk-parallel-item\"><div class=\"sk-item\"><div class=\"sk-label-container\"><div class=\"sk-label sk-toggleable\"><input class=\"sk-toggleable__control sk-hidden--visually\" id=\"d75143fb-8a13-4634-b46e-547cd8acbd1b\" type=\"checkbox\" ><label for=\"d75143fb-8a13-4634-b46e-547cd8acbd1b\" class=\"sk-toggleable__label sk-toggleable__label-arrow\">remainder</label><div class=\"sk-toggleable__content\"><pre>[&#x27;Pclass&#x27;, &#x27;Sex&#x27;, &#x27;SibSp&#x27;, &#x27;Parch&#x27;, &#x27;Fare&#x27;]</pre></div></div></div><div class=\"sk-serial\"><div class=\"sk-item\"><div class=\"sk-estimator sk-toggleable\"><input class=\"sk-toggleable__control sk-hidden--visually\" id=\"e595ddf0-4480-4308-893f-aad481fadc0f\" type=\"checkbox\" ><label for=\"e595ddf0-4480-4308-893f-aad481fadc0f\" class=\"sk-toggleable__label sk-toggleable__label-arrow\">passthrough</label><div class=\"sk-toggleable__content\"><pre>passthrough</pre></div></div></div></div></div></div></div></div><div class=\"sk-item sk-dashed-wrapped\"><div class=\"sk-label-container\"><div class=\"sk-label sk-toggleable\"><input class=\"sk-toggleable__control sk-hidden--visually\" id=\"43a0889e-e066-4101-a4fc-6e5efd45ad50\" type=\"checkbox\" ><label for=\"43a0889e-e066-4101-a4fc-6e5efd45ad50\" class=\"sk-toggleable__label sk-toggleable__label-arrow\">trf2: ColumnTransformer</label><div class=\"sk-toggleable__content\"><pre>ColumnTransformer(remainder=&#x27;passthrough&#x27;,\n",
              "                  transformers=[(&#x27;ohe_sex_embarked&#x27;,\n",
              "                                 OneHotEncoder(handle_unknown=&#x27;ignore&#x27;,\n",
              "                                               sparse=False),\n",
              "                                 [1, 6])])</pre></div></div></div><div class=\"sk-parallel\"><div class=\"sk-parallel-item\"><div class=\"sk-item\"><div class=\"sk-label-container\"><div class=\"sk-label sk-toggleable\"><input class=\"sk-toggleable__control sk-hidden--visually\" id=\"ad76e1d4-2ec6-40e4-91e1-51092b6a787a\" type=\"checkbox\" ><label for=\"ad76e1d4-2ec6-40e4-91e1-51092b6a787a\" class=\"sk-toggleable__label sk-toggleable__label-arrow\">ohe_sex_embarked</label><div class=\"sk-toggleable__content\"><pre>[1, 6]</pre></div></div></div><div class=\"sk-serial\"><div class=\"sk-item\"><div class=\"sk-estimator sk-toggleable\"><input class=\"sk-toggleable__control sk-hidden--visually\" id=\"0f13e6ad-c59d-4765-8bb6-bd685617c80c\" type=\"checkbox\" ><label for=\"0f13e6ad-c59d-4765-8bb6-bd685617c80c\" class=\"sk-toggleable__label sk-toggleable__label-arrow\">OneHotEncoder</label><div class=\"sk-toggleable__content\"><pre>OneHotEncoder(handle_unknown=&#x27;ignore&#x27;, sparse=False)</pre></div></div></div></div></div></div><div class=\"sk-parallel-item\"><div class=\"sk-item\"><div class=\"sk-label-container\"><div class=\"sk-label sk-toggleable\"><input class=\"sk-toggleable__control sk-hidden--visually\" id=\"1be48667-2ae8-480b-b5ca-4eb2c17233da\" type=\"checkbox\" ><label for=\"1be48667-2ae8-480b-b5ca-4eb2c17233da\" class=\"sk-toggleable__label sk-toggleable__label-arrow\">remainder</label><div class=\"sk-toggleable__content\"><pre>[0, 2, 3, 4, 5]</pre></div></div></div><div class=\"sk-serial\"><div class=\"sk-item\"><div class=\"sk-estimator sk-toggleable\"><input class=\"sk-toggleable__control sk-hidden--visually\" id=\"d417f738-c3ed-4d4e-87df-7aee8103351c\" type=\"checkbox\" ><label for=\"d417f738-c3ed-4d4e-87df-7aee8103351c\" class=\"sk-toggleable__label sk-toggleable__label-arrow\">passthrough</label><div class=\"sk-toggleable__content\"><pre>passthrough</pre></div></div></div></div></div></div></div></div><div class=\"sk-item sk-dashed-wrapped\"><div class=\"sk-label-container\"><div class=\"sk-label sk-toggleable\"><input class=\"sk-toggleable__control sk-hidden--visually\" id=\"b767d31c-266e-491c-b343-9cbb04d31072\" type=\"checkbox\" ><label for=\"b767d31c-266e-491c-b343-9cbb04d31072\" class=\"sk-toggleable__label sk-toggleable__label-arrow\">trf3: ColumnTransformer</label><div class=\"sk-toggleable__content\"><pre>ColumnTransformer(transformers=[(&#x27;scale&#x27;, MinMaxScaler(), slice(0, 10, None))])</pre></div></div></div><div class=\"sk-parallel\"><div class=\"sk-parallel-item\"><div class=\"sk-item\"><div class=\"sk-label-container\"><div class=\"sk-label sk-toggleable\"><input class=\"sk-toggleable__control sk-hidden--visually\" id=\"c66a6dc7-6ea4-4b8a-8d07-b549f13e1f4d\" type=\"checkbox\" ><label for=\"c66a6dc7-6ea4-4b8a-8d07-b549f13e1f4d\" class=\"sk-toggleable__label sk-toggleable__label-arrow\">scale</label><div class=\"sk-toggleable__content\"><pre>slice(0, 10, None)</pre></div></div></div><div class=\"sk-serial\"><div class=\"sk-item\"><div class=\"sk-estimator sk-toggleable\"><input class=\"sk-toggleable__control sk-hidden--visually\" id=\"8bada2d0-0002-492a-8f70-31405e690542\" type=\"checkbox\" ><label for=\"8bada2d0-0002-492a-8f70-31405e690542\" class=\"sk-toggleable__label sk-toggleable__label-arrow\">MinMaxScaler</label><div class=\"sk-toggleable__content\"><pre>MinMaxScaler()</pre></div></div></div></div></div></div></div></div><div class=\"sk-item\"><div class=\"sk-estimator sk-toggleable\"><input class=\"sk-toggleable__control sk-hidden--visually\" id=\"8d39b0ed-f418-4fb9-953b-aefce78077fb\" type=\"checkbox\" ><label for=\"8d39b0ed-f418-4fb9-953b-aefce78077fb\" class=\"sk-toggleable__label sk-toggleable__label-arrow\">SelectKBest</label><div class=\"sk-toggleable__content\"><pre>SelectKBest(k=8, score_func=&lt;function chi2 at 0x7fba67d09f80&gt;)</pre></div></div></div><div class=\"sk-item\"><div class=\"sk-estimator sk-toggleable\"><input class=\"sk-toggleable__control sk-hidden--visually\" id=\"a331b7dd-c118-48e3-9637-d029e55df6a7\" type=\"checkbox\" ><label for=\"a331b7dd-c118-48e3-9637-d029e55df6a7\" class=\"sk-toggleable__label sk-toggleable__label-arrow\">DecisionTreeClassifier</label><div class=\"sk-toggleable__content\"><pre>DecisionTreeClassifier()</pre></div></div></div></div></div></div></div></div></div></div></div></div>"
            ],
            "text/plain": [
              "GridSearchCV(cv=5,\n",
              "             estimator=Pipeline(steps=[('trf1',\n",
              "                                        ColumnTransformer(remainder='passthrough',\n",
              "                                                          transformers=[('impute_age',\n",
              "                                                                         SimpleImputer(),\n",
              "                                                                         [2]),\n",
              "                                                                        ('impute_embarked',\n",
              "                                                                         SimpleImputer(strategy='most_frequent'),\n",
              "                                                                         [6])])),\n",
              "                                       ('trf2',\n",
              "                                        ColumnTransformer(remainder='passthrough',\n",
              "                                                          transformers=[('ohe_sex_embarked',\n",
              "                                                                         OneHotEncoder(handle_unknown='ignore',\n",
              "                                                                                       sparse=False),\n",
              "                                                                         [1,\n",
              "                                                                          6])])),\n",
              "                                       ('trf3',\n",
              "                                        ColumnTransformer(transformers=[('scale',\n",
              "                                                                         MinMaxScaler(),\n",
              "                                                                         slice(0, 10, None))])),\n",
              "                                       ('trf4',\n",
              "                                        SelectKBest(k=8,\n",
              "                                                    score_func=<function chi2 at 0x7fba67d09f80>)),\n",
              "                                       ('trf5', DecisionTreeClassifier())]),\n",
              "             param_grid={'trf5__max_depth': [1, 2, 3, 4, 5, None]},\n",
              "             scoring='accuracy')"
            ]
          },
          "metadata": {},
          "execution_count": 49
        }
      ]
    },
    {
      "cell_type": "code",
      "source": [
        "grid.best_score_"
      ],
      "metadata": {
        "colab": {
          "base_uri": "https://localhost:8080/"
        },
        "id": "esdH-lNAx3rg",
        "outputId": "292e7a87-1587-4ef5-9d4d-b053c0688f58"
      },
      "execution_count": 50,
      "outputs": [
        {
          "output_type": "execute_result",
          "data": {
            "text/plain": [
              "0.6391214419383433"
            ]
          },
          "metadata": {},
          "execution_count": 50
        }
      ]
    },
    {
      "cell_type": "code",
      "source": [
        "grid.best_params_"
      ],
      "metadata": {
        "colab": {
          "base_uri": "https://localhost:8080/"
        },
        "id": "1EOHIohqx_rS",
        "outputId": "955fe0b9-dcb9-4e4e-bc64-4c1945a9b88e"
      },
      "execution_count": 51,
      "outputs": [
        {
          "output_type": "execute_result",
          "data": {
            "text/plain": [
              "{'trf5__max_depth': 2}"
            ]
          },
          "metadata": {},
          "execution_count": 51
        }
      ]
    },
    {
      "cell_type": "markdown",
      "source": [
        "# Exporting the pipeline"
      ],
      "metadata": {
        "id": "lh5liU_XyGY3"
      }
    },
    {
      "cell_type": "code",
      "source": [
        "# export\n",
        "import pickle\n",
        "pickle.dump(pipe, open(\"pipe.pkl\", \"wb\"))"
      ],
      "metadata": {
        "id": "d5g-0hR1yBaU"
      },
      "execution_count": 52,
      "outputs": []
    }
  ]
}

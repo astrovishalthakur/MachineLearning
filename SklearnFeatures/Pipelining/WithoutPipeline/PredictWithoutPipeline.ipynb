{
  "nbformat": 4,
  "nbformat_minor": 0,
  "metadata": {
    "colab": {
      "name": "PredictWithoutPipeline.ipynb",
      "provenance": [],
      "authorship_tag": "ABX9TyPytd0zd0+ksdr6zT9xydca",
      "include_colab_link": true
    },
    "kernelspec": {
      "name": "python3",
      "display_name": "Python 3"
    },
    "language_info": {
      "name": "python"
    }
  },
  "cells": [
    {
      "cell_type": "markdown",
      "metadata": {
        "id": "view-in-github",
        "colab_type": "text"
      },
      "source": [
        "<a href=\"https://colab.research.google.com/github/astrovishalthakur/MachineLearning/blob/main/SklearnFeatures/Pipelining/WithoutPipeline/PredictWithoutPipeline.ipynb\" target=\"_parent\"><img src=\"https://colab.research.google.com/assets/colab-badge.svg\" alt=\"Open In Colab\"/></a>"
      ]
    },
    {
      "cell_type": "code",
      "execution_count": 1,
      "metadata": {
        "id": "60oM3M_wwIBD"
      },
      "outputs": [],
      "source": [
        "import pickle\n",
        "import numpy as np\n"
      ]
    },
    {
      "cell_type": "code",
      "source": [
        "ohe_sex = pickle.load(open(\"ohe_sex.pkl\", \"rb\"))\n",
        "ohe_embarked = pickle.load(open(\"ohe_embarked.pkl\", \"rb\"))\n",
        "clf = pickle.load(open(\"clf.pkl\", \"rb\"))"
      ],
      "metadata": {
        "id": "wsFlEjXewWy3"
      },
      "execution_count": 2,
      "outputs": []
    },
    {
      "cell_type": "code",
      "source": [
        "# Assume user input \n",
        "#Pclass/gender/age.SibSp/Parch/Fare/Embarked\n",
        "\n",
        "test_input = np.array([2, \"male\", 31.0, 0, 0, 10.5, \"S\"], dtype=object).reshape(1,7)"
      ],
      "metadata": {
        "id": "NsXVu4ACzxEU"
      },
      "execution_count": 3,
      "outputs": []
    },
    {
      "cell_type": "code",
      "source": [
        "test_input"
      ],
      "metadata": {
        "colab": {
          "base_uri": "https://localhost:8080/"
        },
        "id": "OWZew0jO0MyE",
        "outputId": "d5312732-6109-4606-bd2d-b601ec7f528b"
      },
      "execution_count": 4,
      "outputs": [
        {
          "output_type": "execute_result",
          "data": {
            "text/plain": [
              "array([[2, 'male', 31.0, 0, 0, 10.5, 'S']], dtype=object)"
            ]
          },
          "metadata": {},
          "execution_count": 4
        }
      ]
    },
    {
      "cell_type": "code",
      "source": [
        "test_input_sex = ohe_sex.transform(test_input[:,1].reshape(1, 1))"
      ],
      "metadata": {
        "colab": {
          "base_uri": "https://localhost:8080/"
        },
        "id": "4wMbXc_L0N09",
        "outputId": "12fc1e1e-5dd3-4507-dda2-dd3ec0ca4efd"
      },
      "execution_count": 6,
      "outputs": [
        {
          "output_type": "stream",
          "name": "stderr",
          "text": [
            "/usr/local/lib/python3.7/dist-packages/sklearn/base.py:451: UserWarning: X does not have valid feature names, but OneHotEncoder was fitted with feature names\n",
            "  \"X does not have valid feature names, but\"\n"
          ]
        }
      ]
    },
    {
      "cell_type": "code",
      "source": [
        "test_input_sex"
      ],
      "metadata": {
        "colab": {
          "base_uri": "https://localhost:8080/"
        },
        "id": "2e42xjfO0c07",
        "outputId": "be05db7b-8bea-4169-b13f-8e11d08ea270"
      },
      "execution_count": 7,
      "outputs": [
        {
          "output_type": "execute_result",
          "data": {
            "text/plain": [
              "array([[0., 1.]])"
            ]
          },
          "metadata": {},
          "execution_count": 7
        }
      ]
    },
    {
      "cell_type": "code",
      "source": [
        "ohe_sex.get_feature_names()"
      ],
      "metadata": {
        "colab": {
          "base_uri": "https://localhost:8080/"
        },
        "id": "05Ac99kO08Hw",
        "outputId": "75e29bca-792e-4efb-b18d-31b39ac29463"
      },
      "execution_count": 8,
      "outputs": [
        {
          "output_type": "stream",
          "name": "stderr",
          "text": [
            "/usr/local/lib/python3.7/dist-packages/sklearn/utils/deprecation.py:87: FutureWarning: Function get_feature_names is deprecated; get_feature_names is deprecated in 1.0 and will be removed in 1.2. Please use get_feature_names_out instead.\n",
            "  warnings.warn(msg, category=FutureWarning)\n"
          ]
        },
        {
          "output_type": "execute_result",
          "data": {
            "text/plain": [
              "array(['x0_female', 'x0_male'], dtype=object)"
            ]
          },
          "metadata": {},
          "execution_count": 8
        }
      ]
    },
    {
      "cell_type": "code",
      "source": [
        "test_input_embarked = ohe_embarked.transform(test_input[:, -1].reshape(1, 1))"
      ],
      "metadata": {
        "id": "2NtCbspk0ybE"
      },
      "execution_count": 9,
      "outputs": []
    },
    {
      "cell_type": "code",
      "source": [
        "test_input_embarked"
      ],
      "metadata": {
        "colab": {
          "base_uri": "https://localhost:8080/"
        },
        "id": "yvAcbb_71RpJ",
        "outputId": "a02e5982-b058-49c9-a800-70568b660176"
      },
      "execution_count": 10,
      "outputs": [
        {
          "output_type": "execute_result",
          "data": {
            "text/plain": [
              "array([[0., 0., 1.]])"
            ]
          },
          "metadata": {},
          "execution_count": 10
        }
      ]
    },
    {
      "cell_type": "code",
      "source": [
        "ohe_embarked.get_feature_names()"
      ],
      "metadata": {
        "colab": {
          "base_uri": "https://localhost:8080/"
        },
        "id": "Pj6ts9yl1TYQ",
        "outputId": "27633a74-59b7-4705-f809-aae73f0fd6e0"
      },
      "execution_count": 11,
      "outputs": [
        {
          "output_type": "stream",
          "name": "stderr",
          "text": [
            "/usr/local/lib/python3.7/dist-packages/sklearn/utils/deprecation.py:87: FutureWarning: Function get_feature_names is deprecated; get_feature_names is deprecated in 1.0 and will be removed in 1.2. Please use get_feature_names_out instead.\n",
            "  warnings.warn(msg, category=FutureWarning)\n"
          ]
        },
        {
          "output_type": "execute_result",
          "data": {
            "text/plain": [
              "array(['x0_C', 'x0_Q', 'x0_S'], dtype=object)"
            ]
          },
          "metadata": {},
          "execution_count": 11
        }
      ]
    },
    {
      "cell_type": "code",
      "source": [
        "test_input_age = test_input[:,2].reshape(1, 1)"
      ],
      "metadata": {
        "id": "RDL0qibV1VBG"
      },
      "execution_count": 12,
      "outputs": []
    },
    {
      "cell_type": "code",
      "source": [
        "test_input_transformed = np.concatenate((test_input[:,[0, 3, 4, 5]], test_input_age, test_input_sex, test_input_embarked), axis=1)"
      ],
      "metadata": {
        "id": "h0N3k23Z1kZM"
      },
      "execution_count": 13,
      "outputs": []
    },
    {
      "cell_type": "code",
      "source": [
        "test_input_transformed"
      ],
      "metadata": {
        "colab": {
          "base_uri": "https://localhost:8080/"
        },
        "id": "tUJCYjGY16rO",
        "outputId": "c69148dc-4fe3-4503-88d3-e24f51ab9245"
      },
      "execution_count": 21,
      "outputs": [
        {
          "output_type": "execute_result",
          "data": {
            "text/plain": [
              "array([[2, 0, 0, 10.5, 31.0, 0.0, 1.0, 0.0, 0.0, 1.0]], dtype=object)"
            ]
          },
          "metadata": {},
          "execution_count": 21
        }
      ]
    },
    {
      "cell_type": "code",
      "source": [
        "clf.predict(test_input_transformed)"
      ],
      "metadata": {
        "colab": {
          "base_uri": "https://localhost:8080/"
        },
        "id": "NAfH2O2l2Ami",
        "outputId": "368e3594-d15b-4d94-e0fb-d4ca8f1b59c2"
      },
      "execution_count": 15,
      "outputs": [
        {
          "output_type": "execute_result",
          "data": {
            "text/plain": [
              "array([0])"
            ]
          },
          "metadata": {},
          "execution_count": 15
        }
      ]
    },
    {
      "cell_type": "code",
      "source": [
        ""
      ],
      "metadata": {
        "id": "sS9qiL8R2WYM"
      },
      "execution_count": null,
      "outputs": []
    }
  ]
}
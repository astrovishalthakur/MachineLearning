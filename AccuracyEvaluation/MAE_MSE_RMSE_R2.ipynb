{
  "nbformat": 4,
  "nbformat_minor": 0,
  "metadata": {
    "colab": {
      "name": "ML_AccuarcyCheckMetrics.ipynb",
      "provenance": [],
      "authorship_tag": "ABX9TyNi9PEgQq8OPfbC147sBUZ6",
      "include_colab_link": true
    },
    "kernelspec": {
      "name": "python3",
      "display_name": "Python 3"
    },
    "language_info": {
      "name": "python"
    }
  },
  "cells": [
    {
      "cell_type": "markdown",
      "metadata": {
        "id": "view-in-github",
        "colab_type": "text"
      },
      "source": [
        "<a href=\"https://colab.research.google.com/github/astrovishalthakur/MachineLearning/blob/main/AccuracyEvaluation/MAE_MSE_RMSE_R2.ipynb\" target=\"_parent\"><img src=\"https://colab.research.google.com/assets/colab-badge.svg\" alt=\"Open In Colab\"/></a>"
      ]
    },
    {
      "cell_type": "code",
      "execution_count": 1,
      "metadata": {
        "id": "zsEATh1xVwvN"
      },
      "outputs": [],
      "source": [
        "import pandas as pd"
      ]
    },
    {
      "cell_type": "code",
      "source": [
        "import numpy as np\n",
        "import matplotlib.pyplot as plt\n"
      ],
      "metadata": {
        "id": "yLS6vd6xWQPh"
      },
      "execution_count": 2,
      "outputs": []
    },
    {
      "cell_type": "code",
      "source": [
        "import warnings\n",
        "warnings.filterwarnings('ignore')"
      ],
      "metadata": {
        "id": "7m5TItsfZMoW"
      },
      "execution_count": 3,
      "outputs": []
    },
    {
      "cell_type": "code",
      "source": [
        "url = \"https://raw.githubusercontent.com/astrovishalthakur/100-days-of-machine-learning/main/day49-regression-metrics/placement.csv\""
      ],
      "metadata": {
        "id": "jtV3yHDMWYYa"
      },
      "execution_count": 4,
      "outputs": []
    },
    {
      "cell_type": "code",
      "source": [
        "df = pd.read_csv(url)"
      ],
      "metadata": {
        "id": "T0dJ5j61WU8I"
      },
      "execution_count": 5,
      "outputs": []
    },
    {
      "cell_type": "code",
      "source": [
        "df.head()"
      ],
      "metadata": {
        "colab": {
          "base_uri": "https://localhost:8080/",
          "height": 206
        },
        "id": "9UxHujHaWZzo",
        "outputId": "d3698d9c-bda3-4f35-9ef8-4904c92c7946"
      },
      "execution_count": 6,
      "outputs": [
        {
          "output_type": "execute_result",
          "data": {
            "text/html": [
              "\n",
              "  <div id=\"df-37151771-4127-4502-8187-85a9354252ee\">\n",
              "    <div class=\"colab-df-container\">\n",
              "      <div>\n",
              "<style scoped>\n",
              "    .dataframe tbody tr th:only-of-type {\n",
              "        vertical-align: middle;\n",
              "    }\n",
              "\n",
              "    .dataframe tbody tr th {\n",
              "        vertical-align: top;\n",
              "    }\n",
              "\n",
              "    .dataframe thead th {\n",
              "        text-align: right;\n",
              "    }\n",
              "</style>\n",
              "<table border=\"1\" class=\"dataframe\">\n",
              "  <thead>\n",
              "    <tr style=\"text-align: right;\">\n",
              "      <th></th>\n",
              "      <th>cgpa</th>\n",
              "      <th>package</th>\n",
              "    </tr>\n",
              "  </thead>\n",
              "  <tbody>\n",
              "    <tr>\n",
              "      <th>0</th>\n",
              "      <td>6.89</td>\n",
              "      <td>3.26</td>\n",
              "    </tr>\n",
              "    <tr>\n",
              "      <th>1</th>\n",
              "      <td>5.12</td>\n",
              "      <td>1.98</td>\n",
              "    </tr>\n",
              "    <tr>\n",
              "      <th>2</th>\n",
              "      <td>7.82</td>\n",
              "      <td>3.25</td>\n",
              "    </tr>\n",
              "    <tr>\n",
              "      <th>3</th>\n",
              "      <td>7.42</td>\n",
              "      <td>3.67</td>\n",
              "    </tr>\n",
              "    <tr>\n",
              "      <th>4</th>\n",
              "      <td>6.94</td>\n",
              "      <td>3.57</td>\n",
              "    </tr>\n",
              "  </tbody>\n",
              "</table>\n",
              "</div>\n",
              "      <button class=\"colab-df-convert\" onclick=\"convertToInteractive('df-37151771-4127-4502-8187-85a9354252ee')\"\n",
              "              title=\"Convert this dataframe to an interactive table.\"\n",
              "              style=\"display:none;\">\n",
              "        \n",
              "  <svg xmlns=\"http://www.w3.org/2000/svg\" height=\"24px\"viewBox=\"0 0 24 24\"\n",
              "       width=\"24px\">\n",
              "    <path d=\"M0 0h24v24H0V0z\" fill=\"none\"/>\n",
              "    <path d=\"M18.56 5.44l.94 2.06.94-2.06 2.06-.94-2.06-.94-.94-2.06-.94 2.06-2.06.94zm-11 1L8.5 8.5l.94-2.06 2.06-.94-2.06-.94L8.5 2.5l-.94 2.06-2.06.94zm10 10l.94 2.06.94-2.06 2.06-.94-2.06-.94-.94-2.06-.94 2.06-2.06.94z\"/><path d=\"M17.41 7.96l-1.37-1.37c-.4-.4-.92-.59-1.43-.59-.52 0-1.04.2-1.43.59L10.3 9.45l-7.72 7.72c-.78.78-.78 2.05 0 2.83L4 21.41c.39.39.9.59 1.41.59.51 0 1.02-.2 1.41-.59l7.78-7.78 2.81-2.81c.8-.78.8-2.07 0-2.86zM5.41 20L4 18.59l7.72-7.72 1.47 1.35L5.41 20z\"/>\n",
              "  </svg>\n",
              "      </button>\n",
              "      \n",
              "  <style>\n",
              "    .colab-df-container {\n",
              "      display:flex;\n",
              "      flex-wrap:wrap;\n",
              "      gap: 12px;\n",
              "    }\n",
              "\n",
              "    .colab-df-convert {\n",
              "      background-color: #E8F0FE;\n",
              "      border: none;\n",
              "      border-radius: 50%;\n",
              "      cursor: pointer;\n",
              "      display: none;\n",
              "      fill: #1967D2;\n",
              "      height: 32px;\n",
              "      padding: 0 0 0 0;\n",
              "      width: 32px;\n",
              "    }\n",
              "\n",
              "    .colab-df-convert:hover {\n",
              "      background-color: #E2EBFA;\n",
              "      box-shadow: 0px 1px 2px rgba(60, 64, 67, 0.3), 0px 1px 3px 1px rgba(60, 64, 67, 0.15);\n",
              "      fill: #174EA6;\n",
              "    }\n",
              "\n",
              "    [theme=dark] .colab-df-convert {\n",
              "      background-color: #3B4455;\n",
              "      fill: #D2E3FC;\n",
              "    }\n",
              "\n",
              "    [theme=dark] .colab-df-convert:hover {\n",
              "      background-color: #434B5C;\n",
              "      box-shadow: 0px 1px 3px 1px rgba(0, 0, 0, 0.15);\n",
              "      filter: drop-shadow(0px 1px 2px rgba(0, 0, 0, 0.3));\n",
              "      fill: #FFFFFF;\n",
              "    }\n",
              "  </style>\n",
              "\n",
              "      <script>\n",
              "        const buttonEl =\n",
              "          document.querySelector('#df-37151771-4127-4502-8187-85a9354252ee button.colab-df-convert');\n",
              "        buttonEl.style.display =\n",
              "          google.colab.kernel.accessAllowed ? 'block' : 'none';\n",
              "\n",
              "        async function convertToInteractive(key) {\n",
              "          const element = document.querySelector('#df-37151771-4127-4502-8187-85a9354252ee');\n",
              "          const dataTable =\n",
              "            await google.colab.kernel.invokeFunction('convertToInteractive',\n",
              "                                                     [key], {});\n",
              "          if (!dataTable) return;\n",
              "\n",
              "          const docLinkHtml = 'Like what you see? Visit the ' +\n",
              "            '<a target=\"_blank\" href=https://colab.research.google.com/notebooks/data_table.ipynb>data table notebook</a>'\n",
              "            + ' to learn more about interactive tables.';\n",
              "          element.innerHTML = '';\n",
              "          dataTable['output_type'] = 'display_data';\n",
              "          await google.colab.output.renderOutput(dataTable, element);\n",
              "          const docLink = document.createElement('div');\n",
              "          docLink.innerHTML = docLinkHtml;\n",
              "          element.appendChild(docLink);\n",
              "        }\n",
              "      </script>\n",
              "    </div>\n",
              "  </div>\n",
              "  "
            ],
            "text/plain": [
              "   cgpa  package\n",
              "0  6.89     3.26\n",
              "1  5.12     1.98\n",
              "2  7.82     3.25\n",
              "3  7.42     3.67\n",
              "4  6.94     3.57"
            ]
          },
          "metadata": {},
          "execution_count": 6
        }
      ]
    },
    {
      "cell_type": "code",
      "source": [
        "plt.scatter(df.cgpa, df.package)\n",
        "plt.xlabel(\"CGPA\")\n",
        "plt.ylabel(\"Pacage(In LPA)\")"
      ],
      "metadata": {
        "colab": {
          "base_uri": "https://localhost:8080/",
          "height": 297
        },
        "id": "TUJ2J_dOWa0t",
        "outputId": "568be666-18f6-4e84-830a-fa1567ee5153"
      },
      "execution_count": 7,
      "outputs": [
        {
          "output_type": "execute_result",
          "data": {
            "text/plain": [
              "Text(0, 0.5, 'Pacage(In LPA)')"
            ]
          },
          "metadata": {},
          "execution_count": 7
        },
        {
          "output_type": "display_data",
          "data": {
            "image/png": "[encoded data removed]",
            "text/plain": [
              "<Figure size 432x288 with 1 Axes>"
            ]
          },
          "metadata": {
            "needs_background": "light"
          }
        }
      ]
    },
    {
      "cell_type": "code",
      "source": [
        "X = df.iloc[:,0:1]\n",
        "y = df.iloc[:, -1]"
      ],
      "metadata": {
        "id": "yFmeulviWpBi"
      },
      "execution_count": 8,
      "outputs": []
    },
    {
      "cell_type": "code",
      "source": [
        "y"
      ],
      "metadata": {
        "colab": {
          "base_uri": "https://localhost:8080/"
        },
        "id": "ZnP6kF6GW3Xq",
        "outputId": "584c6a9f-ec9c-43ec-dc7a-8f2c6346f4ab"
      },
      "execution_count": 9,
      "outputs": [
        {
          "output_type": "execute_result",
          "data": {
            "text/plain": [
              "0      3.26\n",
              "1      1.98\n",
              "2      3.25\n",
              "3      3.67\n",
              "4      3.57\n",
              "       ... \n",
              "195    2.46\n",
              "196    2.57\n",
              "197    3.24\n",
              "198    3.96\n",
              "199    2.33\n",
              "Name: package, Length: 200, dtype: float64"
            ]
          },
          "metadata": {},
          "execution_count": 9
        }
      ]
    },
    {
      "cell_type": "code",
      "source": [
        "X"
      ],
      "metadata": {
        "colab": {
          "base_uri": "https://localhost:8080/",
          "height": 423
        },
        "id": "qvvwzR0xW35K",
        "outputId": "9558c3f2-bf58-4152-e2f3-177adf5dfcad"
      },
      "execution_count": 10,
      "outputs": [
        {
          "output_type": "execute_result",
          "data": {
            "text/html": [
              "\n",
              "  <div id=\"df-df9f9286-70e5-4604-aaad-6acf6e26a382\">\n",
              "    <div class=\"colab-df-container\">\n",
              "      <div>\n",
              "<style scoped>\n",
              "    .dataframe tbody tr th:only-of-type {\n",
              "        vertical-align: middle;\n",
              "    }\n",
              "\n",
              "    .dataframe tbody tr th {\n",
              "        vertical-align: top;\n",
              "    }\n",
              "\n",
              "    .dataframe thead th {\n",
              "        text-align: right;\n",
              "    }\n",
              "</style>\n",
              "<table border=\"1\" class=\"dataframe\">\n",
              "  <thead>\n",
              "    <tr style=\"text-align: right;\">\n",
              "      <th></th>\n",
              "      <th>cgpa</th>\n",
              "    </tr>\n",
              "  </thead>\n",
              "  <tbody>\n",
              "    <tr>\n",
              "      <th>0</th>\n",
              "      <td>6.89</td>\n",
              "    </tr>\n",
              "    <tr>\n",
              "      <th>1</th>\n",
              "      <td>5.12</td>\n",
              "    </tr>\n",
              "    <tr>\n",
              "      <th>2</th>\n",
              "      <td>7.82</td>\n",
              "    </tr>\n",
              "    <tr>\n",
              "      <th>3</th>\n",
              "      <td>7.42</td>\n",
              "    </tr>\n",
              "    <tr>\n",
              "      <th>4</th>\n",
              "      <td>6.94</td>\n",
              "    </tr>\n",
              "    <tr>\n",
              "      <th>...</th>\n",
              "      <td>...</td>\n",
              "    </tr>\n",
              "    <tr>\n",
              "      <th>195</th>\n",
              "      <td>6.93</td>\n",
              "    </tr>\n",
              "    <tr>\n",
              "      <th>196</th>\n",
              "      <td>5.89</td>\n",
              "    </tr>\n",
              "    <tr>\n",
              "      <th>197</th>\n",
              "      <td>7.21</td>\n",
              "    </tr>\n",
              "    <tr>\n",
              "      <th>198</th>\n",
              "      <td>7.63</td>\n",
              "    </tr>\n",
              "    <tr>\n",
              "      <th>199</th>\n",
              "      <td>6.22</td>\n",
              "    </tr>\n",
              "  </tbody>\n",
              "</table>\n",
              "<p>200 rows × 1 columns</p>\n",
              "</div>\n",
              "      <button class=\"colab-df-convert\" onclick=\"convertToInteractive('df-df9f9286-70e5-4604-aaad-6acf6e26a382')\"\n",
              "              title=\"Convert this dataframe to an interactive table.\"\n",
              "              style=\"display:none;\">\n",
              "        \n",
              "  <svg xmlns=\"http://www.w3.org/2000/svg\" height=\"24px\"viewBox=\"0 0 24 24\"\n",
              "       width=\"24px\">\n",
              "    <path d=\"M0 0h24v24H0V0z\" fill=\"none\"/>\n",
              "    <path d=\"M18.56 5.44l.94 2.06.94-2.06 2.06-.94-2.06-.94-.94-2.06-.94 2.06-2.06.94zm-11 1L8.5 8.5l.94-2.06 2.06-.94-2.06-.94L8.5 2.5l-.94 2.06-2.06.94zm10 10l.94 2.06.94-2.06 2.06-.94-2.06-.94-.94-2.06-.94 2.06-2.06.94z\"/><path d=\"M17.41 7.96l-1.37-1.37c-.4-.4-.92-.59-1.43-.59-.52 0-1.04.2-1.43.59L10.3 9.45l-7.72 7.72c-.78.78-.78 2.05 0 2.83L4 21.41c.39.39.9.59 1.41.59.51 0 1.02-.2 1.41-.59l7.78-7.78 2.81-2.81c.8-.78.8-2.07 0-2.86zM5.41 20L4 18.59l7.72-7.72 1.47 1.35L5.41 20z\"/>\n",
              "  </svg>\n",
              "      </button>\n",
              "      \n",
              "  <style>\n",
              "    .colab-df-container {\n",
              "      display:flex;\n",
              "      flex-wrap:wrap;\n",
              "      gap: 12px;\n",
              "    }\n",
              "\n",
              "    .colab-df-convert {\n",
              "      background-color: #E8F0FE;\n",
              "      border: none;\n",
              "      border-radius: 50%;\n",
              "      cursor: pointer;\n",
              "      display: none;\n",
              "      fill: #1967D2;\n",
              "      height: 32px;\n",
              "      padding: 0 0 0 0;\n",
              "      width: 32px;\n",
              "    }\n",
              "\n",
              "    .colab-df-convert:hover {\n",
              "      background-color: #E2EBFA;\n",
              "      box-shadow: 0px 1px 2px rgba(60, 64, 67, 0.3), 0px 1px 3px 1px rgba(60, 64, 67, 0.15);\n",
              "      fill: #174EA6;\n",
              "    }\n",
              "\n",
              "    [theme=dark] .colab-df-convert {\n",
              "      background-color: #3B4455;\n",
              "      fill: #D2E3FC;\n",
              "    }\n",
              "\n",
              "    [theme=dark] .colab-df-convert:hover {\n",
              "      background-color: #434B5C;\n",
              "      box-shadow: 0px 1px 3px 1px rgba(0, 0, 0, 0.15);\n",
              "      filter: drop-shadow(0px 1px 2px rgba(0, 0, 0, 0.3));\n",
              "      fill: #FFFFFF;\n",
              "    }\n",
              "  </style>\n",
              "\n",
              "      <script>\n",
              "        const buttonEl =\n",
              "          document.querySelector('#df-df9f9286-70e5-4604-aaad-6acf6e26a382 button.colab-df-convert');\n",
              "        buttonEl.style.display =\n",
              "          google.colab.kernel.accessAllowed ? 'block' : 'none';\n",
              "\n",
              "        async function convertToInteractive(key) {\n",
              "          const element = document.querySelector('#df-df9f9286-70e5-4604-aaad-6acf6e26a382');\n",
              "          const dataTable =\n",
              "            await google.colab.kernel.invokeFunction('convertToInteractive',\n",
              "                                                     [key], {});\n",
              "          if (!dataTable) return;\n",
              "\n",
              "          const docLinkHtml = 'Like what you see? Visit the ' +\n",
              "            '<a target=\"_blank\" href=https://colab.research.google.com/notebooks/data_table.ipynb>data table notebook</a>'\n",
              "            + ' to learn more about interactive tables.';\n",
              "          element.innerHTML = '';\n",
              "          dataTable['output_type'] = 'display_data';\n",
              "          await google.colab.output.renderOutput(dataTable, element);\n",
              "          const docLink = document.createElement('div');\n",
              "          docLink.innerHTML = docLinkHtml;\n",
              "          element.appendChild(docLink);\n",
              "        }\n",
              "      </script>\n",
              "    </div>\n",
              "  </div>\n",
              "  "
            ],
            "text/plain": [
              "     cgpa\n",
              "0    6.89\n",
              "1    5.12\n",
              "2    7.82\n",
              "3    7.42\n",
              "4    6.94\n",
              "..    ...\n",
              "195  6.93\n",
              "196  5.89\n",
              "197  7.21\n",
              "198  7.63\n",
              "199  6.22\n",
              "\n",
              "[200 rows x 1 columns]"
            ]
          },
          "metadata": {},
          "execution_count": 10
        }
      ]
    },
    {
      "cell_type": "code",
      "source": [
        "from sklearn.model_selection import train_test_split\n",
        "X_train, X_test, y_train, y_test = train_test_split(X, y, random_state=2, test_size=0.2)"
      ],
      "metadata": {
        "id": "PNAgOaPiW59-"
      },
      "execution_count": 11,
      "outputs": []
    },
    {
      "cell_type": "code",
      "source": [
        "from sklearn.linear_model import LinearRegression"
      ],
      "metadata": {
        "id": "dUNPfKd-XI8i"
      },
      "execution_count": 12,
      "outputs": []
    },
    {
      "cell_type": "code",
      "source": [
        "lr = LinearRegression()"
      ],
      "metadata": {
        "id": "w0NoSP7LXNPp"
      },
      "execution_count": 13,
      "outputs": []
    },
    {
      "cell_type": "code",
      "source": [
        "lr.fit(X_train, y_train)"
      ],
      "metadata": {
        "colab": {
          "base_uri": "https://localhost:8080/"
        },
        "id": "-y_a2d_NXOkR",
        "outputId": "92f1fb1f-a619-418e-d5e3-9b3c5ed68c31"
      },
      "execution_count": 14,
      "outputs": [
        {
          "output_type": "execute_result",
          "data": {
            "text/plain": [
              "LinearRegression()"
            ]
          },
          "metadata": {},
          "execution_count": 14
        }
      ]
    },
    {
      "cell_type": "code",
      "source": [
        "plt.scatter(df.cgpa, df.package)\n",
        "plt.plot(X_train, lr.predict(X_train), color=\"red\")\n",
        "plt.xlabel(\"CGPA\")\n",
        "plt.ylabel(\"Package(in LPA)\")"
      ],
      "metadata": {
        "colab": {
          "base_uri": "https://localhost:8080/",
          "height": 297
        },
        "id": "2dDzBbQ0XQVS",
        "outputId": "e076ef91-bd96-4983-ddf1-c7407de7d2cc"
      },
      "execution_count": 15,
      "outputs": [
        {
          "output_type": "execute_result",
          "data": {
            "text/plain": [
              "Text(0, 0.5, 'Package(in LPA)')"
            ]
          },
          "metadata": {},
          "execution_count": 15
        },
        {
          "output_type": "display_data",
          "data": {
            "image/png": "[encoded data removed]",
            "text/plain": [
              "<Figure size 432x288 with 1 Axes>"
            ]
          },
          "metadata": {
            "needs_background": "light"
          }
        }
      ]
    },
    {
      "cell_type": "markdown",
      "source": [
        "# Mean Absolute Error"
      ],
      "metadata": {
        "id": "i3jpI5EAXo0E"
      }
    },
    {
      "cell_type": "code",
      "source": [
        "y_test.iloc[0]"
      ],
      "metadata": {
        "colab": {
          "base_uri": "https://localhost:8080/"
        },
        "id": "hOASzOBbYmY6",
        "outputId": "a64b8818-1737-4bdf-dfaa-d5d9854620b9"
      },
      "execution_count": 16,
      "outputs": [
        {
          "output_type": "execute_result",
          "data": {
            "text/plain": [
              "4.1"
            ]
          },
          "metadata": {},
          "execution_count": 16
        }
      ]
    },
    {
      "cell_type": "code",
      "source": [
        "# traditional way\n",
        "total = 0\n",
        "n = len(X_test)\n",
        "for i in range(n):\n",
        "  a = y_test.iloc[i]\n",
        "  b = lr.predict([X_test.iloc[i]])\n",
        "  total += abs(a-b)\n",
        "mean = total/n\n",
        "print(\"MAE = \", mean[0])"
      ],
      "metadata": {
        "colab": {
          "base_uri": "https://localhost:8080/"
        },
        "id": "fxljH439XlCU",
        "outputId": "1f2dd010-1987-46c1-885f-3d9ef59d9d07"
      },
      "execution_count": 17,
      "outputs": [
        {
          "output_type": "stream",
          "name": "stdout",
          "text": [
            "MAE =  0.2884710931878175\n"
          ]
        }
      ]
    },
    {
      "cell_type": "code",
      "source": [
        "# sklearn way\n",
        "\n",
        "from sklearn.metrics import mean_absolute_error, mean_squared_error, r2_score\n",
        "\n"
      ],
      "metadata": {
        "id": "58BPwgcwYi_Y"
      },
      "execution_count": 18,
      "outputs": []
    },
    {
      "cell_type": "code",
      "source": [
        "y_pred = lr.predict(X_test)"
      ],
      "metadata": {
        "id": "-Vj8RfppZXbG"
      },
      "execution_count": 19,
      "outputs": []
    },
    {
      "cell_type": "code",
      "source": [
        "print(\"MAE=\", mean_absolute_error(y_test, y_pred))"
      ],
      "metadata": {
        "colab": {
          "base_uri": "https://localhost:8080/"
        },
        "id": "Im7nPZYGZbby",
        "outputId": "0c3e458b-d250-4a35-a10d-59bcb451606e"
      },
      "execution_count": 20,
      "outputs": [
        {
          "output_type": "stream",
          "name": "stdout",
          "text": [
            "MAE= 0.2884710931878175\n"
          ]
        }
      ]
    },
    {
      "cell_type": "markdown",
      "source": [
        "# and they look same"
      ],
      "metadata": {
        "id": "D2GhF6o5ZlkS"
      }
    },
    {
      "cell_type": "markdown",
      "source": [
        "# Mean Squared Error"
      ],
      "metadata": {
        "id": "OdA6A6UPZpTr"
      }
    },
    {
      "cell_type": "code",
      "source": [
        "# traditional way\n",
        "total = 0\n",
        "n = len(X_test)\n",
        "for i in range(n):\n",
        "  a = y_test.iloc[i]\n",
        "  b = lr.predict([X_test.iloc[i]])\n",
        "  total += (a-b)**2\n",
        "mean = total/n\n",
        "print(\"MSE = \", mean[0])"
      ],
      "metadata": {
        "colab": {
          "base_uri": "https://localhost:8080/"
        },
        "id": "sBeI68I7ZjmF",
        "outputId": "d119dd43-d48c-4194-9e01-020560c5651b"
      },
      "execution_count": 21,
      "outputs": [
        {
          "output_type": "stream",
          "name": "stdout",
          "text": [
            "MSE =  0.12129235313495526\n"
          ]
        }
      ]
    },
    {
      "cell_type": "code",
      "source": [
        "# sklearn way\n",
        "print(\"MSE=\", mean_squared_error(y_pred, y_test))"
      ],
      "metadata": {
        "colab": {
          "base_uri": "https://localhost:8080/"
        },
        "id": "FGH_ymM1Z3fK",
        "outputId": "c2d00920-fe99-48fd-d98d-665813732a58"
      },
      "execution_count": 22,
      "outputs": [
        {
          "output_type": "stream",
          "name": "stdout",
          "text": [
            "MSE= 0.12129235313495527\n"
          ]
        }
      ]
    },
    {
      "cell_type": "markdown",
      "source": [
        "# Root Mean Squared Error"
      ],
      "metadata": {
        "id": "qNxD-9ejbJ6h"
      }
    },
    {
      "cell_type": "code",
      "source": [
        "print(\"RMSE=\", np.sqrt(mean_squared_error(y_pred, y_test)))"
      ],
      "metadata": {
        "colab": {
          "base_uri": "https://localhost:8080/"
        },
        "id": "mtbCHO1ebH5l",
        "outputId": "640fb8b8-484a-49a2-ff09-358ad09d7d37"
      },
      "execution_count": 23,
      "outputs": [
        {
          "output_type": "stream",
          "name": "stdout",
          "text": [
            "RMSE= 0.34827051717731616\n"
          ]
        }
      ]
    },
    {
      "cell_type": "markdown",
      "source": [
        "# R2 Score\n",
        "\n",
        "<img src=\"data:image/png;base64,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\">\n",
        "\n",
        "## SS<sub>reg</sub> means sum of squares of residuals of regression line, whereas\n",
        "## SS<sub>tot</sub> means sum of squares of residuals of total or mean line.\n"
      ],
      "metadata": {
        "id": "pponunsLaHo3"
      }
    },
    {
      "cell_type": "code",
      "source": [
        "print(\"R2 score=\", r2_score(y_test, y_pred))"
      ],
      "metadata": {
        "colab": {
          "base_uri": "https://localhost:8080/"
        },
        "id": "xz3Xl5OxaG7a",
        "outputId": "63ce4754-8492-4660-e5f8-bf851992f01e"
      },
      "execution_count": 24,
      "outputs": [
        {
          "output_type": "stream",
          "name": "stdout",
          "text": [
            "R2 score= 0.780730147510384\n"
          ]
        }
      ]
    },
    {
      "cell_type": "code",
      "source": [
        "print(\"R2 score=\", r2_score(y_pred, y_test))"
      ],
      "metadata": {
        "colab": {
          "base_uri": "https://localhost:8080/"
        },
        "id": "GzWs8VHxbg4p",
        "outputId": "69ed070f-2ae1-474c-fd3f-ab1f3670a30b"
      },
      "execution_count": 25,
      "outputs": [
        {
          "output_type": "stream",
          "name": "stdout",
          "text": [
            "R2 score= 0.6626575570753073\n"
          ]
        }
      ]
    },
    {
      "cell_type": "markdown",
      "source": [
        "# Adjusted R2 score"
      ],
      "metadata": {
        "id": "_Tp3xSCSghcd"
      }
    },
    {
      "cell_type": "code",
      "source": [
        "r2 = r2_score(y_test, y_pred)"
      ],
      "metadata": {
        "id": "eNpK58X4Z-9_"
      },
      "execution_count": 26,
      "outputs": []
    },
    {
      "cell_type": "code",
      "source": [
        "n, k = X_test.shape"
      ],
      "metadata": {
        "id": "15WYZYNOgpx7"
      },
      "execution_count": 27,
      "outputs": []
    },
    {
      "cell_type": "code",
      "source": [
        "k, n"
      ],
      "metadata": {
        "colab": {
          "base_uri": "https://localhost:8080/"
        },
        "id": "x6mxzyW-gqkj",
        "outputId": "6873a257-11d8-4c6a-9c4f-1a42c1abab13"
      },
      "execution_count": 28,
      "outputs": [
        {
          "output_type": "execute_result",
          "data": {
            "text/plain": [
              "(1, 40)"
            ]
          },
          "metadata": {},
          "execution_count": 28
        }
      ]
    },
    {
      "cell_type": "code",
      "source": [
        "def r2_adjusted(x, n, k): \n",
        "  return (1 - ((1 - x) * (n - 1)) / (n - 1 - k))"
      ],
      "metadata": {
        "id": "JURcoslIhNgJ"
      },
      "execution_count": 29,
      "outputs": []
    },
    {
      "cell_type": "code",
      "source": [
        "r2adj = r2_adjusted(r2,n,k)"
      ],
      "metadata": {
        "id": "3It9a-JAnIP8"
      },
      "execution_count": 30,
      "outputs": []
    },
    {
      "cell_type": "code",
      "source": [
        "print(\"R2_adjusted=\", r2adj)"
      ],
      "metadata": {
        "colab": {
          "base_uri": "https://localhost:8080/"
        },
        "id": "oEpQtAgVhvQ0",
        "outputId": "18f6c24d-e65b-4690-924b-020714db9342"
      },
      "execution_count": 31,
      "outputs": [
        {
          "output_type": "stream",
          "name": "stdout",
          "text": [
            "R2_adjusted= 0.7749598882343415\n"
          ]
        }
      ]
    },
    {
      "cell_type": "markdown",
      "source": [
        "# Relevance of adjusted R2 Score"
      ],
      "metadata": {
        "id": "po3wiPMLh4Ro"
      }
    },
    {
      "cell_type": "code",
      "source": [
        "new_df1 = df.copy()\n",
        "new_df1[\"Random_feature\"] = np.random.random(200)\n",
        "\n",
        "new_df1 = new_df1[[\"cgpa\", \"Random_feature\", \"package\"]]\n",
        "new_df1.head()"
      ],
      "metadata": {
        "colab": {
          "base_uri": "https://localhost:8080/",
          "height": 206
        },
        "id": "YalJ9pyshwmC",
        "outputId": "ff8b1aed-4981-4ec2-a3ea-91101e258203"
      },
      "execution_count": 32,
      "outputs": [
        {
          "output_type": "execute_result",
          "data": {
            "text/html": [
              "\n",
              "  <div id=\"df-66d5c5bc-272a-4b10-8078-443e4913c01a\">\n",
              "    <div class=\"colab-df-container\">\n",
              "      <div>\n",
              "<style scoped>\n",
              "    .dataframe tbody tr th:only-of-type {\n",
              "        vertical-align: middle;\n",
              "    }\n",
              "\n",
              "    .dataframe tbody tr th {\n",
              "        vertical-align: top;\n",
              "    }\n",
              "\n",
              "    .dataframe thead th {\n",
              "        text-align: right;\n",
              "    }\n",
              "</style>\n",
              "<table border=\"1\" class=\"dataframe\">\n",
              "  <thead>\n",
              "    <tr style=\"text-align: right;\">\n",
              "      <th></th>\n",
              "      <th>cgpa</th>\n",
              "      <th>Random_feature</th>\n",
              "      <th>package</th>\n",
              "    </tr>\n",
              "  </thead>\n",
              "  <tbody>\n",
              "    <tr>\n",
              "      <th>0</th>\n",
              "      <td>6.89</td>\n",
              "      <td>0.249355</td>\n",
              "      <td>3.26</td>\n",
              "    </tr>\n",
              "    <tr>\n",
              "      <th>1</th>\n",
              "      <td>5.12</td>\n",
              "      <td>0.088354</td>\n",
              "      <td>1.98</td>\n",
              "    </tr>\n",
              "    <tr>\n",
              "      <th>2</th>\n",
              "      <td>7.82</td>\n",
              "      <td>0.168601</td>\n",
              "      <td>3.25</td>\n",
              "    </tr>\n",
              "    <tr>\n",
              "      <th>3</th>\n",
              "      <td>7.42</td>\n",
              "      <td>0.988920</td>\n",
              "      <td>3.67</td>\n",
              "    </tr>\n",
              "    <tr>\n",
              "      <th>4</th>\n",
              "      <td>6.94</td>\n",
              "      <td>0.061129</td>\n",
              "      <td>3.57</td>\n",
              "    </tr>\n",
              "  </tbody>\n",
              "</table>\n",
              "</div>\n",
              "      <button class=\"colab-df-convert\" onclick=\"convertToInteractive('df-66d5c5bc-272a-4b10-8078-443e4913c01a')\"\n",
              "              title=\"Convert this dataframe to an interactive table.\"\n",
              "              style=\"display:none;\">\n",
              "        \n",
              "  <svg xmlns=\"http://www.w3.org/2000/svg\" height=\"24px\"viewBox=\"0 0 24 24\"\n",
              "       width=\"24px\">\n",
              "    <path d=\"M0 0h24v24H0V0z\" fill=\"none\"/>\n",
              "    <path d=\"M18.56 5.44l.94 2.06.94-2.06 2.06-.94-2.06-.94-.94-2.06-.94 2.06-2.06.94zm-11 1L8.5 8.5l.94-2.06 2.06-.94-2.06-.94L8.5 2.5l-.94 2.06-2.06.94zm10 10l.94 2.06.94-2.06 2.06-.94-2.06-.94-.94-2.06-.94 2.06-2.06.94z\"/><path d=\"M17.41 7.96l-1.37-1.37c-.4-.4-.92-.59-1.43-.59-.52 0-1.04.2-1.43.59L10.3 9.45l-7.72 7.72c-.78.78-.78 2.05 0 2.83L4 21.41c.39.39.9.59 1.41.59.51 0 1.02-.2 1.41-.59l7.78-7.78 2.81-2.81c.8-.78.8-2.07 0-2.86zM5.41 20L4 18.59l7.72-7.72 1.47 1.35L5.41 20z\"/>\n",
              "  </svg>\n",
              "      </button>\n",
              "      \n",
              "  <style>\n",
              "    .colab-df-container {\n",
              "      display:flex;\n",
              "      flex-wrap:wrap;\n",
              "      gap: 12px;\n",
              "    }\n",
              "\n",
              "    .colab-df-convert {\n",
              "      background-color: #E8F0FE;\n",
              "      border: none;\n",
              "      border-radius: 50%;\n",
              "      cursor: pointer;\n",
              "      display: none;\n",
              "      fill: #1967D2;\n",
              "      height: 32px;\n",
              "      padding: 0 0 0 0;\n",
              "      width: 32px;\n",
              "    }\n",
              "\n",
              "    .colab-df-convert:hover {\n",
              "      background-color: #E2EBFA;\n",
              "      box-shadow: 0px 1px 2px rgba(60, 64, 67, 0.3), 0px 1px 3px 1px rgba(60, 64, 67, 0.15);\n",
              "      fill: #174EA6;\n",
              "    }\n",
              "\n",
              "    [theme=dark] .colab-df-convert {\n",
              "      background-color: #3B4455;\n",
              "      fill: #D2E3FC;\n",
              "    }\n",
              "\n",
              "    [theme=dark] .colab-df-convert:hover {\n",
              "      background-color: #434B5C;\n",
              "      box-shadow: 0px 1px 3px 1px rgba(0, 0, 0, 0.15);\n",
              "      filter: drop-shadow(0px 1px 2px rgba(0, 0, 0, 0.3));\n",
              "      fill: #FFFFFF;\n",
              "    }\n",
              "  </style>\n",
              "\n",
              "      <script>\n",
              "        const buttonEl =\n",
              "          document.querySelector('#df-66d5c5bc-272a-4b10-8078-443e4913c01a button.colab-df-convert');\n",
              "        buttonEl.style.display =\n",
              "          google.colab.kernel.accessAllowed ? 'block' : 'none';\n",
              "\n",
              "        async function convertToInteractive(key) {\n",
              "          const element = document.querySelector('#df-66d5c5bc-272a-4b10-8078-443e4913c01a');\n",
              "          const dataTable =\n",
              "            await google.colab.kernel.invokeFunction('convertToInteractive',\n",
              "                                                     [key], {});\n",
              "          if (!dataTable) return;\n",
              "\n",
              "          const docLinkHtml = 'Like what you see? Visit the ' +\n",
              "            '<a target=\"_blank\" href=https://colab.research.google.com/notebooks/data_table.ipynb>data table notebook</a>'\n",
              "            + ' to learn more about interactive tables.';\n",
              "          element.innerHTML = '';\n",
              "          dataTable['output_type'] = 'display_data';\n",
              "          await google.colab.output.renderOutput(dataTable, element);\n",
              "          const docLink = document.createElement('div');\n",
              "          docLink.innerHTML = docLinkHtml;\n",
              "          element.appendChild(docLink);\n",
              "        }\n",
              "      </script>\n",
              "    </div>\n",
              "  </div>\n",
              "  "
            ],
            "text/plain": [
              "   cgpa  Random_feature  package\n",
              "0  6.89        0.249355     3.26\n",
              "1  5.12        0.088354     1.98\n",
              "2  7.82        0.168601     3.25\n",
              "3  7.42        0.988920     3.67\n",
              "4  6.94        0.061129     3.57"
            ]
          },
          "metadata": {},
          "execution_count": 32
        }
      ]
    },
    {
      "cell_type": "code",
      "source": [
        "new_df1.shape"
      ],
      "metadata": {
        "colab": {
          "base_uri": "https://localhost:8080/"
        },
        "id": "0Qu2ylogntVt",
        "outputId": "77da364e-793b-4e48-f4a2-3a9f2d0b76d3"
      },
      "execution_count": 33,
      "outputs": [
        {
          "output_type": "execute_result",
          "data": {
            "text/plain": [
              "(200, 3)"
            ]
          },
          "metadata": {},
          "execution_count": 33
        }
      ]
    },
    {
      "cell_type": "code",
      "source": [
        "plt.scatter(new_df1.Random_feature, new_df1.package)\n",
        "plt.xlabel(\"Random\")\n",
        "plt.ylabel(\"Package\")"
      ],
      "metadata": {
        "colab": {
          "base_uri": "https://localhost:8080/",
          "height": 297
        },
        "id": "N5GvI8opiU4i",
        "outputId": "3be6ba4c-f0f3-4114-ee05-ab048de15236"
      },
      "execution_count": 34,
      "outputs": [
        {
          "output_type": "execute_result",
          "data": {
            "text/plain": [
              "Text(0, 0.5, 'Package')"
            ]
          },
          "metadata": {},
          "execution_count": 34
        },
        {
          "output_type": "display_data",
          "data": {
            "image/png": "[encoded data removed]",
            "text/plain": [
              "<Figure size 432x288 with 1 Axes>"
            ]
          },
          "metadata": {
            "needs_background": "light"
          }
        }
      ]
    },
    {
      "cell_type": "code",
      "source": [
        "X = new_df1.iloc[:,0:2]\n",
        "y = new_df1.package"
      ],
      "metadata": {
        "id": "Z8kZ7XjUiztt"
      },
      "execution_count": 35,
      "outputs": []
    },
    {
      "cell_type": "code",
      "source": [
        "X_train, X_test, y_train, y_test = train_test_split(X, y, test_size=0.2, random_state=2)"
      ],
      "metadata": {
        "id": "LtJj23Hpifth"
      },
      "execution_count": 36,
      "outputs": []
    },
    {
      "cell_type": "code",
      "source": [
        "lr = LinearRegression()"
      ],
      "metadata": {
        "id": "9CYzVO5pi-rz"
      },
      "execution_count": 37,
      "outputs": []
    },
    {
      "cell_type": "code",
      "source": [
        "lr.fit(X_train, y_train)"
      ],
      "metadata": {
        "colab": {
          "base_uri": "https://localhost:8080/"
        },
        "id": "Vo5WPLivjBSV",
        "outputId": "aee215c8-77f0-49e9-dcf1-97d38d2c8c53"
      },
      "execution_count": 38,
      "outputs": [
        {
          "output_type": "execute_result",
          "data": {
            "text/plain": [
              "LinearRegression()"
            ]
          },
          "metadata": {},
          "execution_count": 38
        }
      ]
    },
    {
      "cell_type": "code",
      "source": [
        "y_pred = lr.predict(X_test)"
      ],
      "metadata": {
        "id": "5UtF-aEejCoW"
      },
      "execution_count": 39,
      "outputs": []
    },
    {
      "cell_type": "code",
      "source": [
        "r2new = r2_score(y_test, y_pred)"
      ],
      "metadata": {
        "id": "1yQCZnkrjbyS"
      },
      "execution_count": 40,
      "outputs": []
    },
    {
      "cell_type": "code",
      "source": [
        "print(\"R2 score\", r2new)"
      ],
      "metadata": {
        "colab": {
          "base_uri": "https://localhost:8080/"
        },
        "id": "2uwg3EW2jL0s",
        "outputId": "3370cf9a-e4c4-4cfc-b7ce-50050dd14781"
      },
      "execution_count": 41,
      "outputs": [
        {
          "output_type": "stream",
          "name": "stdout",
          "text": [
            "R2 score 0.7825079106310963\n"
          ]
        }
      ]
    },
    {
      "cell_type": "markdown",
      "source": [
        "# Here we can see change in value of r2 and r2 new\n",
        "## with addition of new irrelevant column, our r2score is increasing"
      ],
      "metadata": {
        "id": "noKhFVZgm6VJ"
      }
    },
    {
      "cell_type": "code",
      "source": [
        "r2, r2new"
      ],
      "metadata": {
        "colab": {
          "base_uri": "https://localhost:8080/"
        },
        "id": "FiXqh2Z0m_cn",
        "outputId": "cd9b34fb-809a-4867-8642-e575d582f047"
      },
      "execution_count": 42,
      "outputs": [
        {
          "output_type": "execute_result",
          "data": {
            "text/plain": [
              "(0.780730147510384, 0.7825079106310963)"
            ]
          },
          "metadata": {},
          "execution_count": 42
        }
      ]
    },
    {
      "cell_type": "code",
      "source": [
        "n, k = X_test.shape\n",
        "n, k"
      ],
      "metadata": {
        "colab": {
          "base_uri": "https://localhost:8080/"
        },
        "id": "trUJYYB2lYre",
        "outputId": "a4f2b715-5d36-47a8-adbd-1e7879661ba6"
      },
      "execution_count": 43,
      "outputs": [
        {
          "output_type": "execute_result",
          "data": {
            "text/plain": [
              "(40, 2)"
            ]
          },
          "metadata": {},
          "execution_count": 43
        }
      ]
    },
    {
      "cell_type": "code",
      "source": [
        "r2adjnew = r2_adjusted(r2new,n,k)"
      ],
      "metadata": {
        "id": "C9IWqyhFnOjr"
      },
      "execution_count": 44,
      "outputs": []
    },
    {
      "cell_type": "code",
      "source": [
        "print(\"Adjusted R2 score\", r2adjnew)"
      ],
      "metadata": {
        "colab": {
          "base_uri": "https://localhost:8080/"
        },
        "id": "yDqAPB8HjhTM",
        "outputId": "789f99b7-7ea0-4c68-ea08-3a1fc536e1f3"
      },
      "execution_count": 45,
      "outputs": [
        {
          "output_type": "stream",
          "name": "stdout",
          "text": [
            "Adjusted R2 score 0.7707515814760204\n"
          ]
        }
      ]
    },
    {
      "cell_type": "markdown",
      "source": [
        "# and adjusted r2 has brought the error down again"
      ],
      "metadata": {
        "id": "IlJSJUIDoIUy"
      }
    },
    {
      "cell_type": "code",
      "source": [
        "r2adj, r2adjnew"
      ],
      "metadata": {
        "colab": {
          "base_uri": "https://localhost:8080/"
        },
        "id": "tI2SqFQFj57-",
        "outputId": "a28f0493-1e31-45f0-8846-840f59811d17"
      },
      "execution_count": 46,
      "outputs": [
        {
          "output_type": "execute_result",
          "data": {
            "text/plain": [
              "(0.7749598882343415, 0.7707515814760204)"
            ]
          },
          "metadata": {},
          "execution_count": 46
        }
      ]
    },
    {
      "cell_type": "markdown",
      "source": [
        "# Now adding a relevant column"
      ],
      "metadata": {
        "id": "Cec4NcblouGk"
      }
    },
    {
      "cell_type": "code",
      "source": [
        "new_df2 = df.copy()\n",
        "\n",
        "new_df2['iq'] = new_df2['package'] + (np.random.randint(-12,12,200)/10)\n",
        "\n",
        "new_df2 = new_df2[['cgpa','iq','package']]"
      ],
      "metadata": {
        "id": "kg-eiEMXnZZM"
      },
      "execution_count": 47,
      "outputs": []
    },
    {
      "cell_type": "code",
      "source": [
        "new_df2.sample(5)"
      ],
      "metadata": {
        "colab": {
          "base_uri": "https://localhost:8080/",
          "height": 206
        },
        "id": "NQn4akbioxH1",
        "outputId": "ae81e150-60e2-4663-b725-bb33537fcc2d"
      },
      "execution_count": 48,
      "outputs": [
        {
          "output_type": "execute_result",
          "data": {
            "text/html": [
              "\n",
              "  <div id=\"df-4828af54-1373-497d-a930-337ca7f9c7c5\">\n",
              "    <div class=\"colab-df-container\">\n",
              "      <div>\n",
              "<style scoped>\n",
              "    .dataframe tbody tr th:only-of-type {\n",
              "        vertical-align: middle;\n",
              "    }\n",
              "\n",
              "    .dataframe tbody tr th {\n",
              "        vertical-align: top;\n",
              "    }\n",
              "\n",
              "    .dataframe thead th {\n",
              "        text-align: right;\n",
              "    }\n",
              "</style>\n",
              "<table border=\"1\" class=\"dataframe\">\n",
              "  <thead>\n",
              "    <tr style=\"text-align: right;\">\n",
              "      <th></th>\n",
              "      <th>cgpa</th>\n",
              "      <th>iq</th>\n",
              "      <th>package</th>\n",
              "    </tr>\n",
              "  </thead>\n",
              "  <tbody>\n",
              "    <tr>\n",
              "      <th>27</th>\n",
              "      <td>5.42</td>\n",
              "      <td>2.16</td>\n",
              "      <td>2.16</td>\n",
              "    </tr>\n",
              "    <tr>\n",
              "      <th>5</th>\n",
              "      <td>7.89</td>\n",
              "      <td>2.09</td>\n",
              "      <td>2.99</td>\n",
              "    </tr>\n",
              "    <tr>\n",
              "      <th>161</th>\n",
              "      <td>7.30</td>\n",
              "      <td>2.53</td>\n",
              "      <td>3.33</td>\n",
              "    </tr>\n",
              "    <tr>\n",
              "      <th>85</th>\n",
              "      <td>4.79</td>\n",
              "      <td>1.88</td>\n",
              "      <td>1.48</td>\n",
              "    </tr>\n",
              "    <tr>\n",
              "      <th>129</th>\n",
              "      <td>7.29</td>\n",
              "      <td>2.42</td>\n",
              "      <td>3.12</td>\n",
              "    </tr>\n",
              "  </tbody>\n",
              "</table>\n",
              "</div>\n",
              "      <button class=\"colab-df-convert\" onclick=\"convertToInteractive('df-4828af54-1373-497d-a930-337ca7f9c7c5')\"\n",
              "              title=\"Convert this dataframe to an interactive table.\"\n",
              "              style=\"display:none;\">\n",
              "        \n",
              "  <svg xmlns=\"http://www.w3.org/2000/svg\" height=\"24px\"viewBox=\"0 0 24 24\"\n",
              "       width=\"24px\">\n",
              "    <path d=\"M0 0h24v24H0V0z\" fill=\"none\"/>\n",
              "    <path d=\"M18.56 5.44l.94 2.06.94-2.06 2.06-.94-2.06-.94-.94-2.06-.94 2.06-2.06.94zm-11 1L8.5 8.5l.94-2.06 2.06-.94-2.06-.94L8.5 2.5l-.94 2.06-2.06.94zm10 10l.94 2.06.94-2.06 2.06-.94-2.06-.94-.94-2.06-.94 2.06-2.06.94z\"/><path d=\"M17.41 7.96l-1.37-1.37c-.4-.4-.92-.59-1.43-.59-.52 0-1.04.2-1.43.59L10.3 9.45l-7.72 7.72c-.78.78-.78 2.05 0 2.83L4 21.41c.39.39.9.59 1.41.59.51 0 1.02-.2 1.41-.59l7.78-7.78 2.81-2.81c.8-.78.8-2.07 0-2.86zM5.41 20L4 18.59l7.72-7.72 1.47 1.35L5.41 20z\"/>\n",
              "  </svg>\n",
              "      </button>\n",
              "      \n",
              "  <style>\n",
              "    .colab-df-container {\n",
              "      display:flex;\n",
              "      flex-wrap:wrap;\n",
              "      gap: 12px;\n",
              "    }\n",
              "\n",
              "    .colab-df-convert {\n",
              "      background-color: #E8F0FE;\n",
              "      border: none;\n",
              "      border-radius: 50%;\n",
              "      cursor: pointer;\n",
              "      display: none;\n",
              "      fill: #1967D2;\n",
              "      height: 32px;\n",
              "      padding: 0 0 0 0;\n",
              "      width: 32px;\n",
              "    }\n",
              "\n",
              "    .colab-df-convert:hover {\n",
              "      background-color: #E2EBFA;\n",
              "      box-shadow: 0px 1px 2px rgba(60, 64, 67, 0.3), 0px 1px 3px 1px rgba(60, 64, 67, 0.15);\n",
              "      fill: #174EA6;\n",
              "    }\n",
              "\n",
              "    [theme=dark] .colab-df-convert {\n",
              "      background-color: #3B4455;\n",
              "      fill: #D2E3FC;\n",
              "    }\n",
              "\n",
              "    [theme=dark] .colab-df-convert:hover {\n",
              "      background-color: #434B5C;\n",
              "      box-shadow: 0px 1px 3px 1px rgba(0, 0, 0, 0.15);\n",
              "      filter: drop-shadow(0px 1px 2px rgba(0, 0, 0, 0.3));\n",
              "      fill: #FFFFFF;\n",
              "    }\n",
              "  </style>\n",
              "\n",
              "      <script>\n",
              "        const buttonEl =\n",
              "          document.querySelector('#df-4828af54-1373-497d-a930-337ca7f9c7c5 button.colab-df-convert');\n",
              "        buttonEl.style.display =\n",
              "          google.colab.kernel.accessAllowed ? 'block' : 'none';\n",
              "\n",
              "        async function convertToInteractive(key) {\n",
              "          const element = document.querySelector('#df-4828af54-1373-497d-a930-337ca7f9c7c5');\n",
              "          const dataTable =\n",
              "            await google.colab.kernel.invokeFunction('convertToInteractive',\n",
              "                                                     [key], {});\n",
              "          if (!dataTable) return;\n",
              "\n",
              "          const docLinkHtml = 'Like what you see? Visit the ' +\n",
              "            '<a target=\"_blank\" href=https://colab.research.google.com/notebooks/data_table.ipynb>data table notebook</a>'\n",
              "            + ' to learn more about interactive tables.';\n",
              "          element.innerHTML = '';\n",
              "          dataTable['output_type'] = 'display_data';\n",
              "          await google.colab.output.renderOutput(dataTable, element);\n",
              "          const docLink = document.createElement('div');\n",
              "          docLink.innerHTML = docLinkHtml;\n",
              "          element.appendChild(docLink);\n",
              "        }\n",
              "      </script>\n",
              "    </div>\n",
              "  </div>\n",
              "  "
            ],
            "text/plain": [
              "     cgpa    iq  package\n",
              "27   5.42  2.16     2.16\n",
              "5    7.89  2.09     2.99\n",
              "161  7.30  2.53     3.33\n",
              "85   4.79  1.88     1.48\n",
              "129  7.29  2.42     3.12"
            ]
          },
          "metadata": {},
          "execution_count": 48
        }
      ]
    },
    {
      "cell_type": "code",
      "source": [
        "plt.scatter(new_df2['iq'],new_df2['package'])\n",
        "plt.xlabel('iq')\n",
        "plt.ylabel('Package(in lpa)')"
      ],
      "metadata": {
        "colab": {
          "base_uri": "https://localhost:8080/",
          "height": 297
        },
        "id": "ZFnxpJ6Zo0wm",
        "outputId": "9d989c14-919c-45de-b02e-d962dd6b3a44"
      },
      "execution_count": 49,
      "outputs": [
        {
          "output_type": "execute_result",
          "data": {
            "text/plain": [
              "Text(0, 0.5, 'Package(in lpa)')"
            ]
          },
          "metadata": {},
          "execution_count": 49
        },
        {
          "output_type": "display_data",
          "data": {
            "image/png": "[encoded data removed]",
            "text/plain": [
              "<Figure size 432x288 with 1 Axes>"
            ]
          },
          "metadata": {
            "needs_background": "light"
          }
        }
      ]
    },
    {
      "cell_type": "code",
      "source": [
        "X = new_df2.iloc[:,0:2]\n",
        "y = new_df2.iloc[:,-1]"
      ],
      "metadata": {
        "id": "Y5wkGffKo3cG"
      },
      "execution_count": 50,
      "outputs": []
    },
    {
      "cell_type": "code",
      "source": [
        "X_train,X_test,y_train,y_test = train_test_split(X,y,test_size=0.2,random_state=2)\n",
        "\n",
        "lr = LinearRegression()\n",
        "\n",
        "lr.fit(X_train,y_train)\n",
        "\n",
        "y_pred = lr.predict(X_test)\n",
        "\n",
        "print(\"R2 score\",r2_score(y_test,y_pred))\n",
        "r2new2 = r2_score(y_test,y_pred)"
      ],
      "metadata": {
        "colab": {
          "base_uri": "https://localhost:8080/"
        },
        "id": "F8h23--Go6V3",
        "outputId": "527a1795-d7c6-45a9-a169-6306d022be31"
      },
      "execution_count": 51,
      "outputs": [
        {
          "output_type": "stream",
          "name": "stdout",
          "text": [
            "R2 score 0.8231554313076099\n"
          ]
        }
      ]
    },
    {
      "cell_type": "code",
      "source": [
        "n, k = X_test.shape\n",
        "k, n"
      ],
      "metadata": {
        "colab": {
          "base_uri": "https://localhost:8080/"
        },
        "id": "6yCjUTsMpQtW",
        "outputId": "952491e8-0671-4a11-a0de-14dbdd30b6f5"
      },
      "execution_count": 52,
      "outputs": [
        {
          "output_type": "execute_result",
          "data": {
            "text/plain": [
              "(2, 40)"
            ]
          },
          "metadata": {},
          "execution_count": 52
        }
      ]
    },
    {
      "cell_type": "code",
      "source": [
        "r2adjnew2 = r2_adjusted(r2new2,n,k)\n",
        "r2adjnew2"
      ],
      "metadata": {
        "colab": {
          "base_uri": "https://localhost:8080/"
        },
        "id": "IWwOAgJIpD97",
        "outputId": "2dfe1522-5551-4010-eedf-1a4a75008d8c"
      },
      "execution_count": 54,
      "outputs": [
        {
          "output_type": "execute_result",
          "data": {
            "text/plain": [
              "0.8135962654323456"
            ]
          },
          "metadata": {},
          "execution_count": 54
        }
      ]
    },
    {
      "cell_type": "markdown",
      "source": [
        "# and Above we can see adjusted r2 score increased significantly"
      ],
      "metadata": {
        "id": "6bYPpC-2pn-8"
      }
    },
    {
      "cell_type": "code",
      "source": [
        ""
      ],
      "metadata": {
        "id": "T_BO9WSGpkq-"
      },
      "execution_count": null,
      "outputs": []
    }
  ]
}

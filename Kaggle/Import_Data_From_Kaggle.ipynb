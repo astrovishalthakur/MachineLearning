{
  "nbformat": 4,
  "nbformat_minor": 0,
  "metadata": {
    "colab": {
      "name": "Import_Data_From_Kaggle.ipynb",
      "provenance": [],
      "collapsed_sections": [],
      "authorship_tag": "ABX9TyODmFKPKVh23NaPvOmeym+H",
      "include_colab_link": true
    },
    "kernelspec": {
      "name": "python3",
      "display_name": "Python 3"
    },
    "language_info": {
      "name": "python"
    }
  },
  "cells": [
    {
      "cell_type": "markdown",
      "metadata": {
        "id": "view-in-github",
        "colab_type": "text"
      },
      "source": [
        "<a href=\"https://colab.research.google.com/github/astrovishalthakur/MachineLearning/blob/main/Kaggle/Import_Data_From_Kaggle.ipynb\" target=\"_parent\"><img src=\"https://colab.research.google.com/assets/colab-badge.svg\" alt=\"Open In Colab\"/></a>"
      ]
    },
    {
      "cell_type": "code",
      "execution_count": null,
      "metadata": {
        "colab": {
          "base_uri": "https://localhost:8080/"
        },
        "id": "XLHBUXS2Ou5U",
        "outputId": "6d966d55-ad10-491f-8b86-e268f240f4e6"
      },
      "outputs": [
        {
          "output_type": "stream",
          "name": "stdout",
          "text": [
            "Requirement already satisfied: kaggle in /usr/local/lib/python3.7/dist-packages (1.5.12)\n",
            "Requirement already satisfied: tqdm in /usr/local/lib/python3.7/dist-packages (from kaggle) (4.62.3)\n",
            "Requirement already satisfied: six>=1.10 in /usr/local/lib/python3.7/dist-packages (from kaggle) (1.15.0)\n",
            "Requirement already satisfied: python-slugify in /usr/local/lib/python3.7/dist-packages (from kaggle) (5.0.2)\n",
            "Requirement already satisfied: certifi in /usr/local/lib/python3.7/dist-packages (from kaggle) (2021.10.8)\n",
            "Requirement already satisfied: urllib3 in /usr/local/lib/python3.7/dist-packages (from kaggle) (1.24.3)\n",
            "Requirement already satisfied: requests in /usr/local/lib/python3.7/dist-packages (from kaggle) (2.23.0)\n",
            "Requirement already satisfied: python-dateutil in /usr/local/lib/python3.7/dist-packages (from kaggle) (2.8.2)\n",
            "Requirement already satisfied: text-unidecode>=1.3 in /usr/local/lib/python3.7/dist-packages (from python-slugify->kaggle) (1.3)\n",
            "Requirement already satisfied: chardet<4,>=3.0.2 in /usr/local/lib/python3.7/dist-packages (from requests->kaggle) (3.0.4)\n",
            "Requirement already satisfied: idna<3,>=2.5 in /usr/local/lib/python3.7/dist-packages (from requests->kaggle) (2.10)\n"
          ]
        }
      ],
      "source": [
        "! pip install kaggle"
      ]
    },
    {
      "cell_type": "markdown",
      "source": [
        "#Mount gdrive"
      ],
      "metadata": {
        "id": "7qA7E_vZVhYx"
      }
    },
    {
      "cell_type": "code",
      "source": [
        "from google.colab import drive\n",
        "drive.mount('/content/drive')"
      ],
      "metadata": {
        "id": "Iby_ZvRFVgtn"
      },
      "execution_count": null,
      "outputs": []
    },
    {
      "cell_type": "markdown",
      "source": [
        "# Create local .kaggle folder to store your api credentials"
      ],
      "metadata": {
        "id": "QMe3Wq-o_gfc"
      }
    },
    {
      "cell_type": "code",
      "source": [
        "! mkdir ~/.kaggle"
      ],
      "metadata": {
        "id": "cWHY_Rp6O2YU"
      },
      "execution_count": null,
      "outputs": []
    },
    {
      "cell_type": "markdown",
      "source": [
        "## Now to import kaggle data, you need kaggle api credentials.\n",
        "1. Create account on kaggle.\n",
        "2. Go to account settings.\n",
        "3. Create new API token.\n",
        "4. Download it.\n",
        "##  \n",
        "### This token will be downloaded as a json file.\n",
        "### You can store it on your google drive."
      ],
      "metadata": {
        "id": "6dPB749P-nxx"
      }
    },
    {
      "cell_type": "markdown",
      "source": [
        "<h1>location of kaggle.json</h1>\n",
        "\n",
        "Now import your kaggle.json\n",
        "which you have in folder\n",
        "D:/learning/machine learning/other sources/kaggle.json. "
      ],
      "metadata": {
        "id": "RfEHxk4tO-Ip"
      }
    },
    {
      "cell_type": "markdown",
      "source": [
        "copy kaggle.json to ~/.kaggle folder"
      ],
      "metadata": {
        "id": "IHeNerPCPVrs"
      }
    },
    {
      "cell_type": "code",
      "source": [
        "! cp kaggle.json ~/.kaggle"
      ],
      "metadata": {
        "id": "OE2gRCzIO6e8"
      },
      "execution_count": null,
      "outputs": []
    },
    {
      "cell_type": "markdown",
      "source": [
        "# Or Directly From gdrive."
      ],
      "metadata": {
        "id": "7Y5_XBa4BAjw"
      }
    },
    {
      "cell_type": "code",
      "source": [
        "# or do from gdrive\n",
        "!cp /content/drive/MyDrive/kaggle/kaggle.json ~/.kaggle/kaggle.json"
      ],
      "metadata": {
        "id": "FgvCM0ouVmRy"
      },
      "execution_count": null,
      "outputs": []
    },
    {
      "cell_type": "markdown",
      "source": [
        "<h1>Download dataset</h1>\n",
        "<h3>E.g. following dataset of 50000 movies can be imported as follows"
      ],
      "metadata": {
        "id": "rNIkFie1PjAJ"
      }
    },
    {
      "cell_type": "markdown",
      "source": [
        "To download dataset.\n",
        "1. Go to data in kaggle.\n",
        "2. Click drop down menu at end of data.\n",
        "3. Click \"Copy API Command\"\n",
        "4. Now paste that command down below.\n",
        "5. Make sure to put ! before the command as it tells colab to run it as terminal code"
      ],
      "metadata": {
        "id": "j7ybv6Jo_0tn"
      }
    },
    {
      "cell_type": "code",
      "source": [
        "! kaggle datasets download -d lakshmi25npathi/imdb-dataset-of-50k-movie-reviews"
      ],
      "metadata": {
        "id": "5wey7gnWPaXB"
      },
      "execution_count": null,
      "outputs": []
    },
    {
      "cell_type": "markdown",
      "source": [
        "unzipping the dataset"
      ],
      "metadata": {
        "id": "M_9cuxnSPy2p"
      }
    },
    {
      "cell_type": "code",
      "source": [
        "! unzip imdb-dataset-of-50k-movie-reviews.zip"
      ],
      "metadata": {
        "id": "TGNe_NIMPxGC"
      },
      "execution_count": null,
      "outputs": []
    },
    {
      "cell_type": "markdown",
      "source": [
        "then reading data as usual"
      ],
      "metadata": {
        "id": "YGb7YcstP6ZH"
      }
    },
    {
      "cell_type": "code",
      "source": [
        "df_review = pd.read_csv(\"IMDB Dataset.csv\")"
      ],
      "metadata": {
        "id": "EYqQIUzbP2lz"
      },
      "execution_count": null,
      "outputs": []
    }
  ]
}
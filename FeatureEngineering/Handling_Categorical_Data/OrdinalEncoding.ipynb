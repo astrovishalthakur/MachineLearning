{
  "nbformat": 4,
  "nbformat_minor": 0,
  "metadata": {
    "colab": {
      "name": "OrdinalEncoding.ipynb",
      "provenance": [],
      "authorship_tag": "ABX9TyMN6mQ+UkYCDmK00IIInf2x",
      "include_colab_link": true
    },
    "kernelspec": {
      "name": "python3",
      "display_name": "Python 3"
    },
    "language_info": {
      "name": "python"
    }
  },
  "cells": [
    {
      "cell_type": "markdown",
      "metadata": {
        "id": "view-in-github",
        "colab_type": "text"
      },
      "source": [
        "<a href=\"https://colab.research.google.com/github/astrovishalthakur/MachineLearning/blob/main/FeatureEngineering/Handling_Categorical_Data/OrdinalEncoding.ipynb\" target=\"_parent\"><img src=\"https://colab.research.google.com/assets/colab-badge.svg\" alt=\"Open In Colab\"/></a>"
      ]
    },
    {
      "cell_type": "markdown",
      "source": [
        "# Ordinal Data Definition:\n",
        "Ordinal data is a statistical type of quantitative data in which variables exist in naturally occurring ordered categories. The distance between two categories is not established using ordinal data.\n",
        "\n",
        "In statistics, a group of ordinal numbers indicates ordinal data and a group of ordinal data are represented using an ordinal scale. The main difference between nominal and ordinal data is that ordinal has an order of categories while nominal doesn’t."
      ],
      "metadata": {
        "id": "2XYt8Gl9jYHE"
      }
    },
    {
      "cell_type": "markdown",
      "source": [
        "<img src=\"data:image/jpeg;base64,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\">"
      ],
      "metadata": {
        "id": "8GW5RNMyjnU9"
      }
    },
    {
      "cell_type": "code",
      "execution_count": 1,
      "metadata": {
        "id": "BK83_02zcdc-"
      },
      "outputs": [],
      "source": [
        "import numpy as np\n",
        "import pandas as pd"
      ]
    },
    {
      "cell_type": "code",
      "source": [
        "df = pd.read_csv(\"purchase_data.csv\")"
      ],
      "metadata": {
        "id": "Tvc7GKTMdRah"
      },
      "execution_count": 3,
      "outputs": []
    },
    {
      "cell_type": "code",
      "source": [
        "df.sample(5)"
      ],
      "metadata": {
        "colab": {
          "base_uri": "https://localhost:8080/",
          "height": 206
        },
        "id": "jtlK4KtSdVVu",
        "outputId": "9cb00cfd-ae6d-4a23-c21d-67f3097fc30d"
      },
      "execution_count": 5,
      "outputs": [
        {
          "output_type": "execute_result",
          "data": {
            "text/html": [
              "\n",
              "  <div id=\"df-af217546-c6c9-472b-9b7e-6ebebf1340a4\">\n",
              "    <div class=\"colab-df-container\">\n",
              "      <div>\n",
              "<style scoped>\n",
              "    .dataframe tbody tr th:only-of-type {\n",
              "        vertical-align: middle;\n",
              "    }\n",
              "\n",
              "    .dataframe tbody tr th {\n",
              "        vertical-align: top;\n",
              "    }\n",
              "\n",
              "    .dataframe thead th {\n",
              "        text-align: right;\n",
              "    }\n",
              "</style>\n",
              "<table border=\"1\" class=\"dataframe\">\n",
              "  <thead>\n",
              "    <tr style=\"text-align: right;\">\n",
              "      <th></th>\n",
              "      <th>age</th>\n",
              "      <th>gender</th>\n",
              "      <th>review</th>\n",
              "      <th>education</th>\n",
              "      <th>purchased</th>\n",
              "    </tr>\n",
              "  </thead>\n",
              "  <tbody>\n",
              "    <tr>\n",
              "      <th>1</th>\n",
              "      <td>68</td>\n",
              "      <td>Female</td>\n",
              "      <td>Poor</td>\n",
              "      <td>UG</td>\n",
              "      <td>No</td>\n",
              "    </tr>\n",
              "    <tr>\n",
              "      <th>42</th>\n",
              "      <td>30</td>\n",
              "      <td>Female</td>\n",
              "      <td>Good</td>\n",
              "      <td>PG</td>\n",
              "      <td>Yes</td>\n",
              "    </tr>\n",
              "    <tr>\n",
              "      <th>34</th>\n",
              "      <td>86</td>\n",
              "      <td>Male</td>\n",
              "      <td>Average</td>\n",
              "      <td>School</td>\n",
              "      <td>No</td>\n",
              "    </tr>\n",
              "    <tr>\n",
              "      <th>45</th>\n",
              "      <td>61</td>\n",
              "      <td>Male</td>\n",
              "      <td>Poor</td>\n",
              "      <td>PG</td>\n",
              "      <td>Yes</td>\n",
              "    </tr>\n",
              "    <tr>\n",
              "      <th>40</th>\n",
              "      <td>39</td>\n",
              "      <td>Male</td>\n",
              "      <td>Good</td>\n",
              "      <td>School</td>\n",
              "      <td>No</td>\n",
              "    </tr>\n",
              "  </tbody>\n",
              "</table>\n",
              "</div>\n",
              "      <button class=\"colab-df-convert\" onclick=\"convertToInteractive('df-af217546-c6c9-472b-9b7e-6ebebf1340a4')\"\n",
              "              title=\"Convert this dataframe to an interactive table.\"\n",
              "              style=\"display:none;\">\n",
              "        \n",
              "  <svg xmlns=\"http://www.w3.org/2000/svg\" height=\"24px\"viewBox=\"0 0 24 24\"\n",
              "       width=\"24px\">\n",
              "    <path d=\"M0 0h24v24H0V0z\" fill=\"none\"/>\n",
              "    <path d=\"M18.56 5.44l.94 2.06.94-2.06 2.06-.94-2.06-.94-.94-2.06-.94 2.06-2.06.94zm-11 1L8.5 8.5l.94-2.06 2.06-.94-2.06-.94L8.5 2.5l-.94 2.06-2.06.94zm10 10l.94 2.06.94-2.06 2.06-.94-2.06-.94-.94-2.06-.94 2.06-2.06.94z\"/><path d=\"M17.41 7.96l-1.37-1.37c-.4-.4-.92-.59-1.43-.59-.52 0-1.04.2-1.43.59L10.3 9.45l-7.72 7.72c-.78.78-.78 2.05 0 2.83L4 21.41c.39.39.9.59 1.41.59.51 0 1.02-.2 1.41-.59l7.78-7.78 2.81-2.81c.8-.78.8-2.07 0-2.86zM5.41 20L4 18.59l7.72-7.72 1.47 1.35L5.41 20z\"/>\n",
              "  </svg>\n",
              "      </button>\n",
              "      \n",
              "  <style>\n",
              "    .colab-df-container {\n",
              "      display:flex;\n",
              "      flex-wrap:wrap;\n",
              "      gap: 12px;\n",
              "    }\n",
              "\n",
              "    .colab-df-convert {\n",
              "      background-color: #E8F0FE;\n",
              "      border: none;\n",
              "      border-radius: 50%;\n",
              "      cursor: pointer;\n",
              "      display: none;\n",
              "      fill: #1967D2;\n",
              "      height: 32px;\n",
              "      padding: 0 0 0 0;\n",
              "      width: 32px;\n",
              "    }\n",
              "\n",
              "    .colab-df-convert:hover {\n",
              "      background-color: #E2EBFA;\n",
              "      box-shadow: 0px 1px 2px rgba(60, 64, 67, 0.3), 0px 1px 3px 1px rgba(60, 64, 67, 0.15);\n",
              "      fill: #174EA6;\n",
              "    }\n",
              "\n",
              "    [theme=dark] .colab-df-convert {\n",
              "      background-color: #3B4455;\n",
              "      fill: #D2E3FC;\n",
              "    }\n",
              "\n",
              "    [theme=dark] .colab-df-convert:hover {\n",
              "      background-color: #434B5C;\n",
              "      box-shadow: 0px 1px 3px 1px rgba(0, 0, 0, 0.15);\n",
              "      filter: drop-shadow(0px 1px 2px rgba(0, 0, 0, 0.3));\n",
              "      fill: #FFFFFF;\n",
              "    }\n",
              "  </style>\n",
              "\n",
              "      <script>\n",
              "        const buttonEl =\n",
              "          document.querySelector('#df-af217546-c6c9-472b-9b7e-6ebebf1340a4 button.colab-df-convert');\n",
              "        buttonEl.style.display =\n",
              "          google.colab.kernel.accessAllowed ? 'block' : 'none';\n",
              "\n",
              "        async function convertToInteractive(key) {\n",
              "          const element = document.querySelector('#df-af217546-c6c9-472b-9b7e-6ebebf1340a4');\n",
              "          const dataTable =\n",
              "            await google.colab.kernel.invokeFunction('convertToInteractive',\n",
              "                                                     [key], {});\n",
              "          if (!dataTable) return;\n",
              "\n",
              "          const docLinkHtml = 'Like what you see? Visit the ' +\n",
              "            '<a target=\"_blank\" href=https://colab.research.google.com/notebooks/data_table.ipynb>data table notebook</a>'\n",
              "            + ' to learn more about interactive tables.';\n",
              "          element.innerHTML = '';\n",
              "          dataTable['output_type'] = 'display_data';\n",
              "          await google.colab.output.renderOutput(dataTable, element);\n",
              "          const docLink = document.createElement('div');\n",
              "          docLink.innerHTML = docLinkHtml;\n",
              "          element.appendChild(docLink);\n",
              "        }\n",
              "      </script>\n",
              "    </div>\n",
              "  </div>\n",
              "  "
            ],
            "text/plain": [
              "    age  gender   review education purchased\n",
              "1    68  Female     Poor        UG        No\n",
              "42   30  Female     Good        PG       Yes\n",
              "34   86    Male  Average    School        No\n",
              "45   61    Male     Poor        PG       Yes\n",
              "40   39    Male     Good    School        No"
            ]
          },
          "metadata": {},
          "execution_count": 5
        }
      ]
    },
    {
      "cell_type": "markdown",
      "source": [
        "#### gender - nominal\n",
        "#### review - ordinal\n",
        "#### purchased - nominal\n",
        "#### education - ordinal"
      ],
      "metadata": {
        "id": "AXvWOtFgdeKT"
      }
    },
    {
      "cell_type": "code",
      "source": [
        "# we will ignore age and gender for now\n",
        "df = df.iloc[:,2:]"
      ],
      "metadata": {
        "id": "29VUr4DHdYqs"
      },
      "execution_count": 6,
      "outputs": []
    },
    {
      "cell_type": "code",
      "source": [
        "df.head()"
      ],
      "metadata": {
        "colab": {
          "base_uri": "https://localhost:8080/",
          "height": 206
        },
        "id": "O5B_pR1Wd6TJ",
        "outputId": "193d75e7-969d-4473-f425-5780c52c49eb"
      },
      "execution_count": 7,
      "outputs": [
        {
          "output_type": "execute_result",
          "data": {
            "text/html": [
              "\n",
              "  <div id=\"df-94147d9b-680e-4a1b-aa9e-b7f1207ba7be\">\n",
              "    <div class=\"colab-df-container\">\n",
              "      <div>\n",
              "<style scoped>\n",
              "    .dataframe tbody tr th:only-of-type {\n",
              "        vertical-align: middle;\n",
              "    }\n",
              "\n",
              "    .dataframe tbody tr th {\n",
              "        vertical-align: top;\n",
              "    }\n",
              "\n",
              "    .dataframe thead th {\n",
              "        text-align: right;\n",
              "    }\n",
              "</style>\n",
              "<table border=\"1\" class=\"dataframe\">\n",
              "  <thead>\n",
              "    <tr style=\"text-align: right;\">\n",
              "      <th></th>\n",
              "      <th>review</th>\n",
              "      <th>education</th>\n",
              "      <th>purchased</th>\n",
              "    </tr>\n",
              "  </thead>\n",
              "  <tbody>\n",
              "    <tr>\n",
              "      <th>0</th>\n",
              "      <td>Average</td>\n",
              "      <td>School</td>\n",
              "      <td>No</td>\n",
              "    </tr>\n",
              "    <tr>\n",
              "      <th>1</th>\n",
              "      <td>Poor</td>\n",
              "      <td>UG</td>\n",
              "      <td>No</td>\n",
              "    </tr>\n",
              "    <tr>\n",
              "      <th>2</th>\n",
              "      <td>Good</td>\n",
              "      <td>PG</td>\n",
              "      <td>No</td>\n",
              "    </tr>\n",
              "    <tr>\n",
              "      <th>3</th>\n",
              "      <td>Good</td>\n",
              "      <td>PG</td>\n",
              "      <td>No</td>\n",
              "    </tr>\n",
              "    <tr>\n",
              "      <th>4</th>\n",
              "      <td>Average</td>\n",
              "      <td>UG</td>\n",
              "      <td>No</td>\n",
              "    </tr>\n",
              "  </tbody>\n",
              "</table>\n",
              "</div>\n",
              "      <button class=\"colab-df-convert\" onclick=\"convertToInteractive('df-94147d9b-680e-4a1b-aa9e-b7f1207ba7be')\"\n",
              "              title=\"Convert this dataframe to an interactive table.\"\n",
              "              style=\"display:none;\">\n",
              "        \n",
              "  <svg xmlns=\"http://www.w3.org/2000/svg\" height=\"24px\"viewBox=\"0 0 24 24\"\n",
              "       width=\"24px\">\n",
              "    <path d=\"M0 0h24v24H0V0z\" fill=\"none\"/>\n",
              "    <path d=\"M18.56 5.44l.94 2.06.94-2.06 2.06-.94-2.06-.94-.94-2.06-.94 2.06-2.06.94zm-11 1L8.5 8.5l.94-2.06 2.06-.94-2.06-.94L8.5 2.5l-.94 2.06-2.06.94zm10 10l.94 2.06.94-2.06 2.06-.94-2.06-.94-.94-2.06-.94 2.06-2.06.94z\"/><path d=\"M17.41 7.96l-1.37-1.37c-.4-.4-.92-.59-1.43-.59-.52 0-1.04.2-1.43.59L10.3 9.45l-7.72 7.72c-.78.78-.78 2.05 0 2.83L4 21.41c.39.39.9.59 1.41.59.51 0 1.02-.2 1.41-.59l7.78-7.78 2.81-2.81c.8-.78.8-2.07 0-2.86zM5.41 20L4 18.59l7.72-7.72 1.47 1.35L5.41 20z\"/>\n",
              "  </svg>\n",
              "      </button>\n",
              "      \n",
              "  <style>\n",
              "    .colab-df-container {\n",
              "      display:flex;\n",
              "      flex-wrap:wrap;\n",
              "      gap: 12px;\n",
              "    }\n",
              "\n",
              "    .colab-df-convert {\n",
              "      background-color: #E8F0FE;\n",
              "      border: none;\n",
              "      border-radius: 50%;\n",
              "      cursor: pointer;\n",
              "      display: none;\n",
              "      fill: #1967D2;\n",
              "      height: 32px;\n",
              "      padding: 0 0 0 0;\n",
              "      width: 32px;\n",
              "    }\n",
              "\n",
              "    .colab-df-convert:hover {\n",
              "      background-color: #E2EBFA;\n",
              "      box-shadow: 0px 1px 2px rgba(60, 64, 67, 0.3), 0px 1px 3px 1px rgba(60, 64, 67, 0.15);\n",
              "      fill: #174EA6;\n",
              "    }\n",
              "\n",
              "    [theme=dark] .colab-df-convert {\n",
              "      background-color: #3B4455;\n",
              "      fill: #D2E3FC;\n",
              "    }\n",
              "\n",
              "    [theme=dark] .colab-df-convert:hover {\n",
              "      background-color: #434B5C;\n",
              "      box-shadow: 0px 1px 3px 1px rgba(0, 0, 0, 0.15);\n",
              "      filter: drop-shadow(0px 1px 2px rgba(0, 0, 0, 0.3));\n",
              "      fill: #FFFFFF;\n",
              "    }\n",
              "  </style>\n",
              "\n",
              "      <script>\n",
              "        const buttonEl =\n",
              "          document.querySelector('#df-94147d9b-680e-4a1b-aa9e-b7f1207ba7be button.colab-df-convert');\n",
              "        buttonEl.style.display =\n",
              "          google.colab.kernel.accessAllowed ? 'block' : 'none';\n",
              "\n",
              "        async function convertToInteractive(key) {\n",
              "          const element = document.querySelector('#df-94147d9b-680e-4a1b-aa9e-b7f1207ba7be');\n",
              "          const dataTable =\n",
              "            await google.colab.kernel.invokeFunction('convertToInteractive',\n",
              "                                                     [key], {});\n",
              "          if (!dataTable) return;\n",
              "\n",
              "          const docLinkHtml = 'Like what you see? Visit the ' +\n",
              "            '<a target=\"_blank\" href=https://colab.research.google.com/notebooks/data_table.ipynb>data table notebook</a>'\n",
              "            + ' to learn more about interactive tables.';\n",
              "          element.innerHTML = '';\n",
              "          dataTable['output_type'] = 'display_data';\n",
              "          await google.colab.output.renderOutput(dataTable, element);\n",
              "          const docLink = document.createElement('div');\n",
              "          docLink.innerHTML = docLinkHtml;\n",
              "          element.appendChild(docLink);\n",
              "        }\n",
              "      </script>\n",
              "    </div>\n",
              "  </div>\n",
              "  "
            ],
            "text/plain": [
              "    review education purchased\n",
              "0  Average    School        No\n",
              "1     Poor        UG        No\n",
              "2     Good        PG        No\n",
              "3     Good        PG        No\n",
              "4  Average        UG        No"
            ]
          },
          "metadata": {},
          "execution_count": 7
        }
      ]
    },
    {
      "cell_type": "code",
      "source": [
        "from sklearn.model_selection import train_test_split\n",
        "\n",
        "X_train, X_test, y_train, y_test = train_test_split(df.iloc[:, 0:2], df.iloc[:,-1], test_size=0.2)"
      ],
      "metadata": {
        "id": "C2jlA5itd7E_"
      },
      "execution_count": 9,
      "outputs": []
    },
    {
      "cell_type": "code",
      "source": [
        "X_train.shape, X_test.shape"
      ],
      "metadata": {
        "colab": {
          "base_uri": "https://localhost:8080/"
        },
        "id": "cVu89UsWeOWX",
        "outputId": "67e76c2b-3f12-4727-9d0c-e4e3b1fe1417"
      },
      "execution_count": 10,
      "outputs": [
        {
          "output_type": "execute_result",
          "data": {
            "text/plain": [
              "((40, 2), (10, 2))"
            ]
          },
          "metadata": {},
          "execution_count": 10
        }
      ]
    },
    {
      "cell_type": "code",
      "source": [
        "X_train.head()"
      ],
      "metadata": {
        "colab": {
          "base_uri": "https://localhost:8080/",
          "height": 206
        },
        "id": "4o-VX7ODeWgH",
        "outputId": "1c4c4bb4-822b-4103-f8fe-dece30d91b82"
      },
      "execution_count": 12,
      "outputs": [
        {
          "output_type": "execute_result",
          "data": {
            "text/html": [
              "\n",
              "  <div id=\"df-016469b7-7f47-4ed7-b31e-b1dcf2f91970\">\n",
              "    <div class=\"colab-df-container\">\n",
              "      <div>\n",
              "<style scoped>\n",
              "    .dataframe tbody tr th:only-of-type {\n",
              "        vertical-align: middle;\n",
              "    }\n",
              "\n",
              "    .dataframe tbody tr th {\n",
              "        vertical-align: top;\n",
              "    }\n",
              "\n",
              "    .dataframe thead th {\n",
              "        text-align: right;\n",
              "    }\n",
              "</style>\n",
              "<table border=\"1\" class=\"dataframe\">\n",
              "  <thead>\n",
              "    <tr style=\"text-align: right;\">\n",
              "      <th></th>\n",
              "      <th>review</th>\n",
              "      <th>education</th>\n",
              "    </tr>\n",
              "  </thead>\n",
              "  <tbody>\n",
              "    <tr>\n",
              "      <th>19</th>\n",
              "      <td>Poor</td>\n",
              "      <td>PG</td>\n",
              "    </tr>\n",
              "    <tr>\n",
              "      <th>4</th>\n",
              "      <td>Average</td>\n",
              "      <td>UG</td>\n",
              "    </tr>\n",
              "    <tr>\n",
              "      <th>31</th>\n",
              "      <td>Poor</td>\n",
              "      <td>School</td>\n",
              "    </tr>\n",
              "    <tr>\n",
              "      <th>11</th>\n",
              "      <td>Good</td>\n",
              "      <td>UG</td>\n",
              "    </tr>\n",
              "    <tr>\n",
              "      <th>30</th>\n",
              "      <td>Average</td>\n",
              "      <td>UG</td>\n",
              "    </tr>\n",
              "  </tbody>\n",
              "</table>\n",
              "</div>\n",
              "      <button class=\"colab-df-convert\" onclick=\"convertToInteractive('df-016469b7-7f47-4ed7-b31e-b1dcf2f91970')\"\n",
              "              title=\"Convert this dataframe to an interactive table.\"\n",
              "              style=\"display:none;\">\n",
              "        \n",
              "  <svg xmlns=\"http://www.w3.org/2000/svg\" height=\"24px\"viewBox=\"0 0 24 24\"\n",
              "       width=\"24px\">\n",
              "    <path d=\"M0 0h24v24H0V0z\" fill=\"none\"/>\n",
              "    <path d=\"M18.56 5.44l.94 2.06.94-2.06 2.06-.94-2.06-.94-.94-2.06-.94 2.06-2.06.94zm-11 1L8.5 8.5l.94-2.06 2.06-.94-2.06-.94L8.5 2.5l-.94 2.06-2.06.94zm10 10l.94 2.06.94-2.06 2.06-.94-2.06-.94-.94-2.06-.94 2.06-2.06.94z\"/><path d=\"M17.41 7.96l-1.37-1.37c-.4-.4-.92-.59-1.43-.59-.52 0-1.04.2-1.43.59L10.3 9.45l-7.72 7.72c-.78.78-.78 2.05 0 2.83L4 21.41c.39.39.9.59 1.41.59.51 0 1.02-.2 1.41-.59l7.78-7.78 2.81-2.81c.8-.78.8-2.07 0-2.86zM5.41 20L4 18.59l7.72-7.72 1.47 1.35L5.41 20z\"/>\n",
              "  </svg>\n",
              "      </button>\n",
              "      \n",
              "  <style>\n",
              "    .colab-df-container {\n",
              "      display:flex;\n",
              "      flex-wrap:wrap;\n",
              "      gap: 12px;\n",
              "    }\n",
              "\n",
              "    .colab-df-convert {\n",
              "      background-color: #E8F0FE;\n",
              "      border: none;\n",
              "      border-radius: 50%;\n",
              "      cursor: pointer;\n",
              "      display: none;\n",
              "      fill: #1967D2;\n",
              "      height: 32px;\n",
              "      padding: 0 0 0 0;\n",
              "      width: 32px;\n",
              "    }\n",
              "\n",
              "    .colab-df-convert:hover {\n",
              "      background-color: #E2EBFA;\n",
              "      box-shadow: 0px 1px 2px rgba(60, 64, 67, 0.3), 0px 1px 3px 1px rgba(60, 64, 67, 0.15);\n",
              "      fill: #174EA6;\n",
              "    }\n",
              "\n",
              "    [theme=dark] .colab-df-convert {\n",
              "      background-color: #3B4455;\n",
              "      fill: #D2E3FC;\n",
              "    }\n",
              "\n",
              "    [theme=dark] .colab-df-convert:hover {\n",
              "      background-color: #434B5C;\n",
              "      box-shadow: 0px 1px 3px 1px rgba(0, 0, 0, 0.15);\n",
              "      filter: drop-shadow(0px 1px 2px rgba(0, 0, 0, 0.3));\n",
              "      fill: #FFFFFF;\n",
              "    }\n",
              "  </style>\n",
              "\n",
              "      <script>\n",
              "        const buttonEl =\n",
              "          document.querySelector('#df-016469b7-7f47-4ed7-b31e-b1dcf2f91970 button.colab-df-convert');\n",
              "        buttonEl.style.display =\n",
              "          google.colab.kernel.accessAllowed ? 'block' : 'none';\n",
              "\n",
              "        async function convertToInteractive(key) {\n",
              "          const element = document.querySelector('#df-016469b7-7f47-4ed7-b31e-b1dcf2f91970');\n",
              "          const dataTable =\n",
              "            await google.colab.kernel.invokeFunction('convertToInteractive',\n",
              "                                                     [key], {});\n",
              "          if (!dataTable) return;\n",
              "\n",
              "          const docLinkHtml = 'Like what you see? Visit the ' +\n",
              "            '<a target=\"_blank\" href=https://colab.research.google.com/notebooks/data_table.ipynb>data table notebook</a>'\n",
              "            + ' to learn more about interactive tables.';\n",
              "          element.innerHTML = '';\n",
              "          dataTable['output_type'] = 'display_data';\n",
              "          await google.colab.output.renderOutput(dataTable, element);\n",
              "          const docLink = document.createElement('div');\n",
              "          docLink.innerHTML = docLinkHtml;\n",
              "          element.appendChild(docLink);\n",
              "        }\n",
              "      </script>\n",
              "    </div>\n",
              "  </div>\n",
              "  "
            ],
            "text/plain": [
              "     review education\n",
              "19     Poor        PG\n",
              "4   Average        UG\n",
              "31     Poor    School\n",
              "11     Good        UG\n",
              "30  Average        UG"
            ]
          },
          "metadata": {},
          "execution_count": 12
        }
      ]
    },
    {
      "cell_type": "code",
      "source": [
        "from sklearn.preprocessing import OrdinalEncoder\n",
        "\n",
        "oe = OrdinalEncoder(categories=[[\"Poor\", \"Average\", \"Good\"], [\"School\", \"UG\", \"PG\"]])\n",
        "# categories are to be given in ascending order of importance"
      ],
      "metadata": {
        "id": "0VsFhJPPeZjf"
      },
      "execution_count": 15,
      "outputs": []
    },
    {
      "cell_type": "code",
      "source": [
        "X_train = oe.fit_transform(X_train)"
      ],
      "metadata": {
        "id": "tC4IJErTe19r"
      },
      "execution_count": 17,
      "outputs": []
    },
    {
      "cell_type": "code",
      "source": [
        "X_test = oe.transform(X_test)"
      ],
      "metadata": {
        "id": "93vQQtUSe7mX"
      },
      "execution_count": 18,
      "outputs": []
    },
    {
      "cell_type": "code",
      "source": [
        "X_train[:5]"
      ],
      "metadata": {
        "colab": {
          "base_uri": "https://localhost:8080/"
        },
        "id": "xwB3kjrzfH1R",
        "outputId": "874a9308-cabd-4dd5-b676-b8ac7a8fafac"
      },
      "execution_count": 21,
      "outputs": [
        {
          "output_type": "execute_result",
          "data": {
            "text/plain": [
              "array([[0., 2.],\n",
              "       [1., 1.],\n",
              "       [0., 0.],\n",
              "       [2., 1.],\n",
              "       [1., 1.]])"
            ]
          },
          "metadata": {},
          "execution_count": 21
        }
      ]
    },
    {
      "cell_type": "code",
      "source": [
        "oe.categories_"
      ],
      "metadata": {
        "colab": {
          "base_uri": "https://localhost:8080/"
        },
        "id": "BWkoTl-LfKtk",
        "outputId": "0e57a1a5-7c00-4725-a855-f1e31b1ea0a7"
      },
      "execution_count": 22,
      "outputs": [
        {
          "output_type": "execute_result",
          "data": {
            "text/plain": [
              "[array(['Poor', 'Average', 'Good'], dtype=object),\n",
              " array(['School', 'UG', 'PG'], dtype=object)]"
            ]
          },
          "metadata": {},
          "execution_count": 22
        }
      ]
    },
    {
      "cell_type": "markdown",
      "source": [
        "# Never use LabelEncoder for input columns(i.e. X)\n",
        "# It's explicit for target values(i.e. y) and not for inputs."
      ],
      "metadata": {
        "id": "ooKZ7nbrf2eB"
      }
    },
    {
      "cell_type": "code",
      "source": [
        " from sklearn.preprocessing import LabelEncoder\n",
        "\n",
        " le = LabelEncoder()"
      ],
      "metadata": {
        "id": "wOVj1wqkftFK"
      },
      "execution_count": 23,
      "outputs": []
    },
    {
      "cell_type": "code",
      "source": [
        "le.fit(y_train)"
      ],
      "metadata": {
        "colab": {
          "base_uri": "https://localhost:8080/"
        },
        "id": "hUTJdmzQgOur",
        "outputId": "1e8b37d5-0905-4d14-ea0a-011c1d9ce0b4"
      },
      "execution_count": 24,
      "outputs": [
        {
          "output_type": "execute_result",
          "data": {
            "text/plain": [
              "LabelEncoder()"
            ]
          },
          "metadata": {},
          "execution_count": 24
        }
      ]
    },
    {
      "cell_type": "code",
      "source": [
        "le.classes_"
      ],
      "metadata": {
        "colab": {
          "base_uri": "https://localhost:8080/"
        },
        "id": "NKvJSRSrgRfi",
        "outputId": "87667d29-1e38-4cb6-e11b-a66494d2eaac"
      },
      "execution_count": 25,
      "outputs": [
        {
          "output_type": "execute_result",
          "data": {
            "text/plain": [
              "array(['No', 'Yes'], dtype=object)"
            ]
          },
          "metadata": {},
          "execution_count": 25
        }
      ]
    },
    {
      "cell_type": "code",
      "source": [
        "y_train = le.transform(y_train)\n",
        "y_test = le.transform(y_test)"
      ],
      "metadata": {
        "id": "P_7r1eFogSks"
      },
      "execution_count": 26,
      "outputs": []
    },
    {
      "cell_type": "code",
      "source": [
        "y_train[:5]"
      ],
      "metadata": {
        "colab": {
          "base_uri": "https://localhost:8080/"
        },
        "id": "9RTSgRdTgckH",
        "outputId": "6e12ef02-54eb-4053-a0a4-c711ee554691"
      },
      "execution_count": 28,
      "outputs": [
        {
          "output_type": "execute_result",
          "data": {
            "text/plain": [
              "array([1, 0, 1, 1, 0])"
            ]
          },
          "metadata": {},
          "execution_count": 28
        }
      ]
    },
    {
      "cell_type": "code",
      "source": [
        ""
      ],
      "metadata": {
        "id": "j2524SNBgfoc"
      },
      "execution_count": null,
      "outputs": []
    }
  ]
}
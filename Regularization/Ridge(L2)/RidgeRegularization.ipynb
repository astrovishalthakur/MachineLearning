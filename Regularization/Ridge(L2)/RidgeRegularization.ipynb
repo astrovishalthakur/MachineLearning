{
  "nbformat": 4,
  "nbformat_minor": 0,
  "metadata": {
    "colab": {
      "name": "RidgeRegularization.ipynb",
      "provenance": [],
      "authorship_tag": "ABX9TyP4JyeXlzXxz/Zn9+aHu1Z0",
      "include_colab_link": true
    },
    "kernelspec": {
      "name": "python3",
      "display_name": "Python 3"
    },
    "language_info": {
      "name": "python"
    }
  },
  "cells": [
    {
      "cell_type": "markdown",
      "metadata": {
        "id": "view-in-github",
        "colab_type": "text"
      },
      "source": [
        "<a href=\"https://colab.research.google.com/github/astrovishalthakur/MachineLearning/blob/main/Regularization/Ridge(L2)/RidgeRegularization.ipynb\" target=\"_parent\"><img src=\"https://colab.research.google.com/assets/colab-badge.svg\" alt=\"Open In Colab\"/></a>"
      ]
    },
    {
      "cell_type": "code",
      "execution_count": 1,
      "metadata": {
        "colab": {
          "base_uri": "https://localhost:8080/"
        },
        "id": "gYagFzwczgop",
        "outputId": "d082f9c3-fc4e-459b-9285-af3a8d050b82"
      },
      "outputs": [
        {
          "output_type": "stream",
          "name": "stdout",
          "text": [
            ".. _diabetes_dataset:\n",
            "\n",
            "Diabetes dataset\n",
            "----------------\n",
            "\n",
            "Ten baseline variables, age, sex, body mass index, average blood\n",
            "pressure, and six blood serum measurements were obtained for each of n =\n",
            "442 diabetes patients, as well as the response of interest, a\n",
            "quantitative measure of disease progression one year after baseline.\n",
            "\n",
            "**Data Set Characteristics:**\n",
            "\n",
            "  :Number of Instances: 442\n",
            "\n",
            "  :Number of Attributes: First 10 columns are numeric predictive values\n",
            "\n",
            "  :Target: Column 11 is a quantitative measure of disease progression one year after baseline\n",
            "\n",
            "  :Attribute Information:\n",
            "      - age     age in years\n",
            "      - sex\n",
            "      - bmi     body mass index\n",
            "      - bp      average blood pressure\n",
            "      - s1      tc, total serum cholesterol\n",
            "      - s2      ldl, low-density lipoproteins\n",
            "      - s3      hdl, high-density lipoproteins\n",
            "      - s4      tch, total cholesterol / HDL\n",
            "      - s5      ltg, possibly log of serum triglycerides level\n",
            "      - s6      glu, blood sugar level\n",
            "\n",
            "Note: Each of these 10 feature variables have been mean centered and scaled by the standard deviation times `n_samples` (i.e. the sum of squares of each column totals 1).\n",
            "\n",
            "Source URL:\n",
            "https://www4.stat.ncsu.edu/~boos/var.select/diabetes.html\n",
            "\n",
            "For more information see:\n",
            "Bradley Efron, Trevor Hastie, Iain Johnstone and Robert Tibshirani (2004) \"Least Angle Regression,\" Annals of Statistics (with discussion), 407-499.\n",
            "(https://web.stanford.edu/~hastie/Papers/LARS/LeastAngle_2002.pdf)\n"
          ]
        }
      ],
      "source": [
        "import numpy as np\n",
        "import pandas as pd\n",
        "import matplotlib.pyplot as plt\n",
        "from sklearn.datasets import load_diabetes\n",
        "\n",
        "data=load_diabetes()\n",
        "print(data.DESCR)"
      ]
    },
    {
      "cell_type": "code",
      "source": [
        "X=data.data\n",
        "y=data.target\n",
        "\n",
        "\n",
        "from sklearn.model_selection import train_test_split\n",
        "\n",
        "X_train,X_test,y_train,y_test=train_test_split(X,y,test_size=0.2,random_state=45)\n",
        "\n",
        "from sklearn.linear_model import LinearRegression\n",
        "\n",
        "L=LinearRegression()\n",
        "L.fit(X_train,y_train)"
      ],
      "metadata": {
        "colab": {
          "base_uri": "https://localhost:8080/"
        },
        "id": "wkR--tVtzmG3",
        "outputId": "1f834228-ba64-461f-e001-d73aa2260076"
      },
      "execution_count": 2,
      "outputs": [
        {
          "output_type": "execute_result",
          "data": {
            "text/plain": [
              "LinearRegression()"
            ]
          },
          "metadata": {},
          "execution_count": 2
        }
      ]
    },
    {
      "cell_type": "code",
      "source": [
        "print(L.coef_)\n",
        "print(L.intercept_)"
      ],
      "metadata": {
        "colab": {
          "base_uri": "https://localhost:8080/"
        },
        "id": "cjvlCKPGzzAO",
        "outputId": "f334f7ac-2742-4252-ed99-537b42389991"
      },
      "execution_count": 3,
      "outputs": [
        {
          "output_type": "stream",
          "name": "stdout",
          "text": [
            "[  23.45388514 -247.43107084  492.10188174  329.36498638 -970.79784704\n",
            "  573.54460121  182.41386124  255.9162021   794.21654496   89.32074078]\n",
            "152.13619339070766\n"
          ]
        }
      ]
    },
    {
      "cell_type": "code",
      "source": [
        "y_pred=L.predict(X_test)\n",
        "from sklearn.metrics import r2_score,mean_squared_error\n",
        "\n",
        "print(\"R2 score\",r2_score(y_test,y_pred))\n",
        "print(\"RMSE\",np.sqrt(mean_squared_error(y_test,y_pred)))"
      ],
      "metadata": {
        "colab": {
          "base_uri": "https://localhost:8080/"
        },
        "id": "PpHqVirlz1nM",
        "outputId": "1f8d0aae-f8cb-4a7e-85b4-5b3efddc9aa7"
      },
      "execution_count": 4,
      "outputs": [
        {
          "output_type": "stream",
          "name": "stdout",
          "text": [
            "R2 score 0.5188118914964637\n",
            "RMSE 48.72710829141399\n"
          ]
        }
      ]
    },
    {
      "cell_type": "code",
      "source": [
        "from sklearn.linear_model import Ridge\n",
        "R=Ridge(alpha=0.01)"
      ],
      "metadata": {
        "id": "jpXhzV73z6f2"
      },
      "execution_count": 15,
      "outputs": []
    },
    {
      "cell_type": "code",
      "source": [
        "R.fit(X_train,y_train)"
      ],
      "metadata": {
        "colab": {
          "base_uri": "https://localhost:8080/"
        },
        "id": "H7X_lmT-0FVN",
        "outputId": "6edd5ad2-22c0-499a-dbb8-be8e93580b61"
      },
      "execution_count": 16,
      "outputs": [
        {
          "output_type": "execute_result",
          "data": {
            "text/plain": [
              "Ridge(alpha=0.01)"
            ]
          },
          "metadata": {},
          "execution_count": 16
        }
      ]
    },
    {
      "cell_type": "code",
      "source": [
        "print(R.coef_)\n",
        "print(R.intercept_)"
      ],
      "metadata": {
        "colab": {
          "base_uri": "https://localhost:8080/"
        },
        "id": "fiqYkJVw0ILW",
        "outputId": "30ba80dd-2a8b-42a7-b836-d2b73e96f673"
      },
      "execution_count": 17,
      "outputs": [
        {
          "output_type": "stream",
          "name": "stdout",
          "text": [
            "[  26.26115548 -240.40253671  496.56914368  326.66721626 -420.97810687\n",
            "  137.88839894  -53.06426072  194.21969372  581.44815164   94.31237978]\n",
            "152.0832695715347\n"
          ]
        }
      ]
    },
    {
      "cell_type": "code",
      "source": [
        "y_pred1=R.predict(X_test)\n",
        "\n",
        "print(\"R2 score\",r2_score(y_test,y_pred1))\n",
        "print(\"RMSE\",np.sqrt(mean_squared_error(y_test,y_pred1)))"
      ],
      "metadata": {
        "colab": {
          "base_uri": "https://localhost:8080/"
        },
        "id": "IAzlMjn_0M-0",
        "outputId": "247947ee-aa45-413b-c0cf-85db9f6bd32c"
      },
      "execution_count": 18,
      "outputs": [
        {
          "output_type": "stream",
          "name": "stdout",
          "text": [
            "R2 score 0.5230848310448113\n",
            "RMSE 48.510278044903316\n"
          ]
        }
      ]
    },
    {
      "cell_type": "code",
      "source": [
        "m = 100\n",
        "x1 = 5 * np.random.rand(m, 1) - 2\n",
        "x2 = 0.7 * x1 ** 2 - 2 * x1 + 3 + np.random.randn(m, 1)\n",
        "\n",
        "plt.scatter(x1, x2)\n",
        "plt.show()"
      ],
      "metadata": {
        "colab": {
          "base_uri": "https://localhost:8080/",
          "height": 265
        },
        "id": "JswXz6KI0SWA",
        "outputId": "108f5fa1-67c8-4cdc-90b1-5d8e36dcf8d1"
      },
      "execution_count": 19,
      "outputs": [
        {
          "output_type": "display_data",
          "data": {
            "image/png": "[encoded data removed]",
            "text/plain": [
              "<Figure size 432x288 with 1 Axes>"
            ]
          },
          "metadata": {
            "needs_background": "light"
          }
        }
      ]
    },
    {
      "cell_type": "code",
      "source": [
        "from sklearn.pipeline import Pipeline\n",
        "from sklearn.preprocessing import PolynomialFeatures\n",
        "\n",
        "def get_preds_ridge(x1, x2, alpha):\n",
        "    model = Pipeline([\n",
        "        ('poly_feats', PolynomialFeatures(degree=16)),\n",
        "        ('ridge', Ridge(alpha=alpha))\n",
        "    ])\n",
        "    model.fit(x1, x2)\n",
        "    return model.predict(x1)\n",
        "\n",
        "alphas = [0, 20, 200]\n",
        "cs = ['r', 'g', 'b']\n",
        "\n",
        "plt.figure(figsize=(10, 6))\n",
        "plt.plot(x1, x2, 'b+', label='Datapoints')\n",
        "\n",
        "for alpha, c in zip(alphas, cs):\n",
        "    preds = get_preds_ridge(x1, x2, alpha)\n",
        "    # Plot\n",
        "    plt.plot(sorted(x1[:, 0]), preds[np.argsort(x1[:, 0])], c, label='Alpha: {}'.format(alpha))\n",
        "\n",
        "plt.legend()\n",
        "plt.show()"
      ],
      "metadata": {
        "colab": {
          "base_uri": "https://localhost:8080/",
          "height": 374
        },
        "id": "MNAuogBz0YAE",
        "outputId": "58e6d312-b28e-4c17-8982-53f2d2745ae0"
      },
      "execution_count": 10,
      "outputs": [
        {
          "output_type": "display_data",
          "data": {
            "image/png": "[encoded data removed]",
            "text/plain": [
              "<Figure size 720x432 with 1 Axes>"
            ]
          },
          "metadata": {
            "needs_background": "light"
          }
        }
      ]
    },
    {
      "cell_type": "code",
      "source": [
        ""
      ],
      "metadata": {
        "id": "RAUOU2u60eUf"
      },
      "execution_count": null,
      "outputs": []
    }
  ]
}
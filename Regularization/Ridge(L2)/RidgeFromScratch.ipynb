{
  "nbformat": 4,
  "nbformat_minor": 0,
  "metadata": {
    "colab": {
      "name": "RidgeFromScratch.ipynb",
      "provenance": [],
      "authorship_tag": "ABX9TyMUaKQvgHsSr0MSfy3y9nOX",
      "include_colab_link": true
    },
    "kernelspec": {
      "name": "python3",
      "display_name": "Python 3"
    },
    "language_info": {
      "name": "python"
    }
  },
  "cells": [
    {
      "cell_type": "markdown",
      "metadata": {
        "id": "view-in-github",
        "colab_type": "text"
      },
      "source": [
        "<a href=\"https://colab.research.google.com/github/astrovishalthakur/MachineLearning/blob/main/Regularization/Ridge(L2)/RidgeFromScratch.ipynb\" target=\"_parent\"><img src=\"https://colab.research.google.com/assets/colab-badge.svg\" alt=\"Open In Colab\"/></a>"
      ]
    },
    {
      "cell_type": "code",
      "execution_count": 1,
      "metadata": {
        "colab": {
          "base_uri": "https://localhost:8080/",
          "height": 283
        },
        "id": "a8TxaQg6_BhR",
        "outputId": "4a25dca4-f055-4d00-b22e-7d1ecc49d423"
      },
      "outputs": [
        {
          "output_type": "execute_result",
          "data": {
            "text/plain": [
              "<matplotlib.collections.PathCollection at 0x7f907a004690>"
            ]
          },
          "metadata": {},
          "execution_count": 1
        },
        {
          "output_type": "display_data",
          "data": {
            "image/png": "[encoded data removed]",
            "text/plain": [
              "<Figure size 432x288 with 1 Axes>"
            ]
          },
          "metadata": {
            "needs_background": "light"
          }
        }
      ],
      "source": [
        "from sklearn.datasets import make_regression\n",
        "import matplotlib.pyplot as plt\n",
        "import numpy as np\n",
        "\n",
        "X,y = make_regression(n_samples=100, n_features=1, n_informative=1, n_targets=1,noise=20,random_state=13)\n",
        "\n",
        "plt.scatter(X,y)"
      ]
    },
    {
      "cell_type": "code",
      "source": [
        "from sklearn.linear_model import LinearRegression\n",
        "lr = LinearRegression()\n",
        "lr.fit(X,y)\n",
        "print(lr.coef_)\n",
        "print(lr.intercept_)"
      ],
      "metadata": {
        "colab": {
          "base_uri": "https://localhost:8080/"
        },
        "id": "y5lkU5kWkUfM",
        "outputId": "6dc7eb40-2565-4927-cbb4-cca148dbb91c"
      },
      "execution_count": 2,
      "outputs": [
        {
          "output_type": "stream",
          "name": "stdout",
          "text": [
            "[27.82809103]\n",
            "-2.29474455867698\n"
          ]
        }
      ]
    },
    {
      "cell_type": "code",
      "source": [
        "from sklearn.linear_model import Ridge\n",
        "\n",
        "rr = Ridge(alpha=10) # we can also pass parameter called solver, which have values like sag, saga, cholesky, etc.\n",
        "rr.fit(X,y)\n",
        "\n",
        "print(rr.coef_)\n",
        "print(rr.intercept_)"
      ],
      "metadata": {
        "colab": {
          "base_uri": "https://localhost:8080/"
        },
        "id": "rDRcshImkWmP",
        "outputId": "9d3f706b-1cb7-4671-a90d-c4bd243404df"
      },
      "execution_count": 4,
      "outputs": [
        {
          "output_type": "stream",
          "name": "stdout",
          "text": [
            "[24.9546267]\n",
            "-2.1269130035235735\n"
          ]
        }
      ]
    },
    {
      "cell_type": "code",
      "source": [
        "rr1 = Ridge(alpha=100)\n",
        "rr1.fit(X,y)\n",
        "print(rr1.coef_)\n",
        "print(rr1.intercept_)"
      ],
      "metadata": {
        "colab": {
          "base_uri": "https://localhost:8080/"
        },
        "id": "6n2WRUs8kZUF",
        "outputId": "50bdc4e7-4854-4e04-de42-60ff51a2746f"
      },
      "execution_count": 5,
      "outputs": [
        {
          "output_type": "stream",
          "name": "stdout",
          "text": [
            "[12.93442104]\n",
            "-1.4248441496033308\n"
          ]
        }
      ]
    },
    {
      "cell_type": "code",
      "source": [
        "plt.plot(X,y,'b.')\n",
        "plt.plot(X,lr.predict(X),color='red',label='alpha=0')\n",
        "plt.plot(X,rr.predict(X),color='green',label='alpha=10')\n",
        "plt.plot(X,rr1.predict(X),color='orange',label='alpha=100')\n",
        "plt.legend()"
      ],
      "metadata": {
        "colab": {
          "base_uri": "https://localhost:8080/",
          "height": 283
        },
        "id": "a4XnoIBOkfvz",
        "outputId": "f6ec9515-d86b-43b8-8fbe-22918b651432"
      },
      "execution_count": 6,
      "outputs": [
        {
          "output_type": "execute_result",
          "data": {
            "text/plain": [
              "<matplotlib.legend.Legend at 0x7f9079f837d0>"
            ]
          },
          "metadata": {},
          "execution_count": 6
        },
        {
          "output_type": "display_data",
          "data": {
            "image/png": "[encoded data removed]",
            "text/plain": [
              "<Figure size 432x288 with 1 Axes>"
            ]
          },
          "metadata": {
            "needs_background": "light"
          }
        }
      ]
    },
    {
      "cell_type": "code",
      "source": [
        "def linear_regression(X,y,alpha=1):\n",
        "    x_mean = X.mean()\n",
        "    y_mean = y.mean()\n",
        "    \n",
        "    num = 0\n",
        "    den = 0\n",
        "    \n",
        "    for i in range(X.shape[0]):\n",
        "        num = num + (y[i] - y_mean) * (X[i] - x_mean)\n",
        "        den = den + (X[i] - x_mean) * (X[i] - x_mean)\n",
        "        \n",
        "    m = num/(den + alpha)\n",
        "    b = y_mean - m*x_mean\n",
        "        \n",
        "    return m,b"
      ],
      "metadata": {
        "id": "-2EGqsnRkjKP"
      },
      "execution_count": 7,
      "outputs": []
    },
    {
      "cell_type": "code",
      "source": [
        "class MeraRidge:\n",
        "    \n",
        "    def __init__(self,alpha=0.1):\n",
        "        self.alpha = alpha\n",
        "        self.m = None\n",
        "        self.b = None\n",
        "        \n",
        "    def fit(self,X_train,y_train):\n",
        "        \n",
        "        num = 0\n",
        "        den = 0\n",
        "        \n",
        "        for i in range(X_train.shape[0]):\n",
        "            num = num + (y_train[i] - y_train.mean())*(X_train[i] - X_train.mean())\n",
        "            den = den + (X_train[i] - X_train.mean())*(X_train[i] - X_train.mean())\n",
        "        \n",
        "        self.m = num/(den + self.alpha)\n",
        "        self.b = y_train.mean() - (self.m*X_train.mean())\n",
        "        print(self.m,self.b)\n",
        "    \n",
        "    def predict(X_test):\n",
        "        pass"
      ],
      "metadata": {
        "id": "2m6TenvZkrG5"
      },
      "execution_count": 8,
      "outputs": []
    },
    {
      "cell_type": "code",
      "source": [
        "reg = MeraRidge(alpha=100)\n",
        "reg.fit(X,y)"
      ],
      "metadata": {
        "colab": {
          "base_uri": "https://localhost:8080/"
        },
        "id": "VLkKNobIkuRU",
        "outputId": "fc38531b-38d5-4c5b-86f5-9aeba3ac75b6"
      },
      "execution_count": 9,
      "outputs": [
        {
          "output_type": "stream",
          "name": "stdout",
          "text": [
            "[12.93442104] [-1.42484415]\n"
          ]
        }
      ]
    },
    {
      "cell_type": "code",
      "source": [
        ""
      ],
      "metadata": {
        "id": "Z9nL3O6yk3vQ"
      },
      "execution_count": null,
      "outputs": []
    }
  ]
}
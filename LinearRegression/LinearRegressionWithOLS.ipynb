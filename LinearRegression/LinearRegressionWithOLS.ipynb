{
  "nbformat": 4,
  "nbformat_minor": 0,
  "metadata": {
    "colab": {
      "provenance": [],
      "authorship_tag": "ABX9TyMYAfPo3gBgUvYbwpXcqvy4",
      "include_colab_link": true
    },
    "kernelspec": {
      "name": "python3",
      "display_name": "Python 3"
    },
    "language_info": {
      "name": "python"
    }
  },
  "cells": [
    {
      "cell_type": "markdown",
      "metadata": {
        "id": "view-in-github",
        "colab_type": "text"
      },
      "source": [
        "<a href=\"https://colab.research.google.com/github/astrovishalthakur/MachineLearning/blob/main/LinearRegression/LinearRegressionWithOLS.ipynb\" target=\"_parent\"><img src=\"https://colab.research.google.com/assets/colab-badge.svg\" alt=\"Open In Colab\"/></a>"
      ]
    },
    {
      "cell_type": "code",
      "execution_count": 8,
      "metadata": {
        "id": "78n6PU6kKtE8"
      },
      "outputs": [],
      "source": [
        "import numpy as np"
      ]
    },
    {
      "cell_type": "code",
      "source": [
        "X = np.arange(0, 1000, 5)\n",
        "delta = np.random.randint(-300, 300, size=(200, ))\n",
        "y = 0.4*X + 6 + delta"
      ],
      "metadata": {
        "id": "pDForAnxK-jC"
      },
      "execution_count": 68,
      "outputs": []
    },
    {
      "cell_type": "code",
      "source": [
        "X"
      ],
      "metadata": {
        "colab": {
          "base_uri": "https://localhost:8080/"
        },
        "id": "1JTZ_TbULLMo",
        "outputId": "f8599b47-f5ae-4749-f7b4-81218a0cf27d"
      },
      "execution_count": 69,
      "outputs": [
        {
          "output_type": "execute_result",
          "data": {
            "text/plain": [
              "array([  0,   5,  10,  15,  20,  25,  30,  35,  40,  45,  50,  55,  60,\n",
              "        65,  70,  75,  80,  85,  90,  95, 100, 105, 110, 115, 120, 125,\n",
              "       130, 135, 140, 145, 150, 155, 160, 165, 170, 175, 180, 185, 190,\n",
              "       195, 200, 205, 210, 215, 220, 225, 230, 235, 240, 245, 250, 255,\n",
              "       260, 265, 270, 275, 280, 285, 290, 295, 300, 305, 310, 315, 320,\n",
              "       325, 330, 335, 340, 345, 350, 355, 360, 365, 370, 375, 380, 385,\n",
              "       390, 395, 400, 405, 410, 415, 420, 425, 430, 435, 440, 445, 450,\n",
              "       455, 460, 465, 470, 475, 480, 485, 490, 495, 500, 505, 510, 515,\n",
              "       520, 525, 530, 535, 540, 545, 550, 555, 560, 565, 570, 575, 580,\n",
              "       585, 590, 595, 600, 605, 610, 615, 620, 625, 630, 635, 640, 645,\n",
              "       650, 655, 660, 665, 670, 675, 680, 685, 690, 695, 700, 705, 710,\n",
              "       715, 720, 725, 730, 735, 740, 745, 750, 755, 760, 765, 770, 775,\n",
              "       780, 785, 790, 795, 800, 805, 810, 815, 820, 825, 830, 835, 840,\n",
              "       845, 850, 855, 860, 865, 870, 875, 880, 885, 890, 895, 900, 905,\n",
              "       910, 915, 920, 925, 930, 935, 940, 945, 950, 955, 960, 965, 970,\n",
              "       975, 980, 985, 990, 995])"
            ]
          },
          "metadata": {},
          "execution_count": 69
        }
      ]
    },
    {
      "cell_type": "code",
      "source": [
        "y"
      ],
      "metadata": {
        "colab": {
          "base_uri": "https://localhost:8080/"
        },
        "id": "z_ai194VLNYR",
        "outputId": "b9c6c67b-1971-4492-c827-c3a0d5097f0f"
      },
      "execution_count": 70,
      "outputs": [
        {
          "output_type": "execute_result",
          "data": {
            "text/plain": [
              "array([-189., -291., -183., -143.,  -56.,   40.,  112.,  -34.,  177.,\n",
              "        322., -106.,  -29.,  -77.,  146., -150.,  147.,  -17.,  -56.,\n",
              "         27.,  221.,  267.,  256., -175.,  -24.,  310., -154.,  222.,\n",
              "        287.,  -98., -230., -183.,  181.,  136.,  223.,   90.,  -40.,\n",
              "         70.,  249.,  -38., -181.,  -13.,  -86., -123.,  229.,  125.,\n",
              "        128.,  189.,    9.,  -80.,  236., -141.,  391.,   35.,  141.,\n",
              "        359.,  -71.,  343.,   38.,   37.,  162.,  324., -151.,  165.,\n",
              "       -133.,  221., -119.,  -55.,  -77.,  222.,  113.,  128.,  221.,\n",
              "        122.,  383., -127.,  -58.,   36.,  128.,  226.,   45.,  121.,\n",
              "        444.,  150.,   66.,   84.,   49.,  275.,   29.,  -48.,  199.,\n",
              "        174.,  244.,  123.,  238.,  -46.,   -2.,  253.,  237.,  371.,\n",
              "        -84.,  159.,   78.,  256.,  495.,  285.,   88.,   38.,  199.,\n",
              "        262.,  515.,    7.,  483.,   57.,  434.,  286.,  136.,  205.,\n",
              "        222.,   25.,  125.,  -53.,  382.,  276.,  240.,  280.,  283.,\n",
              "          6.,  379.,  300.,  201.,  292.,  185.,  482.,  410.,  481.,\n",
              "         -6.,   14.,  459.,  527.,  178.,  560.,  146.,  545.,   87.,\n",
              "        337.,  112.,  111.,  315.,    3.,  367.,  387.,   70.,  261.,\n",
              "        491.,  210.,  577.,  268.,  611.,  167.,  514.,  262.,  421.,\n",
              "        158.,  225.,  192.,  244.,  279.,  238.,  566.,  205.,  109.,\n",
              "         85.,  186.,  231.,  129.,  541.,  424.,  594.,  599.,  407.,\n",
              "        580.,  409.,  241.,  105.,  218.,  258.,  524.,  602.,  343.,\n",
              "        600.,  122.,  285.,  191.,  247.,  344.,  226.,  356.,  171.,\n",
              "        597.,  243.])"
            ]
          },
          "metadata": {},
          "execution_count": 70
        }
      ]
    },
    {
      "cell_type": "code",
      "source": [
        "import matplotlib.pyplot as plt\n",
        "plt.scatter(X, y)"
      ],
      "metadata": {
        "colab": {
          "base_uri": "https://localhost:8080/",
          "height": 282
        },
        "id": "aWQxbyyZL16b",
        "outputId": "edfa3e0b-b68b-4479-ed74-7ea5dfd34066"
      },
      "execution_count": 71,
      "outputs": [
        {
          "output_type": "execute_result",
          "data": {
            "text/plain": [
              "<matplotlib.collections.PathCollection at 0x7facc0b5e8e0>"
            ]
          },
          "metadata": {},
          "execution_count": 71
        },
        {
          "output_type": "display_data",
          "data": {
            "text/plain": [
              "<Figure size 432x288 with 1 Axes>"
            ],
            "image/png": "[encoded data removed]"
          },
          "metadata": {
            "needs_background": "light"
          }
        }
      ]
    },
    {
      "cell_type": "code",
      "source": [
        "X"
      ],
      "metadata": {
        "colab": {
          "base_uri": "https://localhost:8080/"
        },
        "id": "6g7xSFmZQQ_u",
        "outputId": "14de409f-7309-457d-f574-4058654d0f61"
      },
      "execution_count": 103,
      "outputs": [
        {
          "output_type": "execute_result",
          "data": {
            "text/plain": [
              "array([  0,   5,  10,  15,  20,  25,  30,  35,  40,  45,  50,  55,  60,\n",
              "        65,  70,  75,  80,  85,  90,  95, 100, 105, 110, 115, 120, 125,\n",
              "       130, 135, 140, 145, 150, 155, 160, 165, 170, 175, 180, 185, 190,\n",
              "       195, 200, 205, 210, 215, 220, 225, 230, 235, 240, 245, 250, 255,\n",
              "       260, 265, 270, 275, 280, 285, 290, 295, 300, 305, 310, 315, 320,\n",
              "       325, 330, 335, 340, 345, 350, 355, 360, 365, 370, 375, 380, 385,\n",
              "       390, 395, 400, 405, 410, 415, 420, 425, 430, 435, 440, 445, 450,\n",
              "       455, 460, 465, 470, 475, 480, 485, 490, 495, 500, 505, 510, 515,\n",
              "       520, 525, 530, 535, 540, 545, 550, 555, 560, 565, 570, 575, 580,\n",
              "       585, 590, 595, 600, 605, 610, 615, 620, 625, 630, 635, 640, 645,\n",
              "       650, 655, 660, 665, 670, 675, 680, 685, 690, 695, 700, 705, 710,\n",
              "       715, 720, 725, 730, 735, 740, 745, 750, 755, 760, 765, 770, 775,\n",
              "       780, 785, 790, 795, 800, 805, 810, 815, 820, 825, 830, 835, 840,\n",
              "       845, 850, 855, 860, 865, 870, 875, 880, 885, 890, 895, 900, 905,\n",
              "       910, 915, 920, 925, 930, 935, 940, 945, 950, 955, 960, 965, 970,\n",
              "       975, 980, 985, 990, 995])"
            ]
          },
          "metadata": {},
          "execution_count": 103
        }
      ]
    },
    {
      "cell_type": "code",
      "source": [
        "X.reshape(-1, 1)[:5]"
      ],
      "metadata": {
        "colab": {
          "base_uri": "https://localhost:8080/"
        },
        "id": "2tPiuP98URfz",
        "outputId": "3512a63e-ab94-48ed-f5dd-6fd7385359e1"
      },
      "execution_count": 105,
      "outputs": [
        {
          "output_type": "execute_result",
          "data": {
            "text/plain": [
              "array([[ 0],\n",
              "       [ 5],\n",
              "       [10],\n",
              "       [15],\n",
              "       [20]])"
            ]
          },
          "metadata": {},
          "execution_count": 105
        }
      ]
    },
    {
      "cell_type": "code",
      "source": [
        "y.shape"
      ],
      "metadata": {
        "colab": {
          "base_uri": "https://localhost:8080/"
        },
        "id": "SaMaVS0uQUI8",
        "outputId": "b8b5ee56-6bc5-4cad-8cd0-5c81bd123cd5"
      },
      "execution_count": 58,
      "outputs": [
        {
          "output_type": "execute_result",
          "data": {
            "text/plain": [
              "(200,)"
            ]
          },
          "metadata": {},
          "execution_count": 58
        }
      ]
    },
    {
      "cell_type": "code",
      "source": [
        "from sklearn.model_selection import train_test_split"
      ],
      "metadata": {
        "id": "IAxZeJ_qROHD"
      },
      "execution_count": 72,
      "outputs": []
    },
    {
      "cell_type": "code",
      "source": [
        "X_train, X_test, y_train, y_test = train_test_split(X, y, test_size = 0.2, random_state=42)"
      ],
      "metadata": {
        "id": "lUHCjE5aRHkR"
      },
      "execution_count": 73,
      "outputs": []
    },
    {
      "cell_type": "code",
      "source": [
        "X_train.shape"
      ],
      "metadata": {
        "colab": {
          "base_uri": "https://localhost:8080/"
        },
        "id": "mdLMe2JDRaS3",
        "outputId": "b714b2c4-0385-4d19-d9e8-b40627b5b521"
      },
      "execution_count": 74,
      "outputs": [
        {
          "output_type": "execute_result",
          "data": {
            "text/plain": [
              "(160,)"
            ]
          },
          "metadata": {},
          "execution_count": 74
        }
      ]
    },
    {
      "cell_type": "code",
      "source": [
        "X_test.shape"
      ],
      "metadata": {
        "colab": {
          "base_uri": "https://localhost:8080/"
        },
        "id": "Juret59-RdB3",
        "outputId": "751d4ba2-a0b6-4cb5-c1fa-079276346c23"
      },
      "execution_count": 75,
      "outputs": [
        {
          "output_type": "execute_result",
          "data": {
            "text/plain": [
              "(40,)"
            ]
          },
          "metadata": {},
          "execution_count": 75
        }
      ]
    },
    {
      "cell_type": "code",
      "source": [
        "y_train.shape"
      ],
      "metadata": {
        "colab": {
          "base_uri": "https://localhost:8080/"
        },
        "id": "PtuGSE6YSD4Q",
        "outputId": "b21cfaeb-defe-4ed0-9637-8c64d6f4b855"
      },
      "execution_count": 82,
      "outputs": [
        {
          "output_type": "execute_result",
          "data": {
            "text/plain": [
              "(160,)"
            ]
          },
          "metadata": {},
          "execution_count": 82
        }
      ]
    },
    {
      "cell_type": "code",
      "source": [
        "class MeraLR:\n",
        "    def __init__(self):\n",
        "        self.m = None\n",
        "        self.b = None\n",
        "    \n",
        "    def fit(self, X_train, y_train):\n",
        "\n",
        "        num = 0\n",
        "        den = 0\n",
        "\n",
        "        for i in range(X_train.shape[0]):\n",
        "\n",
        "            num = num + (X_train[i] - X_train.mean())*(y_train[i] - y_train.mean())\n",
        "            den = den + (X_train[i] - X_train.mean())**2\n",
        "        \n",
        "        self.m = num/den\n",
        "        self.b = y_train.mean() - (self.m * X_train.mean())\n",
        "\n",
        "        print(self.m)\n",
        "        print(self.b)\n",
        "\n",
        "\n",
        "    def predict(self, X_test):\n",
        "        return self.m*X_test + self.b\n"
      ],
      "metadata": {
        "id": "IK6eUadpLQsg"
      },
      "execution_count": 90,
      "outputs": []
    },
    {
      "cell_type": "code",
      "source": [
        "lr = MeraLR()"
      ],
      "metadata": {
        "id": "S-zdDc_tQfZv"
      },
      "execution_count": 93,
      "outputs": []
    },
    {
      "cell_type": "code",
      "source": [
        "lr.fit(X_train, y_train)"
      ],
      "metadata": {
        "colab": {
          "base_uri": "https://localhost:8080/"
        },
        "id": "UFMr19ARRjr7",
        "outputId": "33f98f0f-9927-4fea-deca-367889b5c4a4"
      },
      "execution_count": 94,
      "outputs": [
        {
          "output_type": "stream",
          "name": "stdout",
          "text": [
            "0.4079844330890261\n",
            "-19.936538541476324\n"
          ]
        }
      ]
    },
    {
      "cell_type": "code",
      "source": [
        "from sklearn.linear_model import LinearRegression"
      ],
      "metadata": {
        "id": "_KF1pjhlRmly"
      },
      "execution_count": 95,
      "outputs": []
    },
    {
      "cell_type": "code",
      "source": [
        "lr2 = LinearRegression()"
      ],
      "metadata": {
        "id": "dfTfukTDR3oF"
      },
      "execution_count": 96,
      "outputs": []
    },
    {
      "cell_type": "code",
      "source": [
        "lr2.fit(X_train.reshape(-1, 1), y_train.reshape(-1, 1))"
      ],
      "metadata": {
        "colab": {
          "base_uri": "https://localhost:8080/"
        },
        "id": "VJM3QNvuR5i5",
        "outputId": "0178a5ee-f789-4dfa-dd81-4a8e6b29f21a"
      },
      "execution_count": 97,
      "outputs": [
        {
          "output_type": "execute_result",
          "data": {
            "text/plain": [
              "LinearRegression()"
            ]
          },
          "metadata": {},
          "execution_count": 97
        }
      ]
    },
    {
      "cell_type": "code",
      "source": [
        "lr2.intercept_"
      ],
      "metadata": {
        "colab": {
          "base_uri": "https://localhost:8080/"
        },
        "id": "4lc3AIy-R9x1",
        "outputId": "afaab02a-6b3b-451a-ea20-67098d5dc267"
      },
      "execution_count": 98,
      "outputs": [
        {
          "output_type": "execute_result",
          "data": {
            "text/plain": [
              "array([-19.93653854])"
            ]
          },
          "metadata": {},
          "execution_count": 98
        }
      ]
    },
    {
      "cell_type": "code",
      "source": [
        "lr2.coef_"
      ],
      "metadata": {
        "colab": {
          "base_uri": "https://localhost:8080/"
        },
        "id": "is7RmQFjTRoE",
        "outputId": "66239437-a8ad-44f8-8699-643941b0d835"
      },
      "execution_count": 99,
      "outputs": [
        {
          "output_type": "execute_result",
          "data": {
            "text/plain": [
              "array([[0.40798443]])"
            ]
          },
          "metadata": {},
          "execution_count": 99
        }
      ]
    },
    {
      "cell_type": "code",
      "source": [
        "y_pred = lr.predict(X_test)"
      ],
      "metadata": {
        "id": "kbpLw6QuTc41"
      },
      "execution_count": 100,
      "outputs": []
    },
    {
      "cell_type": "code",
      "source": [
        "y_pred2 = lr2.predict(X_test.reshape(-1, 1))"
      ],
      "metadata": {
        "id": "CfxtpKthUI2p"
      },
      "execution_count": 102,
      "outputs": []
    },
    {
      "cell_type": "code",
      "source": [
        "from sklearn.metrics import r2_score\n",
        "print(\"Mera Linear Regression \", r2_score(y_pred.reshape(-1, 1), y_test.reshape(-1, 1)))\n",
        "print(\"Official Linear Regression \", r2_score(y_pred2, y_test.reshape(-1, 1)))"
      ],
      "metadata": {
        "colab": {
          "base_uri": "https://localhost:8080/"
        },
        "id": "kjpFmAdYUMTr",
        "outputId": "cc526e32-b6ad-402b-ca10-d1f8b43da53d"
      },
      "execution_count": 109,
      "outputs": [
        {
          "output_type": "stream",
          "name": "stdout",
          "text": [
            "Mera Linear Regression  -1.3712033101639443\n",
            "Official Linear Regression  -1.371203310163955\n"
          ]
        }
      ]
    },
    {
      "cell_type": "code",
      "source": [
        "lr.b"
      ],
      "metadata": {
        "colab": {
          "base_uri": "https://localhost:8080/"
        },
        "id": "MNj8tfOJWr39",
        "outputId": "b076b4b8-4747-4a39-cba2-a5dc7c042378"
      },
      "execution_count": 110,
      "outputs": [
        {
          "output_type": "execute_result",
          "data": {
            "text/plain": [
              "-19.936538541476324"
            ]
          },
          "metadata": {},
          "execution_count": 110
        }
      ]
    },
    {
      "cell_type": "code",
      "source": [
        "lr.m"
      ],
      "metadata": {
        "colab": {
          "base_uri": "https://localhost:8080/"
        },
        "id": "g_nIWj1DXbKJ",
        "outputId": "77499ff1-68d9-4879-c0e5-569bf10c5031"
      },
      "execution_count": 111,
      "outputs": [
        {
          "output_type": "execute_result",
          "data": {
            "text/plain": [
              "0.4079844330890261"
            ]
          },
          "metadata": {},
          "execution_count": 111
        }
      ]
    },
    {
      "cell_type": "code",
      "source": [
        "plt.scatter(X, y)\n",
        "plt.plot(X, lr.m*X + lr.b, c=\"r\" , label=\"Predicted function\")\n",
        "plt.plot(X, 0.4*X + 6, c=\"g\", label=\"True function\")\n",
        "plt.legend()\n",
        "plt.show()"
      ],
      "metadata": {
        "colab": {
          "base_uri": "https://localhost:8080/",
          "height": 265
        },
        "id": "gHiTgLkZXb29",
        "outputId": "26274f5e-b7bb-483c-ebe5-a2034ebc3ed6"
      },
      "execution_count": 116,
      "outputs": [
        {
          "output_type": "display_data",
          "data": {
            "text/plain": [
              "<Figure size 432x288 with 1 Axes>"
            ],
            "image/png": "[encoded data removed]"
          },
          "metadata": {
            "needs_background": "light"
          }
        }
      ]
    },
    {
      "cell_type": "code",
      "source": [],
      "metadata": {
        "id": "jRYRURhUXxb5"
      },
      "execution_count": null,
      "outputs": []
    }
  ]
}